{
  "nbformat": 4,
  "nbformat_minor": 0,
  "metadata": {
    "colab": {
      "name": "Análise Luana.ipynb",
      "version": "0.3.2",
      "provenance": [],
      "collapsed_sections": [],
      "include_colab_link": true
    },
    "kernelspec": {
      "name": "python3",
      "display_name": "Python 3"
    }
  },
  "cells": [
    {
      "cell_type": "markdown",
      "metadata": {
        "id": "view-in-github",
        "colab_type": "text"
      },
      "source": [
        "<a href=\"https://colab.research.google.com/github/repitta/CienciaDeDadosEducacionais/blob/master/An%C3%A1lise_LopUFRN.ipynb\" target=\"_parent\"><img src=\"https://colab.research.google.com/assets/colab-badge.svg\" alt=\"Open In Colab\"/></a>"
      ]
    },
    {
      "cell_type": "code",
      "metadata": {
        "id": "fk7U05-uf72Q",
        "colab_type": "code",
        "colab": {}
      },
      "source": [
        "# These are the library we are going to use\n",
        "import pandas as pd\n",
        "#import matplotlib.pyplot as plt\n",
        "#import seaborn as sns\n",
        "#import numpy as np"
      ],
      "execution_count": 0,
      "outputs": []
    },
    {
      "cell_type": "code",
      "metadata": {
        "id": "FkAvW9zOgFJI",
        "colab_type": "code",
        "colab": {}
      },
      "source": [
        "# Notas finais\n",
        "# Reading the data directly from the Git\n",
        "notas_url = [\"https://github.com/repitta/CienciaDeDadosEducacionais/raw/master/dadosUFRN/notas_discentes_2017.2.csv\",\n",
        "            \"https://github.com/repitta/CienciaDeDadosEducacionais/raw/master/dadosUFRN/notas_discentes_2018.1.csv\",\n",
        "            \"https://github.com/repitta/CienciaDeDadosEducacionais/raw/master/dadosUFRN/notas_discentes_2018.2.csv\",\n",
        "            \"https://github.com/repitta/CienciaDeDadosEducacionais/raw/master/dadosUFRN/notas_discentes_2019.1.csv\"\n",
        "            ]"
      ],
      "execution_count": 0,
      "outputs": []
    },
    {
      "cell_type": "code",
      "metadata": {
        "id": "cMHVqrmxlsyy",
        "colab_type": "code",
        "colab": {}
      },
      "source": [
        "# Notas since 2017.2 until 2019.1\n",
        "notas2017_2 = pd.read_csv(notas_url[0], sep=';', encoding = \"ISO-8859-1\" )\n",
        "notas2018_1 = pd.read_csv(notas_url[1], sep=';', encoding = \"ISO-8859-1\" )\n",
        "notas2018_2 = pd.read_csv(notas_url[2], sep=';', encoding = \"ISO-8859-1\" )\n",
        "notas2019_1 = pd.read_csv(notas_url[3], sep=',', encoding = \"ISO-8859-1\" )"
      ],
      "execution_count": 0,
      "outputs": []
    },
    {
      "cell_type": "code",
      "metadata": {
        "id": "V6cen5FlmkGb",
        "colab_type": "code",
        "colab": {}
      },
      "source": [
        "# Setting priginal data into one vector due to easier manipulation\n",
        "classes =[notas2017_2,notas2018_1, notas2018_2, notas2019_1\n",
        "         ]"
      ],
      "execution_count": 0,
      "outputs": []
    },
    {
      "cell_type": "code",
      "metadata": {
        "id": "v4hl01kAy57J",
        "colab_type": "code",
        "colab": {}
      },
      "source": [
        "# Adding year in each dataframe \n",
        "year = 2017 # The year we decide to start our study\n",
        "for i in range(4):\n",
        "#  classes[i]['ano'] = year\n",
        " # if i%2!=0:\n",
        "  #  year += 1\n",
        "  # Renaming the column for better manipulation\n",
        "  classes[i].rename(columns={'nome': 'disciplina'}, inplace=True)\n",
        "  \n",
        "classes[0]['ano'] = 2017\n",
        "classes[1]['ano'] = 2018\n",
        "classes[2]['ano'] = 2018\n",
        "classes[3]['ano'] = 2019\n",
        "\n",
        "  "
      ],
      "execution_count": 0,
      "outputs": []
    },
    {
      "cell_type": "code",
      "metadata": {
        "id": "haEZ1RyAm-Wx",
        "colab_type": "code",
        "outputId": "0633f440-4a01-4b21-b531-4c183b25b64a",
        "colab": {
          "base_uri": "https://localhost:8080/",
          "height": 119
        }
      },
      "source": [
        "for i in range(4):\n",
        "  # Changing some columns types in this step\n",
        "  classes[i].periodo   =    [i].periodo.astype(str)\n",
        "  classes[i].codigo    = classes[i].codigo.astype(str)\n",
        "  classes[i].disciplina= classes[i].disciplina.astype(str)\n",
        "  classes[i].turma     = classes[i].turma.astype(str)\n",
        "  classes[i].siape     = classes[i].siape.astype(str)\n",
        "  classes[i].horario   = classes[i].horario.astype(str)\n",
        "  classes[i].matricula = classes[i].matricula.astype(int)\n",
        " #classes[i].nota      = classes[i].nota.astype(float) #Não pode converter pq os alunos indeferidos no campo nota tem o simbolo -\n",
        "  classes[i].situacao  = classes[i].situacao.astype(str)\n",
        "  classes[i].ano       = classes[i].ano.astype(str)\n",
        "\n",
        "# Filtro para os dados apenas da disciplina do codigo que tu selecionou\n",
        "  classes[i] = classes[i][ (classes[i]['situacao'] !='EXCLUIDA') & (classes[i]['situacao'] !='INDEFERIDO') & (classes[i]['situacao'] !='CANCELADO') & (classes[i]['situacao'] !='DESISTENCIA') & (classes[i]['situacao'] !='TRANCADO')]\n",
        "  #Concatenar as colunas ano e periodo\n",
        "  classes[i].ano = classes[i]['ano'] + \".\" + classes[i]['periodo']\n",
        "  # transformar a tipo da coluna ano \n",
        "  classes[i].ano       = classes[i].ano.astype(float)"
      ],
      "execution_count": 6,
      "outputs": [
        {
          "output_type": "stream",
          "text": [
            "/usr/local/lib/python3.6/dist-packages/pandas/core/generic.py:5096: SettingWithCopyWarning: \n",
            "A value is trying to be set on a copy of a slice from a DataFrame.\n",
            "Try using .loc[row_indexer,col_indexer] = value instead\n",
            "\n",
            "See the caveats in the documentation: http://pandas.pydata.org/pandas-docs/stable/indexing.html#indexing-view-versus-copy\n",
            "  self[name] = value\n"
          ],
          "name": "stderr"
        }
      ]
    },
    {
      "cell_type": "code",
      "metadata": {
        "id": "CRa-Mw3lB-nK",
        "colab_type": "code",
        "colab": {}
      },
      "source": [
        "for i in range(4):\n",
        "  csv = classes[i][classes[i]['codigo']==\"ECT2203\"]\n",
        "  csv.to_csv(r'lop'+str(i+1)+'.csv')"
      ],
      "execution_count": 0,
      "outputs": []
    },
    {
      "cell_type": "code",
      "metadata": {
        "colab_type": "code",
        "id": "jzoiKBOgE2El",
        "colab": {}
      },
      "source": [
        "# aqui tu vai colocar o nome de todos os aquivos que tu gerou\n",
        "notas_Lop = [\"lop1.csv\",\"lop2.csv\",\"lop3.csv\",\"lop4.csv\"]"
      ],
      "execution_count": 0,
      "outputs": []
    },
    {
      "cell_type": "code",
      "metadata": {
        "colab_type": "code",
        "id": "yYOeuuwFE2E1",
        "colab": {}
      },
      "source": [
        "# Notas since 2017.1 until 2017.2\n",
        "notas_1 = pd.read_csv(notas_Lop [0] )\n",
        "notas_2 = pd.read_csv(notas_Lop [1] )\n",
        "notas_3 = pd.read_csv(notas_Lop [2] )\n",
        "notas_4 = pd.read_csv(notas_Lop [3] )\n",
        "\n",
        "\n",
        "# Setting priginal data into one vector due to easier manipulation, aqui tu vai adicionar todas a variaveis\n",
        "notas =[notas_1, notas_2,notas_3, notas_4]\n"
      ],
      "execution_count": 0,
      "outputs": []
    },
    {
      "cell_type": "code",
      "metadata": {
        "id": "4JvEYo1bn9sc",
        "colab_type": "code",
        "colab": {}
      },
      "source": [
        "for i in range(4):\n",
        "  for c in notas[i].columns:\n",
        "    print(c)\n",
        "    print(notas[i][c].unique())\n",
        "    print(\" \")\n",
        "    \n"
      ],
      "execution_count": 0,
      "outputs": []
    },
    {
      "cell_type": "code",
      "metadata": {
        "id": "F1QclJQB22ec",
        "colab_type": "code",
        "colab": {}
      },
      "source": [
        "for i in range(4):\n",
        "  arq =pd.DataFrame()\n",
        "  for c in notas[i][\"turma\"].unique():\n",
        "    a =  notas[i].loc[notas[i][\"turma\"]== c][[\"matricula\",\"situacao\",\"ano\",\"turma\"]]\n",
        "    arq = arq.append(a, sort=False, ignore_index=True)\n",
        "    csv_situacao = arq\n",
        "   \n",
        "  csv_situacao.to_csv(r'lopSituacao'+str(i+1)+'.csv')"
      ],
      "execution_count": 0,
      "outputs": []
    },
    {
      "cell_type": "code",
      "metadata": {
        "id": "2iuL2y_EFwwl",
        "colab_type": "code",
        "colab": {}
      },
      "source": [
        "# Concatenating all notas\n",
        "merge_notas2017 = notas2017[0]\n",
        "for i in range(1,7):\n",
        "  merge_notas2017 = pd.concat([merge_notas2017, notas2017[i]], ignore_index=True)\n",
        "merge_notas2017\n",
        "\n",
        "# Concatenating all notas\n",
        "merge_notas2018 = notas2018[0]\n",
        "for i in range(1,7):\n",
        "  merge_notas2018 = pd.concat([merge_notas2018, notas2018[i]], ignore_index=True)\n",
        "merge_notas2018"
      ],
      "execution_count": 0,
      "outputs": []
    },
    {
      "cell_type": "code",
      "metadata": {
        "id": "CUpVZLI6H0-V",
        "colab_type": "code",
        "colab": {}
      },
      "source": [
        "disciplinas = merge_notas2017[\"disciplina\"].unique()\n",
        "colunas    = [\"matricula\"]\n",
        "tabela2017= pd.DataFrame(columns=colunas)\n",
        "for i in disciplinas:\n",
        "  notasTurma = merge_notas2017.loc[merge_notas2017[\"disciplina\"].str.contains(i, regex=False),[\"matricula\",\"disciplina\",\"ano\",\"nota\",\"situacao\"]]\n",
        "  notasTurma = notasTurma.sort_values(\"matricula\")\n",
        "  tabela2017 = pd.merge(notasTurma,tabela2017,on=['matricula'], how=\"outer\") \n",
        "\n",
        "\n",
        "tabela2017.columns = ['matricula', disciplinas[6],disciplinas[6]+\"ano\",disciplinas[6]+\"nota\",disciplinas[6]+\"situacao\",\n",
        "                 disciplinas[5],disciplinas[5]+\"ano\",disciplinas[5]+\"nota\",disciplinas[5]+\"situacao\", \n",
        "                 disciplinas[4],disciplinas[4]+\"ano\",disciplinas[4]+\"nota\",disciplinas[4]+\"situacao\",\n",
        "                 disciplinas[3],disciplinas[3]+\"ano\",disciplinas[3]+\"nota\",disciplinas[3]+\"situacao\",\n",
        "                 disciplinas[2],disciplinas[2]+\"ano\",disciplinas[2]+\"nota\",disciplinas[2]+\"situacao\",\n",
        "                 disciplinas[1],disciplinas[1]+\"ano\",disciplinas[1]+\"nota\",disciplinas[1]+\"situacao\",\n",
        "                 disciplinas[0],disciplinas[0]+\"ano\",disciplinas[0]+\"nota\",disciplinas[0]+\"situacao\"]\n",
        "\n",
        "\n",
        "tabela2017 = tabela2017.drop_duplicates()\n",
        "tabela2017 = tabela2017.sort_values('matricula')\n",
        "tabela2017\n",
        "\n",
        "\n",
        "disciplinas = merge_notas2018[\"disciplina\"].unique()\n",
        "colunas    = [\"matricula\"]\n",
        "tabela2018= pd.DataFrame(columns=colunas)\n",
        "for i in disciplinas:\n",
        "  notasTurma = merge_notas2018.loc[merge_notas2017[\"disciplina\"].str.contains(i, regex=False),[\"matricula\",\"disciplina\",\"ano\",\"nota\",\"situacao\"]]\n",
        "  notasTurma = notasTurma.sort_values(\"matricula\")\n",
        "  tabela2018 = pd.merge(notasTurma,tabela2018,on=['matricula'], how=\"outer\") \n",
        "\n",
        "\n",
        "tabela2018.columns = ['matricula', disciplinas[6],disciplinas[6]+\"ano\",disciplinas[6]+\"nota\",disciplinas[6]+\"situacao\",\n",
        "                 disciplinas[5],disciplinas[5]+\"ano\",disciplinas[5]+\"nota\",disciplinas[5]+\"situacao\", \n",
        "                 disciplinas[4],disciplinas[4]+\"ano\",disciplinas[4]+\"nota\",disciplinas[4]+\"situacao\",\n",
        "                 disciplinas[3],disciplinas[3]+\"ano\",disciplinas[3]+\"nota\",disciplinas[3]+\"situacao\",\n",
        "                 disciplinas[2],disciplinas[2]+\"ano\",disciplinas[2]+\"nota\",disciplinas[2]+\"situacao\",\n",
        "                 disciplinas[1],disciplinas[1]+\"ano\",disciplinas[1]+\"nota\",disciplinas[1]+\"situacao\",\n",
        "                 disciplinas[0],disciplinas[0]+\"ano\",disciplinas[0]+\"nota\",disciplinas[0]+\"situacao\"]\n",
        "\n",
        "\n",
        "tabela2018 = tabela2018.drop_duplicates()\n",
        "tabela2018 = tabela2018.sort_values('matricula')\n",
        "tabela2018\n",
        "  "
      ],
      "execution_count": 0,
      "outputs": []
    },
    {
      "cell_type": "code",
      "metadata": {
        "id": "RL0OkmxPNdIe",
        "colab_type": "code",
        "colab": {}
      },
      "source": [
        "#Tabela só com os registros de quem cursou as cinco disciplinas em 2017.1 e também cursou LOP em 2017.2\n",
        "tabela12017 = tabela2017.dropna(subset=[\"LÓGICA DE PROGRAMAÇÃO\"])\n",
        "tabela12017 = tabela12017.sort_values('matricula')\n",
        "\n",
        "#Tabela só com os registros de quem cursou as cinco disciplinas em 2017.2 e também cursou LOP em 2018.1\n",
        "tabela12018 = tabela2018.dropna(subset=[\"LÓGICA DE PROGRAMAÇÃO\"])\n",
        "tabela12018 = tabela12018.sort_values('matricula')\n"
      ],
      "execution_count": 0,
      "outputs": []
    },
    {
      "cell_type": "code",
      "metadata": {
        "id": "rmpm3DJLfs4w",
        "colab_type": "code",
        "colab": {}
      },
      "source": [
        "#Em 2017.2 tivemos 806 ocorrências da disciplina de LOP\n",
        "tabela12017.info()\n",
        "\n",
        "#em 2017.2 tivemos 574 alunos que fizeram a disciplina de LOP\n",
        "tabela12017.matricula.unique().shape\n",
        "# Esses números tem essa diferença pois o aluno pode esta com status diferente para uma das 6 disicplinas que estão sendo análisadas"
      ],
      "execution_count": 0,
      "outputs": []
    },
    {
      "cell_type": "code",
      "metadata": {
        "id": "je4a1kxHH_qR",
        "colab_type": "code",
        "colab": {}
      },
      "source": [
        "#verificar quais os alunos estão com o status de cancelado\n",
        "\n",
        "#Em 2017.2 132 alunos cancelaram a disciplina de LOP\n",
        "#tabela1[tabela1[\"LÓGICA DE PROGRAMAÇÃOsituacao\"] == \"CANCELADO\"].shape\n",
        "\n",
        "#Em 2017.1 6 alunos cancelaram a disciplina de CIÊNCIA, TECNOLOGIA E SOCIEDADE e tentaram fazer matricula em LOP em 2017.2\n",
        "#tabela1[tabela1[\"CIÊNCIA, TECNOLOGIA E SOCIEDADEsituacao\"] == \"CANCELADO\"].shape\n",
        "\n",
        "#Em 2017.1  2 alunos cancelarm a disciplina de PRÁTICAS DE LEITURA E ESCRITA I e tentaram fazer matricula em LOP em 2017.2\n",
        "#tabela1[tabela1[\"PRÁTICAS DE LEITURA E ESCRITA Isituacao\"] == \"CANCELADO\"].shape\n",
        "\n",
        "#Em 2017.1 16 alunos cancelaram a disciplina de  Química Geral e tentaram fazer a matriucla em LOP em 2017.2 \n",
        "#tabela1[tabela1[\"QUÍMICA GERALsituacao\"] == \"CANCELADO\"].shape\n",
        "\n",
        "#Em 2017.1 30 alunos cancelaram a discipina de CÁLCULO I e tentaram fazer matricula em LOP em 2017.2\n",
        "#tabela1[tabela1[\"CÁLCULO Isituacao\"] == \"CANCELADO\"].shape\n",
        "\n",
        "#Em 2017.1 42 alunos cancelaram a discipina de VETORES E GEOMETRIA ANALÍTICA e tentaram fazer matricula em LOP em 2017.2\n",
        "#tabela1[tabela1[\"VETORES E GEOMETRIA ANALÍTICAsituacao\"] == \"CANCELADO\"].shape\n",
        "\n"
      ],
      "execution_count": 0,
      "outputs": []
    },
    {
      "cell_type": "code",
      "metadata": {
        "id": "9FciiYR9I0gO",
        "colab_type": "code",
        "colab": {}
      },
      "source": [
        "#tabela só com os alumos que cursaram, todas as disciplinas em 2017.1 e LOP em 2017.2\n",
        "tabela22017 = tabela12017.dropna()\n",
        "tabela22018 = tabela12018.dropna()\n",
        "\n",
        "#Dos 806 registros apenas 316 fizeram todas as disciplinas em 2017.1 e cursaram LOP em 2017.2\n",
        "tabela22017.info()\n",
        "tabela22018.info()\n",
        "\n",
        "#Dos 316 registros temos 259 alunos distintos, esse número é diferente pq tem aluno com status diferente em alguma das 6 disciplinas\n",
        "tabela22017.matricula.unique().shape\n",
        "tabela22018.matricula.unique().shape"
      ],
      "execution_count": 0,
      "outputs": []
    },
    {
      "cell_type": "code",
      "metadata": {
        "id": "5h1ZITBkrjnG",
        "colab_type": "code",
        "colab": {}
      },
      "source": [
        "#tabela2[\"LÓGICA DE PROGRAMAÇÃOsituacao\"].unique()"
      ],
      "execution_count": 0,
      "outputs": []
    },
    {
      "cell_type": "code",
      "metadata": {
        "id": "jiMchHd9rxQZ",
        "colab_type": "code",
        "colab": {}
      },
      "source": [
        "#tabela2[\"CIÊNCIA, TECNOLOGIA E SOCIEDADEsituacao\"].unique()"
      ],
      "execution_count": 0,
      "outputs": []
    },
    {
      "cell_type": "code",
      "metadata": {
        "id": "Rmkg6bO5r6SA",
        "colab_type": "code",
        "colab": {}
      },
      "source": [
        "#tabela2[\"QUÍMICA GERALsituacao\"].unique()"
      ],
      "execution_count": 0,
      "outputs": []
    },
    {
      "cell_type": "code",
      "metadata": {
        "id": "WZspkzBKsCt3",
        "colab_type": "code",
        "colab": {}
      },
      "source": [
        "#tabela2[\"CÁLCULO Isituacao\"].unique()"
      ],
      "execution_count": 0,
      "outputs": []
    },
    {
      "cell_type": "code",
      "metadata": {
        "id": "D6hVtpL1sIX4",
        "colab_type": "code",
        "colab": {}
      },
      "source": [
        "#tabela2[\"VETORES E GEOMETRIA ANALÍTICAsituacao\"].unique() "
      ],
      "execution_count": 0,
      "outputs": []
    },
    {
      "cell_type": "code",
      "metadata": {
        "id": "8Qy1hcAbsP8I",
        "colab_type": "code",
        "colab": {}
      },
      "source": [
        "#tabela2[\"PRÉ-CÁLCULOsituacao\"].unique()"
      ],
      "execution_count": 0,
      "outputs": []
    },
    {
      "cell_type": "code",
      "metadata": {
        "id": "1hbXLv4BsdzC",
        "colab_type": "code",
        "colab": {}
      },
      "source": [
        "#Alunos com status diferentes nas disciplinas\n",
        "\n",
        "quantidade = tabela22017.groupby(\"matricula\").count()\n",
        "lista_matricula = quantidade.loc[quantidade[\"LÓGICA DE PROGRAMAÇÃO\"] != 1].index\n",
        "#lista_matricula\n",
        "\n",
        "\n",
        "for mat in lista_matricula :\n",
        "  tabela_remover = tabela22017.loc[ (tabela22017[\"matricula\"] == mat) & ( (tabela22017[\"LÓGICA DE PROGRAMAÇÃOsituacao\"] == \"INDEFERIDO\") | (tabela22017[\"LÓGICA DE PROGRAMAÇÃOsituacao\"] == \"DESISTENCIA\")) ]\n",
        "  tabela22017 = tabela22017.drop(tabela_remover.index)\n",
        "  \n",
        "quantidade1 = tabela22017.groupby(\"matricula\").count()\n",
        "lista_matricula1 = quantidade1.loc[quantidade1[\"LÓGICA DE PROGRAMAÇÃO\"] != 1].index\n",
        "print(\"2017\") \n",
        "print(lista_matricula1 )\n",
        "\n",
        "quantidade = tabela22018.groupby(\"matricula\").count()\n",
        "lista_matricula = quantidade.loc[quantidade[\"LÓGICA DE PROGRAMAÇÃO\"] != 1].index\n",
        "#lista_matricula\n",
        "\n",
        "for mat in lista_matricula :\n",
        "  tabela_remover = tabela22018.loc[ (tabela22018[\"matricula\"] == mat) & ( (tabela22018[\"LÓGICA DE PROGRAMAÇÃOsituacao\"] == \"INDEFERIDO\") | (tabela22018[\"LÓGICA DE PROGRAMAÇÃOsituacao\"] == \"DESISTENCIA\")) ]\n",
        "  tabela22018 = tabela22018.drop(tabela_remover.index)\n",
        "  \n",
        "quantidade1 = tabela22018.groupby(\"matricula\").count()\n",
        "lista_matricula1 = quantidade1.loc[quantidade1[\"LÓGICA DE PROGRAMAÇÃO\"] != 1].index\n",
        "print(\"2018\")\n",
        "print(lista_matricula1) \n",
        "\n"
      ],
      "execution_count": 0,
      "outputs": []
    },
    {
      "cell_type": "code",
      "metadata": {
        "id": "x3S9rFG9adHO",
        "colab_type": "code",
        "colab": {}
      },
      "source": [
        "tabela22018[tabela22018[\"matricula\"] == 20170041738]"
      ],
      "execution_count": 0,
      "outputs": []
    },
    {
      "cell_type": "code",
      "metadata": {
        "id": "ZgbMQXNPvTaP",
        "colab_type": "code",
        "colab": {}
      },
      "source": [
        "tabela_remover = tabela22017.loc[ (tabela22017[\"matricula\"] == 2016097406) & (tabela22017[\"PRÁTICAS DE LEITURA E ESCRITA Isituacao\"] == \"INDEFERIDO\") ]\n",
        "tabela22017 = tabela22017.drop(tabela_remover.index)\n",
        "tabela_remover = tabela22017.loc[ (tabela22017[\"matricula\"] == 2016097406) &  ( (tabela22017[\"QUÍMICA GERALsituacao\"] == \"INDEFERIDO\") | (tabela22017[\"QUÍMICA GERALsituacao\"] == \"DESISTENCIA\"))]\n",
        "tabela22017 = tabela22017.drop(tabela_remover.index)\n",
        "tabela_remover = tabela22017.loc[ (tabela22017[\"matricula\"] == 2016097406) &  (tabela22017[\"VETORES E GEOMETRIA ANALÍTICAsituacao\"] == \"DESISTENCIA\")]\n",
        "tabela22017 = tabela22017.drop(tabela_remover.index)\n",
        "\n",
        "tabela22017[tabela22017[\"matricula\"] == 2016097406]"
      ],
      "execution_count": 0,
      "outputs": []
    },
    {
      "cell_type": "code",
      "metadata": {
        "id": "DxfDxHi91kDN",
        "colab_type": "code",
        "colab": {}
      },
      "source": [
        "tabela_remover = tabela22017.loc[  ( (tabela22017[\"matricula\"] == 20170034457)  | (tabela22017[\"matricula\"] == 20170038732)) & (tabela22017[\"PRÁTICAS DE LEITURA E ESCRITA Isituacao\"] == \"DESISTENCIA\") ]\n",
        "tabela22017 = tabela22017.drop(tabela_remover.index)\n",
        "tabela22017[tabela22017[\"matricula\"] == 20170034457] \n",
        "tabela22017[tabela22017[\"matricula\"] == 20170038732]"
      ],
      "execution_count": 0,
      "outputs": []
    },
    {
      "cell_type": "code",
      "metadata": {
        "id": "_QVe9_Kocl6q",
        "colab_type": "code",
        "colab": {}
      },
      "source": [
        "tabela_remover = tabela22018.loc[  ( (tabela22018[\"matricula\"] == 20170148242)  | (tabela22018[\"matricula\"] == 20170032891) | (tabela22018[\"matricula\"] ==  20170117907)  | (tabela22018[\"matricula\"] == 20170118127)) & (tabela22018[\"CIÊNCIA, TECNOLOGIA E SOCIEDADEsituacao\"] == \"INDEFERIDO\") ]\n",
        "tabela22018 = tabela22018.drop(tabela_remover.index) \n"
      ],
      "execution_count": 0,
      "outputs": []
    },
    {
      "cell_type": "code",
      "metadata": {
        "id": "_ZgijfiTdzto",
        "colab_type": "code",
        "colab": {}
      },
      "source": [
        "tabela_remover = tabela22018.loc[  ( (tabela22018[\"matricula\"] == 20170137650)  & (tabela22018[\"QUÍMICA GERALsituacao\"] == \"DESISTENCIA\")) ]\n",
        "tabela22018 = tabela22018.drop(tabela_remover.index)"
      ],
      "execution_count": 0,
      "outputs": []
    },
    {
      "cell_type": "code",
      "metadata": {
        "id": "f-TPX1b2eYR2",
        "colab_type": "code",
        "colab": {}
      },
      "source": [
        "tabela_remover = tabela22018.loc[ (tabela22018[\"matricula\"] == 20170041738) & (tabela22018[\"PRÁTICAS DE LEITURA E ESCRITA Isituacao\"] == \"DESISTENCIA\") ]\n",
        "tabela22018 = tabela22018.drop(tabela_remover.index)\n",
        "tabela_remover = tabela22018.loc[ (tabela22018[\"matricula\"] == 20170041738) &  (tabela22018[\"QUÍMICA GERALsituacao\"] == \"DESISTENCIA\")]\n",
        "tabela22018 = tabela22018.drop(tabela_remover.index)\n",
        "tabela_remover = tabela22018.loc[ (tabela22018[\"matricula\"] == 20170041738) &  (tabela22018[\"VETORES E GEOMETRIA ANALÍTICAsituacao\"] == \"DESISTENCIA\")]\n",
        "tabela22018 = tabela22018.drop(tabela_remover.index)"
      ],
      "execution_count": 0,
      "outputs": []
    },
    {
      "cell_type": "code",
      "metadata": {
        "id": "moMgLVGwrYpr",
        "colab_type": "code",
        "colab": {}
      },
      "source": [
        "#temos 259 alunos com ocorrencias  nas cinco disciplinas em 2017.1 e tbm tem ocorrencia na disciplina de LOP em 2017.2\n",
        "tabela22017.matricula.unique().shape"
      ],
      "execution_count": 0,
      "outputs": []
    },
    {
      "cell_type": "code",
      "metadata": {
        "id": "ANaQV2Kvfd5Z",
        "colab_type": "code",
        "colab": {}
      },
      "source": [
        "tabela22018.matricula.unique().shape"
      ],
      "execution_count": 0,
      "outputs": []
    },
    {
      "cell_type": "code",
      "metadata": {
        "id": "QZP_d692f526",
        "colab_type": "code",
        "colab": {}
      },
      "source": [
        "#concatenar as duas tabelas 2017 e 2018\n",
        "tabela2 = pd.concat([tabela22017, tabela22018], ignore_index=True)"
      ],
      "execution_count": 0,
      "outputs": []
    },
    {
      "cell_type": "code",
      "metadata": {
        "id": "NBSGsH7-fw9C",
        "colab_type": "code",
        "colab": {}
      },
      "source": [
        "tabela2"
      ],
      "execution_count": 0,
      "outputs": []
    },
    {
      "cell_type": "code",
      "metadata": {
        "id": "jfQIHIomQ2ae",
        "colab_type": "code",
        "colab": {}
      },
      "source": [
        "# import the seaborn module\n",
        "import seaborn as sns\n",
        "# import the matplotlib module\n",
        "import matplotlib.pyplot as plt\n",
        "# set the background colour of the plot to white\n",
        "sns.set(style=\"whitegrid\", color_codes=True)\n",
        "# setting the plot size for all plots\n",
        "sns.set(rc={'figure.figsize':(26.7,8.27)})\n",
        "# create a countplot\n",
        "sns.countplot('CÁLCULO Isituacao',data=tabela2,hue = 'LÓGICA DE PROGRAMAÇÃOsituacao')\n",
        "# Remove the top and down margin\n",
        "sns.despine(offset=10, trim=True)\n",
        "#display the plotplt.show()"
      ],
      "execution_count": 0,
      "outputs": []
    },
    {
      "cell_type": "code",
      "metadata": {
        "id": "5g2c9eDkSJD2",
        "colab_type": "code",
        "colab": {}
      },
      "source": [
        "# import the seaborn module\n",
        "import seaborn as sns\n",
        "# import the matplotlib module\n",
        "import matplotlib.pyplot as plt\n",
        "# set the background colour of the plot to white\n",
        "sns.set(style=\"whitegrid\", color_codes=True)\n",
        "# setting the plot size for all plots\n",
        "sns.set(rc={'figure.figsize':(26.7,8.27)})\n",
        "# create a countplot\n",
        "sns.countplot('CIÊNCIA, TECNOLOGIA E SOCIEDADEsituacao',data=tabela2,hue = 'LÓGICA DE PROGRAMAÇÃOsituacao')\n",
        "# Remove the top and down margin\n",
        "sns.despine(offset=10, trim=True)\n",
        "#display the plotplt.show()"
      ],
      "execution_count": 0,
      "outputs": []
    },
    {
      "cell_type": "code",
      "metadata": {
        "id": "jUf1lmWlSqrI",
        "colab_type": "code",
        "colab": {}
      },
      "source": [
        "# import the seaborn module\n",
        "import seaborn as sns\n",
        "# import the matplotlib module\n",
        "import matplotlib.pyplot as plt\n",
        "# set the background colour of the plot to white\n",
        "sns.set(style=\"whitegrid\", color_codes=True)\n",
        "# setting the plot size for all plots\n",
        "sns.set(rc={'figure.figsize':(26.7,8.27)})\n",
        "# create a countplot\n",
        "sns.countplot('PRÁTICAS DE LEITURA E ESCRITA Isituacao',data=tabela2,hue = 'LÓGICA DE PROGRAMAÇÃOsituacao')\n",
        "# Remove the top and down margin\n",
        "sns.despine(offset=10, trim=True)\n",
        "#display the plotplt.show()"
      ],
      "execution_count": 0,
      "outputs": []
    },
    {
      "cell_type": "code",
      "metadata": {
        "id": "x2tBXCkCS_H1",
        "colab_type": "code",
        "colab": {}
      },
      "source": [
        "# import the seaborn module\n",
        "import seaborn as sns\n",
        "# import the matplotlib module\n",
        "import matplotlib.pyplot as plt\n",
        "# set the background colour of the plot to white\n",
        "sns.set(style=\"whitegrid\", color_codes=True)\n",
        "# setting the plot size for all plots\n",
        "sns.set(rc={'figure.figsize':(26.7,8.27)})\n",
        "# create a countplot\n",
        "sns.countplot('QUÍMICA GERALsituacao',data=tabela2,hue = 'LÓGICA DE PROGRAMAÇÃOsituacao')\n",
        "# Remove the top and down margin\n",
        "sns.despine(offset=10, trim=True)\n",
        "#display the plotplt.show()"
      ],
      "execution_count": 0,
      "outputs": []
    },
    {
      "cell_type": "code",
      "metadata": {
        "id": "Vi1Xvm8zTShH",
        "colab_type": "code",
        "colab": {}
      },
      "source": [
        "# import the seaborn module\n",
        "import seaborn as sns\n",
        "# import the matplotlib module\n",
        "import matplotlib.pyplot as plt\n",
        "# set the background colour of the plot to white\n",
        "sns.set(style=\"whitegrid\", color_codes=True)\n",
        "# setting the plot size for all plots\n",
        "sns.set(rc={'figure.figsize':(26.7,8.27)})\n",
        "# create a countplot\n",
        "sns.countplot('VETORES E GEOMETRIA ANALÍTICAsituacao',data=tabela2,hue = 'LÓGICA DE PROGRAMAÇÃOsituacao')\n",
        "# Remove the top and down margin\n",
        "sns.despine(offset=10, trim=True)\n",
        "#display the plotplt.show()"
      ],
      "execution_count": 0,
      "outputs": []
    },
    {
      "cell_type": "code",
      "metadata": {
        "id": "tu7gHvz_Ta97",
        "colab_type": "code",
        "colab": {}
      },
      "source": [
        "# import the seaborn module\n",
        "import seaborn as sns\n",
        "# import the matplotlib module\n",
        "import matplotlib.pyplot as plt\n",
        "# set the background colour of the plot to white\n",
        "sns.set(style=\"whitegrid\", color_codes=True)\n",
        "# setting the plot size for all plots\n",
        "sns.set(rc={'figure.figsize':(26.7,8.27)})\n",
        "# create a countplot\n",
        "sns.countplot('PRÉ-CÁLCULOsituacao',data=tabela2,hue = 'LÓGICA DE PROGRAMAÇÃOsituacao')\n",
        "# Remove the top and down margin\n",
        "sns.despine(offset=10, trim=True)\n",
        "#display the plotplt.show()"
      ],
      "execution_count": 0,
      "outputs": []
    },
    {
      "cell_type": "code",
      "metadata": {
        "id": "3Ggvk-t2WQEQ",
        "colab_type": "code",
        "colab": {}
      },
      "source": [
        "#Gráfica de correlação entre as disciplinas\n",
        "datasetNotas = tabela2[['CIÊNCIA, TECNOLOGIA E SOCIEDADEnota', 'PRÁTICAS DE LEITURA E ESCRITA Inota', 'QUÍMICA GERALnota', 'CÁLCULO Inota',\n",
        "                        'VETORES E GEOMETRIA ANALÍTICAnota', 'PRÉ-CÁLCULOnota','LÓGICA DE PROGRAMAÇÃOnota' ]]\n",
        "datasetNotas = datasetNotas.replace(\"-\",0)\n",
        "datasetNotas = datasetNotas.reset_index(drop = True)\n",
        "datasetNotas = datasetNotas.astype(float)\n"
      ],
      "execution_count": 0,
      "outputs": []
    },
    {
      "cell_type": "code",
      "metadata": {
        "id": "J-79LroxeQkV",
        "colab_type": "code",
        "colab": {}
      },
      "source": [
        "datasetNotas.corr()"
      ],
      "execution_count": 0,
      "outputs": []
    },
    {
      "cell_type": "code",
      "metadata": {
        "id": "D6bM84XDfJvI",
        "colab_type": "code",
        "colab": {}
      },
      "source": [
        "\n",
        "import matplotlib.pyplot as plt\n",
        "#fig, ((ax1, ax2,ax3)) = plt.subplots(1, 3, sharex=True, sharey=True)\n",
        "plt.figure(figsize=(25,8))\n",
        "plt.subplots_adjust(hspace=0.5)\n",
        "\n",
        "ax1 = plt.subplot(1,3,1) # subplot(2,1,1) is active, plotting will be done there\n",
        "plt.title('Correlação Vetores e Geometria Analítica e Química Geral')\n",
        "plt.scatter(datasetNotas['QUÍMICA GERALnota'], datasetNotas['VETORES E GEOMETRIA ANALÍTICAnota'], alpha=0.5)\n",
        "plt.xlabel('Média Química Geral')\n",
        "plt.ylabel('Média Vetores e Geometria Analítica')\n",
        "\n",
        "ax2 = plt.subplot(1,3,2) # subplot(2,1,2) is now active\n",
        "plt.title('Correlação Vetores e Geometria Analítica e Pré-Cálculo')\n",
        "plt.scatter(datasetNotas['PRÉ-CÁLCULOnota'], datasetNotas['VETORES E GEOMETRIA ANALÍTICAnota'], alpha=0.5)\n",
        "plt.xlabel('Média Pré-Cálculo')\n",
        "plt.ylabel('Média Vetores e Geometria Analítica')\n",
        "\n",
        "ax3 = plt.subplot(1,3,3) # subplot(2,1,2) is now active\n",
        "plt.title(\"Correlação CIÊNCIA, TECNOLOGIA E SOCIEDADE e PRÁTICAS DE LEITURA E ESCRITA I\")\n",
        "plt.scatter(datasetNotas['CIÊNCIA, TECNOLOGIA E SOCIEDADEnota'], datasetNotas['PRÁTICAS DE LEITURA E ESCRITA Inota'], alpha=0.5)\n",
        "plt.xlabel('Média CIÊNCIA, TECNOLOGIA E SOCIEDADE')\n",
        "plt.ylabel('Média PRÁTICAS DE LEITURA E ESCRITA I')\n",
        "\n",
        "plt.savefig('correlacoes.png', format='png')\n",
        "plt.show()\n",
        "    \n"
      ],
      "execution_count": 0,
      "outputs": []
    },
    {
      "cell_type": "code",
      "metadata": {
        "id": "KkU4THQkEQrb",
        "colab_type": "code",
        "colab": {}
      },
      "source": [
        "#Aplicar o algoritmo de Naive Bayes https://www.dataquest.io/blog/sci-kit-learn-tutorial/\n",
        "#Escolhi só a coluna situação para fazer essa análise\n",
        "#datasetBayes = tabela2[[\"matricula\",'CIÊNCIA, TECNOLOGIA E SOCIEDADEsituacao', 'PRÁTICAS DE LEITURA E ESCRITA Isituacao', 'QUÍMICA GERALsituacao', 'CÁLCULO Isituacao', 'VETORES E GEOMETRIA ANALÍTICAsituacao', 'PRÉ-CÁLCULOsituacao','LÓGICA DE PROGRAMAÇÃOsituacao' ]]\n",
        "datasetBayes = tabela2[[\"matricula\",'CIÊNCIA, TECNOLOGIA E SOCIEDADEnota', 'PRÁTICAS DE LEITURA E ESCRITA Inota', 'QUÍMICA GERALnota', 'CÁLCULO Inota', 'VETORES E GEOMETRIA ANALÍTICAnota', 'PRÉ-CÁLCULOnota','LÓGICA DE PROGRAMAÇÃOnota' ]]\n",
        "datasetBayes"
      ],
      "execution_count": 0,
      "outputs": []
    },
    {
      "cell_type": "code",
      "metadata": {
        "id": "hXXKLFTfvVfa",
        "colab_type": "code",
        "colab": {}
      },
      "source": [
        "# colocar os aprova e reprovados na mesma categoria\n",
        "#datasetBayes = datasetBayes.replace(to_replace = 'APROVADO POR NOTA', value= \"APROVADO\")\n",
        "#datasetBayes = datasetBayes.replace(to_replace = ['REPROVADO POR MÉDIA E POR FALTAS',\"REPROVADO POR NOTA\",\"CANCELADO\", \"INDEFERIDO\", \"TRANCADO\", \"DESISTENCIA\"], value= \"REPROVADO\")\n",
        "#datasetBayes"
      ],
      "execution_count": 0,
      "outputs": []
    },
    {
      "cell_type": "code",
      "metadata": {
        "id": "zzSJwGMq5k2k",
        "colab_type": "code",
        "colab": {}
      },
      "source": [
        "#Criar um arquivo csv com os dados categoricos\n",
        "datasetBayes.to_csv('datasetcategorico.csv')"
      ],
      "execution_count": 0,
      "outputs": []
    },
    {
      "cell_type": "code",
      "metadata": {
        "id": "JUbENICz2eYe",
        "colab_type": "code",
        "colab": {}
      },
      "source": [
        "#Quantidade de alunos total\n",
        "datasetBayes.info()\n",
        "#Quantidade de alunos por desempenho\n",
        "#datasetBayes[\"LÓGICA DE PROGRAMAÇÃOsituacao\"].value_counts()\n",
        "datasetNotas[\"LÓGICA DE PROGRAMAÇÃOnota\"].value_counts()"
      ],
      "execution_count": 0,
      "outputs": []
    },
    {
      "cell_type": "code",
      "metadata": {
        "id": "YxxIFdjVGb_P",
        "colab_type": "code",
        "colab": {}
      },
      "source": [
        "#import the necessary module\n",
        "from sklearn import preprocessing\n",
        "# create the Labelencoder object\n",
        "le = preprocessing.LabelEncoder()\n",
        "#convert the categorical columns into numeric\n",
        "datasetBayes['CIÊNCIA, TECNOLOGIA E SOCIEDADEsituacao'] = le.fit_transform(datasetBayes['CIÊNCIA, TECNOLOGIA E SOCIEDADEsituacao'])\n",
        "datasetBayes['PRÁTICAS DE LEITURA E ESCRITA Isituacao'] = le.fit_transform(datasetBayes['PRÁTICAS DE LEITURA E ESCRITA Isituacao'])\n",
        "datasetBayes['VETORES E GEOMETRIA ANALÍTICAsituacao']   = le.fit_transform(datasetBayes['VETORES E GEOMETRIA ANALÍTICAsituacao'])\n",
        "datasetBayes['QUÍMICA GERALsituacao']                   = le.fit_transform(datasetBayes['QUÍMICA GERALsituacao'])\n",
        "datasetBayes['LÓGICA DE PROGRAMAÇÃOsituacao']           = le.fit_transform(datasetBayes['LÓGICA DE PROGRAMAÇÃOsituacao'])\n",
        "datasetBayes['PRÉ-CÁLCULOsituacao']                     = le.fit_transform(datasetBayes['PRÉ-CÁLCULOsituacao'])\n",
        "datasetBayes['CÁLCULO Isituacao']                       = le.fit_transform(datasetBayes['CÁLCULO Isituacao'])\n",
        "#display the initial records\n",
        "datasetBayes\n"
      ],
      "execution_count": 0,
      "outputs": []
    },
    {
      "cell_type": "code",
      "metadata": {
        "id": "G3tCNvCOlIUS",
        "colab_type": "code",
        "colab": {}
      },
      "source": [
        "datasetNotas.to_csv('datasetNotas.csv')"
      ],
      "execution_count": 0,
      "outputs": []
    },
    {
      "cell_type": "code",
      "metadata": {
        "id": "0WKdUAPPI_Wl",
        "colab_type": "code",
        "colab": {}
      },
      "source": [
        "#copy = datasetBayes.drop(\"matricula\", axis=1)\n",
        "#retirar a coluna LÓGICA DE PROGRAMAÇÃOsituacao pq é a coluna que queremos prever\n",
        "#target = copy['LÓGICA DE PROGRAMAÇÃOsituacao']\n",
        "#cols = copy.columns\n",
        "#data = copy[cols]\n",
        "#data = data.drop(\"LÓGICA DE PROGRAMAÇÃOsituacao\", axis=1)\n",
        "#data.head(n=2)\n",
        "\n",
        "\n",
        "def catPro(row):\n",
        "  a = row[\"LÓGICA DE PROGRAMAÇÃOnota\"]\n",
        "  if a < 5:\n",
        "    return 1 # Reprovado\n",
        "  else:\n",
        "    return 0 #Aprovado\n",
        "  \n",
        "datasetNotas['LÓGICA DE PROGRAMAÇÃOnota'] = datasetNotas.apply(catPro, axis=1)      \n",
        "#retirar a coluna LÓGICA DE PROGRAMAÇÃOsituacao pq é a coluna que queremos prever\n",
        "target = datasetNotas['LÓGICA DE PROGRAMAÇÃOnota']\n",
        "cols = datasetNotas.columns\n",
        "data = datasetNotas[cols]\n",
        "data = data.drop(\"LÓGICA DE PROGRAMAÇÃOnota\", axis=1)\n",
        "data.head(n=2)\n",
        "\n"
      ],
      "execution_count": 0,
      "outputs": []
    },
    {
      "cell_type": "code",
      "metadata": {
        "id": "oTCv4lfOJz6_",
        "colab_type": "code",
        "colab": {}
      },
      "source": [
        "#import the necessary module\n",
        "from sklearn.model_selection import train_test_split\n",
        "from sklearn.metrics import confusion_matrix\n",
        "#split data set into train and test sets\n",
        "data_train, data_test, target_train, target_test = train_test_split(data,target, test_size = 0.30, random_state = 10)"
      ],
      "execution_count": 0,
      "outputs": []
    },
    {
      "cell_type": "code",
      "metadata": {
        "id": "Eb2A4YI4KQzR",
        "colab_type": "code",
        "colab": {}
      },
      "source": [
        "from sklearn.naive_bayes import MultinomialNB\n",
        "from sklearn.metrics import accuracy_score\n",
        "\n",
        "#create an object of the type GaussianNB\n",
        "gnb = MultinomialNB()\n",
        "#gnb = GaussianNB()\n",
        "\n",
        "#train the algorithm on training data and predict using the testing data\n",
        "predBayes = gnb.fit(data_train, target_train).predict(data_test)\n",
        "#print(pred.tolist())\n",
        "\n",
        "#print the accuracy score of the model\n",
        "print(\"Naive-Bayes accuracy : \",accuracy_score(target_test, predBayes, normalize = True))\n"
      ],
      "execution_count": 0,
      "outputs": []
    },
    {
      "cell_type": "code",
      "metadata": {
        "id": "7NlgsqTIRjqM",
        "colab_type": "code",
        "colab": {}
      },
      "source": [
        "target_test.value_counts()"
      ],
      "execution_count": 0,
      "outputs": []
    },
    {
      "cell_type": "code",
      "metadata": {
        "id": "ZRuVeWQwAiDv",
        "colab_type": "code",
        "colab": {}
      },
      "source": [
        "print(confusion_matrix(target_test, predBayes, labels=[0,1]))\n"
      ],
      "execution_count": 0,
      "outputs": []
    },
    {
      "cell_type": "code",
      "metadata": {
        "id": "4IekjIhhAO1f",
        "colab_type": "code",
        "colab": {}
      },
      "source": [
        "from yellowbrick.classifier import ClassificationReport\n",
        "# Instantiate the classification model and visualizer\n",
        "visualizer = ClassificationReport(gnb, classes=['APROVADO', 'REPROVADO'])\n",
        "visualizer.fit(data_train, target_train) # Fit the training data to the visualizer\n",
        "visualizer.score(data_test, target_test) # Evaluate the model on the test data\n",
        "g = visualizer.poof() # Draw/show/poof the data"
      ],
      "execution_count": 0,
      "outputs": []
    },
    {
      "cell_type": "code",
      "metadata": {
        "id": "o0_QeEZUVorn",
        "colab_type": "code",
        "colab": {}
      },
      "source": [
        "#Validação cruzada\n",
        "from sklearn.model_selection import cross_val_score\n",
        "medias = cross_val_score(gnb,data_test, target_test, cv=10)\n",
        "media = sum(medias) / len(medias)\n",
        "media"
      ],
      "execution_count": 0,
      "outputs": []
    },
    {
      "cell_type": "code",
      "metadata": {
        "id": "3rLxLWLOMDOw",
        "colab_type": "code",
        "colab": {}
      },
      "source": [
        "from sklearn.svm import LinearSVC\n",
        "from sklearn.metrics import accuracy_score\n",
        "#create an object of type LinearSVC\n",
        "svc_model = LinearSVC(random_state=3, tol=2e-5)\n",
        "#train the algorithm on training data and predict using the testing data\n",
        "predSVC = svc_model.fit(data_train, target_train).predict(data_test)\n",
        "#print the accuracy score of the model\n",
        "print(\"LinearSVC accuracy : \",accuracy_score(target_test, predSVC, normalize = True))"
      ],
      "execution_count": 0,
      "outputs": []
    },
    {
      "cell_type": "code",
      "metadata": {
        "id": "0lnuInd9Alsk",
        "colab_type": "code",
        "colab": {}
      },
      "source": [
        "confusion_matrix(target_test, predSVC, labels=[0,1])"
      ],
      "execution_count": 0,
      "outputs": []
    },
    {
      "cell_type": "code",
      "metadata": {
        "id": "jvw6emWOAYi5",
        "colab_type": "code",
        "colab": {}
      },
      "source": [
        "from yellowbrick.classifier import ClassificationReport\n",
        "# Instantiate the classification model and visualizer\n",
        "visualizer = ClassificationReport(svc_model, classes=['APROVADO', 'REPROVADO'])\n",
        "visualizer.fit(data_train, target_train) # Fit the training data to the visualizer\n",
        "visualizer.score(data_test, target_test) # Evaluate the model on the test data\n",
        "g = visualizer.poof() # Draw/show/poof the data"
      ],
      "execution_count": 0,
      "outputs": []
    },
    {
      "cell_type": "code",
      "metadata": {
        "id": "1WTfjltbMW-m",
        "colab_type": "code",
        "colab": {}
      },
      "source": [
        "#import necessary modules\n",
        "from sklearn.neighbors import KNeighborsClassifier\n",
        "from sklearn.metrics import accuracy_score\n",
        "#create object of the lassifier\n",
        "neigh = KNeighborsClassifier(n_neighbors=17)\n",
        "#Train the algorithm\n",
        "neigh.fit(data_train, target_train)\n",
        "# predict the response\n",
        "predNeigh = neigh.predict(data_test)\n",
        "# evaluate accuracy\n",
        "print (\"KNeighbors accuracy score : \",accuracy_score(target_test, predNeigh))"
      ],
      "execution_count": 0,
      "outputs": []
    },
    {
      "cell_type": "code",
      "metadata": {
        "id": "-gWTXzNWA-R8",
        "colab_type": "code",
        "colab": {}
      },
      "source": [
        "confusion_matrix(target_test, predNeigh, labels=[0,1])"
      ],
      "execution_count": 0,
      "outputs": []
    },
    {
      "cell_type": "code",
      "metadata": {
        "id": "k_jEZVgeBCdv",
        "colab_type": "code",
        "colab": {}
      },
      "source": [
        "from yellowbrick.classifier import ClassificationReport\n",
        "# Instantiate the classification model and visualizer\n",
        "visualizer = ClassificationReport(neigh, classes=['APROVADO', 'REPROVADO'])\n",
        "visualizer.fit(data_train, target_train) # Fit the training data to the visualizer\n",
        "visualizer.score(data_test, target_test) # Evaluate the model on the test data\n",
        "g = visualizer.poof() # Draw/show/poof the data"
      ],
      "execution_count": 0,
      "outputs": []
    },
    {
      "cell_type": "code",
      "metadata": {
        "id": "YlVgACMAVdle",
        "colab_type": "code",
        "colab": {}
      },
      "source": [
        "#import necessary modules\n",
        "from sklearn import tree\n",
        "from sklearn.metrics import accuracy_score\n",
        "#create object of the lassifier\n",
        "tree = tree.DecisionTreeClassifier(criterion='entropy',max_depth=1,min_samples_leaf=3)\n",
        "#Train the algorithm\n",
        "tree.fit(data_train, target_train)\n",
        "\n",
        "# predict the response\n",
        "predTree = tree.predict(data_test)\n",
        "\n",
        "# evaluate accuracy\n",
        "print (\"tree accuracy score : \",accuracy_score(target_test, predTree))"
      ],
      "execution_count": 0,
      "outputs": []
    },
    {
      "cell_type": "code",
      "metadata": {
        "id": "ESnvbwG6BEAV",
        "colab_type": "code",
        "colab": {}
      },
      "source": [
        "confusion_matrix(target_test, predTree, labels=[0,1])"
      ],
      "execution_count": 0,
      "outputs": []
    },
    {
      "cell_type": "code",
      "metadata": {
        "id": "PkL9CASIm3cl",
        "colab_type": "code",
        "colab": {}
      },
      "source": [
        "from yellowbrick.classifier import ClassificationReport\n",
        "# Instantiate the classification model and visualizer\n",
        "visualizer = ClassificationReport(tree, classes=['APROVADO', 'REPROVADO'])\n",
        "visualizer.fit(data_train, target_train) # Fit the training data to the visualizer\n",
        "visualizer.score(data_test, target_test) # Evaluate the model on the test data\n",
        "g = visualizer.poof() # Draw/show/poof the data"
      ],
      "execution_count": 0,
      "outputs": []
    }
  ]
}