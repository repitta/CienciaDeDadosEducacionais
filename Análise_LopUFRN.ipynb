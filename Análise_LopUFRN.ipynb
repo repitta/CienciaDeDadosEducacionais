{
  "nbformat": 4,
  "nbformat_minor": 0,
  "metadata": {
    "colab": {
      "name": "Análise Luana.ipynb",
      "version": "0.3.2",
      "provenance": [],
      "collapsed_sections": [],
      "include_colab_link": true
    },
    "kernelspec": {
      "name": "python3",
      "display_name": "Python 3"
    }
  },
  "cells": [
    {
      "cell_type": "markdown",
      "metadata": {
        "id": "view-in-github",
        "colab_type": "text"
      },
      "source": [
        "<a href=\"https://colab.research.google.com/github/repitta/CienciaDeDadosEducacionais/blob/master/An%C3%A1lise_LopUFRN.ipynb\" target=\"_parent\"><img src=\"https://colab.research.google.com/assets/colab-badge.svg\" alt=\"Open In Colab\"/></a>"
      ]
    },
    {
      "cell_type": "code",
      "metadata": {
        "id": "fk7U05-uf72Q",
        "colab_type": "code",
        "colab": {}
      },
      "source": [
        "# These are the library we are going to use\n",
        "import pandas as pd\n"
      ],
      "execution_count": 0,
      "outputs": []
    },
    {
      "cell_type": "code",
      "metadata": {
        "id": "FkAvW9zOgFJI",
        "colab_type": "code",
        "colab": {}
      },
      "source": [
        "# Notas finais\n",
        "# Reading the data directly from the Git\n",
        "notas_url = [\"https://github.com/repitta/CienciaDeDadosEducacionais/raw/master/dadosUFRN/notas_discentes_2017.2.csv\",\n",
        "            \"https://github.com/repitta/CienciaDeDadosEducacionais/raw/master/dadosUFRN/notas_discentes_2018.1.csv\",\n",
        "            \"https://github.com/repitta/CienciaDeDadosEducacionais/raw/master/dadosUFRN/notas_discentes_2018.2.csv\",\n",
        "            \"https://github.com/repitta/CienciaDeDadosEducacionais/raw/master/dadosUFRN/notas_discentes_2019.1.csv\",\n",
        "            \"https://github.com/repitta/CienciaDeDadosEducacionais/raw/master/dadosUFRN/notas_discentes_2019.2.csv\"\n",
        "            ]"
      ],
      "execution_count": 0,
      "outputs": []
    },
    {
      "cell_type": "code",
      "metadata": {
        "id": "cMHVqrmxlsyy",
        "colab_type": "code",
        "colab": {}
      },
      "source": [
        "# Notas since 2017.2 until 2019.2\n",
        "notas2017_2 = pd.read_csv(notas_url[0], sep=';', encoding = \"ISO-8859-1\" )\n",
        "notas2018_1 = pd.read_csv(notas_url[1], sep=';', encoding = \"ISO-8859-1\" )\n",
        "notas2018_2 = pd.read_csv(notas_url[2], sep=';', encoding = \"ISO-8859-1\" )\n",
        "notas2019_1 = pd.read_csv(notas_url[3], sep=',', encoding = \"ISO-8859-1\" )\n",
        "notas2019_2 = pd.read_csv(notas_url[4], sep=',', encoding = \"ISO-8859-1\" )"
      ],
      "execution_count": 0,
      "outputs": []
    },
    {
      "cell_type": "code",
      "metadata": {
        "id": "V6cen5FlmkGb",
        "colab_type": "code",
        "colab": {}
      },
      "source": [
        "# Setting priginal data into one vector due to easier manipulation\n",
        "classes =[notas2017_2,notas2018_1, notas2018_2, notas2019_1, notas2019_2\n",
        "         ]"
      ],
      "execution_count": 0,
      "outputs": []
    },
    {
      "cell_type": "code",
      "metadata": {
        "id": "v4hl01kAy57J",
        "colab_type": "code",
        "colab": {
          "base_uri": "https://localhost:8080/",
          "height": 34
        },
        "outputId": "40f0e268-7164-497b-fdb0-d27641506ea9"
      },
      "source": [
        "# Adding year in each dataframe \n",
        "year = 2017 # The year we decide to start our study\n",
        "for i in range(5):\n",
        "  classes[i]['ano'] = year\n",
        "  if i%2==0:\n",
        "    year += 1\n",
        "  # Renaming the column for better manipulation\n",
        "  classes[i].rename(columns={'nome': 'disciplina'}, inplace=True)"
      ],
      "execution_count": 7,
      "outputs": [
        {
          "output_type": "execute_result",
          "data": {
            "text/plain": [
              "\"classes[0]['ano'] = 2017\\nclasses[1]['ano'] = 2018\\nclasses[2]['ano'] = 2018\\nclasses[3]['ano'] = 2019\\nclasses[4]['ano'] = 2019\\n\""
            ]
          },
          "metadata": {
            "tags": []
          },
          "execution_count": 7
        }
      ]
    },
    {
      "cell_type": "code",
      "metadata": {
        "id": "haEZ1RyAm-Wx",
        "colab_type": "code",
        "outputId": "07938cc5-930b-40c1-f7a7-c388eff668d3",
        "colab": {
          "base_uri": "https://localhost:8080/",
          "height": 119
        }
      },
      "source": [
        "for i in range(5):\n",
        "  # Changing some columns types in this step\n",
        "  classes[i].periodo   = classes[i].periodo.astype(str)\n",
        "  classes[i].codigo    = classes[i].codigo.astype(str)\n",
        "  classes[i].disciplina= classes[i].disciplina.astype(str)\n",
        "  classes[i].turma     = classes[i].turma.astype(str)\n",
        "  classes[i].siape     = classes[i].siape.astype(str)\n",
        "  classes[i].horario   = classes[i].horario.astype(str)\n",
        "  classes[i].matricula = classes[i].matricula.astype(int)\n",
        " #classes[i].nota      = classes[i].nota.astype(float) #Não pode converter pq os alunos indeferidos no campo nota tem o simbolo -\n",
        "  classes[i].situacao  = classes[i].situacao.astype(str)\n",
        "  classes[i].ano       = classes[i].ano.astype(str)\n",
        "\n",
        "# Filtro para os dados apenas da disciplina do codigo que tu selecionou\n",
        "  classes[i] = classes[i][ (classes[i]['situacao'] !='EXCLUIDA') & (classes[i]['situacao'] !='INDEFERIDO') & (classes[i]['situacao'] !='CANCELADO') & (classes[i]['situacao'] !='DESISTENCIA') & (classes[i]['situacao'] !='TRANCADO')]\n",
        "  #Concatenar as colunas ano e periodo\n",
        "  classes[i].ano = classes[i]['ano'] + \".\" + classes[i]['periodo']\n",
        "  # transformar a tipo da coluna ano \n",
        "  classes[i].ano       = classes[i].ano.astype(float)"
      ],
      "execution_count": 12,
      "outputs": [
        {
          "output_type": "stream",
          "text": [
            "/usr/local/lib/python3.6/dist-packages/pandas/core/generic.py:5096: SettingWithCopyWarning: \n",
            "A value is trying to be set on a copy of a slice from a DataFrame.\n",
            "Try using .loc[row_indexer,col_indexer] = value instead\n",
            "\n",
            "See the caveats in the documentation: http://pandas.pydata.org/pandas-docs/stable/indexing.html#indexing-view-versus-copy\n",
            "  self[name] = value\n"
          ],
          "name": "stderr"
        }
      ]
    },
    {
      "cell_type": "code",
      "metadata": {
        "id": "CRa-Mw3lB-nK",
        "colab_type": "code",
        "colab": {}
      },
      "source": [
        "for i in range(5):\n",
        "  csv = classes[i][classes[i]['codigo']==\"ECT2203\"]\n",
        "  csv.to_csv(r'lop'+str(i+1)+'.csv')"
      ],
      "execution_count": 0,
      "outputs": []
    },
    {
      "cell_type": "code",
      "metadata": {
        "colab_type": "code",
        "id": "jzoiKBOgE2El",
        "colab": {}
      },
      "source": [
        "# aqui tu vai colocar o nome de todos os aquivos que tu gerou\n",
        "notas_Lop = [\"lop1.csv\",\"lop2.csv\",\"lop3.csv\",\"lop4.csv\", \"lop5.csv\"]"
      ],
      "execution_count": 0,
      "outputs": []
    },
    {
      "cell_type": "code",
      "metadata": {
        "colab_type": "code",
        "id": "yYOeuuwFE2E1",
        "colab": {}
      },
      "source": [
        "# Notas since 2017.1 until 2017.2\n",
        "notas_1 = pd.read_csv(notas_Lop [0] )\n",
        "notas_2 = pd.read_csv(notas_Lop [1] )\n",
        "notas_3 = pd.read_csv(notas_Lop [2] )\n",
        "notas_4 = pd.read_csv(notas_Lop [3] )\n",
        "notas_5 = pd.read_csv(notas_Lop [4] )\n",
        "\n",
        "\n",
        "# Setting priginal data into one vector due to easier manipulation, aqui tu vai adicionar todas a variaveis\n",
        "notas =[notas_1, notas_2,notas_3, notas_4,notas_5 ]\n"
      ],
      "execution_count": 0,
      "outputs": []
    },
    {
      "cell_type": "code",
      "metadata": {
        "id": "F1QclJQB22ec",
        "colab_type": "code",
        "colab": {}
      },
      "source": [
        "for i in range(5):\n",
        "  arq =pd.DataFrame()\n",
        "  for c in notas[i][\"turma\"].unique():\n",
        "    a =  notas[i].loc[notas[i][\"turma\"]== c][[\"matricula\",\"situacao\",\"ano\",\"turma\"]]\n",
        "    arq = arq.append(a, sort=False, ignore_index=True)\n",
        "    csv_situacao = arq\n",
        "   \n",
        "  csv_situacao.to_csv(r'lopSituacao'+str(i+1)+'.csv')"
      ],
      "execution_count": 0,
      "outputs": []
    }
  ]
}