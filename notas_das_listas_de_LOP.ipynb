{
  "nbformat": 4,
  "nbformat_minor": 0,
  "metadata": {
    "colab": {
      "name": "notas das listas de LOP.ipynb",
      "version": "0.3.2",
      "provenance": [],
      "include_colab_link": true
    },
    "kernelspec": {
      "name": "python3",
      "display_name": "Python 3"
    }
  },
  "cells": [
    {
      "cell_type": "markdown",
      "metadata": {
        "id": "view-in-github",
        "colab_type": "text"
      },
      "source": [
        "<a href=\"https://colab.research.google.com/github/repitta/CienciaDeDadosEducacionais/blob/master/notas_das_listas_de_LOP.ipynb\" target=\"_parent\"><img src=\"https://colab.research.google.com/assets/colab-badge.svg\" alt=\"Open In Colab\"/></a>"
      ]
    },
    {
      "cell_type": "code",
      "metadata": {
        "id": "fk7U05-uf72Q",
        "colab_type": "code",
        "colab": {}
      },
      "source": [
        "# These are the library we are going to use\n",
        "import pandas as pd\n"
      ],
      "execution_count": 0,
      "outputs": []
    },
    {
      "cell_type": "code",
      "metadata": {
        "id": "FkAvW9zOgFJI",
        "colab_type": "code",
        "colab": {}
      },
      "source": [
        "# Situções finais no siga\n",
        "# Reading the data directly from the Git\n",
        "situacoes_url = [\"https://raw.githubusercontent.com/repitta/CienciaDeDadosEducacionais/master/arquivosCSV/lopSituacao2017.2.csv\",\n",
        "                      \"https://raw.githubusercontent.com/repitta/CienciaDeDadosEducacionais/master/arquivosCSV/lopSituacao2018.1.csv\",\n",
        "                      \"https://raw.githubusercontent.com/repitta/CienciaDeDadosEducacionais/master/arquivosCSV/lopSituacao2018.2.csv\",\n",
        "                      \"https://raw.githubusercontent.com/repitta/CienciaDeDadosEducacionais/master/arquivosCSV/lopSituacao2019.1.csv\",\n",
        "                      \"https://raw.githubusercontent.com/repitta/CienciaDeDadosEducacionais/master/arquivosCSV/lopSituacao2019.2.csv\"]\n",
        "usuarios_lop_url   =  \"https://raw.githubusercontent.com/repitta/CienciaDeDadosEducacionais/master/arquivosCSV/lop_db_2019_09_csv_tratados/lopUsuarioTurma%20(1).csv\"\n",
        " \n",
        "submissoes_url     =  \"https://github.com/repitta/CienciaDeDadosEducacionais/raw/master/arquivosCSV/lop_db_2019_09_csv_tratados/lopSubLista%20(1).csv\""
      ],
      "execution_count": 0,
      "outputs": []
    },
    {
      "cell_type": "code",
      "metadata": {
        "id": "cMHVqrmxlsyy",
        "colab_type": "code",
        "colab": {}
      },
      "source": [
        "# Situações finais since 2017.2 until 2019.2 \n",
        "situacoes2017_2 = pd.read_csv(situacoes_url[0], sep=',', encoding = \"ISO-8859-1\" )\n",
        "situacoes2018_1 = pd.read_csv(situacoes_url[1], sep=',', encoding = \"ISO-8859-1\" )\n",
        "situacoes2018_2 = pd.read_csv(situacoes_url[2], sep=',', encoding = \"ISO-8859-1\" )\n",
        "situacoes2019_1 = pd.read_csv(situacoes_url[3], sep=',', encoding = \"ISO-8859-1\" )\n",
        "situacoes2019_2 = pd.read_csv(situacoes_url[4], sep=',', encoding = \"ISO-8859-1\" )\n",
        "\n",
        "# Submissoes dos alunos no LOP\n",
        "\n",
        "submissoes = pd.read_csv(submissoes_url, sep=',', encoding = \"ISO-8859-1\" )\n",
        "\n",
        "#Usuarios cadastrados no LOP \n",
        "usuarios_lop = pd.read_csv(usuarios_lop_url, sep=',', encoding = \"ISO-8859-1\" )"
      ],
      "execution_count": 0,
      "outputs": []
    },
    {
      "cell_type": "code",
      "metadata": {
        "id": "V6cen5FlmkGb",
        "colab_type": "code",
        "colab": {}
      },
      "source": [
        "# Setting priginal data into one vector due to easier manipulation\n",
        "situacoes =[situacoes2017_2,situacoes2018_1, situacoes2018_2, situacoes2019_1, situacoes2019_2]"
      ],
      "execution_count": 0,
      "outputs": []
    },
    {
      "cell_type": "code",
      "metadata": {
        "id": "q-He58IvMXA8",
        "colab_type": "code",
        "colab": {}
      },
      "source": [
        "# Eliminar a coluna Unnamed: 0 de todas as tabelas\n",
        "for i in range(5):\n",
        "  situacoes[i] = situacoes[i].drop(columns=\"Unnamed: 0\")\n",
        "  situacoes[i].fillna(0, inplace=True)\n",
        "  situacoes[i][\"matricula\"] = situacoes[i][\"matricula\"].astype(str)\n",
        "  situacoes[i]= situacoes[i].rename(columns={\"ano\": \"anoSigaa\"})\n",
        "  situacoes[i][\"anoSigaa\"] = situacoes[i][\"anoSigaa\"].astype(float)\n",
        "  situacoes[i][\"turma\"] = situacoes[i][\"turma\"].astype(str)\n",
        "  \n",
        "  \n",
        "submissoes   = submissoes.drop(columns=\"Unnamed: 0\")\n",
        "submissoes.fillna(0, inplace=True)\n",
        "submissoes[\"data\"] = pd.to_datetime(submissoes[\"data\"], format = \"%Y/%m/%dT%H:%M:%S\")\n",
        "submissoes = submissoes.rename(columns={\"quantidade\": \"quantidadeTotalLista\"})\n",
        "\n",
        "usuarios_lop = usuarios_lop.drop(columns=\"Unnamed: 0\")\n",
        "usuarios_lop.fillna(0, inplace=True)\n",
        "#tratar a coluna descricaoTurma da tabela usuarios_lop para ficar igual a coluna turma da tabela situações \n",
        "usuarios_lop = usuarios_lop.rename(columns={\"descricaoTurma\": \"turma\"})\n",
        "usuarios_lop[\"turma\"] =  usuarios_lop[\"turma\"].str.split(expand=True)[5]\n",
        "\n",
        "usuarios_lop[\"matricula\"] = usuarios_lop[\"matricula\"].astype(str)\n",
        "usuarios_lop= usuarios_lop.rename(columns={\"ano\": \"anoLop\"})\n",
        "usuarios_lop[\"anoLop\"] = usuarios_lop[\"anoLop\"].astype(float)\n",
        "usuarios_lop[\"turma\"] = usuarios_lop[\"turma\"].astype(str)\n",
        "\n",
        "\n"
      ],
      "execution_count": 0,
      "outputs": []
    },
    {
      "cell_type": "code",
      "metadata": {
        "id": "IJeW1bY9rR53",
        "colab_type": "code",
        "colab": {
          "base_uri": "https://localhost:8080/",
          "height": 34
        },
        "outputId": "2201c481-4d54-4b13-da5b-dc7e45d7e7a4"
      },
      "source": [
        "submissoes.quantidadeTotalLista.unique()"
      ],
      "execution_count": 6,
      "outputs": [
        {
          "output_type": "execute_result",
          "data": {
            "text/plain": [
              "array([15.,  7.,  9.,  5., 16.,  4.,  8., 10.])"
            ]
          },
          "metadata": {
            "tags": []
          },
          "execution_count": 6
        }
      ]
    },
    {
      "cell_type": "code",
      "metadata": {
        "id": "HHxia7S2n7oa",
        "colab_type": "code",
        "outputId": "6d092a79-a7cd-4110-c50a-a2d652683c38",
        "colab": {
          "base_uri": "https://localhost:8080/",
          "height": 136
        }
      },
      "source": [
        "print(situacoes[0].columns)\n",
        "print(\" \")\n",
        "print(usuarios_lop.columns)\n",
        "print(\" \")\n",
        "print(submissoes.columns)"
      ],
      "execution_count": 7,
      "outputs": [
        {
          "output_type": "stream",
          "text": [
            "Index(['matricula', 'situacao', 'anoSigaa', 'turma'], dtype='object')\n",
            " \n",
            "Index(['idTurma', 'anoLop', 'turma', 'matricula', 'idAluno', 'nome'], dtype='object')\n",
            " \n",
            "Index(['data', 'idAluno', 'idLista', 'porcentagemAcerto',\n",
            "       'quantidadeTotalLista', 'questao', 'titulo'],\n",
            "      dtype='object')\n"
          ],
          "name": "stdout"
        }
      ]
    },
    {
      "cell_type": "code",
      "metadata": {
        "id": "_FezmCphFaZK",
        "colab_type": "code",
        "outputId": "832d874b-acb5-4ea7-883c-25543a7afbf3",
        "colab": {
          "base_uri": "https://localhost:8080/",
          "height": 80
        }
      },
      "source": [
        "#juntar todas as tabelas do sigaa para juntar com a tabela de usuarios do LOP\n",
        "a =  pd.concat([situacoes[0], situacoes[1], situacoes[2], situacoes[3],situacoes[4]], ignore_index=True, axis=0)\n",
        "\n",
        "mergeSituacoeUsuarios = pd.merge(right= a, left = usuarios_lop, on=[\"matricula\",\"turma\"], how=\"outer\")\n",
        "\n",
        "#Limpar a tabela para ficar só com as ocorrencias de usuarios que estão cadastrados no Lop\n",
        "mergeSituacoeUsuarios = mergeSituacoeUsuarios.loc[mergeSituacoeUsuarios[\"anoSigaa\"] == mergeSituacoeUsuarios[\"anoLop\"] ]\n",
        "mergeSituacoeUsuarios.head(1)\n"
      ],
      "execution_count": 8,
      "outputs": [
        {
          "output_type": "execute_result",
          "data": {
            "text/html": [
              "<div>\n",
              "<style scoped>\n",
              "    .dataframe tbody tr th:only-of-type {\n",
              "        vertical-align: middle;\n",
              "    }\n",
              "\n",
              "    .dataframe tbody tr th {\n",
              "        vertical-align: top;\n",
              "    }\n",
              "\n",
              "    .dataframe thead th {\n",
              "        text-align: right;\n",
              "    }\n",
              "</style>\n",
              "<table border=\"1\" class=\"dataframe\">\n",
              "  <thead>\n",
              "    <tr style=\"text-align: right;\">\n",
              "      <th></th>\n",
              "      <th>idTurma</th>\n",
              "      <th>anoLop</th>\n",
              "      <th>turma</th>\n",
              "      <th>matricula</th>\n",
              "      <th>idAluno</th>\n",
              "      <th>nome</th>\n",
              "      <th>situacao</th>\n",
              "      <th>anoSigaa</th>\n",
              "    </tr>\n",
              "  </thead>\n",
              "  <tbody>\n",
              "    <tr>\n",
              "      <th>0</th>\n",
              "      <td>598e15296d8650eb27d52e3d</td>\n",
              "      <td>2017.2</td>\n",
              "      <td>01A</td>\n",
              "      <td>20170106538</td>\n",
              "      <td>599b051d495fac076a06d3f5</td>\n",
              "      <td>Aleff Ramon da Silva Costa</td>\n",
              "      <td>APROVADO</td>\n",
              "      <td>2017.2</td>\n",
              "    </tr>\n",
              "  </tbody>\n",
              "</table>\n",
              "</div>"
            ],
            "text/plain": [
              "                    idTurma  anoLop  ...  situacao anoSigaa\n",
              "0  598e15296d8650eb27d52e3d  2017.2  ...  APROVADO   2017.2\n",
              "\n",
              "[1 rows x 8 columns]"
            ]
          },
          "metadata": {
            "tags": []
          },
          "execution_count": 8
        }
      ]
    },
    {
      "cell_type": "code",
      "metadata": {
        "id": "DmbH4dcvc7UN",
        "colab_type": "code",
        "colab": {}
      },
      "source": [
        "#criar um campo extra na tabela submissoes para ter certeza que a submisao pertece ao aluno matricula naquele semestre\n",
        "def anosub(data):\n",
        "  if data.month >= 8:\n",
        "    anoSubmissao = data.year + 0.2\n",
        "  else :\n",
        "    anoSubmissao = data.year + 0.1\n",
        "  return anoSubmissao\n",
        "submissoes[\"anoSubmissao\"] = submissoes[\"data\"].apply(anosub)\n",
        "\n"
      ],
      "execution_count": 0,
      "outputs": []
    },
    {
      "cell_type": "code",
      "metadata": {
        "id": "HYDs4CUmvFvI",
        "colab_type": "code",
        "colab": {
          "base_uri": "https://localhost:8080/",
          "height": 168
        },
        "outputId": "6a81fd9a-64dc-4cc4-dbcf-ed1e58bc08f4"
      },
      "source": [
        "#juntas as tabelas situacaoUsuario com a tabela de submissoes\n",
        "mergeSituacoeUsuariosSubLista = pd.merge(right=mergeSituacoeUsuarios, left = submissoes, on=[\"idAluno\"], how=\"outer\")\n",
        "\n",
        "#Remover os lixos... Onde o ano da Submissão não for igual ao ano da matricula no sigaa\n",
        "#Limpar a tabela para ficar só com as ocorrencias de usuarios que são do mesmo ano da submissao e do sigaa\n",
        "mergeSituacoeUsuariosSubLista = mergeSituacoeUsuariosSubLista.loc[mergeSituacoeUsuariosSubLista[\"anoSigaa\"] == mergeSituacoeUsuariosSubLista[\"anoSubmissao\"] ]\n",
        "mergeSituacoeUsuariosSubLista.head(1)"
      ],
      "execution_count": 10,
      "outputs": [
        {
          "output_type": "execute_result",
          "data": {
            "text/html": [
              "<div>\n",
              "<style scoped>\n",
              "    .dataframe tbody tr th:only-of-type {\n",
              "        vertical-align: middle;\n",
              "    }\n",
              "\n",
              "    .dataframe tbody tr th {\n",
              "        vertical-align: top;\n",
              "    }\n",
              "\n",
              "    .dataframe thead th {\n",
              "        text-align: right;\n",
              "    }\n",
              "</style>\n",
              "<table border=\"1\" class=\"dataframe\">\n",
              "  <thead>\n",
              "    <tr style=\"text-align: right;\">\n",
              "      <th></th>\n",
              "      <th>data</th>\n",
              "      <th>idAluno</th>\n",
              "      <th>idLista</th>\n",
              "      <th>porcentagemAcerto</th>\n",
              "      <th>quantidadeTotalLista</th>\n",
              "      <th>questao</th>\n",
              "      <th>titulo</th>\n",
              "      <th>anoSubmissao</th>\n",
              "      <th>idTurma</th>\n",
              "      <th>anoLop</th>\n",
              "      <th>turma</th>\n",
              "      <th>matricula</th>\n",
              "      <th>nome</th>\n",
              "      <th>situacao</th>\n",
              "      <th>anoSigaa</th>\n",
              "    </tr>\n",
              "  </thead>\n",
              "  <tbody>\n",
              "    <tr>\n",
              "      <th>132</th>\n",
              "      <td>2017-08-14 16:29:10.522</td>\n",
              "      <td>5991cb910be9d42f2f68b906</td>\n",
              "      <td>59c859ad3ccb990189c845ac</td>\n",
              "      <td>100.0</td>\n",
              "      <td>15.0</td>\n",
              "      <td>59885f8d684f4a3f78163c00</td>\n",
              "      <td>Lista de ExercÃ­cios 1 - ExpressÃµes e variÃ¡veis</td>\n",
              "      <td>2017.2</td>\n",
              "      <td>598e15296d8650eb27d52e3d</td>\n",
              "      <td>2017.2</td>\n",
              "      <td>01A</td>\n",
              "      <td>20170039453</td>\n",
              "      <td>Amanda</td>\n",
              "      <td>APROVADO</td>\n",
              "      <td>2017.2</td>\n",
              "    </tr>\n",
              "  </tbody>\n",
              "</table>\n",
              "</div>"
            ],
            "text/plain": [
              "                       data                   idAluno  ...  situacao  anoSigaa\n",
              "132 2017-08-14 16:29:10.522  5991cb910be9d42f2f68b906  ...  APROVADO    2017.2\n",
              "\n",
              "[1 rows x 15 columns]"
            ]
          },
          "metadata": {
            "tags": []
          },
          "execution_count": 10
        }
      ]
    },
    {
      "cell_type": "markdown",
      "metadata": {
        "id": "3Gwz3X_KSnxV",
        "colab_type": "text"
      },
      "source": [
        "**Porcentagem Máxima por aluno em cada questão da lista**"
      ]
    },
    {
      "cell_type": "code",
      "metadata": {
        "id": "Ae0uZnOdOhYc",
        "colab_type": "code",
        "colab": {
          "base_uri": "https://localhost:8080/",
          "height": 236
        },
        "outputId": "d8ca6dae-47aa-4542-c259-f93a3a368f47"
      },
      "source": [
        "NotaMaxQuestao = mergeSituacoeUsuariosSubLista.groupby([\"idLista\",\"idAluno\",\"questao\"]).max()\n",
        "NotaMaxQuestao.rename(columns={\"porcentagemAcerto\":\"porcentagemMaxima\"}, inplace=True)\n",
        "NotaMaxQuestao = NotaMaxQuestao.reset_index()\n",
        "print(NotaMaxQuestao.columns)\n",
        "NotaMaxQuestao.head(1)"
      ],
      "execution_count": 11,
      "outputs": [
        {
          "output_type": "stream",
          "text": [
            "Index(['idLista', 'idAluno', 'questao', 'data', 'porcentagemMaxima',\n",
            "       'quantidadeTotalLista', 'titulo', 'anoSubmissao', 'idTurma', 'anoLop',\n",
            "       'turma', 'matricula', 'nome', 'situacao', 'anoSigaa'],\n",
            "      dtype='object')\n"
          ],
          "name": "stdout"
        },
        {
          "output_type": "execute_result",
          "data": {
            "text/html": [
              "<div>\n",
              "<style scoped>\n",
              "    .dataframe tbody tr th:only-of-type {\n",
              "        vertical-align: middle;\n",
              "    }\n",
              "\n",
              "    .dataframe tbody tr th {\n",
              "        vertical-align: top;\n",
              "    }\n",
              "\n",
              "    .dataframe thead th {\n",
              "        text-align: right;\n",
              "    }\n",
              "</style>\n",
              "<table border=\"1\" class=\"dataframe\">\n",
              "  <thead>\n",
              "    <tr style=\"text-align: right;\">\n",
              "      <th></th>\n",
              "      <th>idLista</th>\n",
              "      <th>idAluno</th>\n",
              "      <th>questao</th>\n",
              "      <th>data</th>\n",
              "      <th>porcentagemMaxima</th>\n",
              "      <th>quantidadeTotalLista</th>\n",
              "      <th>titulo</th>\n",
              "      <th>anoSubmissao</th>\n",
              "      <th>idTurma</th>\n",
              "      <th>anoLop</th>\n",
              "      <th>turma</th>\n",
              "      <th>matricula</th>\n",
              "      <th>nome</th>\n",
              "      <th>situacao</th>\n",
              "      <th>anoSigaa</th>\n",
              "    </tr>\n",
              "  </thead>\n",
              "  <tbody>\n",
              "    <tr>\n",
              "      <th>0</th>\n",
              "      <td>599ae0e1872c0a078b68b13e</td>\n",
              "      <td>5991cb910be9d42f2f68b906</td>\n",
              "      <td>5998737a54b78701f54e9666</td>\n",
              "      <td>2017-08-23 18:19:58.885</td>\n",
              "      <td>100.0</td>\n",
              "      <td>7.0</td>\n",
              "      <td>Lista de LaboratÃ³rio 2 - ExpressÃµes LÃ³gicas...</td>\n",
              "      <td>2017.2</td>\n",
              "      <td>598e15296d8650eb27d52e3d</td>\n",
              "      <td>2017.2</td>\n",
              "      <td>01A</td>\n",
              "      <td>20170039453</td>\n",
              "      <td>Amanda</td>\n",
              "      <td>APROVADO</td>\n",
              "      <td>2017.2</td>\n",
              "    </tr>\n",
              "  </tbody>\n",
              "</table>\n",
              "</div>"
            ],
            "text/plain": [
              "                    idLista                   idAluno  ...  situacao anoSigaa\n",
              "0  599ae0e1872c0a078b68b13e  5991cb910be9d42f2f68b906  ...  APROVADO   2017.2\n",
              "\n",
              "[1 rows x 15 columns]"
            ]
          },
          "metadata": {
            "tags": []
          },
          "execution_count": 11
        }
      ]
    },
    {
      "cell_type": "markdown",
      "metadata": {
        "id": "vgm8Oox_ZcP7",
        "colab_type": "text"
      },
      "source": [
        "**Quantidade de questoes feitas por aluno em cada lista**"
      ]
    },
    {
      "cell_type": "code",
      "metadata": {
        "id": "PPKZhnBSVfg1",
        "colab_type": "code",
        "colab": {
          "base_uri": "https://localhost:8080/",
          "height": 97
        },
        "outputId": "4ba2fbea-1301-4547-a4b0-75d28f5bcb22"
      },
      "source": [
        "quantidade = NotaMaxQuestao.groupby([\"titulo\",\"idAluno\"]).count()\n",
        "quantidade.rename(columns={\"quantidadeTotalLista\":\"questoesFeitas\"}, inplace=True)\n",
        "quantidade= quantidade.reset_index()\n",
        "quantidade= quantidade[[\"titulo\",\"idAluno\",\"questoesFeitas\"]]\n",
        "print(quantidade.columns)\n",
        "quantidade.head(1)"
      ],
      "execution_count": 13,
      "outputs": [
        {
          "output_type": "stream",
          "text": [
            "Index(['titulo', 'idAluno', 'questoesFeitas'], dtype='object')\n"
          ],
          "name": "stdout"
        },
        {
          "output_type": "execute_result",
          "data": {
            "text/html": [
              "<div>\n",
              "<style scoped>\n",
              "    .dataframe tbody tr th:only-of-type {\n",
              "        vertical-align: middle;\n",
              "    }\n",
              "\n",
              "    .dataframe tbody tr th {\n",
              "        vertical-align: top;\n",
              "    }\n",
              "\n",
              "    .dataframe thead th {\n",
              "        text-align: right;\n",
              "    }\n",
              "</style>\n",
              "<table border=\"1\" class=\"dataframe\">\n",
              "  <thead>\n",
              "    <tr style=\"text-align: right;\">\n",
              "      <th></th>\n",
              "      <th>titulo</th>\n",
              "      <th>idAluno</th>\n",
              "      <th>questoesFeitas</th>\n",
              "    </tr>\n",
              "  </thead>\n",
              "  <tbody>\n",
              "    <tr>\n",
              "      <th>0</th>\n",
              "      <td>Lista 1.0 - ExpressÃµes aritmÃ©ticas</td>\n",
              "      <td>59b91272570dda40b535c50d</td>\n",
              "      <td>10</td>\n",
              "    </tr>\n",
              "  </tbody>\n",
              "</table>\n",
              "</div>"
            ],
            "text/plain": [
              "                                 titulo  ... questoesFeitas\n",
              "0  Lista 1.0 - ExpressÃµes aritmÃ©ticas  ...             10\n",
              "\n",
              "[1 rows x 3 columns]"
            ]
          },
          "metadata": {
            "tags": []
          },
          "execution_count": 13
        }
      ]
    },
    {
      "cell_type": "markdown",
      "metadata": {
        "id": "aEJHPj8P8VLb",
        "colab_type": "text"
      },
      "source": [
        "**Nota final dos alunos por lista**"
      ]
    },
    {
      "cell_type": "code",
      "metadata": {
        "id": "LIOUjOfsS2TA",
        "colab_type": "code",
        "colab": {
          "base_uri": "https://localhost:8080/",
          "height": 97
        },
        "outputId": "fbcc7848-4c0e-45f1-f555-4953363d22bc"
      },
      "source": [
        "NotaLista = NotaMaxQuestao.groupby([\"titulo\",\"idAluno\"]).sum()\n",
        "NotaLista.rename(columns={\"porcentagemMaxima\":\"SomaLista\", \"quantidade\":\"questoesFeitas\"}, inplace=True)\n",
        "#NotaLista = NotaLista.drop('ano',axis=1)\n",
        "NotaLista = NotaLista.reset_index()\n",
        "NotaLista = NotaLista[[\"titulo\",'idAluno','SomaLista']]\n",
        "print(NotaLista.columns)\n",
        "NotaLista.head(1)"
      ],
      "execution_count": 14,
      "outputs": [
        {
          "output_type": "stream",
          "text": [
            "Index(['titulo', 'idAluno', 'SomaLista'], dtype='object')\n"
          ],
          "name": "stdout"
        },
        {
          "output_type": "execute_result",
          "data": {
            "text/html": [
              "<div>\n",
              "<style scoped>\n",
              "    .dataframe tbody tr th:only-of-type {\n",
              "        vertical-align: middle;\n",
              "    }\n",
              "\n",
              "    .dataframe tbody tr th {\n",
              "        vertical-align: top;\n",
              "    }\n",
              "\n",
              "    .dataframe thead th {\n",
              "        text-align: right;\n",
              "    }\n",
              "</style>\n",
              "<table border=\"1\" class=\"dataframe\">\n",
              "  <thead>\n",
              "    <tr style=\"text-align: right;\">\n",
              "      <th></th>\n",
              "      <th>titulo</th>\n",
              "      <th>idAluno</th>\n",
              "      <th>SomaLista</th>\n",
              "    </tr>\n",
              "  </thead>\n",
              "  <tbody>\n",
              "    <tr>\n",
              "      <th>0</th>\n",
              "      <td>Lista 1.0 - ExpressÃµes aritmÃ©ticas</td>\n",
              "      <td>59b91272570dda40b535c50d</td>\n",
              "      <td>1000.0</td>\n",
              "    </tr>\n",
              "  </tbody>\n",
              "</table>\n",
              "</div>"
            ],
            "text/plain": [
              "                                 titulo                   idAluno  SomaLista\n",
              "0  Lista 1.0 - ExpressÃµes aritmÃ©ticas  59b91272570dda40b535c50d     1000.0"
            ]
          },
          "metadata": {
            "tags": []
          },
          "execution_count": 14
        }
      ]
    },
    {
      "cell_type": "code",
      "metadata": {
        "id": "xrkgbDhyZtc5",
        "colab_type": "code",
        "colab": {
          "base_uri": "https://localhost:8080/",
          "height": 114
        },
        "outputId": "2c4ce27b-c6ca-486f-bdac-0152d590ef9e"
      },
      "source": [
        "mergeQuanNotaLista =  pd.merge(right= quantidade, left = NotaLista, on=['idAluno','titulo'], how=\"inner\")\n",
        "print(mergeQuanNotaLista.columns)\n",
        "print(mergeQuanNotaLista.shape)\n",
        "mergeQuanNotaLista.head(1)"
      ],
      "execution_count": 15,
      "outputs": [
        {
          "output_type": "stream",
          "text": [
            "Index(['titulo', 'idAluno', 'SomaLista', 'questoesFeitas'], dtype='object')\n",
            "(6958, 4)\n"
          ],
          "name": "stdout"
        },
        {
          "output_type": "execute_result",
          "data": {
            "text/html": [
              "<div>\n",
              "<style scoped>\n",
              "    .dataframe tbody tr th:only-of-type {\n",
              "        vertical-align: middle;\n",
              "    }\n",
              "\n",
              "    .dataframe tbody tr th {\n",
              "        vertical-align: top;\n",
              "    }\n",
              "\n",
              "    .dataframe thead th {\n",
              "        text-align: right;\n",
              "    }\n",
              "</style>\n",
              "<table border=\"1\" class=\"dataframe\">\n",
              "  <thead>\n",
              "    <tr style=\"text-align: right;\">\n",
              "      <th></th>\n",
              "      <th>titulo</th>\n",
              "      <th>idAluno</th>\n",
              "      <th>SomaLista</th>\n",
              "      <th>questoesFeitas</th>\n",
              "    </tr>\n",
              "  </thead>\n",
              "  <tbody>\n",
              "    <tr>\n",
              "      <th>0</th>\n",
              "      <td>Lista 1.0 - ExpressÃµes aritmÃ©ticas</td>\n",
              "      <td>59b91272570dda40b535c50d</td>\n",
              "      <td>1000.0</td>\n",
              "      <td>10</td>\n",
              "    </tr>\n",
              "  </tbody>\n",
              "</table>\n",
              "</div>"
            ],
            "text/plain": [
              "                                 titulo  ... questoesFeitas\n",
              "0  Lista 1.0 - ExpressÃµes aritmÃ©ticas  ...             10\n",
              "\n",
              "[1 rows x 4 columns]"
            ]
          },
          "metadata": {
            "tags": []
          },
          "execution_count": 15
        }
      ]
    },
    {
      "cell_type": "markdown",
      "metadata": {
        "id": "tVAYs1f6jAEj",
        "colab_type": "text"
      },
      "source": [
        "**Quantidade de questoes por lista**"
      ]
    },
    {
      "cell_type": "code",
      "metadata": {
        "id": "aW34ME3nfdlH",
        "colab_type": "code",
        "colab": {
          "base_uri": "https://localhost:8080/",
          "height": 221
        },
        "outputId": "cdd769d2-998f-470c-b00d-ee4bd0ef281a"
      },
      "source": [
        "quantQuesList = mergeSituacoeUsuariosSubLista[['quantidadeTotalLista','titulo']]\n",
        "quantQuesList =quantQuesList.drop_duplicates()\n",
        "print(quantQuesList.shape)\n",
        "quantQuesList.head()"
      ],
      "execution_count": 16,
      "outputs": [
        {
          "output_type": "stream",
          "text": [
            "(22, 2)\n"
          ],
          "name": "stdout"
        },
        {
          "output_type": "execute_result",
          "data": {
            "text/html": [
              "<div>\n",
              "<style scoped>\n",
              "    .dataframe tbody tr th:only-of-type {\n",
              "        vertical-align: middle;\n",
              "    }\n",
              "\n",
              "    .dataframe tbody tr th {\n",
              "        vertical-align: top;\n",
              "    }\n",
              "\n",
              "    .dataframe thead th {\n",
              "        text-align: right;\n",
              "    }\n",
              "</style>\n",
              "<table border=\"1\" class=\"dataframe\">\n",
              "  <thead>\n",
              "    <tr style=\"text-align: right;\">\n",
              "      <th></th>\n",
              "      <th>quantidadeTotalLista</th>\n",
              "      <th>titulo</th>\n",
              "    </tr>\n",
              "  </thead>\n",
              "  <tbody>\n",
              "    <tr>\n",
              "      <th>132</th>\n",
              "      <td>15.0</td>\n",
              "      <td>Lista de ExercÃ­cios 1 - ExpressÃµes e variÃ¡veis</td>\n",
              "    </tr>\n",
              "    <tr>\n",
              "      <th>136</th>\n",
              "      <td>9.0</td>\n",
              "      <td>Lista de RevisÃ£o Unidade 1</td>\n",
              "    </tr>\n",
              "    <tr>\n",
              "      <th>137</th>\n",
              "      <td>7.0</td>\n",
              "      <td>Lista de LaboratÃ³rio 2 - ExpressÃµes LÃ³gicas...</td>\n",
              "    </tr>\n",
              "    <tr>\n",
              "      <th>140</th>\n",
              "      <td>15.0</td>\n",
              "      <td>Lista de ExercÃ­cios 2 - Estruturas Condicionais</td>\n",
              "    </tr>\n",
              "    <tr>\n",
              "      <th>154</th>\n",
              "      <td>15.0</td>\n",
              "      <td>Lista de ExercÃ­cios 3 - LaÃ§o Condicional</td>\n",
              "    </tr>\n",
              "  </tbody>\n",
              "</table>\n",
              "</div>"
            ],
            "text/plain": [
              "     quantidadeTotalLista                                             titulo\n",
              "132                  15.0  Lista de ExercÃ­cios 1 - ExpressÃµes e variÃ¡veis\n",
              "136                   9.0                        Lista de RevisÃ£o Unidade 1\n",
              "137                   7.0  Lista de LaboratÃ³rio 2 - ExpressÃµes LÃ³gicas...\n",
              "140                  15.0   Lista de ExercÃ­cios 2 - Estruturas Condicionais\n",
              "154                  15.0         Lista de ExercÃ­cios 3 - LaÃ§o Condicional"
            ]
          },
          "metadata": {
            "tags": []
          },
          "execution_count": 16
        }
      ]
    },
    {
      "cell_type": "markdown",
      "metadata": {
        "id": "-CZxcN9-xTwh",
        "colab_type": "text"
      },
      "source": [
        "**Concatenando as informações das tabelas mergeQuanNotaLista e quantidade para calcular o nota final de cada lista**"
      ]
    },
    {
      "cell_type": "code",
      "metadata": {
        "id": "wi0x_t8MjWnp",
        "colab_type": "code",
        "colab": {
          "base_uri": "https://localhost:8080/",
          "height": 210
        },
        "outputId": "543bb104-f1ff-4d13-bc55-61f5e3fd50db"
      },
      "source": [
        "mergeQuanNotaListaQuanQ = mergeQuanNotaLista.join(quantQuesList.set_index('titulo'), on='titulo')\n",
        "mergeQuanNotaListaQuanQ[\"NotaLista\"]= mergeQuanNotaListaQuanQ[\"SomaLista\"] /mergeQuanNotaListaQuanQ['quantidadeTotalLista']\n",
        "print(mergeQuanNotaListaQuanQ.columns)\n",
        "print(mergeQuanNotaListaQuanQ.shape)\n",
        "mergeQuanNotaListaQuanQ.head(3)"
      ],
      "execution_count": 18,
      "outputs": [
        {
          "output_type": "stream",
          "text": [
            "Index(['titulo', 'idAluno', 'SomaLista', 'questoesFeitas',\n",
            "       'quantidadeTotalLista', 'NotaLista'],\n",
            "      dtype='object')\n",
            "(6958, 6)\n"
          ],
          "name": "stdout"
        },
        {
          "output_type": "execute_result",
          "data": {
            "text/html": [
              "<div>\n",
              "<style scoped>\n",
              "    .dataframe tbody tr th:only-of-type {\n",
              "        vertical-align: middle;\n",
              "    }\n",
              "\n",
              "    .dataframe tbody tr th {\n",
              "        vertical-align: top;\n",
              "    }\n",
              "\n",
              "    .dataframe thead th {\n",
              "        text-align: right;\n",
              "    }\n",
              "</style>\n",
              "<table border=\"1\" class=\"dataframe\">\n",
              "  <thead>\n",
              "    <tr style=\"text-align: right;\">\n",
              "      <th></th>\n",
              "      <th>titulo</th>\n",
              "      <th>idAluno</th>\n",
              "      <th>SomaLista</th>\n",
              "      <th>questoesFeitas</th>\n",
              "      <th>quantidadeTotalLista</th>\n",
              "      <th>NotaLista</th>\n",
              "    </tr>\n",
              "  </thead>\n",
              "  <tbody>\n",
              "    <tr>\n",
              "      <th>0</th>\n",
              "      <td>Lista 1.0 - ExpressÃµes aritmÃ©ticas</td>\n",
              "      <td>59b91272570dda40b535c50d</td>\n",
              "      <td>1000.0</td>\n",
              "      <td>10</td>\n",
              "      <td>10.0</td>\n",
              "      <td>100.0</td>\n",
              "    </tr>\n",
              "    <tr>\n",
              "      <th>1</th>\n",
              "      <td>Lista 1.0 - ExpressÃµes aritmÃ©ticas</td>\n",
              "      <td>5b7b1f4f9513a60408ac2d21</td>\n",
              "      <td>1000.0</td>\n",
              "      <td>10</td>\n",
              "      <td>10.0</td>\n",
              "      <td>100.0</td>\n",
              "    </tr>\n",
              "    <tr>\n",
              "      <th>2</th>\n",
              "      <td>Lista 1.0 - ExpressÃµes aritmÃ©ticas</td>\n",
              "      <td>5c77f58d7776520411e9aff4</td>\n",
              "      <td>1000.0</td>\n",
              "      <td>10</td>\n",
              "      <td>10.0</td>\n",
              "      <td>100.0</td>\n",
              "    </tr>\n",
              "  </tbody>\n",
              "</table>\n",
              "</div>"
            ],
            "text/plain": [
              "                                 titulo  ... NotaLista\n",
              "0  Lista 1.0 - ExpressÃµes aritmÃ©ticas  ...     100.0\n",
              "1  Lista 1.0 - ExpressÃµes aritmÃ©ticas  ...     100.0\n",
              "2  Lista 1.0 - ExpressÃµes aritmÃ©ticas  ...     100.0\n",
              "\n",
              "[3 rows x 6 columns]"
            ]
          },
          "metadata": {
            "tags": []
          },
          "execution_count": 18
        }
      ]
    },
    {
      "cell_type": "markdown",
      "metadata": {
        "id": "RdCzRBxtbI0F",
        "colab_type": "text"
      },
      "source": [
        "**Tabela final com todas as informações do aluno das listas**"
      ]
    },
    {
      "cell_type": "code",
      "metadata": {
        "id": "fOZU6sHYbJ6p",
        "colab_type": "code",
        "colab": {
          "base_uri": "https://localhost:8080/",
          "height": 374
        },
        "outputId": "7159f533-6087-4870-e5df-35dec7cfce34"
      },
      "source": [
        "mergeSituacoeUsuariosSubLista.rename(columns={'titulo':\"tituloLista\"}, inplace=True)\n",
        "mergeSituacoeUsuariosSubListaM= mergeSituacoeUsuariosSubLista[[\"tituloLista\",'idAluno', 'ano', 'descricaoTurma', 'idTurma','matricula','nome']]\n",
        "\n",
        "#Renomear as colunas da tabela Listas\n",
        "mergeQuanNotaListaQuanQ.rename(columns={'titulo':\"tituloLista\",\"questoesFeitas\":\"questoesFeitasLista\",\"quantidade\":\"quantidadeLista\"}, inplace=True)\n",
        "mergeQuanNotaListaQuanM = mergeQuanNotaListaQuanQ[['tituloLista', 'idAluno','questoesFeitasLista', 'quantidadeLista','NotaLista']]\n",
        "\n",
        "tabelaFinalListas= mergeQuanNotaListaQuanQ.join(mergeSituacoeUsuariosSubListaM.set_index(['tituloLista','idAluno']), on=['tituloLista','idAluno'])\n",
        "#remover as linhas duplicadas\n",
        "tabelaFinalListas = tabelaFinalListas.drop_duplicates()\n",
        "tabelaFinalListas.head()\n"
      ],
      "execution_count": 23,
      "outputs": [
        {
          "output_type": "error",
          "ename": "KeyError",
          "evalue": "ignored",
          "traceback": [
            "\u001b[0;31m---------------------------------------------------------------------------\u001b[0m",
            "\u001b[0;31mKeyError\u001b[0m                                  Traceback (most recent call last)",
            "\u001b[0;32m<ipython-input-23-f645061e3ff1>\u001b[0m in \u001b[0;36m<module>\u001b[0;34m()\u001b[0m\n\u001b[1;32m      1\u001b[0m \u001b[0mmergeSituacoeUsuariosSubLista\u001b[0m\u001b[0;34m.\u001b[0m\u001b[0mrename\u001b[0m\u001b[0;34m(\u001b[0m\u001b[0mcolumns\u001b[0m\u001b[0;34m=\u001b[0m\u001b[0;34m{\u001b[0m\u001b[0;34m'titulo'\u001b[0m\u001b[0;34m:\u001b[0m\u001b[0;34m\"tituloLista\"\u001b[0m\u001b[0;34m}\u001b[0m\u001b[0;34m,\u001b[0m \u001b[0minplace\u001b[0m\u001b[0;34m=\u001b[0m\u001b[0;32mTrue\u001b[0m\u001b[0;34m)\u001b[0m\u001b[0;34m\u001b[0m\u001b[0;34m\u001b[0m\u001b[0m\n\u001b[0;32m----> 2\u001b[0;31m \u001b[0mmergeSituacoeUsuariosSubListaM\u001b[0m\u001b[0;34m=\u001b[0m \u001b[0mmergeSituacoeUsuariosSubLista\u001b[0m\u001b[0;34m[\u001b[0m\u001b[0;34m[\u001b[0m\u001b[0;34m\"tituloLista\"\u001b[0m\u001b[0;34m,\u001b[0m\u001b[0;34m'idAluno'\u001b[0m\u001b[0;34m,\u001b[0m \u001b[0;34m'ano'\u001b[0m\u001b[0;34m,\u001b[0m \u001b[0;34m'descricaoTurma'\u001b[0m\u001b[0;34m,\u001b[0m \u001b[0;34m'idTurma'\u001b[0m\u001b[0;34m,\u001b[0m\u001b[0;34m'matricula'\u001b[0m\u001b[0;34m,\u001b[0m\u001b[0;34m'nome'\u001b[0m\u001b[0;34m]\u001b[0m\u001b[0;34m]\u001b[0m\u001b[0;34m\u001b[0m\u001b[0;34m\u001b[0m\u001b[0m\n\u001b[0m\u001b[1;32m      3\u001b[0m \u001b[0;34m\u001b[0m\u001b[0m\n\u001b[1;32m      4\u001b[0m \u001b[0;31m#Renomear as colunas da tabela Listas\u001b[0m\u001b[0;34m\u001b[0m\u001b[0;34m\u001b[0m\u001b[0;34m\u001b[0m\u001b[0m\n\u001b[1;32m      5\u001b[0m \u001b[0mmergeQuanNotaListaQuanQ\u001b[0m\u001b[0;34m.\u001b[0m\u001b[0mrename\u001b[0m\u001b[0;34m(\u001b[0m\u001b[0mcolumns\u001b[0m\u001b[0;34m=\u001b[0m\u001b[0;34m{\u001b[0m\u001b[0;34m'titulo'\u001b[0m\u001b[0;34m:\u001b[0m\u001b[0;34m\"tituloLista\"\u001b[0m\u001b[0;34m,\u001b[0m\u001b[0;34m\"questoesFeitas\"\u001b[0m\u001b[0;34m:\u001b[0m\u001b[0;34m\"questoesFeitasLista\"\u001b[0m\u001b[0;34m,\u001b[0m\u001b[0;34m\"quantidade\"\u001b[0m\u001b[0;34m:\u001b[0m\u001b[0;34m\"quantidadeLista\"\u001b[0m\u001b[0;34m}\u001b[0m\u001b[0;34m,\u001b[0m \u001b[0minplace\u001b[0m\u001b[0;34m=\u001b[0m\u001b[0;32mTrue\u001b[0m\u001b[0;34m)\u001b[0m\u001b[0;34m\u001b[0m\u001b[0;34m\u001b[0m\u001b[0m\n",
            "\u001b[0;32m/usr/local/lib/python3.6/dist-packages/pandas/core/frame.py\u001b[0m in \u001b[0;36m__getitem__\u001b[0;34m(self, key)\u001b[0m\n\u001b[1;32m   2932\u001b[0m                 \u001b[0mkey\u001b[0m \u001b[0;34m=\u001b[0m \u001b[0mlist\u001b[0m\u001b[0;34m(\u001b[0m\u001b[0mkey\u001b[0m\u001b[0;34m)\u001b[0m\u001b[0;34m\u001b[0m\u001b[0;34m\u001b[0m\u001b[0m\n\u001b[1;32m   2933\u001b[0m             indexer = self.loc._convert_to_indexer(key, axis=1,\n\u001b[0;32m-> 2934\u001b[0;31m                                                    raise_missing=True)\n\u001b[0m\u001b[1;32m   2935\u001b[0m \u001b[0;34m\u001b[0m\u001b[0m\n\u001b[1;32m   2936\u001b[0m         \u001b[0;31m# take() does not accept boolean indexers\u001b[0m\u001b[0;34m\u001b[0m\u001b[0;34m\u001b[0m\u001b[0;34m\u001b[0m\u001b[0m\n",
            "\u001b[0;32m/usr/local/lib/python3.6/dist-packages/pandas/core/indexing.py\u001b[0m in \u001b[0;36m_convert_to_indexer\u001b[0;34m(self, obj, axis, is_setter, raise_missing)\u001b[0m\n\u001b[1;32m   1352\u001b[0m                 kwargs = {'raise_missing': True if is_setter else\n\u001b[1;32m   1353\u001b[0m                           raise_missing}\n\u001b[0;32m-> 1354\u001b[0;31m                 \u001b[0;32mreturn\u001b[0m \u001b[0mself\u001b[0m\u001b[0;34m.\u001b[0m\u001b[0m_get_listlike_indexer\u001b[0m\u001b[0;34m(\u001b[0m\u001b[0mobj\u001b[0m\u001b[0;34m,\u001b[0m \u001b[0maxis\u001b[0m\u001b[0;34m,\u001b[0m \u001b[0;34m**\u001b[0m\u001b[0mkwargs\u001b[0m\u001b[0;34m)\u001b[0m\u001b[0;34m[\u001b[0m\u001b[0;36m1\u001b[0m\u001b[0;34m]\u001b[0m\u001b[0;34m\u001b[0m\u001b[0;34m\u001b[0m\u001b[0m\n\u001b[0m\u001b[1;32m   1355\u001b[0m         \u001b[0;32melse\u001b[0m\u001b[0;34m:\u001b[0m\u001b[0;34m\u001b[0m\u001b[0;34m\u001b[0m\u001b[0m\n\u001b[1;32m   1356\u001b[0m             \u001b[0;32mtry\u001b[0m\u001b[0;34m:\u001b[0m\u001b[0;34m\u001b[0m\u001b[0;34m\u001b[0m\u001b[0m\n",
            "\u001b[0;32m/usr/local/lib/python3.6/dist-packages/pandas/core/indexing.py\u001b[0m in \u001b[0;36m_get_listlike_indexer\u001b[0;34m(self, key, axis, raise_missing)\u001b[0m\n\u001b[1;32m   1159\u001b[0m         self._validate_read_indexer(keyarr, indexer,\n\u001b[1;32m   1160\u001b[0m                                     \u001b[0mo\u001b[0m\u001b[0;34m.\u001b[0m\u001b[0m_get_axis_number\u001b[0m\u001b[0;34m(\u001b[0m\u001b[0maxis\u001b[0m\u001b[0;34m)\u001b[0m\u001b[0;34m,\u001b[0m\u001b[0;34m\u001b[0m\u001b[0;34m\u001b[0m\u001b[0m\n\u001b[0;32m-> 1161\u001b[0;31m                                     raise_missing=raise_missing)\n\u001b[0m\u001b[1;32m   1162\u001b[0m         \u001b[0;32mreturn\u001b[0m \u001b[0mkeyarr\u001b[0m\u001b[0;34m,\u001b[0m \u001b[0mindexer\u001b[0m\u001b[0;34m\u001b[0m\u001b[0;34m\u001b[0m\u001b[0m\n\u001b[1;32m   1163\u001b[0m \u001b[0;34m\u001b[0m\u001b[0m\n",
            "\u001b[0;32m/usr/local/lib/python3.6/dist-packages/pandas/core/indexing.py\u001b[0m in \u001b[0;36m_validate_read_indexer\u001b[0;34m(self, key, indexer, axis, raise_missing)\u001b[0m\n\u001b[1;32m   1250\u001b[0m             \u001b[0;32mif\u001b[0m \u001b[0;32mnot\u001b[0m\u001b[0;34m(\u001b[0m\u001b[0mself\u001b[0m\u001b[0;34m.\u001b[0m\u001b[0mname\u001b[0m \u001b[0;34m==\u001b[0m \u001b[0;34m'loc'\u001b[0m \u001b[0;32mand\u001b[0m \u001b[0;32mnot\u001b[0m \u001b[0mraise_missing\u001b[0m\u001b[0;34m)\u001b[0m\u001b[0;34m:\u001b[0m\u001b[0;34m\u001b[0m\u001b[0;34m\u001b[0m\u001b[0m\n\u001b[1;32m   1251\u001b[0m                 \u001b[0mnot_found\u001b[0m \u001b[0;34m=\u001b[0m \u001b[0mlist\u001b[0m\u001b[0;34m(\u001b[0m\u001b[0mset\u001b[0m\u001b[0;34m(\u001b[0m\u001b[0mkey\u001b[0m\u001b[0;34m)\u001b[0m \u001b[0;34m-\u001b[0m \u001b[0mset\u001b[0m\u001b[0;34m(\u001b[0m\u001b[0max\u001b[0m\u001b[0;34m)\u001b[0m\u001b[0;34m)\u001b[0m\u001b[0;34m\u001b[0m\u001b[0;34m\u001b[0m\u001b[0m\n\u001b[0;32m-> 1252\u001b[0;31m                 \u001b[0;32mraise\u001b[0m \u001b[0mKeyError\u001b[0m\u001b[0;34m(\u001b[0m\u001b[0;34m\"{} not in index\"\u001b[0m\u001b[0;34m.\u001b[0m\u001b[0mformat\u001b[0m\u001b[0;34m(\u001b[0m\u001b[0mnot_found\u001b[0m\u001b[0;34m)\u001b[0m\u001b[0;34m)\u001b[0m\u001b[0;34m\u001b[0m\u001b[0;34m\u001b[0m\u001b[0m\n\u001b[0m\u001b[1;32m   1253\u001b[0m \u001b[0;34m\u001b[0m\u001b[0m\n\u001b[1;32m   1254\u001b[0m             \u001b[0;31m# we skip the warning on Categorical/Interval\u001b[0m\u001b[0;34m\u001b[0m\u001b[0;34m\u001b[0m\u001b[0;34m\u001b[0m\u001b[0m\n",
            "\u001b[0;31mKeyError\u001b[0m: \"['descricaoTurma', 'ano'] not in index\""
          ]
        }
      ]
    },
    {
      "cell_type": "markdown",
      "metadata": {
        "id": "INaZBI7BbUNP",
        "colab_type": "text"
      },
      "source": [
        "**Exportando o dataframe para um arquivo CSV**"
      ]
    },
    {
      "cell_type": "code",
      "metadata": {
        "id": "2CM1YgZtbTn3",
        "colab_type": "code",
        "colab": {}
      },
      "source": [
        "#tabelaFinalT= tabelaFinal.drop('nome',axis=1)\n",
        "tabelaFinalListas.to_csv(r'lopUsuarioNotaLista.csv')"
      ],
      "execution_count": 0,
      "outputs": []
    },
    {
      "cell_type": "markdown",
      "metadata": {
        "id": "WRH6k0Xz3ugd",
        "colab_type": "text"
      },
      "source": [
        "**#Expandir a tabela de provas para que cada questão das provas seja uma linha da tabela**"
      ]
    },
    {
      "cell_type": "code",
      "metadata": {
        "id": "6Yb1MB1s3r_N",
        "colab_type": "code",
        "colab": {}
      },
      "source": [
        "colunas   = [\"idProva\",\"idQuestao\",\"titulo\",'data']\n",
        "provaNovo = pd.DataFrame(columns=colunas)\n",
        "for i in range(len(tabProvas)):\n",
        "  idProva   = tabProvas[\"_id\"].iloc[i]\n",
        "  titulo    = tabProvas[\"titulo\"].iloc[i]\n",
        "  data      = tabProvas[\"iniciou\"].iloc[i]\n",
        "  q         = tabProvas[\"questao\"].iloc[i]\n",
        "  for a in range(6):\n",
        "    questao = q[a]\n",
        "    dic = {\"idProva\": idProva ,\"titulo\":titulo, \"idQuestao\": questao ,\"data\":data}\n",
        "    provaNovo = pd.concat([provaNovo, pd.DataFrame(dic, index=[0])],  ignore_index=True, sort=False )\n"
      ],
      "execution_count": 0,
      "outputs": []
    },
    {
      "cell_type": "markdown",
      "metadata": {
        "id": "3iraaQLC33ii",
        "colab_type": "text"
      },
      "source": [
        "**Deletar as linhas que estão com NaN**"
      ]
    },
    {
      "cell_type": "code",
      "metadata": {
        "id": "9t2m53KV31Y4",
        "colab_type": "code",
        "colab": {}
      },
      "source": [
        "provaNovo = provaNovo.dropna(axis=0, how='any')\n",
        "print(provaNovo.shape)\n",
        "provaNovo.info()"
      ],
      "execution_count": 0,
      "outputs": []
    },
    {
      "cell_type": "markdown",
      "metadata": {
        "id": "mxZiuYbv8yVw",
        "colab_type": "text"
      },
      "source": [
        "**Criar o campo quantidade de questoes por prova**"
      ]
    },
    {
      "cell_type": "code",
      "metadata": {
        "id": "g2OTrIvu3eDn",
        "colab_type": "code",
        "colab": {}
      },
      "source": [
        "quantidade = provaNovo.groupby(\"idProva\").count()\n",
        "quantidade = quantidade.reset_index()\n",
        "quantidade = quantidade.drop(['titulo',\"data\"],axis=1)\n",
        "quantidade.rename(columns={\"idQuestao\":\"quantidade\"}, inplace=True)\n",
        "provaNovo = pd.merge(left = provaNovo, right = quantidade, on='idProva', how=\"right\")\n",
        "print(provaNovo.info())\n"
      ],
      "execution_count": 0,
      "outputs": []
    },
    {
      "cell_type": "markdown",
      "metadata": {
        "id": "DIMG4ie-759B",
        "colab_type": "text"
      },
      "source": [
        "**Criar o campo ano por prova**"
      ]
    },
    {
      "cell_type": "code",
      "metadata": {
        "id": "vDsK_tp7783e",
        "colab_type": "code",
        "colab": {}
      },
      "source": [
        "#Alterando o tipo da variavel ano para datetime\n",
        "provaNovo[\"data\"] = pd.to_datetime(provaNovo[\"data\"], format = \"%Y/%m/%dT%H:%M:%S\")\n",
        "\n",
        "provaNovo[\"ano\"], provaNovo[\"mes\"] = provaNovo['data'].dt.year, provaNovo['data'].dt.month\n",
        "#mergeSubProvas.head()\n",
        "\n",
        "def data(data) :\n",
        "  mes = data[\"mes\"]\n",
        "  if mes <= 7 :\n",
        "    return data[\"ano\"]+0.1\n",
        "  else:\n",
        "    return data[\"ano\"]+0.2\n",
        "provaNovo[\"ano\"] =provaNovo.apply(data, axis=1)\n",
        "provaNovo = provaNovo.drop(\"mes\",axis = 1)\n",
        "provaNovo.head()"
      ],
      "execution_count": 0,
      "outputs": []
    },
    {
      "cell_type": "markdown",
      "metadata": {
        "id": "mTc7442I_GnF",
        "colab_type": "text"
      },
      "source": [
        "**Criar o campo ano na tabela tabSubProvas**"
      ]
    },
    {
      "cell_type": "code",
      "metadata": {
        "id": "1fJPZTLM_GJP",
        "colab_type": "code",
        "colab": {}
      },
      "source": [
        "tabSubProvas[\"ano\"],tabSubProvas[\"mes\"] = tabSubProvas['data'].dt.year, tabSubProvas['data'].dt.month\n",
        "tabSubProvas[\"ano\"] = tabSubProvas.apply(data, axis=1)\n",
        "tabSubProvas = tabSubProvas.drop(\"mes\",axis = 1)\n",
        "tabSubProvas.head()"
      ],
      "execution_count": 0,
      "outputs": []
    },
    {
      "cell_type": "markdown",
      "metadata": {
        "id": "kKd-dg3a4EMu",
        "colab_type": "text"
      },
      "source": [
        "**Concatenar as tabelas provas e submissao provas**"
      ]
    },
    {
      "cell_type": "code",
      "metadata": {
        "id": "-htifwfe3_ey",
        "colab_type": "code",
        "colab": {}
      },
      "source": [
        "mergeSubProvas = pd.merge(right= tabSubProvas, left = provaNovo, on=['idQuestao',\"ano\"], how=\"right\")\n",
        "#Só ficar com os registros das provas que o professor criou\n",
        "mergeSubProvas = mergeSubProvas.loc[mergeSubProvas[\"idProva_x\"] == mergeSubProvas[\"idProva_y\"],:]\n",
        "mergeSubProvas = mergeSubProvas.drop(\"idProva_y\", axis=1)\n",
        "mergeSubProvas.rename(columns={\"idProva_x\":\"idProva\", \"data_x\":\"dataProva\",\"data_y\":\"dataSubmissao\"}, inplace=True)\n",
        "mergeSubProvas.info()"
      ],
      "execution_count": 0,
      "outputs": []
    },
    {
      "cell_type": "code",
      "metadata": {
        "id": "Tssdh0AUAD1R",
        "colab_type": "code",
        "colab": {}
      },
      "source": [
        "mergeSubProvas.head()"
      ],
      "execution_count": 0,
      "outputs": []
    },
    {
      "cell_type": "markdown",
      "metadata": {
        "id": "-YxXKD2E4Tw2",
        "colab_type": "text"
      },
      "source": [
        "**#Criar o arquivo CSV com as informações das provas e das submissoes**"
      ]
    },
    {
      "cell_type": "code",
      "metadata": {
        "id": "NqXLHEBs4R6C",
        "colab_type": "code",
        "colab": {}
      },
      "source": [
        "mergeSubProvas.to_csv(r'lopSubProva.csv')"
      ],
      "execution_count": 0,
      "outputs": []
    },
    {
      "cell_type": "markdown",
      "metadata": {
        "id": "veoUZvHadu_r",
        "colab_type": "text"
      },
      "source": [
        "**Concatenar a tabela mergeUserTurmas e mergeSubProvas**"
      ]
    },
    {
      "cell_type": "code",
      "metadata": {
        "id": "7uH8x7IrduVr",
        "colab_type": "code",
        "colab": {}
      },
      "source": [
        "mergeSubProvas.rename(columns={\"user\":\"idAluno\"}, inplace=True)\n",
        "mergeUseTurmasSubProva = pd.merge(right= mergeUserTurmas, left = mergeSubProvas, on=['idAluno',\"ano\"], how=\"outer\")\n",
        "print (mergeUseTurmasSubProva.shape)\n",
        "print(mergeUseTurmasSubProva.columns)\n",
        "mergeUseTurmasSubProva.head(1)"
      ],
      "execution_count": 0,
      "outputs": []
    },
    {
      "cell_type": "markdown",
      "metadata": {
        "id": "In4P83Ize-d8",
        "colab_type": "text"
      },
      "source": [
        "**Criar um arquivo CSV com as informações dos usuarios, turmas, submissões e as informações da lista**"
      ]
    },
    {
      "cell_type": "code",
      "metadata": {
        "id": "LCl_25pmfBem",
        "colab_type": "code",
        "colab": {}
      },
      "source": [
        "mergeUseTurmasSubProva.to_csv(r'lopUseTurmasSubProva.csv')"
      ],
      "execution_count": 0,
      "outputs": []
    },
    {
      "cell_type": "markdown",
      "metadata": {
        "id": "tnWyRBqifGNj",
        "colab_type": "text"
      },
      "source": [
        "**Montar um arquivo CSV com as notas de cada aluno por lista**"
      ]
    },
    {
      "cell_type": "code",
      "metadata": {
        "id": "CPZyl5N4eW-A",
        "colab_type": "code",
        "colab": {}
      },
      "source": [
        "#Remover todas as linhas que tem dados faltantes\n",
        "mergeUseTurmasSubProvaM = mergeUseTurmasSubProva.dropna(axis=0, how='any')\n"
      ],
      "execution_count": 0,
      "outputs": []
    },
    {
      "cell_type": "markdown",
      "metadata": {
        "id": "zh_EthYa49S2",
        "colab_type": "text"
      },
      "source": [
        "**Montar um arquivo CSV com as notas de cada aluno por prova** \\\\\n",
        "**Porcentagem Máxima por aluno em cada questão da prova**"
      ]
    },
    {
      "cell_type": "code",
      "metadata": {
        "id": "IJEVj02x5F-T",
        "colab_type": "code",
        "colab": {}
      },
      "source": [
        "NotaMaxQuestaoProva = mergeUseTurmasSubProvaM.groupby([\"idProva\",\"idAluno\",\"idQuestao\"]).max()\n",
        "NotaMaxQuestaoProva.rename(columns={\"porcentagemAcerto\":\"porcentagemMaxima\"}, inplace=True)\n",
        "NotaMaxQuestaoProva = NotaMaxQuestaoProva.reset_index()\n",
        "print(NotaMaxQuestaoProva.columns)\n",
        "NotaMaxQuestaoProva.head(1)"
      ],
      "execution_count": 0,
      "outputs": []
    },
    {
      "cell_type": "markdown",
      "metadata": {
        "id": "rr_66XsU5olh",
        "colab_type": "text"
      },
      "source": [
        "**Quantidade de questoes feitas por aluno em cada prova**"
      ]
    },
    {
      "cell_type": "code",
      "metadata": {
        "id": "vK1h219s5q2U",
        "colab_type": "code",
        "colab": {}
      },
      "source": [
        "quantidadeProva = NotaMaxQuestaoProva.groupby([\"titulo\",\"idAluno\"]).count()\n",
        "quantidadeProva.rename(columns={\"quantidade\":\"questoesFeitas\"}, inplace=True)\n",
        "quantidadeProva = quantidadeProva.reset_index()\n",
        "quantidadeProva = quantidadeProva[[\"titulo\",\"idAluno\",\"questoesFeitas\"]]\n",
        "print(quantidadeProva.columns)\n",
        "quantidadeProva.head(1)"
      ],
      "execution_count": 0,
      "outputs": []
    },
    {
      "cell_type": "markdown",
      "metadata": {
        "id": "osBaz9iEAfjW",
        "colab_type": "text"
      },
      "source": [
        "**Nota final dos alunos por prova**"
      ]
    },
    {
      "cell_type": "code",
      "metadata": {
        "id": "M0B04UpNAerG",
        "colab_type": "code",
        "colab": {}
      },
      "source": [
        "NotaProva = NotaMaxQuestaoProva.groupby([\"titulo\",\"idAluno\"]).sum()\n",
        "NotaProva.rename(columns={\"porcentagemMaxima\":\"SomaProva\", \"quantidade\":\"questoesFeitas\"}, inplace=True)\n",
        "NotaProva = NotaProva.drop('ano',axis=1)\n",
        "NotaProva = NotaProva.reset_index()\n",
        "NotaProva = NotaProva[[\"titulo\",'idAluno','SomaProva']]\n",
        "print(NotaProva.columns)\n",
        "NotaProva.head(1)"
      ],
      "execution_count": 0,
      "outputs": []
    },
    {
      "cell_type": "code",
      "metadata": {
        "id": "Twd0004AqVov",
        "colab_type": "code",
        "colab": {}
      },
      "source": [
        "mergeQuanNotaProva =  pd.merge(right= quantidadeProva, left = NotaProva, on=['idAluno','titulo'], how=\"inner\")\n",
        "print(mergeQuanNotaProva.columns)\n",
        "print(mergeQuanNotaProva.shape)\n",
        "mergeQuanNotaProva.head(1)\n"
      ],
      "execution_count": 0,
      "outputs": []
    },
    {
      "cell_type": "markdown",
      "metadata": {
        "id": "C_s8IVgAXF6t",
        "colab_type": "text"
      },
      "source": [
        "**Quantidade de questoes por prova**"
      ]
    },
    {
      "cell_type": "code",
      "metadata": {
        "id": "OPusXK7TXCpL",
        "colab_type": "code",
        "colab": {}
      },
      "source": [
        "quantQuesProva = provaNovo[['quantidade',\"titulo\"]]\n",
        "quantQuesProva = quantQuesProva.drop_duplicates()\n",
        "print(quantQuesProva.shape)\n",
        "quantQuesProva.head()"
      ],
      "execution_count": 0,
      "outputs": []
    },
    {
      "cell_type": "markdown",
      "metadata": {
        "id": "_u6TILExrpDz",
        "colab_type": "text"
      },
      "source": [
        "**Concatenando as informações das tabelas mergeQuanNotaProva e quantidade para calcular o nota final de cada prova**"
      ]
    },
    {
      "cell_type": "code",
      "metadata": {
        "id": "YGarqL02UYOw",
        "colab_type": "code",
        "colab": {}
      },
      "source": [
        "mergeQuanNotaProvaQuanQ = mergeQuanNotaProva.join(quantQuesProva.set_index('titulo'), on='titulo')\n",
        "mergeQuanNotaProvaQuanQ[\"notaProva\"]= mergeQuanNotaProvaQuanQ[\"SomaProva\"] /mergeQuanNotaProvaQuanQ['quantidade']\n",
        "print(mergeQuanNotaProvaQuanQ.columns)\n",
        "print(mergeQuanNotaProvaQuanQ.shape)\n",
        "mergeQuanNotaProvaQuanQ.head(3)"
      ],
      "execution_count": 0,
      "outputs": []
    },
    {
      "cell_type": "markdown",
      "metadata": {
        "id": "HnBMV0STttB0",
        "colab_type": "text"
      },
      "source": [
        "**tabela final dos alunos por nota das provas**"
      ]
    },
    {
      "cell_type": "code",
      "metadata": {
        "id": "MfyRkUhitxQM",
        "colab_type": "code",
        "colab": {}
      },
      "source": [
        "mergeUseTurmasSubProva.rename(columns={'titulo':\"tituloProva\",\"quantidade\":\"quantidadeProva\"}, inplace=True)\n",
        "mergeUseTurmasSubProvaM = mergeUseTurmasSubProva[[\"tituloProva\",'idAluno', 'ano', 'descricaoTurma', 'idTurma','matricula','nome']]\n",
        "\n",
        "#Renomear as colunas da tabela Listas\n",
        "mergeQuanNotaProvaQuanQ.rename(columns={'titulo':\"tituloProva\",\"questoesFeitas\":\"questoesFeitasProva\",\"quantidade\":\"quantidadeProva\"}, inplace=True)\n",
        "mergeQuanNotaProvaQuanM = mergeQuanNotaProvaQuanQ[['tituloProva', 'idAluno','questoesFeitasProva', 'quantidadeProva','notaProva']]\n",
        "\n",
        "tabelaFinalProvas= mergeQuanNotaProvaQuanM.join(mergeUseTurmasSubProvaM.set_index(['tituloProva','idAluno']), on=['tituloProva','idAluno'])\n",
        "#remover as linhas duplicadas\n",
        "tabelaFinalProvas = tabelaFinalProvas.drop_duplicates()\n",
        "tabelaFinalProvas.head()"
      ],
      "execution_count": 0,
      "outputs": []
    },
    {
      "cell_type": "markdown",
      "metadata": {
        "id": "l12SJEbdxw07",
        "colab_type": "text"
      },
      "source": [
        "**Exportar o dataFrame para o arquivo CSV de Provas**"
      ]
    },
    {
      "cell_type": "code",
      "metadata": {
        "id": "m2q3UDLWx4BM",
        "colab_type": "code",
        "colab": {}
      },
      "source": [
        "#tabelaFinalT= tabelaFinal.drop('nome',axis=1)\n",
        "tabelaFinalProvas.to_csv(r'lopUsuarioNotaProva.csv')"
      ],
      "execution_count": 0,
      "outputs": []
    },
    {
      "cell_type": "markdown",
      "metadata": {
        "id": "MZDaCnhQYoUk",
        "colab_type": "text"
      },
      "source": [
        "Codigo de gerar numero de questoes <100"
      ]
    },
    {
      "cell_type": "code",
      "metadata": {
        "id": "BANjPmyxYsOY",
        "colab_type": "code",
        "colab": {}
      },
      "source": [
        "table = pd.read_csv(\"https://github.com/repitta/CienciaDeDadosEducacionais/raw/master/arquivosCSV/lopUseTurmasSubLista.csv\")\n",
        "a= table.loc[table[\"porcentagemAcerto\"]<100,\"porcentagemAcerto\"]\n",
        "table[\"nQres\"]=a\n",
        "b = table.groupby(\"questao\")[\"nQres\"].sum().to_frame().reset_index().sort_values(by=\"nQres\")\n",
        "b.head()\n"
      ],
      "execution_count": 0,
      "outputs": []
    },
    {
      "cell_type": "markdown",
      "metadata": {
        "id": "vWs9HB_9Y7yt",
        "colab_type": "text"
      },
      "source": [
        "Numero de questoes submetidas por aluno "
      ]
    },
    {
      "cell_type": "code",
      "metadata": {
        "id": "b-ZRVWS7ZAbb",
        "colab_type": "code",
        "colab": {}
      },
      "source": [
        "table = pd.read_csv(\"https://github.com/repitta/CienciaDeDadosEducacionais/raw/master/arquivosCSV/lopUseTurmasSubLista.csv\")\n",
        "nQuestoes = table.groupby([\"idAluno\",\"idLista\",\"questao\"]).count()\n",
        "nQuestoes.rename(columns={\"quantidade\":\"nQuestoes\"},inplace=True)\n",
        "nQuestoes=nQuestoes.reset_index()\n",
        "nQuestoes=nQuestoes[[\"idAluno\",\"idLista\",\"questao\",\"nQuestoes\"]]\n",
        "nQuestoes.head()"
      ],
      "execution_count": 0,
      "outputs": []
    }
  ]
}