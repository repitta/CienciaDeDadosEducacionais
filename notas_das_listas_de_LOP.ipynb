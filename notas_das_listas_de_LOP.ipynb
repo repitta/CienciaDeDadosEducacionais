{
  "nbformat": 4,
  "nbformat_minor": 0,
  "metadata": {
    "colab": {
      "name": "notas das listas de LOP.ipynb",
      "provenance": [],
      "include_colab_link": true
    },
    "kernelspec": {
      "name": "python3",
      "display_name": "Python 3"
    }
  },
  "cells": [
    {
      "cell_type": "markdown",
      "metadata": {
        "id": "view-in-github",
        "colab_type": "text"
      },
      "source": [
        "<a href=\"https://colab.research.google.com/github/repitta/CienciaDeDadosEducacionais/blob/master/notas_das_listas_de_LOP.ipynb\" target=\"_parent\"><img src=\"https://colab.research.google.com/assets/colab-badge.svg\" alt=\"Open In Colab\"/></a>"
      ]
    },
    {
      "cell_type": "code",
      "metadata": {
        "id": "fk7U05-uf72Q",
        "colab_type": "code",
        "colab": {}
      },
      "source": [
        "# These are the library we are going to use\n",
        "import pandas as pd\n"
      ],
      "execution_count": 0,
      "outputs": []
    },
    {
      "cell_type": "code",
      "metadata": {
        "id": "FkAvW9zOgFJI",
        "colab_type": "code",
        "colab": {}
      },
      "source": [
        "# Situções finais no siga\n",
        "# Reading the data directly from the Git\n",
        "situacoes_url = [\"https://raw.githubusercontent.com/repitta/CienciaDeDadosEducacionais/master/arquivosCSV/lopSituacao2017.2.csv\",\n",
        "                 \"https://raw.githubusercontent.com/repitta/CienciaDeDadosEducacionais/master/arquivosCSV/lopSituacao2018.1.csv\",\n",
        "                 \"https://raw.githubusercontent.com/repitta/CienciaDeDadosEducacionais/master/arquivosCSV/lopSituacao2018.2.csv\",\n",
        "                 \"https://raw.githubusercontent.com/repitta/CienciaDeDadosEducacionais/master/arquivosCSV/lopSituacao2019.1.csv\",\n",
        "                 \"https://raw.githubusercontent.com/repitta/CienciaDeDadosEducacionais/master/arquivosCSV/lopSituacao2019.2.csv\"]\n",
        "usuarios_lop_url = \"https://raw.githubusercontent.com/repitta/CienciaDeDadosEducacionais/master/arquivosCSV/lop_db_2019_09_csv_tratados/lopUsuarioTurma.csv\"\n",
        " \n",
        "submissoes_url   = \"https://github.com/repitta/CienciaDeDadosEducacionais/raw/master/arquivosCSV/lop_db_2019_09_csv_tratados/lopSubLista.csv\""
      ],
      "execution_count": 0,
      "outputs": []
    },
    {
      "cell_type": "code",
      "metadata": {
        "id": "cMHVqrmxlsyy",
        "colab_type": "code",
        "colab": {}
      },
      "source": [
        "# Situações finais since 2017.2 until 2019.2 \n",
        "situacoes2017_2 = pd.read_csv(situacoes_url[0], sep=',')\n",
        "situacoes2018_1 = pd.read_csv(situacoes_url[1], sep=',')\n",
        "situacoes2018_2 = pd.read_csv(situacoes_url[2], sep=',')\n",
        "situacoes2019_1 = pd.read_csv(situacoes_url[3], sep=',')\n",
        "situacoes2019_2 = pd.read_csv(situacoes_url[4], sep=',')\n",
        "\n",
        "# Submissoes dos alunos no LOP\n",
        "\n",
        "submissoes = pd.read_csv(submissoes_url, sep=',')\n",
        "\n",
        "#Usuarios cadastrados no LOP \n",
        "usuarios_lop = pd.read_csv(usuarios_lop_url, sep=',')"
      ],
      "execution_count": 0,
      "outputs": []
    },
    {
      "cell_type": "code",
      "metadata": {
        "id": "V6cen5FlmkGb",
        "colab_type": "code",
        "colab": {}
      },
      "source": [
        "# Setting priginal data into one vector due to easier manipulation\n",
        "situacoes =[situacoes2017_2,situacoes2018_1, situacoes2018_2, situacoes2019_1, situacoes2019_2]"
      ],
      "execution_count": 0,
      "outputs": []
    },
    {
      "cell_type": "code",
      "metadata": {
        "id": "q-He58IvMXA8",
        "colab_type": "code",
        "colab": {}
      },
      "source": [
        "# Eliminar a coluna Unnamed: 0 de todas as tabelas\n",
        "for i in range(len(situacoes)):\n",
        "  situacoes[i] = situacoes[i].drop(columns=\"Unnamed: 0\")\n",
        "  situacoes[i].fillna(0, inplace=True)\n",
        "  situacoes[i][\"matricula\"] = situacoes[i][\"matricula\"].astype(str)\n",
        "  situacoes[i]= situacoes[i].rename(columns={\"ano\": \"anoSigaa\"})\n",
        "  situacoes[i][\"anoSigaa\"] = situacoes[i][\"anoSigaa\"].astype(float)\n",
        "  situacoes[i][\"turma\"] = situacoes[i][\"turma\"].astype(str)\n",
        "  situacoes[i]= situacoes[i].rename(columns={\"nota\": \"notaSigaa\"})\n",
        "  \n",
        "submissoes = submissoes.drop(columns=[\"Unnamed: 0\",\"index\"])  \n",
        "submissoes.fillna(0, inplace=True)\n",
        "submissoes.drop(submissoes[submissoes[\"data\"]==\"0\"].index, inplace=True)\n",
        "submissoes.drop(submissoes[submissoes[\"titulo\"]==\"0\"].index, inplace=True)\n",
        "submissoes[\"data\"] = pd.to_datetime(submissoes[\"data\"], format = \"%Y/%m/%dT%H:%M:%S\")\n",
        "submissoes = submissoes.rename(columns={\"quantidade\": \"quantidadeTotalLista\"})\n",
        "\n",
        "usuarios_lop = usuarios_lop.drop(columns=\"Unnamed: 0\")\n",
        "usuarios_lop.fillna(0, inplace=True)\n",
        "#tratar a coluna descricaoTurma da tabela usuarios_lop para ficar igual a coluna turma da tabela situações \n",
        "usuarios_lop = usuarios_lop.rename(columns={\"descricaoTurma\": \"turma\"})\n",
        "usuarios_lop[\"turma\"] =  usuarios_lop[\"turma\"].str.split(expand=True)[5]\n",
        "\n",
        "usuarios_lop[\"matricula\"] = usuarios_lop[\"matricula\"].astype(str)\n",
        "usuarios_lop= usuarios_lop.rename(columns={\"ano\": \"anoLop\"})\n",
        "usuarios_lop[\"anoLop\"] = usuarios_lop[\"anoLop\"].astype(float)\n",
        "usuarios_lop[\"turma\"] = usuarios_lop[\"turma\"].astype(str)\n",
        "\n",
        "\n"
      ],
      "execution_count": 0,
      "outputs": []
    },
    {
      "cell_type": "code",
      "metadata": {
        "id": "HHxia7S2n7oa",
        "colab_type": "code",
        "outputId": "ffc2819b-45d1-4532-f26a-6c3d196db46e",
        "colab": {
          "base_uri": "https://localhost:8080/",
          "height": 145
        }
      },
      "source": [
        "print(situacoes[0].columns)\n",
        "print(\" \")\n",
        "print(usuarios_lop.columns)\n",
        "print(\" \")\n",
        "print(submissoes.columns)"
      ],
      "execution_count": 6,
      "outputs": [
        {
          "output_type": "stream",
          "text": [
            "Index(['anoSigaa', 'turma', 'matricula', 'notaSigaa', 'situacao'], dtype='object')\n",
            " \n",
            "Index(['idTurma', 'anoLop', 'turma', 'matricula', 'idAluno', 'nome'], dtype='object')\n",
            " \n",
            "Index(['idLista', 'questao', 'titulo', 'quantidadeTotalLista', 'data',\n",
            "       'porcentagemAcerto', 'idAluno'],\n",
            "      dtype='object')\n"
          ],
          "name": "stdout"
        }
      ]
    },
    {
      "cell_type": "code",
      "metadata": {
        "id": "_FezmCphFaZK",
        "colab_type": "code",
        "outputId": "40f8ad59-3310-43c2-8e28-0607cd280e7d",
        "colab": {
          "base_uri": "https://localhost:8080/",
          "height": 167
        }
      },
      "source": [
        "#juntar todas as tabelas do sigaa para juntar com a tabela de usuarios do LOP\n",
        "a =  pd.concat([situacoes[0], situacoes[1], situacoes[2], situacoes[3],situacoes[4]], ignore_index=True, axis=0)\n",
        "\n",
        "mergeSituacoeUsuarios = pd.merge(right= a, left = usuarios_lop, on=[\"matricula\",\"turma\"], how=\"outer\")\n",
        "\n",
        "#Limpar a tabela para ficar só com as ocorrencias de usuarios que estão cadastrados no Lop\n",
        "mergeSituacoeUsuarios = mergeSituacoeUsuarios.loc[mergeSituacoeUsuarios[\"anoSigaa\"] == mergeSituacoeUsuarios[\"anoLop\"] ]\n",
        "mergeSituacoeUsuarios.head(1)\n"
      ],
      "execution_count": 7,
      "outputs": [
        {
          "output_type": "execute_result",
          "data": {
            "text/html": [
              "<div>\n",
              "<style scoped>\n",
              "    .dataframe tbody tr th:only-of-type {\n",
              "        vertical-align: middle;\n",
              "    }\n",
              "\n",
              "    .dataframe tbody tr th {\n",
              "        vertical-align: top;\n",
              "    }\n",
              "\n",
              "    .dataframe thead th {\n",
              "        text-align: right;\n",
              "    }\n",
              "</style>\n",
              "<table border=\"1\" class=\"dataframe\">\n",
              "  <thead>\n",
              "    <tr style=\"text-align: right;\">\n",
              "      <th></th>\n",
              "      <th>idTurma</th>\n",
              "      <th>anoLop</th>\n",
              "      <th>turma</th>\n",
              "      <th>matricula</th>\n",
              "      <th>idAluno</th>\n",
              "      <th>nome</th>\n",
              "      <th>anoSigaa</th>\n",
              "      <th>notaSigaa</th>\n",
              "      <th>situacao</th>\n",
              "    </tr>\n",
              "  </thead>\n",
              "  <tbody>\n",
              "    <tr>\n",
              "      <th>0</th>\n",
              "      <td>598e15296d8650eb27d52e3d</td>\n",
              "      <td>2017.2</td>\n",
              "      <td>01A</td>\n",
              "      <td>20170106538</td>\n",
              "      <td>599b051d495fac076a06d3f5</td>\n",
              "      <td>Aleff Ramon da Silva Costa</td>\n",
              "      <td>2017.2</td>\n",
              "      <td>7.1</td>\n",
              "      <td>APROVADO</td>\n",
              "    </tr>\n",
              "  </tbody>\n",
              "</table>\n",
              "</div>"
            ],
            "text/plain": [
              "                    idTurma  anoLop turma  ... anoSigaa notaSigaa  situacao\n",
              "0  598e15296d8650eb27d52e3d  2017.2   01A  ...   2017.2       7.1  APROVADO\n",
              "\n",
              "[1 rows x 9 columns]"
            ]
          },
          "metadata": {
            "tags": []
          },
          "execution_count": 7
        }
      ]
    },
    {
      "cell_type": "code",
      "metadata": {
        "id": "DmbH4dcvc7UN",
        "colab_type": "code",
        "colab": {}
      },
      "source": [
        "#criar um campo extra na tabela submissoes para ter certeza que a submisao pertence ao aluno matriculado naquele semestre\n",
        "def anosub(data):\n",
        "  if data.month >= 8:\n",
        "    anoSubmissao = data.year + 0.2\n",
        "  else :\n",
        "    anoSubmissao = data.year + 0.1\n",
        "  return anoSubmissao\n",
        "submissoes[\"anoSubmissao\"] = submissoes[\"data\"].apply(anosub)\n",
        "\n"
      ],
      "execution_count": 0,
      "outputs": []
    },
    {
      "cell_type": "code",
      "metadata": {
        "id": "HYDs4CUmvFvI",
        "colab_type": "code",
        "outputId": "6cf0f9e4-4445-4d84-852b-0f6424ab579e",
        "colab": {
          "base_uri": "https://localhost:8080/",
          "height": 167
        }
      },
      "source": [
        "#juntas as tabelas situacaoUsuario com a tabela de submissoes\n",
        "mergeSituacoeUsuariosSubLista = pd.merge(right=mergeSituacoeUsuarios, left = submissoes, on=[\"idAluno\"], how=\"outer\")\n",
        "\n",
        "#Remover os lixos... Onde o ano da Submissão não for igual ao ano da matricula no sigaa\n",
        "#Limpar a tabela para ficar só com as ocorrencias de usuarios que são do mesmo ano da submissao e do sigaa\n",
        "mergeSituacoeUsuariosSubLista = mergeSituacoeUsuariosSubLista.loc[mergeSituacoeUsuariosSubLista[\"anoSigaa\"] == mergeSituacoeUsuariosSubLista[\"anoSubmissao\"] ]\n",
        "mergeSituacoeUsuariosSubLista.head(1)"
      ],
      "execution_count": 9,
      "outputs": [
        {
          "output_type": "execute_result",
          "data": {
            "text/html": [
              "<div>\n",
              "<style scoped>\n",
              "    .dataframe tbody tr th:only-of-type {\n",
              "        vertical-align: middle;\n",
              "    }\n",
              "\n",
              "    .dataframe tbody tr th {\n",
              "        vertical-align: top;\n",
              "    }\n",
              "\n",
              "    .dataframe thead th {\n",
              "        text-align: right;\n",
              "    }\n",
              "</style>\n",
              "<table border=\"1\" class=\"dataframe\">\n",
              "  <thead>\n",
              "    <tr style=\"text-align: right;\">\n",
              "      <th></th>\n",
              "      <th>idLista</th>\n",
              "      <th>questao</th>\n",
              "      <th>titulo</th>\n",
              "      <th>quantidadeTotalLista</th>\n",
              "      <th>data</th>\n",
              "      <th>porcentagemAcerto</th>\n",
              "      <th>idAluno</th>\n",
              "      <th>anoSubmissao</th>\n",
              "      <th>idTurma</th>\n",
              "      <th>anoLop</th>\n",
              "      <th>turma</th>\n",
              "      <th>matricula</th>\n",
              "      <th>nome</th>\n",
              "      <th>anoSigaa</th>\n",
              "      <th>notaSigaa</th>\n",
              "      <th>situacao</th>\n",
              "    </tr>\n",
              "  </thead>\n",
              "  <tbody>\n",
              "    <tr>\n",
              "      <th>148</th>\n",
              "      <td>598cd57a3bc48946977dcf67</td>\n",
              "      <td>59885f8d684f4a3f78163c00</td>\n",
              "      <td>Lista de Laboratório 1 - Expressões Aritmética...</td>\n",
              "      <td>5.0</td>\n",
              "      <td>2017-08-14 16:29:10.522000+00:00</td>\n",
              "      <td>100.0</td>\n",
              "      <td>5991cb910be9d42f2f68b906</td>\n",
              "      <td>2017.2</td>\n",
              "      <td>598e15296d8650eb27d52e3d</td>\n",
              "      <td>2017.2</td>\n",
              "      <td>01A</td>\n",
              "      <td>20170039453</td>\n",
              "      <td>Amanda</td>\n",
              "      <td>2017.2</td>\n",
              "      <td>7.9</td>\n",
              "      <td>APROVADO</td>\n",
              "    </tr>\n",
              "  </tbody>\n",
              "</table>\n",
              "</div>"
            ],
            "text/plain": [
              "                      idLista                   questao  ... notaSigaa  situacao\n",
              "148  598cd57a3bc48946977dcf67  59885f8d684f4a3f78163c00  ...       7.9  APROVADO\n",
              "\n",
              "[1 rows x 16 columns]"
            ]
          },
          "metadata": {
            "tags": []
          },
          "execution_count": 9
        }
      ]
    },
    {
      "cell_type": "markdown",
      "metadata": {
        "id": "3Gwz3X_KSnxV",
        "colab_type": "text"
      },
      "source": [
        "**Porcentagem Máxima por aluno em cada questão da lista**"
      ]
    },
    {
      "cell_type": "code",
      "metadata": {
        "id": "Ae0uZnOdOhYc",
        "colab_type": "code",
        "outputId": "8a5e9abb-bd7f-4775-8660-7049796d11c7",
        "colab": {
          "base_uri": "https://localhost:8080/",
          "height": 206
        }
      },
      "source": [
        "NotaMaxQuestao = mergeSituacoeUsuariosSubLista.groupby([\"idLista\",\"idAluno\",\"questao\",\"anoSubmissao\"]).max()\n",
        "NotaMaxQuestao.rename(columns={\"porcentagemAcerto\":\"porcentagemMaxima\"}, inplace=True)\n",
        "NotaMaxQuestao = NotaMaxQuestao.reset_index()\n",
        "print(NotaMaxQuestao.columns)\n",
        "NotaMaxQuestao.head(1)"
      ],
      "execution_count": 10,
      "outputs": [
        {
          "output_type": "stream",
          "text": [
            "Index(['idLista', 'idAluno', 'questao', 'anoSubmissao', 'titulo',\n",
            "       'quantidadeTotalLista', 'data', 'porcentagemMaxima', 'idTurma',\n",
            "       'anoLop', 'turma', 'matricula', 'nome', 'anoSigaa', 'notaSigaa',\n",
            "       'situacao'],\n",
            "      dtype='object')\n"
          ],
          "name": "stdout"
        },
        {
          "output_type": "execute_result",
          "data": {
            "text/html": [
              "<div>\n",
              "<style scoped>\n",
              "    .dataframe tbody tr th:only-of-type {\n",
              "        vertical-align: middle;\n",
              "    }\n",
              "\n",
              "    .dataframe tbody tr th {\n",
              "        vertical-align: top;\n",
              "    }\n",
              "\n",
              "    .dataframe thead th {\n",
              "        text-align: right;\n",
              "    }\n",
              "</style>\n",
              "<table border=\"1\" class=\"dataframe\">\n",
              "  <thead>\n",
              "    <tr style=\"text-align: right;\">\n",
              "      <th></th>\n",
              "      <th>idLista</th>\n",
              "      <th>idAluno</th>\n",
              "      <th>questao</th>\n",
              "      <th>anoSubmissao</th>\n",
              "      <th>titulo</th>\n",
              "      <th>quantidadeTotalLista</th>\n",
              "      <th>data</th>\n",
              "      <th>porcentagemMaxima</th>\n",
              "      <th>idTurma</th>\n",
              "      <th>anoLop</th>\n",
              "      <th>turma</th>\n",
              "      <th>matricula</th>\n",
              "      <th>nome</th>\n",
              "      <th>anoSigaa</th>\n",
              "      <th>notaSigaa</th>\n",
              "      <th>situacao</th>\n",
              "    </tr>\n",
              "  </thead>\n",
              "  <tbody>\n",
              "    <tr>\n",
              "      <th>0</th>\n",
              "      <td>0</td>\n",
              "      <td>5991cb910be9d42f2f68b906</td>\n",
              "      <td>599338f46fb24841cdc4ef84</td>\n",
              "      <td>2017.2</td>\n",
              "      <td>0</td>\n",
              "      <td>0.0</td>\n",
              "      <td>2017-08-23 16:09:22.008000+00:00</td>\n",
              "      <td>100.0</td>\n",
              "      <td>598e15296d8650eb27d52e3d</td>\n",
              "      <td>2017.2</td>\n",
              "      <td>01A</td>\n",
              "      <td>20170039453</td>\n",
              "      <td>Amanda</td>\n",
              "      <td>2017.2</td>\n",
              "      <td>7.9</td>\n",
              "      <td>APROVADO</td>\n",
              "    </tr>\n",
              "  </tbody>\n",
              "</table>\n",
              "</div>"
            ],
            "text/plain": [
              "  idLista                   idAluno  ... notaSigaa  situacao\n",
              "0       0  5991cb910be9d42f2f68b906  ...       7.9  APROVADO\n",
              "\n",
              "[1 rows x 16 columns]"
            ]
          },
          "metadata": {
            "tags": []
          },
          "execution_count": 10
        }
      ]
    },
    {
      "cell_type": "markdown",
      "metadata": {
        "id": "vgm8Oox_ZcP7",
        "colab_type": "text"
      },
      "source": [
        "**Quantidade de questoes feitas por aluno em cada lista**"
      ]
    },
    {
      "cell_type": "code",
      "metadata": {
        "id": "PPKZhnBSVfg1",
        "colab_type": "code",
        "outputId": "5e9ae40a-b74a-44d3-f0e6-a67d46aef0ab",
        "colab": {
          "base_uri": "https://localhost:8080/",
          "height": 96
        }
      },
      "source": [
        "quantidade = NotaMaxQuestao.groupby([\"titulo\",\"idAluno\",\"anoSubmissao\"]).count()\n",
        "quantidade.rename(columns={\"quantidadeTotalLista\":\"questoesFeitas\"}, inplace=True)\n",
        "quantidade= quantidade.reset_index()\n",
        "quantidade= quantidade[[\"titulo\",\"idAluno\",\"anoSubmissao\",\"questoesFeitas\"]]\n",
        "print(quantidade.columns)\n",
        "quantidade.head(1)"
      ],
      "execution_count": 11,
      "outputs": [
        {
          "output_type": "stream",
          "text": [
            "Index(['titulo', 'idAluno', 'anoSubmissao', 'questoesFeitas'], dtype='object')\n"
          ],
          "name": "stdout"
        },
        {
          "output_type": "execute_result",
          "data": {
            "text/html": [
              "<div>\n",
              "<style scoped>\n",
              "    .dataframe tbody tr th:only-of-type {\n",
              "        vertical-align: middle;\n",
              "    }\n",
              "\n",
              "    .dataframe tbody tr th {\n",
              "        vertical-align: top;\n",
              "    }\n",
              "\n",
              "    .dataframe thead th {\n",
              "        text-align: right;\n",
              "    }\n",
              "</style>\n",
              "<table border=\"1\" class=\"dataframe\">\n",
              "  <thead>\n",
              "    <tr style=\"text-align: right;\">\n",
              "      <th></th>\n",
              "      <th>titulo</th>\n",
              "      <th>idAluno</th>\n",
              "      <th>anoSubmissao</th>\n",
              "      <th>questoesFeitas</th>\n",
              "    </tr>\n",
              "  </thead>\n",
              "  <tbody>\n",
              "    <tr>\n",
              "      <th>0</th>\n",
              "      <td>0</td>\n",
              "      <td>5991cb910be9d42f2f68b906</td>\n",
              "      <td>2017.2</td>\n",
              "      <td>4</td>\n",
              "    </tr>\n",
              "  </tbody>\n",
              "</table>\n",
              "</div>"
            ],
            "text/plain": [
              "  titulo                   idAluno  anoSubmissao  questoesFeitas\n",
              "0      0  5991cb910be9d42f2f68b906        2017.2               4"
            ]
          },
          "metadata": {
            "tags": []
          },
          "execution_count": 11
        }
      ]
    },
    {
      "cell_type": "markdown",
      "metadata": {
        "id": "aEJHPj8P8VLb",
        "colab_type": "text"
      },
      "source": [
        "**Nota final dos alunos por lista**"
      ]
    },
    {
      "cell_type": "code",
      "metadata": {
        "id": "LIOUjOfsS2TA",
        "colab_type": "code",
        "outputId": "813985d7-5784-4d96-bf59-d68012286362",
        "colab": {
          "base_uri": "https://localhost:8080/",
          "height": 96
        }
      },
      "source": [
        "NotaLista = NotaMaxQuestao.groupby([\"titulo\",\"idAluno\",\"anoSubmissao\"]).sum()\n",
        "NotaLista.rename(columns={\"porcentagemMaxima\":\"SomaLista\"}, inplace=True)\n",
        "#NotaLista = NotaLista.drop('ano',axis=1)\n",
        "NotaLista = NotaLista.reset_index()\n",
        "NotaLista = NotaLista[[\"titulo\",'idAluno',\"anoSubmissao\",'SomaLista']]\n",
        "print(NotaLista.columns)\n",
        "NotaLista.head(1)"
      ],
      "execution_count": 12,
      "outputs": [
        {
          "output_type": "stream",
          "text": [
            "Index(['titulo', 'idAluno', 'anoSubmissao', 'SomaLista'], dtype='object')\n"
          ],
          "name": "stdout"
        },
        {
          "output_type": "execute_result",
          "data": {
            "text/html": [
              "<div>\n",
              "<style scoped>\n",
              "    .dataframe tbody tr th:only-of-type {\n",
              "        vertical-align: middle;\n",
              "    }\n",
              "\n",
              "    .dataframe tbody tr th {\n",
              "        vertical-align: top;\n",
              "    }\n",
              "\n",
              "    .dataframe thead th {\n",
              "        text-align: right;\n",
              "    }\n",
              "</style>\n",
              "<table border=\"1\" class=\"dataframe\">\n",
              "  <thead>\n",
              "    <tr style=\"text-align: right;\">\n",
              "      <th></th>\n",
              "      <th>titulo</th>\n",
              "      <th>idAluno</th>\n",
              "      <th>anoSubmissao</th>\n",
              "      <th>SomaLista</th>\n",
              "    </tr>\n",
              "  </thead>\n",
              "  <tbody>\n",
              "    <tr>\n",
              "      <th>0</th>\n",
              "      <td>0</td>\n",
              "      <td>5991cb910be9d42f2f68b906</td>\n",
              "      <td>2017.2</td>\n",
              "      <td>400.0</td>\n",
              "    </tr>\n",
              "  </tbody>\n",
              "</table>\n",
              "</div>"
            ],
            "text/plain": [
              "  titulo                   idAluno  anoSubmissao  SomaLista\n",
              "0      0  5991cb910be9d42f2f68b906        2017.2      400.0"
            ]
          },
          "metadata": {
            "tags": []
          },
          "execution_count": 12
        }
      ]
    },
    {
      "cell_type": "code",
      "metadata": {
        "id": "xrkgbDhyZtc5",
        "colab_type": "code",
        "outputId": "839d47ed-92df-45dd-9f96-8daf6dd5a5c2",
        "colab": {
          "base_uri": "https://localhost:8080/",
          "height": 115
        }
      },
      "source": [
        "mergeQuanNotaLista =  pd.merge(right= quantidade, left = NotaLista, on=['idAluno','titulo',\"anoSubmissao\"], how=\"inner\")\n",
        "print(mergeQuanNotaLista.columns)\n",
        "print(mergeQuanNotaLista.shape)\n",
        "mergeQuanNotaLista.head(1)"
      ],
      "execution_count": 13,
      "outputs": [
        {
          "output_type": "stream",
          "text": [
            "Index(['titulo', 'idAluno', 'anoSubmissao', 'SomaLista', 'questoesFeitas'], dtype='object')\n",
            "(7495, 5)\n"
          ],
          "name": "stdout"
        },
        {
          "output_type": "execute_result",
          "data": {
            "text/html": [
              "<div>\n",
              "<style scoped>\n",
              "    .dataframe tbody tr th:only-of-type {\n",
              "        vertical-align: middle;\n",
              "    }\n",
              "\n",
              "    .dataframe tbody tr th {\n",
              "        vertical-align: top;\n",
              "    }\n",
              "\n",
              "    .dataframe thead th {\n",
              "        text-align: right;\n",
              "    }\n",
              "</style>\n",
              "<table border=\"1\" class=\"dataframe\">\n",
              "  <thead>\n",
              "    <tr style=\"text-align: right;\">\n",
              "      <th></th>\n",
              "      <th>titulo</th>\n",
              "      <th>idAluno</th>\n",
              "      <th>anoSubmissao</th>\n",
              "      <th>SomaLista</th>\n",
              "      <th>questoesFeitas</th>\n",
              "    </tr>\n",
              "  </thead>\n",
              "  <tbody>\n",
              "    <tr>\n",
              "      <th>0</th>\n",
              "      <td>0</td>\n",
              "      <td>5991cb910be9d42f2f68b906</td>\n",
              "      <td>2017.2</td>\n",
              "      <td>400.0</td>\n",
              "      <td>4</td>\n",
              "    </tr>\n",
              "  </tbody>\n",
              "</table>\n",
              "</div>"
            ],
            "text/plain": [
              "  titulo                   idAluno  anoSubmissao  SomaLista  questoesFeitas\n",
              "0      0  5991cb910be9d42f2f68b906        2017.2      400.0               4"
            ]
          },
          "metadata": {
            "tags": []
          },
          "execution_count": 13
        }
      ]
    },
    {
      "cell_type": "markdown",
      "metadata": {
        "id": "tVAYs1f6jAEj",
        "colab_type": "text"
      },
      "source": [
        "**Quantidade de questoes por lista**"
      ]
    },
    {
      "cell_type": "code",
      "metadata": {
        "id": "aW34ME3nfdlH",
        "colab_type": "code",
        "outputId": "2b3ea6ed-ae9b-4e63-a34c-f8d6a6ac20c7",
        "colab": {
          "base_uri": "https://localhost:8080/",
          "height": 816
        }
      },
      "source": [
        "quantQuesList = mergeSituacoeUsuariosSubLista[['quantidadeTotalLista','titulo']]\n",
        "quantQuesList =quantQuesList.drop_duplicates()\n",
        "print(quantQuesList.shape)\n",
        "quantQuesList"
      ],
      "execution_count": 14,
      "outputs": [
        {
          "output_type": "stream",
          "text": [
            "(25, 2)\n"
          ],
          "name": "stdout"
        },
        {
          "output_type": "execute_result",
          "data": {
            "text/html": [
              "<div>\n",
              "<style scoped>\n",
              "    .dataframe tbody tr th:only-of-type {\n",
              "        vertical-align: middle;\n",
              "    }\n",
              "\n",
              "    .dataframe tbody tr th {\n",
              "        vertical-align: top;\n",
              "    }\n",
              "\n",
              "    .dataframe thead th {\n",
              "        text-align: right;\n",
              "    }\n",
              "</style>\n",
              "<table border=\"1\" class=\"dataframe\">\n",
              "  <thead>\n",
              "    <tr style=\"text-align: right;\">\n",
              "      <th></th>\n",
              "      <th>quantidadeTotalLista</th>\n",
              "      <th>titulo</th>\n",
              "    </tr>\n",
              "  </thead>\n",
              "  <tbody>\n",
              "    <tr>\n",
              "      <th>148</th>\n",
              "      <td>5.0</td>\n",
              "      <td>Lista de Laboratório 1 - Expressões Aritmética...</td>\n",
              "    </tr>\n",
              "    <tr>\n",
              "      <th>153</th>\n",
              "      <td>0.0</td>\n",
              "      <td>0</td>\n",
              "    </tr>\n",
              "    <tr>\n",
              "      <th>155</th>\n",
              "      <td>10.0</td>\n",
              "      <td>Lista de Exercícios 1 - Expressões e variáveis</td>\n",
              "    </tr>\n",
              "    <tr>\n",
              "      <th>158</th>\n",
              "      <td>14.0</td>\n",
              "      <td>Lista de Exercícios 2 - Estruturas Condicionais</td>\n",
              "    </tr>\n",
              "    <tr>\n",
              "      <th>160</th>\n",
              "      <td>7.0</td>\n",
              "      <td>Lista de Laboratório 2 - Expressões Lógicas e ...</td>\n",
              "    </tr>\n",
              "    <tr>\n",
              "      <th>178</th>\n",
              "      <td>13.0</td>\n",
              "      <td>Lista de Exercícios 3 - Laço Condicional</td>\n",
              "    </tr>\n",
              "    <tr>\n",
              "      <th>182</th>\n",
              "      <td>7.0</td>\n",
              "      <td>Lista de Laboratório 3 -  Estruturas de Repeti...</td>\n",
              "    </tr>\n",
              "    <tr>\n",
              "      <th>196</th>\n",
              "      <td>9.0</td>\n",
              "      <td>Lista de Exercícios 4 - Laço contado</td>\n",
              "    </tr>\n",
              "    <tr>\n",
              "      <th>198</th>\n",
              "      <td>5.0</td>\n",
              "      <td>Lista de Laboratório 4 - Repetição Contada</td>\n",
              "    </tr>\n",
              "    <tr>\n",
              "      <th>210</th>\n",
              "      <td>5.0</td>\n",
              "      <td>Prova 1 - Turma 09 - 2017.1</td>\n",
              "    </tr>\n",
              "    <tr>\n",
              "      <th>216</th>\n",
              "      <td>8.0</td>\n",
              "      <td>Lista de Exercícios 4.1 - Problemas tradiciona...</td>\n",
              "    </tr>\n",
              "    <tr>\n",
              "      <th>228</th>\n",
              "      <td>5.0</td>\n",
              "      <td>Lista de Laboratório 5 - Vetores</td>\n",
              "    </tr>\n",
              "    <tr>\n",
              "      <th>234</th>\n",
              "      <td>11.0</td>\n",
              "      <td>Lista de Exercícios 5 - Vetores</td>\n",
              "    </tr>\n",
              "    <tr>\n",
              "      <th>1657</th>\n",
              "      <td>4.0</td>\n",
              "      <td>Prova 1 - Turmas 3C e 3D - 2018.1</td>\n",
              "    </tr>\n",
              "    <tr>\n",
              "      <th>1685</th>\n",
              "      <td>4.0</td>\n",
              "      <td>Lista de Revisão Unidade 1</td>\n",
              "    </tr>\n",
              "    <tr>\n",
              "      <th>5113</th>\n",
              "      <td>10.0</td>\n",
              "      <td>Lista 1.0 - Expressões aritméticas</td>\n",
              "    </tr>\n",
              "    <tr>\n",
              "      <th>5123</th>\n",
              "      <td>9.0</td>\n",
              "      <td>Lista 1.2 - Funções aritméticas</td>\n",
              "    </tr>\n",
              "    <tr>\n",
              "      <th>5832</th>\n",
              "      <td>4.0</td>\n",
              "      <td>Prova 2 - Turmas 2A e 2B - 2018.1</td>\n",
              "    </tr>\n",
              "    <tr>\n",
              "      <th>6303</th>\n",
              "      <td>3.0</td>\n",
              "      <td>Prova 2 - Turmas 2C e 2D - 2018.1</td>\n",
              "    </tr>\n",
              "    <tr>\n",
              "      <th>7728</th>\n",
              "      <td>5.0</td>\n",
              "      <td>Prova 1 - Turmas 2A e 2B - 2018.1</td>\n",
              "    </tr>\n",
              "    <tr>\n",
              "      <th>9074</th>\n",
              "      <td>4.0</td>\n",
              "      <td>Prova 1 - Turmas 2C e 2D - 2018.1</td>\n",
              "    </tr>\n",
              "    <tr>\n",
              "      <th>9081</th>\n",
              "      <td>4.0</td>\n",
              "      <td>Prova 1 - Turma 3A - 2018.2</td>\n",
              "    </tr>\n",
              "    <tr>\n",
              "      <th>15945</th>\n",
              "      <td>4.0</td>\n",
              "      <td>Prova 1 - Turma 3B - 2018.2</td>\n",
              "    </tr>\n",
              "    <tr>\n",
              "      <th>16534</th>\n",
              "      <td>4.0</td>\n",
              "      <td>Prova 1 - Turma 3C - 2018.2</td>\n",
              "    </tr>\n",
              "    <tr>\n",
              "      <th>17971</th>\n",
              "      <td>3.0</td>\n",
              "      <td>Prova 1 - Turma 3D - 2018.2</td>\n",
              "    </tr>\n",
              "  </tbody>\n",
              "</table>\n",
              "</div>"
            ],
            "text/plain": [
              "       quantidadeTotalLista                                             titulo\n",
              "148                     5.0  Lista de Laboratório 1 - Expressões Aritmética...\n",
              "153                     0.0                                                  0\n",
              "155                    10.0     Lista de Exercícios 1 - Expressões e variáveis\n",
              "158                    14.0    Lista de Exercícios 2 - Estruturas Condicionais\n",
              "160                     7.0  Lista de Laboratório 2 - Expressões Lógicas e ...\n",
              "178                    13.0           Lista de Exercícios 3 - Laço Condicional\n",
              "182                     7.0  Lista de Laboratório 3 -  Estruturas de Repeti...\n",
              "196                     9.0               Lista de Exercícios 4 - Laço contado\n",
              "198                     5.0         Lista de Laboratório 4 - Repetição Contada\n",
              "210                     5.0                        Prova 1 - Turma 09 - 2017.1\n",
              "216                     8.0  Lista de Exercícios 4.1 - Problemas tradiciona...\n",
              "228                     5.0                   Lista de Laboratório 5 - Vetores\n",
              "234                    11.0                    Lista de Exercícios 5 - Vetores\n",
              "1657                    4.0                  Prova 1 - Turmas 3C e 3D - 2018.1\n",
              "1685                    4.0                         Lista de Revisão Unidade 1\n",
              "5113                   10.0                 Lista 1.0 - Expressões aritméticas\n",
              "5123                    9.0                    Lista 1.2 - Funções aritméticas\n",
              "5832                    4.0                  Prova 2 - Turmas 2A e 2B - 2018.1\n",
              "6303                    3.0                  Prova 2 - Turmas 2C e 2D - 2018.1\n",
              "7728                    5.0                  Prova 1 - Turmas 2A e 2B - 2018.1\n",
              "9074                    4.0                  Prova 1 - Turmas 2C e 2D - 2018.1\n",
              "9081                    4.0                        Prova 1 - Turma 3A - 2018.2\n",
              "15945                   4.0                        Prova 1 - Turma 3B - 2018.2\n",
              "16534                   4.0                        Prova 1 - Turma 3C - 2018.2\n",
              "17971                   3.0                        Prova 1 - Turma 3D - 2018.2"
            ]
          },
          "metadata": {
            "tags": []
          },
          "execution_count": 14
        }
      ]
    },
    {
      "cell_type": "markdown",
      "metadata": {
        "id": "-CZxcN9-xTwh",
        "colab_type": "text"
      },
      "source": [
        "**Concatenando as informações das tabelas mergeQuanNotaLista e quantidade de questoes por lista para calcular o nota final de cada lista**"
      ]
    },
    {
      "cell_type": "code",
      "metadata": {
        "id": "wi0x_t8MjWnp",
        "colab_type": "code",
        "outputId": "ee267397-0050-4641-fbe2-5bfc5c328edd",
        "colab": {
          "base_uri": "https://localhost:8080/",
          "height": 231
        }
      },
      "source": [
        "mergeQuanNotaListaQuanQ = mergeQuanNotaLista.join(quantQuesList.set_index('titulo'), on='titulo')\n",
        "mergeQuanNotaListaQuanQ[\"NotaLista\"]= mergeQuanNotaListaQuanQ[\"SomaLista\"] /mergeQuanNotaListaQuanQ['quantidadeTotalLista']\n",
        "print(mergeQuanNotaListaQuanQ.columns)\n",
        "print(mergeQuanNotaListaQuanQ.shape)\n",
        "mergeQuanNotaListaQuanQ.head(3)"
      ],
      "execution_count": 15,
      "outputs": [
        {
          "output_type": "stream",
          "text": [
            "Index(['titulo', 'idAluno', 'anoSubmissao', 'SomaLista', 'questoesFeitas',\n",
            "       'quantidadeTotalLista', 'NotaLista'],\n",
            "      dtype='object')\n",
            "(7495, 7)\n"
          ],
          "name": "stdout"
        },
        {
          "output_type": "execute_result",
          "data": {
            "text/html": [
              "<div>\n",
              "<style scoped>\n",
              "    .dataframe tbody tr th:only-of-type {\n",
              "        vertical-align: middle;\n",
              "    }\n",
              "\n",
              "    .dataframe tbody tr th {\n",
              "        vertical-align: top;\n",
              "    }\n",
              "\n",
              "    .dataframe thead th {\n",
              "        text-align: right;\n",
              "    }\n",
              "</style>\n",
              "<table border=\"1\" class=\"dataframe\">\n",
              "  <thead>\n",
              "    <tr style=\"text-align: right;\">\n",
              "      <th></th>\n",
              "      <th>titulo</th>\n",
              "      <th>idAluno</th>\n",
              "      <th>anoSubmissao</th>\n",
              "      <th>SomaLista</th>\n",
              "      <th>questoesFeitas</th>\n",
              "      <th>quantidadeTotalLista</th>\n",
              "      <th>NotaLista</th>\n",
              "    </tr>\n",
              "  </thead>\n",
              "  <tbody>\n",
              "    <tr>\n",
              "      <th>0</th>\n",
              "      <td>0</td>\n",
              "      <td>5991cb910be9d42f2f68b906</td>\n",
              "      <td>2017.2</td>\n",
              "      <td>400.0</td>\n",
              "      <td>4</td>\n",
              "      <td>0.0</td>\n",
              "      <td>inf</td>\n",
              "    </tr>\n",
              "    <tr>\n",
              "      <th>1</th>\n",
              "      <td>0</td>\n",
              "      <td>5991cd3e8907ca2f441cd314</td>\n",
              "      <td>2017.2</td>\n",
              "      <td>400.0</td>\n",
              "      <td>4</td>\n",
              "      <td>0.0</td>\n",
              "      <td>inf</td>\n",
              "    </tr>\n",
              "    <tr>\n",
              "      <th>2</th>\n",
              "      <td>0</td>\n",
              "      <td>5991cd520be9d42f2f68b908</td>\n",
              "      <td>2017.2</td>\n",
              "      <td>100.0</td>\n",
              "      <td>1</td>\n",
              "      <td>0.0</td>\n",
              "      <td>inf</td>\n",
              "    </tr>\n",
              "  </tbody>\n",
              "</table>\n",
              "</div>"
            ],
            "text/plain": [
              "  titulo                   idAluno  ...  quantidadeTotalLista  NotaLista\n",
              "0      0  5991cb910be9d42f2f68b906  ...                   0.0        inf\n",
              "1      0  5991cd3e8907ca2f441cd314  ...                   0.0        inf\n",
              "2      0  5991cd520be9d42f2f68b908  ...                   0.0        inf\n",
              "\n",
              "[3 rows x 7 columns]"
            ]
          },
          "metadata": {
            "tags": []
          },
          "execution_count": 15
        }
      ]
    },
    {
      "cell_type": "code",
      "metadata": {
        "id": "4613aCmIF5KK",
        "colab_type": "code",
        "outputId": "45e86fa7-1bdd-4ff2-ba91-f64309f3c919",
        "colab": {
          "base_uri": "https://localhost:8080/",
          "height": 90
        }
      },
      "source": [
        "mergeSituacoeUsuariosSubLista.columns"
      ],
      "execution_count": 16,
      "outputs": [
        {
          "output_type": "execute_result",
          "data": {
            "text/plain": [
              "Index(['idLista', 'questao', 'titulo', 'quantidadeTotalLista', 'data',\n",
              "       'porcentagemAcerto', 'idAluno', 'anoSubmissao', 'idTurma', 'anoLop',\n",
              "       'turma', 'matricula', 'nome', 'anoSigaa', 'notaSigaa', 'situacao'],\n",
              "      dtype='object')"
            ]
          },
          "metadata": {
            "tags": []
          },
          "execution_count": 16
        }
      ]
    },
    {
      "cell_type": "markdown",
      "metadata": {
        "id": "RdCzRBxtbI0F",
        "colab_type": "text"
      },
      "source": [
        "**Tabela final com todas as informações do aluno das listas**"
      ]
    },
    {
      "cell_type": "code",
      "metadata": {
        "id": "fOZU6sHYbJ6p",
        "colab_type": "code",
        "outputId": "59245f49-1608-483f-d5a1-b77cc7941cc3",
        "colab": {
          "base_uri": "https://localhost:8080/",
          "height": 305
        }
      },
      "source": [
        "mergeSituacoeUsuariosSubListaM = mergeSituacoeUsuariosSubLista[['idAluno','titulo', 'anoSubmissao','anoLop', 'turma', 'matricula', 'nome', 'notaSigaa','situacao', 'anoSigaa']]\n",
        "tabelaFinalListas= mergeQuanNotaListaQuanQ.join(mergeSituacoeUsuariosSubListaM.set_index(['idAluno','titulo', 'anoSubmissao']), on=['idAluno','titulo', 'anoSubmissao'])\n",
        "#remover as linhas duplicadas\n",
        "tabelaFinalListas = tabelaFinalListas.drop_duplicates()\n",
        "tabelaFinalListas = tabelaFinalListas.loc[tabelaFinalListas[\"titulo\"] != \"0\",:]\n",
        "tabelaFinalListas.head()\n"
      ],
      "execution_count": 21,
      "outputs": [
        {
          "output_type": "execute_result",
          "data": {
            "text/html": [
              "<div>\n",
              "<style scoped>\n",
              "    .dataframe tbody tr th:only-of-type {\n",
              "        vertical-align: middle;\n",
              "    }\n",
              "\n",
              "    .dataframe tbody tr th {\n",
              "        vertical-align: top;\n",
              "    }\n",
              "\n",
              "    .dataframe thead th {\n",
              "        text-align: right;\n",
              "    }\n",
              "</style>\n",
              "<table border=\"1\" class=\"dataframe\">\n",
              "  <thead>\n",
              "    <tr style=\"text-align: right;\">\n",
              "      <th></th>\n",
              "      <th>titulo</th>\n",
              "      <th>idAluno</th>\n",
              "      <th>anoSubmissao</th>\n",
              "      <th>SomaLista</th>\n",
              "      <th>questoesFeitas</th>\n",
              "      <th>quantidadeTotalLista</th>\n",
              "      <th>NotaLista</th>\n",
              "      <th>anoLop</th>\n",
              "      <th>turma</th>\n",
              "      <th>matricula</th>\n",
              "      <th>nome</th>\n",
              "      <th>notaSigaa</th>\n",
              "      <th>situacao</th>\n",
              "      <th>anoSigaa</th>\n",
              "    </tr>\n",
              "  </thead>\n",
              "  <tbody>\n",
              "    <tr>\n",
              "      <th>0</th>\n",
              "      <td>0</td>\n",
              "      <td>5991cb910be9d42f2f68b906</td>\n",
              "      <td>2017.2</td>\n",
              "      <td>400.0</td>\n",
              "      <td>4</td>\n",
              "      <td>0.0</td>\n",
              "      <td>inf</td>\n",
              "      <td>2017.2</td>\n",
              "      <td>01A</td>\n",
              "      <td>20170039453</td>\n",
              "      <td>Amanda</td>\n",
              "      <td>7.9</td>\n",
              "      <td>APROVADO</td>\n",
              "      <td>2017.2</td>\n",
              "    </tr>\n",
              "    <tr>\n",
              "      <th>1</th>\n",
              "      <td>0</td>\n",
              "      <td>5991cd3e8907ca2f441cd314</td>\n",
              "      <td>2017.2</td>\n",
              "      <td>400.0</td>\n",
              "      <td>4</td>\n",
              "      <td>0.0</td>\n",
              "      <td>inf</td>\n",
              "      <td>2017.2</td>\n",
              "      <td>01D</td>\n",
              "      <td>20170102753</td>\n",
              "      <td>Iury</td>\n",
              "      <td>6.2</td>\n",
              "      <td>APROVADO POR NOTA</td>\n",
              "      <td>2017.2</td>\n",
              "    </tr>\n",
              "    <tr>\n",
              "      <th>2</th>\n",
              "      <td>0</td>\n",
              "      <td>5991cd520be9d42f2f68b908</td>\n",
              "      <td>2017.2</td>\n",
              "      <td>100.0</td>\n",
              "      <td>1</td>\n",
              "      <td>0.0</td>\n",
              "      <td>inf</td>\n",
              "      <td>2017.2</td>\n",
              "      <td>01B</td>\n",
              "      <td>20170035356</td>\n",
              "      <td>Evelyn Lívia</td>\n",
              "      <td>9.5</td>\n",
              "      <td>APROVADO</td>\n",
              "      <td>2017.2</td>\n",
              "    </tr>\n",
              "    <tr>\n",
              "      <th>3</th>\n",
              "      <td>0</td>\n",
              "      <td>5991cd640be9d42f2f68b90a</td>\n",
              "      <td>2017.2</td>\n",
              "      <td>50.0</td>\n",
              "      <td>1</td>\n",
              "      <td>0.0</td>\n",
              "      <td>inf</td>\n",
              "      <td>2017.2</td>\n",
              "      <td>01B</td>\n",
              "      <td>20170030832</td>\n",
              "      <td>Gilvandro César de Medeiros</td>\n",
              "      <td>9.9</td>\n",
              "      <td>APROVADO</td>\n",
              "      <td>2017.2</td>\n",
              "    </tr>\n",
              "    <tr>\n",
              "      <th>4</th>\n",
              "      <td>0</td>\n",
              "      <td>5991cd870be9d42f2f68b90c</td>\n",
              "      <td>2017.2</td>\n",
              "      <td>300.0</td>\n",
              "      <td>3</td>\n",
              "      <td>0.0</td>\n",
              "      <td>inf</td>\n",
              "      <td>2017.2</td>\n",
              "      <td>01B</td>\n",
              "      <td>20170033772</td>\n",
              "      <td>Thuanny Ramos</td>\n",
              "      <td>10</td>\n",
              "      <td>APROVADO</td>\n",
              "      <td>2017.2</td>\n",
              "    </tr>\n",
              "  </tbody>\n",
              "</table>\n",
              "</div>"
            ],
            "text/plain": [
              "  titulo                   idAluno  ...           situacao  anoSigaa\n",
              "0      0  5991cb910be9d42f2f68b906  ...           APROVADO    2017.2\n",
              "1      0  5991cd3e8907ca2f441cd314  ...  APROVADO POR NOTA    2017.2\n",
              "2      0  5991cd520be9d42f2f68b908  ...           APROVADO    2017.2\n",
              "3      0  5991cd640be9d42f2f68b90a  ...           APROVADO    2017.2\n",
              "4      0  5991cd870be9d42f2f68b90c  ...           APROVADO    2017.2\n",
              "\n",
              "[5 rows x 14 columns]"
            ]
          },
          "metadata": {
            "tags": []
          },
          "execution_count": 21
        }
      ]
    },
    {
      "cell_type": "markdown",
      "metadata": {
        "id": "e6E01JphgOrw",
        "colab_type": "text"
      },
      "source": [
        "**Exportar a tabela final das notas das listas para um arquivo CSV**"
      ]
    },
    {
      "cell_type": "code",
      "metadata": {
        "id": "DbSlhaD3gL_d",
        "colab_type": "code",
        "colab": {}
      },
      "source": [
        " tabelaFinalListas.to_csv(r'notasListas.csv')"
      ],
      "execution_count": 0,
      "outputs": []
    },
    {
      "cell_type": "code",
      "metadata": {
        "id": "1xAq1EIjICOT",
        "colab_type": "code",
        "colab": {}
      },
      "source": [
        "def tabelaNotaLista(ano, titulo, turma): \n",
        "  tabela = tabelaFinalListas.loc[ (tabelaFinalListas[\"anoSigaa\"] == ano) & (tabelaFinalListas[\"titulo\"].str.contains(titulo)) & (tabelaFinalListas[\"turma\"].str.contains(turma)) ,: ]\n",
        "  tabela = tabela[[\"anoSigaa\",\"matricula\",\"turma\", \"nome\", \"NotaLista\",\"SomaLista\"]].sort_values(by=\"nome\")\n",
        "  return tabela"
      ],
      "execution_count": 0,
      "outputs": []
    },
    {
      "cell_type": "markdown",
      "metadata": {
        "id": "CIbJ2p5lMb6m",
        "colab_type": "text"
      },
      "source": [
        "**Exportando o dataframe para um arquivo excel**"
      ]
    },
    {
      "cell_type": "code",
      "metadata": {
        "id": "QIEiLCZhLRiv",
        "colab_type": "code",
        "colab": {}
      },
      "source": [
        "turmas= [\"03A\",\"03B\",\"03C\",\"03D\"]\n",
        "listas = [\"Lista 1.2\",\"Estruturas Condicionais\"]\n",
        "for t in turmas:\n",
        "  for l in listas:\n",
        "    tab = tabelaNotaLista(2019.2, l, t)\n",
        "    tab =tab[[\"anoSigaa\",\"matricula\",\"turma\", \"nome\", \"NotaLista\"]].sort_values(by=\"nome\")\n",
        "    tab.to_excel(r'Nota'+l+\" \"+t+'.xls')"
      ],
      "execution_count": 0,
      "outputs": []
    },
    {
      "cell_type": "code",
      "metadata": {
        "id": "-9GIBG_1Vthc",
        "colab_type": "code",
        "colab": {}
      },
      "source": [
        "#Fiz essa lista separa pq o professor não cobrou todas as questoes para valer nota .. apenas 10 questoes das 15 que tem na lista\n",
        "turmas= [\"03A\",\"03B\",\"03C\",\"03D\"]\n",
        "for t in turmas:\n",
        "    tab = tabelaNotaLista(2019.2, \"3 - La\", t)\n",
        "    tab[\"NotaLista\"] = tab[\"SomaLista\"] / 10\n",
        "    tab =tab[[\"anoSigaa\",\"matricula\",\"turma\", \"nome\", \"NotaLista\"]].sort_values(by=\"nome\")\n",
        "    tab.to_excel(r'NotaLista03'+\" \"+t+'.xls')"
      ],
      "execution_count": 0,
      "outputs": []
    }
  ]
}