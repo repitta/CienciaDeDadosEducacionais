{
  "nbformat": 4,
  "nbformat_minor": 0,
  "metadata": {
    "colab": {
      "name": "notas das listas de LOP.ipynb",
      "version": "0.3.2",
      "provenance": [],
      "include_colab_link": true
    },
    "kernelspec": {
      "name": "python3",
      "display_name": "Python 3"
    }
  },
  "cells": [
    {
      "cell_type": "markdown",
      "metadata": {
        "id": "view-in-github",
        "colab_type": "text"
      },
      "source": [
        "<a href=\"https://colab.research.google.com/github/repitta/CienciaDeDadosEducacionais/blob/master/notas_das_listas_de_LOP.ipynb\" target=\"_parent\"><img src=\"https://colab.research.google.com/assets/colab-badge.svg\" alt=\"Open In Colab\"/></a>"
      ]
    },
    {
      "cell_type": "code",
      "metadata": {
        "id": "_FezmCphFaZK",
        "colab_type": "code",
        "colab": {}
      },
      "source": [
        "mergeSubLista.rename(columns={\"user\":\"idAluno\"}, inplace=True)\n",
        "mergeUseTurmasSubLista = pd.merge(right= mergeUserTurmas, left = mergeSubLista, on='idAluno', how=\"outer\")\n",
        "print (mergeUseTurmasSubLista.shape)\n",
        "print(mergeUseTurmasSubLista.columns)\n",
        "mergeUseTurmasSubLista.head(1)"
      ],
      "execution_count": 0,
      "outputs": []
    },
    {
      "cell_type": "markdown",
      "metadata": {
        "id": "F3WsmpC-s7kS",
        "colab_type": "text"
      },
      "source": [
        "**Criar um arquivo CSV com as informações dos usuarios, turmas, submissões e as informações da lista**"
      ]
    },
    {
      "cell_type": "code",
      "metadata": {
        "id": "VNJ0GcPIuBt8",
        "colab_type": "code",
        "colab": {}
      },
      "source": [
        "mergeUseTurmasSubLista.to_csv(r'lopUseTurmasSubLista.csv')"
      ],
      "execution_count": 0,
      "outputs": []
    },
    {
      "cell_type": "markdown",
      "metadata": {
        "id": "zSCt_wn0u2bR",
        "colab_type": "text"
      },
      "source": [
        "**Montar um arquivo CSV com as notas de cada aluno por lista**"
      ]
    },
    {
      "cell_type": "code",
      "metadata": {
        "id": "HYDs4CUmvFvI",
        "colab_type": "code",
        "colab": {}
      },
      "source": [
        "#Remover todas as linhas que tem dados faltantes\n",
        "mergeUseTurmasSubListaM = mergeUseTurmasSubLista.dropna(axis=0, how='any')\n"
      ],
      "execution_count": 0,
      "outputs": []
    },
    {
      "cell_type": "markdown",
      "metadata": {
        "id": "3Gwz3X_KSnxV",
        "colab_type": "text"
      },
      "source": [
        "**Porcentagem Máxima por aluno em cada questão da lista**"
      ]
    },
    {
      "cell_type": "code",
      "metadata": {
        "id": "Ae0uZnOdOhYc",
        "colab_type": "code",
        "colab": {}
      },
      "source": [
        "NotaMaxQuestao = mergeUseTurmasSubListaM.groupby([\"idLista\",\"idAluno\",\"questao\"]).max()\n",
        "NotaMaxQuestao.rename(columns={\"porcentagemAcerto\":\"porcentagemMaxima\"}, inplace=True)\n",
        "NotaMaxQuestao = NotaMaxQuestao.reset_index()\n",
        "print(NotaMaxQuestao.columns)\n",
        "NotaMaxQuestao.head(1)"
      ],
      "execution_count": 0,
      "outputs": []
    },
    {
      "cell_type": "markdown",
      "metadata": {
        "id": "vgm8Oox_ZcP7",
        "colab_type": "text"
      },
      "source": [
        "**Quantidade de questoes feitas por aluno em cada lista**"
      ]
    },
    {
      "cell_type": "code",
      "metadata": {
        "id": "PPKZhnBSVfg1",
        "colab_type": "code",
        "colab": {}
      },
      "source": [
        "quantidade = NotaMaxQuestao.groupby([\"titulo\",\"idAluno\"]).count()\n",
        "quantidade.rename(columns={\"quantidade\":\"questoesFeitas\"}, inplace=True)\n",
        "quantidade= quantidade.reset_index()\n",
        "quantidade= quantidade[[\"titulo\",\"idAluno\",\"questoesFeitas\"]]\n",
        "print(quantidade.columns)\n",
        "quantidade.head(1)"
      ],
      "execution_count": 0,
      "outputs": []
    },
    {
      "cell_type": "markdown",
      "metadata": {
        "id": "aEJHPj8P8VLb",
        "colab_type": "text"
      },
      "source": [
        "**Nota final dos alunos por lista**"
      ]
    },
    {
      "cell_type": "code",
      "metadata": {
        "id": "LIOUjOfsS2TA",
        "colab_type": "code",
        "colab": {}
      },
      "source": [
        "NotaLista = NotaMaxQuestao.groupby([\"titulo\",\"idAluno\"]).sum()\n",
        "NotaLista.rename(columns={\"porcentagemMaxima\":\"SomaLista\", \"quantidade\":\"questoesFeitas\"}, inplace=True)\n",
        "NotaLista = NotaLista.drop('ano',axis=1)\n",
        "NotaLista = NotaLista.reset_index()\n",
        "NotaLista = NotaLista[[\"titulo\",'idAluno','SomaLista']]\n",
        "print(NotaLista.columns)\n",
        "NotaLista.head(1)"
      ],
      "execution_count": 0,
      "outputs": []
    },
    {
      "cell_type": "code",
      "metadata": {
        "id": "xrkgbDhyZtc5",
        "colab_type": "code",
        "colab": {}
      },
      "source": [
        "mergeQuanNotaLista =  pd.merge(right= quantidade, left = NotaLista, on=['idAluno','titulo'], how=\"inner\")\n",
        "print(mergeQuanNotaLista.columns)\n",
        "print(mergeQuanNotaLista.shape)\n",
        "mergeQuanNotaLista.head(1)"
      ],
      "execution_count": 0,
      "outputs": []
    },
    {
      "cell_type": "markdown",
      "metadata": {
        "id": "tVAYs1f6jAEj",
        "colab_type": "text"
      },
      "source": [
        "**Quantidade de questoes por lista**"
      ]
    },
    {
      "cell_type": "code",
      "metadata": {
        "id": "aW34ME3nfdlH",
        "colab_type": "code",
        "colab": {}
      },
      "source": [
        "quantQuesList = listaNovo[['quantidade','titulo']]\n",
        "quantQuesList =quantQuesList.drop_duplicates()\n",
        "print(quantQuesList.shape)\n",
        "quantQuesList.head()"
      ],
      "execution_count": 0,
      "outputs": []
    },
    {
      "cell_type": "markdown",
      "metadata": {
        "id": "-CZxcN9-xTwh",
        "colab_type": "text"
      },
      "source": [
        "**Concatenando as informações das tabelas mergeQuanNotaLista e quantidade para calcular o nota final de cada lista**"
      ]
    },
    {
      "cell_type": "code",
      "metadata": {
        "id": "wi0x_t8MjWnp",
        "colab_type": "code",
        "colab": {}
      },
      "source": [
        "mergeQuanNotaListaQuanQ = mergeQuanNotaLista.join(quantQuesList.set_index('titulo'), on='titulo')\n",
        "mergeQuanNotaListaQuanQ[\"NotaLista\"]= mergeQuanNotaListaQuanQ[\"SomaLista\"] /mergeQuanNotaListaQuanQ['quantidade']\n",
        "print(mergeQuanNotaListaQuanQ.columns)\n",
        "print(mergeQuanNotaListaQuanQ.shape)\n",
        "mergeQuanNotaListaQuanQ.head(3)"
      ],
      "execution_count": 0,
      "outputs": []
    },
    {
      "cell_type": "markdown",
      "metadata": {
        "id": "RdCzRBxtbI0F",
        "colab_type": "text"
      },
      "source": [
        "**Tabela final com todas as informações do aluno das listas**"
      ]
    },
    {
      "cell_type": "code",
      "metadata": {
        "id": "fOZU6sHYbJ6p",
        "colab_type": "code",
        "colab": {}
      },
      "source": [
        "mergeUseTurmasSubLista.rename(columns={'titulo':\"tituloLista\",\"quantidade\":\"quantidadeLista\"}, inplace=True)\n",
        "mergeUseTurmasSubListaM = mergeUseTurmasSubLista[[\"tituloLista\",'idAluno', 'ano', 'descricaoTurma', 'idTurma','matricula','nome']]\n",
        "\n",
        "#Renomear as colunas da tabela Listas\n",
        "mergeQuanNotaListaQuanQ.rename(columns={'titulo':\"tituloLista\",\"questoesFeitas\":\"questoesFeitasLista\",\"quantidade\":\"quantidadeLista\"}, inplace=True)\n",
        "mergeQuanNotaListaQuanM = mergeQuanNotaListaQuanQ[['tituloLista', 'idAluno','questoesFeitasLista', 'quantidadeLista','NotaLista']]\n",
        "\n",
        "tabelaFinalListas= mergeQuanNotaListaQuanM.join(mergeUseTurmasSubListaM.set_index(['tituloLista','idAluno']), on=['tituloLista','idAluno'])\n",
        "#remover as linhas duplicadas\n",
        "tabelaFinalListas = tabelaFinalListas.drop_duplicates()\n",
        "tabelaFinalListas.head()\n"
      ],
      "execution_count": 0,
      "outputs": []
    },
    {
      "cell_type": "markdown",
      "metadata": {
        "id": "INaZBI7BbUNP",
        "colab_type": "text"
      },
      "source": [
        "**Exportando o dataframe para um arquivo CSV**"
      ]
    },
    {
      "cell_type": "code",
      "metadata": {
        "id": "2CM1YgZtbTn3",
        "colab_type": "code",
        "colab": {}
      },
      "source": [
        "#tabelaFinalT= tabelaFinal.drop('nome',axis=1)\n",
        "tabelaFinalListas.to_csv(r'lopUsuarioNotaLista.csv')"
      ],
      "execution_count": 0,
      "outputs": []
    },
    {
      "cell_type": "markdown",
      "metadata": {
        "id": "WRH6k0Xz3ugd",
        "colab_type": "text"
      },
      "source": [
        "**#Expandir a tabela de provas para que cada questão das provas seja uma linha da tabela**"
      ]
    },
    {
      "cell_type": "code",
      "metadata": {
        "id": "6Yb1MB1s3r_N",
        "colab_type": "code",
        "colab": {}
      },
      "source": [
        "colunas   = [\"idProva\",\"idQuestao\",\"titulo\",'data']\n",
        "provaNovo = pd.DataFrame(columns=colunas)\n",
        "for i in range(len(tabProvas)):\n",
        "  idProva   = tabProvas[\"_id\"].iloc[i]\n",
        "  titulo    = tabProvas[\"titulo\"].iloc[i]\n",
        "  data      = tabProvas[\"iniciou\"].iloc[i]\n",
        "  q         = tabProvas[\"questao\"].iloc[i]\n",
        "  for a in range(6):\n",
        "    questao = q[a]\n",
        "    dic = {\"idProva\": idProva ,\"titulo\":titulo, \"idQuestao\": questao ,\"data\":data}\n",
        "    provaNovo = pd.concat([provaNovo, pd.DataFrame(dic, index=[0])],  ignore_index=True, sort=False )\n"
      ],
      "execution_count": 0,
      "outputs": []
    },
    {
      "cell_type": "markdown",
      "metadata": {
        "id": "3iraaQLC33ii",
        "colab_type": "text"
      },
      "source": [
        "**Deletar as linhas que estão com NaN**"
      ]
    },
    {
      "cell_type": "code",
      "metadata": {
        "id": "9t2m53KV31Y4",
        "colab_type": "code",
        "colab": {}
      },
      "source": [
        "provaNovo = provaNovo.dropna(axis=0, how='any')\n",
        "print(provaNovo.shape)\n",
        "provaNovo.info()"
      ],
      "execution_count": 0,
      "outputs": []
    },
    {
      "cell_type": "markdown",
      "metadata": {
        "id": "mxZiuYbv8yVw",
        "colab_type": "text"
      },
      "source": [
        "**Criar o campo quantidade de questoes por prova**"
      ]
    },
    {
      "cell_type": "code",
      "metadata": {
        "id": "g2OTrIvu3eDn",
        "colab_type": "code",
        "colab": {}
      },
      "source": [
        "quantidade = provaNovo.groupby(\"idProva\").count()\n",
        "quantidade = quantidade.reset_index()\n",
        "quantidade = quantidade.drop(['titulo',\"data\"],axis=1)\n",
        "quantidade.rename(columns={\"idQuestao\":\"quantidade\"}, inplace=True)\n",
        "provaNovo = pd.merge(left = provaNovo, right = quantidade, on='idProva', how=\"right\")\n",
        "print(provaNovo.info())\n"
      ],
      "execution_count": 0,
      "outputs": []
    },
    {
      "cell_type": "markdown",
      "metadata": {
        "id": "DIMG4ie-759B",
        "colab_type": "text"
      },
      "source": [
        "**Criar o campo ano por prova**"
      ]
    },
    {
      "cell_type": "code",
      "metadata": {
        "id": "vDsK_tp7783e",
        "colab_type": "code",
        "colab": {}
      },
      "source": [
        "#Alterando o tipo da variavel ano para datetime\n",
        "provaNovo[\"data\"] = pd.to_datetime(provaNovo[\"data\"], format = \"%Y/%m/%dT%H:%M:%S\")\n",
        "\n",
        "provaNovo[\"ano\"], provaNovo[\"mes\"] = provaNovo['data'].dt.year, provaNovo['data'].dt.month\n",
        "#mergeSubProvas.head()\n",
        "\n",
        "def data(data) :\n",
        "  mes = data[\"mes\"]\n",
        "  if mes <= 7 :\n",
        "    return data[\"ano\"]+0.1\n",
        "  else:\n",
        "    return data[\"ano\"]+0.2\n",
        "provaNovo[\"ano\"] =provaNovo.apply(data, axis=1)\n",
        "provaNovo = provaNovo.drop(\"mes\",axis = 1)\n",
        "provaNovo.head()"
      ],
      "execution_count": 0,
      "outputs": []
    },
    {
      "cell_type": "markdown",
      "metadata": {
        "id": "mTc7442I_GnF",
        "colab_type": "text"
      },
      "source": [
        "**Criar o campo ano na tabela tabSubProvas**"
      ]
    },
    {
      "cell_type": "code",
      "metadata": {
        "id": "1fJPZTLM_GJP",
        "colab_type": "code",
        "colab": {}
      },
      "source": [
        "tabSubProvas[\"ano\"],tabSubProvas[\"mes\"] = tabSubProvas['data'].dt.year, tabSubProvas['data'].dt.month\n",
        "tabSubProvas[\"ano\"] = tabSubProvas.apply(data, axis=1)\n",
        "tabSubProvas = tabSubProvas.drop(\"mes\",axis = 1)\n",
        "tabSubProvas.head()"
      ],
      "execution_count": 0,
      "outputs": []
    },
    {
      "cell_type": "markdown",
      "metadata": {
        "id": "kKd-dg3a4EMu",
        "colab_type": "text"
      },
      "source": [
        "**Concatenar as tabelas provas e submissao provas**"
      ]
    },
    {
      "cell_type": "code",
      "metadata": {
        "id": "-htifwfe3_ey",
        "colab_type": "code",
        "colab": {}
      },
      "source": [
        "mergeSubProvas = pd.merge(right= tabSubProvas, left = provaNovo, on=['idQuestao',\"ano\"], how=\"right\")\n",
        "#Só ficar com os registros das provas que o professor criou\n",
        "mergeSubProvas = mergeSubProvas.loc[mergeSubProvas[\"idProva_x\"] == mergeSubProvas[\"idProva_y\"],:]\n",
        "mergeSubProvas = mergeSubProvas.drop(\"idProva_y\", axis=1)\n",
        "mergeSubProvas.rename(columns={\"idProva_x\":\"idProva\", \"data_x\":\"dataProva\",\"data_y\":\"dataSubmissao\"}, inplace=True)\n",
        "mergeSubProvas.info()"
      ],
      "execution_count": 0,
      "outputs": []
    },
    {
      "cell_type": "code",
      "metadata": {
        "id": "Tssdh0AUAD1R",
        "colab_type": "code",
        "colab": {}
      },
      "source": [
        "mergeSubProvas.head()"
      ],
      "execution_count": 0,
      "outputs": []
    },
    {
      "cell_type": "markdown",
      "metadata": {
        "id": "-YxXKD2E4Tw2",
        "colab_type": "text"
      },
      "source": [
        "**#Criar o arquivo CSV com as informações das provas e das submissoes**"
      ]
    },
    {
      "cell_type": "code",
      "metadata": {
        "id": "NqXLHEBs4R6C",
        "colab_type": "code",
        "colab": {}
      },
      "source": [
        "mergeSubProvas.to_csv(r'lopSubProva.csv')"
      ],
      "execution_count": 0,
      "outputs": []
    },
    {
      "cell_type": "markdown",
      "metadata": {
        "id": "veoUZvHadu_r",
        "colab_type": "text"
      },
      "source": [
        "**Concatenar a tabela mergeUserTurmas e mergeSubProvas**"
      ]
    },
    {
      "cell_type": "code",
      "metadata": {
        "id": "7uH8x7IrduVr",
        "colab_type": "code",
        "colab": {}
      },
      "source": [
        "mergeSubProvas.rename(columns={\"user\":\"idAluno\"}, inplace=True)\n",
        "mergeUseTurmasSubProva = pd.merge(right= mergeUserTurmas, left = mergeSubProvas, on=['idAluno',\"ano\"], how=\"outer\")\n",
        "print (mergeUseTurmasSubProva.shape)\n",
        "print(mergeUseTurmasSubProva.columns)\n",
        "mergeUseTurmasSubProva.head(1)"
      ],
      "execution_count": 0,
      "outputs": []
    },
    {
      "cell_type": "markdown",
      "metadata": {
        "id": "In4P83Ize-d8",
        "colab_type": "text"
      },
      "source": [
        "**Criar um arquivo CSV com as informações dos usuarios, turmas, submissões e as informações da lista**"
      ]
    },
    {
      "cell_type": "code",
      "metadata": {
        "id": "LCl_25pmfBem",
        "colab_type": "code",
        "colab": {}
      },
      "source": [
        "mergeUseTurmasSubProva.to_csv(r'lopUseTurmasSubProva.csv')"
      ],
      "execution_count": 0,
      "outputs": []
    },
    {
      "cell_type": "markdown",
      "metadata": {
        "id": "tnWyRBqifGNj",
        "colab_type": "text"
      },
      "source": [
        "**Montar um arquivo CSV com as notas de cada aluno por lista**"
      ]
    },
    {
      "cell_type": "code",
      "metadata": {
        "id": "CPZyl5N4eW-A",
        "colab_type": "code",
        "colab": {}
      },
      "source": [
        "#Remover todas as linhas que tem dados faltantes\n",
        "mergeUseTurmasSubProvaM = mergeUseTurmasSubProva.dropna(axis=0, how='any')\n"
      ],
      "execution_count": 0,
      "outputs": []
    },
    {
      "cell_type": "markdown",
      "metadata": {
        "id": "zh_EthYa49S2",
        "colab_type": "text"
      },
      "source": [
        "**Montar um arquivo CSV com as notas de cada aluno por prova** \\\\\n",
        "**Porcentagem Máxima por aluno em cada questão da prova**"
      ]
    },
    {
      "cell_type": "code",
      "metadata": {
        "id": "IJEVj02x5F-T",
        "colab_type": "code",
        "colab": {}
      },
      "source": [
        "NotaMaxQuestaoProva = mergeUseTurmasSubProvaM.groupby([\"idProva\",\"idAluno\",\"idQuestao\"]).max()\n",
        "NotaMaxQuestaoProva.rename(columns={\"porcentagemAcerto\":\"porcentagemMaxima\"}, inplace=True)\n",
        "NotaMaxQuestaoProva = NotaMaxQuestaoProva.reset_index()\n",
        "print(NotaMaxQuestaoProva.columns)\n",
        "NotaMaxQuestaoProva.head(1)"
      ],
      "execution_count": 0,
      "outputs": []
    },
    {
      "cell_type": "markdown",
      "metadata": {
        "id": "rr_66XsU5olh",
        "colab_type": "text"
      },
      "source": [
        "**Quantidade de questoes feitas por aluno em cada prova**"
      ]
    },
    {
      "cell_type": "code",
      "metadata": {
        "id": "vK1h219s5q2U",
        "colab_type": "code",
        "colab": {}
      },
      "source": [
        "quantidadeProva = NotaMaxQuestaoProva.groupby([\"titulo\",\"idAluno\"]).count()\n",
        "quantidadeProva.rename(columns={\"quantidade\":\"questoesFeitas\"}, inplace=True)\n",
        "quantidadeProva = quantidadeProva.reset_index()\n",
        "quantidadeProva = quantidadeProva[[\"titulo\",\"idAluno\",\"questoesFeitas\"]]\n",
        "print(quantidadeProva.columns)\n",
        "quantidadeProva.head(1)"
      ],
      "execution_count": 0,
      "outputs": []
    },
    {
      "cell_type": "markdown",
      "metadata": {
        "id": "osBaz9iEAfjW",
        "colab_type": "text"
      },
      "source": [
        "**Nota final dos alunos por prova**"
      ]
    },
    {
      "cell_type": "code",
      "metadata": {
        "id": "M0B04UpNAerG",
        "colab_type": "code",
        "colab": {}
      },
      "source": [
        "NotaProva = NotaMaxQuestaoProva.groupby([\"titulo\",\"idAluno\"]).sum()\n",
        "NotaProva.rename(columns={\"porcentagemMaxima\":\"SomaProva\", \"quantidade\":\"questoesFeitas\"}, inplace=True)\n",
        "NotaProva = NotaProva.drop('ano',axis=1)\n",
        "NotaProva = NotaProva.reset_index()\n",
        "NotaProva = NotaProva[[\"titulo\",'idAluno','SomaProva']]\n",
        "print(NotaProva.columns)\n",
        "NotaProva.head(1)"
      ],
      "execution_count": 0,
      "outputs": []
    },
    {
      "cell_type": "code",
      "metadata": {
        "id": "Twd0004AqVov",
        "colab_type": "code",
        "colab": {}
      },
      "source": [
        "mergeQuanNotaProva =  pd.merge(right= quantidadeProva, left = NotaProva, on=['idAluno','titulo'], how=\"inner\")\n",
        "print(mergeQuanNotaProva.columns)\n",
        "print(mergeQuanNotaProva.shape)\n",
        "mergeQuanNotaProva.head(1)\n"
      ],
      "execution_count": 0,
      "outputs": []
    },
    {
      "cell_type": "markdown",
      "metadata": {
        "id": "C_s8IVgAXF6t",
        "colab_type": "text"
      },
      "source": [
        "**Quantidade de questoes por prova**"
      ]
    },
    {
      "cell_type": "code",
      "metadata": {
        "id": "OPusXK7TXCpL",
        "colab_type": "code",
        "colab": {}
      },
      "source": [
        "quantQuesProva = provaNovo[['quantidade',\"titulo\"]]\n",
        "quantQuesProva = quantQuesProva.drop_duplicates()\n",
        "print(quantQuesProva.shape)\n",
        "quantQuesProva.head()"
      ],
      "execution_count": 0,
      "outputs": []
    },
    {
      "cell_type": "markdown",
      "metadata": {
        "id": "_u6TILExrpDz",
        "colab_type": "text"
      },
      "source": [
        "**Concatenando as informações das tabelas mergeQuanNotaProva e quantidade para calcular o nota final de cada prova**"
      ]
    },
    {
      "cell_type": "code",
      "metadata": {
        "id": "YGarqL02UYOw",
        "colab_type": "code",
        "colab": {}
      },
      "source": [
        "mergeQuanNotaProvaQuanQ = mergeQuanNotaProva.join(quantQuesProva.set_index('titulo'), on='titulo')\n",
        "mergeQuanNotaProvaQuanQ[\"notaProva\"]= mergeQuanNotaProvaQuanQ[\"SomaProva\"] /mergeQuanNotaProvaQuanQ['quantidade']\n",
        "print(mergeQuanNotaProvaQuanQ.columns)\n",
        "print(mergeQuanNotaProvaQuanQ.shape)\n",
        "mergeQuanNotaProvaQuanQ.head(3)"
      ],
      "execution_count": 0,
      "outputs": []
    },
    {
      "cell_type": "markdown",
      "metadata": {
        "id": "HnBMV0STttB0",
        "colab_type": "text"
      },
      "source": [
        "**tabela final dos alunos por nota das provas**"
      ]
    },
    {
      "cell_type": "code",
      "metadata": {
        "id": "MfyRkUhitxQM",
        "colab_type": "code",
        "colab": {}
      },
      "source": [
        "mergeUseTurmasSubProva.rename(columns={'titulo':\"tituloProva\",\"quantidade\":\"quantidadeProva\"}, inplace=True)\n",
        "mergeUseTurmasSubProvaM = mergeUseTurmasSubProva[[\"tituloProva\",'idAluno', 'ano', 'descricaoTurma', 'idTurma','matricula','nome']]\n",
        "\n",
        "#Renomear as colunas da tabela Listas\n",
        "mergeQuanNotaProvaQuanQ.rename(columns={'titulo':\"tituloProva\",\"questoesFeitas\":\"questoesFeitasProva\",\"quantidade\":\"quantidadeProva\"}, inplace=True)\n",
        "mergeQuanNotaProvaQuanM = mergeQuanNotaProvaQuanQ[['tituloProva', 'idAluno','questoesFeitasProva', 'quantidadeProva','notaProva']]\n",
        "\n",
        "tabelaFinalProvas= mergeQuanNotaProvaQuanM.join(mergeUseTurmasSubProvaM.set_index(['tituloProva','idAluno']), on=['tituloProva','idAluno'])\n",
        "#remover as linhas duplicadas\n",
        "tabelaFinalProvas = tabelaFinalProvas.drop_duplicates()\n",
        "tabelaFinalProvas.head()"
      ],
      "execution_count": 0,
      "outputs": []
    },
    {
      "cell_type": "markdown",
      "metadata": {
        "id": "l12SJEbdxw07",
        "colab_type": "text"
      },
      "source": [
        "**Exportar o dataFrame para o arquivo CSV de Provas**"
      ]
    },
    {
      "cell_type": "code",
      "metadata": {
        "id": "m2q3UDLWx4BM",
        "colab_type": "code",
        "colab": {}
      },
      "source": [
        "#tabelaFinalT= tabelaFinal.drop('nome',axis=1)\n",
        "tabelaFinalProvas.to_csv(r'lopUsuarioNotaProva.csv')"
      ],
      "execution_count": 0,
      "outputs": []
    },
    {
      "cell_type": "markdown",
      "metadata": {
        "id": "MZDaCnhQYoUk",
        "colab_type": "text"
      },
      "source": [
        "Codigo de gerar numero de questoes <100"
      ]
    },
    {
      "cell_type": "code",
      "metadata": {
        "id": "BANjPmyxYsOY",
        "colab_type": "code",
        "colab": {}
      },
      "source": [
        "table = pd.read_csv(\"https://github.com/repitta/CienciaDeDadosEducacionais/raw/master/arquivosCSV/lopUseTurmasSubLista.csv\")\n",
        "a= table.loc[table[\"porcentagemAcerto\"]<100,\"porcentagemAcerto\"]\n",
        "table[\"nQres\"]=a\n",
        "b = table.groupby(\"questao\")[\"nQres\"].sum().to_frame().reset_index().sort_values(by=\"nQres\")\n",
        "b.head()\n"
      ],
      "execution_count": 0,
      "outputs": []
    },
    {
      "cell_type": "markdown",
      "metadata": {
        "id": "vWs9HB_9Y7yt",
        "colab_type": "text"
      },
      "source": [
        "Numero de questoes submetidas por aluno "
      ]
    },
    {
      "cell_type": "code",
      "metadata": {
        "id": "b-ZRVWS7ZAbb",
        "colab_type": "code",
        "colab": {}
      },
      "source": [
        "table = pd.read_csv(\"https://github.com/repitta/CienciaDeDadosEducacionais/raw/master/arquivosCSV/lopUseTurmasSubLista.csv\")\n",
        "nQuestoes = table.groupby([\"idAluno\",\"idLista\",\"questao\"]).count()\n",
        "nQuestoes.rename(columns={\"quantidade\":\"nQuestoes\"},inplace=True)\n",
        "nQuestoes=nQuestoes.reset_index()\n",
        "nQuestoes=nQuestoes[[\"idAluno\",\"idLista\",\"questao\",\"nQuestoes\"]]\n",
        "nQuestoes.head()"
      ],
      "execution_count": 0,
      "outputs": []
    }
  ]
}