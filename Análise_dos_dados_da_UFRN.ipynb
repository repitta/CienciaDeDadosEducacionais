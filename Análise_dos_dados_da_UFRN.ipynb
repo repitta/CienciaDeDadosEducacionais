{
  "nbformat": 4,
  "nbformat_minor": 0,
  "metadata": {
    "colab": {
      "name": "Análise dos dados da UFRN.ipynb",
      "version": "0.3.2",
      "provenance": [],
      "include_colab_link": true
    },
    "kernelspec": {
      "name": "python3",
      "display_name": "Python 3"
    }
  },
  "cells": [
    {
      "cell_type": "markdown",
      "metadata": {
        "id": "view-in-github",
        "colab_type": "text"
      },
      "source": [
        "<a href=\"https://colab.research.google.com/github/repitta/CienciaDeDadosEducacionais/blob/master/An%C3%A1lise_dos_dados_da_UFRN.ipynb\" target=\"_parent\"><img src=\"https://colab.research.google.com/assets/colab-badge.svg\" alt=\"Open In Colab\"/></a>"
      ]
    },
    {
      "cell_type": "code",
      "metadata": {
        "id": "fk7U05-uf72Q",
        "colab_type": "code",
        "colab": {}
      },
      "source": [
        "# These are the library we are going to use\n",
        "import pandas as pd\n",
        "import matplotlib.pyplot as plt\n",
        "import seaborn as sns\n",
        "import numpy as np"
      ],
      "execution_count": 0,
      "outputs": []
    },
    {
      "cell_type": "code",
      "metadata": {
        "id": "FkAvW9zOgFJI",
        "colab_type": "code",
        "colab": {}
      },
      "source": [
        "# Notas\n",
        "# Reading the data directly from the Git\n",
        "notas_url = [\"https://github.com/repitta/CienciaDeDadosEducacionais/raw/master/dadosUFRN/notas_discentes_2017.1.csv\",\n",
        "            \"https://github.com/repitta/CienciaDeDadosEducacionais/raw/master/dadosUFRN/notas_discentes_2017.2.csv\",\n",
        "            \"https://github.com/repitta/CienciaDeDadosEducacionais/raw/master/dadosUFRN/notas_discentes_2018.1.csv\",\n",
        "            \"https://github.com/repitta/CienciaDeDadosEducacionais/raw/master/dadosUFRN/notas_discentes_2018.2.csv\"]"
      ],
      "execution_count": 0,
      "outputs": []
    },
    {
      "cell_type": "code",
      "metadata": {
        "id": "cMHVqrmxlsyy",
        "colab_type": "code",
        "colab": {}
      },
      "source": [
        "# Notas since 2017.1 until 2018.2\n",
        "notas2017_1 = pd.read_csv(notas_url[0], sep=';', encoding = \"ISO-8859-1\" )\n",
        "notas2017_2 = pd.read_csv(notas_url[1], sep=';', encoding = \"ISO-8859-1\" )\n",
        "notas2018_1 = pd.read_csv(notas_url[2], sep=';', encoding = \"ISO-8859-1\" )\n",
        "notas2018_2 = pd.read_csv(notas_url[3], sep=';', encoding = \"ISO-8859-1\" )"
      ],
      "execution_count": 0,
      "outputs": []
    },
    {
      "cell_type": "code",
      "metadata": {
        "id": "V6cen5FlmkGb",
        "colab_type": "code",
        "colab": {}
      },
      "source": [
        "# Setting priginal data into one vector due to easier manipulation\n",
        "classes =[notas2017_1, notas2017_2,notas2018_1, notas2018_2]"
      ],
      "execution_count": 0,
      "outputs": []
    },
    {
      "cell_type": "code",
      "metadata": {
        "id": "sB41byiHBJ6Y",
        "colab_type": "code",
        "colab": {
          "base_uri": "https://localhost:8080/",
          "height": 255
        },
        "outputId": "631caa39-a82a-41a4-f526-29ec6db8fb0b"
      },
      "source": [
        "notas2017_1.info()"
      ],
      "execution_count": 24,
      "outputs": [
        {
          "output_type": "stream",
          "text": [
            "<class 'pandas.core.frame.DataFrame'>\n",
            "RangeIndex: 23159 entries, 0 to 23158\n",
            "Data columns (total 9 columns):\n",
            "periodo      23159 non-null int64\n",
            "codigo       23159 non-null object\n",
            "nome         23159 non-null object\n",
            "turma        23159 non-null object\n",
            "siape        23159 non-null object\n",
            "horario      23159 non-null object\n",
            "matricula    23159 non-null int64\n",
            "nota         23159 non-null object\n",
            "situacao     23159 non-null object\n",
            "dtypes: int64(2), object(7)\n",
            "memory usage: 1.6+ MB\n"
          ],
          "name": "stdout"
        }
      ]
    },
    {
      "cell_type": "code",
      "metadata": {
        "id": "ALeEjijwCRSL",
        "colab_type": "code",
        "colab": {
          "base_uri": "https://localhost:8080/",
          "height": 68
        },
        "outputId": "08839fa8-b463-4bcb-c4ca-6b90cee6dd16"
      },
      "source": [
        "notas2017_1.loc[notas2017_1[\"nome\"] == \"LÓGICA DE PROGRAMAÇÃO\",\"situacao\"].unique()"
      ],
      "execution_count": 17,
      "outputs": [
        {
          "output_type": "execute_result",
          "data": {
            "text/plain": [
              "array(['APROVADO POR NOTA', 'APROVADO', 'CANCELADO', 'REPROVADO',\n",
              "       'INDEFERIDO', 'DESISTENCIA', 'REPROVADO POR MÉDIA E POR FALTAS',\n",
              "       'EXCLUIDA', 'TRANCADO', 'REPROVADO POR NOTA'], dtype=object)"
            ]
          },
          "metadata": {
            "tags": []
          },
          "execution_count": 17
        }
      ]
    },
    {
      "cell_type": "code",
      "metadata": {
        "id": "73536hJCC3XU",
        "colab_type": "code",
        "colab": {
          "base_uri": "https://localhost:8080/",
          "height": 68
        },
        "outputId": "41a1c415-1fe7-4d12-a84f-3e8f9668f9f2"
      },
      "source": [
        "notas2017_2.loc[notas2017_2[\"nome\"] == \"LÓGICA DE PROGRAMAÇÃO\",\"situacao\"].unique()"
      ],
      "execution_count": 18,
      "outputs": [
        {
          "output_type": "execute_result",
          "data": {
            "text/plain": [
              "array(['REPROVADO', 'INDEFERIDO', 'APROVADO POR NOTA', 'CANCELADO',\n",
              "       'APROVADO', 'REPROVADO POR MÉDIA E POR FALTAS', 'DESISTENCIA',\n",
              "       'REPROVADO POR NOTA', 'EXCLUIDA', 'TRANCADO'], dtype=object)"
            ]
          },
          "metadata": {
            "tags": []
          },
          "execution_count": 18
        }
      ]
    },
    {
      "cell_type": "code",
      "metadata": {
        "id": "8gcw1LVIC7du",
        "colab_type": "code",
        "colab": {
          "base_uri": "https://localhost:8080/",
          "height": 85
        },
        "outputId": "4a7c06d6-bfa6-434b-f900-c880a94d4984"
      },
      "source": [
        "notas2018_1.loc[notas2018_1[\"nome\"] == \"LÓGICA DE PROGRAMAÇÃO\",\"situacao\"].unique()"
      ],
      "execution_count": 19,
      "outputs": [
        {
          "output_type": "execute_result",
          "data": {
            "text/plain": [
              "array(['DESISTENCIA', 'INDEFERIDO', 'REPROVADO', 'APROVADO',\n",
              "       'APROVADO POR NOTA', 'CANCELADO',\n",
              "       'REPROVADO POR MÉDIA E POR FALTAS', 'REPROVADO POR NOTA',\n",
              "       'TRANCADO', 'EXCLUIDA'], dtype=object)"
            ]
          },
          "metadata": {
            "tags": []
          },
          "execution_count": 19
        }
      ]
    },
    {
      "cell_type": "code",
      "metadata": {
        "id": "maabcSbCC-7J",
        "colab_type": "code",
        "colab": {
          "base_uri": "https://localhost:8080/",
          "height": 68
        },
        "outputId": "833f2d1f-3831-4d23-fdca-b5eb47a7b845"
      },
      "source": [
        "notas2018_2.loc[notas2018_2[\"nome\"] == \"LÓGICA DE PROGRAMAÇÃO\",\"situacao\"].unique()"
      ],
      "execution_count": 20,
      "outputs": [
        {
          "output_type": "execute_result",
          "data": {
            "text/plain": [
              "array(['DESISTENCIA', 'CANCELADO', 'APROVADO', 'APROVADO POR NOTA',\n",
              "       'INDEFERIDO', 'REPROVADO', 'REPROVADO POR NOTA', 'TRANCADO',\n",
              "       'EXCLUIDA', 'REPROVADO POR MÉDIA E POR FALTAS'], dtype=object)"
            ]
          },
          "metadata": {
            "tags": []
          },
          "execution_count": 20
        }
      ]
    },
    {
      "cell_type": "code",
      "metadata": {
        "id": "haEZ1RyAm-Wx",
        "colab_type": "code",
        "colab": {}
      },
      "source": [
        "for i in range(4):\n",
        "  # Changing some columns types in this step\n",
        "  classes[i].periodo   = classes[i].periodo.astype(int)\n",
        "  classes[i].codigo    = classes[i].codigo.astype(str)\n",
        "  classes[i].nome      = classes[i].nome.astype(str)\n",
        "  classes[i].turma     = classes[i].turma.astype(str)\n",
        "  classes[i].siape     = classes[i].siape.astype(str)\n",
        "  classes[i].horario   = classes[i].horario.astype(str)\n",
        "  classes[i].matricula = classes[i].matricula.astype(int)\n",
        " #classes[i].nota      = classes[i].nota.astype(float) #Não pode converter pq os alunos indeferidos no campo nota tem o simbolo -\n",
        "  classes[i].situacao  = classes[i].situacao.astype(str)\n",
        "\n",
        "  # Filtro para os dados apenas da disciplina de Lop que o código é ECT2203 e que a turma não foi excluida\n",
        "  classes[i] = classes[i][classes[i]['codigo']==\"ECT2203\"]\n",
        "  classes[i] = classes[i][classes[i]['situacao'] !='EXCLUIDA']"
      ],
      "execution_count": 0,
      "outputs": []
    },
    {
      "cell_type": "code",
      "metadata": {
        "id": "wB7E8ix4oZIW",
        "colab_type": "code",
        "colab": {}
      },
      "source": [
        "# Adding year in each dataframe \n",
        "year = 2017 # The year we decide to start our study\n",
        "for i in range(4):\n",
        "  classes[i]['year'] = year\n",
        "  if i%2!=0:\n",
        "    year += 1\n",
        "  \n",
        "# Renaming the column for better manipulation\n",
        "  classes[i].rename(columns={'nome': 'disciplina'}, inplace=True)"
      ],
      "execution_count": 0,
      "outputs": []
    },
    {
      "cell_type": "code",
      "metadata": {
        "id": "cgbbqWNqplXL",
        "colab_type": "code",
        "colab": {}
      },
      "source": [
        "# Concatenating all classes since 2017.1 until 2018.2\n",
        "merge_classes = classes[0]\n",
        "for i in range(1,4):\n",
        "  merge_classes = pd.concat([merge_classes, classes[i]])"
      ],
      "execution_count": 0,
      "outputs": []
    },
    {
      "cell_type": "code",
      "metadata": {
        "id": "7Dng2oU0HBc3",
        "colab_type": "code",
        "colab": {
          "base_uri": "https://localhost:8080/",
          "height": 204
        },
        "outputId": "ecdeb892-c301-4cef-90e3-3b9062e82101"
      },
      "source": [
        "merge_classes.head()"
      ],
      "execution_count": 35,
      "outputs": [
        {
          "output_type": "execute_result",
          "data": {
            "text/html": [
              "<div>\n",
              "<style scoped>\n",
              "    .dataframe tbody tr th:only-of-type {\n",
              "        vertical-align: middle;\n",
              "    }\n",
              "\n",
              "    .dataframe tbody tr th {\n",
              "        vertical-align: top;\n",
              "    }\n",
              "\n",
              "    .dataframe thead th {\n",
              "        text-align: right;\n",
              "    }\n",
              "</style>\n",
              "<table border=\"1\" class=\"dataframe\">\n",
              "  <thead>\n",
              "    <tr style=\"text-align: right;\">\n",
              "      <th></th>\n",
              "      <th>periodo</th>\n",
              "      <th>codigo</th>\n",
              "      <th>disciplina</th>\n",
              "      <th>turma</th>\n",
              "      <th>siape</th>\n",
              "      <th>horario</th>\n",
              "      <th>matricula</th>\n",
              "      <th>nota</th>\n",
              "      <th>situacao</th>\n",
              "      <th>year</th>\n",
              "    </tr>\n",
              "  </thead>\n",
              "  <tbody>\n",
              "    <tr>\n",
              "      <th>420</th>\n",
              "      <td>1</td>\n",
              "      <td>ECT2203</td>\n",
              "      <td>LÓGICA DE PROGRAMAÇÃO</td>\n",
              "      <td>11D</td>\n",
              "      <td>1763991-5</td>\n",
              "      <td>5M34  35T34 (13/02/2017 - 27/06/2017)</td>\n",
              "      <td>2014085193</td>\n",
              "      <td>5.10</td>\n",
              "      <td>APROVADO POR NOTA</td>\n",
              "      <td>2017</td>\n",
              "    </tr>\n",
              "    <tr>\n",
              "      <th>481</th>\n",
              "      <td>1</td>\n",
              "      <td>ECT2203</td>\n",
              "      <td>LÓGICA DE PROGRAMAÇÃO</td>\n",
              "      <td>09A</td>\n",
              "      <td>1943220-0</td>\n",
              "      <td>5M56  35T12 (13/02/2017 - 27/06/2017)</td>\n",
              "      <td>20160106820</td>\n",
              "      <td>7.40</td>\n",
              "      <td>APROVADO</td>\n",
              "      <td>2017</td>\n",
              "    </tr>\n",
              "    <tr>\n",
              "      <th>524</th>\n",
              "      <td>1</td>\n",
              "      <td>ECT2203</td>\n",
              "      <td>LÓGICA DE PROGRAMAÇÃO</td>\n",
              "      <td>09C</td>\n",
              "      <td>2459504-9,1943220-0</td>\n",
              "      <td>4M56  35T12 (13/02/2017 - 27/06/2017)</td>\n",
              "      <td>2016013157</td>\n",
              "      <td>6.70</td>\n",
              "      <td>APROVADO POR NOTA</td>\n",
              "      <td>2017</td>\n",
              "    </tr>\n",
              "    <tr>\n",
              "      <th>588</th>\n",
              "      <td>1</td>\n",
              "      <td>ECT2203</td>\n",
              "      <td>LÓGICA DE PROGRAMAÇÃO</td>\n",
              "      <td>05C</td>\n",
              "      <td>2312423-9</td>\n",
              "      <td>6T56  35N12 (13/02/2017 - 27/06/2017)</td>\n",
              "      <td>2016016257</td>\n",
              "      <td>-</td>\n",
              "      <td>CANCELADO</td>\n",
              "      <td>2017</td>\n",
              "    </tr>\n",
              "    <tr>\n",
              "      <th>596</th>\n",
              "      <td>1</td>\n",
              "      <td>ECT2203</td>\n",
              "      <td>LÓGICA DE PROGRAMAÇÃO</td>\n",
              "      <td>11A</td>\n",
              "      <td>1763991-5,2459504-9</td>\n",
              "      <td>4M34  35T34 (13/02/2017 - 27/06/2017)</td>\n",
              "      <td>20150126631</td>\n",
              "      <td>1.00</td>\n",
              "      <td>REPROVADO</td>\n",
              "      <td>2017</td>\n",
              "    </tr>\n",
              "  </tbody>\n",
              "</table>\n",
              "</div>"
            ],
            "text/plain": [
              "     periodo   codigo             disciplina  ...  nota           situacao  year\n",
              "420        1  ECT2203  LÓGICA DE PROGRAMAÇÃO  ...  5.10  APROVADO POR NOTA  2017\n",
              "481        1  ECT2203  LÓGICA DE PROGRAMAÇÃO  ...  7.40           APROVADO  2017\n",
              "524        1  ECT2203  LÓGICA DE PROGRAMAÇÃO  ...  6.70  APROVADO POR NOTA  2017\n",
              "588        1  ECT2203  LÓGICA DE PROGRAMAÇÃO  ...     -          CANCELADO  2017\n",
              "596        1  ECT2203  LÓGICA DE PROGRAMAÇÃO  ...  1.00          REPROVADO  2017\n",
              "\n",
              "[5 rows x 10 columns]"
            ]
          },
          "metadata": {
            "tags": []
          },
          "execution_count": 35
        }
      ]
    }
  ]
}