{
  "nbformat": 4,
  "nbformat_minor": 0,
  "metadata": {
    "colab": {
      "name": "Montando a tabela com os arquivos do sigaa.ipynb",
      "provenance": [],
      "collapsed_sections": [],
      "include_colab_link": true
    },
    "kernelspec": {
      "name": "python3",
      "display_name": "Python 3"
    }
  },
  "cells": [
    {
      "cell_type": "markdown",
      "metadata": {
        "id": "view-in-github",
        "colab_type": "text"
      },
      "source": [
        "<a href=\"https://colab.research.google.com/github/repitta/CienciaDeDadosEducacionais/blob/master/Montando_a_tabela_com_os_arquivos_do_sigaa.ipynb\" target=\"_parent\"><img src=\"https://colab.research.google.com/assets/colab-badge.svg\" alt=\"Open In Colab\"/></a>"
      ]
    },
    {
      "cell_type": "markdown",
      "metadata": {
        "id": "0WR_Nm3Y_AL1",
        "colab_type": "text"
      },
      "source": [
        "Arquivos vindos do sigaa da ufrn para transformar em um arquivo csv com os seguintes dados : matricula, situação,ano e turma"
      ]
    },
    {
      "cell_type": "markdown",
      "metadata": {
        "id": "JPFTddWpDMFW",
        "colab_type": "text"
      },
      "source": [
        "# Pré-processamento"
      ]
    },
    {
      "cell_type": "markdown",
      "metadata": {
        "id": "rx9Nf_vG7ZFu",
        "colab_type": "text"
      },
      "source": [
        "Importando bibliotecas"
      ]
    },
    {
      "cell_type": "code",
      "metadata": {
        "id": "fk7U05-uf72Q",
        "colab_type": "code",
        "colab": {}
      },
      "source": [
        "import pandas as pd\n",
        "import numpy as np"
      ],
      "execution_count": 0,
      "outputs": []
    },
    {
      "cell_type": "markdown",
      "metadata": {
        "id": "akV3jkQN7e0J",
        "colab_type": "text"
      },
      "source": [
        "Lendo as url's das notas"
      ]
    },
    {
      "cell_type": "code",
      "metadata": {
        "id": "FkAvW9zOgFJI",
        "colab_type": "code",
        "colab": {}
      },
      "source": [
        "notas_url = [\"https://raw.githubusercontent.com/repitta/CienciaDeDadosEducacionais/master/dadosUFRN/notas_discentes_2017.1.csv\",\n",
        "             \"https://raw.githubusercontent.com/repitta/CienciaDeDadosEducacionais/master/dadosUFRN/notas_discentes_2017.2.csv\",\n",
        "             \"https://raw.githubusercontent.com/repitta/CienciaDeDadosEducacionais/master/dadosUFRN/notas_discentes_2018.1.csv\",\n",
        "             \"https://raw.githubusercontent.com/repitta/CienciaDeDadosEducacionais/master/dadosUFRN/notas_discentes_2018.2.csv\",\n",
        "             \"https://raw.githubusercontent.com/repitta/CienciaDeDadosEducacionais/master/dadosUFRN/notas_discentes_2019.1.csv\",\n",
        "             \"https://raw.githubusercontent.com/repitta/CienciaDeDadosEducacionais/master/dadosUFRN/notas_discentes_2019.2.csv\"\n",
        "            ]"
      ],
      "execution_count": 0,
      "outputs": []
    },
    {
      "cell_type": "markdown",
      "metadata": {
        "id": "sHOn-kE57l7c",
        "colab_type": "text"
      },
      "source": [
        "Lendo como CSV"
      ]
    },
    {
      "cell_type": "code",
      "metadata": {
        "id": "cMHVqrmxlsyy",
        "colab_type": "code",
        "colab": {}
      },
      "source": [
        "notas2017_1 = pd.read_csv(notas_url[0], sep=';', encoding = \"ISO-8859-1\" )\n",
        "notas2017_2 = pd.read_csv(notas_url[1], sep=';', encoding = \"ISO-8859-1\" )\n",
        "notas2018_1 = pd.read_csv(notas_url[2], sep=';', encoding = \"ISO-8859-1\" )\n",
        "notas2018_2 = pd.read_csv(notas_url[3], sep=';', encoding = \"ISO-8859-1\" )\n",
        "notas2019_1 = pd.read_csv(notas_url[4], sep=',', encoding = \"ISO-8859-1\" )\n",
        "notas2019_2 = pd.read_csv(notas_url[5], sep=',', encoding = \"ISO-8859-1\" )"
      ],
      "execution_count": 0,
      "outputs": []
    },
    {
      "cell_type": "code",
      "metadata": {
        "id": "SsPzYrQW2hXy",
        "colab_type": "code",
        "outputId": "054f2788-9793-4c70-d083-392152c5fdef",
        "colab": {
          "base_uri": "https://localhost:8080/",
          "height": 260
        }
      },
      "source": [
        "notas2017_1.info()"
      ],
      "execution_count": 4,
      "outputs": [
        {
          "output_type": "stream",
          "text": [
            "<class 'pandas.core.frame.DataFrame'>\n",
            "RangeIndex: 23159 entries, 0 to 23158\n",
            "Data columns (total 9 columns):\n",
            "periodo      23159 non-null int64\n",
            "codigo       23159 non-null object\n",
            "nome         23159 non-null object\n",
            "turma        23159 non-null object\n",
            "siape        23159 non-null object\n",
            "horario      23159 non-null object\n",
            "matricula    23159 non-null int64\n",
            "nota         23159 non-null object\n",
            "situacao     23159 non-null object\n",
            "dtypes: int64(2), object(7)\n",
            "memory usage: 1.6+ MB\n"
          ],
          "name": "stdout"
        }
      ]
    },
    {
      "cell_type": "code",
      "metadata": {
        "id": "1eJhWhZ56Fdb",
        "colab_type": "code",
        "outputId": "057005ca-0cbf-468b-9878-32ad2bde01c4",
        "colab": {
          "base_uri": "https://localhost:8080/",
          "height": 104
        }
      },
      "source": [
        "notas2017_1[\"situacao\"].unique()"
      ],
      "execution_count": 5,
      "outputs": [
        {
          "output_type": "execute_result",
          "data": {
            "text/plain": [
              "array(['EXCLUIDA', 'DESISTENCIA', 'CANCELADO', 'APROVADO', 'REPROVADO',\n",
              "       'APROVADO POR NOTA', 'TRANCADO',\n",
              "       'REPROVADO POR MÉDIA E POR FALTAS', 'INDEFERIDO',\n",
              "       'REPROVADO POR NOTA', 'REPROVADO POR FALTAS',\n",
              "       'REPROVADO POR NOTA E FALTA', 'EM ESPERA'], dtype=object)"
            ]
          },
          "metadata": {
            "tags": []
          },
          "execution_count": 5
        }
      ]
    },
    {
      "cell_type": "markdown",
      "metadata": {
        "id": "Kd-L2Uga8_4G",
        "colab_type": "text"
      },
      "source": [
        "Função para converter para string"
      ]
    },
    {
      "cell_type": "code",
      "metadata": {
        "id": "Kzt_95jc0d2A",
        "colab_type": "code",
        "colab": {}
      },
      "source": [
        "def converteParaString(table):\n",
        "  table[\"codigo\"]     = table[\"codigo\"].astype(str)\n",
        "  table[\"disciplina\"] = table[\"disciplina\"].astype(str)\n",
        "  table[\"turma\"]      = table[\"turma\"].astype(str)\n",
        "  table[\"horario\"]    = table[\"horario\"].astype(str)\n",
        "  table[\"matricula\"]  = table[\"matricula\"].astype(str)\n",
        "  table[\"situacao\"]   = table[\"situacao\"].astype(str)\n",
        "  return table"
      ],
      "execution_count": 0,
      "outputs": []
    },
    {
      "cell_type": "code",
      "metadata": {
        "id": "FF1Tk5xPBcCi",
        "colab_type": "code",
        "colab": {}
      },
      "source": [
        "def fazerReplace(table):\n",
        "  table.loc[table[\"situacao\"].str.contains(\"REPROVADO\"),\"situacao\"] = \"REPROVADO\"\n",
        "  table.loc[table[\"situacao\"].str.contains(\"APROVADO\"),\"situacao\"] = \"APROVADO\"\n",
        "  return table"
      ],
      "execution_count": 0,
      "outputs": []
    },
    {
      "cell_type": "markdown",
      "metadata": {
        "id": "aWoRez4VePUA",
        "colab_type": "text"
      },
      "source": [
        "Função filtro para pegar apenas as situações onde o aluno conseguiu se matricular na disciplina"
      ]
    },
    {
      "cell_type": "code",
      "metadata": {
        "id": "jljZPRBfU45X",
        "colab_type": "code",
        "colab": {}
      },
      "source": [
        "def filtroSituacoesValidas(table):\n",
        "  table = table.loc[ (table[\"situacao\"].str.contains(\"APROVADO\")) |\n",
        "                     (table[\"situacao\"].str.contains(\"REPROVADO\")) \n",
        "                   ] \n",
        "  #tem disciplina que só contam para a horas complementares .. não tem nota\n",
        "  table = table.loc[ ~(table[\"nota\"].str.contains(\"-\")) ]\n",
        "  table[\"nota\"]   = table[\"nota\"].astype(float)\n",
        "  \n",
        "  return table"
      ],
      "execution_count": 0,
      "outputs": []
    },
    {
      "cell_type": "markdown",
      "metadata": {
        "id": "ykzfkdBb8Eh2",
        "colab_type": "text"
      },
      "source": [
        "Função para adicionar os anos a cada semestre"
      ]
    },
    {
      "cell_type": "code",
      "metadata": {
        "id": "pj_5sD_Q17ms",
        "colab_type": "code",
        "colab": {}
      },
      "source": [
        "def concatenaAno(table,i,ano):\n",
        "  if i%2==0:\n",
        "    ano += 1\n",
        "  table = fazerReplace(table)  \n",
        "  table[\"ano\"] = str(ano)+\".\"+str(table[\"periodo\"].iloc[0])\n",
        "  table.rename(columns={\"nome\":\"disciplina\"},inplace=True)\n",
        "  table.drop(columns=[\"periodo\",\"siape\"], inplace=True)\n",
        "  table = filtroSituacoesValidas(table)\n",
        "  table = converteParaString(table)\n",
        "  i+=1\n",
        "  return (table,i,ano)"
      ],
      "execution_count": 0,
      "outputs": []
    },
    {
      "cell_type": "markdown",
      "metadata": {
        "id": "ohSi-gHOMTUz",
        "colab_type": "text"
      },
      "source": [
        "Chamada da função de inserir o ano + período, nela também é chamada a de filtro de situação e a de conversão para string"
      ]
    },
    {
      "cell_type": "code",
      "metadata": {
        "id": "Qpkoncd7P3OZ",
        "colab_type": "code",
        "colab": {}
      },
      "source": [
        "ano = 2016\n",
        "i = 2\n",
        "(notas2017_1,i,ano) = concatenaAno(notas2017_1,i,ano)\n",
        "(notas2017_2,i,ano) = concatenaAno(notas2017_2,i,ano)\n",
        "(notas2018_1,i,ano) = concatenaAno(notas2018_1,i,ano)\n",
        "(notas2018_2,i,ano) = concatenaAno(notas2018_2,i,ano)\n",
        "(notas2019_1,i,ano) = concatenaAno(notas2019_1,i,ano)\n",
        "(notas2019_2,i,ano) = concatenaAno(notas2019_2,i,ano)"
      ],
      "execution_count": 0,
      "outputs": []
    },
    {
      "cell_type": "code",
      "metadata": {
        "id": "uujdJpUERNIq",
        "colab_type": "code",
        "outputId": "963a3ed9-10d9-4278-8f9e-7ce664298112",
        "colab": {
          "base_uri": "https://localhost:8080/",
          "height": 289
        }
      },
      "source": [
        "notas2017_1.head()"
      ],
      "execution_count": 11,
      "outputs": [
        {
          "output_type": "execute_result",
          "data": {
            "text/html": [
              "<div>\n",
              "<style scoped>\n",
              "    .dataframe tbody tr th:only-of-type {\n",
              "        vertical-align: middle;\n",
              "    }\n",
              "\n",
              "    .dataframe tbody tr th {\n",
              "        vertical-align: top;\n",
              "    }\n",
              "\n",
              "    .dataframe thead th {\n",
              "        text-align: right;\n",
              "    }\n",
              "</style>\n",
              "<table border=\"1\" class=\"dataframe\">\n",
              "  <thead>\n",
              "    <tr style=\"text-align: right;\">\n",
              "      <th></th>\n",
              "      <th>codigo</th>\n",
              "      <th>disciplina</th>\n",
              "      <th>turma</th>\n",
              "      <th>horario</th>\n",
              "      <th>matricula</th>\n",
              "      <th>nota</th>\n",
              "      <th>situacao</th>\n",
              "      <th>ano</th>\n",
              "    </tr>\n",
              "  </thead>\n",
              "  <tbody>\n",
              "    <tr>\n",
              "      <th>41</th>\n",
              "      <td>ECT2106</td>\n",
              "      <td>CIÊNCIA, TECNOLOGIA E SOCIEDADE</td>\n",
              "      <td>1</td>\n",
              "      <td>4M34 (13/02/2017 - 01/07/2017)</td>\n",
              "      <td>20170000904</td>\n",
              "      <td>7.0</td>\n",
              "      <td>APROVADO</td>\n",
              "      <td>2017.1</td>\n",
              "    </tr>\n",
              "    <tr>\n",
              "      <th>57</th>\n",
              "      <td>ECT2104</td>\n",
              "      <td>QUÍMICA GERAL</td>\n",
              "      <td>02A</td>\n",
              "      <td>2M1256 5M56 (13/02/2017 - 01/07/2017)</td>\n",
              "      <td>20170001198</td>\n",
              "      <td>2.2</td>\n",
              "      <td>REPROVADO</td>\n",
              "      <td>2017.1</td>\n",
              "    </tr>\n",
              "    <tr>\n",
              "      <th>66</th>\n",
              "      <td>ECT2101</td>\n",
              "      <td>PRÉ-CÁLCULO</td>\n",
              "      <td>1</td>\n",
              "      <td>2356M34 (13/02/2017 - 24/04/2017)</td>\n",
              "      <td>20170001456</td>\n",
              "      <td>2.4</td>\n",
              "      <td>REPROVADO</td>\n",
              "      <td>2017.1</td>\n",
              "    </tr>\n",
              "    <tr>\n",
              "      <th>69</th>\n",
              "      <td>ECT2104</td>\n",
              "      <td>QUÍMICA GERAL</td>\n",
              "      <td>02A</td>\n",
              "      <td>2M1256 5M56 (13/02/2017 - 01/07/2017)</td>\n",
              "      <td>20170001456</td>\n",
              "      <td>5.1</td>\n",
              "      <td>APROVADO</td>\n",
              "      <td>2017.1</td>\n",
              "    </tr>\n",
              "    <tr>\n",
              "      <th>71</th>\n",
              "      <td>ECT2106</td>\n",
              "      <td>CIÊNCIA, TECNOLOGIA E SOCIEDADE</td>\n",
              "      <td>1</td>\n",
              "      <td>4M34 (13/02/2017 - 01/07/2017)</td>\n",
              "      <td>20170001456</td>\n",
              "      <td>6.7</td>\n",
              "      <td>APROVADO</td>\n",
              "      <td>2017.1</td>\n",
              "    </tr>\n",
              "  </tbody>\n",
              "</table>\n",
              "</div>"
            ],
            "text/plain": [
              "     codigo                       disciplina turma  ... nota   situacao     ano\n",
              "41  ECT2106  CIÊNCIA, TECNOLOGIA E SOCIEDADE     1  ...  7.0   APROVADO  2017.1\n",
              "57  ECT2104                    QUÍMICA GERAL   02A  ...  2.2  REPROVADO  2017.1\n",
              "66  ECT2101                      PRÉ-CÁLCULO     1  ...  2.4  REPROVADO  2017.1\n",
              "69  ECT2104                    QUÍMICA GERAL   02A  ...  5.1   APROVADO  2017.1\n",
              "71  ECT2106  CIÊNCIA, TECNOLOGIA E SOCIEDADE     1  ...  6.7   APROVADO  2017.1\n",
              "\n",
              "[5 rows x 8 columns]"
            ]
          },
          "metadata": {
            "tags": []
          },
          "execution_count": 11
        }
      ]
    },
    {
      "cell_type": "code",
      "metadata": {
        "id": "QCQD_4rgAjJw",
        "colab_type": "code",
        "outputId": "892582b4-8b58-4454-8297-201f4c9cef5f",
        "colab": {
          "base_uri": "https://localhost:8080/",
          "height": 35
        }
      },
      "source": [
        "notas2017_1[\"situacao\"].unique()"
      ],
      "execution_count": 12,
      "outputs": [
        {
          "output_type": "execute_result",
          "data": {
            "text/plain": [
              "array(['APROVADO', 'REPROVADO'], dtype=object)"
            ]
          },
          "metadata": {
            "tags": []
          },
          "execution_count": 12
        }
      ]
    },
    {
      "cell_type": "markdown",
      "metadata": {
        "id": "WIzyiplZOsVu",
        "colab_type": "text"
      },
      "source": [
        "# Projeto análise de solicitação de matricula"
      ]
    },
    {
      "cell_type": "markdown",
      "metadata": {
        "id": "ZyPzWHTDOxwH",
        "colab_type": "text"
      },
      "source": [
        "Media de todas as disciplinas\n",
        "\n",
        "Maior nota\n",
        "\n",
        "Menor nota\n",
        "\n",
        "Quantidade de disciplinas\n",
        "\n",
        "Carga horaria total\n",
        "\n",
        "Quantidade de aprovação e reprovação"
      ]
    },
    {
      "cell_type": "code",
      "metadata": {
        "id": "s7-cQ0y6OxBa",
        "colab_type": "code",
        "colab": {}
      },
      "source": [
        "notas2017_1.sort_values(by=\"matricula\",inplace=True)"
      ],
      "execution_count": 0,
      "outputs": []
    },
    {
      "cell_type": "code",
      "metadata": {
        "id": "gl66dzJnPIZf",
        "colab_type": "code",
        "outputId": "836bdf8c-0ad2-439e-e18c-6d8c9271a073",
        "colab": {
          "base_uri": "https://localhost:8080/",
          "height": 271
        }
      },
      "source": [
        "notas2017_1.head()"
      ],
      "execution_count": 17,
      "outputs": [
        {
          "output_type": "execute_result",
          "data": {
            "text/html": [
              "<div>\n",
              "<style scoped>\n",
              "    .dataframe tbody tr th:only-of-type {\n",
              "        vertical-align: middle;\n",
              "    }\n",
              "\n",
              "    .dataframe tbody tr th {\n",
              "        vertical-align: top;\n",
              "    }\n",
              "\n",
              "    .dataframe thead th {\n",
              "        text-align: right;\n",
              "    }\n",
              "</style>\n",
              "<table border=\"1\" class=\"dataframe\">\n",
              "  <thead>\n",
              "    <tr style=\"text-align: right;\">\n",
              "      <th></th>\n",
              "      <th>codigo</th>\n",
              "      <th>disciplina</th>\n",
              "      <th>turma</th>\n",
              "      <th>horario</th>\n",
              "      <th>matricula</th>\n",
              "      <th>nota</th>\n",
              "      <th>situacao</th>\n",
              "      <th>ano</th>\n",
              "    </tr>\n",
              "  </thead>\n",
              "  <tbody>\n",
              "    <tr>\n",
              "      <th>13329</th>\n",
              "      <td>ECT2502</td>\n",
              "      <td>DIMENSÕES FILOSÓFICAS DA TECNOLOGIA MODERNA</td>\n",
              "      <td>1</td>\n",
              "      <td>2M3456 (13/02/2017 - 01/07/2017)</td>\n",
              "      <td>2009028457</td>\n",
              "      <td>6.8</td>\n",
              "      <td>APROVADO</td>\n",
              "      <td>2017.1</td>\n",
              "    </tr>\n",
              "    <tr>\n",
              "      <th>4810</th>\n",
              "      <td>ECT2303</td>\n",
              "      <td>LINGUAGEM DE PROGRAMAÇÃO</td>\n",
              "      <td>03C</td>\n",
              "      <td>35M34  5T12 (13/02/2017 - 01/07/2017)</td>\n",
              "      <td>2009028457</td>\n",
              "      <td>0.1</td>\n",
              "      <td>REPROVADO</td>\n",
              "      <td>2017.1</td>\n",
              "    </tr>\n",
              "    <tr>\n",
              "      <th>19889</th>\n",
              "      <td>ECT2206</td>\n",
              "      <td>GESTÃO E ECONOMIA DA CIÊNCIA, TECNOLOGIA E INO...</td>\n",
              "      <td>6</td>\n",
              "      <td>24T34 (13/02/2017 - 01/07/2017)</td>\n",
              "      <td>2009028457</td>\n",
              "      <td>5.3</td>\n",
              "      <td>APROVADO</td>\n",
              "      <td>2017.1</td>\n",
              "    </tr>\n",
              "    <tr>\n",
              "      <th>11394</th>\n",
              "      <td>ECT2304</td>\n",
              "      <td>INTRODUÇÃO À FÍSICA CLÁSSICA II</td>\n",
              "      <td>4</td>\n",
              "      <td>35N12 (13/02/2017 - 01/07/2017)</td>\n",
              "      <td>2009028457</td>\n",
              "      <td>0.0</td>\n",
              "      <td>REPROVADO</td>\n",
              "      <td>2017.1</td>\n",
              "    </tr>\n",
              "    <tr>\n",
              "      <th>18569</th>\n",
              "      <td>DCO1002</td>\n",
              "      <td>ENGENHARIA DE SOFTWARE</td>\n",
              "      <td>1</td>\n",
              "      <td>46N34</td>\n",
              "      <td>2009030796</td>\n",
              "      <td>5.5</td>\n",
              "      <td>REPROVADO</td>\n",
              "      <td>2017.1</td>\n",
              "    </tr>\n",
              "  </tbody>\n",
              "</table>\n",
              "</div>"
            ],
            "text/plain": [
              "        codigo  ...     ano\n",
              "13329  ECT2502  ...  2017.1\n",
              "4810   ECT2303  ...  2017.1\n",
              "19889  ECT2206  ...  2017.1\n",
              "11394  ECT2304  ...  2017.1\n",
              "18569  DCO1002  ...  2017.1\n",
              "\n",
              "[5 rows x 8 columns]"
            ]
          },
          "metadata": {
            "tags": []
          },
          "execution_count": 17
        }
      ]
    },
    {
      "cell_type": "code",
      "metadata": {
        "id": "OLiMXzpAPdd8",
        "colab_type": "code",
        "colab": {}
      },
      "source": [
        "df = pd.DataFrame()\n",
        "final = pd.DataFrame()\n",
        "\n",
        "df = notas2017_1.groupby(\"matricula\")[\"nota\"].mean()\n",
        "df = df.reset_index()\n",
        "df.rename(columns={\"nota\":\"media\"},inplace=True)\n",
        "final = df\n",
        "\n",
        "df = notas2017_1.groupby(\"matricula\")[\"nota\"].min()\n",
        "df = df.reset_index()\n",
        "df.rename(columns={\"nota\":\"min\"},inplace=True)\n",
        "final = final.merge(df,on=\"matricula\")\n",
        "\n",
        "df = notas2017_1.groupby(\"matricula\")[\"nota\"].max()\n",
        "df = df.reset_index()\n",
        "df.rename(columns={\"nota\":\"max\"},inplace=True)\n",
        "final = final.merge(df,on=\"matricula\")\n",
        "\n",
        "df = notas2017_1.groupby(\"matricula\")[\"codigo\"].count()\n",
        "df = df.reset_index()\n",
        "df.rename(columns={\"codigo\":\"QuantDisciCursadas\"},inplace=True)\n",
        "final = final.merge(df,on=\"matricula\")\n",
        "\n",
        "\n",
        "df = notas2017_1.groupby([\"matricula\",\"situacao\"])[\"codigo\"].count()\n",
        "df = df.reset_index()\n",
        "df.rename(columns={\"codigo\":\"quanSituacao\"},inplace=True)\n",
        "\n",
        "aprovado = df.loc[df[\"situacao\"] == \"APROVADO\",:]\n",
        "aprovado.rename(columns={\"quanSituacao\":\"quantAprovado\"},inplace=True)\n",
        "final = final.merge(aprovado,on=\"matricula\")\n",
        "\n",
        "reprovado = df.loc[df[\"situacao\"] == \"REPROVADO\",:]\n",
        "reprovado.rename(columns={\"quanSituacao\":\"quantReprovado\"},inplace=True)\n",
        "final = final.merge(reprovado,on=\"matricula\")\n",
        "final = final.drop([\"situacao_x\",\"situacao_y\"],axis=1)\n",
        "final"
      ],
      "execution_count": 0,
      "outputs": []
    },
    {
      "cell_type": "markdown",
      "metadata": {
        "id": "KjgNrDW4NrVx",
        "colab_type": "text"
      },
      "source": [
        "# Trecho para pegar as notas do segundo e do primeiro semestre - falta fazer"
      ]
    },
    {
      "cell_type": "markdown",
      "metadata": {
        "id": "MCIaapc0AoeZ",
        "colab_type": "text"
      },
      "source": [
        "Listas com as matérias que eu quero pegar"
      ]
    },
    {
      "cell_type": "code",
      "metadata": {
        "id": "4YK9dZrQsx-8",
        "colab_type": "code",
        "colab": {}
      },
      "source": [
        "semestre1 = [\"ECT2101\",\"ECT2102\",\"ECT2103\",\"ECT2104\",\"ECT2105\",\"ECT2106\"]\n",
        "semestre2 = [\"ECT2201\",\"ECT2202\",\"ECT2203\",\"ECT2204\",\"ECT2205\",\"ECT2206\",\"ECT2207\"]"
      ],
      "execution_count": 0,
      "outputs": []
    },
    {
      "cell_type": "code",
      "metadata": {
        "id": "EEb5c3Fd4jGb",
        "colab_type": "code",
        "colab": {}
      },
      "source": [
        "def selecionaDiscDoPrimeiroSemestreEumaDoSegundo(table,semestre1,semestre2,NotasSemestre1e2):\n",
        "  tabelaConcatenada = pd.DataFrame()\n",
        "  semestre1.append(semestre2[0])\n",
        "  for i in range(len(semestre1)):\n",
        "    tabelaDaVez = table[table[\"codigo\"] == semestre1[i]]\n",
        "    tabelaConcatenada = pd.concat([tabelaConcatenada,tabelaDaVez],ignore_index=True)\n",
        "  semestre1.pop(-1)  \n",
        "  semestre2.pop(0)\n",
        "  return (tabelaConcatenada,semestre1,semestre2)    "
      ],
      "execution_count": 0,
      "outputs": []
    },
    {
      "cell_type": "code",
      "metadata": {
        "id": "Cdw6rbsg-LYs",
        "colab_type": "code",
        "colab": {}
      },
      "source": [
        "NotasSemestre1e2 = pd.DataFrame()\n",
        "(NotasSemestre1e2,semestre1,semestre2) = selecionaDiscDoPrimeiroSemestreEumaDoSegundo(notas2017_1,semestre1,semestre2,NotasSemestre1e2)\n",
        "(NotasSemestre1e2,semestre1,semestre2) = selecionaDiscDoPrimeiroSemestreEumaDoSegundo(notas2017_2,semestre1,semestre2,NotasSemestre1e2)\n",
        "(NotasSemestre1e2,semestre1,semestre2) = selecionaDiscDoPrimeiroSemestreEumaDoSegundo(notas2018_1,semestre1,semestre2,NotasSemestre1e2)\n",
        "(NotasSemestre1e2,semestre1,semestre2) = selecionaDiscDoPrimeiroSemestreEumaDoSegundo(notas2018_2,semestre1,semestre2,NotasSemestre1e2)\n",
        "(NotasSemestre1e2,semestre1,semestre2) = selecionaDiscDoPrimeiroSemestreEumaDoSegundo(notas2019_1,semestre1,semestre2,NotasSemestre1e2)\n",
        "(NotasSemestre1e2,semestre1,semestre2) = selecionaDiscDoPrimeiroSemestreEumaDoSegundo(notas2019_2,semestre1,semestre2,NotasSemestre1e2)"
      ],
      "execution_count": 0,
      "outputs": []
    },
    {
      "cell_type": "code",
      "metadata": {
        "id": "brND_l5iBp0t",
        "colab_type": "code",
        "colab": {}
      },
      "source": [
        "NotasSemestre1e2"
      ],
      "execution_count": 0,
      "outputs": []
    },
    {
      "cell_type": "code",
      "metadata": {
        "id": "BHtV6IqVuv15",
        "colab_type": "code",
        "outputId": "c95376ae-5c25-4176-a3e8-7c095d0b18a8",
        "colab": {
          "base_uri": "https://localhost:8080/",
          "height": 34
        }
      },
      "source": [
        "semestre1.append(semestre2[0])\n",
        "semestre1.pop(-1)\n",
        "semestre1"
      ],
      "execution_count": 0,
      "outputs": [
        {
          "output_type": "execute_result",
          "data": {
            "text/plain": [
              "['ECT2101', 'ECT2102', 'ECT2103', 'ECT2104', 'ECT2105', 'ECT2106']"
            ]
          },
          "metadata": {
            "tags": []
          },
          "execution_count": 46
        }
      ]
    },
    {
      "cell_type": "code",
      "metadata": {
        "id": "fRamWoGhQAoM",
        "colab_type": "code",
        "colab": {}
      },
      "source": [
        "tab = tab[tab[\"nota\"] != '-']"
      ],
      "execution_count": 0,
      "outputs": []
    },
    {
      "cell_type": "code",
      "metadata": {
        "id": "gGDowg3YQ5Vz",
        "colab_type": "code",
        "colab": {}
      },
      "source": [
        "disciplinas = merge_notas2017[\"disciplina\"].unique()"
      ],
      "execution_count": 0,
      "outputs": []
    },
    {
      "cell_type": "code",
      "metadata": {
        "id": "XZlPMXtWu2MY",
        "colab_type": "code",
        "colab": {}
      },
      "source": [
        "def tabelaParaCadaMateriaDoSegundoSemestre(table,semestre1,semestre2):\n",
        "  tam = len(semestre2)\n",
        "  for i in range(tam):\n",
        "    semestre1.append(semestre2[i])\n",
        "    "
      ],
      "execution_count": 0,
      "outputs": []
    },
    {
      "cell_type": "code",
      "metadata": {
        "id": "vO59w4KQRZgY",
        "colab_type": "code",
        "colab": {}
      },
      "source": [
        "table[\"matricula\"] = 0\n"
      ],
      "execution_count": 0,
      "outputs": []
    },
    {
      "cell_type": "code",
      "metadata": {
        "id": "13Mnzr7FQtyj",
        "colab_type": "code",
        "colab": {}
      },
      "source": [
        "def criaColunasAnoNotaSituacaoPorDisciplina(table):\n",
        "  tam = len(disciplinas)\n",
        "  for i in range(tam):\n",
        "    table[\"semana \"+str(i)] = 0\n",
        "    table[disciplina[i] + \" ano \"] = 0\n",
        "    table[disciplina[i] + \" nota \"] = 0\n",
        "    table[disciplina[i] + \" situacao \"] = 0\n",
        "  return table"
      ],
      "execution_count": 0,
      "outputs": []
    },
    {
      "cell_type": "code",
      "metadata": {
        "id": "XgsGs-dWam57",
        "colab_type": "code",
        "colab": {}
      },
      "source": [
        "table = criaColunasAnoNotaSituacaoPorDisciplina(notas2017_1)\n",
        "table"
      ],
      "execution_count": 0,
      "outputs": []
    },
    {
      "cell_type": "markdown",
      "metadata": {
        "id": "46lDLcmZqF4a",
        "colab_type": "text"
      },
      "source": [
        "#Parte 2"
      ]
    },
    {
      "cell_type": "code",
      "metadata": {
        "id": "fQK2WgfanqYS",
        "colab_type": "code",
        "colab": {}
      },
      "source": [
        "#gerar os arquivos com as notas de cada disciplina\n",
        "cod_dis = [\"ECT2101\",\"ECT2102\", \"ECT2103\",\"ECT2104\", \"ECT2105\",\"ECT2106\"]\n",
        "\n",
        "#Para os semestres 2017.1 e 2017.2\n",
        "for cod in cod_dis :\n",
        "  csv20171 = classes[0][classes[0]['codigo']==cod]\n",
        "  csv20171.to_csv(r'20171'+cod+'.csv')\n",
        "\n",
        "csv20172 = classes[1][classes[1]['codigo']==\"ECT2201\"]\n",
        "csv20172.to_csv(r'20172ECT2201.csv')"
      ],
      "execution_count": 0,
      "outputs": []
    },
    {
      "cell_type": "code",
      "metadata": {
        "id": "IjMa_90Hnxcc",
        "colab_type": "code",
        "colab": {}
      },
      "source": [
        "# aqui tu vai colocar o nome de todos os aquivos \n",
        "notas_url_2017 = [\"20171ECT2101.csv\",\"20171ECT2102.csv\",\"20171ECT2103.csv\",\"20171ECT2104.csv\",\"20171ECT2105.csv\",\"20171ECT2106.csv\",\n",
        "                  \"20172ECT2201.csv\",\"20172ECT2202.csv\",\"20172ECT2203.csv\",\"20172ECT2204.csv\",\"20172ECT2205.csv\",\"20172ECT2206.csv\",\"20172ECT2207.csv\"]\n"
      ],
      "execution_count": 0,
      "outputs": []
    },
    {
      "cell_type": "code",
      "metadata": {
        "id": "02DLD6ktoj0M",
        "colab_type": "code",
        "colab": {}
      },
      "source": [
        "# Notas since 2017.1 until 2017.2\n",
        "notas_1 = pd.read_csv(notas_url_2017[0] )\n",
        "notas_2 = pd.read_csv(notas_url_2017[1] )\n",
        "notas_3 = pd.read_csv(notas_url_2017[2] )\n",
        "notas_4 = pd.read_csv(notas_url_2017[3] )\n",
        "\n",
        "notas2017 = [notas_1,notas_2,notas_3,notas_4]"
      ],
      "execution_count": 0,
      "outputs": []
    },
    {
      "cell_type": "code",
      "metadata": {
        "id": "GdZZuiqWopUb",
        "colab_type": "code",
        "colab": {}
      },
      "source": [
        "# Concatenating all notas\n",
        "merge_notas2017 = notas2017[0]\n",
        "for i in range(1,13):\n",
        "  merge_notas2017 = pd.concat([merge_notas2017, notas2017[i]], ignore_index=True)\n",
        "merge_notas2017"
      ],
      "execution_count": 0,
      "outputs": []
    },
    {
      "cell_type": "code",
      "metadata": {
        "id": "a9F2k57lo2OC",
        "colab_type": "code",
        "colab": {}
      },
      "source": [
        "disciplinas = merge_notas2017[\"disciplina\"].unique()\n",
        "colunas      = [\"matricula\"]\n",
        "tabela2017   = pd.DataFrame(columns=colunas)\n",
        "\n",
        "for i in disciplinas:\n",
        "  notasTurma = merge_notas2017.loc[merge_notas2017[\"disciplina\"].str.contains(i, regex=False),[\"matricula\",\"disciplina\",\"ano\",\"nota\",\"situacao\"]]\n",
        "  notasTurma = notasTurma.sort_values(\"matricula\")\n",
        "  tabela2017 = pd.merge(notasTurma,tabela2017,on=['matricula'], how=\"outer\") \n",
        "\n",
        "\n",
        "tabela2017.columns = ['matricula', \n",
        "                 disciplinas[12],disciplinas[12]+\" ano \",disciplinas[12]+\" nota \",disciplinas[12]+\" situacao \",\n",
        "                 disciplinas[11],disciplinas[11]+\" ano \",disciplinas[11]+\" nota \",disciplinas[11]+\" situacao \",\n",
        "                 disciplinas[10],disciplinas[10]+\" ano \",disciplinas[10]+\" nota \",disciplinas[10]+\" situacao \",\n",
        "                 disciplinas[9], disciplinas[9] +\" ano \",disciplinas[9] +\" nota \",disciplinas[9] +\" situacao \",\n",
        "                 disciplinas[8], disciplinas[8] +\" ano \",disciplinas[8] +\" nota \",disciplinas[8] +\" situacao \",     \n",
        "                 disciplinas[7], disciplinas[7] +\" ano \",disciplinas[7] +\" nota \",disciplinas[7] +\" situacao \",     \n",
        "                 disciplinas[6], disciplinas[6] +\" ano \",disciplinas[6] +\" nota \",disciplinas[6] +\" situacao \",\n",
        "                 disciplinas[5], disciplinas[5] +\" ano \",disciplinas[5] +\" nota \",disciplinas[5] +\" situacao \", \n",
        "                 disciplinas[4] ,disciplinas[4] +\" ano \",disciplinas[4] +\" nota \",disciplinas[4] +\" situacao \",\n",
        "                 disciplinas[3], disciplinas[3] +\" ano \",disciplinas[3] +\" nota \",disciplinas[3] +\" situacao \",\n",
        "                 disciplinas[2], disciplinas[2] +\" ano \",disciplinas[2] +\" nota \",disciplinas[2] +\" situacao \",\n",
        "                 disciplinas[1], disciplinas[1] +\" ano \",disciplinas[1] +\" nota \",disciplinas[1] +\" situacao \",\n",
        "                 disciplinas[0], disciplinas[0] +\" ano \",disciplinas[0] +\" nota \",disciplinas[0] +\" situacao \"]\n",
        "\n",
        "\n",
        "tabela2017 = tabela2017.drop_duplicates()\n",
        "tabela2017 = tabela2017.sort_values('matricula')\n",
        "tabela2017.head(2)"
      ],
      "execution_count": 0,
      "outputs": []
    },
    {
      "cell_type": "code",
      "metadata": {
        "id": "wRUS2mtNo6hj",
        "colab_type": "code",
        "colab": {}
      },
      "source": [
        "tabela2017 = tabela2017.replace(np.nan, \"-\")"
      ],
      "execution_count": 0,
      "outputs": []
    },
    {
      "cell_type": "markdown",
      "metadata": {
        "id": "Rwb7LC2HC9qP",
        "colab_type": "text"
      },
      "source": [
        "# Implementação de funções pegar as matérias do segundo semestre com base nas do primeiro"
      ]
    },
    {
      "cell_type": "code",
      "metadata": {
        "id": "bam8TsU1CZBi",
        "colab_type": "code",
        "colab": {}
      },
      "source": [
        "codigos = [\"ECT2201\",\"ECT2202\",\"ECT2203\",\"ECT2204\",\"ECT2205\",\"ECT2206\",\"ECT2207\"]"
      ],
      "execution_count": 0,
      "outputs": []
    },
    {
      "cell_type": "code",
      "metadata": {
        "id": "kn6hKWgIqM02",
        "colab_type": "code",
        "colab": {}
      },
      "source": [
        "disciplinas = [\"\"]"
      ],
      "execution_count": 0,
      "outputs": []
    },
    {
      "cell_type": "code",
      "metadata": {
        "id": "CRa-Mw3lB-nK",
        "colab_type": "code",
        "colab": {}
      },
      "source": [
        "'''for i in range(tam):\n",
        "  csv = classes[i][classes[i][\"codigo\"]==\"ECT2203\"]\n",
        "  csv.to_csv(r'lop'+str(i+1)+'.csv')"
      ],
      "execution_count": 0,
      "outputs": []
    },
    {
      "cell_type": "code",
      "metadata": {
        "colab_type": "code",
        "id": "jzoiKBOgE2El",
        "colab": {}
      },
      "source": [
        "# aqui tu vai colocar o nome de todos os aquivos que tu gerou\n",
        "notas_Lop = [\"lop1.csv\",\"lop2.csv\",\"lop3.csv\",\"lop4.csv\", \"lop5.csv\"]"
      ],
      "execution_count": 0,
      "outputs": []
    },
    {
      "cell_type": "code",
      "metadata": {
        "colab_type": "code",
        "id": "yYOeuuwFE2E1",
        "colab": {}
      },
      "source": [
        "# Notas since 2017.1 until 2017.2\n",
        "notas_1 = pd.read_csv(notas_Lop [0] )\n",
        "notas_2 = pd.read_csv(notas_Lop [1] )\n",
        "notas_3 = pd.read_csv(notas_Lop [2] )\n",
        "notas_4 = pd.read_csv(notas_Lop [3] )\n",
        "notas_5 = pd.read_csv(notas_Lop [4] )\n",
        "notas_6 = pd.read_csv(notas_Lop [5] )\n",
        "\n",
        "\n",
        "# Setting priginal data into one vector due to easier manipulation, aqui tu vai adicionar todas a variaveis\n",
        "notas =[notas_1, notas_2,notas_3, notas_4,notas_5 ]\n"
      ],
      "execution_count": 0,
      "outputs": []
    },
    {
      "cell_type": "code",
      "metadata": {
        "id": "F1QclJQB22ec",
        "colab_type": "code",
        "colab": {}
      },
      "source": [
        "for i in range(5):\n",
        "  arq =pd.DataFrame()\n",
        "  for c in notas[i][\"turma\"].unique():\n",
        "    a =  notas[i].loc[notas[i][\"turma\"]== c][[\"matricula\",\"situacao\",\"ano\",\"turma\"]]\n",
        "    arq = arq.append(a, sort=False, ignore_index=True)\n",
        "    csv_situacao = arq\n",
        "   \n",
        "  csv_situacao.to_csv(r'lopSituacao'+str(i+1)+'.csv')"
      ],
      "execution_count": 0,
      "outputs": []
    }
  ]
}