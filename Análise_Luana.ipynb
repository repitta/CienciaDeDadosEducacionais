{
  "nbformat": 4,
  "nbformat_minor": 0,
  "metadata": {
    "colab": {
      "name": "Análise Luana.ipynb",
      "version": "0.3.2",
      "provenance": [],
      "collapsed_sections": [],
      "include_colab_link": true
    },
    "kernelspec": {
      "name": "python3",
      "display_name": "Python 3"
    }
  },
  "cells": [
    {
      "cell_type": "markdown",
      "metadata": {
        "id": "view-in-github",
        "colab_type": "text"
      },
      "source": [
        "<a href=\"https://colab.research.google.com/github/repitta/CienciaDeDadosEducacionais/blob/master/An%C3%A1lise_Luana.ipynb\" target=\"_parent\"><img src=\"https://colab.research.google.com/assets/colab-badge.svg\" alt=\"Open In Colab\"/></a>"
      ]
    },
    {
      "cell_type": "code",
      "metadata": {
        "id": "fk7U05-uf72Q",
        "colab_type": "code",
        "colab": {}
      },
      "source": [
        "# These are the library we are going to use\n",
        "import pandas as pd\n",
        "import matplotlib.pyplot as plt\n",
        "import seaborn as sns\n",
        "import numpy as np"
      ],
      "execution_count": 0,
      "outputs": []
    },
    {
      "cell_type": "code",
      "metadata": {
        "id": "FkAvW9zOgFJI",
        "colab_type": "code",
        "colab": {}
      },
      "source": [
        "# Notas finais\n",
        "# Reading the data directly from the Git\n",
        "notas_url = [\"https://github.com/repitta/CienciaDeDadosEducacionais/raw/master/dadosUFRN/notas_discentes_2017.1.csv\",\n",
        "            \"https://github.com/repitta/CienciaDeDadosEducacionais/raw/master/dadosUFRN/notas_discentes_2017.2.csv\",\n",
        "            #\"https://github.com/repitta/CienciaDeDadosEducacionais/raw/master/dadosUFRN/notas_discentes_2018.1.csv\",\n",
        "            #\"https://github.com/repitta/CienciaDeDadosEducacionais/raw/master/dadosUFRN/notas_discentes_2018.2.csv\"\n",
        "            ]"
      ],
      "execution_count": 0,
      "outputs": []
    },
    {
      "cell_type": "code",
      "metadata": {
        "id": "cMHVqrmxlsyy",
        "colab_type": "code",
        "colab": {}
      },
      "source": [
        "# Notas since 2017.1 until 2018.2\n",
        "notas2017_1 = pd.read_csv(notas_url[0], sep=';', encoding = \"ISO-8859-1\" )\n",
        "notas2017_2 = pd.read_csv(notas_url[1], sep=';', encoding = \"ISO-8859-1\" )\n",
        "#notas2018_1 = pd.read_csv(notas_url[2], sep=';', encoding = \"ISO-8859-1\" )\n",
        "#notas2018_2 = pd.read_csv(notas_url[3], sep=';', encoding = \"ISO-8859-1\" )"
      ],
      "execution_count": 0,
      "outputs": []
    },
    {
      "cell_type": "code",
      "metadata": {
        "id": "V6cen5FlmkGb",
        "colab_type": "code",
        "colab": {}
      },
      "source": [
        "# Setting priginal data into one vector due to easier manipulation\n",
        "classes =[notas2017_1, notas2017_2,#notas2018_1, notas2018_2\n",
        "         ]"
      ],
      "execution_count": 0,
      "outputs": []
    },
    {
      "cell_type": "code",
      "metadata": {
        "id": "v4hl01kAy57J",
        "colab_type": "code",
        "colab": {}
      },
      "source": [
        "# Adding year in each dataframe \n",
        "year = 2017 # The year we decide to start our study\n",
        "for i in range(2):\n",
        "  classes[i]['ano'] = year\n",
        "  if i%2!=0:\n",
        "    year += 1\n",
        "  \n",
        "# Renaming the column for better manipulation\n",
        "  classes[i].rename(columns={'nome': 'disciplina'}, inplace=True)\n",
        "  "
      ],
      "execution_count": 0,
      "outputs": []
    },
    {
      "cell_type": "code",
      "metadata": {
        "id": "haEZ1RyAm-Wx",
        "colab_type": "code",
        "colab": {}
      },
      "source": [
        "for i in range(2):\n",
        "  # Changing some columns types in this step\n",
        "  classes[i].periodo   = classes[i].periodo.astype(str)\n",
        "  classes[i].codigo    = classes[i].codigo.astype(str)\n",
        "  classes[i].disciplina= classes[i].disciplina.astype(str)\n",
        "  classes[i].turma     = classes[i].turma.astype(str)\n",
        "  classes[i].siape     = classes[i].siape.astype(str)\n",
        "  classes[i].horario   = classes[i].horario.astype(str)\n",
        "  classes[i].matricula = classes[i].matricula.astype(int)\n",
        " #classes[i].nota      = classes[i].nota.astype(float) #Não pode converter pq os alunos indeferidos no campo nota tem o simbolo -\n",
        "  classes[i].situacao  = classes[i].situacao.astype(str)\n",
        "  classes[i].ano       = classes[i].ano.astype(str)\n",
        "\n",
        "  # Filtro para os dados apenas da disciplina do codigo que tu selecionou\n",
        " # classes[i] = classes[i][classes[i]['situacao'] !='EXCLUIDA']\n",
        "  \n",
        "  #Concatenar as colunas ano e periodo\n",
        "  classes[i].ano = classes[i]['ano'] + \".\" + classes[i]['periodo']\n",
        "  # transformar a tipo da coluna ano \n",
        "  classes[i].ano       = classes[i].ano.astype(float)"
      ],
      "execution_count": 0,
      "outputs": []
    },
    {
      "cell_type": "code",
      "metadata": {
        "id": "cgbbqWNqplXL",
        "colab_type": "code",
        "colab": {}
      },
      "source": [
        "# Concatenating all classes since 2017.1 until 2018.2\n",
        "merge_classes = classes[0]\n",
        "for i in range(1,4):\n",
        "  merge_classes = pd.concat([merge_classes, classes[i]])"
      ],
      "execution_count": 0,
      "outputs": []
    },
    {
      "cell_type": "code",
      "metadata": {
        "id": "CRa-Mw3lB-nK",
        "colab_type": "code",
        "colab": {
          "base_uri": "https://localhost:8080/",
          "height": 54
        },
        "outputId": "6105ff78-3918-4f2c-f2ac-7a6589abde71"
      },
      "source": [
        "csv20172 = classes[1][classes[1]['codigo']==\"ECT2203\"]\n",
        "csv20172.to_csv(r'20172ECT2203.csv')\n",
        "\n",
        "\n",
        "'''\n",
        "merge_classesCopy = merge_classes[merge_classes['codigo']==\"ECT2106\"]\n",
        "merge_classesCopy = merge_classesCopy[[\"matricula\",\"disciplina\",\"nota\",\"ano\",\"situacao\"]]\n",
        "#criar o arquivo csv por disciplina.. aqui tu tem q ficar mudando o nome do arquivo\n",
        "merge_classesCopy.to_csv(r'ECT2106.csv')\n",
        "\n",
        "#Agora tu volta para a celula que tem q colocar o novo codigo da outra disciplina e roda de novo... lembra de ler tudo de novo .. desdo inicio\n",
        "'''\n"
      ],
      "execution_count": 14,
      "outputs": [
        {
          "output_type": "execute_result",
          "data": {
            "text/plain": [
              "'\\nmerge_classesCopy = merge_classes[merge_classes[\\'codigo\\']==\"ECT2106\"]\\nmerge_classesCopy = merge_classesCopy[[\"matricula\",\"disciplina\",\"nota\",\"ano\",\"situacao\"]]\\n#criar o arquivo csv por disciplina.. aqui tu tem q ficar mudando o nome do arquivo\\nmerge_classesCopy.to_csv(r\\'ECT2106.csv\\')\\n\\n#Agora tu volta para a celula que tem q colocar o novo codigo da outra disciplina e roda de novo... lembra de ler tudo de novo .. desdo inicio\\n'"
            ]
          },
          "metadata": {
            "tags": []
          },
          "execution_count": 14
        }
      ]
    },
    {
      "cell_type": "code",
      "metadata": {
        "colab_type": "code",
        "id": "jzoiKBOgE2El",
        "colab": {}
      },
      "source": [
        "# aqui tu vai colocar o nome de todos os aquivos que tu gerou\n",
        "notas_url = [\"20171ECT2101.csv\",\"20171ECT2102.csv\", \"20171ECT2103.csv\",\"20171ECT2104.csv\", \"20171ECT2105.csv\",\"20171ECT2106.csv\",\"20172ECT2203.csv\"]"
      ],
      "execution_count": 0,
      "outputs": []
    },
    {
      "cell_type": "code",
      "metadata": {
        "colab_type": "code",
        "id": "yYOeuuwFE2E1",
        "colab": {}
      },
      "source": [
        "# Notas since 2017.1 until 2018.2\n",
        "notas_1 = pd.read_csv(notas_url[0])\n",
        "notas_2 = pd.read_csv(notas_url[1] )\n",
        "notas_3 = pd.read_csv(notas_url[2] )\n",
        "notas_4 = pd.read_csv(notas_url[3] )\n",
        "notas_5 = pd.read_csv(notas_url[4] )\n",
        "notas_6 = pd.read_csv(notas_url[5] )\n",
        "notas_7 = pd.read_csv(notas_url[6] )\n",
        "# aqui tu vai adicionar uma variavel para cada arquivo que tu cirar\n",
        "\n",
        "# Setting priginal data into one vector due to easier manipulation, aqui tu vai adicionar todas a variaveis\n",
        "notas =[notas_1, notas_2,notas_3, notas_4,notas_5, notas_6,notas_7]"
      ],
      "execution_count": 0,
      "outputs": []
    },
    {
      "cell_type": "code",
      "metadata": {
        "id": "2iuL2y_EFwwl",
        "colab_type": "code",
        "colab": {}
      },
      "source": [
        "# Concatenating all notas\n",
        "merge_notas = notas[0]\n",
        "for i in range(1,7):\n",
        "  merge_notas = pd.concat([merge_notas, notas[i]], ignore_index=True)\n",
        "merge_notas"
      ],
      "execution_count": 0,
      "outputs": []
    },
    {
      "cell_type": "code",
      "metadata": {
        "id": "QSWWxNCNGVDN",
        "colab_type": "code",
        "colab": {
          "base_uri": "https://localhost:8080/",
          "height": 34
        },
        "outputId": "5ec00de4-1974-4056-d4c5-e11a234bac43"
      },
      "source": [
        "#teste para saber quantas ocorrencia tem a mesma matricula no mesmo semestre\n",
        "merge_notas =merge_notas.sort_values('matricula')\n",
        "a = merge_notas.groupby(\"matricula\")[\"periodo\"].sum()\n",
        "a.unique()"
      ],
      "execution_count": 98,
      "outputs": [
        {
          "output_type": "execute_result",
          "data": {
            "text/plain": [
              "array([ 1,  2,  3,  4,  5,  6,  7,  8, 10, 14, 11,  9, 15, 12, 13])"
            ]
          },
          "metadata": {
            "tags": []
          },
          "execution_count": 98
        }
      ]
    },
    {
      "cell_type": "code",
      "metadata": {
        "id": "Ym2IsHLBpJtI",
        "colab_type": "code",
        "colab": {}
      },
      "source": [
        "a[a == 8]"
      ],
      "execution_count": 0,
      "outputs": []
    },
    {
      "cell_type": "code",
      "metadata": {
        "id": "XTj-2WTvpw4W",
        "colab_type": "code",
        "colab": {}
      },
      "source": [
        "merge_notas [merge_notas [\"matricula\"]==20170146918]"
      ],
      "execution_count": 0,
      "outputs": []
    },
    {
      "cell_type": "code",
      "metadata": {
        "id": "-m9Fy_roocCA",
        "colab_type": "code",
        "colab": {}
      },
      "source": [
        "merge_notas"
      ],
      "execution_count": 0,
      "outputs": []
    },
    {
      "cell_type": "code",
      "metadata": {
        "id": "CUpVZLI6H0-V",
        "colab_type": "code",
        "colab": {}
      },
      "source": [
        "disciplinas = merge_notas[\"disciplina\"].unique()\n",
        "colunas    = [\"matricula\"]\n",
        "tabela= pd.DataFrame(columns=colunas)\n",
        "for i in disciplinas:\n",
        "  notasTurma = merge_notas.loc[merge_notas[\"disciplina\"].str.contains(i, regex=False),[\"matricula\",\"disciplina\",\"ano\",\"nota\",\"situacao\"]]\n",
        "  notasTurma = notasTurma.sort_values(\"matricula\")\n",
        "  tabela = pd.merge(notasTurma,tabela,on=['matricula'], how=\"outer\") \n",
        "\n",
        "\n",
        "tabela.columns = ['matricula', disciplinas[6],disciplinas[6]+\"ano\",disciplinas[6]+\"nota\",disciplinas[6]+\"situacao\",\n",
        "                 disciplinas[5],disciplinas[5]+\"ano\",disciplinas[5]+\"nota\",disciplinas[5]+\"situacao\", \n",
        "                 disciplinas[4],disciplinas[4]+\"ano\",disciplinas[4]+\"nota\",disciplinas[4]+\"situacao\",\n",
        "                 disciplinas[3],disciplinas[3]+\"ano\",disciplinas[3]+\"nota\",disciplinas[3]+\"situacao\",\n",
        "                 disciplinas[2],disciplinas[2]+\"ano\",disciplinas[2]+\"nota\",disciplinas[2]+\"situacao\",\n",
        "                 disciplinas[1],disciplinas[1]+\"ano\",disciplinas[1]+\"nota\",disciplinas[1]+\"situacao\",\n",
        "                 disciplinas[0],disciplinas[0]+\"ano\",disciplinas[0]+\"nota\",disciplinas[0]+\"situacao\"]\n",
        "\n",
        "\n",
        "tabela = tabela.drop_duplicates()\n",
        "tabela = tabela.sort_values('matricula')\n",
        "tabela\n",
        "  "
      ],
      "execution_count": 0,
      "outputs": []
    },
    {
      "cell_type": "code",
      "metadata": {
        "id": "RL0OkmxPNdIe",
        "colab_type": "code",
        "colab": {}
      },
      "source": [
        "#Tabela só com os registros de quem cursou as cinco disciplinas em 2017.1 e também cursou LOP em 2017.2\n",
        "tabela1 = tabela.dropna(subset=[\"LÓGICA DE PROGRAMAÇÃO\"])\n",
        "tabela1 = tabela1.sort_values('matricula')\n"
      ],
      "execution_count": 0,
      "outputs": []
    },
    {
      "cell_type": "code",
      "metadata": {
        "id": "je4a1kxHH_qR",
        "colab_type": "code",
        "colab": {}
      },
      "source": [
        "#verificar quais os alunos estão com o status de cancelado\n",
        "tabela1[tabela1[\"LÓGICA DE PROGRAMAÇÃOsituacao\"] == \"CANCELADO\"]\n",
        "#tabela1[tabela1[\"CIÊNCIA, TECNOLOGIA E SOCIEDADEsituacao\"] == \"CANCELADO\"]\n",
        "#tabela1[tabela1[\"PRÁTICAS DE LEITURA E ESCRITA Isituacao\"] == \"CANCELADO\"]\n",
        "#tabela1[tabela1[\"QUÍMICA GERALsituacao\"] == \"CANCELADO\"]\n",
        "#tabela1[tabela1[\"QUÍMICA GERALsituacao\"] == \"CANCELADO\"]"
      ],
      "execution_count": 0,
      "outputs": []
    },
    {
      "cell_type": "code",
      "metadata": {
        "id": "9FciiYR9I0gO",
        "colab_type": "code",
        "colab": {}
      },
      "source": [
        "#tabela só com os alumos que cursaram, todas as disciplinas em 2017.1 e LOP em 2017.2\n",
        "tabela2 = tabela1.dropna()\n",
        "tabela2\n"
      ],
      "execution_count": 0,
      "outputs": []
    }
  ]
}