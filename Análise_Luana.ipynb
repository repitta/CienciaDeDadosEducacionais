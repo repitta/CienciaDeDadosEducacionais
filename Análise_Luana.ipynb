{
  "nbformat": 4,
  "nbformat_minor": 0,
  "metadata": {
    "colab": {
      "name": "Análise Luana.ipynb",
      "version": "0.3.2",
      "provenance": [],
      "collapsed_sections": [],
      "include_colab_link": true
    },
    "kernelspec": {
      "name": "python3",
      "display_name": "Python 3"
    }
  },
  "cells": [
    {
      "cell_type": "markdown",
      "metadata": {
        "id": "view-in-github",
        "colab_type": "text"
      },
      "source": [
        "<a href=\"https://colab.research.google.com/github/repitta/CienciaDeDadosEducacionais/blob/master/An%C3%A1lise_Luana.ipynb\" target=\"_parent\"><img src=\"https://colab.research.google.com/assets/colab-badge.svg\" alt=\"Open In Colab\"/></a>"
      ]
    },
    {
      "cell_type": "code",
      "metadata": {
        "id": "fk7U05-uf72Q",
        "colab_type": "code",
        "colab": {}
      },
      "source": [
        "# These are the library we are going to use\n",
        "import pandas as pd\n",
        "import matplotlib.pyplot as plt\n",
        "import seaborn as sns\n",
        "import numpy as np"
      ],
      "execution_count": 0,
      "outputs": []
    },
    {
      "cell_type": "code",
      "metadata": {
        "id": "FkAvW9zOgFJI",
        "colab_type": "code",
        "colab": {}
      },
      "source": [
        "# Notas finais\n",
        "# Reading the data directly from the Git\n",
        "notas_url = [\"https://github.com/repitta/CienciaDeDadosEducacionais/raw/master/dadosUFRN/notas_discentes_2017.1.csv\",\n",
        "            \"https://github.com/repitta/CienciaDeDadosEducacionais/raw/master/dadosUFRN/notas_discentes_2017.2.csv\",\n",
        "            \"https://github.com/repitta/CienciaDeDadosEducacionais/raw/master/dadosUFRN/notas_discentes_2018.1.csv\",\n",
        "            \"https://github.com/repitta/CienciaDeDadosEducacionais/raw/master/dadosUFRN/notas_discentes_2018.2.csv\"]"
      ],
      "execution_count": 0,
      "outputs": []
    },
    {
      "cell_type": "code",
      "metadata": {
        "id": "cMHVqrmxlsyy",
        "colab_type": "code",
        "colab": {}
      },
      "source": [
        "# Notas since 2017.1 until 2018.2\n",
        "notas2017_1 = pd.read_csv(notas_url[0], sep=';', encoding = \"ISO-8859-1\" )\n",
        "notas2017_2 = pd.read_csv(notas_url[1], sep=';', encoding = \"ISO-8859-1\" )\n",
        "notas2018_1 = pd.read_csv(notas_url[2], sep=';', encoding = \"ISO-8859-1\" )\n",
        "notas2018_2 = pd.read_csv(notas_url[3], sep=';', encoding = \"ISO-8859-1\" )"
      ],
      "execution_count": 0,
      "outputs": []
    },
    {
      "cell_type": "code",
      "metadata": {
        "id": "V6cen5FlmkGb",
        "colab_type": "code",
        "colab": {}
      },
      "source": [
        "# Setting priginal data into one vector due to easier manipulation\n",
        "classes =[notas2017_1, notas2017_2,notas2018_1, notas2018_2]"
      ],
      "execution_count": 0,
      "outputs": []
    },
    {
      "cell_type": "code",
      "metadata": {
        "id": "v4hl01kAy57J",
        "colab_type": "code",
        "colab": {}
      },
      "source": [
        "# Adding year in each dataframe \n",
        "year = 2017 # The year we decide to start our study\n",
        "for i in range(4):\n",
        "  classes[i]['ano'] = year\n",
        "  if i%2!=0:\n",
        "    year += 1\n",
        "  \n",
        "# Renaming the column for better manipulation\n",
        "  classes[i].rename(columns={'nome': 'disciplina'}, inplace=True)\n",
        "  "
      ],
      "execution_count": 0,
      "outputs": []
    },
    {
      "cell_type": "code",
      "metadata": {
        "id": "GsckuFezD0fj",
        "colab_type": "code",
        "colab": {}
      },
      "source": [
        "#Consultar o codigo e o nome da disciplina\n",
        "classes[1][[\"disciplina\",\"codigo\"]]"
      ],
      "execution_count": 0,
      "outputs": []
    },
    {
      "cell_type": "code",
      "metadata": {
        "id": "haEZ1RyAm-Wx",
        "colab_type": "code",
        "outputId": "93b69a92-0c17-4f2e-ded1-e6f8f4da49ed",
        "colab": {
          "base_uri": "https://localhost:8080/",
          "height": 119
        }
      },
      "source": [
        "for i in range(4):\n",
        "  # Changing some columns types in this step\n",
        "  classes[i].periodo   = classes[i].periodo.astype(str)\n",
        "  classes[i].codigo    = classes[i].codigo.astype(str)\n",
        "  classes[i].disciplina= classes[i].disciplina.astype(str)\n",
        "  classes[i].turma     = classes[i].turma.astype(str)\n",
        "  classes[i].siape     = classes[i].siape.astype(str)\n",
        "  classes[i].horario   = classes[i].horario.astype(str)\n",
        "  classes[i].matricula = classes[i].matricula.astype(int)\n",
        " #classes[i].nota      = classes[i].nota.astype(float) #Não pode converter pq os alunos indeferidos no campo nota tem o simbolo -\n",
        "  classes[i].situacao  = classes[i].situacao.astype(str)\n",
        "  classes[i].ano       = classes[i].ano.astype(str)\n",
        "\n",
        "  # Filtro para os dados apenas da disciplina do codigo que tu selecionou\n",
        "  classes[i] = classes[i][classes[i]['situacao'] !='EXCLUIDA']\n",
        "  \n",
        "  #Concatenar as colunas ano e periodo\n",
        "  classes[i].ano = classes[i]['ano'] + \".\" + classes[i]['periodo']\n",
        "  # transformar a tipo da coluna ano \n",
        "  classes[i].ano       = classes[i].ano.astype(float)"
      ],
      "execution_count": 0,
      "outputs": [
        {
          "output_type": "stream",
          "text": [
            "/usr/local/lib/python3.6/dist-packages/pandas/core/generic.py:5096: SettingWithCopyWarning: \n",
            "A value is trying to be set on a copy of a slice from a DataFrame.\n",
            "Try using .loc[row_indexer,col_indexer] = value instead\n",
            "\n",
            "See the caveats in the documentation: http://pandas.pydata.org/pandas-docs/stable/indexing.html#indexing-view-versus-copy\n",
            "  self[name] = value\n"
          ],
          "name": "stderr"
        }
      ]
    },
    {
      "cell_type": "code",
      "metadata": {
        "id": "cgbbqWNqplXL",
        "colab_type": "code",
        "colab": {}
      },
      "source": [
        "# Concatenating all classes since 2017.1 until 2018.2\n",
        "merge_classes = classes[0]\n",
        "for i in range(1,4):\n",
        "  merge_classes = pd.concat([merge_classes, classes[i]])"
      ],
      "execution_count": 0,
      "outputs": []
    },
    {
      "cell_type": "code",
      "metadata": {
        "id": "CRa-Mw3lB-nK",
        "colab_type": "code",
        "colab": {}
      },
      "source": [
        "merge_classesCopy = merge_classes[merge_classes['codigo']==\"ECT2106\"]\n",
        "merge_classesCopy = merge_classesCopy[[\"matricula\",\"disciplina\",\"nota\",\"ano\",\"situacao\"]]\n",
        "#criar o arquivo csv por disciplina.. aqui tu tem q ficar mudando o nome do arquivo\n",
        "merge_classesCopy.to_csv(r'ECT2106.csv')\n",
        "\n",
        "#Agora tu volta para a celula que tem q colocar o novo codigo da outra disciplina e roda de novo... lembra de ler tudo de novo .. desdo inicio"
      ],
      "execution_count": 0,
      "outputs": []
    },
    {
      "cell_type": "code",
      "metadata": {
        "colab_type": "code",
        "id": "jzoiKBOgE2El",
        "colab": {}
      },
      "source": [
        "# aqui tu vai colocar o nome de todos os aquivos que tu gerou\n",
        "notas_url = [\"ECT2101.csv\",\"ECT2102.csv\", \"ECT2103.csv\",\"ECT2104.csv\", \"ECT2105.csv\",\"ECT2106.csv\"]"
      ],
      "execution_count": 0,
      "outputs": []
    },
    {
      "cell_type": "code",
      "metadata": {
        "colab_type": "code",
        "id": "yYOeuuwFE2E1",
        "colab": {}
      },
      "source": [
        "# Notas since 2017.1 until 2018.2\n",
        "notas_1 = pd.read_csv(notas_url[0])\n",
        "notas_2 = pd.read_csv(notas_url[1] )\n",
        "notas_3 = pd.read_csv(notas_url[2] )\n",
        "notas_4 = pd.read_csv(notas_url[3] )\n",
        "notas_5 = pd.read_csv(notas_url[4] )\n",
        "notas_6 = pd.read_csv(notas_url[5] )\n",
        "# aqui tu vai adicionar uma variavel para cada arquivo que tu cirar\n",
        "\n",
        "# Setting priginal data into one vector due to easier manipulation, aqui tu vai adicionar todas a variaveis\n",
        "notas =[notas_1, notas_2,notas_3, notas_4,notas_5, notas_6]"
      ],
      "execution_count": 0,
      "outputs": []
    },
    {
      "cell_type": "code",
      "metadata": {
        "id": "2iuL2y_EFwwl",
        "colab_type": "code",
        "colab": {}
      },
      "source": [
        "# Concatenating all notas\n",
        "merge_notas = notas[0]\n",
        "for i in range(1,6):\n",
        "  merge_notas = pd.concat([merge_notas, notas[i]], ignore_index=True)\n",
        "merge_notas"
      ],
      "execution_count": 0,
      "outputs": []
    },
    {
      "cell_type": "code",
      "metadata": {
        "id": "QSWWxNCNGVDN",
        "colab_type": "code",
        "colab": {}
      },
      "source": [
        "merge_notas =merge_notas.sort_values('matricula')\n",
        "merge_notas"
      ],
      "execution_count": 0,
      "outputs": []
    },
    {
      "cell_type": "code",
      "metadata": {
        "id": "CUpVZLI6H0-V",
        "colab_type": "code",
        "colab": {}
      },
      "source": [
        "disciplinas = merge_notas[\"disciplina\"].unique()\n",
        "colunas    = [\"matricula\"]\n",
        "tabela= pd.DataFrame(columns=colunas)\n",
        "for i in disciplinas:\n",
        "  notasTurma = merge_notas.loc[merge_notas[\"disciplina\"].str.contains(i, regex=False),[\"matricula\",\"disciplina\",\"ano\",\"nota\",\"situacao\"]]\n",
        "  notasTurma = notasTurma.sort_values(\"matricula\")\n",
        "  tabela = pd.merge(notasTurma,tabela,on=['matricula'], how=\"outer\") \n",
        "\n",
        "\n",
        "tabela.columns = ['matricula',disciplinas[5],disciplinas[5]+\"ano\",disciplinas[5]+\"nota\",disciplinas[5]+\"situacao\", \n",
        "                 disciplinas[4],disciplinas[4]+\"ano\",disciplinas[4]+\"nota\",disciplinas[4]+\"situacao\",\n",
        "                 disciplinas[3],disciplinas[3]+\"ano\",disciplinas[3]+\"nota\",disciplinas[3]+\"situacao\",\n",
        "                 disciplinas[2],disciplinas[2]+\"ano\",disciplinas[2]+\"nota\",disciplinas[2]+\"situacao\",\n",
        "                 disciplinas[1],disciplinas[1]+\"ano\",disciplinas[1]+\"nota\",disciplinas[1]+\"situacao\",\n",
        "                 disciplinas[0],disciplinas[0]+\"ano\",disciplinas[0]+\"nota\",disciplinas[0]+\"situacao\"]\n",
        "\n",
        "\n",
        "tabela = tabela.drop_duplicates()\n",
        "tabela = tabela.sort_values('matricula')\n",
        "tabela\n",
        "  "
      ],
      "execution_count": 0,
      "outputs": []
    },
    {
      "cell_type": "code",
      "metadata": {
        "id": "9FQd0em4Bzus",
        "colab_type": "code",
        "colab": {}
      },
      "source": [
        ""
      ],
      "execution_count": 0,
      "outputs": []
    },
    {
      "cell_type": "code",
      "metadata": {
        "id": "RL0OkmxPNdIe",
        "colab_type": "code",
        "outputId": "13b46710-3885-4ab7-eb1b-56998ec80b81",
        "colab": {
          "base_uri": "https://localhost:8080/",
          "height": 1037
        }
      },
      "source": [
        "tabela.info()\n",
        "tabela = tabela.dropna(axis=0)\n",
        "tabela.info()\n"
      ],
      "execution_count": 0,
      "outputs": [
        {
          "output_type": "stream",
          "text": [
            "<class 'pandas.core.frame.DataFrame'>\n",
            "Int64Index: 63650 entries, 81478 to 78766\n",
            "Data columns (total 25 columns):\n",
            "matricula                                  63650 non-null int64\n",
            "CIÊNCIA, TECNOLOGIA E SOCIEDADE            52639 non-null object\n",
            "CIÊNCIA, TECNOLOGIA E SOCIEDADEano         52639 non-null float64\n",
            "CIÊNCIA, TECNOLOGIA E SOCIEDADEnota        52639 non-null object\n",
            "CIÊNCIA, TECNOLOGIA E SOCIEDADEsituacao    52639 non-null object\n",
            "PRÁTICAS DE LEITURA E ESCRITA I            50197 non-null object\n",
            "PRÁTICAS DE LEITURA E ESCRITA Iano         50197 non-null float64\n",
            "PRÁTICAS DE LEITURA E ESCRITA Inota        50197 non-null object\n",
            "PRÁTICAS DE LEITURA E ESCRITA Isituacao    50197 non-null object\n",
            "QUÍMICA GERAL                              61232 non-null object\n",
            "QUÍMICA GERALano                           61232 non-null float64\n",
            "QUÍMICA GERALnota                          61232 non-null object\n",
            "QUÍMICA GERALsituacao                      61232 non-null object\n",
            "CÁLCULO I                                  62479 non-null object\n",
            "CÁLCULO Iano                               62479 non-null float64\n",
            "CÁLCULO Inota                              62479 non-null object\n",
            "CÁLCULO Isituacao                          62479 non-null object\n",
            "VETORES E GEOMETRIA ANALÍTICA              62546 non-null object\n",
            "VETORES E GEOMETRIA ANALÍTICAano           62546 non-null float64\n",
            "VETORES E GEOMETRIA ANALÍTICAnota          62546 non-null object\n",
            "VETORES E GEOMETRIA ANALÍTICAsituacao      62546 non-null object\n",
            "PRÉ-CÁLCULO                                59638 non-null object\n",
            "PRÉ-CÁLCULOano                             59638 non-null float64\n",
            "PRÉ-CÁLCULOnota                            59638 non-null object\n",
            "PRÉ-CÁLCULOsituacao                        59638 non-null object\n",
            "dtypes: float64(6), int64(1), object(18)\n",
            "memory usage: 12.6+ MB\n",
            "<class 'pandas.core.frame.DataFrame'>\n",
            "Int64Index: 47876 entries, 4613 to 78766\n",
            "Data columns (total 25 columns):\n",
            "matricula                                  47876 non-null int64\n",
            "CIÊNCIA, TECNOLOGIA E SOCIEDADE            47876 non-null object\n",
            "CIÊNCIA, TECNOLOGIA E SOCIEDADEano         47876 non-null float64\n",
            "CIÊNCIA, TECNOLOGIA E SOCIEDADEnota        47876 non-null object\n",
            "CIÊNCIA, TECNOLOGIA E SOCIEDADEsituacao    47876 non-null object\n",
            "PRÁTICAS DE LEITURA E ESCRITA I            47876 non-null object\n",
            "PRÁTICAS DE LEITURA E ESCRITA Iano         47876 non-null float64\n",
            "PRÁTICAS DE LEITURA E ESCRITA Inota        47876 non-null object\n",
            "PRÁTICAS DE LEITURA E ESCRITA Isituacao    47876 non-null object\n",
            "QUÍMICA GERAL                              47876 non-null object\n",
            "QUÍMICA GERALano                           47876 non-null float64\n",
            "QUÍMICA GERALnota                          47876 non-null object\n",
            "QUÍMICA GERALsituacao                      47876 non-null object\n",
            "CÁLCULO I                                  47876 non-null object\n",
            "CÁLCULO Iano                               47876 non-null float64\n",
            "CÁLCULO Inota                              47876 non-null object\n",
            "CÁLCULO Isituacao                          47876 non-null object\n",
            "VETORES E GEOMETRIA ANALÍTICA              47876 non-null object\n",
            "VETORES E GEOMETRIA ANALÍTICAano           47876 non-null float64\n",
            "VETORES E GEOMETRIA ANALÍTICAnota          47876 non-null object\n",
            "VETORES E GEOMETRIA ANALÍTICAsituacao      47876 non-null object\n",
            "PRÉ-CÁLCULO                                47876 non-null object\n",
            "PRÉ-CÁLCULOano                             47876 non-null float64\n",
            "PRÉ-CÁLCULOnota                            47876 non-null object\n",
            "PRÉ-CÁLCULOsituacao                        47876 non-null object\n",
            "dtypes: float64(6), int64(1), object(18)\n",
            "memory usage: 9.5+ MB\n"
          ],
          "name": "stdout"
        }
      ]
    },
    {
      "cell_type": "code",
      "metadata": {
        "id": "9FciiYR9I0gO",
        "colab_type": "code",
        "colab": {}
      },
      "source": [
        "tabela.to_csv(r'notas1periodo.csv')"
      ],
      "execution_count": 0,
      "outputs": []
    }
  ]
}