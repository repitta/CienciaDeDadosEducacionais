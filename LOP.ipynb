{
  "nbformat": 4,
  "nbformat_minor": 0,
  "metadata": {
    "colab": {
      "name": "LOP.ipynb",
      "version": "0.3.2",
      "provenance": [],
      "collapsed_sections": [],
      "include_colab_link": true
    },
    "kernelspec": {
      "name": "python3",
      "display_name": "Python 3"
    }
  },
  "cells": [
    {
      "cell_type": "markdown",
      "metadata": {
        "id": "view-in-github",
        "colab_type": "text"
      },
      "source": [
        "<a href=\"https://colab.research.google.com/github/repitta/CienciaDeDadosEducacionais/blob/master/LOP.ipynb\" target=\"_parent\"><img src=\"https://colab.research.google.com/assets/colab-badge.svg\" alt=\"Open In Colab\"/></a>"
      ]
    },
    {
      "cell_type": "markdown",
      "metadata": {
        "id": "hwx4W4sEMVk9",
        "colab_type": "text"
      },
      "source": [
        "<h1>Analíse dos dados do sistema LOP"
      ]
    },
    {
      "cell_type": "markdown",
      "metadata": {
        "id": "rJE6lkdSMliM",
        "colab_type": "text"
      },
      "source": [
        "Nesse projeto iremos fazer a análise exploratória de dados e suas representações visuais, que  engloba um conjunto de estatísticas quantitativas e gráficas que nos mostram as tendências, detectam comportamentos, testam a validade de hipóteses e fazem vários outros estudos.\n",
        "\n",
        "Para esta análise, vamos utilizar os dados fornecidos pelo sistema LOP - Plataforma de gerenciamento de exercícios de programação da Escola de Ciência e Tecnolgia da  Universidade Federal do Rio Grande do Norte (UFRN) e investigar os fatores que influenciam o desempenho dos alunos do Bacharelado em Ciência e Tecnologia.\n",
        "\n",
        "Assim, algumas questões que serão uma base para o nosso estudo podem ser levantadas:\n",
        "\n",
        "1. Como o sucesso dos alunos tem sido ao longo dos anos?\n",
        "2.  Uma configuração (tamanho, horário) da classe influencia  nesse desempenho?\n",
        "3. Quais habilidades são aprendidas pelos alunos? (Perseverança,  Raciocínio Lógico, Atenção aos detalhes, Pensamento Abstrato )\n",
        "4. Qual o perfil dos alunos?\n",
        "5. Quais os estilos de aprendizagem?\n",
        "6. E finalmente, qual a influência da  autorregulação da aprendizagem do aluno no seu redimento?\n",
        "\n",
        "\n",
        "\n",
        "\n",
        "E tendo respondido a essas perguntas que, ao longo deste trabalho, geraremos gráficos e tabelas que relacionam a média dos alunos e o número de alunos aprovados e reprovados de  ???  a 2019.1 com elementos como:\n",
        "\n",
        "* O número de alunos por turma;\n",
        "* O turno de aula;\n",
        "* A quantidade de exercícios repondidos;\n",
        "*A frequência que o aluno responde as atividades;\n",
        "* E a quantidade de ausências de estudantes.\n",
        "*Quantidade de linhas do código? "
      ]
    },
    {
      "cell_type": "markdown",
      "metadata": {
        "id": "Dfaqd2GOTSsF",
        "colab_type": "text"
      },
      "source": [
        "**Importa as bibliotecas**"
      ]
    },
    {
      "cell_type": "code",
      "metadata": {
        "id": "shJyZsF8TALa",
        "colab_type": "code",
        "colab": {}
      },
      "source": [
        "import pandas as pd\n",
        "from csv import reader\n"
      ],
      "execution_count": 0,
      "outputs": []
    },
    {
      "cell_type": "markdown",
      "metadata": {
        "id": "_ucU21OZ2Xfl",
        "colab_type": "text"
      },
      "source": [
        "**Ler os arquivo CSV que foram gerados a partir do banco de dados do sistema LOP**"
      ]
    },
    {
      "cell_type": "code",
      "metadata": {
        "id": "UEVdkG942Q2o",
        "colab_type": "code",
        "colab": {}
      },
      "source": [
        "lop_users = pd.read_csv(\"lop.users.csv\")\n",
        "lop_turmas = pd.read_csv(\"lop.turmas.csv\")\n",
        "lop_listas = pd.read_csv(\"lop.listasExercicios.csv\")\n",
        "lop_sub = pd.read_csv(\"lop.submissoes.csv\")"
      ],
      "execution_count": 0,
      "outputs": []
    },
    {
      "cell_type": "markdown",
      "metadata": {
        "id": "_S6RZEUATWZ1",
        "colab_type": "text"
      },
      "source": [
        "**Selecionar as colunas com os dados que serão utilizados no estudo**"
      ]
    },
    {
      "cell_type": "code",
      "metadata": {
        "id": "kB7_XugX8I1s",
        "colab_type": "code",
        "outputId": "0147c9d8-9196-419c-85a7-1d2a5ae53b8c",
        "colab": {
          "base_uri": "https://localhost:8080/",
          "height": 204
        }
      },
      "source": [
        "#Tabela Usuários - tab_user armazena as colunas \"_id\", \"matricula\", \"nome\" \n",
        "tab_user = lop_users[[\"_id\", \"matricula\", \"nome\"]]\n",
        "\n",
        "#Tabela Turmas - tab_turmas armazena as colunas __id\", \"anoPeriodoString\", \"descricaoHorario\",\"descricaoTurma\", \"matricula\"\n",
        "tab_turmas = lop_turmas [[\"_id\", \"anoPeriodoString\", \"descricaoHorario\",\"descricaoTurma\"]]\n",
        "matricula = []\n",
        "for j in range(len(tab_turmas)):\n",
        "  id_matriculat =[]\n",
        "  for i in range(30):\n",
        "    id_matriculat.append(lop_turmas[\"dicentes.\"+str(i)+\".matricula\"][j])\n",
        "  matricula.append(id_matriculat)\n",
        "tab_turmas[\"matricula\"] = pd.Series(list(matricula))\n",
        "\n",
        "#Tabela Listas - tab_listas armazena as colunas \"id\",\"questoes, titulo\"\n",
        "tab_listas = lop_listas [[\"_id\",\"titulo\"]]\n",
        "id_lista = []\n",
        "for j in range(23):\n",
        "  id_questoes =[]\n",
        "  for i in range(19):\n",
        "    id_questoes.append(lop_listas[\"questoes.\"+str(i)][j])\n",
        "  id_lista.append(id_questoes)\n",
        "tab_listas[\"questao\"] = pd.Series(id_lista)\n",
        "\n",
        "#Tabela Submissoes - tab_sub armazena as colunas \"data\",\"porcentagemAcerto\",\"questao\", \"user\"\n",
        "tab_sub = lop_sub [[\"data\",\"porcentagemAcerto\",\"questao\", \"user\"]]\n"
      ],
      "execution_count": 0,
      "outputs": [
        {
          "output_type": "stream",
          "text": [
            "/usr/local/lib/python3.6/dist-packages/ipykernel_launcher.py:11: SettingWithCopyWarning: \n",
            "A value is trying to be set on a copy of a slice from a DataFrame.\n",
            "Try using .loc[row_indexer,col_indexer] = value instead\n",
            "\n",
            "See the caveats in the documentation: http://pandas.pydata.org/pandas-docs/stable/indexing.html#indexing-view-versus-copy\n",
            "  # This is added back by InteractiveShellApp.init_path()\n",
            "/usr/local/lib/python3.6/dist-packages/ipykernel_launcher.py:21: SettingWithCopyWarning: \n",
            "A value is trying to be set on a copy of a slice from a DataFrame.\n",
            "Try using .loc[row_indexer,col_indexer] = value instead\n",
            "\n",
            "See the caveats in the documentation: http://pandas.pydata.org/pandas-docs/stable/indexing.html#indexing-view-versus-copy\n"
          ],
          "name": "stderr"
        }
      ]
    },
    {
      "cell_type": "markdown",
      "metadata": {
        "id": "QaM3VVsfbXve",
        "colab_type": "text"
      },
      "source": [
        "**Estrutura da cada dataframe após a seleção dos dados**"
      ]
    },
    {
      "cell_type": "code",
      "metadata": {
        "id": "Kp3c-G-NbWjb",
        "colab_type": "code",
        "outputId": "90b4e9e4-9ac2-4b1c-87db-c9e2374550b5",
        "colab": {
          "base_uri": "https://localhost:8080/",
          "height": 187
        }
      },
      "source": [
        "print(\"Tabelas de Usuários Colunas \\n\",tab_user.columns, tab_user.shape)\n",
        "print(\"Tabelas de Turmas Colunas \\n\",tab_turmas.columns, tab_turmas.shape)\n",
        "print(\"Tabelas de Listas Colunas \\n\",tab_listas.columns, tab_listas.shape)\n",
        "print(\"Tabelas de Submissoes Colunas \\n\",tab_sub.columns, tab_sub.shape)"
      ],
      "execution_count": 0,
      "outputs": [
        {
          "output_type": "stream",
          "text": [
            "Tabelas de Usuários Colunas \n",
            " Index(['_id', 'matricula', 'nome'], dtype='object') (1063, 3)\n",
            "Tabelas de Turmas Colunas \n",
            " Index(['_id', 'anoPeriodoString', 'descricaoHorario', 'descricaoTurma',\n",
            "       'matricula'],\n",
            "      dtype='object') (44, 5)\n",
            "Tabelas de Listas Colunas \n",
            " Index(['_id', 'titulo', 'questao'], dtype='object') (23, 3)\n",
            "Tabelas de Submissoes Colunas \n",
            " Index(['data', 'porcentagemAcerto', 'questao', 'user'], dtype='object') (32273, 4)\n"
          ],
          "name": "stdout"
        }
      ]
    },
    {
      "cell_type": "markdown",
      "metadata": {
        "id": "eDnUAuV9QQk_",
        "colab_type": "text"
      },
      "source": [
        "**Transformar os dados da tabela User**"
      ]
    },
    {
      "cell_type": "code",
      "metadata": {
        "id": "sJXKBef0QirB",
        "colab_type": "code",
        "outputId": "8c53bab4-d65a-47b3-821d-acdf896c45cf",
        "colab": {
          "base_uri": "https://localhost:8080/",
          "height": 952
        }
      },
      "source": [
        "#Transformando todas as colunas_id e nome em strings e matricula em float\n",
        "tab_user[\"_id\"] = tab_user[\"_id\"].astype(str)\n",
        "tab_user[\"matricula\"] = tab_user[\"matricula\"].astype(str)\n",
        "tab_user[\"nome\"] = tab_user[\"nome\"].astype(str).str.upper()\n",
        "\n",
        "#renomeando a coluna _id para idAluno\n",
        "tab_user.rename(columns={\"_id\":\"id_aluno\"}, inplace=True)\n",
        "\n",
        "#Limpando a coluna matricula, onde tem .0 no final da matricula foi retirado, tive q fazer uma gambiarra pq ele estva entendendo .0 como uma expressao regular\n",
        "tab_user[\"matricula\"] = tab_user[\"matricula\"].str.replace(\".\",\"r\")\n",
        "tab_user[\"matricula\"] = tab_user[\"matricula\"].str.replace(\"r0\",\"\")\n",
        "\n",
        "\n",
        "#imprimir os dados da tabela User\n",
        "print(tab_user.info())\n",
        "tab_user.head()"
      ],
      "execution_count": 0,
      "outputs": [
        {
          "output_type": "stream",
          "text": [
            "/usr/local/lib/python3.6/dist-packages/ipykernel_launcher.py:1: SettingWithCopyWarning: \n",
            "A value is trying to be set on a copy of a slice from a DataFrame.\n",
            "Try using .loc[row_indexer,col_indexer] = value instead\n",
            "\n",
            "See the caveats in the documentation: http://pandas.pydata.org/pandas-docs/stable/indexing.html#indexing-view-versus-copy\n",
            "  \"\"\"Entry point for launching an IPython kernel.\n",
            "/usr/local/lib/python3.6/dist-packages/ipykernel_launcher.py:2: SettingWithCopyWarning: \n",
            "A value is trying to be set on a copy of a slice from a DataFrame.\n",
            "Try using .loc[row_indexer,col_indexer] = value instead\n",
            "\n",
            "See the caveats in the documentation: http://pandas.pydata.org/pandas-docs/stable/indexing.html#indexing-view-versus-copy\n",
            "  \n",
            "/usr/local/lib/python3.6/dist-packages/ipykernel_launcher.py:3: SettingWithCopyWarning: \n",
            "A value is trying to be set on a copy of a slice from a DataFrame.\n",
            "Try using .loc[row_indexer,col_indexer] = value instead\n",
            "\n",
            "See the caveats in the documentation: http://pandas.pydata.org/pandas-docs/stable/indexing.html#indexing-view-versus-copy\n",
            "  This is separate from the ipykernel package so we can avoid doing imports until\n",
            "/usr/local/lib/python3.6/dist-packages/pandas/core/frame.py:4025: SettingWithCopyWarning: \n",
            "A value is trying to be set on a copy of a slice from a DataFrame\n",
            "\n",
            "See the caveats in the documentation: http://pandas.pydata.org/pandas-docs/stable/indexing.html#indexing-view-versus-copy\n",
            "  return super(DataFrame, self).rename(**kwargs)\n",
            "/usr/local/lib/python3.6/dist-packages/ipykernel_launcher.py:9: SettingWithCopyWarning: \n",
            "A value is trying to be set on a copy of a slice from a DataFrame.\n",
            "Try using .loc[row_indexer,col_indexer] = value instead\n",
            "\n",
            "See the caveats in the documentation: http://pandas.pydata.org/pandas-docs/stable/indexing.html#indexing-view-versus-copy\n",
            "  if __name__ == '__main__':\n"
          ],
          "name": "stderr"
        },
        {
          "output_type": "stream",
          "text": [
            "<class 'pandas.core.frame.DataFrame'>\n",
            "RangeIndex: 1063 entries, 0 to 1062\n",
            "Data columns (total 3 columns):\n",
            "id_aluno     1063 non-null object\n",
            "matricula    1063 non-null object\n",
            "nome         1063 non-null object\n",
            "dtypes: object(3)\n",
            "memory usage: 25.0+ KB\n",
            "None\n"
          ],
          "name": "stdout"
        },
        {
          "output_type": "stream",
          "text": [
            "/usr/local/lib/python3.6/dist-packages/ipykernel_launcher.py:10: SettingWithCopyWarning: \n",
            "A value is trying to be set on a copy of a slice from a DataFrame.\n",
            "Try using .loc[row_indexer,col_indexer] = value instead\n",
            "\n",
            "See the caveats in the documentation: http://pandas.pydata.org/pandas-docs/stable/indexing.html#indexing-view-versus-copy\n",
            "  # Remove the CWD from sys.path while we load stuff.\n"
          ],
          "name": "stderr"
        },
        {
          "output_type": "execute_result",
          "data": {
            "text/html": [
              "<div>\n",
              "<style scoped>\n",
              "    .dataframe tbody tr th:only-of-type {\n",
              "        vertical-align: middle;\n",
              "    }\n",
              "\n",
              "    .dataframe tbody tr th {\n",
              "        vertical-align: top;\n",
              "    }\n",
              "\n",
              "    .dataframe thead th {\n",
              "        text-align: right;\n",
              "    }\n",
              "</style>\n",
              "<table border=\"1\" class=\"dataframe\">\n",
              "  <thead>\n",
              "    <tr style=\"text-align: right;\">\n",
              "      <th></th>\n",
              "      <th>id_aluno</th>\n",
              "      <th>matricula</th>\n",
              "      <th>nome</th>\n",
              "    </tr>\n",
              "  </thead>\n",
              "  <tbody>\n",
              "    <tr>\n",
              "      <th>0</th>\n",
              "      <td>598cd5453bc48946977dcf66</td>\n",
              "      <td>2013023070</td>\n",
              "      <td>GABRIEL TIBÚRCIO</td>\n",
              "    </tr>\n",
              "    <tr>\n",
              "      <th>1</th>\n",
              "      <td>598cd8b823daeb4b50a4b254</td>\n",
              "      <td>1943220</td>\n",
              "      <td>ORIVALDO</td>\n",
              "    </tr>\n",
              "    <tr>\n",
              "      <th>2</th>\n",
              "      <td>599155ebb3333c31b7a01e5b</td>\n",
              "      <td>12345678</td>\n",
              "      <td>PROFESSOR JOÃO</td>\n",
              "    </tr>\n",
              "    <tr>\n",
              "      <th>3</th>\n",
              "      <td>5991cb910be9d42f2f68b906</td>\n",
              "      <td>20170039453</td>\n",
              "      <td>AMANDA</td>\n",
              "    </tr>\n",
              "    <tr>\n",
              "      <th>4</th>\n",
              "      <td>5991cd1a8907ca2f441cd313</td>\n",
              "      <td>20170038394</td>\n",
              "      <td>EMANUEL FERNANDES P. DA ROCHA</td>\n",
              "    </tr>\n",
              "  </tbody>\n",
              "</table>\n",
              "</div>"
            ],
            "text/plain": [
              "                   id_aluno    matricula                           nome\n",
              "0  598cd5453bc48946977dcf66   2013023070               GABRIEL TIBÚRCIO\n",
              "1  598cd8b823daeb4b50a4b254      1943220                       ORIVALDO\n",
              "2  599155ebb3333c31b7a01e5b     12345678                 PROFESSOR JOÃO\n",
              "3  5991cb910be9d42f2f68b906  20170039453                         AMANDA\n",
              "4  5991cd1a8907ca2f441cd313  20170038394  EMANUEL FERNANDES P. DA ROCHA"
            ]
          },
          "metadata": {
            "tags": []
          },
          "execution_count": 54
        }
      ]
    },
    {
      "cell_type": "markdown",
      "metadata": {
        "id": "qY7YVa_vAKMh",
        "colab_type": "text"
      },
      "source": [
        "**Expandi a tabela turmas para que cada aluno seja uma linha do dataframe**"
      ]
    },
    {
      "cell_type": "code",
      "metadata": {
        "id": "XeYh8StTIoWs",
        "colab_type": "code",
        "outputId": "7ba0dbee-1f75-4083-abb7-db91c0de2946",
        "colab": {
          "base_uri": "https://localhost:8080/",
          "height": 360
        }
      },
      "source": [
        "colunas = [\"id_turma\",\"ano\",\"descricaoHorario\",\"descricaoTurma\",\"matricula\"]\n",
        "turmasNovo = pd.DataFrame(columns=colunas)\n",
        "for i in range(44):\n",
        "  id_turma=tab_turmas[\"_id\"].iloc[i]\n",
        "  ano=tab_turmas[\"anoPeriodoString\"].iloc[i]\n",
        "  descricaoHorario= tab_turmas[\"descricaoHorario\"].iloc[i]\n",
        "  descricaoTurma= tab_turmas[\"descricaoTurma\"].iloc[i]\n",
        "  m=tab_turmas[\"matricula\"].iloc[i]\n",
        "  for a in range(30):\n",
        "      matricula=m[a]\n",
        "      dic = {\"id_turma\": id_turma ,\"ano\": ano ,\"descricaoTurma\":descricaoTurma , \"descricaoHorario\":descricaoHorario, \"matricula\":matricula}\n",
        "      turmasNovo = pd.concat([turmasNovo, pd.DataFrame(dic, index=[0])],  ignore_index=True )\n",
        "    \n",
        "print(turmasNovo.shape)\n",
        "turmasNovo.info()"
      ],
      "execution_count": 0,
      "outputs": [
        {
          "output_type": "stream",
          "text": [
            "/usr/local/lib/python3.6/dist-packages/ipykernel_launcher.py:12: FutureWarning: Sorting because non-concatenation axis is not aligned. A future version\n",
            "of pandas will change to not sort by default.\n",
            "\n",
            "To accept the future behavior, pass 'sort=False'.\n",
            "\n",
            "To retain the current behavior and silence the warning, pass 'sort=True'.\n",
            "\n",
            "  if sys.path[0] == '':\n"
          ],
          "name": "stderr"
        },
        {
          "output_type": "stream",
          "text": [
            "(1320, 5)\n",
            "<class 'pandas.core.frame.DataFrame'>\n",
            "RangeIndex: 1320 entries, 0 to 1319\n",
            "Data columns (total 5 columns):\n",
            "ano                 1320 non-null float64\n",
            "descricaoHorario    1320 non-null object\n",
            "descricaoTurma      1320 non-null object\n",
            "id_turma            1320 non-null object\n",
            "matricula           1028 non-null object\n",
            "dtypes: float64(1), object(4)\n",
            "memory usage: 51.6+ KB\n"
          ],
          "name": "stdout"
        }
      ]
    },
    {
      "cell_type": "markdown",
      "metadata": {
        "id": "i2lr8ckEmeGq",
        "colab_type": "text"
      },
      "source": [
        "**Apagar os registros onde o campo da coluna Matricula é nulo**"
      ]
    },
    {
      "cell_type": "code",
      "metadata": {
        "id": "ERu1FnXNmdve",
        "colab_type": "code",
        "outputId": "4b0c7817-2473-4142-f381-d64a650dfc82",
        "colab": {
          "base_uri": "https://localhost:8080/",
          "height": 204
        }
      },
      "source": [
        "turmasNovo = turmasNovo.dropna(axis=0, how='any')\n",
        "print(turmasNovo.shape)\n",
        "turmasNovo.info()"
      ],
      "execution_count": 0,
      "outputs": [
        {
          "output_type": "stream",
          "text": [
            "(1028, 5)\n",
            "<class 'pandas.core.frame.DataFrame'>\n",
            "Int64Index: 1028 entries, 0 to 1319\n",
            "Data columns (total 5 columns):\n",
            "ano                 1028 non-null float64\n",
            "descricaoHorario    1028 non-null object\n",
            "descricaoTurma      1028 non-null object\n",
            "id_turma            1028 non-null object\n",
            "matricula           1028 non-null object\n",
            "dtypes: float64(1), object(4)\n",
            "memory usage: 48.2+ KB\n"
          ],
          "name": "stdout"
        }
      ]
    },
    {
      "cell_type": "markdown",
      "metadata": {
        "id": "WpkOMzzEnRTl",
        "colab_type": "text"
      },
      "source": [
        "**Transformar os dados da tabela Turmas**"
      ]
    },
    {
      "cell_type": "code",
      "metadata": {
        "id": "s7ugdXsFnMlb",
        "colab_type": "code",
        "outputId": "f4117bf1-2247-4c35-d542-0a61d926b59d",
        "colab": {
          "base_uri": "https://localhost:8080/",
          "height": 340
        }
      },
      "source": [
        "#Transformando as colunas em string\n",
        "turmasNovo[\"descricaoHorario\"] =turmasNovo['descricaoHorario'].astype(str)\n",
        "turmasNovo[\"descricaoTurma\"] =turmasNovo['descricaoTurma'].astype(str)\n",
        "turmasNovo[\"id_turma\"] =turmasNovo['id_turma'].astype(str)\n",
        "turmasNovo[\"matricula\"] =turmasNovo['matricula'].astype(str)                                   \n",
        "#Retirando o .0 da coluna matricula\n",
        "turmasNovo[\"matricula\"] = turmasNovo[\"matricula\"].str.replace(\".\",\"r\")\n",
        "turmasNovo[\"matricula\"] = turmasNovo[\"matricula\"].str.replace(\"r0\",\"\")\n",
        "\n",
        "print(turmasNovo.info())\n",
        "print(turmasNovo.head()) "
      ],
      "execution_count": 0,
      "outputs": [
        {
          "output_type": "stream",
          "text": [
            "<class 'pandas.core.frame.DataFrame'>\n",
            "Int64Index: 1028 entries, 0 to 1319\n",
            "Data columns (total 5 columns):\n",
            "ano                 1028 non-null float64\n",
            "descricaoHorario    1028 non-null object\n",
            "descricaoTurma      1028 non-null object\n",
            "id_turma            1028 non-null object\n",
            "matricula           1028 non-null object\n",
            "dtypes: float64(1), object(4)\n",
            "memory usage: 48.2+ KB\n",
            "None\n",
            "      ano  ...    matricula\n",
            "0  2017.2  ...  20170106538\n",
            "1  2017.2  ...  20170039453\n",
            "2  2017.2  ...  20170044776\n",
            "3  2017.2  ...  20170031473\n",
            "4  2017.2  ...  20170032274\n",
            "\n",
            "[5 rows x 5 columns]\n"
          ],
          "name": "stdout"
        }
      ]
    },
    {
      "cell_type": "markdown",
      "metadata": {
        "id": "9JaP_RccBmOM",
        "colab_type": "text"
      },
      "source": [
        "**Tem matriculas em mais de uma turma**"
      ]
    },
    {
      "cell_type": "code",
      "metadata": {
        "id": "8v0yHpts_EUw",
        "colab_type": "code",
        "outputId": "3cf3f640-8e23-45fa-c596-b57bf6fc2060",
        "colab": {
          "base_uri": "https://localhost:8080/",
          "height": 289
        }
      },
      "source": [
        "#total de matriculas únicas \n",
        "print(\"Total de matriculas únicas: \",  turmasNovo[\"matricula\"].unique().shape)\n",
        "resultado = turmasNovo.groupby([\"matricula\"]).count()\n",
        "resultado = resultado.reset_index()\n",
        "print(resultado.loc[resultado[\"id_turma\"]==3,\"matricula\"])\n",
        "# tem 917 matriculas em estão em apenas 1 turma \n",
        "# tem 80 matriculas que estão em 2 turmas cadastradas\n",
        "# tem 14 matriculas que estão em 3 turmas cadastradas\n",
        "\n"
      ],
      "execution_count": 0,
      "outputs": [
        {
          "output_type": "stream",
          "text": [
            "Total de matriculas únicas:  (917,)\n",
            "19      2015010295\n",
            "72      2016012150\n",
            "83     20160141847\n",
            "85     20160142011\n",
            "131     2016020670\n",
            "146     2016097424\n",
            "159    20170030494\n",
            "275    20170036059\n",
            "289    20170036792\n",
            "330    20170039551\n",
            "347    20170041110\n",
            "399    20170044810\n",
            "526    20170138442\n",
            "575    20170183297\n",
            "Name: matricula, dtype: object\n"
          ],
          "name": "stdout"
        }
      ]
    },
    {
      "cell_type": "markdown",
      "metadata": {
        "id": "Z4XsPWbVP0s7",
        "colab_type": "text"
      },
      "source": [
        "**Montar uma turma por ano e descrição**"
      ]
    },
    {
      "cell_type": "code",
      "metadata": {
        "id": "IjdbNngucif0",
        "colab_type": "code",
        "outputId": "b30209d4-5c0b-46fb-a689-39930598c9ad",
        "colab": {
          "base_uri": "https://localhost:8080/",
          "height": 561
        }
      },
      "source": [
        "turmasNovoAno=turmasNovo.loc[turmasNovo[\"ano\"] == 2018.2, [\"matricula\",\"descricaoTurma\",\"ano\"]] \n",
        "turmaDescricao = turmasNovoAno.loc[turmasNovoAno[\"descricaoTurma\"].str.contains('Turma 03A', regex=False), [\"matricula\",\"descricaoTurma\",\"ano\"]]\n",
        "print(turmaDescricao.sort_values(by=['matricula']))\n",
        "print(\"Quantidade de alunos \", turmaDescricao.shape)"
      ],
      "execution_count": 0,
      "outputs": [
        {
          "output_type": "stream",
          "text": [
            "       matricula                     descricaoTurma     ano\n",
            "745  20180029933  LÓGICA DE PROGRAMAÇÃO - Turma 03A  2018.2\n",
            "722  20180030059  LÓGICA DE PROGRAMAÇÃO - Turma 03A  2018.2\n",
            "749  20180030193  LÓGICA DE PROGRAMAÇÃO - Turma 03A  2018.2\n",
            "730  20180030498  LÓGICA DE PROGRAMAÇÃO - Turma 03A  2018.2\n",
            "728  20180030658  LÓGICA DE PROGRAMAÇÃO - Turma 03A  2018.2\n",
            "721  20180030836  LÓGICA DE PROGRAMAÇÃO - Turma 03A  2018.2\n",
            "734  20180031637  LÓGICA DE PROGRAMAÇÃO - Turma 03A  2018.2\n",
            "742  20180032518  LÓGICA DE PROGRAMAÇÃO - Turma 03A  2018.2\n",
            "732  20180032554  LÓGICA DE PROGRAMAÇÃO - Turma 03A  2018.2\n",
            "748  20180032714  LÓGICA DE PROGRAMAÇÃO - Turma 03A  2018.2\n",
            "740  20180032877  LÓGICA DE PROGRAMAÇÃO - Turma 03A  2018.2\n",
            "747  20180033337  LÓGICA DE PROGRAMAÇÃO - Turma 03A  2018.2\n",
            "739  20180033391  LÓGICA DE PROGRAMAÇÃO - Turma 03A  2018.2\n",
            "737  20180034030  LÓGICA DE PROGRAMAÇÃO - Turma 03A  2018.2\n",
            "746  20180035411  LÓGICA DE PROGRAMAÇÃO - Turma 03A  2018.2\n",
            "738  20180035494  LÓGICA DE PROGRAMAÇÃO - Turma 03A  2018.2\n",
            "726  20180036535  LÓGICA DE PROGRAMAÇÃO - Turma 03A  2018.2\n",
            "735  20180037336  LÓGICA DE PROGRAMAÇÃO - Turma 03A  2018.2\n",
            "744  20180037695  LÓGICA DE PROGRAMAÇÃO - Turma 03A  2018.2\n",
            "733  20180039410  LÓGICA DE PROGRAMAÇÃO - Turma 03A  2018.2\n",
            "736  20180039617  LÓGICA DE PROGRAMAÇÃO - Turma 03A  2018.2\n",
            "720  20180039911  LÓGICA DE PROGRAMAÇÃO - Turma 03A  2018.2\n",
            "731  20180040055  LÓGICA DE PROGRAMAÇÃO - Turma 03A  2018.2\n",
            "729  20180040995  LÓGICA DE PROGRAMAÇÃO - Turma 03A  2018.2\n",
            "723  20180041651  LÓGICA DE PROGRAMAÇÃO - Turma 03A  2018.2\n",
            "741  20180041811  LÓGICA DE PROGRAMAÇÃO - Turma 03A  2018.2\n",
            "727  20180042176  LÓGICA DE PROGRAMAÇÃO - Turma 03A  2018.2\n",
            "743  20180043253  LÓGICA DE PROGRAMAÇÃO - Turma 03A  2018.2\n",
            "724  20180088630  LÓGICA DE PROGRAMAÇÃO - Turma 03A  2018.2\n",
            "725  20180110688  LÓGICA DE PROGRAMAÇÃO - Turma 03A  2018.2\n",
            "Quantidade de alunos  (30, 3)\n"
          ],
          "name": "stdout"
        }
      ]
    },
    {
      "cell_type": "markdown",
      "metadata": {
        "id": "vJQwFhPKAdsk",
        "colab_type": "text"
      },
      "source": [
        "**Concatenar a tabela usuarios com a tabela turmas pela coluna matricula**"
      ]
    },
    {
      "cell_type": "code",
      "metadata": {
        "id": "m42Dn8vrjMT3",
        "colab_type": "code",
        "outputId": "ac7d319b-0b3e-40bc-eca4-6ff363a06dc5",
        "colab": {
          "base_uri": "https://localhost:8080/",
          "height": 68
        }
      },
      "source": [
        "merge_user_turmas = pd.merge(right = tab_user, left = turmasNovo, on='matricula', how=\"left\")\n",
        "print(\"Quantidade de matriculas em user \",tab_user[\"matricula\"].shape )\n",
        "print(\"Quantidade de matriculas em turmasNovo \",turmasNovo[\"matricula\"].shape )\n",
        "print(\"Quantidade de matriculas depois de juntar as tabelas user e turmas \",merge_user_turmas[\"matricula\"].shape )\n",
        "# Existem matriculas na tabela turmas que não se cadastraram no sistema?"
      ],
      "execution_count": 0,
      "outputs": [
        {
          "output_type": "stream",
          "text": [
            "Quantidade de matriculas em user  (1063,)\n",
            "Quantidade de matriculas em turmasNovo  (1028,)\n",
            "Quantidade de matriculas depois de juntar as tabelas user e turmas  (1028,)\n"
          ],
          "name": "stdout"
        }
      ]
    },
    {
      "cell_type": "code",
      "metadata": {
        "id": "E-kpT-UFgQZf",
        "colab_type": "code",
        "outputId": "bae2c8da-ed9b-4167-9532-0bbe53e60eaa",
        "colab": {
          "base_uri": "https://localhost:8080/",
          "height": 221
        }
      },
      "source": [
        "merge_user_turmas.info()"
      ],
      "execution_count": 0,
      "outputs": [
        {
          "output_type": "stream",
          "text": [
            "<class 'pandas.core.frame.DataFrame'>\n",
            "Int64Index: 1028 entries, 0 to 1027\n",
            "Data columns (total 7 columns):\n",
            "ano                 1028 non-null float64\n",
            "descricaoHorario    1028 non-null object\n",
            "descricaoTurma      1028 non-null object\n",
            "id_turma            1028 non-null object\n",
            "matricula           1028 non-null object\n",
            "id_aluno            936 non-null object\n",
            "nome                936 non-null object\n",
            "dtypes: float64(1), object(6)\n",
            "memory usage: 64.2+ KB\n"
          ],
          "name": "stdout"
        }
      ]
    },
    {
      "cell_type": "code",
      "metadata": {
        "id": "kTgHhJV0Ksza",
        "colab_type": "code",
        "outputId": "7a71ae77-a499-46a8-c67b-43e864b71f79",
        "colab": {
          "base_uri": "https://localhost:8080/",
          "height": 1105
        }
      },
      "source": [
        "# Existem 92 matriculas que não tem registro no sistema\n",
        "print(merge_user_turmas.loc[merge_user_turmas[\"id_aluno\"].isna(), [\"id_aluno\",\"matricula\", \"descricaoTurma\", \"ano\"]].sort_values(by=['matricula']))"
      ],
      "execution_count": 0,
      "outputs": [
        {
          "output_type": "stream",
          "text": [
            "    id_aluno    matricula                     descricaoTurma     ano\n",
            "246      NaN   2012927879  LÓGICA DE PROGRAMAÇÃO - Turma 03A  2017.2\n",
            "189      NaN   2014047915  LÓGICA DE PROGRAMAÇÃO - Turma 02C  2017.2\n",
            "347      NaN   2014074420  LÓGICA DE PROGRAMAÇÃO - Turma 01D  2018.1\n",
            "301      NaN   2014084786  LÓGICA DE PROGRAMAÇÃO - Turma 03D  2017.2\n",
            "543      NaN   2014089272  LÓGICA DE PROGRAMAÇÃO - Turma 03B  2018.1\n",
            "27       NaN   2014096268  LÓGICA DE PROGRAMAÇÃO - Turma 01B  2017.2\n",
            "417      NaN   2015011775  LÓGICA DE PROGRAMAÇÃO - Turma 01A  2018.1\n",
            "68       NaN  20150125447  LÓGICA DE PROGRAMAÇÃO - Turma 01C  2017.2\n",
            "684      NaN  20150126140  LÓGICA DE PROGRAMAÇÃO - Turma 01A  2018.2\n",
            "75       NaN  20150127067  LÓGICA DE PROGRAMAÇÃO - Turma 01C  2017.2\n",
            "819      NaN  20150127700  LÓGICA DE PROGRAMAÇÃO - Turma 01D  2018.2\n",
            "31       NaN   2015014276  LÓGICA DE PROGRAMAÇÃO - Turma 01B  2017.2\n",
            "284      NaN   2015017410  LÓGICA DE PROGRAMAÇÃO - Turma 03C  2017.2\n",
            "803      NaN   2015017714  LÓGICA DE PROGRAMAÇÃO - Turma 01C  2018.2\n",
            "220      NaN   2015017797  LÓGICA DE PROGRAMAÇÃO - Turma 02D  2017.2\n",
            "393      NaN   2015018515  LÓGICA DE PROGRAMAÇÃO - Turma 01B  2018.1\n",
            "146      NaN   2015092110  LÓGICA DE PROGRAMAÇÃO - Turma 02B  2017.2\n",
            "67       NaN   2015092352  LÓGICA DE PROGRAMAÇÃO - Turma 01C  2017.2\n",
            "257      NaN   2015093879  LÓGICA DE PROGRAMAÇÃO - Turma 03B  2017.2\n",
            "223      NaN   2015096431  LÓGICA DE PROGRAMAÇÃO - Turma 03A  2017.2\n",
            "170      NaN  20160002932  LÓGICA DE PROGRAMAÇÃO - Turma 02C  2017.2\n",
            "779      NaN  20160107685  LÓGICA DE PROGRAMAÇÃO - Turma 02D  2018.2\n",
            "108      NaN  20160108889  LÓGICA DE PROGRAMAÇÃO - Turma 01D  2017.2\n",
            "551      NaN   2016011850  LÓGICA DE PROGRAMAÇÃO - Turma 03B  2018.1\n",
            "71       NaN   2016012454  LÓGICA DE PROGRAMAÇÃO - Turma 01C  2017.2\n",
            "840      NaN   2016013578  LÓGICA DE PROGRAMAÇÃO - Turma 02A  2019.1\n",
            "244      NaN  20160141874  LÓGICA DE PROGRAMAÇÃO - Turma 03A  2017.2\n",
            "529      NaN  20160142521  LÓGICA DE PROGRAMAÇÃO - Turma 03A  2018.1\n",
            "853      NaN  20160143681  LÓGICA DE PROGRAMAÇÃO - Turma 02B  2019.1\n",
            "498      NaN  20160143814  LÓGICA DE PROGRAMAÇÃO - Turma 03C  2018.1\n",
            "..       ...          ...                                ...     ...\n",
            "488      NaN  20170100211  LÓGICA DE PROGRAMAÇÃO - Turma 03D  2018.1\n",
            "814      NaN  20170117602  LÓGICA DE PROGRAMAÇÃO - Turma 01D  2018.2\n",
            "492      NaN  20170117980  LÓGICA DE PROGRAMAÇÃO - Turma 03D  2018.1\n",
            "547      NaN  20170118065  LÓGICA DE PROGRAMAÇÃO - Turma 03B  2018.1\n",
            "934      NaN  20170118440  LÓGICA DE PROGRAMAÇÃO - Turma 01A  2019.1\n",
            "640      NaN  20170118520  LÓGICA DE PROGRAMAÇÃO - Turma 03C  2018.2\n",
            "737      NaN  20170133651  LÓGICA DE PROGRAMAÇÃO - Turma 02B  2018.2\n",
            "877      NaN  20170137703  LÓGICA DE PROGRAMAÇÃO - Turma 02C  2019.1\n",
            "463      NaN  20170137768  LÓGICA DE PROGRAMAÇÃO - Turma 02D  2018.1\n",
            "621      NaN  20170137955  LÓGICA DE PROGRAMAÇÃO - Turma 03C  2018.2\n",
            "426      NaN  20170138658  LÓGICA DE PROGRAMAÇÃO - Turma 02B  2018.1\n",
            "805      NaN  20170139163  LÓGICA DE PROGRAMAÇÃO - Turma 01C  2018.2\n",
            "407      NaN  20170147325  LÓGICA DE PROGRAMAÇÃO - Turma 01A  2018.1\n",
            "335      NaN  20170147380  LÓGICA DE PROGRAMAÇÃO - Turma 01D  2018.1\n",
            "338      NaN  20170147414  LÓGICA DE PROGRAMAÇÃO - Turma 01D  2018.1\n",
            "358      NaN  20170183072  LÓGICA DE PROGRAMAÇÃO - Turma 01C  2018.1\n",
            "497      NaN  20170183143  LÓGICA DE PROGRAMAÇÃO - Turma 03C  2018.1\n",
            "747      NaN  20180029890  LÓGICA DE PROGRAMAÇÃO - Turma 02C  2018.2\n",
            "744      NaN  20180030012  LÓGICA DE PROGRAMAÇÃO - Turma 02B  2018.2\n",
            "655      NaN  20180030335  LÓGICA DE PROGRAMAÇÃO - Turma 03D  2018.2\n",
            "749      NaN  20180033936  LÓGICA DE PROGRAMAÇÃO - Turma 02C  2018.2\n",
            "850      NaN  20180033954  LÓGICA DE PROGRAMAÇÃO - Turma 02B  2019.1\n",
            "865      NaN  20180037677  LÓGICA DE PROGRAMAÇÃO - Turma 02C  2019.1\n",
            "611      NaN  20180041894  LÓGICA DE PROGRAMAÇÃO - Turma 03B  2018.2\n",
            "811      NaN  20180093470  LÓGICA DE PROGRAMAÇÃO - Turma 01D  2018.2\n",
            "838      NaN  20180107047  LÓGICA DE PROGRAMAÇÃO - Turma 02A  2019.1\n",
            "935      NaN  20180134975  LÓGICA DE PROGRAMAÇÃO - Turma 01A  2019.1\n",
            "982      NaN  20180135696  LÓGICA DE PROGRAMAÇÃO - Turma 01B  2019.1\n",
            "872      NaN  20180136399  LÓGICA DE PROGRAMAÇÃO - Turma 02C  2019.1\n",
            "830      NaN  20190073111  LÓGICA DE PROGRAMAÇÃO - Turma 02A  2019.1\n",
            "\n",
            "[92 rows x 4 columns]\n"
          ],
          "name": "stdout"
        }
      ]
    },
    {
      "cell_type": "markdown",
      "metadata": {
        "id": "VbJai7V0t9IZ",
        "colab_type": "text"
      },
      "source": [
        "**Montar a turma pelo ano e pela descrição da turma**"
      ]
    },
    {
      "cell_type": "code",
      "metadata": {
        "id": "XiH9tJ4ui200",
        "colab_type": "code",
        "outputId": "3d0c7123-f65e-4ff8-858c-dbd4e663c7b3",
        "colab": {
          "base_uri": "https://localhost:8080/",
          "height": 34
        }
      },
      "source": [
        "turmaAno=merge_user_turmas.loc[merge_user_turmas[\"ano\"] == 2018.2, [\"matricula\",'nome',\"descricaoTurma\",\"ano\", \"id_aluno\", \"descricaoHorario\",\"id_turma\"]] \n",
        "turmaDescricao = turmaAno.loc[turmaAno[\"descricaoTurma\"].str.contains('Turma 03A', regex=False), [\"matricula\",'nome',\"descricaoTurma\",\"ano\",\"id_aluno\",\"descricaoHorario\",\"id_turma\"]]\n",
        "turmaDescricao.shape\n"
      ],
      "execution_count": 0,
      "outputs": [
        {
          "output_type": "execute_result",
          "data": {
            "text/plain": [
              "(30, 7)"
            ]
          },
          "metadata": {
            "tags": []
          },
          "execution_count": 63
        }
      ]
    },
    {
      "cell_type": "markdown",
      "metadata": {
        "id": "5rorxQRgxbBu",
        "colab_type": "text"
      },
      "source": [
        "**Expandir a tabela listas para que cada questão seja uma linha da tabela**"
      ]
    },
    {
      "cell_type": "code",
      "metadata": {
        "id": "svlyhJWyxKVn",
        "colab_type": "code",
        "outputId": "bf3777ed-a2a4-4c38-f92e-0bb7f736d68c",
        "colab": {
          "base_uri": "https://localhost:8080/",
          "height": 326
        }
      },
      "source": [
        "colunas = [\"id_lista\",\"questao\",\"titulo\"]\n",
        "listaNovo = pd.DataFrame(columns=colunas)\n",
        "for i in range(23):\n",
        "  id_lista=tab_listas[\"_id\"].iloc[i]\n",
        "  titulo=tab_listas[\"titulo\"].iloc[i]\n",
        "  j=tab_listas[\"questao\"].iloc[i]\n",
        "  for a in range(18):\n",
        "      questao=j[a]\n",
        "      dic = {\"id_lista\": id_lista ,\"titulo\":titulo, \"questao\": questao }\n",
        "      listaNovo = pd.concat([listaNovo, pd.DataFrame(dic, index=[0])],  ignore_index=True )\n",
        "    \n",
        "print(listaNovo.shape)\n",
        "listaNovo.info()"
      ],
      "execution_count": 0,
      "outputs": [
        {
          "output_type": "stream",
          "text": [
            "/usr/local/lib/python3.6/dist-packages/ipykernel_launcher.py:10: FutureWarning: Sorting because non-concatenation axis is not aligned. A future version\n",
            "of pandas will change to not sort by default.\n",
            "\n",
            "To accept the future behavior, pass 'sort=False'.\n",
            "\n",
            "To retain the current behavior and silence the warning, pass 'sort=True'.\n",
            "\n",
            "  # Remove the CWD from sys.path while we load stuff.\n"
          ],
          "name": "stderr"
        },
        {
          "output_type": "stream",
          "text": [
            "(414, 3)\n",
            "<class 'pandas.core.frame.DataFrame'>\n",
            "RangeIndex: 414 entries, 0 to 413\n",
            "Data columns (total 3 columns):\n",
            "id_lista    414 non-null object\n",
            "questao     173 non-null object\n",
            "titulo      414 non-null object\n",
            "dtypes: object(3)\n",
            "memory usage: 9.8+ KB\n"
          ],
          "name": "stdout"
        }
      ]
    },
    {
      "cell_type": "markdown",
      "metadata": {
        "id": "-N5umquF0hUZ",
        "colab_type": "text"
      },
      "source": [
        "**Apagar os registros onde o campo da coluna questao é nulo**\n",
        "\n",
        "\n"
      ]
    },
    {
      "cell_type": "code",
      "metadata": {
        "id": "tkwlznQQ0gUG",
        "colab_type": "code",
        "outputId": "5576b49c-416c-4d8c-fe27-660dfd583832",
        "colab": {
          "base_uri": "https://localhost:8080/",
          "height": 34
        }
      },
      "source": [
        "listaNovo = listaNovo.dropna(axis=0, how='any')\n",
        "print(listaNovo.shape)\n",
        "\n"
      ],
      "execution_count": 0,
      "outputs": [
        {
          "output_type": "stream",
          "text": [
            "(173, 3)\n"
          ],
          "name": "stdout"
        }
      ]
    },
    {
      "cell_type": "markdown",
      "metadata": {
        "id": "k0dBYtBB6uZE",
        "colab_type": "text"
      },
      "source": [
        "**Cirar um novo campo na tabela ListaNovo com a quantidade de questões por lista**"
      ]
    },
    {
      "cell_type": "code",
      "metadata": {
        "id": "zXCDuMZj4t7V",
        "colab_type": "code",
        "outputId": "c60f448b-8e94-4891-b329-1dce662f1902",
        "colab": {
          "base_uri": "https://localhost:8080/",
          "height": 1969
        }
      },
      "source": [
        "listaNovo.columns\n",
        "quantidade=listaNovo.groupby(\"id_lista\").count()\n",
        "quantidade = quantidade.reset_index()\n",
        "quantidade = quantidade.drop('titulo',axis=1)\n",
        "quantidade.rename(columns={\"questao\":\"quantidade\"}, inplace=True)\n",
        "listaNovo= pd.merge(left = listaNovo, right = quantidade, on='id_lista', how=\"right\")\n",
        "listaNovo"
      ],
      "execution_count": 0,
      "outputs": [
        {
          "output_type": "execute_result",
          "data": {
            "text/html": [
              "<div>\n",
              "<style scoped>\n",
              "    .dataframe tbody tr th:only-of-type {\n",
              "        vertical-align: middle;\n",
              "    }\n",
              "\n",
              "    .dataframe tbody tr th {\n",
              "        vertical-align: top;\n",
              "    }\n",
              "\n",
              "    .dataframe thead th {\n",
              "        text-align: right;\n",
              "    }\n",
              "</style>\n",
              "<table border=\"1\" class=\"dataframe\">\n",
              "  <thead>\n",
              "    <tr style=\"text-align: right;\">\n",
              "      <th></th>\n",
              "      <th>id_lista</th>\n",
              "      <th>questao</th>\n",
              "      <th>titulo</th>\n",
              "      <th>quantidade</th>\n",
              "    </tr>\n",
              "  </thead>\n",
              "  <tbody>\n",
              "    <tr>\n",
              "      <th>0</th>\n",
              "      <td>598cd57a3bc48946977dcf67</td>\n",
              "      <td>59885f8d684f4a3f78163c00</td>\n",
              "      <td>Lista de Laboratório 1 - Expressões Aritmética...</td>\n",
              "      <td>5</td>\n",
              "    </tr>\n",
              "    <tr>\n",
              "      <th>1</th>\n",
              "      <td>598cd57a3bc48946977dcf67</td>\n",
              "      <td>59887121d7c3703f96fda00c</td>\n",
              "      <td>Lista de Laboratório 1 - Expressões Aritmética...</td>\n",
              "      <td>5</td>\n",
              "    </tr>\n",
              "    <tr>\n",
              "      <th>2</th>\n",
              "      <td>598cd57a3bc48946977dcf67</td>\n",
              "      <td>59887c83684f4a3f78163c02</td>\n",
              "      <td>Lista de Laboratório 1 - Expressões Aritmética...</td>\n",
              "      <td>5</td>\n",
              "    </tr>\n",
              "    <tr>\n",
              "      <th>3</th>\n",
              "      <td>598cd57a3bc48946977dcf67</td>\n",
              "      <td>59888cb2d2f43b3f548ef054</td>\n",
              "      <td>Lista de Laboratório 1 - Expressões Aritmética...</td>\n",
              "      <td>5</td>\n",
              "    </tr>\n",
              "    <tr>\n",
              "      <th>4</th>\n",
              "      <td>598cd57a3bc48946977dcf67</td>\n",
              "      <td>59888ea5d2f43b3f548ef057</td>\n",
              "      <td>Lista de Laboratório 1 - Expressões Aritmética...</td>\n",
              "      <td>5</td>\n",
              "    </tr>\n",
              "    <tr>\n",
              "      <th>5</th>\n",
              "      <td>599ae0e1872c0a078b68b13e</td>\n",
              "      <td>599a32d6d9b4c2079007acb4</td>\n",
              "      <td>Lista de Laboratório 2 - Expressões Lógicas e ...</td>\n",
              "      <td>5</td>\n",
              "    </tr>\n",
              "    <tr>\n",
              "      <th>6</th>\n",
              "      <td>599ae0e1872c0a078b68b13e</td>\n",
              "      <td>599ad39ed9b4c2079007acb8</td>\n",
              "      <td>Lista de Laboratório 2 - Expressões Lógicas e ...</td>\n",
              "      <td>5</td>\n",
              "    </tr>\n",
              "    <tr>\n",
              "      <th>7</th>\n",
              "      <td>599ae0e1872c0a078b68b13e</td>\n",
              "      <td>599ad893d9b4c2079007acbd</td>\n",
              "      <td>Lista de Laboratório 2 - Expressões Lógicas e ...</td>\n",
              "      <td>5</td>\n",
              "    </tr>\n",
              "    <tr>\n",
              "      <th>8</th>\n",
              "      <td>599ae0e1872c0a078b68b13e</td>\n",
              "      <td>599adae4d9b4c2079007acc3</td>\n",
              "      <td>Lista de Laboratório 2 - Expressões Lógicas e ...</td>\n",
              "      <td>5</td>\n",
              "    </tr>\n",
              "    <tr>\n",
              "      <th>9</th>\n",
              "      <td>599ae0e1872c0a078b68b13e</td>\n",
              "      <td>599ae054495fac076a06d3ef</td>\n",
              "      <td>Lista de Laboratório 2 - Expressões Lógicas e ...</td>\n",
              "      <td>5</td>\n",
              "    </tr>\n",
              "    <tr>\n",
              "      <th>10</th>\n",
              "      <td>599c901000cd0a0e8e342505</td>\n",
              "      <td>59986ee1aa6c19020665d5ec</td>\n",
              "      <td>Lista de Exercícios 2 - Estruturas Condicionais</td>\n",
              "      <td>18</td>\n",
              "    </tr>\n",
              "    <tr>\n",
              "      <th>11</th>\n",
              "      <td>599c901000cd0a0e8e342505</td>\n",
              "      <td>599871e1a9ad3601f087502a</td>\n",
              "      <td>Lista de Exercícios 2 - Estruturas Condicionais</td>\n",
              "      <td>18</td>\n",
              "    </tr>\n",
              "    <tr>\n",
              "      <th>12</th>\n",
              "      <td>599c901000cd0a0e8e342505</td>\n",
              "      <td>5998737a54b78701f54e9666</td>\n",
              "      <td>Lista de Exercícios 2 - Estruturas Condicionais</td>\n",
              "      <td>18</td>\n",
              "    </tr>\n",
              "    <tr>\n",
              "      <th>13</th>\n",
              "      <td>599c901000cd0a0e8e342505</td>\n",
              "      <td>5998793aaa6c19020665d5f2</td>\n",
              "      <td>Lista de Exercícios 2 - Estruturas Condicionais</td>\n",
              "      <td>18</td>\n",
              "    </tr>\n",
              "    <tr>\n",
              "      <th>14</th>\n",
              "      <td>599c901000cd0a0e8e342505</td>\n",
              "      <td>59987b6ba9ad3601f0875030</td>\n",
              "      <td>Lista de Exercícios 2 - Estruturas Condicionais</td>\n",
              "      <td>18</td>\n",
              "    </tr>\n",
              "    <tr>\n",
              "      <th>15</th>\n",
              "      <td>599c901000cd0a0e8e342505</td>\n",
              "      <td>59987cdfa9ad3601f0875034</td>\n",
              "      <td>Lista de Exercícios 2 - Estruturas Condicionais</td>\n",
              "      <td>18</td>\n",
              "    </tr>\n",
              "    <tr>\n",
              "      <th>16</th>\n",
              "      <td>599c901000cd0a0e8e342505</td>\n",
              "      <td>599a32d6d9b4c2079007acb4</td>\n",
              "      <td>Lista de Exercícios 2 - Estruturas Condicionais</td>\n",
              "      <td>18</td>\n",
              "    </tr>\n",
              "    <tr>\n",
              "      <th>17</th>\n",
              "      <td>599c901000cd0a0e8e342505</td>\n",
              "      <td>599ad39ed9b4c2079007acb8</td>\n",
              "      <td>Lista de Exercícios 2 - Estruturas Condicionais</td>\n",
              "      <td>18</td>\n",
              "    </tr>\n",
              "    <tr>\n",
              "      <th>18</th>\n",
              "      <td>599c901000cd0a0e8e342505</td>\n",
              "      <td>599ad893d9b4c2079007acbd</td>\n",
              "      <td>Lista de Exercícios 2 - Estruturas Condicionais</td>\n",
              "      <td>18</td>\n",
              "    </tr>\n",
              "    <tr>\n",
              "      <th>19</th>\n",
              "      <td>599c901000cd0a0e8e342505</td>\n",
              "      <td>599adae4d9b4c2079007acc3</td>\n",
              "      <td>Lista de Exercícios 2 - Estruturas Condicionais</td>\n",
              "      <td>18</td>\n",
              "    </tr>\n",
              "    <tr>\n",
              "      <th>20</th>\n",
              "      <td>599c901000cd0a0e8e342505</td>\n",
              "      <td>599ae054495fac076a06d3ef</td>\n",
              "      <td>Lista de Exercícios 2 - Estruturas Condicionais</td>\n",
              "      <td>18</td>\n",
              "    </tr>\n",
              "    <tr>\n",
              "      <th>21</th>\n",
              "      <td>599c901000cd0a0e8e342505</td>\n",
              "      <td>599c7401f3b5c20e93bcb46c</td>\n",
              "      <td>Lista de Exercícios 2 - Estruturas Condicionais</td>\n",
              "      <td>18</td>\n",
              "    </tr>\n",
              "    <tr>\n",
              "      <th>22</th>\n",
              "      <td>599c901000cd0a0e8e342505</td>\n",
              "      <td>599c75a6a5ed530eb597c822</td>\n",
              "      <td>Lista de Exercícios 2 - Estruturas Condicionais</td>\n",
              "      <td>18</td>\n",
              "    </tr>\n",
              "    <tr>\n",
              "      <th>23</th>\n",
              "      <td>599c901000cd0a0e8e342505</td>\n",
              "      <td>599c782ff3b5c20e93bcb471</td>\n",
              "      <td>Lista de Exercícios 2 - Estruturas Condicionais</td>\n",
              "      <td>18</td>\n",
              "    </tr>\n",
              "    <tr>\n",
              "      <th>24</th>\n",
              "      <td>599c901000cd0a0e8e342505</td>\n",
              "      <td>599c7d9bf3b5c20e93bcb47b</td>\n",
              "      <td>Lista de Exercícios 2 - Estruturas Condicionais</td>\n",
              "      <td>18</td>\n",
              "    </tr>\n",
              "    <tr>\n",
              "      <th>25</th>\n",
              "      <td>599c901000cd0a0e8e342505</td>\n",
              "      <td>599c7ffa00cd0a0e8e3424fe</td>\n",
              "      <td>Lista de Exercícios 2 - Estruturas Condicionais</td>\n",
              "      <td>18</td>\n",
              "    </tr>\n",
              "    <tr>\n",
              "      <th>26</th>\n",
              "      <td>599c901000cd0a0e8e342505</td>\n",
              "      <td>599c840c57e9860ebafb3c8a</td>\n",
              "      <td>Lista de Exercícios 2 - Estruturas Condicionais</td>\n",
              "      <td>18</td>\n",
              "    </tr>\n",
              "    <tr>\n",
              "      <th>27</th>\n",
              "      <td>599c901000cd0a0e8e342505</td>\n",
              "      <td>599c8896f3b5c20e93bcb480</td>\n",
              "      <td>Lista de Exercícios 2 - Estruturas Condicionais</td>\n",
              "      <td>18</td>\n",
              "    </tr>\n",
              "    <tr>\n",
              "      <th>28</th>\n",
              "      <td>59a1830a5e65ea64a07f26ee</td>\n",
              "      <td>599f38a829d3675122df9721</td>\n",
              "      <td>Lista de Exercícios 3 - Laço Condicional</td>\n",
              "      <td>15</td>\n",
              "    </tr>\n",
              "    <tr>\n",
              "      <th>29</th>\n",
              "      <td>59a1830a5e65ea64a07f26ee</td>\n",
              "      <td>599f443c86dc8a511d9a8ea3</td>\n",
              "      <td>Lista de Exercícios 3 - Laço Condicional</td>\n",
              "      <td>15</td>\n",
              "    </tr>\n",
              "    <tr>\n",
              "      <th>...</th>\n",
              "      <td>...</td>\n",
              "      <td>...</td>\n",
              "      <td>...</td>\n",
              "      <td>...</td>\n",
              "    </tr>\n",
              "    <tr>\n",
              "      <th>143</th>\n",
              "      <td>5ae9b73a241ada0408e6d6ca</td>\n",
              "      <td>5a2729fe84fb1d476d485096</td>\n",
              "      <td>Prova 1 - Turmas 3A e 3B - 2018.1</td>\n",
              "      <td>5</td>\n",
              "    </tr>\n",
              "    <tr>\n",
              "      <th>144</th>\n",
              "      <td>5ae9b73a241ada0408e6d6ca</td>\n",
              "      <td>5acf588ae1b024040e6847b9</td>\n",
              "      <td>Prova 1 - Turmas 3A e 3B - 2018.1</td>\n",
              "      <td>5</td>\n",
              "    </tr>\n",
              "    <tr>\n",
              "      <th>145</th>\n",
              "      <td>5ae9b73a241ada0408e6d6ca</td>\n",
              "      <td>5add7924241ada0408e6b8ee</td>\n",
              "      <td>Prova 1 - Turmas 3A e 3B - 2018.1</td>\n",
              "      <td>5</td>\n",
              "    </tr>\n",
              "    <tr>\n",
              "      <th>146</th>\n",
              "      <td>5ae9b73a241ada0408e6d6ca</td>\n",
              "      <td>5ae00221241ada0408e6c6c1</td>\n",
              "      <td>Prova 1 - Turmas 3A e 3B - 2018.1</td>\n",
              "      <td>5</td>\n",
              "    </tr>\n",
              "    <tr>\n",
              "      <th>147</th>\n",
              "      <td>5ba249f14698a230b8bfe7e6</td>\n",
              "      <td>5a1dc238450e5147903831a4</td>\n",
              "      <td>Prova 2 - Turmas 2A e 2B - 2018.1</td>\n",
              "      <td>5</td>\n",
              "    </tr>\n",
              "    <tr>\n",
              "      <th>148</th>\n",
              "      <td>5ba249f14698a230b8bfe7e6</td>\n",
              "      <td>5a1dd50b84fb1d476d484ee2</td>\n",
              "      <td>Prova 2 - Turmas 2A e 2B - 2018.1</td>\n",
              "      <td>5</td>\n",
              "    </tr>\n",
              "    <tr>\n",
              "      <th>149</th>\n",
              "      <td>5ba249f14698a230b8bfe7e6</td>\n",
              "      <td>5a1ddf9a84fb1d476d484ee7</td>\n",
              "      <td>Prova 2 - Turmas 2A e 2B - 2018.1</td>\n",
              "      <td>5</td>\n",
              "    </tr>\n",
              "    <tr>\n",
              "      <th>150</th>\n",
              "      <td>5ba249f14698a230b8bfe7e6</td>\n",
              "      <td>5add8c1d241ada0408e6b929</td>\n",
              "      <td>Prova 2 - Turmas 2A e 2B - 2018.1</td>\n",
              "      <td>5</td>\n",
              "    </tr>\n",
              "    <tr>\n",
              "      <th>151</th>\n",
              "      <td>5ba249f14698a230b8bfe7e6</td>\n",
              "      <td>5add909b241ada0408e6b94a</td>\n",
              "      <td>Prova 2 - Turmas 2A e 2B - 2018.1</td>\n",
              "      <td>5</td>\n",
              "    </tr>\n",
              "    <tr>\n",
              "      <th>152</th>\n",
              "      <td>5ba24cd24698a230b8bfe805</td>\n",
              "      <td>5add8d12241ada0408e6b934</td>\n",
              "      <td>Prova 2 - Turmas 2C e 2D - 2018.1</td>\n",
              "      <td>5</td>\n",
              "    </tr>\n",
              "    <tr>\n",
              "      <th>153</th>\n",
              "      <td>5ba24cd24698a230b8bfe805</td>\n",
              "      <td>5add8f1b241ada0408e6b941</td>\n",
              "      <td>Prova 2 - Turmas 2C e 2D - 2018.1</td>\n",
              "      <td>5</td>\n",
              "    </tr>\n",
              "    <tr>\n",
              "      <th>154</th>\n",
              "      <td>5ba24cd24698a230b8bfe805</td>\n",
              "      <td>5b23b0ad9513a60408ac1168</td>\n",
              "      <td>Prova 2 - Turmas 2C e 2D - 2018.1</td>\n",
              "      <td>5</td>\n",
              "    </tr>\n",
              "    <tr>\n",
              "      <th>155</th>\n",
              "      <td>5ba24cd24698a230b8bfe805</td>\n",
              "      <td>5b271cd49513a60408ac1344</td>\n",
              "      <td>Prova 2 - Turmas 2C e 2D - 2018.1</td>\n",
              "      <td>5</td>\n",
              "    </tr>\n",
              "    <tr>\n",
              "      <th>156</th>\n",
              "      <td>5ba24cd24698a230b8bfe805</td>\n",
              "      <td>5b271f2a9513a60408ac134e</td>\n",
              "      <td>Prova 2 - Turmas 2C e 2D - 2018.1</td>\n",
              "      <td>5</td>\n",
              "    </tr>\n",
              "    <tr>\n",
              "      <th>157</th>\n",
              "      <td>5bc470d6a2b8b504032f7da0</td>\n",
              "      <td>5bc46ef5a2b8b504032f7d80</td>\n",
              "      <td>Prova 1 - Turma 3A - 2018.2</td>\n",
              "      <td>4</td>\n",
              "    </tr>\n",
              "    <tr>\n",
              "      <th>158</th>\n",
              "      <td>5bc470d6a2b8b504032f7da0</td>\n",
              "      <td>5bc46f80a2b8b504032f7d86</td>\n",
              "      <td>Prova 1 - Turma 3A - 2018.2</td>\n",
              "      <td>4</td>\n",
              "    </tr>\n",
              "    <tr>\n",
              "      <th>159</th>\n",
              "      <td>5bc470d6a2b8b504032f7da0</td>\n",
              "      <td>5bc46ff8a2b8b504032f7d8f</td>\n",
              "      <td>Prova 1 - Turma 3A - 2018.2</td>\n",
              "      <td>4</td>\n",
              "    </tr>\n",
              "    <tr>\n",
              "      <th>160</th>\n",
              "      <td>5bc470d6a2b8b504032f7da0</td>\n",
              "      <td>5bc4707aa2b8b504032f7d9a</td>\n",
              "      <td>Prova 1 - Turma 3A - 2018.2</td>\n",
              "      <td>4</td>\n",
              "    </tr>\n",
              "    <tr>\n",
              "      <th>161</th>\n",
              "      <td>5bc4747ea2b8b504032f7dc7</td>\n",
              "      <td>5bc471d3a2b8b504032f7da4</td>\n",
              "      <td>Prova 1 - Turma 3B - 2018.2</td>\n",
              "      <td>4</td>\n",
              "    </tr>\n",
              "    <tr>\n",
              "      <th>162</th>\n",
              "      <td>5bc4747ea2b8b504032f7dc7</td>\n",
              "      <td>5bc47241a2b8b504032f7dac</td>\n",
              "      <td>Prova 1 - Turma 3B - 2018.2</td>\n",
              "      <td>4</td>\n",
              "    </tr>\n",
              "    <tr>\n",
              "      <th>163</th>\n",
              "      <td>5bc4747ea2b8b504032f7dc7</td>\n",
              "      <td>5bc47358a2b8b504032f7db5</td>\n",
              "      <td>Prova 1 - Turma 3B - 2018.2</td>\n",
              "      <td>4</td>\n",
              "    </tr>\n",
              "    <tr>\n",
              "      <th>164</th>\n",
              "      <td>5bc4747ea2b8b504032f7dc7</td>\n",
              "      <td>5bc473d5a2b8b504032f7dbe</td>\n",
              "      <td>Prova 1 - Turma 3B - 2018.2</td>\n",
              "      <td>4</td>\n",
              "    </tr>\n",
              "    <tr>\n",
              "      <th>165</th>\n",
              "      <td>5bc47871a2b8b504032f7de8</td>\n",
              "      <td>5bc47607a2b8b504032f7dcb</td>\n",
              "      <td>Prova 1 - Turma 3C - 2018.2</td>\n",
              "      <td>4</td>\n",
              "    </tr>\n",
              "    <tr>\n",
              "      <th>166</th>\n",
              "      <td>5bc47871a2b8b504032f7de8</td>\n",
              "      <td>5bc476baa2b8b504032f7dd1</td>\n",
              "      <td>Prova 1 - Turma 3C - 2018.2</td>\n",
              "      <td>4</td>\n",
              "    </tr>\n",
              "    <tr>\n",
              "      <th>167</th>\n",
              "      <td>5bc47871a2b8b504032f7de8</td>\n",
              "      <td>5bc47765a2b8b504032f7dd8</td>\n",
              "      <td>Prova 1 - Turma 3C - 2018.2</td>\n",
              "      <td>4</td>\n",
              "    </tr>\n",
              "    <tr>\n",
              "      <th>168</th>\n",
              "      <td>5bc47871a2b8b504032f7de8</td>\n",
              "      <td>5bc477f4a2b8b504032f7de2</td>\n",
              "      <td>Prova 1 - Turma 3C - 2018.2</td>\n",
              "      <td>4</td>\n",
              "    </tr>\n",
              "    <tr>\n",
              "      <th>169</th>\n",
              "      <td>5bc47b80a2b8b504032f7e16</td>\n",
              "      <td>5bc46f80a2b8b504032f7d86</td>\n",
              "      <td>Prova 1 - Turma 3D - 2018.2</td>\n",
              "      <td>4</td>\n",
              "    </tr>\n",
              "    <tr>\n",
              "      <th>170</th>\n",
              "      <td>5bc47b80a2b8b504032f7e16</td>\n",
              "      <td>5bc47a23a2b8b504032f7dfd</td>\n",
              "      <td>Prova 1 - Turma 3D - 2018.2</td>\n",
              "      <td>4</td>\n",
              "    </tr>\n",
              "    <tr>\n",
              "      <th>171</th>\n",
              "      <td>5bc47b80a2b8b504032f7e16</td>\n",
              "      <td>5bc47ab2a2b8b504032f7e07</td>\n",
              "      <td>Prova 1 - Turma 3D - 2018.2</td>\n",
              "      <td>4</td>\n",
              "    </tr>\n",
              "    <tr>\n",
              "      <th>172</th>\n",
              "      <td>5bc47b80a2b8b504032f7e16</td>\n",
              "      <td>5bc47b18a2b8b504032f7e11</td>\n",
              "      <td>Prova 1 - Turma 3D - 2018.2</td>\n",
              "      <td>4</td>\n",
              "    </tr>\n",
              "  </tbody>\n",
              "</table>\n",
              "<p>173 rows × 4 columns</p>\n",
              "</div>"
            ],
            "text/plain": [
              "                     id_lista  ... quantidade\n",
              "0    598cd57a3bc48946977dcf67  ...          5\n",
              "1    598cd57a3bc48946977dcf67  ...          5\n",
              "2    598cd57a3bc48946977dcf67  ...          5\n",
              "3    598cd57a3bc48946977dcf67  ...          5\n",
              "4    598cd57a3bc48946977dcf67  ...          5\n",
              "5    599ae0e1872c0a078b68b13e  ...          5\n",
              "6    599ae0e1872c0a078b68b13e  ...          5\n",
              "7    599ae0e1872c0a078b68b13e  ...          5\n",
              "8    599ae0e1872c0a078b68b13e  ...          5\n",
              "9    599ae0e1872c0a078b68b13e  ...          5\n",
              "10   599c901000cd0a0e8e342505  ...         18\n",
              "11   599c901000cd0a0e8e342505  ...         18\n",
              "12   599c901000cd0a0e8e342505  ...         18\n",
              "13   599c901000cd0a0e8e342505  ...         18\n",
              "14   599c901000cd0a0e8e342505  ...         18\n",
              "15   599c901000cd0a0e8e342505  ...         18\n",
              "16   599c901000cd0a0e8e342505  ...         18\n",
              "17   599c901000cd0a0e8e342505  ...         18\n",
              "18   599c901000cd0a0e8e342505  ...         18\n",
              "19   599c901000cd0a0e8e342505  ...         18\n",
              "20   599c901000cd0a0e8e342505  ...         18\n",
              "21   599c901000cd0a0e8e342505  ...         18\n",
              "22   599c901000cd0a0e8e342505  ...         18\n",
              "23   599c901000cd0a0e8e342505  ...         18\n",
              "24   599c901000cd0a0e8e342505  ...         18\n",
              "25   599c901000cd0a0e8e342505  ...         18\n",
              "26   599c901000cd0a0e8e342505  ...         18\n",
              "27   599c901000cd0a0e8e342505  ...         18\n",
              "28   59a1830a5e65ea64a07f26ee  ...         15\n",
              "29   59a1830a5e65ea64a07f26ee  ...         15\n",
              "..                        ...  ...        ...\n",
              "143  5ae9b73a241ada0408e6d6ca  ...          5\n",
              "144  5ae9b73a241ada0408e6d6ca  ...          5\n",
              "145  5ae9b73a241ada0408e6d6ca  ...          5\n",
              "146  5ae9b73a241ada0408e6d6ca  ...          5\n",
              "147  5ba249f14698a230b8bfe7e6  ...          5\n",
              "148  5ba249f14698a230b8bfe7e6  ...          5\n",
              "149  5ba249f14698a230b8bfe7e6  ...          5\n",
              "150  5ba249f14698a230b8bfe7e6  ...          5\n",
              "151  5ba249f14698a230b8bfe7e6  ...          5\n",
              "152  5ba24cd24698a230b8bfe805  ...          5\n",
              "153  5ba24cd24698a230b8bfe805  ...          5\n",
              "154  5ba24cd24698a230b8bfe805  ...          5\n",
              "155  5ba24cd24698a230b8bfe805  ...          5\n",
              "156  5ba24cd24698a230b8bfe805  ...          5\n",
              "157  5bc470d6a2b8b504032f7da0  ...          4\n",
              "158  5bc470d6a2b8b504032f7da0  ...          4\n",
              "159  5bc470d6a2b8b504032f7da0  ...          4\n",
              "160  5bc470d6a2b8b504032f7da0  ...          4\n",
              "161  5bc4747ea2b8b504032f7dc7  ...          4\n",
              "162  5bc4747ea2b8b504032f7dc7  ...          4\n",
              "163  5bc4747ea2b8b504032f7dc7  ...          4\n",
              "164  5bc4747ea2b8b504032f7dc7  ...          4\n",
              "165  5bc47871a2b8b504032f7de8  ...          4\n",
              "166  5bc47871a2b8b504032f7de8  ...          4\n",
              "167  5bc47871a2b8b504032f7de8  ...          4\n",
              "168  5bc47871a2b8b504032f7de8  ...          4\n",
              "169  5bc47b80a2b8b504032f7e16  ...          4\n",
              "170  5bc47b80a2b8b504032f7e16  ...          4\n",
              "171  5bc47b80a2b8b504032f7e16  ...          4\n",
              "172  5bc47b80a2b8b504032f7e16  ...          4\n",
              "\n",
              "[173 rows x 4 columns]"
            ]
          },
          "metadata": {
            "tags": []
          },
          "execution_count": 66
        }
      ]
    },
    {
      "cell_type": "code",
      "metadata": {
        "id": "aIEXacSr72CS",
        "colab_type": "code",
        "outputId": "5e704097-da0e-4a30-dc66-acaa67f91d63",
        "colab": {
          "base_uri": "https://localhost:8080/",
          "height": 170
        }
      },
      "source": [
        "listaNovo.info()"
      ],
      "execution_count": 0,
      "outputs": [
        {
          "output_type": "stream",
          "text": [
            "<class 'pandas.core.frame.DataFrame'>\n",
            "Int64Index: 173 entries, 0 to 172\n",
            "Data columns (total 4 columns):\n",
            "id_lista      173 non-null object\n",
            "questao       173 non-null object\n",
            "titulo        173 non-null object\n",
            "quantidade    173 non-null int64\n",
            "dtypes: int64(1), object(3)\n",
            "memory usage: 6.8+ KB\n"
          ],
          "name": "stdout"
        }
      ]
    },
    {
      "cell_type": "markdown",
      "metadata": {
        "id": "jWVpyBVz1zoV",
        "colab_type": "text"
      },
      "source": [
        "**Concatenar a tabela lista com a tabela submissoes pela coluna questao**"
      ]
    },
    {
      "cell_type": "code",
      "metadata": {
        "id": "Mwcqkdp91_e8",
        "colab_type": "code",
        "outputId": "dce4edfe-0301-45a5-f0fa-6516f87a1dcb",
        "colab": {
          "base_uri": "https://localhost:8080/",
          "height": 289
        }
      },
      "source": [
        "merge_sub_lista = pd.merge(right= tab_sub, left = listaNovo, on='questao', how=\"inner\")\n",
        "print(merge_sub_lista.shape)\n",
        "\n",
        "# A Quantidade de submissoes aumentou muito . Esta correto\n",
        "#pode existe questão que foi submetida que não esta em nenhuma lista? simmmm\n",
        "print(merge_sub_lista.info())\n",
        "\n",
        "#quantidade correta, pois ha questoes sem lista\n",
        "print(listaNovo[\"titulo\"].unique().shape)\n",
        "print(merge_sub_lista[\"titulo\"].unique().shape)\n"
      ],
      "execution_count": 0,
      "outputs": [
        {
          "output_type": "stream",
          "text": [
            "(47487, 7)\n",
            "<class 'pandas.core.frame.DataFrame'>\n",
            "Int64Index: 47487 entries, 0 to 47486\n",
            "Data columns (total 7 columns):\n",
            "id_lista             47487 non-null object\n",
            "questao              47487 non-null object\n",
            "titulo               47487 non-null object\n",
            "quantidade           47487 non-null int64\n",
            "data                 47487 non-null object\n",
            "porcentagemAcerto    47487 non-null int64\n",
            "user                 47487 non-null object\n",
            "dtypes: int64(2), object(5)\n",
            "memory usage: 2.9+ MB\n",
            "None\n",
            "(23,)\n",
            "(23,)\n"
          ],
          "name": "stdout"
        }
      ]
    },
    {
      "cell_type": "code",
      "metadata": {
        "id": "V2EdszSvS6tS",
        "colab_type": "code",
        "outputId": "f9682492-ac27-49f0-e4b0-246f6d278384",
        "colab": {
          "base_uri": "https://localhost:8080/",
          "height": 221
        }
      },
      "source": [
        "merge_sub_lista.info()"
      ],
      "execution_count": 0,
      "outputs": [
        {
          "output_type": "stream",
          "text": [
            "<class 'pandas.core.frame.DataFrame'>\n",
            "Int64Index: 47487 entries, 0 to 47486\n",
            "Data columns (total 7 columns):\n",
            "id_lista             47487 non-null object\n",
            "questao              47487 non-null object\n",
            "titulo               47487 non-null object\n",
            "quantidade           47487 non-null int64\n",
            "data                 47487 non-null object\n",
            "porcentagemAcerto    47487 non-null int64\n",
            "user                 47487 non-null object\n",
            "dtypes: int64(2), object(5)\n",
            "memory usage: 2.9+ MB\n"
          ],
          "name": "stdout"
        }
      ]
    },
    {
      "cell_type": "markdown",
      "metadata": {
        "id": "zsEn3JzDyUw6",
        "colab_type": "text"
      },
      "source": [
        "**Montar uma lista de questoes pelo nome da lista**"
      ]
    },
    {
      "cell_type": "code",
      "metadata": {
        "id": "ks_JMp473W8s",
        "colab_type": "code",
        "outputId": "09f78b68-2e57-4704-96f6-65550abc94fd",
        "colab": {
          "base_uri": "https://localhost:8080/",
          "height": 68
        }
      },
      "source": [
        "merge_sub_lista.loc[merge_sub_lista[\"titulo\"].str.contains('Lista de Laboratório 3', regex=False), \"questao\"].unique()"
      ],
      "execution_count": 0,
      "outputs": [
        {
          "output_type": "execute_result",
          "data": {
            "text/plain": [
              "array(['59a081c9161d04649b5e3de5', '59a0867f9a2ef364c5e13462',\n",
              "       '59a089795e65ea64a07f26c5', '59a09e045e65ea64a07f26d0',\n",
              "       '59a6fddad2c16c0ce095bb96'], dtype=object)"
            ]
          },
          "metadata": {
            "tags": []
          },
          "execution_count": 70
        }
      ]
    },
    {
      "cell_type": "markdown",
      "metadata": {
        "id": "AAMQXXZZ72KH",
        "colab_type": "text"
      },
      "source": [
        "**Quantidade de vezes que os alunos submeteram cada questão**\n",
        "\n",
        "\n"
      ]
    },
    {
      "cell_type": "code",
      "metadata": {
        "id": "7UCQtFLrvhhf",
        "colab_type": "code",
        "outputId": "3d862ace-3d26-424c-ac3c-f8dbdb8dd1f0",
        "colab": {
          "base_uri": "https://localhost:8080/",
          "height": 670
        }
      },
      "source": [
        "#Quantidade de questoes submetidas\n",
        "print(merge_sub_lista['questao'].unique().shape) #perdemos as submissoes que não tinham associados a listas\n",
        "#Quantidade de alunos que submeteram questoes\n",
        "print(merge_sub_lista['user'].unique().shape)\n",
        "\n",
        "\n",
        "#Grafico para mostrar a quantidade de vezes que uma questão foi submetida\n",
        "import matplotlib.pyplot as plt\n",
        "import seaborn as sns\n",
        "QuanQuestao = merge_sub_lista.groupby(['questao']).count().sort_values(by=['data'])\n",
        "QuanQuestao = QuanQuestao.reset_index()\n",
        "GQuanQuestao = sns.FacetGrid(QuanQuestao,height=6, aspect=3, sharex=False)\n",
        "\n",
        "GQuanQuestao.map(sns.barplot,\"questao\", \"data\")\n",
        "plt.xticks(rotation=90)\n",
        "plt.show()"
      ],
      "execution_count": 0,
      "outputs": [
        {
          "output_type": "stream",
          "text": [
            "(129,)\n",
            "(939,)\n"
          ],
          "name": "stdout"
        },
        {
          "output_type": "stream",
          "text": [
            "/usr/local/lib/python3.6/dist-packages/seaborn/axisgrid.py:715: UserWarning: Using the barplot function without specifying `order` is likely to produce an incorrect plot.\n",
            "  warnings.warn(warning)\n"
          ],
          "name": "stderr"
        },
        {
          "output_type": "display_data",
          "data": {
            "image/png": "[encoded data removed]",
            "text/plain": [
              "<Figure size 1296x432 with 1 Axes>"
            ]
          },
          "metadata": {
            "tags": []
          }
        }
      ]
    },
    {
      "cell_type": "markdown",
      "metadata": {
        "id": "QQG7fgYJoa4V",
        "colab_type": "text"
      },
      "source": [
        "**Quantidade de submissoes por lista**"
      ]
    },
    {
      "cell_type": "code",
      "metadata": {
        "id": "6HUMldT0qWe5",
        "colab_type": "code",
        "outputId": "1b02e441-9e70-413f-dca2-b35ff5007fd1",
        "colab": {
          "base_uri": "https://localhost:8080/",
          "height": 762
        }
      },
      "source": [
        "a = merge_sub_lista.groupby(['titulo']).count()\n",
        "a =a.reset_index()\n",
        "a.sort_values(by=['titulo'])"
      ],
      "execution_count": 0,
      "outputs": [
        {
          "output_type": "execute_result",
          "data": {
            "text/html": [
              "<div>\n",
              "<style scoped>\n",
              "    .dataframe tbody tr th:only-of-type {\n",
              "        vertical-align: middle;\n",
              "    }\n",
              "\n",
              "    .dataframe tbody tr th {\n",
              "        vertical-align: top;\n",
              "    }\n",
              "\n",
              "    .dataframe thead th {\n",
              "        text-align: right;\n",
              "    }\n",
              "</style>\n",
              "<table border=\"1\" class=\"dataframe\">\n",
              "  <thead>\n",
              "    <tr style=\"text-align: right;\">\n",
              "      <th></th>\n",
              "      <th>titulo</th>\n",
              "      <th>id_lista</th>\n",
              "      <th>questao</th>\n",
              "      <th>quantidade</th>\n",
              "      <th>data</th>\n",
              "      <th>porcentagemAcerto</th>\n",
              "      <th>user</th>\n",
              "    </tr>\n",
              "  </thead>\n",
              "  <tbody>\n",
              "    <tr>\n",
              "      <th>0</th>\n",
              "      <td>Lista de Exercícios 1 - Expressões e variáveis</td>\n",
              "      <td>6897</td>\n",
              "      <td>6897</td>\n",
              "      <td>6897</td>\n",
              "      <td>6897</td>\n",
              "      <td>6897</td>\n",
              "      <td>6897</td>\n",
              "    </tr>\n",
              "    <tr>\n",
              "      <th>1</th>\n",
              "      <td>Lista de Exercícios 2 - Estruturas Condicionais</td>\n",
              "      <td>8614</td>\n",
              "      <td>8614</td>\n",
              "      <td>8614</td>\n",
              "      <td>8614</td>\n",
              "      <td>8614</td>\n",
              "      <td>8614</td>\n",
              "    </tr>\n",
              "    <tr>\n",
              "      <th>2</th>\n",
              "      <td>Lista de Exercícios 3 - Laço Condicional</td>\n",
              "      <td>6422</td>\n",
              "      <td>6422</td>\n",
              "      <td>6422</td>\n",
              "      <td>6422</td>\n",
              "      <td>6422</td>\n",
              "      <td>6422</td>\n",
              "    </tr>\n",
              "    <tr>\n",
              "      <th>3</th>\n",
              "      <td>Lista de Exercícios 4 - Laço contado</td>\n",
              "      <td>3175</td>\n",
              "      <td>3175</td>\n",
              "      <td>3175</td>\n",
              "      <td>3175</td>\n",
              "      <td>3175</td>\n",
              "      <td>3175</td>\n",
              "    </tr>\n",
              "    <tr>\n",
              "      <th>4</th>\n",
              "      <td>Lista de Exercícios 4.1 - Problemas tradiciona...</td>\n",
              "      <td>562</td>\n",
              "      <td>562</td>\n",
              "      <td>562</td>\n",
              "      <td>562</td>\n",
              "      <td>562</td>\n",
              "      <td>562</td>\n",
              "    </tr>\n",
              "    <tr>\n",
              "      <th>5</th>\n",
              "      <td>Lista de Exercícios 5 - Vetores</td>\n",
              "      <td>3777</td>\n",
              "      <td>3777</td>\n",
              "      <td>3777</td>\n",
              "      <td>3777</td>\n",
              "      <td>3777</td>\n",
              "      <td>3777</td>\n",
              "    </tr>\n",
              "    <tr>\n",
              "      <th>6</th>\n",
              "      <td>Lista de Laboratório 1 - Expressões Aritmética...</td>\n",
              "      <td>3368</td>\n",
              "      <td>3368</td>\n",
              "      <td>3368</td>\n",
              "      <td>3368</td>\n",
              "      <td>3368</td>\n",
              "      <td>3368</td>\n",
              "    </tr>\n",
              "    <tr>\n",
              "      <th>7</th>\n",
              "      <td>Lista de Laboratório 2 - Expressões Lógicas e ...</td>\n",
              "      <td>3514</td>\n",
              "      <td>3514</td>\n",
              "      <td>3514</td>\n",
              "      <td>3514</td>\n",
              "      <td>3514</td>\n",
              "      <td>3514</td>\n",
              "    </tr>\n",
              "    <tr>\n",
              "      <th>8</th>\n",
              "      <td>Lista de Laboratório 3 -  Estruturas de Repeti...</td>\n",
              "      <td>2980</td>\n",
              "      <td>2980</td>\n",
              "      <td>2980</td>\n",
              "      <td>2980</td>\n",
              "      <td>2980</td>\n",
              "      <td>2980</td>\n",
              "    </tr>\n",
              "    <tr>\n",
              "      <th>9</th>\n",
              "      <td>Lista de Laboratório 4 - Repetição Contada</td>\n",
              "      <td>1389</td>\n",
              "      <td>1389</td>\n",
              "      <td>1389</td>\n",
              "      <td>1389</td>\n",
              "      <td>1389</td>\n",
              "      <td>1389</td>\n",
              "    </tr>\n",
              "    <tr>\n",
              "      <th>10</th>\n",
              "      <td>Lista de Laboratório 5 - Vetores</td>\n",
              "      <td>2140</td>\n",
              "      <td>2140</td>\n",
              "      <td>2140</td>\n",
              "      <td>2140</td>\n",
              "      <td>2140</td>\n",
              "      <td>2140</td>\n",
              "    </tr>\n",
              "    <tr>\n",
              "      <th>11</th>\n",
              "      <td>Lista de Revisão Unidade 1</td>\n",
              "      <td>3129</td>\n",
              "      <td>3129</td>\n",
              "      <td>3129</td>\n",
              "      <td>3129</td>\n",
              "      <td>3129</td>\n",
              "      <td>3129</td>\n",
              "    </tr>\n",
              "    <tr>\n",
              "      <th>12</th>\n",
              "      <td>Prova 1 - Turma 09 - 2017.1</td>\n",
              "      <td>564</td>\n",
              "      <td>564</td>\n",
              "      <td>564</td>\n",
              "      <td>564</td>\n",
              "      <td>564</td>\n",
              "      <td>564</td>\n",
              "    </tr>\n",
              "    <tr>\n",
              "      <th>13</th>\n",
              "      <td>Prova 1 - Turma 3A - 2018.2</td>\n",
              "      <td>60</td>\n",
              "      <td>60</td>\n",
              "      <td>60</td>\n",
              "      <td>60</td>\n",
              "      <td>60</td>\n",
              "      <td>60</td>\n",
              "    </tr>\n",
              "    <tr>\n",
              "      <th>14</th>\n",
              "      <td>Prova 1 - Turma 3B - 2018.2</td>\n",
              "      <td>31</td>\n",
              "      <td>31</td>\n",
              "      <td>31</td>\n",
              "      <td>31</td>\n",
              "      <td>31</td>\n",
              "      <td>31</td>\n",
              "    </tr>\n",
              "    <tr>\n",
              "      <th>15</th>\n",
              "      <td>Prova 1 - Turma 3C - 2018.2</td>\n",
              "      <td>51</td>\n",
              "      <td>51</td>\n",
              "      <td>51</td>\n",
              "      <td>51</td>\n",
              "      <td>51</td>\n",
              "      <td>51</td>\n",
              "    </tr>\n",
              "    <tr>\n",
              "      <th>16</th>\n",
              "      <td>Prova 1 - Turma 3D - 2018.2</td>\n",
              "      <td>44</td>\n",
              "      <td>44</td>\n",
              "      <td>44</td>\n",
              "      <td>44</td>\n",
              "      <td>44</td>\n",
              "      <td>44</td>\n",
              "    </tr>\n",
              "    <tr>\n",
              "      <th>17</th>\n",
              "      <td>Prova 1 - Turmas 2A e 2B - 2018.1</td>\n",
              "      <td>170</td>\n",
              "      <td>170</td>\n",
              "      <td>170</td>\n",
              "      <td>170</td>\n",
              "      <td>170</td>\n",
              "      <td>170</td>\n",
              "    </tr>\n",
              "    <tr>\n",
              "      <th>18</th>\n",
              "      <td>Prova 1 - Turmas 2C e 2D - 2018.1</td>\n",
              "      <td>156</td>\n",
              "      <td>156</td>\n",
              "      <td>156</td>\n",
              "      <td>156</td>\n",
              "      <td>156</td>\n",
              "      <td>156</td>\n",
              "    </tr>\n",
              "    <tr>\n",
              "      <th>19</th>\n",
              "      <td>Prova 1 - Turmas 3A e 3B - 2018.1</td>\n",
              "      <td>90</td>\n",
              "      <td>90</td>\n",
              "      <td>90</td>\n",
              "      <td>90</td>\n",
              "      <td>90</td>\n",
              "      <td>90</td>\n",
              "    </tr>\n",
              "    <tr>\n",
              "      <th>20</th>\n",
              "      <td>Prova 1 - Turmas 3C e 3D - 2018.1</td>\n",
              "      <td>29</td>\n",
              "      <td>29</td>\n",
              "      <td>29</td>\n",
              "      <td>29</td>\n",
              "      <td>29</td>\n",
              "      <td>29</td>\n",
              "    </tr>\n",
              "    <tr>\n",
              "      <th>21</th>\n",
              "      <td>Prova 2 - Turmas 2A e 2B - 2018.1</td>\n",
              "      <td>168</td>\n",
              "      <td>168</td>\n",
              "      <td>168</td>\n",
              "      <td>168</td>\n",
              "      <td>168</td>\n",
              "      <td>168</td>\n",
              "    </tr>\n",
              "    <tr>\n",
              "      <th>22</th>\n",
              "      <td>Prova 2 - Turmas 2C e 2D - 2018.1</td>\n",
              "      <td>157</td>\n",
              "      <td>157</td>\n",
              "      <td>157</td>\n",
              "      <td>157</td>\n",
              "      <td>157</td>\n",
              "      <td>157</td>\n",
              "    </tr>\n",
              "  </tbody>\n",
              "</table>\n",
              "</div>"
            ],
            "text/plain": [
              "                                               titulo  ...  user\n",
              "0      Lista de Exercícios 1 - Expressões e variáveis  ...  6897\n",
              "1     Lista de Exercícios 2 - Estruturas Condicionais  ...  8614\n",
              "2            Lista de Exercícios 3 - Laço Condicional  ...  6422\n",
              "3                Lista de Exercícios 4 - Laço contado  ...  3175\n",
              "4   Lista de Exercícios 4.1 - Problemas tradiciona...  ...   562\n",
              "5                     Lista de Exercícios 5 - Vetores  ...  3777\n",
              "6   Lista de Laboratório 1 - Expressões Aritmética...  ...  3368\n",
              "7   Lista de Laboratório 2 - Expressões Lógicas e ...  ...  3514\n",
              "8   Lista de Laboratório 3 -  Estruturas de Repeti...  ...  2980\n",
              "9          Lista de Laboratório 4 - Repetição Contada  ...  1389\n",
              "10                   Lista de Laboratório 5 - Vetores  ...  2140\n",
              "11                         Lista de Revisão Unidade 1  ...  3129\n",
              "12                        Prova 1 - Turma 09 - 2017.1  ...   564\n",
              "13                        Prova 1 - Turma 3A - 2018.2  ...    60\n",
              "14                        Prova 1 - Turma 3B - 2018.2  ...    31\n",
              "15                        Prova 1 - Turma 3C - 2018.2  ...    51\n",
              "16                        Prova 1 - Turma 3D - 2018.2  ...    44\n",
              "17                  Prova 1 - Turmas 2A e 2B - 2018.1  ...   170\n",
              "18                  Prova 1 - Turmas 2C e 2D - 2018.1  ...   156\n",
              "19                  Prova 1 - Turmas 3A e 3B - 2018.1  ...    90\n",
              "20                  Prova 1 - Turmas 3C e 3D - 2018.1  ...    29\n",
              "21                  Prova 2 - Turmas 2A e 2B - 2018.1  ...   168\n",
              "22                  Prova 2 - Turmas 2C e 2D - 2018.1  ...   157\n",
              "\n",
              "[23 rows x 7 columns]"
            ]
          },
          "metadata": {
            "tags": []
          },
          "execution_count": 72
        }
      ]
    },
    {
      "cell_type": "markdown",
      "metadata": {
        "id": "-NhFncER8Hhr",
        "colab_type": "text"
      },
      "source": [
        "**Concatenar as tabelas merge_user_turmas e merge_sub_lista**\n",
        "\n",
        "\n"
      ]
    },
    {
      "cell_type": "code",
      "metadata": {
        "id": "_FezmCphFaZK",
        "colab_type": "code",
        "outputId": "06be5084-3ddd-4154-bc75-4302da608935",
        "colab": {
          "base_uri": "https://localhost:8080/",
          "height": 253
        }
      },
      "source": [
        "merge_sub_lista.rename(columns={\"user\":\"id_aluno\"}, inplace=True)\n",
        "merge_user_turmas_sub_lista = pd.merge(right= merge_user_turmas, left = merge_sub_lista, on='id_aluno', how=\"inner\")\n",
        "print (merge_user_turmas_sub_lista.shape)\n",
        "print(merge_user_turmas_sub_lista.columns)\n",
        "merge_user_turmas_sub_lista.head(1)"
      ],
      "execution_count": 0,
      "outputs": [
        {
          "output_type": "stream",
          "text": [
            "(47675, 13)\n",
            "Index(['id_lista', 'questao', 'titulo', 'quantidade', 'data',\n",
            "       'porcentagemAcerto', 'id_aluno', 'ano', 'descricaoHorario',\n",
            "       'descricaoTurma', 'id_turma', 'matricula', 'nome'],\n",
            "      dtype='object')\n"
          ],
          "name": "stdout"
        },
        {
          "output_type": "execute_result",
          "data": {
            "text/html": [
              "<div>\n",
              "<style scoped>\n",
              "    .dataframe tbody tr th:only-of-type {\n",
              "        vertical-align: middle;\n",
              "    }\n",
              "\n",
              "    .dataframe tbody tr th {\n",
              "        vertical-align: top;\n",
              "    }\n",
              "\n",
              "    .dataframe thead th {\n",
              "        text-align: right;\n",
              "    }\n",
              "</style>\n",
              "<table border=\"1\" class=\"dataframe\">\n",
              "  <thead>\n",
              "    <tr style=\"text-align: right;\">\n",
              "      <th></th>\n",
              "      <th>id_lista</th>\n",
              "      <th>questao</th>\n",
              "      <th>titulo</th>\n",
              "      <th>quantidade</th>\n",
              "      <th>data</th>\n",
              "      <th>porcentagemAcerto</th>\n",
              "      <th>id_aluno</th>\n",
              "      <th>ano</th>\n",
              "      <th>descricaoHorario</th>\n",
              "      <th>descricaoTurma</th>\n",
              "      <th>id_turma</th>\n",
              "      <th>matricula</th>\n",
              "      <th>nome</th>\n",
              "    </tr>\n",
              "  </thead>\n",
              "  <tbody>\n",
              "    <tr>\n",
              "      <th>0</th>\n",
              "      <td>598cd57a3bc48946977dcf67</td>\n",
              "      <td>59885f8d684f4a3f78163c00</td>\n",
              "      <td>Lista de Laboratório 1 - Expressões Aritmética...</td>\n",
              "      <td>5</td>\n",
              "      <td>2017-08-14T16:19:03.629Z</td>\n",
              "      <td>0</td>\n",
              "      <td>5991cd63b3c8b42f3d5da402</td>\n",
              "      <td>2017.2</td>\n",
              "      <td>24M12  2T12 (24/07/2017 - 26/11/2017)</td>\n",
              "      <td>LÓGICA DE PROGRAMAÇÃO - Turma 01A</td>\n",
              "      <td>598e15296d8650eb27d52e3d</td>\n",
              "      <td>20170096736</td>\n",
              "      <td>LUCAS DANTAS</td>\n",
              "    </tr>\n",
              "  </tbody>\n",
              "</table>\n",
              "</div>"
            ],
            "text/plain": [
              "                   id_lista  ...          nome\n",
              "0  598cd57a3bc48946977dcf67  ...  LUCAS DANTAS\n",
              "\n",
              "[1 rows x 13 columns]"
            ]
          },
          "metadata": {
            "tags": []
          },
          "execution_count": 164
        }
      ]
    },
    {
      "cell_type": "markdown",
      "metadata": {
        "id": "3Gwz3X_KSnxV",
        "colab_type": "text"
      },
      "source": [
        "**Porcentagem Maxima por aluno em cada questão**"
      ]
    },
    {
      "cell_type": "code",
      "metadata": {
        "id": "Ae0uZnOdOhYc",
        "colab_type": "code",
        "outputId": "76004204-d767-4667-816d-53411d717dee",
        "colab": {
          "base_uri": "https://localhost:8080/",
          "height": 236
        }
      },
      "source": [
        "NotaMaxQuestao = merge_user_turmas_sub_lista.groupby([\"id_lista\",\"id_aluno\",\"questao\"]).max()\n",
        "NotaMaxQuestao.rename(columns={\"porcentagemAcerto\":\"porcentagemMaxima\"}, inplace=True)\n",
        "NotaMaxQuestao = NotaMaxQuestao.reset_index()\n",
        "print(NotaMaxQuestao.columns)\n",
        "NotaMaxQuestao.head(1)"
      ],
      "execution_count": 0,
      "outputs": [
        {
          "output_type": "stream",
          "text": [
            "Index(['id_lista', 'id_aluno', 'questao', 'titulo', 'quantidade', 'data',\n",
            "       'porcentagemMaxima', 'ano', 'descricaoHorario', 'descricaoTurma',\n",
            "       'id_turma', 'matricula', 'nome'],\n",
            "      dtype='object')\n"
          ],
          "name": "stdout"
        },
        {
          "output_type": "execute_result",
          "data": {
            "text/html": [
              "<div>\n",
              "<style scoped>\n",
              "    .dataframe tbody tr th:only-of-type {\n",
              "        vertical-align: middle;\n",
              "    }\n",
              "\n",
              "    .dataframe tbody tr th {\n",
              "        vertical-align: top;\n",
              "    }\n",
              "\n",
              "    .dataframe thead th {\n",
              "        text-align: right;\n",
              "    }\n",
              "</style>\n",
              "<table border=\"1\" class=\"dataframe\">\n",
              "  <thead>\n",
              "    <tr style=\"text-align: right;\">\n",
              "      <th></th>\n",
              "      <th>id_lista</th>\n",
              "      <th>id_aluno</th>\n",
              "      <th>questao</th>\n",
              "      <th>titulo</th>\n",
              "      <th>quantidade</th>\n",
              "      <th>data</th>\n",
              "      <th>porcentagemMaxima</th>\n",
              "      <th>ano</th>\n",
              "      <th>descricaoHorario</th>\n",
              "      <th>descricaoTurma</th>\n",
              "      <th>id_turma</th>\n",
              "      <th>matricula</th>\n",
              "      <th>nome</th>\n",
              "    </tr>\n",
              "  </thead>\n",
              "  <tbody>\n",
              "    <tr>\n",
              "      <th>0</th>\n",
              "      <td>598cd57a3bc48946977dcf67</td>\n",
              "      <td>5991cb910be9d42f2f68b906</td>\n",
              "      <td>59885f8d684f4a3f78163c00</td>\n",
              "      <td>Lista de Laboratório 1 - Expressões Aritmética...</td>\n",
              "      <td>5</td>\n",
              "      <td>2017-08-14T16:29:10.522Z</td>\n",
              "      <td>100</td>\n",
              "      <td>2017.2</td>\n",
              "      <td>24M12  2T12 (24/07/2017 - 26/11/2017)</td>\n",
              "      <td>LÓGICA DE PROGRAMAÇÃO - Turma 01A</td>\n",
              "      <td>598e15296d8650eb27d52e3d</td>\n",
              "      <td>20170039453</td>\n",
              "      <td>AMANDA</td>\n",
              "    </tr>\n",
              "  </tbody>\n",
              "</table>\n",
              "</div>"
            ],
            "text/plain": [
              "                   id_lista                  id_aluno  ...    matricula    nome\n",
              "0  598cd57a3bc48946977dcf67  5991cb910be9d42f2f68b906  ...  20170039453  AMANDA\n",
              "\n",
              "[1 rows x 13 columns]"
            ]
          },
          "metadata": {
            "tags": []
          },
          "execution_count": 165
        }
      ]
    },
    {
      "cell_type": "markdown",
      "metadata": {
        "id": "vgm8Oox_ZcP7",
        "colab_type": "text"
      },
      "source": [
        "**Quantidade de questoes feitas por aluno em cada lista**"
      ]
    },
    {
      "cell_type": "code",
      "metadata": {
        "id": "PPKZhnBSVfg1",
        "colab_type": "code",
        "outputId": "06c64771-5bb7-4e7b-c64e-a88d45ab901b",
        "colab": {
          "base_uri": "https://localhost:8080/",
          "height": 97
        }
      },
      "source": [
        "quantidade = NotaMaxQuestao.groupby([\"titulo\",\"id_aluno\"]).count()\n",
        "quantidade.rename(columns={\"quantidade\":\"questoesFeitas\"}, inplace=True)\n",
        "quantidade= quantidade.reset_index()\n",
        "quantidade= quantidade[[\"titulo\",\"id_aluno\",\"questoesFeitas\"]]\n",
        "print(quantidade.columns)\n",
        "quantidade.head(1)\n"
      ],
      "execution_count": 0,
      "outputs": [
        {
          "output_type": "stream",
          "text": [
            "Index(['titulo', 'id_aluno', 'questoesFeitas'], dtype='object')\n"
          ],
          "name": "stdout"
        },
        {
          "output_type": "execute_result",
          "data": {
            "text/html": [
              "<div>\n",
              "<style scoped>\n",
              "    .dataframe tbody tr th:only-of-type {\n",
              "        vertical-align: middle;\n",
              "    }\n",
              "\n",
              "    .dataframe tbody tr th {\n",
              "        vertical-align: top;\n",
              "    }\n",
              "\n",
              "    .dataframe thead th {\n",
              "        text-align: right;\n",
              "    }\n",
              "</style>\n",
              "<table border=\"1\" class=\"dataframe\">\n",
              "  <thead>\n",
              "    <tr style=\"text-align: right;\">\n",
              "      <th></th>\n",
              "      <th>titulo</th>\n",
              "      <th>id_aluno</th>\n",
              "      <th>questoesFeitas</th>\n",
              "    </tr>\n",
              "  </thead>\n",
              "  <tbody>\n",
              "    <tr>\n",
              "      <th>0</th>\n",
              "      <td>Lista de Exercícios 1 - Expressões e variáveis</td>\n",
              "      <td>5991cb910be9d42f2f68b906</td>\n",
              "      <td>11</td>\n",
              "    </tr>\n",
              "  </tbody>\n",
              "</table>\n",
              "</div>"
            ],
            "text/plain": [
              "                                           titulo  ... questoesFeitas\n",
              "0  Lista de Exercícios 1 - Expressões e variáveis  ...             11\n",
              "\n",
              "[1 rows x 3 columns]"
            ]
          },
          "metadata": {
            "tags": []
          },
          "execution_count": 166
        }
      ]
    },
    {
      "cell_type": "markdown",
      "metadata": {
        "id": "aEJHPj8P8VLb",
        "colab_type": "text"
      },
      "source": [
        "**Nota final dos alunos por lista**"
      ]
    },
    {
      "cell_type": "code",
      "metadata": {
        "id": "LIOUjOfsS2TA",
        "colab_type": "code",
        "outputId": "08f64490-2677-4e12-baec-36d3a7568783",
        "colab": {
          "base_uri": "https://localhost:8080/",
          "height": 97
        }
      },
      "source": [
        "NotaLista = NotaMaxQuestao.groupby([\"titulo\",\"id_aluno\"]).sum()\n",
        "NotaLista.rename(columns={\"porcentagemMaxima\":\"SomaLista\", \"quantidade\":\"questoesFeitas\"}, inplace=True)\n",
        "NotaLista = NotaLista.drop('ano',axis=1)\n",
        "NotaLista= NotaLista.reset_index()\n",
        "NotaLista = NotaLista[[\"titulo\",'id_aluno','SomaLista']]\n",
        "print(NotaLista.columns)\n",
        "NotaLista.head(1)\n"
      ],
      "execution_count": 0,
      "outputs": [
        {
          "output_type": "stream",
          "text": [
            "Index(['titulo', 'id_aluno', 'SomaLista'], dtype='object')\n"
          ],
          "name": "stdout"
        },
        {
          "output_type": "execute_result",
          "data": {
            "text/html": [
              "<div>\n",
              "<style scoped>\n",
              "    .dataframe tbody tr th:only-of-type {\n",
              "        vertical-align: middle;\n",
              "    }\n",
              "\n",
              "    .dataframe tbody tr th {\n",
              "        vertical-align: top;\n",
              "    }\n",
              "\n",
              "    .dataframe thead th {\n",
              "        text-align: right;\n",
              "    }\n",
              "</style>\n",
              "<table border=\"1\" class=\"dataframe\">\n",
              "  <thead>\n",
              "    <tr style=\"text-align: right;\">\n",
              "      <th></th>\n",
              "      <th>titulo</th>\n",
              "      <th>id_aluno</th>\n",
              "      <th>SomaLista</th>\n",
              "    </tr>\n",
              "  </thead>\n",
              "  <tbody>\n",
              "    <tr>\n",
              "      <th>0</th>\n",
              "      <td>Lista de Exercícios 1 - Expressões e variáveis</td>\n",
              "      <td>5991cb910be9d42f2f68b906</td>\n",
              "      <td>1100</td>\n",
              "    </tr>\n",
              "  </tbody>\n",
              "</table>\n",
              "</div>"
            ],
            "text/plain": [
              "                                           titulo  ... SomaLista\n",
              "0  Lista de Exercícios 1 - Expressões e variáveis  ...      1100\n",
              "\n",
              "[1 rows x 3 columns]"
            ]
          },
          "metadata": {
            "tags": []
          },
          "execution_count": 167
        }
      ]
    },
    {
      "cell_type": "code",
      "metadata": {
        "id": "xrkgbDhyZtc5",
        "colab_type": "code",
        "outputId": "25efda82-d3a0-4e9a-e41f-c5bcb8c1ca94",
        "colab": {
          "base_uri": "https://localhost:8080/",
          "height": 114
        }
      },
      "source": [
        "mergeQuanNotaLista =  pd.merge(right= quantidade, left = NotaLista, on=['id_aluno','titulo'], how=\"inner\")\n",
        "print(mergeQuanNotaLista.columns)\n",
        "print(mergeQuanNotaLista.shape)\n",
        "mergeQuanNotaLista.head(1)\n"
      ],
      "execution_count": 0,
      "outputs": [
        {
          "output_type": "stream",
          "text": [
            "Index(['titulo', 'id_aluno', 'SomaLista', 'questoesFeitas'], dtype='object')\n",
            "(6657, 4)\n"
          ],
          "name": "stdout"
        },
        {
          "output_type": "execute_result",
          "data": {
            "text/html": [
              "<div>\n",
              "<style scoped>\n",
              "    .dataframe tbody tr th:only-of-type {\n",
              "        vertical-align: middle;\n",
              "    }\n",
              "\n",
              "    .dataframe tbody tr th {\n",
              "        vertical-align: top;\n",
              "    }\n",
              "\n",
              "    .dataframe thead th {\n",
              "        text-align: right;\n",
              "    }\n",
              "</style>\n",
              "<table border=\"1\" class=\"dataframe\">\n",
              "  <thead>\n",
              "    <tr style=\"text-align: right;\">\n",
              "      <th></th>\n",
              "      <th>titulo</th>\n",
              "      <th>id_aluno</th>\n",
              "      <th>SomaLista</th>\n",
              "      <th>questoesFeitas</th>\n",
              "    </tr>\n",
              "  </thead>\n",
              "  <tbody>\n",
              "    <tr>\n",
              "      <th>0</th>\n",
              "      <td>Lista de Exercícios 1 - Expressões e variáveis</td>\n",
              "      <td>5991cb910be9d42f2f68b906</td>\n",
              "      <td>1100</td>\n",
              "      <td>11</td>\n",
              "    </tr>\n",
              "  </tbody>\n",
              "</table>\n",
              "</div>"
            ],
            "text/plain": [
              "                                           titulo  ... questoesFeitas\n",
              "0  Lista de Exercícios 1 - Expressões e variáveis  ...             11\n",
              "\n",
              "[1 rows x 4 columns]"
            ]
          },
          "metadata": {
            "tags": []
          },
          "execution_count": 168
        }
      ]
    },
    {
      "cell_type": "markdown",
      "metadata": {
        "id": "tVAYs1f6jAEj",
        "colab_type": "text"
      },
      "source": [
        "**Quantidade de questoes por lista**"
      ]
    },
    {
      "cell_type": "code",
      "metadata": {
        "id": "aW34ME3nfdlH",
        "colab_type": "code",
        "outputId": "a32c0136-95f9-424d-9a35-e39f121de2af",
        "colab": {
          "base_uri": "https://localhost:8080/",
          "height": 221
        }
      },
      "source": [
        "quantQuesList = listaNovo[['quantidade','titulo']]\n",
        "quantQuesList =quantQuesList.drop_duplicates()\n",
        "print(quantQuesList.shape)\n",
        "quantQuesList.head()\n",
        "\n"
      ],
      "execution_count": 0,
      "outputs": [
        {
          "output_type": "stream",
          "text": [
            "(23, 2)\n"
          ],
          "name": "stdout"
        },
        {
          "output_type": "execute_result",
          "data": {
            "text/html": [
              "<div>\n",
              "<style scoped>\n",
              "    .dataframe tbody tr th:only-of-type {\n",
              "        vertical-align: middle;\n",
              "    }\n",
              "\n",
              "    .dataframe tbody tr th {\n",
              "        vertical-align: top;\n",
              "    }\n",
              "\n",
              "    .dataframe thead th {\n",
              "        text-align: right;\n",
              "    }\n",
              "</style>\n",
              "<table border=\"1\" class=\"dataframe\">\n",
              "  <thead>\n",
              "    <tr style=\"text-align: right;\">\n",
              "      <th></th>\n",
              "      <th>quantidade</th>\n",
              "      <th>titulo</th>\n",
              "    </tr>\n",
              "  </thead>\n",
              "  <tbody>\n",
              "    <tr>\n",
              "      <th>0</th>\n",
              "      <td>5</td>\n",
              "      <td>Lista de Laboratório 1 - Expressões Aritmética...</td>\n",
              "    </tr>\n",
              "    <tr>\n",
              "      <th>5</th>\n",
              "      <td>5</td>\n",
              "      <td>Lista de Laboratório 2 - Expressões Lógicas e ...</td>\n",
              "    </tr>\n",
              "    <tr>\n",
              "      <th>10</th>\n",
              "      <td>18</td>\n",
              "      <td>Lista de Exercícios 2 - Estruturas Condicionais</td>\n",
              "    </tr>\n",
              "    <tr>\n",
              "      <th>28</th>\n",
              "      <td>15</td>\n",
              "      <td>Lista de Exercícios 3 - Laço Condicional</td>\n",
              "    </tr>\n",
              "    <tr>\n",
              "      <th>43</th>\n",
              "      <td>5</td>\n",
              "      <td>Lista de Laboratório 3 -  Estruturas de Repeti...</td>\n",
              "    </tr>\n",
              "  </tbody>\n",
              "</table>\n",
              "</div>"
            ],
            "text/plain": [
              "    quantidade                                             titulo\n",
              "0            5  Lista de Laboratório 1 - Expressões Aritmética...\n",
              "5            5  Lista de Laboratório 2 - Expressões Lógicas e ...\n",
              "10          18    Lista de Exercícios 2 - Estruturas Condicionais\n",
              "28          15           Lista de Exercícios 3 - Laço Condicional\n",
              "43           5  Lista de Laboratório 3 -  Estruturas de Repeti..."
            ]
          },
          "metadata": {
            "tags": []
          },
          "execution_count": 173
        }
      ]
    },
    {
      "cell_type": "markdown",
      "metadata": {
        "id": "-CZxcN9-xTwh",
        "colab_type": "text"
      },
      "source": [
        "**Concatenando as informações das tabelas mergeQuanNotaLista e quantidade para calcular o nota final de cada lista**"
      ]
    },
    {
      "cell_type": "code",
      "metadata": {
        "id": "wi0x_t8MjWnp",
        "colab_type": "code",
        "outputId": "47585ae9-008c-4f32-b608-d4ffb58b51d4",
        "colab": {
          "base_uri": "https://localhost:8080/",
          "height": 210
        }
      },
      "source": [
        "mergeQuanNotaListaQuanQ = mergeQuanNotaLista.join(quantQuesList.set_index('titulo'), on='titulo')\n",
        "mergeQuanNotaListaQuanQ[\"NotaLista\"]= mergeQuanNotaListaQuanQ[\"SomaLista\"] /mergeQuanNotaListaQuanQ['quantidade']\n",
        "print(mergeQuanNotaListaQuanQ.columns)\n",
        "print(mergeQuanNotaListaQuanQ.shape)\n",
        "mergeQuanNotaListaQuanQ.head(3)"
      ],
      "execution_count": 0,
      "outputs": [
        {
          "output_type": "stream",
          "text": [
            "Index(['titulo', 'id_aluno', 'SomaLista', 'questoesFeitas', 'quantidade',\n",
            "       'NotaLista'],\n",
            "      dtype='object')\n",
            "(6657, 6)\n"
          ],
          "name": "stdout"
        },
        {
          "output_type": "execute_result",
          "data": {
            "text/html": [
              "<div>\n",
              "<style scoped>\n",
              "    .dataframe tbody tr th:only-of-type {\n",
              "        vertical-align: middle;\n",
              "    }\n",
              "\n",
              "    .dataframe tbody tr th {\n",
              "        vertical-align: top;\n",
              "    }\n",
              "\n",
              "    .dataframe thead th {\n",
              "        text-align: right;\n",
              "    }\n",
              "</style>\n",
              "<table border=\"1\" class=\"dataframe\">\n",
              "  <thead>\n",
              "    <tr style=\"text-align: right;\">\n",
              "      <th></th>\n",
              "      <th>titulo</th>\n",
              "      <th>id_aluno</th>\n",
              "      <th>SomaLista</th>\n",
              "      <th>questoesFeitas</th>\n",
              "      <th>quantidade</th>\n",
              "      <th>NotaLista</th>\n",
              "    </tr>\n",
              "  </thead>\n",
              "  <tbody>\n",
              "    <tr>\n",
              "      <th>0</th>\n",
              "      <td>Lista de Exercícios 1 - Expressões e variáveis</td>\n",
              "      <td>5991cb910be9d42f2f68b906</td>\n",
              "      <td>1100</td>\n",
              "      <td>11</td>\n",
              "      <td>15</td>\n",
              "      <td>73.333333</td>\n",
              "    </tr>\n",
              "    <tr>\n",
              "      <th>1</th>\n",
              "      <td>Lista de Exercícios 1 - Expressões e variáveis</td>\n",
              "      <td>5991cd1a8907ca2f441cd313</td>\n",
              "      <td>500</td>\n",
              "      <td>5</td>\n",
              "      <td>15</td>\n",
              "      <td>33.333333</td>\n",
              "    </tr>\n",
              "    <tr>\n",
              "      <th>2</th>\n",
              "      <td>Lista de Exercícios 1 - Expressões e variáveis</td>\n",
              "      <td>5991cd34b3c8b42f3d5da3fd</td>\n",
              "      <td>600</td>\n",
              "      <td>6</td>\n",
              "      <td>15</td>\n",
              "      <td>40.000000</td>\n",
              "    </tr>\n",
              "  </tbody>\n",
              "</table>\n",
              "</div>"
            ],
            "text/plain": [
              "                                           titulo  ...  NotaLista\n",
              "0  Lista de Exercícios 1 - Expressões e variáveis  ...  73.333333\n",
              "1  Lista de Exercícios 1 - Expressões e variáveis  ...  33.333333\n",
              "2  Lista de Exercícios 1 - Expressões e variáveis  ...  40.000000\n",
              "\n",
              "[3 rows x 6 columns]"
            ]
          },
          "metadata": {
            "tags": []
          },
          "execution_count": 176
        }
      ]
    },
    {
      "cell_type": "markdown",
      "metadata": {
        "id": "YpzJ92ciyVHX",
        "colab_type": "text"
      },
      "source": [
        "**Tabela final com todas as informações do aluno**"
      ]
    },
    {
      "cell_type": "code",
      "metadata": {
        "id": "iPiMlcODpsR2",
        "colab_type": "code",
        "outputId": "737f9055-d1da-45d5-b00a-606f39e65509",
        "colab": {
          "base_uri": "https://localhost:8080/",
          "height": 573
        }
      },
      "source": [
        "merge_user_turmas_sub_lista_M = merge_user_turmas_sub_lista[[\"titulo\",'id_aluno', 'ano', 'descricaoHorario', 'descricaoTurma', 'id_turma','matricula','nome']]\n",
        "mergeQuanNotaListaQuan_M = mergeQuanNotaListaQuanQ[['titulo', 'id_aluno','questoesFeitas', 'quantidade','NotaLista']]\n",
        "tabelaFinal= mergeQuanNotaListaQuan_M.join(merge_user_turmas_sub_lista_M.set_index(['titulo','id_aluno']), on=['titulo','id_aluno'])\n",
        "#remover as linhas duplicadas\n",
        "tabelaFinal =tabelaFinal.drop_duplicates()\n",
        "print(tabelaFinal.shape)\n",
        "print(tabelaFinal.info())\n",
        "tabelaFinal.head()"
      ],
      "execution_count": 0,
      "outputs": [
        {
          "output_type": "stream",
          "text": [
            "(7485, 11)\n",
            "<class 'pandas.core.frame.DataFrame'>\n",
            "Int64Index: 7485 entries, 0 to 6656\n",
            "Data columns (total 11 columns):\n",
            "titulo              7485 non-null object\n",
            "id_aluno            7485 non-null object\n",
            "questoesFeitas      7485 non-null int64\n",
            "quantidade          7485 non-null int64\n",
            "NotaLista           7485 non-null float64\n",
            "ano                 7485 non-null float64\n",
            "descricaoHorario    7485 non-null object\n",
            "descricaoTurma      7485 non-null object\n",
            "id_turma            7485 non-null object\n",
            "matricula           7485 non-null object\n",
            "nome                7485 non-null object\n",
            "dtypes: float64(2), int64(2), object(7)\n",
            "memory usage: 701.7+ KB\n",
            "None\n"
          ],
          "name": "stdout"
        },
        {
          "output_type": "execute_result",
          "data": {
            "text/html": [
              "<div>\n",
              "<style scoped>\n",
              "    .dataframe tbody tr th:only-of-type {\n",
              "        vertical-align: middle;\n",
              "    }\n",
              "\n",
              "    .dataframe tbody tr th {\n",
              "        vertical-align: top;\n",
              "    }\n",
              "\n",
              "    .dataframe thead th {\n",
              "        text-align: right;\n",
              "    }\n",
              "</style>\n",
              "<table border=\"1\" class=\"dataframe\">\n",
              "  <thead>\n",
              "    <tr style=\"text-align: right;\">\n",
              "      <th></th>\n",
              "      <th>titulo</th>\n",
              "      <th>id_aluno</th>\n",
              "      <th>questoesFeitas</th>\n",
              "      <th>quantidade</th>\n",
              "      <th>NotaLista</th>\n",
              "      <th>ano</th>\n",
              "      <th>descricaoHorario</th>\n",
              "      <th>descricaoTurma</th>\n",
              "      <th>id_turma</th>\n",
              "      <th>matricula</th>\n",
              "      <th>nome</th>\n",
              "    </tr>\n",
              "  </thead>\n",
              "  <tbody>\n",
              "    <tr>\n",
              "      <th>0</th>\n",
              "      <td>Lista de Exercícios 1 - Expressões e variáveis</td>\n",
              "      <td>5991cb910be9d42f2f68b906</td>\n",
              "      <td>11</td>\n",
              "      <td>15</td>\n",
              "      <td>73.333333</td>\n",
              "      <td>2017.2</td>\n",
              "      <td>24M12  2T12 (24/07/2017 - 26/11/2017)</td>\n",
              "      <td>LÓGICA DE PROGRAMAÇÃO - Turma 01A</td>\n",
              "      <td>598e15296d8650eb27d52e3d</td>\n",
              "      <td>20170039453</td>\n",
              "      <td>AMANDA</td>\n",
              "    </tr>\n",
              "    <tr>\n",
              "      <th>1</th>\n",
              "      <td>Lista de Exercícios 1 - Expressões e variáveis</td>\n",
              "      <td>5991cd1a8907ca2f441cd313</td>\n",
              "      <td>5</td>\n",
              "      <td>15</td>\n",
              "      <td>33.333333</td>\n",
              "      <td>2017.2</td>\n",
              "      <td>24M12  2T12 (24/07/2017 - 26/11/2017)</td>\n",
              "      <td>LÓGICA DE PROGRAMAÇÃO - Turma 01B</td>\n",
              "      <td>598e15296d8650eb27d52e5f</td>\n",
              "      <td>20170038394</td>\n",
              "      <td>EMANUEL FERNANDES P. DA ROCHA</td>\n",
              "    </tr>\n",
              "  </tbody>\n",
              "</table>\n",
              "</div>"
            ],
            "text/plain": [
              "                                           titulo  ...                           nome\n",
              "0  Lista de Exercícios 1 - Expressões e variáveis  ...                         AMANDA\n",
              "1  Lista de Exercícios 1 - Expressões e variáveis  ...  EMANUEL FERNANDES P. DA ROCHA\n",
              "\n",
              "[2 rows x 11 columns]"
            ]
          },
          "metadata": {
            "tags": []
          },
          "execution_count": 177
        }
      ]
    },
    {
      "cell_type": "markdown",
      "metadata": {
        "id": "mIvJUg520e81",
        "colab_type": "text"
      },
      "source": [
        "**Exportando o dataframe para um arquivo CSV**"
      ]
    },
    {
      "cell_type": "code",
      "metadata": {
        "id": "gcOW47zK0egw",
        "colab_type": "code",
        "colab": {}
      },
      "source": [
        "tabelaFinal.to_csv(r'Lop.csv')"
      ],
      "execution_count": 0,
      "outputs": []
    },
    {
      "cell_type": "markdown",
      "metadata": {
        "id": "KVGngUNPzdkp",
        "colab_type": "text"
      },
      "source": [
        "**Consulta por aluno**"
      ]
    },
    {
      "cell_type": "code",
      "metadata": {
        "id": "MfHLWZaNrcqI",
        "colab_type": "code",
        "outputId": "874f4f5e-c0f5-41b4-e4cd-caaec594f024",
        "colab": {
          "base_uri": "https://localhost:8080/",
          "height": 727
        }
      },
      "source": [
        "tabelaFinal.loc[tabelaFinal[\"matricula\"]=='20180029933',[\"titulo\",'id_aluno', 'ano', 'id_turma','matricula','nome','questoesFeitas','NotaLista' ,'quantidade']]"
      ],
      "execution_count": 0,
      "outputs": [
        {
          "output_type": "execute_result",
          "data": {
            "text/html": [
              "<div>\n",
              "<style scoped>\n",
              "    .dataframe tbody tr th:only-of-type {\n",
              "        vertical-align: middle;\n",
              "    }\n",
              "\n",
              "    .dataframe tbody tr th {\n",
              "        vertical-align: top;\n",
              "    }\n",
              "\n",
              "    .dataframe thead th {\n",
              "        text-align: right;\n",
              "    }\n",
              "</style>\n",
              "<table border=\"1\" class=\"dataframe\">\n",
              "  <thead>\n",
              "    <tr style=\"text-align: right;\">\n",
              "      <th></th>\n",
              "      <th>titulo</th>\n",
              "      <th>id_aluno</th>\n",
              "      <th>ano</th>\n",
              "      <th>id_turma</th>\n",
              "      <th>matricula</th>\n",
              "      <th>nome</th>\n",
              "      <th>questoesFeitas</th>\n",
              "      <th>NotaLista</th>\n",
              "      <th>quantidade</th>\n",
              "    </tr>\n",
              "  </thead>\n",
              "  <tbody>\n",
              "    <tr>\n",
              "      <th>319</th>\n",
              "      <td>Lista de Exercícios 1 - Expressões e variáveis</td>\n",
              "      <td>5b74c74a9513a60408ac2862</td>\n",
              "      <td>2018.2</td>\n",
              "      <td>5b7afe6db50b336749898165</td>\n",
              "      <td>20180029933</td>\n",
              "      <td>PEDRO PAULO</td>\n",
              "      <td>8</td>\n",
              "      <td>51.666667</td>\n",
              "      <td>15</td>\n",
              "    </tr>\n",
              "    <tr>\n",
              "      <th>941</th>\n",
              "      <td>Lista de Exercícios 2 - Estruturas Condicionais</td>\n",
              "      <td>5b74c74a9513a60408ac2862</td>\n",
              "      <td>2018.2</td>\n",
              "      <td>5b7afe6db50b336749898165</td>\n",
              "      <td>20180029933</td>\n",
              "      <td>PEDRO PAULO</td>\n",
              "      <td>15</td>\n",
              "      <td>83.333333</td>\n",
              "      <td>18</td>\n",
              "    </tr>\n",
              "    <tr>\n",
              "      <th>1615</th>\n",
              "      <td>Lista de Exercícios 3 - Laço Condicional</td>\n",
              "      <td>5b74c74a9513a60408ac2862</td>\n",
              "      <td>2018.2</td>\n",
              "      <td>5b7afe6db50b336749898165</td>\n",
              "      <td>20180029933</td>\n",
              "      <td>PEDRO PAULO</td>\n",
              "      <td>7</td>\n",
              "      <td>46.666667</td>\n",
              "      <td>15</td>\n",
              "    </tr>\n",
              "    <tr>\n",
              "      <th>2153</th>\n",
              "      <td>Lista de Exercícios 4 - Laço contado</td>\n",
              "      <td>5b74c74a9513a60408ac2862</td>\n",
              "      <td>2018.2</td>\n",
              "      <td>5b7afe6db50b336749898165</td>\n",
              "      <td>20180029933</td>\n",
              "      <td>PEDRO PAULO</td>\n",
              "      <td>5</td>\n",
              "      <td>31.250000</td>\n",
              "      <td>16</td>\n",
              "    </tr>\n",
              "    <tr>\n",
              "      <th>2808</th>\n",
              "      <td>Lista de Exercícios 5 - Vetores</td>\n",
              "      <td>5b74c74a9513a60408ac2862</td>\n",
              "      <td>2018.2</td>\n",
              "      <td>5b7afe6db50b336749898165</td>\n",
              "      <td>20180029933</td>\n",
              "      <td>PEDRO PAULO</td>\n",
              "      <td>8</td>\n",
              "      <td>50.000000</td>\n",
              "      <td>16</td>\n",
              "    </tr>\n",
              "    <tr>\n",
              "      <th>3217</th>\n",
              "      <td>Lista de Laboratório 1 - Expressões Aritmética...</td>\n",
              "      <td>5b74c74a9513a60408ac2862</td>\n",
              "      <td>2018.2</td>\n",
              "      <td>5b7afe6db50b336749898165</td>\n",
              "      <td>20180029933</td>\n",
              "      <td>PEDRO PAULO</td>\n",
              "      <td>5</td>\n",
              "      <td>100.000000</td>\n",
              "      <td>5</td>\n",
              "    </tr>\n",
              "    <tr>\n",
              "      <th>3810</th>\n",
              "      <td>Lista de Laboratório 2 - Expressões Lógicas e ...</td>\n",
              "      <td>5b74c74a9513a60408ac2862</td>\n",
              "      <td>2018.2</td>\n",
              "      <td>5b7afe6db50b336749898165</td>\n",
              "      <td>20180029933</td>\n",
              "      <td>PEDRO PAULO</td>\n",
              "      <td>5</td>\n",
              "      <td>100.000000</td>\n",
              "      <td>5</td>\n",
              "    </tr>\n",
              "    <tr>\n",
              "      <th>4441</th>\n",
              "      <td>Lista de Laboratório 3 -  Estruturas de Repeti...</td>\n",
              "      <td>5b74c74a9513a60408ac2862</td>\n",
              "      <td>2018.2</td>\n",
              "      <td>5b7afe6db50b336749898165</td>\n",
              "      <td>20180029933</td>\n",
              "      <td>PEDRO PAULO</td>\n",
              "      <td>3</td>\n",
              "      <td>60.000000</td>\n",
              "      <td>5</td>\n",
              "    </tr>\n",
              "    <tr>\n",
              "      <th>4915</th>\n",
              "      <td>Lista de Laboratório 4 - Repetição Contada</td>\n",
              "      <td>5b74c74a9513a60408ac2862</td>\n",
              "      <td>2018.2</td>\n",
              "      <td>5b7afe6db50b336749898165</td>\n",
              "      <td>20180029933</td>\n",
              "      <td>PEDRO PAULO</td>\n",
              "      <td>1</td>\n",
              "      <td>20.000000</td>\n",
              "      <td>5</td>\n",
              "    </tr>\n",
              "    <tr>\n",
              "      <th>5333</th>\n",
              "      <td>Lista de Laboratório 5 - Vetores</td>\n",
              "      <td>5b74c74a9513a60408ac2862</td>\n",
              "      <td>2018.2</td>\n",
              "      <td>5b7afe6db50b336749898165</td>\n",
              "      <td>20180029933</td>\n",
              "      <td>PEDRO PAULO</td>\n",
              "      <td>5</td>\n",
              "      <td>100.000000</td>\n",
              "      <td>5</td>\n",
              "    </tr>\n",
              "    <tr>\n",
              "      <th>5780</th>\n",
              "      <td>Lista de Revisão Unidade 1</td>\n",
              "      <td>5b74c74a9513a60408ac2862</td>\n",
              "      <td>2018.2</td>\n",
              "      <td>5b7afe6db50b336749898165</td>\n",
              "      <td>20180029933</td>\n",
              "      <td>PEDRO PAULO</td>\n",
              "      <td>3</td>\n",
              "      <td>33.333333</td>\n",
              "      <td>9</td>\n",
              "    </tr>\n",
              "    <tr>\n",
              "      <th>6189</th>\n",
              "      <td>Prova 1 - Turma 09 - 2017.1</td>\n",
              "      <td>5b74c74a9513a60408ac2862</td>\n",
              "      <td>2018.2</td>\n",
              "      <td>5b7afe6db50b336749898165</td>\n",
              "      <td>20180029933</td>\n",
              "      <td>PEDRO PAULO</td>\n",
              "      <td>1</td>\n",
              "      <td>20.000000</td>\n",
              "      <td>5</td>\n",
              "    </tr>\n",
              "  </tbody>\n",
              "</table>\n",
              "</div>"
            ],
            "text/plain": [
              "                                                 titulo  ... quantidade\n",
              "319      Lista de Exercícios 1 - Expressões e variáveis  ...         15\n",
              "941     Lista de Exercícios 2 - Estruturas Condicionais  ...         18\n",
              "1615           Lista de Exercícios 3 - Laço Condicional  ...         15\n",
              "2153               Lista de Exercícios 4 - Laço contado  ...         16\n",
              "2808                    Lista de Exercícios 5 - Vetores  ...         16\n",
              "3217  Lista de Laboratório 1 - Expressões Aritmética...  ...          5\n",
              "3810  Lista de Laboratório 2 - Expressões Lógicas e ...  ...          5\n",
              "4441  Lista de Laboratório 3 -  Estruturas de Repeti...  ...          5\n",
              "4915         Lista de Laboratório 4 - Repetição Contada  ...          5\n",
              "5333                   Lista de Laboratório 5 - Vetores  ...          5\n",
              "5780                         Lista de Revisão Unidade 1  ...          9\n",
              "6189                        Prova 1 - Turma 09 - 2017.1  ...          5\n",
              "\n",
              "[12 rows x 9 columns]"
            ]
          },
          "metadata": {
            "tags": []
          },
          "execution_count": 185
        }
      ]
    },
    {
      "cell_type": "markdown",
      "metadata": {
        "id": "PAngbTPA63JQ",
        "colab_type": "text"
      },
      "source": [
        "**Media das notas das listas por ano**"
      ]
    },
    {
      "cell_type": "code",
      "metadata": {
        "id": "slcOZ-Z57CnE",
        "colab_type": "code",
        "outputId": "7d728674-39a9-4ae2-dbf2-44ce9d4a072e",
        "colab": {
          "base_uri": "https://localhost:8080/",
          "height": 2816
        }
      },
      "source": [
        "ano2019 = tabelaFinal.loc[ (tabelaFinal[\"ano\"] == 2018.1) & (tabelaFinal[\"titulo\"].str.contains('Lista de Laboratório', regex=False)) ]\n",
        "a = ano2019.groupby([\"titulo\",\"descricaoTurma\",\"ano\"]).mean()\n",
        "a"
      ],
      "execution_count": 0,
      "outputs": [
        {
          "output_type": "execute_result",
          "data": {
            "text/html": [
              "<div>\n",
              "<style scoped>\n",
              "    .dataframe tbody tr th:only-of-type {\n",
              "        vertical-align: middle;\n",
              "    }\n",
              "\n",
              "    .dataframe tbody tr th {\n",
              "        vertical-align: top;\n",
              "    }\n",
              "\n",
              "    .dataframe thead th {\n",
              "        text-align: right;\n",
              "    }\n",
              "</style>\n",
              "<table border=\"1\" class=\"dataframe\">\n",
              "  <thead>\n",
              "    <tr style=\"text-align: right;\">\n",
              "      <th></th>\n",
              "      <th></th>\n",
              "      <th></th>\n",
              "      <th>questoesFeitas</th>\n",
              "      <th>quantidade</th>\n",
              "      <th>NotaLista</th>\n",
              "    </tr>\n",
              "    <tr>\n",
              "      <th>titulo</th>\n",
              "      <th>descricaoTurma</th>\n",
              "      <th>ano</th>\n",
              "      <th></th>\n",
              "      <th></th>\n",
              "      <th></th>\n",
              "    </tr>\n",
              "  </thead>\n",
              "  <tbody>\n",
              "    <tr>\n",
              "      <th rowspan=\"12\" valign=\"top\">Lista de Laboratório 1 - Expressões Aritméticas e Variáveis</th>\n",
              "      <th>LÓGICA DE PROGRAMAÇÃO - Turma 01A</th>\n",
              "      <th>2018.1</th>\n",
              "      <td>2.500000</td>\n",
              "      <td>5.0</td>\n",
              "      <td>42.500000</td>\n",
              "    </tr>\n",
              "    <tr>\n",
              "      <th>LÓGICA DE PROGRAMAÇÃO - Turma 01B</th>\n",
              "      <th>2018.1</th>\n",
              "      <td>3.833333</td>\n",
              "      <td>5.0</td>\n",
              "      <td>66.666667</td>\n",
              "    </tr>\n",
              "    <tr>\n",
              "      <th>LÓGICA DE PROGRAMAÇÃO - Turma 01C</th>\n",
              "      <th>2018.1</th>\n",
              "      <td>3.666667</td>\n",
              "      <td>5.0</td>\n",
              "      <td>66.666667</td>\n",
              "    </tr>\n",
              "    <tr>\n",
              "      <th>LÓGICA DE PROGRAMAÇÃO - Turma 01D</th>\n",
              "      <th>2018.1</th>\n",
              "      <td>3.200000</td>\n",
              "      <td>5.0</td>\n",
              "      <td>60.000000</td>\n",
              "    </tr>\n",
              "    <tr>\n",
              "      <th>LÓGICA DE PROGRAMAÇÃO - Turma 02A</th>\n",
              "      <th>2018.1</th>\n",
              "      <td>4.100000</td>\n",
              "      <td>5.0</td>\n",
              "      <td>78.000000</td>\n",
              "    </tr>\n",
              "    <tr>\n",
              "      <th>LÓGICA DE PROGRAMAÇÃO - Turma 02B</th>\n",
              "      <th>2018.1</th>\n",
              "      <td>3.400000</td>\n",
              "      <td>5.0</td>\n",
              "      <td>62.000000</td>\n",
              "    </tr>\n",
              "    <tr>\n",
              "      <th>LÓGICA DE PROGRAMAÇÃO - Turma 02C</th>\n",
              "      <th>2018.1</th>\n",
              "      <td>4.160000</td>\n",
              "      <td>5.0</td>\n",
              "      <td>80.000000</td>\n",
              "    </tr>\n",
              "    <tr>\n",
              "      <th>LÓGICA DE PROGRAMAÇÃO - Turma 02D</th>\n",
              "      <th>2018.1</th>\n",
              "      <td>3.714286</td>\n",
              "      <td>5.0</td>\n",
              "      <td>66.666667</td>\n",
              "    </tr>\n",
              "    <tr>\n",
              "      <th>LÓGICA DE PROGRAMAÇÃO - Turma 03A</th>\n",
              "      <th>2018.1</th>\n",
              "      <td>3.388889</td>\n",
              "      <td>5.0</td>\n",
              "      <td>58.233333</td>\n",
              "    </tr>\n",
              "    <tr>\n",
              "      <th>LÓGICA DE PROGRAMAÇÃO - Turma 03B</th>\n",
              "      <th>2018.1</th>\n",
              "      <td>2.600000</td>\n",
              "      <td>5.0</td>\n",
              "      <td>46.666667</td>\n",
              "    </tr>\n",
              "    <tr>\n",
              "      <th>LÓGICA DE PROGRAMAÇÃO - Turma 03C</th>\n",
              "      <th>2018.1</th>\n",
              "      <td>4.777778</td>\n",
              "      <td>5.0</td>\n",
              "      <td>88.888889</td>\n",
              "    </tr>\n",
              "    <tr>\n",
              "      <th>LÓGICA DE PROGRAMAÇÃO - Turma 03D</th>\n",
              "      <th>2018.1</th>\n",
              "      <td>4.000000</td>\n",
              "      <td>5.0</td>\n",
              "      <td>70.000000</td>\n",
              "    </tr>\n",
              "    <tr>\n",
              "      <th rowspan=\"12\" valign=\"top\">Lista de Laboratório 2 - Expressões Lógicas e Estruturas de Seleção</th>\n",
              "      <th>LÓGICA DE PROGRAMAÇÃO - Turma 01A</th>\n",
              "      <th>2018.1</th>\n",
              "      <td>4.555556</td>\n",
              "      <td>5.0</td>\n",
              "      <td>91.111111</td>\n",
              "    </tr>\n",
              "    <tr>\n",
              "      <th>LÓGICA DE PROGRAMAÇÃO - Turma 01B</th>\n",
              "      <th>2018.1</th>\n",
              "      <td>4.285714</td>\n",
              "      <td>5.0</td>\n",
              "      <td>76.857143</td>\n",
              "    </tr>\n",
              "    <tr>\n",
              "      <th>LÓGICA DE PROGRAMAÇÃO - Turma 01C</th>\n",
              "      <th>2018.1</th>\n",
              "      <td>4.625000</td>\n",
              "      <td>5.0</td>\n",
              "      <td>92.000000</td>\n",
              "    </tr>\n",
              "    <tr>\n",
              "      <th>LÓGICA DE PROGRAMAÇÃO - Turma 01D</th>\n",
              "      <th>2018.1</th>\n",
              "      <td>3.428571</td>\n",
              "      <td>5.0</td>\n",
              "      <td>68.571429</td>\n",
              "    </tr>\n",
              "    <tr>\n",
              "      <th>LÓGICA DE PROGRAMAÇÃO - Turma 02A</th>\n",
              "      <th>2018.1</th>\n",
              "      <td>3.833333</td>\n",
              "      <td>5.0</td>\n",
              "      <td>73.666667</td>\n",
              "    </tr>\n",
              "    <tr>\n",
              "      <th>LÓGICA DE PROGRAMAÇÃO - Turma 02B</th>\n",
              "      <th>2018.1</th>\n",
              "      <td>4.750000</td>\n",
              "      <td>5.0</td>\n",
              "      <td>89.750000</td>\n",
              "    </tr>\n",
              "    <tr>\n",
              "      <th>LÓGICA DE PROGRAMAÇÃO - Turma 02C</th>\n",
              "      <th>2018.1</th>\n",
              "      <td>4.190476</td>\n",
              "      <td>5.0</td>\n",
              "      <td>83.428571</td>\n",
              "    </tr>\n",
              "    <tr>\n",
              "      <th>LÓGICA DE PROGRAMAÇÃO - Turma 02D</th>\n",
              "      <th>2018.1</th>\n",
              "      <td>4.722222</td>\n",
              "      <td>5.0</td>\n",
              "      <td>88.555556</td>\n",
              "    </tr>\n",
              "    <tr>\n",
              "      <th>LÓGICA DE PROGRAMAÇÃO - Turma 03A</th>\n",
              "      <th>2018.1</th>\n",
              "      <td>3.294118</td>\n",
              "      <td>5.0</td>\n",
              "      <td>65.117647</td>\n",
              "    </tr>\n",
              "    <tr>\n",
              "      <th>LÓGICA DE PROGRAMAÇÃO - Turma 03B</th>\n",
              "      <th>2018.1</th>\n",
              "      <td>3.363636</td>\n",
              "      <td>5.0</td>\n",
              "      <td>64.000000</td>\n",
              "    </tr>\n",
              "    <tr>\n",
              "      <th>LÓGICA DE PROGRAMAÇÃO - Turma 03C</th>\n",
              "      <th>2018.1</th>\n",
              "      <td>4.666667</td>\n",
              "      <td>5.0</td>\n",
              "      <td>92.222222</td>\n",
              "    </tr>\n",
              "    <tr>\n",
              "      <th>LÓGICA DE PROGRAMAÇÃO - Turma 03D</th>\n",
              "      <th>2018.1</th>\n",
              "      <td>5.000000</td>\n",
              "      <td>5.0</td>\n",
              "      <td>78.000000</td>\n",
              "    </tr>\n",
              "    <tr>\n",
              "      <th rowspan=\"12\" valign=\"top\">Lista de Laboratório 3 -  Estruturas de Repetição Condicional</th>\n",
              "      <th>LÓGICA DE PROGRAMAÇÃO - Turma 01A</th>\n",
              "      <th>2018.1</th>\n",
              "      <td>3.400000</td>\n",
              "      <td>5.0</td>\n",
              "      <td>64.000000</td>\n",
              "    </tr>\n",
              "    <tr>\n",
              "      <th>LÓGICA DE PROGRAMAÇÃO - Turma 01B</th>\n",
              "      <th>2018.1</th>\n",
              "      <td>2.450000</td>\n",
              "      <td>5.0</td>\n",
              "      <td>48.740000</td>\n",
              "    </tr>\n",
              "    <tr>\n",
              "      <th>LÓGICA DE PROGRAMAÇÃO - Turma 01C</th>\n",
              "      <th>2018.1</th>\n",
              "      <td>3.555556</td>\n",
              "      <td>5.0</td>\n",
              "      <td>68.133333</td>\n",
              "    </tr>\n",
              "    <tr>\n",
              "      <th>LÓGICA DE PROGRAMAÇÃO - Turma 01D</th>\n",
              "      <th>2018.1</th>\n",
              "      <td>1.777778</td>\n",
              "      <td>5.0</td>\n",
              "      <td>33.155556</td>\n",
              "    </tr>\n",
              "    <tr>\n",
              "      <th>LÓGICA DE PROGRAMAÇÃO - Turma 02A</th>\n",
              "      <th>2018.1</th>\n",
              "      <td>3.250000</td>\n",
              "      <td>5.0</td>\n",
              "      <td>62.275000</td>\n",
              "    </tr>\n",
              "    <tr>\n",
              "      <th>LÓGICA DE PROGRAMAÇÃO - Turma 02B</th>\n",
              "      <th>2018.1</th>\n",
              "      <td>3.428571</td>\n",
              "      <td>5.0</td>\n",
              "      <td>68.571429</td>\n",
              "    </tr>\n",
              "    <tr>\n",
              "      <th>LÓGICA DE PROGRAMAÇÃO - Turma 02C</th>\n",
              "      <th>2018.1</th>\n",
              "      <td>3.500000</td>\n",
              "      <td>5.0</td>\n",
              "      <td>69.420000</td>\n",
              "    </tr>\n",
              "    <tr>\n",
              "      <th>LÓGICA DE PROGRAMAÇÃO - Turma 02D</th>\n",
              "      <th>2018.1</th>\n",
              "      <td>3.421053</td>\n",
              "      <td>5.0</td>\n",
              "      <td>64.389474</td>\n",
              "    </tr>\n",
              "    <tr>\n",
              "      <th>LÓGICA DE PROGRAMAÇÃO - Turma 03A</th>\n",
              "      <th>2018.1</th>\n",
              "      <td>2.888889</td>\n",
              "      <td>5.0</td>\n",
              "      <td>57.211111</td>\n",
              "    </tr>\n",
              "    <tr>\n",
              "      <th>LÓGICA DE PROGRAMAÇÃO - Turma 03B</th>\n",
              "      <th>2018.1</th>\n",
              "      <td>2.727273</td>\n",
              "      <td>5.0</td>\n",
              "      <td>52.200000</td>\n",
              "    </tr>\n",
              "    <tr>\n",
              "      <th>LÓGICA DE PROGRAMAÇÃO - Turma 03C</th>\n",
              "      <th>2018.1</th>\n",
              "      <td>4.250000</td>\n",
              "      <td>5.0</td>\n",
              "      <td>85.000000</td>\n",
              "    </tr>\n",
              "    <tr>\n",
              "      <th>LÓGICA DE PROGRAMAÇÃO - Turma 03D</th>\n",
              "      <th>2018.1</th>\n",
              "      <td>3.200000</td>\n",
              "      <td>5.0</td>\n",
              "      <td>63.680000</td>\n",
              "    </tr>\n",
              "    <tr>\n",
              "      <th rowspan=\"9\" valign=\"top\">Lista de Laboratório 4 - Repetição Contada</th>\n",
              "      <th>LÓGICA DE PROGRAMAÇÃO - Turma 01C</th>\n",
              "      <th>2018.1</th>\n",
              "      <td>2.200000</td>\n",
              "      <td>5.0</td>\n",
              "      <td>44.000000</td>\n",
              "    </tr>\n",
              "    <tr>\n",
              "      <th>LÓGICA DE PROGRAMAÇÃO - Turma 02A</th>\n",
              "      <th>2018.1</th>\n",
              "      <td>3.142857</td>\n",
              "      <td>5.0</td>\n",
              "      <td>61.885714</td>\n",
              "    </tr>\n",
              "    <tr>\n",
              "      <th>LÓGICA DE PROGRAMAÇÃO - Turma 02B</th>\n",
              "      <th>2018.1</th>\n",
              "      <td>3.600000</td>\n",
              "      <td>5.0</td>\n",
              "      <td>68.800000</td>\n",
              "    </tr>\n",
              "    <tr>\n",
              "      <th>LÓGICA DE PROGRAMAÇÃO - Turma 02C</th>\n",
              "      <th>2018.1</th>\n",
              "      <td>3.941176</td>\n",
              "      <td>5.0</td>\n",
              "      <td>78.823529</td>\n",
              "    </tr>\n",
              "    <tr>\n",
              "      <th>LÓGICA DE PROGRAMAÇÃO - Turma 02D</th>\n",
              "      <th>2018.1</th>\n",
              "      <td>3.666667</td>\n",
              "      <td>5.0</td>\n",
              "      <td>68.333333</td>\n",
              "    </tr>\n",
              "    <tr>\n",
              "      <th>LÓGICA DE PROGRAMAÇÃO - Turma 03A</th>\n",
              "      <th>2018.1</th>\n",
              "      <td>2.750000</td>\n",
              "      <td>5.0</td>\n",
              "      <td>50.412500</td>\n",
              "    </tr>\n",
              "    <tr>\n",
              "      <th>LÓGICA DE PROGRAMAÇÃO - Turma 03B</th>\n",
              "      <th>2018.1</th>\n",
              "      <td>3.625000</td>\n",
              "      <td>5.0</td>\n",
              "      <td>71.650000</td>\n",
              "    </tr>\n",
              "    <tr>\n",
              "      <th>LÓGICA DE PROGRAMAÇÃO - Turma 03C</th>\n",
              "      <th>2018.1</th>\n",
              "      <td>4.142857</td>\n",
              "      <td>5.0</td>\n",
              "      <td>79.971429</td>\n",
              "    </tr>\n",
              "    <tr>\n",
              "      <th>LÓGICA DE PROGRAMAÇÃO - Turma 03D</th>\n",
              "      <th>2018.1</th>\n",
              "      <td>2.666667</td>\n",
              "      <td>5.0</td>\n",
              "      <td>53.333333</td>\n",
              "    </tr>\n",
              "    <tr>\n",
              "      <th rowspan=\"12\" valign=\"top\">Lista de Laboratório 5 - Vetores</th>\n",
              "      <th>LÓGICA DE PROGRAMAÇÃO - Turma 01A</th>\n",
              "      <th>2018.1</th>\n",
              "      <td>2.909091</td>\n",
              "      <td>5.0</td>\n",
              "      <td>58.181818</td>\n",
              "    </tr>\n",
              "    <tr>\n",
              "      <th>LÓGICA DE PROGRAMAÇÃO - Turma 01B</th>\n",
              "      <th>2018.1</th>\n",
              "      <td>4.000000</td>\n",
              "      <td>5.0</td>\n",
              "      <td>77.380952</td>\n",
              "    </tr>\n",
              "    <tr>\n",
              "      <th>LÓGICA DE PROGRAMAÇÃO - Turma 01C</th>\n",
              "      <th>2018.1</th>\n",
              "      <td>3.368421</td>\n",
              "      <td>5.0</td>\n",
              "      <td>65.526316</td>\n",
              "    </tr>\n",
              "    <tr>\n",
              "      <th>LÓGICA DE PROGRAMAÇÃO - Turma 01D</th>\n",
              "      <th>2018.1</th>\n",
              "      <td>2.818182</td>\n",
              "      <td>5.0</td>\n",
              "      <td>54.545455</td>\n",
              "    </tr>\n",
              "    <tr>\n",
              "      <th>LÓGICA DE PROGRAMAÇÃO - Turma 02A</th>\n",
              "      <th>2018.1</th>\n",
              "      <td>3.833333</td>\n",
              "      <td>5.0</td>\n",
              "      <td>75.000000</td>\n",
              "    </tr>\n",
              "    <tr>\n",
              "      <th>LÓGICA DE PROGRAMAÇÃO - Turma 02B</th>\n",
              "      <th>2018.1</th>\n",
              "      <td>4.750000</td>\n",
              "      <td>5.0</td>\n",
              "      <td>95.000000</td>\n",
              "    </tr>\n",
              "    <tr>\n",
              "      <th>LÓGICA DE PROGRAMAÇÃO - Turma 02C</th>\n",
              "      <th>2018.1</th>\n",
              "      <td>4.315789</td>\n",
              "      <td>5.0</td>\n",
              "      <td>84.736842</td>\n",
              "    </tr>\n",
              "    <tr>\n",
              "      <th>LÓGICA DE PROGRAMAÇÃO - Turma 02D</th>\n",
              "      <th>2018.1</th>\n",
              "      <td>4.142857</td>\n",
              "      <td>5.0</td>\n",
              "      <td>79.285714</td>\n",
              "    </tr>\n",
              "    <tr>\n",
              "      <th>LÓGICA DE PROGRAMAÇÃO - Turma 03A</th>\n",
              "      <th>2018.1</th>\n",
              "      <td>3.933333</td>\n",
              "      <td>5.0</td>\n",
              "      <td>78.666667</td>\n",
              "    </tr>\n",
              "    <tr>\n",
              "      <th>LÓGICA DE PROGRAMAÇÃO - Turma 03B</th>\n",
              "      <th>2018.1</th>\n",
              "      <td>3.875000</td>\n",
              "      <td>5.0</td>\n",
              "      <td>77.500000</td>\n",
              "    </tr>\n",
              "    <tr>\n",
              "      <th>LÓGICA DE PROGRAMAÇÃO - Turma 03C</th>\n",
              "      <th>2018.1</th>\n",
              "      <td>3.750000</td>\n",
              "      <td>5.0</td>\n",
              "      <td>70.000000</td>\n",
              "    </tr>\n",
              "    <tr>\n",
              "      <th>LÓGICA DE PROGRAMAÇÃO - Turma 03D</th>\n",
              "      <th>2018.1</th>\n",
              "      <td>2.500000</td>\n",
              "      <td>5.0</td>\n",
              "      <td>50.000000</td>\n",
              "    </tr>\n",
              "  </tbody>\n",
              "</table>\n",
              "</div>"
            ],
            "text/plain": [
              "                                                                                             questoesFeitas  ...  NotaLista\n",
              "titulo                                             descricaoTurma                    ano                     ...           \n",
              "Lista de Laboratório 1 - Expressões Aritméticas... LÓGICA DE PROGRAMAÇÃO - Turma 01A 2018.1        2.500000  ...  42.500000\n",
              "                                                   LÓGICA DE PROGRAMAÇÃO - Turma 01B 2018.1        3.833333  ...  66.666667\n",
              "                                                   LÓGICA DE PROGRAMAÇÃO - Turma 01C 2018.1        3.666667  ...  66.666667\n",
              "                                                   LÓGICA DE PROGRAMAÇÃO - Turma 01D 2018.1        3.200000  ...  60.000000\n",
              "                                                   LÓGICA DE PROGRAMAÇÃO - Turma 02A 2018.1        4.100000  ...  78.000000\n",
              "                                                   LÓGICA DE PROGRAMAÇÃO - Turma 02B 2018.1        3.400000  ...  62.000000\n",
              "                                                   LÓGICA DE PROGRAMAÇÃO - Turma 02C 2018.1        4.160000  ...  80.000000\n",
              "                                                   LÓGICA DE PROGRAMAÇÃO - Turma 02D 2018.1        3.714286  ...  66.666667\n",
              "                                                   LÓGICA DE PROGRAMAÇÃO - Turma 03A 2018.1        3.388889  ...  58.233333\n",
              "                                                   LÓGICA DE PROGRAMAÇÃO - Turma 03B 2018.1        2.600000  ...  46.666667\n",
              "                                                   LÓGICA DE PROGRAMAÇÃO - Turma 03C 2018.1        4.777778  ...  88.888889\n",
              "                                                   LÓGICA DE PROGRAMAÇÃO - Turma 03D 2018.1        4.000000  ...  70.000000\n",
              "Lista de Laboratório 2 - Expressões Lógicas e E... LÓGICA DE PROGRAMAÇÃO - Turma 01A 2018.1        4.555556  ...  91.111111\n",
              "                                                   LÓGICA DE PROGRAMAÇÃO - Turma 01B 2018.1        4.285714  ...  76.857143\n",
              "                                                   LÓGICA DE PROGRAMAÇÃO - Turma 01C 2018.1        4.625000  ...  92.000000\n",
              "                                                   LÓGICA DE PROGRAMAÇÃO - Turma 01D 2018.1        3.428571  ...  68.571429\n",
              "                                                   LÓGICA DE PROGRAMAÇÃO - Turma 02A 2018.1        3.833333  ...  73.666667\n",
              "                                                   LÓGICA DE PROGRAMAÇÃO - Turma 02B 2018.1        4.750000  ...  89.750000\n",
              "                                                   LÓGICA DE PROGRAMAÇÃO - Turma 02C 2018.1        4.190476  ...  83.428571\n",
              "                                                   LÓGICA DE PROGRAMAÇÃO - Turma 02D 2018.1        4.722222  ...  88.555556\n",
              "                                                   LÓGICA DE PROGRAMAÇÃO - Turma 03A 2018.1        3.294118  ...  65.117647\n",
              "                                                   LÓGICA DE PROGRAMAÇÃO - Turma 03B 2018.1        3.363636  ...  64.000000\n",
              "                                                   LÓGICA DE PROGRAMAÇÃO - Turma 03C 2018.1        4.666667  ...  92.222222\n",
              "                                                   LÓGICA DE PROGRAMAÇÃO - Turma 03D 2018.1        5.000000  ...  78.000000\n",
              "Lista de Laboratório 3 -  Estruturas de Repetiç... LÓGICA DE PROGRAMAÇÃO - Turma 01A 2018.1        3.400000  ...  64.000000\n",
              "                                                   LÓGICA DE PROGRAMAÇÃO - Turma 01B 2018.1        2.450000  ...  48.740000\n",
              "                                                   LÓGICA DE PROGRAMAÇÃO - Turma 01C 2018.1        3.555556  ...  68.133333\n",
              "                                                   LÓGICA DE PROGRAMAÇÃO - Turma 01D 2018.1        1.777778  ...  33.155556\n",
              "                                                   LÓGICA DE PROGRAMAÇÃO - Turma 02A 2018.1        3.250000  ...  62.275000\n",
              "                                                   LÓGICA DE PROGRAMAÇÃO - Turma 02B 2018.1        3.428571  ...  68.571429\n",
              "                                                   LÓGICA DE PROGRAMAÇÃO - Turma 02C 2018.1        3.500000  ...  69.420000\n",
              "                                                   LÓGICA DE PROGRAMAÇÃO - Turma 02D 2018.1        3.421053  ...  64.389474\n",
              "                                                   LÓGICA DE PROGRAMAÇÃO - Turma 03A 2018.1        2.888889  ...  57.211111\n",
              "                                                   LÓGICA DE PROGRAMAÇÃO - Turma 03B 2018.1        2.727273  ...  52.200000\n",
              "                                                   LÓGICA DE PROGRAMAÇÃO - Turma 03C 2018.1        4.250000  ...  85.000000\n",
              "                                                   LÓGICA DE PROGRAMAÇÃO - Turma 03D 2018.1        3.200000  ...  63.680000\n",
              "Lista de Laboratório 4 - Repetição Contada         LÓGICA DE PROGRAMAÇÃO - Turma 01C 2018.1        2.200000  ...  44.000000\n",
              "                                                   LÓGICA DE PROGRAMAÇÃO - Turma 02A 2018.1        3.142857  ...  61.885714\n",
              "                                                   LÓGICA DE PROGRAMAÇÃO - Turma 02B 2018.1        3.600000  ...  68.800000\n",
              "                                                   LÓGICA DE PROGRAMAÇÃO - Turma 02C 2018.1        3.941176  ...  78.823529\n",
              "                                                   LÓGICA DE PROGRAMAÇÃO - Turma 02D 2018.1        3.666667  ...  68.333333\n",
              "                                                   LÓGICA DE PROGRAMAÇÃO - Turma 03A 2018.1        2.750000  ...  50.412500\n",
              "                                                   LÓGICA DE PROGRAMAÇÃO - Turma 03B 2018.1        3.625000  ...  71.650000\n",
              "                                                   LÓGICA DE PROGRAMAÇÃO - Turma 03C 2018.1        4.142857  ...  79.971429\n",
              "                                                   LÓGICA DE PROGRAMAÇÃO - Turma 03D 2018.1        2.666667  ...  53.333333\n",
              "Lista de Laboratório 5 - Vetores                   LÓGICA DE PROGRAMAÇÃO - Turma 01A 2018.1        2.909091  ...  58.181818\n",
              "                                                   LÓGICA DE PROGRAMAÇÃO - Turma 01B 2018.1        4.000000  ...  77.380952\n",
              "                                                   LÓGICA DE PROGRAMAÇÃO - Turma 01C 2018.1        3.368421  ...  65.526316\n",
              "                                                   LÓGICA DE PROGRAMAÇÃO - Turma 01D 2018.1        2.818182  ...  54.545455\n",
              "                                                   LÓGICA DE PROGRAMAÇÃO - Turma 02A 2018.1        3.833333  ...  75.000000\n",
              "                                                   LÓGICA DE PROGRAMAÇÃO - Turma 02B 2018.1        4.750000  ...  95.000000\n",
              "                                                   LÓGICA DE PROGRAMAÇÃO - Turma 02C 2018.1        4.315789  ...  84.736842\n",
              "                                                   LÓGICA DE PROGRAMAÇÃO - Turma 02D 2018.1        4.142857  ...  79.285714\n",
              "                                                   LÓGICA DE PROGRAMAÇÃO - Turma 03A 2018.1        3.933333  ...  78.666667\n",
              "                                                   LÓGICA DE PROGRAMAÇÃO - Turma 03B 2018.1        3.875000  ...  77.500000\n",
              "                                                   LÓGICA DE PROGRAMAÇÃO - Turma 03C 2018.1        3.750000  ...  70.000000\n",
              "                                                   LÓGICA DE PROGRAMAÇÃO - Turma 03D 2018.1        2.500000  ...  50.000000\n",
              "\n",
              "[57 rows x 3 columns]"
            ]
          },
          "metadata": {
            "tags": []
          },
          "execution_count": 197
        }
      ]
    }
  ]
}