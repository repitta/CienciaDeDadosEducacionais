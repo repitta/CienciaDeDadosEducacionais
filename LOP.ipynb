{
  "nbformat": 4,
  "nbformat_minor": 0,
  "metadata": {
    "colab": {
      "name": "LOP.ipynb",
      "version": "0.3.2",
      "provenance": [],
      "collapsed_sections": [],
      "include_colab_link": true
    },
    "kernelspec": {
      "name": "python3",
      "display_name": "Python 3"
    }
  },
  "cells": [
    {
      "cell_type": "markdown",
      "metadata": {
        "id": "view-in-github",
        "colab_type": "text"
      },
      "source": [
        "<a href=\"https://colab.research.google.com/github/repitta/CienciaDeDadosEducacionais/blob/master/LOP.ipynb\" target=\"_parent\"><img src=\"https://colab.research.google.com/assets/colab-badge.svg\" alt=\"Open In Colab\"/></a>"
      ]
    },
    {
      "cell_type": "markdown",
      "metadata": {
        "id": "hwx4W4sEMVk9",
        "colab_type": "text"
      },
      "source": [
        "<h1>Exploração dos dados do sistema LOP"
      ]
    },
    {
      "cell_type": "markdown",
      "metadata": {
        "id": "rJE6lkdSMliM",
        "colab_type": "text"
      },
      "source": [
        "Nesse projeto iremos fazer a análise exploratória de dados e suas representações visuais, que  engloba um conjunto de estatísticas quantitativas e gráficas que nos mostram as tendências, detectam comportamentos, testam a validade de hipóteses e fazem vários outros estudos.\n",
        "\n",
        "Para esta análise, vamos utilizar os dados fornecidos pelo sistema LOP - Plataforma de gerenciamento de exercícios de programação da Escola de Ciência e Tecnolgia da  Universidade Federal do Rio Grande do Norte (UFRN) e investigar os fatores que influenciam o desempenho dos alunos do Bacharelado em Ciência e Tecnologia.\n",
        "\n",
        "Assim, algumas questões que serão uma base para o nosso estudo podem ser levantadas:\n",
        "\n",
        "1. Como o sucesso dos alunos tem sido ao longo dos anos?\n",
        "2.  Uma configuração (tamanho, horário) da classe influencia  nesse desempenho?\n",
        "3. Quais habilidades são aprendidas pelos alunos? (Perseverança,  Raciocínio Lógico, Atenção aos detalhes, Pensamento Abstrato )\n",
        "4. Qual o perfil dos alunos?\n",
        "5. Quais os estilos de aprendizagem?\n",
        "6. E finalmente, qual a influência da  autorregulação da aprendizagem do aluno no seu redimento?\n",
        "\n",
        "\n",
        "\n",
        "\n",
        "E tendo respondido a essas perguntas que, ao longo deste trabalho, geraremos gráficos e tabelas que relacionam a média dos alunos e o número de alunos aprovados e reprovados desde 2017.2  a 2019.1 com elementos como:\n",
        "\n",
        "* O número de alunos por turma;\n",
        "* O turno de aula;\n",
        "* A quantidade de exercícios repondidos;\n",
        "*A frequência que o aluno responde as atividades;\n",
        "* E a quantidade de ausências de estudantes.\n",
        "*Quantidade de linhas do código? "
      ]
    },
    {
      "cell_type": "markdown",
      "metadata": {
        "id": "_ucU21OZ2Xfl",
        "colab_type": "text"
      },
      "source": [
        "# Análise dos dados dos usuários do sistema LOP\n",
        "\n",
        "O sistema LOP - Plataforma de gerenciamento de exercícios de programação da Escola de Ciência e Tecnolgia da Universidade Federal do Rio Grande do Norte (UFRN) disponibiliza o recurso **lop.user.csv**, uma base de dados com registro dos usuários cadastrados no sistema LOP desde o ano 2017.2.\n",
        "\n",
        "Para cada usuário há informações de _id, email, grupos.0, hash, listasFavoritas, matricula, nome, questoesFavoritas, salt e sigaa.turmas\n",
        "\n",
        "1. A variável  **_id indica**  o número único data indentificação do usuário no sistema.\n",
        "\n",
        "2. A variável  **email** armazena o endereço eletrônico informado pelo usuário\n",
        "\n",
        "3. A variável  **grupos.0** indica o papel o usuário no sistema. Porém essa coluna está com o mesmo valor para todos . USUARIO\n",
        "\n",
        "4. A variável  **hash** ...\n",
        "\n",
        "5. A variável **listasFavoritas** indica .... está coluna está em branco para todos os campos\n",
        "\n",
        "6. A variável  **matricula** indica o número de matricula informado pelo usuário\n",
        "\n",
        "7. A variável **nome** armazena os nomes dos usuários\n",
        "\n",
        "8. A variável **questoesFavoritas** indica quais as questões o usuário classificou como favorita\n",
        "\n",
        "9. A variável **salt** ...\n",
        "\n",
        "10. A variável **sigaa.turmas** ...\n",
        "\n",
        "O nosso dataset tem 49 colunas e 1067 linhas\n",
        "\n",
        "\n"
      ]
    },
    {
      "cell_type": "markdown",
      "metadata": {
        "id": "HApR0AZE7yyA",
        "colab_type": "text"
      },
      "source": [
        "# Análise dos dados das turmas do sistema LOP\n",
        "\n",
        "O sistema LOP - Plataforma de gerenciamento de exercícios de programação da Escola de Ciência e Tecnolgia da Universidade Federal do Rio Grande do Norte (UFRN) disponibiliza o recurso **lop.turmas.csv**, uma base de dados com registro das turmas cadastradas no sistema LOP desde o ano 2017.2.\n",
        "\n",
        "Para cada turma há informações 355 colunas . Muitas dessas informações foram exportadas do SIGAA e não são releventes para a pesquisa. Vamos descrever as variáveis que serão utilizadas no estudo.\n",
        "\n",
        "1. A variável **_id armazena** o número único para identificar cada turma cadastrada\n",
        "2. A variável **anoPeriodoString** armazena o ano e o respectivo período: .1 para o primeiro sementre .2 para o segundo sementre\n",
        "3. A variável **descricaoTurma** armazena o nome da disciplina e o nome da turma\n",
        "4. A variável **qtdMatriculados** armazena a quantidade de alunos matriculados em cada turma, tem muitos obejtos faltantes , não foi utilizado no estudo\n",
        "5. A variável **horariosTurma.0.descricaoTurno** armazena o período que a turma foi oferdada : Manhã, Tarde ou Noite, tem muito objetos faltantes, não foi utilizadono estudo.\n",
        "6. A variável **matrícula** armazena a matricula do usuário\n",
        "\n",
        "O nosso dataset tem 355 colunas e 48 linhas"
      ]
    },
    {
      "cell_type": "markdown",
      "metadata": {
        "id": "62BdGAvqEcb7",
        "colab_type": "text"
      },
      "source": [
        "# Análise dos dados das listas de questões do sistema Lop\n",
        "\n",
        "O sistema LOP - Plataforma de gerenciamento de exercícios de programação da Escola de Ciência e Tecnolgia da Universidade Federal do Rio Grande do Norte (UFRN) disponibiliza o recurso **lop.listasExercicios.csv**, uma base de dados com registro das listas de exercícios cadastradas no sistema LOP desde o ano 2017.2.\n",
        "\n",
        "Para cada lista de questões há informações  _id, likes, questoes, titulo.\n",
        "\n",
        "1. A variável **_id** é um número único que idenfifica cada lista de questões\n",
        "2. A variável **likes** ... está coluna está toda zerada\n",
        "3.A variável  **questões** armazena o número único para cada questão cadastrada\n",
        "4. a variável **titulo** armazena o titulo de cada questão\n",
        "\n",
        "O nosso dataset tem 23 colunas e 23 linhas"
      ]
    },
    {
      "cell_type": "markdown",
      "metadata": {
        "id": "OEkqnhzK45BH",
        "colab_type": "text"
      },
      "source": [
        "# Análise dos dados das submissões das questões do sistema Lop\n",
        "\n",
        "O sistema LOP - Plataforma de gerenciamento de exercícios de programação da Escola de Ciência e Tecnolgia da Universidade Federal do Rio Grande do Norte (UFRN) disponibiliza o recurso **lop.submissoes.csv**, uma base de dados com registro das listas de exercícios cadastradas no sistema LOP desde o ano 2017.2.\n",
        "\n",
        "Para cada submissão há informações _id, codigo, data, porcentagemAcerto, questao.\n",
        "\n",
        "1. A variável **_id**  armazena um número único da submissão de uma questão por aluno\n",
        "2. A variável **codigo** armazena o código que foi feito pelo aluno\n",
        "3. A variável **data** armazena data e hora de cada submissão\n",
        "4. A variável **porcentagemAcerto** armazena o valor da porcentagem de acerto de cada questão submetida\n",
        "5. A variável **questao** armazena o id da questão que foi submetida\n",
        "\n",
        "O nosso dataset tem 55  colunas e 33421 linhas"
      ]
    },
    {
      "cell_type": "markdown",
      "metadata": {
        "id": "f9DznxXXZeo-",
        "colab_type": "text"
      },
      "source": [
        "**Importa as bibliotecas**"
      ]
    },
    {
      "cell_type": "code",
      "metadata": {
        "id": "HLNKmDjRZYW-",
        "colab_type": "code",
        "colab": {}
      },
      "source": [
        "import pandas as pd\n",
        "from csv import reader\n",
        "import matplotlib.pyplot as plt\n",
        "import seaborn as sns\n",
        "import numpy as np"
      ],
      "execution_count": 0,
      "outputs": []
    },
    {
      "cell_type": "markdown",
      "metadata": {
        "id": "hUpgEIjtZzeR",
        "colab_type": "text"
      },
      "source": [
        "**Lendo os arquivos CSV do Lop e definindo os tipos de cada coluna**"
      ]
    },
    {
      "cell_type": "code",
      "metadata": {
        "id": "UEVdkG942Q2o",
        "colab_type": "code",
        "outputId": "c95d11e0-d88b-4903-a574-e2288221e63e",
        "colab": {
          "base_uri": "https://localhost:8080/",
          "height": 70
        }
      },
      "source": [
        "#Tipos de dados em cada coluna\n",
        "typeUser   = {\"_id\":str, \"matricula\":str, \"nome\":str}\n",
        "typeTurmas = {\"_id\":str, 'anoPeriodoString':np.float, 'descricaoTurma':str}\n",
        "typeLista  = {\"_id\":str,\"titulo\":str,\"questao\":str}\n",
        "typeSub    = {\"porcentagemAcerto\":np.int,\"user\":str} \n",
        "         \n",
        "# Ler os arquivos CSV que foram gerados a partir do banco de dados do sistema LOP\n",
        "lopUsers  = pd.read_csv(\"https://github.com/repitta/CienciaDeDadosEducacionais/raw/master/arquivosCSV/lop.users.csv\",dtype=typeUser)\n",
        "lopTurmas = pd.read_csv(\"https://raw.githubusercontent.com/repitta/CienciaDeDadosEducacionais/master/arquivosCSV/lop.turmas.csv\",dtype=typeTurmas)\n",
        "lopListas = pd.read_csv(\"https://raw.githubusercontent.com/repitta/CienciaDeDadosEducacionais/master/arquivosCSV/lop.listasExercicios.csv\",dtype=typeLista) \n",
        "lopSub    = pd.read_csv(\"https://github.com/repitta/CienciaDeDadosEducacionais/raw/master/arquivosCSV/lop.submissoes.csv\",dtype=typeSub)\n",
        "\n",
        "lopSub[\"data\"] = pd.to_datetime(lopSub[\"data\"], format = \"%Y/%m/%dT%H:%M:%S\")\n",
        "\n",
        "#Transformando data em variável do tipo datetime\n",
        "#tabSub[\"data\"] = tabSub[\"data\"].astype(str)\n",
        "#a = tabSub[\"data\"].str.split(\".\",  n=1, expand=True).loc[:,0].str.split(\"T\",  n=1, expand=True) \n",
        "#tabSub[\"data\"] = pd.to_datetime(a[0], format = \"%Y/%m/%d\")\n",
        "#tabSub[\"hora\"] = pd.to_datetime(a[1], format = \"%H:%M:%S\")\n",
        "#tabSub[[\"data\",\"hora\"]].head()"
      ],
      "execution_count": 2,
      "outputs": [
        {
          "output_type": "stream",
          "text": [
            "/usr/local/lib/python3.6/dist-packages/IPython/core/interactiveshell.py:2718: DtypeWarning: Columns (51) have mixed types. Specify dtype option on import or set low_memory=False.\n",
            "  interactivity=interactivity, compiler=compiler, result=result)\n"
          ],
          "name": "stderr"
        }
      ]
    },
    {
      "cell_type": "markdown",
      "metadata": {
        "id": "_S6RZEUATWZ1",
        "colab_type": "text"
      },
      "source": [
        "**Selecionar as colunas com os dados que serão utilizados no estudo**"
      ]
    },
    {
      "cell_type": "code",
      "metadata": {
        "id": "kB7_XugX8I1s",
        "colab_type": "code",
        "colab": {}
      },
      "source": [
        "#Tabela Usuários - tab_user armazena as colunas \"_id\", \"matricula\", \"nome\" \n",
        "tabUser = lopUsers.loc[:,[\"_id\", \"matricula\", \"nome\"]].copy()\n",
        "\n",
        "#Tabela Turmas - tab_turmas armazena as colunas \"_id\", \"anoPeriodoString\",\"descricaoTurma\", \"matricula\"\n",
        "tabTurmas = lopTurmas.loc[:,[\"_id\", \"anoPeriodoString\",\"descricaoTurma\"]].copy()\n",
        "matricula = []\n",
        "turno     = []\n",
        "for j in range(len(tabTurmas)):\n",
        "  idMatriculat = []\n",
        "  for i in range(30):\n",
        "    idMatriculat.append(lopTurmas.loc[:,\"dicentes.\"+str(i)+\".matricula\"][j])\n",
        "  matricula.append(idMatriculat)                     \n",
        "tabTurmas.loc[:,\"matricula\"] = pd.Series(matricula)\n",
        "\n",
        "#Tabela Listas - tab_listas armazena as colunas \"id\",\"questoes, titulo\"\n",
        "tabListas = lopListas.loc[:,[\"_id\",\"titulo\"]].copy()\n",
        "idLista   = []\n",
        "for j in range(23):\n",
        "  idQuestoes =[]\n",
        "  for i in range(19):\n",
        "    idQuestoes.append(lopListas.loc[:,\"questoes.\"+str(i)][j])\n",
        "  idLista.append(idQuestoes)\n",
        "tabListas.loc[:,\"questao\"] = pd.Series(idLista)\n",
        "\n",
        "#Tabela Submissoes - tab_sub armazena as colunas \"data\",\"porcentagemAcerto\",\"questao\", \"user\"\n",
        "tabSub = lopSub.loc[:,[\"data\",\"porcentagemAcerto\",\"questao\", \"user\"]].copy()\n",
        "\n"
      ],
      "execution_count": 0,
      "outputs": []
    },
    {
      "cell_type": "markdown",
      "metadata": {
        "id": "QaM3VVsfbXve",
        "colab_type": "text"
      },
      "source": [
        "**Estrutura da cada dataframe após a seleção dos dados**"
      ]
    },
    {
      "cell_type": "code",
      "metadata": {
        "id": "Kp3c-G-NbWjb",
        "colab_type": "code",
        "colab": {
          "base_uri": "https://localhost:8080/",
          "height": 150
        },
        "outputId": "31a68757-d152-42bf-aaf1-203c7ea6f266"
      },
      "source": [
        "print(\"Tabelas de Usuários Colunas   \\n\",tabUser.columns,   tabUser.shape)\n",
        "print(\"Tabelas de Turmas Colunas     \\n\",tabTurmas.columns, tabTurmas.shape)\n",
        "print(\"Tabelas de Listas Colunas     \\n\",tabListas.columns, tabListas.shape)\n",
        "print(\"Tabelas de Submissoes Colunas \\n\",tabSub.columns,    tabSub.shape)"
      ],
      "execution_count": 5,
      "outputs": [
        {
          "output_type": "stream",
          "text": [
            "Tabelas de Usuários Colunas   \n",
            " Index(['_id', 'matricula', 'nome'], dtype='object') (1067, 3)\n",
            "Tabelas de Turmas Colunas     \n",
            " Index(['_id', 'anoPeriodoString', 'descricaoTurma', 'matricula'], dtype='object') (48, 4)\n",
            "Tabelas de Listas Colunas     \n",
            " Index(['_id', 'titulo', 'questao'], dtype='object') (23, 3)\n",
            "Tabelas de Submissoes Colunas \n",
            " Index(['data', 'porcentagemAcerto', 'questao', 'user'], dtype='object') (33421, 4)\n"
          ],
          "name": "stdout"
        }
      ]
    },
    {
      "cell_type": "markdown",
      "metadata": {
        "id": "eDnUAuV9QQk_",
        "colab_type": "text"
      },
      "source": [
        "**Transformar os dados da tabela User**"
      ]
    },
    {
      "cell_type": "code",
      "metadata": {
        "id": "sJXKBef0QirB",
        "colab_type": "code",
        "colab": {
          "base_uri": "https://localhost:8080/",
          "height": 266
        },
        "outputId": "f62d5f2a-140f-4a6e-a7f2-86ed669d01ef"
      },
      "source": [
        "#renomeando a coluna _id para idAluno\n",
        "tabUser.rename(columns={\"_id\":\"idAluno\"}, inplace=True)\n",
        "\n",
        "#Limpando a coluna matricula, onde tem .0 no final da matricula foi retirado, tive q fazer uma gambiarra pq ele estva entendendo .0 como uma expressao regular\n",
        "tabUser.loc[:,\"matricula\"] = tabUser.loc[:,\"matricula\"].str.replace(\".0\",\"\",regex=False).copy()\n",
        "#tabUser.loc[:,\"matricula\"] = tabUser.loc[:,\"matricula\"].str.replace(\"r0\",\"\").copy()\n",
        "\n",
        "\n",
        "#imprimir os dados da tabela User\n",
        "print(tabUser.info())\n",
        "print(tabUser.head())"
      ],
      "execution_count": 6,
      "outputs": [
        {
          "output_type": "stream",
          "text": [
            "<class 'pandas.core.frame.DataFrame'>\n",
            "RangeIndex: 1067 entries, 0 to 1066\n",
            "Data columns (total 3 columns):\n",
            "idAluno      1067 non-null object\n",
            "matricula    1066 non-null object\n",
            "nome         1067 non-null object\n",
            "dtypes: object(3)\n",
            "memory usage: 25.1+ KB\n",
            "None\n",
            "                    idAluno    matricula                           nome\n",
            "0  598cd5453bc48946977dcf66   2013023070               Gabriel Tibúrcio\n",
            "1  598cd8b823daeb4b50a4b254      1943220                       Orivaldo\n",
            "2  599155ebb3333c31b7a01e5b     12345678                 Professor João\n",
            "3  5991cb910be9d42f2f68b906  20170039453                         Amanda\n",
            "4  5991cd1a8907ca2f441cd313  20170038394  Emanuel Fernandes P. da Rocha\n"
          ],
          "name": "stdout"
        }
      ]
    },
    {
      "cell_type": "markdown",
      "metadata": {
        "id": "qY7YVa_vAKMh",
        "colab_type": "text"
      },
      "source": [
        "**Expandi a tabela turmas para que cada aluno seja uma linha do dataframe**"
      ]
    },
    {
      "cell_type": "code",
      "metadata": {
        "id": "XeYh8StTIoWs",
        "colab_type": "code",
        "colab": {
          "base_uri": "https://localhost:8080/",
          "height": 183
        },
        "outputId": "2d015d86-de7a-42d9-904b-5002bef7ac36"
      },
      "source": [
        "colunas    = [\"idTurma\",\"ano\",\"descricaoTurma\",\"matricula\"]\n",
        "turmasNovo = pd.DataFrame(columns=colunas)\n",
        "for i in range(44):\n",
        "  idTurma        = tabTurmas[\"_id\"].iloc[i]\n",
        "  ano            = tabTurmas[\"anoPeriodoString\"].iloc[i]\n",
        "  descricaoTurma = tabTurmas[\"descricaoTurma\"].iloc[i]\n",
        "  m              = tabTurmas[\"matricula\"].iloc[i]\n",
        "  for a in range(30):\n",
        "    matricula  = m[a]\n",
        "    dic        = {\"idTurma\": idTurma ,\"ano\": ano ,\"descricaoTurma\":descricaoTurma,\"matricula\":matricula}\n",
        "    turmasNovo = pd.concat([turmasNovo, pd.DataFrame(dic, index=[0])],  ignore_index=True, sort = False )\n",
        "    \n",
        "print(turmasNovo.shape)\n",
        "turmasNovo.info()"
      ],
      "execution_count": 7,
      "outputs": [
        {
          "output_type": "stream",
          "text": [
            "(1320, 4)\n",
            "<class 'pandas.core.frame.DataFrame'>\n",
            "RangeIndex: 1320 entries, 0 to 1319\n",
            "Data columns (total 4 columns):\n",
            "idTurma           1320 non-null object\n",
            "ano               1320 non-null float64\n",
            "descricaoTurma    1320 non-null object\n",
            "matricula         1028 non-null object\n",
            "dtypes: float64(1), object(3)\n",
            "memory usage: 41.3+ KB\n"
          ],
          "name": "stdout"
        }
      ]
    },
    {
      "cell_type": "markdown",
      "metadata": {
        "id": "i2lr8ckEmeGq",
        "colab_type": "text"
      },
      "source": [
        "**Apagar os registros onde o campo da coluna Matricula é nulo**"
      ]
    },
    {
      "cell_type": "code",
      "metadata": {
        "id": "ERu1FnXNmdve",
        "colab_type": "code",
        "colab": {
          "base_uri": "https://localhost:8080/",
          "height": 183
        },
        "outputId": "1b5120c8-dbb8-4d67-93b3-fa65a36d9bb5"
      },
      "source": [
        "turmasNovo = turmasNovo.dropna(axis=0, how='any')\n",
        "print(turmasNovo.shape)\n",
        "turmasNovo.info()"
      ],
      "execution_count": 8,
      "outputs": [
        {
          "output_type": "stream",
          "text": [
            "(1028, 4)\n",
            "<class 'pandas.core.frame.DataFrame'>\n",
            "Int64Index: 1028 entries, 0 to 1319\n",
            "Data columns (total 4 columns):\n",
            "idTurma           1028 non-null object\n",
            "ano               1028 non-null float64\n",
            "descricaoTurma    1028 non-null object\n",
            "matricula         1028 non-null object\n",
            "dtypes: float64(1), object(3)\n",
            "memory usage: 40.2+ KB\n"
          ],
          "name": "stdout"
        }
      ]
    },
    {
      "cell_type": "markdown",
      "metadata": {
        "id": "WpkOMzzEnRTl",
        "colab_type": "text"
      },
      "source": [
        "**Transformar os dados da tabela Turmas**"
      ]
    },
    {
      "cell_type": "code",
      "metadata": {
        "id": "s7ugdXsFnMlb",
        "colab_type": "code",
        "colab": {
          "base_uri": "https://localhost:8080/",
          "height": 316
        },
        "outputId": "939fedc2-ec28-4d38-b98d-3cb258c7f508"
      },
      "source": [
        "#Retirando o .0 da coluna matricula\n",
        "turmasNovo[\"matricula\"] = turmasNovo[\"matricula\"].astype(str)\n",
        "turmasNovo[\"matricula\"] = turmasNovo[\"matricula\"].str.replace(\".0\",\"\",regex=False)\n",
        "\n",
        "print(turmasNovo.info())\n",
        "print(turmasNovo.head()) "
      ],
      "execution_count": 9,
      "outputs": [
        {
          "output_type": "stream",
          "text": [
            "<class 'pandas.core.frame.DataFrame'>\n",
            "Int64Index: 1028 entries, 0 to 1319\n",
            "Data columns (total 4 columns):\n",
            "idTurma           1028 non-null object\n",
            "ano               1028 non-null float64\n",
            "descricaoTurma    1028 non-null object\n",
            "matricula         1028 non-null object\n",
            "dtypes: float64(1), object(3)\n",
            "memory usage: 40.2+ KB\n",
            "None\n",
            "                    idTurma  ...    matricula\n",
            "0  598e15296d8650eb27d52e3d  ...  20170106538\n",
            "1  598e15296d8650eb27d52e3d  ...  20170039453\n",
            "2  598e15296d8650eb27d52e3d  ...  20170044776\n",
            "3  598e15296d8650eb27d52e3d  ...  20170031473\n",
            "4  598e15296d8650eb27d52e3d  ...  20170032274\n",
            "\n",
            "[5 rows x 4 columns]\n"
          ],
          "name": "stdout"
        }
      ]
    },
    {
      "cell_type": "markdown",
      "metadata": {
        "id": "9JaP_RccBmOM",
        "colab_type": "text"
      },
      "source": [
        "**TESTE : Tem matriculas em mais de uma turma**"
      ]
    },
    {
      "cell_type": "code",
      "metadata": {
        "id": "8v0yHpts_EUw",
        "colab_type": "code",
        "colab": {}
      },
      "source": [
        "#total de matriculas únicas \n",
        "print(\"Total de matriculas únicas: \",  turmasNovo[\"matricula\"].unique().shape)\n",
        "resultado = turmasNovo.groupby([\"matricula\"]).count()\n",
        "resultado = resultado.reset_index()\n",
        "print(resultado.loc[resultado[\"idTurma\"]==2,\"matricula\"])\n",
        "# tem 917 matriculas em estão em apenas 1 turma \n",
        "# tem 80 matriculas que estão em 2 turmas cadastradas\n",
        "# tem 14 matriculas que estão em 3 turmas cadastradas\n",
        "\n"
      ],
      "execution_count": 0,
      "outputs": []
    },
    {
      "cell_type": "markdown",
      "metadata": {
        "id": "Z4XsPWbVP0s7",
        "colab_type": "text"
      },
      "source": [
        "**TESTE : Montar uma turma por ano e descrição**"
      ]
    },
    {
      "cell_type": "code",
      "metadata": {
        "id": "IjdbNngucif0",
        "colab_type": "code",
        "colab": {}
      },
      "source": [
        "turmasNovoAno=turmasNovo.loc[turmasNovo[\"ano\"] == 2018.2, [\"matricula\",\"descricaoTurma\",\"ano\"]] \n",
        "turmaDescricao = turmasNovoAno.loc[turmasNovoAno[\"descricaoTurma\"].str.contains('Turma 03A', regex=False), [\"matricula\",\"descricaoTurma\",\"ano\"]]\n",
        "print(turmaDescricao.sort_values(by=['matricula']))\n",
        "print(\"Quantidade de alunos \", turmaDescricao.shape)"
      ],
      "execution_count": 0,
      "outputs": []
    },
    {
      "cell_type": "markdown",
      "metadata": {
        "id": "vJQwFhPKAdsk",
        "colab_type": "text"
      },
      "source": [
        "**Concatenar a tabela usuarios com a tabela turmas pela coluna matricula**"
      ]
    },
    {
      "cell_type": "code",
      "metadata": {
        "id": "m42Dn8vrjMT3",
        "colab_type": "code",
        "colab": {
          "base_uri": "https://localhost:8080/",
          "height": 200
        },
        "outputId": "fe3b614d-0c87-4a34-b2a3-edd715126963"
      },
      "source": [
        "mergeUserTurmas = pd.merge(right = tabUser, left = turmasNovo, on='matricula', how=\"outer\")\n",
        "mergeUserTurmas.info()"
      ],
      "execution_count": 54,
      "outputs": [
        {
          "output_type": "stream",
          "text": [
            "<class 'pandas.core.frame.DataFrame'>\n",
            "Int64Index: 1266 entries, 0 to 1265\n",
            "Data columns (total 6 columns):\n",
            "idTurma           1028 non-null object\n",
            "ano               1028 non-null float64\n",
            "descricaoTurma    1028 non-null object\n",
            "matricula         1265 non-null object\n",
            "idAluno           1173 non-null object\n",
            "nome              1173 non-null object\n",
            "dtypes: float64(1), object(5)\n",
            "memory usage: 69.2+ KB\n"
          ],
          "name": "stdout"
        }
      ]
    },
    {
      "cell_type": "markdown",
      "metadata": {
        "id": "hLiAUvkSgKoC",
        "colab_type": "text"
      },
      "source": [
        "**TESTE: alunos que não estão cadastrados no sistema e que estão matriculados na disciplina**"
      ]
    },
    {
      "cell_type": "code",
      "metadata": {
        "id": "1FrziQypgWXl",
        "colab_type": "code",
        "colab": {}
      },
      "source": [
        "print(\"Quantidade de matriculas em user \"                                  ,tabUser[\"matricula\"].shape )\n",
        "print(\"Quantidade de matriculas em turmasNovo \"                            ,turmasNovo[\"matricula\"].shape )\n",
        "print(\"Quantidade de matriculas depois de juntar as tabelas user e turmas \",mergeUserTurmas[\"matricula\"].shape )\n",
        "\n",
        "\n",
        "# TESTE \n",
        "# Existem matriculas na tabela turmas que não se cadastraram no sistema? SIM\n",
        "# Existem 93 matriculas que não tem registro no sistema\n",
        "print(mergeUserTurmas.loc[mergeUserTurmas[\"idAluno\"].isna(), [\"idAluno\",\"matricula\", \"descricaoTurma\", \"ano\"]].sort_values(by=['matricula']))"
      ],
      "execution_count": 0,
      "outputs": []
    },
    {
      "cell_type": "markdown",
      "metadata": {
        "id": "VbJai7V0t9IZ",
        "colab_type": "text"
      },
      "source": [
        "**TESTE : Montar a turma pelo ano e pela descrição da turma**"
      ]
    },
    {
      "cell_type": "code",
      "metadata": {
        "id": "XiH9tJ4ui200",
        "colab_type": "code",
        "colab": {}
      },
      "source": [
        "turmaAno       = mergeUserTurmas.loc[mergeUserTurmas.loc[:,\"ano\"] == 2018.2, [\"matricula\",'nome',\"descricaoTurma\",\"ano\", \"idAluno\", \"descricaoHorario\",\"idTurma\"]].copy() \n",
        "turmaDescricao = turmaAno.loc[turmaAno.loc[:,\"descricaoTurma\"].str.contains('Turma 03A', regex=False), [\"matricula\",'nome',\"descricaoTurma\",\"ano\",\"idAluno\",\"descricaoHorario\",\"idTurma\"]].copy()\n",
        "turmaDescricao.shape\n"
      ],
      "execution_count": 0,
      "outputs": []
    },
    {
      "cell_type": "markdown",
      "metadata": {
        "id": "q_9sRf3oeIfj",
        "colab_type": "text"
      },
      "source": [
        "**Criar um arquivo CSV com as informações das turmas do Sigaa e as informações de cadastro do LOP**"
      ]
    },
    {
      "cell_type": "code",
      "metadata": {
        "id": "KonWJ0t1eSkI",
        "colab_type": "code",
        "colab": {}
      },
      "source": [
        "mergeUserTurmasT= mergeUserTurmas.drop('nome',axis=1)\n",
        "mergeUserTurmasT.to_csv(r'lopUsuarioTurma.csv')"
      ],
      "execution_count": 0,
      "outputs": []
    },
    {
      "cell_type": "markdown",
      "metadata": {
        "id": "5rorxQRgxbBu",
        "colab_type": "text"
      },
      "source": [
        "**Expandir a tabela listas para que cada questão seja uma linha da tabela**"
      ]
    },
    {
      "cell_type": "code",
      "metadata": {
        "id": "svlyhJWyxKVn",
        "colab_type": "code",
        "colab": {
          "base_uri": "https://localhost:8080/",
          "height": 166
        },
        "outputId": "f8fdcf48-737d-4222-d7aa-a49424f4fc2a"
      },
      "source": [
        "colunas = [\"idLista\",\"questao\",\"titulo\"]\n",
        "listaNovo = pd.DataFrame(columns=colunas)\n",
        "for i in range(23):\n",
        "  idLista=tabListas[\"_id\"].iloc[i]\n",
        "  titulo=tabListas[\"titulo\"].iloc[i]\n",
        "  j=tabListas[\"questao\"].iloc[i]\n",
        "  for a in range(18):\n",
        "      questao=j[a]\n",
        "      dic = {\"idLista\": idLista ,\"titulo\":titulo, \"questao\": questao }\n",
        "      listaNovo = pd.concat([listaNovo, pd.DataFrame(dic, index=[0])],  ignore_index=True, sort=False )\n",
        "    \n",
        "print(listaNovo.shape)\n",
        "listaNovo.info()"
      ],
      "execution_count": 21,
      "outputs": [
        {
          "output_type": "stream",
          "text": [
            "(414, 3)\n",
            "<class 'pandas.core.frame.DataFrame'>\n",
            "RangeIndex: 414 entries, 0 to 413\n",
            "Data columns (total 3 columns):\n",
            "idLista    414 non-null object\n",
            "questao    173 non-null object\n",
            "titulo     414 non-null object\n",
            "dtypes: object(3)\n",
            "memory usage: 9.8+ KB\n"
          ],
          "name": "stdout"
        }
      ]
    },
    {
      "cell_type": "markdown",
      "metadata": {
        "id": "-N5umquF0hUZ",
        "colab_type": "text"
      },
      "source": [
        "**Apagar os registros onde o campo da coluna questao é nulo**\n",
        "\n",
        "\n"
      ]
    },
    {
      "cell_type": "code",
      "metadata": {
        "id": "tkwlznQQ0gUG",
        "colab_type": "code",
        "colab": {
          "base_uri": "https://localhost:8080/",
          "height": 33
        },
        "outputId": "a7df2a5e-26c7-41b2-94de-cb7fbcdc0c33"
      },
      "source": [
        "listaNovo = listaNovo.dropna(axis=0, how='any')\n",
        "print(listaNovo.shape)\n",
        "\n"
      ],
      "execution_count": 22,
      "outputs": [
        {
          "output_type": "stream",
          "text": [
            "(173, 3)\n"
          ],
          "name": "stdout"
        }
      ]
    },
    {
      "cell_type": "markdown",
      "metadata": {
        "id": "k0dBYtBB6uZE",
        "colab_type": "text"
      },
      "source": [
        "**Cirar um novo campo na tabela ListaNovo com a quantidade de questões por lista**"
      ]
    },
    {
      "cell_type": "code",
      "metadata": {
        "id": "zXCDuMZj4t7V",
        "colab_type": "code",
        "colab": {
          "base_uri": "https://localhost:8080/",
          "height": 364
        },
        "outputId": "79e91730-4e65-442e-b526-b972995e90ae"
      },
      "source": [
        "listaNovo.columns\n",
        "quantidade=listaNovo.groupby(\"idLista\").count()\n",
        "quantidade = quantidade.reset_index()\n",
        "quantidade = quantidade.drop('titulo',axis=1)\n",
        "quantidade.rename(columns={\"questao\":\"quantidade\"}, inplace=True)\n",
        "listaNovo= pd.merge(left = listaNovo, right = quantidade, on='idLista', how=\"right\")\n",
        "print(listaNovo.info())\n",
        "listaNovo.head()"
      ],
      "execution_count": 23,
      "outputs": [
        {
          "output_type": "stream",
          "text": [
            "<class 'pandas.core.frame.DataFrame'>\n",
            "Int64Index: 173 entries, 0 to 172\n",
            "Data columns (total 4 columns):\n",
            "idLista       173 non-null object\n",
            "questao       173 non-null object\n",
            "titulo        173 non-null object\n",
            "quantidade    173 non-null int64\n",
            "dtypes: int64(1), object(3)\n",
            "memory usage: 6.8+ KB\n",
            "None\n"
          ],
          "name": "stdout"
        },
        {
          "output_type": "execute_result",
          "data": {
            "text/html": [
              "<div>\n",
              "<style scoped>\n",
              "    .dataframe tbody tr th:only-of-type {\n",
              "        vertical-align: middle;\n",
              "    }\n",
              "\n",
              "    .dataframe tbody tr th {\n",
              "        vertical-align: top;\n",
              "    }\n",
              "\n",
              "    .dataframe thead th {\n",
              "        text-align: right;\n",
              "    }\n",
              "</style>\n",
              "<table border=\"1\" class=\"dataframe\">\n",
              "  <thead>\n",
              "    <tr style=\"text-align: right;\">\n",
              "      <th></th>\n",
              "      <th>idLista</th>\n",
              "      <th>questao</th>\n",
              "      <th>titulo</th>\n",
              "      <th>quantidade</th>\n",
              "    </tr>\n",
              "  </thead>\n",
              "  <tbody>\n",
              "    <tr>\n",
              "      <th>0</th>\n",
              "      <td>598cd57a3bc48946977dcf67</td>\n",
              "      <td>59885f8d684f4a3f78163c00</td>\n",
              "      <td>Lista de Laboratório 1 - Expressões Aritmética...</td>\n",
              "      <td>5</td>\n",
              "    </tr>\n",
              "    <tr>\n",
              "      <th>1</th>\n",
              "      <td>598cd57a3bc48946977dcf67</td>\n",
              "      <td>59887121d7c3703f96fda00c</td>\n",
              "      <td>Lista de Laboratório 1 - Expressões Aritmética...</td>\n",
              "      <td>5</td>\n",
              "    </tr>\n",
              "    <tr>\n",
              "      <th>2</th>\n",
              "      <td>598cd57a3bc48946977dcf67</td>\n",
              "      <td>59887c83684f4a3f78163c02</td>\n",
              "      <td>Lista de Laboratório 1 - Expressões Aritmética...</td>\n",
              "      <td>5</td>\n",
              "    </tr>\n",
              "    <tr>\n",
              "      <th>3</th>\n",
              "      <td>598cd57a3bc48946977dcf67</td>\n",
              "      <td>59888cb2d2f43b3f548ef054</td>\n",
              "      <td>Lista de Laboratório 1 - Expressões Aritmética...</td>\n",
              "      <td>5</td>\n",
              "    </tr>\n",
              "    <tr>\n",
              "      <th>4</th>\n",
              "      <td>598cd57a3bc48946977dcf67</td>\n",
              "      <td>59888ea5d2f43b3f548ef057</td>\n",
              "      <td>Lista de Laboratório 1 - Expressões Aritmética...</td>\n",
              "      <td>5</td>\n",
              "    </tr>\n",
              "  </tbody>\n",
              "</table>\n",
              "</div>"
            ],
            "text/plain": [
              "                    idLista  ... quantidade\n",
              "0  598cd57a3bc48946977dcf67  ...          5\n",
              "1  598cd57a3bc48946977dcf67  ...          5\n",
              "2  598cd57a3bc48946977dcf67  ...          5\n",
              "3  598cd57a3bc48946977dcf67  ...          5\n",
              "4  598cd57a3bc48946977dcf67  ...          5\n",
              "\n",
              "[5 rows x 4 columns]"
            ]
          },
          "metadata": {
            "tags": []
          },
          "execution_count": 23
        }
      ]
    },
    {
      "cell_type": "markdown",
      "metadata": {
        "id": "jWVpyBVz1zoV",
        "colab_type": "text"
      },
      "source": [
        "**Concatenar a tabela lista com a tabela submissoes pela coluna questao**"
      ]
    },
    {
      "cell_type": "code",
      "metadata": {
        "id": "Mwcqkdp91_e8",
        "colab_type": "code",
        "colab": {
          "base_uri": "https://localhost:8080/",
          "height": 283
        },
        "outputId": "00971580-2843-49e3-a198-7ae86c26f41b"
      },
      "source": [
        "mergeSubLista = pd.merge(right= tabSub, left = listaNovo, on='questao', how=\"inner\")\n",
        "print(mergeSubLista.shape)\n",
        "\n",
        "# A Quantidade de submissoes aumentou muito . Esta correto\n",
        "#pode existe questão que foi submetida que não esta em nenhuma lista? simmmm\n",
        "print(mergeSubLista.info())\n",
        "\n",
        "#quantidade correta, pois ha questoes sem lista\n",
        "print(listaNovo[\"titulo\"].unique().shape)\n",
        "print(mergeSubLista[\"titulo\"].unique().shape)\n"
      ],
      "execution_count": 24,
      "outputs": [
        {
          "output_type": "stream",
          "text": [
            "(49277, 7)\n",
            "<class 'pandas.core.frame.DataFrame'>\n",
            "Int64Index: 49277 entries, 0 to 49276\n",
            "Data columns (total 7 columns):\n",
            "idLista              49277 non-null object\n",
            "questao              49277 non-null object\n",
            "titulo               49277 non-null object\n",
            "quantidade           49277 non-null int64\n",
            "data                 49277 non-null datetime64[ns, UTC]\n",
            "porcentagemAcerto    49277 non-null int64\n",
            "user                 49277 non-null object\n",
            "dtypes: datetime64[ns, UTC](1), int64(2), object(4)\n",
            "memory usage: 3.0+ MB\n",
            "None\n",
            "(23,)\n",
            "(23,)\n"
          ],
          "name": "stdout"
        }
      ]
    },
    {
      "cell_type": "markdown",
      "metadata": {
        "id": "zsEn3JzDyUw6",
        "colab_type": "text"
      },
      "source": [
        "**TESTE: Montar uma lista de questoes pelo nome da lista**"
      ]
    },
    {
      "cell_type": "code",
      "metadata": {
        "id": "ks_JMp473W8s",
        "colab_type": "code",
        "colab": {}
      },
      "source": [
        "mergeSubLista.loc[mergeSubLista[\"titulo\"].str.contains('Lista de Laboratório 3', regex=False), \"questao\"].unique()"
      ],
      "execution_count": 0,
      "outputs": []
    },
    {
      "cell_type": "markdown",
      "metadata": {
        "id": "di--YmUWjadl",
        "colab_type": "text"
      },
      "source": [
        "**Criar um arquivo CSV com as informações das submissões e as informações da lista com titulo e quantidade**"
      ]
    },
    {
      "cell_type": "code",
      "metadata": {
        "id": "lGAjwirij4Af",
        "colab_type": "code",
        "colab": {}
      },
      "source": [
        "mergeSubLista.to_csv(r'lopSubLista.csv')"
      ],
      "execution_count": 0,
      "outputs": []
    },
    {
      "cell_type": "markdown",
      "metadata": {
        "id": "-NhFncER8Hhr",
        "colab_type": "text"
      },
      "source": [
        "**Concatenar as tabelas merge_user_turmas e merge_sub_lista**\n",
        "\n",
        "\n"
      ]
    },
    {
      "cell_type": "code",
      "metadata": {
        "id": "_FezmCphFaZK",
        "colab_type": "code",
        "colab": {
          "base_uri": "https://localhost:8080/",
          "height": 247
        },
        "outputId": "b17c0683-a05a-4f45-d4c9-bf3abfb890a0"
      },
      "source": [
        "mergeSubLista.rename(columns={\"user\":\"idAluno\"}, inplace=True)\n",
        "mergeUseTurmasSubLista = pd.merge(right= mergeUserTurmas, left = mergeSubLista, on='idAluno', how=\"outer\")\n",
        "print (mergeUseTurmasSubLista.shape)\n",
        "print(mergeUseTurmasSubLista.columns)\n",
        "mergeUseTurmasSubLista.head(1)"
      ],
      "execution_count": 57,
      "outputs": [
        {
          "output_type": "stream",
          "text": [
            "(55235, 12)\n",
            "Index(['idLista', 'questao', 'titulo', 'quantidade', 'data',\n",
            "       'porcentagemAcerto', 'idAluno', 'idTurma', 'ano', 'descricaoTurma',\n",
            "       'matricula', 'nome'],\n",
            "      dtype='object')\n"
          ],
          "name": "stdout"
        },
        {
          "output_type": "execute_result",
          "data": {
            "text/html": [
              "<div>\n",
              "<style scoped>\n",
              "    .dataframe tbody tr th:only-of-type {\n",
              "        vertical-align: middle;\n",
              "    }\n",
              "\n",
              "    .dataframe tbody tr th {\n",
              "        vertical-align: top;\n",
              "    }\n",
              "\n",
              "    .dataframe thead th {\n",
              "        text-align: right;\n",
              "    }\n",
              "</style>\n",
              "<table border=\"1\" class=\"dataframe\">\n",
              "  <thead>\n",
              "    <tr style=\"text-align: right;\">\n",
              "      <th></th>\n",
              "      <th>idLista</th>\n",
              "      <th>questao</th>\n",
              "      <th>titulo</th>\n",
              "      <th>quantidade</th>\n",
              "      <th>data</th>\n",
              "      <th>porcentagemAcerto</th>\n",
              "      <th>idAluno</th>\n",
              "      <th>idTurma</th>\n",
              "      <th>ano</th>\n",
              "      <th>descricaoTurma</th>\n",
              "      <th>matricula</th>\n",
              "      <th>nome</th>\n",
              "    </tr>\n",
              "  </thead>\n",
              "  <tbody>\n",
              "    <tr>\n",
              "      <th>0</th>\n",
              "      <td>598cd57a3bc48946977dcf67</td>\n",
              "      <td>59885f8d684f4a3f78163c00</td>\n",
              "      <td>Lista de Laboratório 1 - Expressões Aritmética...</td>\n",
              "      <td>5.0</td>\n",
              "      <td>2017-08-14 16:19:03.629000+00:00</td>\n",
              "      <td>0.0</td>\n",
              "      <td>5991cd63b3c8b42f3d5da402</td>\n",
              "      <td>598e15296d8650eb27d52e3d</td>\n",
              "      <td>2017.2</td>\n",
              "      <td>LÓGICA DE PROGRAMAÇÃO - Turma 01A</td>\n",
              "      <td>20170096736</td>\n",
              "      <td>Lucas Dantas</td>\n",
              "    </tr>\n",
              "  </tbody>\n",
              "</table>\n",
              "</div>"
            ],
            "text/plain": [
              "                    idLista  ...          nome\n",
              "0  598cd57a3bc48946977dcf67  ...  Lucas Dantas\n",
              "\n",
              "[1 rows x 12 columns]"
            ]
          },
          "metadata": {
            "tags": []
          },
          "execution_count": 57
        }
      ]
    },
    {
      "cell_type": "markdown",
      "metadata": {
        "id": "F3WsmpC-s7kS",
        "colab_type": "text"
      },
      "source": [
        "**Criar um arquivo CSV com as informações dos usuarios, turmas, submissões e as informações da lista**"
      ]
    },
    {
      "cell_type": "code",
      "metadata": {
        "id": "VNJ0GcPIuBt8",
        "colab_type": "code",
        "colab": {}
      },
      "source": [
        "mergeUseTurmasSubLista.to_csv(r'lopUseTurmasSubLista.csv')"
      ],
      "execution_count": 0,
      "outputs": []
    },
    {
      "cell_type": "markdown",
      "metadata": {
        "id": "zSCt_wn0u2bR",
        "colab_type": "text"
      },
      "source": [
        "**Montar um arquivo CSV com as notas de cada aluno por lista**"
      ]
    },
    {
      "cell_type": "code",
      "metadata": {
        "id": "HYDs4CUmvFvI",
        "colab_type": "code",
        "colab": {}
      },
      "source": [
        "#Remover todas as linhas que tem dados faltantes\n",
        "mergeUseTurmasSubListaM = mergeUseTurmasSubLista.dropna(axis=0, how='any')\n"
      ],
      "execution_count": 0,
      "outputs": []
    },
    {
      "cell_type": "markdown",
      "metadata": {
        "id": "3Gwz3X_KSnxV",
        "colab_type": "text"
      },
      "source": [
        "**Porcentagem Maxima por aluno em cada questão**"
      ]
    },
    {
      "cell_type": "code",
      "metadata": {
        "id": "Ae0uZnOdOhYc",
        "colab_type": "code",
        "colab": {
          "base_uri": "https://localhost:8080/",
          "height": 231
        },
        "outputId": "10e312d2-64e9-41e4-cba9-043b52635539"
      },
      "source": [
        "NotaMaxQuestao = mergeUseTurmasSubListaM.groupby([\"idLista\",\"idAluno\",\"questao\"]).max()\n",
        "NotaMaxQuestao.rename(columns={\"porcentagemAcerto\":\"porcentagemMaxima\"}, inplace=True)\n",
        "NotaMaxQuestao = NotaMaxQuestao.reset_index()\n",
        "print(NotaMaxQuestao.columns)\n",
        "NotaMaxQuestao.head(1)"
      ],
      "execution_count": 66,
      "outputs": [
        {
          "output_type": "stream",
          "text": [
            "Index(['idLista', 'idAluno', 'questao', 'titulo', 'quantidade', 'data',\n",
            "       'porcentagemMaxima', 'idTurma', 'ano', 'descricaoTurma', 'matricula',\n",
            "       'nome'],\n",
            "      dtype='object')\n"
          ],
          "name": "stdout"
        },
        {
          "output_type": "execute_result",
          "data": {
            "text/html": [
              "<div>\n",
              "<style scoped>\n",
              "    .dataframe tbody tr th:only-of-type {\n",
              "        vertical-align: middle;\n",
              "    }\n",
              "\n",
              "    .dataframe tbody tr th {\n",
              "        vertical-align: top;\n",
              "    }\n",
              "\n",
              "    .dataframe thead th {\n",
              "        text-align: right;\n",
              "    }\n",
              "</style>\n",
              "<table border=\"1\" class=\"dataframe\">\n",
              "  <thead>\n",
              "    <tr style=\"text-align: right;\">\n",
              "      <th></th>\n",
              "      <th>idLista</th>\n",
              "      <th>idAluno</th>\n",
              "      <th>questao</th>\n",
              "      <th>titulo</th>\n",
              "      <th>quantidade</th>\n",
              "      <th>data</th>\n",
              "      <th>porcentagemMaxima</th>\n",
              "      <th>idTurma</th>\n",
              "      <th>ano</th>\n",
              "      <th>descricaoTurma</th>\n",
              "      <th>matricula</th>\n",
              "      <th>nome</th>\n",
              "    </tr>\n",
              "  </thead>\n",
              "  <tbody>\n",
              "    <tr>\n",
              "      <th>0</th>\n",
              "      <td>598cd57a3bc48946977dcf67</td>\n",
              "      <td>5991cb910be9d42f2f68b906</td>\n",
              "      <td>59885f8d684f4a3f78163c00</td>\n",
              "      <td>Lista de Laboratório 1 - Expressões Aritmética...</td>\n",
              "      <td>5.0</td>\n",
              "      <td>2017-08-14 16:29:10.522000+00:00</td>\n",
              "      <td>100.0</td>\n",
              "      <td>598e15296d8650eb27d52e3d</td>\n",
              "      <td>2017.2</td>\n",
              "      <td>LÓGICA DE PROGRAMAÇÃO - Turma 01A</td>\n",
              "      <td>20170039453</td>\n",
              "      <td>Amanda</td>\n",
              "    </tr>\n",
              "  </tbody>\n",
              "</table>\n",
              "</div>"
            ],
            "text/plain": [
              "                    idLista                   idAluno  ...    matricula    nome\n",
              "0  598cd57a3bc48946977dcf67  5991cb910be9d42f2f68b906  ...  20170039453  Amanda\n",
              "\n",
              "[1 rows x 12 columns]"
            ]
          },
          "metadata": {
            "tags": []
          },
          "execution_count": 66
        }
      ]
    },
    {
      "cell_type": "markdown",
      "metadata": {
        "id": "vgm8Oox_ZcP7",
        "colab_type": "text"
      },
      "source": [
        "**Quantidade de questoes feitas por aluno em cada lista**"
      ]
    },
    {
      "cell_type": "code",
      "metadata": {
        "id": "PPKZhnBSVfg1",
        "colab_type": "code",
        "colab": {
          "base_uri": "https://localhost:8080/",
          "height": 94
        },
        "outputId": "46f36676-df5d-4e0b-845a-ccaf664419e1"
      },
      "source": [
        "quantidade = NotaMaxQuestao.groupby([\"titulo\",\"idAluno\"]).count()\n",
        "quantidade.rename(columns={\"quantidade\":\"questoesFeitas\"}, inplace=True)\n",
        "quantidade= quantidade.reset_index()\n",
        "quantidade= quantidade[[\"titulo\",\"idAluno\",\"questoesFeitas\"]]\n",
        "print(quantidade.columns)\n",
        "quantidade.head(1)\n"
      ],
      "execution_count": 67,
      "outputs": [
        {
          "output_type": "stream",
          "text": [
            "Index(['titulo', 'idAluno', 'questoesFeitas'], dtype='object')\n"
          ],
          "name": "stdout"
        },
        {
          "output_type": "execute_result",
          "data": {
            "text/html": [
              "<div>\n",
              "<style scoped>\n",
              "    .dataframe tbody tr th:only-of-type {\n",
              "        vertical-align: middle;\n",
              "    }\n",
              "\n",
              "    .dataframe tbody tr th {\n",
              "        vertical-align: top;\n",
              "    }\n",
              "\n",
              "    .dataframe thead th {\n",
              "        text-align: right;\n",
              "    }\n",
              "</style>\n",
              "<table border=\"1\" class=\"dataframe\">\n",
              "  <thead>\n",
              "    <tr style=\"text-align: right;\">\n",
              "      <th></th>\n",
              "      <th>titulo</th>\n",
              "      <th>idAluno</th>\n",
              "      <th>questoesFeitas</th>\n",
              "    </tr>\n",
              "  </thead>\n",
              "  <tbody>\n",
              "    <tr>\n",
              "      <th>0</th>\n",
              "      <td>Lista de Exercícios 1 - Expressões e variáveis</td>\n",
              "      <td>5991cb910be9d42f2f68b906</td>\n",
              "      <td>11</td>\n",
              "    </tr>\n",
              "  </tbody>\n",
              "</table>\n",
              "</div>"
            ],
            "text/plain": [
              "                                           titulo  ... questoesFeitas\n",
              "0  Lista de Exercícios 1 - Expressões e variáveis  ...             11\n",
              "\n",
              "[1 rows x 3 columns]"
            ]
          },
          "metadata": {
            "tags": []
          },
          "execution_count": 67
        }
      ]
    },
    {
      "cell_type": "markdown",
      "metadata": {
        "id": "aEJHPj8P8VLb",
        "colab_type": "text"
      },
      "source": [
        "**Nota final dos alunos por lista**"
      ]
    },
    {
      "cell_type": "code",
      "metadata": {
        "id": "LIOUjOfsS2TA",
        "colab_type": "code",
        "colab": {
          "base_uri": "https://localhost:8080/",
          "height": 94
        },
        "outputId": "0790c3e2-f076-489d-95b9-ac60e8520936"
      },
      "source": [
        "NotaLista = NotaMaxQuestao.groupby([\"titulo\",\"idAluno\"]).sum()\n",
        "NotaLista.rename(columns={\"porcentagemMaxima\":\"SomaLista\", \"quantidade\":\"questoesFeitas\"}, inplace=True)\n",
        "NotaLista = NotaLista.drop('ano',axis=1)\n",
        "NotaLista= NotaLista.reset_index()\n",
        "NotaLista = NotaLista[[\"titulo\",'idAluno','SomaLista']]\n",
        "print(NotaLista.columns)\n",
        "NotaLista.head(1)\n"
      ],
      "execution_count": 68,
      "outputs": [
        {
          "output_type": "stream",
          "text": [
            "Index(['titulo', 'idAluno', 'SomaLista'], dtype='object')\n"
          ],
          "name": "stdout"
        },
        {
          "output_type": "execute_result",
          "data": {
            "text/html": [
              "<div>\n",
              "<style scoped>\n",
              "    .dataframe tbody tr th:only-of-type {\n",
              "        vertical-align: middle;\n",
              "    }\n",
              "\n",
              "    .dataframe tbody tr th {\n",
              "        vertical-align: top;\n",
              "    }\n",
              "\n",
              "    .dataframe thead th {\n",
              "        text-align: right;\n",
              "    }\n",
              "</style>\n",
              "<table border=\"1\" class=\"dataframe\">\n",
              "  <thead>\n",
              "    <tr style=\"text-align: right;\">\n",
              "      <th></th>\n",
              "      <th>titulo</th>\n",
              "      <th>idAluno</th>\n",
              "      <th>SomaLista</th>\n",
              "    </tr>\n",
              "  </thead>\n",
              "  <tbody>\n",
              "    <tr>\n",
              "      <th>0</th>\n",
              "      <td>Lista de Exercícios 1 - Expressões e variáveis</td>\n",
              "      <td>5991cb910be9d42f2f68b906</td>\n",
              "      <td>1100.0</td>\n",
              "    </tr>\n",
              "  </tbody>\n",
              "</table>\n",
              "</div>"
            ],
            "text/plain": [
              "                                           titulo  ... SomaLista\n",
              "0  Lista de Exercícios 1 - Expressões e variáveis  ...    1100.0\n",
              "\n",
              "[1 rows x 3 columns]"
            ]
          },
          "metadata": {
            "tags": []
          },
          "execution_count": 68
        }
      ]
    },
    {
      "cell_type": "code",
      "metadata": {
        "id": "xrkgbDhyZtc5",
        "colab_type": "code",
        "colab": {
          "base_uri": "https://localhost:8080/",
          "height": 111
        },
        "outputId": "b7d696ac-02e2-4a2f-e82d-dd7555f6c065"
      },
      "source": [
        "mergeQuanNotaLista =  pd.merge(right= quantidade, left = NotaLista, on=['idAluno','titulo'], how=\"inner\")\n",
        "print(mergeQuanNotaLista.columns)\n",
        "print(mergeQuanNotaLista.shape)\n",
        "mergeQuanNotaLista.head(1)\n"
      ],
      "execution_count": 69,
      "outputs": [
        {
          "output_type": "stream",
          "text": [
            "Index(['titulo', 'idAluno', 'SomaLista', 'questoesFeitas'], dtype='object')\n",
            "(6822, 4)\n"
          ],
          "name": "stdout"
        },
        {
          "output_type": "execute_result",
          "data": {
            "text/html": [
              "<div>\n",
              "<style scoped>\n",
              "    .dataframe tbody tr th:only-of-type {\n",
              "        vertical-align: middle;\n",
              "    }\n",
              "\n",
              "    .dataframe tbody tr th {\n",
              "        vertical-align: top;\n",
              "    }\n",
              "\n",
              "    .dataframe thead th {\n",
              "        text-align: right;\n",
              "    }\n",
              "</style>\n",
              "<table border=\"1\" class=\"dataframe\">\n",
              "  <thead>\n",
              "    <tr style=\"text-align: right;\">\n",
              "      <th></th>\n",
              "      <th>titulo</th>\n",
              "      <th>idAluno</th>\n",
              "      <th>SomaLista</th>\n",
              "      <th>questoesFeitas</th>\n",
              "    </tr>\n",
              "  </thead>\n",
              "  <tbody>\n",
              "    <tr>\n",
              "      <th>0</th>\n",
              "      <td>Lista de Exercícios 1 - Expressões e variáveis</td>\n",
              "      <td>5991cb910be9d42f2f68b906</td>\n",
              "      <td>1100.0</td>\n",
              "      <td>11</td>\n",
              "    </tr>\n",
              "  </tbody>\n",
              "</table>\n",
              "</div>"
            ],
            "text/plain": [
              "                                           titulo  ... questoesFeitas\n",
              "0  Lista de Exercícios 1 - Expressões e variáveis  ...             11\n",
              "\n",
              "[1 rows x 4 columns]"
            ]
          },
          "metadata": {
            "tags": []
          },
          "execution_count": 69
        }
      ]
    },
    {
      "cell_type": "markdown",
      "metadata": {
        "id": "tVAYs1f6jAEj",
        "colab_type": "text"
      },
      "source": [
        "**Quantidade de questoes por lista**"
      ]
    },
    {
      "cell_type": "code",
      "metadata": {
        "id": "aW34ME3nfdlH",
        "colab_type": "code",
        "colab": {
          "base_uri": "https://localhost:8080/",
          "height": 214
        },
        "outputId": "6d9cedc0-c90a-4f8e-d246-6c6160270943"
      },
      "source": [
        "quantQuesList = listaNovo[['quantidade','titulo']]\n",
        "quantQuesList =quantQuesList.drop_duplicates()\n",
        "print(quantQuesList.shape)\n",
        "quantQuesList.head()\n",
        "\n"
      ],
      "execution_count": 70,
      "outputs": [
        {
          "output_type": "stream",
          "text": [
            "(23, 2)\n"
          ],
          "name": "stdout"
        },
        {
          "output_type": "execute_result",
          "data": {
            "text/html": [
              "<div>\n",
              "<style scoped>\n",
              "    .dataframe tbody tr th:only-of-type {\n",
              "        vertical-align: middle;\n",
              "    }\n",
              "\n",
              "    .dataframe tbody tr th {\n",
              "        vertical-align: top;\n",
              "    }\n",
              "\n",
              "    .dataframe thead th {\n",
              "        text-align: right;\n",
              "    }\n",
              "</style>\n",
              "<table border=\"1\" class=\"dataframe\">\n",
              "  <thead>\n",
              "    <tr style=\"text-align: right;\">\n",
              "      <th></th>\n",
              "      <th>quantidade</th>\n",
              "      <th>titulo</th>\n",
              "    </tr>\n",
              "  </thead>\n",
              "  <tbody>\n",
              "    <tr>\n",
              "      <th>0</th>\n",
              "      <td>5</td>\n",
              "      <td>Lista de Laboratório 1 - Expressões Aritmética...</td>\n",
              "    </tr>\n",
              "    <tr>\n",
              "      <th>5</th>\n",
              "      <td>5</td>\n",
              "      <td>Lista de Laboratório 2 - Expressões Lógicas e ...</td>\n",
              "    </tr>\n",
              "    <tr>\n",
              "      <th>10</th>\n",
              "      <td>18</td>\n",
              "      <td>Lista de Exercícios 2 - Estruturas Condicionais</td>\n",
              "    </tr>\n",
              "    <tr>\n",
              "      <th>28</th>\n",
              "      <td>15</td>\n",
              "      <td>Lista de Exercícios 3 - Laço Condicional</td>\n",
              "    </tr>\n",
              "    <tr>\n",
              "      <th>43</th>\n",
              "      <td>5</td>\n",
              "      <td>Lista de Laboratório 3 -  Estruturas de Repeti...</td>\n",
              "    </tr>\n",
              "  </tbody>\n",
              "</table>\n",
              "</div>"
            ],
            "text/plain": [
              "    quantidade                                             titulo\n",
              "0            5  Lista de Laboratório 1 - Expressões Aritmética...\n",
              "5            5  Lista de Laboratório 2 - Expressões Lógicas e ...\n",
              "10          18    Lista de Exercícios 2 - Estruturas Condicionais\n",
              "28          15           Lista de Exercícios 3 - Laço Condicional\n",
              "43           5  Lista de Laboratório 3 -  Estruturas de Repeti..."
            ]
          },
          "metadata": {
            "tags": []
          },
          "execution_count": 70
        }
      ]
    },
    {
      "cell_type": "markdown",
      "metadata": {
        "id": "-CZxcN9-xTwh",
        "colab_type": "text"
      },
      "source": [
        "**Concatenando as informações das tabelas mergeQuanNotaLista e quantidade para calcular o nota final de cada lista**"
      ]
    },
    {
      "cell_type": "code",
      "metadata": {
        "id": "wi0x_t8MjWnp",
        "colab_type": "code",
        "colab": {
          "base_uri": "https://localhost:8080/",
          "height": 204
        },
        "outputId": "619a0b05-6c57-4d12-c577-439562aab110"
      },
      "source": [
        "mergeQuanNotaListaQuanQ = mergeQuanNotaLista.join(quantQuesList.set_index('titulo'), on='titulo')\n",
        "mergeQuanNotaListaQuanQ[\"NotaLista\"]= mergeQuanNotaListaQuanQ[\"SomaLista\"] /mergeQuanNotaListaQuanQ['quantidade']\n",
        "print(mergeQuanNotaListaQuanQ.columns)\n",
        "print(mergeQuanNotaListaQuanQ.shape)\n",
        "mergeQuanNotaListaQuanQ.head(3)"
      ],
      "execution_count": 71,
      "outputs": [
        {
          "output_type": "stream",
          "text": [
            "Index(['titulo', 'idAluno', 'SomaLista', 'questoesFeitas', 'quantidade',\n",
            "       'NotaLista'],\n",
            "      dtype='object')\n",
            "(6822, 6)\n"
          ],
          "name": "stdout"
        },
        {
          "output_type": "execute_result",
          "data": {
            "text/html": [
              "<div>\n",
              "<style scoped>\n",
              "    .dataframe tbody tr th:only-of-type {\n",
              "        vertical-align: middle;\n",
              "    }\n",
              "\n",
              "    .dataframe tbody tr th {\n",
              "        vertical-align: top;\n",
              "    }\n",
              "\n",
              "    .dataframe thead th {\n",
              "        text-align: right;\n",
              "    }\n",
              "</style>\n",
              "<table border=\"1\" class=\"dataframe\">\n",
              "  <thead>\n",
              "    <tr style=\"text-align: right;\">\n",
              "      <th></th>\n",
              "      <th>titulo</th>\n",
              "      <th>idAluno</th>\n",
              "      <th>SomaLista</th>\n",
              "      <th>questoesFeitas</th>\n",
              "      <th>quantidade</th>\n",
              "      <th>NotaLista</th>\n",
              "    </tr>\n",
              "  </thead>\n",
              "  <tbody>\n",
              "    <tr>\n",
              "      <th>0</th>\n",
              "      <td>Lista de Exercícios 1 - Expressões e variáveis</td>\n",
              "      <td>5991cb910be9d42f2f68b906</td>\n",
              "      <td>1100.0</td>\n",
              "      <td>11</td>\n",
              "      <td>15</td>\n",
              "      <td>73.333333</td>\n",
              "    </tr>\n",
              "    <tr>\n",
              "      <th>1</th>\n",
              "      <td>Lista de Exercícios 1 - Expressões e variáveis</td>\n",
              "      <td>5991cd1a8907ca2f441cd313</td>\n",
              "      <td>500.0</td>\n",
              "      <td>5</td>\n",
              "      <td>15</td>\n",
              "      <td>33.333333</td>\n",
              "    </tr>\n",
              "    <tr>\n",
              "      <th>2</th>\n",
              "      <td>Lista de Exercícios 1 - Expressões e variáveis</td>\n",
              "      <td>5991cd34b3c8b42f3d5da3fd</td>\n",
              "      <td>600.0</td>\n",
              "      <td>6</td>\n",
              "      <td>15</td>\n",
              "      <td>40.000000</td>\n",
              "    </tr>\n",
              "  </tbody>\n",
              "</table>\n",
              "</div>"
            ],
            "text/plain": [
              "                                           titulo  ...  NotaLista\n",
              "0  Lista de Exercícios 1 - Expressões e variáveis  ...  73.333333\n",
              "1  Lista de Exercícios 1 - Expressões e variáveis  ...  33.333333\n",
              "2  Lista de Exercícios 1 - Expressões e variáveis  ...  40.000000\n",
              "\n",
              "[3 rows x 6 columns]"
            ]
          },
          "metadata": {
            "tags": []
          },
          "execution_count": 71
        }
      ]
    },
    {
      "cell_type": "markdown",
      "metadata": {
        "id": "YpzJ92ciyVHX",
        "colab_type": "text"
      },
      "source": [
        "**Tabela final com todas as informações do aluno**"
      ]
    },
    {
      "cell_type": "code",
      "metadata": {
        "id": "iPiMlcODpsR2",
        "colab_type": "code",
        "colab": {
          "base_uri": "https://localhost:8080/",
          "height": 664
        },
        "outputId": "a7ab2602-239f-4f61-fdee-fdc84a16c2dd"
      },
      "source": [
        "mergeUseTurmasSubListaM = mergeUseTurmasSubLista[[\"titulo\",'idAluno', 'ano', 'descricaoTurma', 'idTurma','matricula','nome']]\n",
        "mergeQuanNotaListaQuanM = mergeQuanNotaListaQuanQ[['titulo', 'idAluno','questoesFeitas', 'quantidade','NotaLista']]\n",
        "tabelaFinal= mergeQuanNotaListaQuanM.join(mergeUseTurmasSubListaM.set_index(['titulo','idAluno']), on=['titulo','idAluno'])\n",
        "#remover as linhas duplicadas\n",
        "tabelaFinal =tabelaFinal.drop_duplicates()\n",
        "print(tabelaFinal.shape)\n",
        "print(tabelaFinal.info())\n",
        "tabelaFinal.head()"
      ],
      "execution_count": 72,
      "outputs": [
        {
          "output_type": "stream",
          "text": [
            "(7654, 10)\n",
            "<class 'pandas.core.frame.DataFrame'>\n",
            "Int64Index: 7654 entries, 0 to 6821\n",
            "Data columns (total 10 columns):\n",
            "titulo            7654 non-null object\n",
            "idAluno           7654 non-null object\n",
            "questoesFeitas    7654 non-null int64\n",
            "quantidade        7654 non-null int64\n",
            "NotaLista         7654 non-null float64\n",
            "ano               7654 non-null float64\n",
            "descricaoTurma    7654 non-null object\n",
            "idTurma           7654 non-null object\n",
            "matricula         7654 non-null object\n",
            "nome              7654 non-null object\n",
            "dtypes: float64(2), int64(2), object(6)\n",
            "memory usage: 657.8+ KB\n",
            "None\n"
          ],
          "name": "stdout"
        },
        {
          "output_type": "execute_result",
          "data": {
            "text/html": [
              "<div>\n",
              "<style scoped>\n",
              "    .dataframe tbody tr th:only-of-type {\n",
              "        vertical-align: middle;\n",
              "    }\n",
              "\n",
              "    .dataframe tbody tr th {\n",
              "        vertical-align: top;\n",
              "    }\n",
              "\n",
              "    .dataframe thead th {\n",
              "        text-align: right;\n",
              "    }\n",
              "</style>\n",
              "<table border=\"1\" class=\"dataframe\">\n",
              "  <thead>\n",
              "    <tr style=\"text-align: right;\">\n",
              "      <th></th>\n",
              "      <th>titulo</th>\n",
              "      <th>idAluno</th>\n",
              "      <th>questoesFeitas</th>\n",
              "      <th>quantidade</th>\n",
              "      <th>NotaLista</th>\n",
              "      <th>ano</th>\n",
              "      <th>descricaoTurma</th>\n",
              "      <th>idTurma</th>\n",
              "      <th>matricula</th>\n",
              "      <th>nome</th>\n",
              "    </tr>\n",
              "  </thead>\n",
              "  <tbody>\n",
              "    <tr>\n",
              "      <th>0</th>\n",
              "      <td>Lista de Exercícios 1 - Expressões e variáveis</td>\n",
              "      <td>5991cb910be9d42f2f68b906</td>\n",
              "      <td>11</td>\n",
              "      <td>15</td>\n",
              "      <td>73.333333</td>\n",
              "      <td>2017.2</td>\n",
              "      <td>LÓGICA DE PROGRAMAÇÃO - Turma 01A</td>\n",
              "      <td>598e15296d8650eb27d52e3d</td>\n",
              "      <td>20170039453</td>\n",
              "      <td>Amanda</td>\n",
              "    </tr>\n",
              "    <tr>\n",
              "      <th>1</th>\n",
              "      <td>Lista de Exercícios 1 - Expressões e variáveis</td>\n",
              "      <td>5991cd1a8907ca2f441cd313</td>\n",
              "      <td>5</td>\n",
              "      <td>15</td>\n",
              "      <td>33.333333</td>\n",
              "      <td>2017.2</td>\n",
              "      <td>LÓGICA DE PROGRAMAÇÃO - Turma 01B</td>\n",
              "      <td>598e15296d8650eb27d52e5f</td>\n",
              "      <td>20170038394</td>\n",
              "      <td>Emanuel Fernandes P. da Rocha</td>\n",
              "    </tr>\n",
              "    <tr>\n",
              "      <th>2</th>\n",
              "      <td>Lista de Exercícios 1 - Expressões e variáveis</td>\n",
              "      <td>5991cd34b3c8b42f3d5da3fd</td>\n",
              "      <td>6</td>\n",
              "      <td>15</td>\n",
              "      <td>40.000000</td>\n",
              "      <td>2017.2</td>\n",
              "      <td>LÓGICA DE PROGRAMAÇÃO - Turma 01B</td>\n",
              "      <td>598e15296d8650eb27d52e5f</td>\n",
              "      <td>20170001812</td>\n",
              "      <td>Andrey Costa</td>\n",
              "    </tr>\n",
              "    <tr>\n",
              "      <th>3</th>\n",
              "      <td>Lista de Exercícios 1 - Expressões e variáveis</td>\n",
              "      <td>5991cd37b3c8b42f3d5da3fe</td>\n",
              "      <td>4</td>\n",
              "      <td>15</td>\n",
              "      <td>26.666667</td>\n",
              "      <td>2017.2</td>\n",
              "      <td>LÓGICA DE PROGRAMAÇÃO - Turma 01B</td>\n",
              "      <td>598e15296d8650eb27d52e5f</td>\n",
              "      <td>20170102735</td>\n",
              "      <td>Fernanda</td>\n",
              "    </tr>\n",
              "    <tr>\n",
              "      <th>4</th>\n",
              "      <td>Lista de Exercícios 1 - Expressões e variáveis</td>\n",
              "      <td>5991cd39b3c8b42f3d5da3ff</td>\n",
              "      <td>2</td>\n",
              "      <td>15</td>\n",
              "      <td>13.333333</td>\n",
              "      <td>2017.2</td>\n",
              "      <td>LÓGICA DE PROGRAMAÇÃO - Turma 01B</td>\n",
              "      <td>598e15296d8650eb27d52e5f</td>\n",
              "      <td>20170043590</td>\n",
              "      <td>Jayedson Brito</td>\n",
              "    </tr>\n",
              "  </tbody>\n",
              "</table>\n",
              "</div>"
            ],
            "text/plain": [
              "                                           titulo  ...                           nome\n",
              "0  Lista de Exercícios 1 - Expressões e variáveis  ...                         Amanda\n",
              "1  Lista de Exercícios 1 - Expressões e variáveis  ...  Emanuel Fernandes P. da Rocha\n",
              "2  Lista de Exercícios 1 - Expressões e variáveis  ...                   Andrey Costa\n",
              "3  Lista de Exercícios 1 - Expressões e variáveis  ...                       Fernanda\n",
              "4  Lista de Exercícios 1 - Expressões e variáveis  ...                 Jayedson Brito\n",
              "\n",
              "[5 rows x 10 columns]"
            ]
          },
          "metadata": {
            "tags": []
          },
          "execution_count": 72
        }
      ]
    },
    {
      "cell_type": "markdown",
      "metadata": {
        "id": "mIvJUg520e81",
        "colab_type": "text"
      },
      "source": [
        "**Exportando o dataframe para um arquivo CSV**"
      ]
    },
    {
      "cell_type": "code",
      "metadata": {
        "id": "gcOW47zK0egw",
        "colab_type": "code",
        "colab": {}
      },
      "source": [
        "tabelaFinalT= tabelaFinal.drop('nome',axis=1)\n",
        "tabelaFinalT.to_csv(r'lopUsuarioNota.csv')\n"
      ],
      "execution_count": 0,
      "outputs": []
    }
  ]
}