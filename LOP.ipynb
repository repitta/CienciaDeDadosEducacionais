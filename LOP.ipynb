{
  "nbformat": 4,
  "nbformat_minor": 0,
  "metadata": {
    "colab": {
      "name": "LOP.ipynb",
      "version": "0.3.2",
      "provenance": [],
      "collapsed_sections": [],
      "toc_visible": true,
      "include_colab_link": true
    },
    "kernelspec": {
      "name": "python3",
      "display_name": "Python 3"
    }
  },
  "cells": [
    {
      "cell_type": "markdown",
      "metadata": {
        "id": "view-in-github",
        "colab_type": "text"
      },
      "source": [
        "<a href=\"https://colab.research.google.com/github/repitta/CienciaDeDadosEducacionais/blob/master/LOP.ipynb\" target=\"_parent\"><img src=\"https://colab.research.google.com/assets/colab-badge.svg\" alt=\"Open In Colab\"/></a>"
      ]
    },
    {
      "cell_type": "markdown",
      "metadata": {
        "id": "hwx4W4sEMVk9",
        "colab_type": "text"
      },
      "source": [
        "#<h1>Exploração dos dados do sistema LOP"
      ]
    },
    {
      "cell_type": "markdown",
      "metadata": {
        "id": "rJE6lkdSMliM",
        "colab_type": "text"
      },
      "source": [
        "Nesse projeto iremos fazer a análise exploratória de dados e suas representações visuais, que  engloba um conjunto de estatísticas quantitativas e gráficas que nos mostram as tendências, detectam comportamentos, testam a validade de hipóteses e fazem vários outros estudos.\n",
        "\n",
        "Para esta análise, vamos utilizar os dados fornecidos pelo sistema LOP - Plataforma de gerenciamento de exercícios de programação da Escola de Ciência e Tecnolgia da  Universidade Federal do Rio Grande do Norte (UFRN) e investigar os fatores que influenciam o desempenho dos alunos do Bacharelado em Ciência e Tecnologia.\n",
        "\n",
        "Assim, algumas questões que serão uma base para o nosso estudo podem ser levantadas:\n",
        "\n",
        "1. Como o sucesso dos alunos tem sido ao longo dos anos?\n",
        "2.  Uma configuração (tamanho, horário) da classe influencia  nesse desempenho?\n",
        "3. Quais habilidades são aprendidas pelos alunos? (Perseverança,  Raciocínio Lógico, Atenção aos detalhes, Pensamento Abstrato )\n",
        "4. Qual o perfil dos alunos?\n",
        "5. Quais os estilos de aprendizagem?\n",
        "6. E finalmente, qual a influência da  autorregulação da aprendizagem do aluno no seu redimento?\n",
        "\n",
        "\n",
        "\n",
        "\n",
        "E tendo respondido a essas perguntas que, ao longo deste trabalho, geraremos gráficos e tabelas que relacionam a média dos alunos e o número de alunos aprovados e reprovados desde 2017.2  a 2019.1 com elementos como:\n",
        "\n",
        "* O número de alunos por turma;\n",
        "* O turno de aula;\n",
        "* A quantidade de exercícios repondidos;\n",
        "*A frequência que o aluno responde as atividades;\n",
        "* E a quantidade de ausências de estudantes.\n",
        "*Quantidade de linhas do código? \n",
        "*número de acessos a uma determinada tarefa?\n",
        "*Sequência de acesso do conteúdo oferecido\n",
        "*Data e hora de acesso às atividades\n",
        "*notas do aluno;\n",
        "\n",
        "Tais dados serão compilados e assim gerar informações como atividades que os alunos mais atrasam, atividades em que os alunos possuem desempenho menor e conteúdos que são mais visualizados ou menos acessados."
      ]
    },
    {
      "cell_type": "markdown",
      "metadata": {
        "id": "_ucU21OZ2Xfl",
        "colab_type": "text"
      },
      "source": [
        "# <h1>Análise dos dados dos usuários do sistema LOP\n",
        "  \n",
        "O sistema LOP - Plataforma de gerenciamento de exercícios de programação da Escola de Ciência e Tecnolgia da Universidade Federal do Rio Grande do Norte (UFRN) disponibiliza o recurso **lop.user.csv**, uma base de dados com registro dos usuários cadastrados no sistema LOP desde o ano 2017.2.\n",
        "\n",
        "Para cada usuário há informações de _id, email, grupos.0, hash, listasFavoritas, matricula, nome, questoesFavoritas, salt e sigaa.turmas\n",
        "\n",
        "1. A variável  **_id indica**  o número único data indentificação do usuário no sistema.\n",
        "\n",
        "2. A variável  **email** armazena o endereço eletrônico informado pelo usuário\n",
        "\n",
        "3. A variável  **grupos.0** indica o papel o usuário no sistema. Porém essa coluna está com o mesmo valor para todos . USUARIO\n",
        "\n",
        "4. A variável  **hash** ...\n",
        "\n",
        "5. A variável **listasFavoritas** indica .... está coluna está em branco para todos os campos\n",
        "\n",
        "6. A variável  **matricula** indica o número de matricula informado pelo usuário\n",
        "\n",
        "7. A variável **nome** armazena os nomes dos usuários\n",
        "\n",
        "8. A variável **questoesFavoritas** indica quais as questões o usuário classificou como favorita\n",
        "\n",
        "9. A variável **salt** ...\n",
        "\n",
        "10. A variável **sigaa.turmas** ...\n",
        "\n",
        "O nosso dataset tem 49 colunas e 1067 linhas\n",
        "\n",
        "\n"
      ]
    },
    {
      "cell_type": "markdown",
      "metadata": {
        "id": "HApR0AZE7yyA",
        "colab_type": "text"
      },
      "source": [
        "#Análise dos dados das turmas do sistema LOP\n",
        "\n",
        "O sistema LOP - Plataforma de gerenciamento de exercícios de programação da Escola de Ciência e Tecnolgia da Universidade Federal do Rio Grande do Norte (UFRN) disponibiliza o recurso **lop.turmas.csv**, uma base de dados com registro das turmas cadastradas no sistema LOP desde o ano 2017.2.\n",
        "\n",
        "Para cada turma há informações 355 colunas . Muitas dessas informações foram exportadas do SIGAA e não são releventes para a pesquisa. Vamos descrever as variáveis que serão utilizadas no estudo.\n",
        "\n",
        "1. A variável **_id armazena** o número único para identificar cada turma cadastrada\n",
        "2. A variável **anoPeriodoString** armazena o ano e o respectivo período: .1 para o primeiro sementre .2 para o segundo sementre\n",
        "3. A variável **descricaoTurma** armazena o nome da disciplina e o nome da turma\n",
        "4. A variável **qtdMatriculados** armazena a quantidade de alunos matriculados em cada turma, tem muitos obejtos faltantes , não foi utilizado no estudo\n",
        "5. A variável **horariosTurma.0.descricaoTurno** armazena o período que a turma foi oferdada : Manhã, Tarde ou Noite, tem muito objetos faltantes, não foi utilizadono estudo.\n",
        "6. A variável **matrícula** armazena a matricula do usuário\n",
        "\n",
        "O nosso dataset tem 355 colunas e 48 linhas"
      ]
    },
    {
      "cell_type": "markdown",
      "metadata": {
        "id": "62BdGAvqEcb7",
        "colab_type": "text"
      },
      "source": [
        "# Análise dos dados das listas de questões do sistema Lop\n",
        "\n",
        "O sistema LOP - Plataforma de gerenciamento de exercícios de programação da Escola de Ciência e Tecnolgia da Universidade Federal do Rio Grande do Norte (UFRN) disponibiliza o recurso **lop.listasExercicios.csv**, uma base de dados com registro das listas de exercícios cadastradas no sistema LOP desde o ano 2017.2.\n",
        "\n",
        "Para cada lista de questões há informações  _id, likes, questoes, titulo.\n",
        "\n",
        "1. A variável **_id** é um número único que idenfifica cada lista de questões\n",
        "2. A variável **likes** ... está coluna está toda zerada\n",
        "3.A variável  **questões** armazena o número único para cada questão cadastrada\n",
        "4. a variável **titulo** armazena o titulo de cada questão\n",
        "\n",
        "O nosso dataset tem 23 colunas e 23 linhas"
      ]
    },
    {
      "cell_type": "markdown",
      "metadata": {
        "id": "OEkqnhzK45BH",
        "colab_type": "text"
      },
      "source": [
        "#Análise dos dados das submissões das questões do sistema Lop\n",
        "\n",
        "O sistema LOP - Plataforma de gerenciamento de exercícios de programação da Escola de Ciência e Tecnolgia da Universidade Federal do Rio Grande do Norte (UFRN) disponibiliza o recurso **lop.submissoes.csv**, uma base de dados com registro das listas de exercícios cadastradas no sistema LOP desde o ano 2017.2.\n",
        "\n",
        "Para cada submissão há informações _id, codigo, data, porcentagemAcerto, questao.\n",
        "\n",
        "1. A variável **_id**  armazena um número único da submissão de uma questão por aluno\n",
        "2. A variável **codigo** armazena o código que foi feito pelo aluno\n",
        "3. A variável **data** armazena data e hora de cada submissão\n",
        "4. A variável **porcentagemAcerto** armazena o valor da porcentagem de acerto de cada questão submetida\n",
        "5. A variável **questao** armazena o id da questão que foi submetida\n",
        "\n",
        "O nosso dataset tem 55  colunas e 33421 linhas"
      ]
    },
    {
      "cell_type": "markdown",
      "metadata": {
        "id": "f9DznxXXZeo-",
        "colab_type": "text"
      },
      "source": [
        "**Importa as bibliotecas**"
      ]
    },
    {
      "cell_type": "code",
      "metadata": {
        "id": "HLNKmDjRZYW-",
        "colab_type": "code",
        "colab": {}
      },
      "source": [
        "import pandas as pd\n",
        "from csv import reader\n",
        "import numpy as np"
      ],
      "execution_count": 0,
      "outputs": []
    },
    {
      "cell_type": "markdown",
      "metadata": {
        "id": "hUpgEIjtZzeR",
        "colab_type": "text"
      },
      "source": [
        "**Lendo os arquivos CSV do Lop e definindo os tipos de cada coluna**"
      ]
    },
    {
      "cell_type": "code",
      "metadata": {
        "id": "UEVdkG942Q2o",
        "colab_type": "code",
        "outputId": "e875f3d3-b003-42ab-a64b-57dacec7fc39",
        "colab": {
          "base_uri": "https://localhost:8080/",
          "height": 51
        }
      },
      "source": [
        "#Tipos de dados em cada coluna\n",
        "typeUser   = {\"_id\":str, \"matricula\":str, \"nome\":str}\n",
        "typeTurmas = {\"_id\":str, 'anoPeriodoString':np.float, 'descricaoTurma':str}\n",
        "typeLista  = {\"_id\":str,\"titulo\":str,\"questao\":str}\n",
        "typeSub    = {\"porcentagemAcerto\":np.int,\"user\":str} \n",
        "         \n",
        "# Ler os arquivos CSV que foram gerados a partir do banco de dados do sistema LOP\n",
        "lopUsers     = pd.read_csv(\"https://github.com/repitta/CienciaDeDadosEducacionais/raw/master/arquivosCSV/lop.users.csv\",dtype=typeUser)\n",
        "lopTurmas    = pd.read_csv(\"https://raw.githubusercontent.com/repitta/CienciaDeDadosEducacionais/master/arquivosCSV/lop.turmas.csv\",dtype=typeTurmas)\n",
        "lopListas    = pd.read_csv(\"https://raw.githubusercontent.com/repitta/CienciaDeDadosEducacionais/master/arquivosCSV/lop.listasExercicios.csv\",dtype=typeLista) \n",
        "lopSub       = pd.read_csv(\"https://github.com/repitta/CienciaDeDadosEducacionais/raw/master/arquivosCSV/lop.submissoes.csv\",dtype=typeSub)\n",
        "lopProvas    = pd.read_csv(\"https://raw.githubusercontent.com/repitta/CienciaDeDadosEducacionais/master/arquivosCSV/lop.provas.csv\")\n",
        "lopSubProvas = pd.read_csv(\"https://github.com/repitta/CienciaDeDadosEducacionais/raw/master/arquivosCSV/lop.submissoesProva.csv\")\n",
        "\n",
        "\n",
        "#definindo a coluna data as tabelas para o formato datetime do pandas\n",
        "lopSub[\"data\"]       = pd.to_datetime(lopSub[\"data\"], format = \"%Y/%m/%dT%H:%M:%S\")\n",
        "lopSubProvas[\"data\"] = pd.to_datetime(lopSubProvas[\"data\"], format = \"%Y/%m/%dT%H:%M:%S\")\n",
        "\n",
        "#Transformando data em variável do tipo datetime\n",
        "#tabSub[\"data\"] = tabSub[\"data\"].astype(str)\n",
        "#a = tabSub[\"data\"].str.split(\".\",  n=1, expand=True).loc[:,0].str.split(\"T\",  n=1, expand=True) \n",
        "#tabSub[\"data\"] = pd.to_datetime(a[0], format = \"%Y/%m/%d\")\n",
        "#tabSub[\"hora\"] = pd.to_datetime(a[1], format = \"%H:%M:%S\")\n",
        "#tabSub[[\"data\",\"hora\"]].head()"
      ],
      "execution_count": 0,
      "outputs": [
        {
          "output_type": "stream",
          "text": [
            "/usr/local/lib/python3.6/dist-packages/IPython/core/interactiveshell.py:2718: DtypeWarning: Columns (51) have mixed types. Specify dtype option on import or set low_memory=False.\n",
            "  interactivity=interactivity, compiler=compiler, result=result)\n"
          ],
          "name": "stderr"
        }
      ]
    },
    {
      "cell_type": "markdown",
      "metadata": {
        "id": "_S6RZEUATWZ1",
        "colab_type": "text"
      },
      "source": [
        "**Selecionar as colunas com os dados que serão utilizados no estudo**"
      ]
    },
    {
      "cell_type": "code",
      "metadata": {
        "id": "kB7_XugX8I1s",
        "colab_type": "code",
        "colab": {}
      },
      "source": [
        "#Tabela Usuários - tab_user armazena as colunas \"_id\", \"matricula\", \"nome\" \n",
        "tabUser = lopUsers.loc[:,[\"_id\", \"matricula\", \"nome\"]].copy()\n",
        "\n",
        "#Tabela Turmas - tab_turmas armazena as colunas \"_id\", \"anoPeriodoString\",\"descricaoTurma\", \"matricula\"\n",
        "tabTurmas = lopTurmas.loc[:,[\"_id\", \"anoPeriodoString\",\"descricaoTurma\"]].copy()\n",
        "matricula = []\n",
        "turno     = []\n",
        "for j in range(len(tabTurmas)):\n",
        "  idMatriculat = []\n",
        "  for i in range(30):\n",
        "    idMatriculat.append(lopTurmas.loc[:,\"dicentes.\"+str(i)+\".matricula\"][j])\n",
        "  matricula.append(idMatriculat)                     \n",
        "tabTurmas.loc[:,\"matricula\"] = pd.Series(matricula)\n",
        "\n",
        "#Tabela Listas - tab_listas armazena as colunas \"id\",\"questoes, titulo\"\n",
        "tabListas = lopListas.loc[:,[\"_id\",\"titulo\"]].copy()\n",
        "idLista   = []\n",
        "for j in range(len(tabListas)):\n",
        "  idQuestoes =[]\n",
        "  for i in range(19):\n",
        "    idQuestoes.append(lopListas.loc[:,\"questoes.\"+str(i)][j])\n",
        "  idLista.append(idQuestoes)\n",
        "tabListas.loc[:,\"questao\"] = pd.Series(idLista)\n",
        "\n",
        "#Tabela SubmissoesLista - taSub armazena as colunas \"data\",\"porcentagemAcerto\",\"questao\", \"user\"\n",
        "tabSub = lopSub.loc[:,[\"data\",\"porcentagemAcerto\",\"questao\", \"user\"]].copy()\n",
        "\n",
        "#Tabela Provas - lopProvas armazena as colunas \"_id\",\"questao\",\"titulo\", \"finalizou\", \"iniciou\"\n",
        "tabProvas = lopProvas.loc[:,[\"_id\", \"titulo\", \"finalizou\", \"iniciou\"]].copy()\n",
        "questao   = []\n",
        "turma     = []\n",
        "for j in range(len(tabProvas)):\n",
        "  idQuestaot = []\n",
        "  idTurmat  = []\n",
        "  for i in range(8):\n",
        "    idQuestaot.append(lopProvas.loc[:,\"questoes.\"+str(i)][j])\n",
        "    if i <=7 :\n",
        "      idTurmat.append(lopProvas.loc[:,\"turmas.\"+str(i)][j])\n",
        "  questao.append(idQuestaot)\n",
        "  turma.append(idTurmat)\n",
        "tabProvas.loc[:,\"questao\"] = pd.Series(questao)\n",
        "tabProvas.loc[:,\"turma\"]   = pd.Series(turma)\n",
        "\n",
        "#Tabela SubmissoesProva - tabSubProvas armazena as colunas \n",
        "tabSubProvas = lopSubProvas.loc[:,[\"_id\", \"data\", \"porcentagemAcerto\", \"prova\", \"questao\",\"user\"]].copy()\n",
        "#renomear as colunas de tabSubProvas\n",
        "tabSubProvas.rename(columns={\"_id\":\"idSubmissao\",\"prova\":\"idProva\",\"questao\":\"idQuestao\",\"user\":\"idAluno\"}, inplace=True)\n"
      ],
      "execution_count": 0,
      "outputs": []
    },
    {
      "cell_type": "markdown",
      "metadata": {
        "id": "QaM3VVsfbXve",
        "colab_type": "text"
      },
      "source": [
        "**Estrutura da cada dataframe após a seleção dos dados**"
      ]
    },
    {
      "cell_type": "code",
      "metadata": {
        "id": "Kp3c-G-NbWjb",
        "colab_type": "code",
        "outputId": "49f6c0ed-ec29-455a-c39b-c35afdec937a",
        "colab": {
          "base_uri": "https://localhost:8080/",
          "height": 255
        }
      },
      "source": [
        "print(\"Tabelas de Usuários Colunas        \\n\",tabUser.columns,      tabUser.shape)\n",
        "print(\"Tabelas de Turmas Colunas          \\n\",tabTurmas.columns,    tabTurmas.shape)\n",
        "print(\"Tabelas de Listas Colunas          \\n\",tabListas.columns,    tabListas.shape)\n",
        "print(\"Tabelas de SubmissoesLista Colunas \\n\",tabSub.columns,       tabSub.shape)\n",
        "print(\"Tabelas de Provas Colunas          \\n\",tabProvas.columns,    tabListas.shape)\n",
        "print(\"Tabelas de SubmissoesProvas Colunas\\n\",tabSubProvas.columns, tabSubProvas.shape)"
      ],
      "execution_count": 0,
      "outputs": [
        {
          "output_type": "stream",
          "text": [
            "Tabelas de Usuários Colunas        \n",
            " Index(['_id', 'matricula', 'nome'], dtype='object') (1067, 3)\n",
            "Tabelas de Turmas Colunas          \n",
            " Index(['_id', 'anoPeriodoString', 'descricaoTurma', 'matricula'], dtype='object') (48, 4)\n",
            "Tabelas de Listas Colunas          \n",
            " Index(['_id', 'titulo', 'questao'], dtype='object') (23, 3)\n",
            "Tabelas de SubmissoesLista Colunas \n",
            " Index(['data', 'porcentagemAcerto', 'questao', 'user'], dtype='object') (33421, 4)\n",
            "Tabelas de Provas Colunas          \n",
            " Index(['_id', 'titulo', 'finalizou', 'iniciou', 'questao', 'turma'], dtype='object') (23, 3)\n",
            "Tabelas de SubmissoesProvas Colunas\n",
            " Index(['idSubmissao', 'data', 'porcentagemAcerto', 'idProva', 'idQuestao',\n",
            "       'idAluno'],\n",
            "      dtype='object') (7516, 6)\n"
          ],
          "name": "stdout"
        }
      ]
    },
    {
      "cell_type": "markdown",
      "metadata": {
        "id": "eDnUAuV9QQk_",
        "colab_type": "text"
      },
      "source": [
        "**Transformar os dados da tabela User**"
      ]
    },
    {
      "cell_type": "code",
      "metadata": {
        "id": "sJXKBef0QirB",
        "colab_type": "code",
        "outputId": "8815f8dc-491d-4985-ec63-5f097233182a",
        "colab": {
          "base_uri": "https://localhost:8080/",
          "height": 272
        }
      },
      "source": [
        "#renomeando a coluna _id para idAluno\n",
        "tabUser.rename(columns={\"_id\":\"idAluno\"}, inplace=True)\n",
        "\n",
        "#Limpando a coluna matricula, onde tem .0 no final da matricula foi retirado, tive q fazer uma gambiarra pq ele estva entendendo .0 como uma expressao regular\n",
        "tabUser.loc[:,\"matricula\"] = tabUser.loc[:,\"matricula\"].str.replace(\".0\",\"\",regex=False).copy()\n",
        "#tabUser.loc[:,\"matricula\"] = tabUser.loc[:,\"matricula\"].str.replace(\"r0\",\"\").copy()\n",
        "\n",
        "\n",
        "#imprimir os dados da tabela User\n",
        "print(tabUser.info())\n",
        "print(tabUser.head())"
      ],
      "execution_count": 0,
      "outputs": [
        {
          "output_type": "stream",
          "text": [
            "<class 'pandas.core.frame.DataFrame'>\n",
            "RangeIndex: 1067 entries, 0 to 1066\n",
            "Data columns (total 3 columns):\n",
            "idAluno      1067 non-null object\n",
            "matricula    1066 non-null object\n",
            "nome         1067 non-null object\n",
            "dtypes: object(3)\n",
            "memory usage: 25.1+ KB\n",
            "None\n",
            "                    idAluno    matricula                           nome\n",
            "0  598cd5453bc48946977dcf66   2013023070               Gabriel Tibúrcio\n",
            "1  598cd8b823daeb4b50a4b254      1943220                       Orivaldo\n",
            "2  599155ebb3333c31b7a01e5b     12345678                 Professor João\n",
            "3  5991cb910be9d42f2f68b906  20170039453                         Amanda\n",
            "4  5991cd1a8907ca2f441cd313  20170038394  Emanuel Fernandes P. da Rocha\n"
          ],
          "name": "stdout"
        }
      ]
    },
    {
      "cell_type": "code",
      "metadata": {
        "id": "eSfvL8AECS3V",
        "colab_type": "code",
        "colab": {
          "base_uri": "https://localhost:8080/",
          "height": 142
        },
        "outputId": "3e4c9e4b-ac95-489f-f3cc-afe37ddba949"
      },
      "source": [
        "tabUser.loc[tabUser[\"nome\"].str.contains(\"Yago\"),[\"nome\",\"idAluno\"]]"
      ],
      "execution_count": 228,
      "outputs": [
        {
          "output_type": "execute_result",
          "data": {
            "text/html": [
              "<div>\n",
              "<style scoped>\n",
              "    .dataframe tbody tr th:only-of-type {\n",
              "        vertical-align: middle;\n",
              "    }\n",
              "\n",
              "    .dataframe tbody tr th {\n",
              "        vertical-align: top;\n",
              "    }\n",
              "\n",
              "    .dataframe thead th {\n",
              "        text-align: right;\n",
              "    }\n",
              "</style>\n",
              "<table border=\"1\" class=\"dataframe\">\n",
              "  <thead>\n",
              "    <tr style=\"text-align: right;\">\n",
              "      <th></th>\n",
              "      <th>nome</th>\n",
              "      <th>idAluno</th>\n",
              "    </tr>\n",
              "  </thead>\n",
              "  <tbody>\n",
              "    <tr>\n",
              "      <th>117</th>\n",
              "      <td>Yago Augusto Alves da Silva</td>\n",
              "      <td>59a455ff083944486df04f5c</td>\n",
              "    </tr>\n",
              "    <tr>\n",
              "      <th>193</th>\n",
              "      <td>Yago de Araújo Pereira</td>\n",
              "      <td>59b912bb570dda40b535c50f</td>\n",
              "    </tr>\n",
              "    <tr>\n",
              "      <th>508</th>\n",
              "      <td>Yago Kayan de Souza Lima</td>\n",
              "      <td>5b6b74ad9513a60408ac24a8</td>\n",
              "    </tr>\n",
              "  </tbody>\n",
              "</table>\n",
              "</div>"
            ],
            "text/plain": [
              "                            nome                   idAluno\n",
              "117  Yago Augusto Alves da Silva  59a455ff083944486df04f5c\n",
              "193       Yago de Araújo Pereira  59b912bb570dda40b535c50f\n",
              "508     Yago Kayan de Souza Lima  5b6b74ad9513a60408ac24a8"
            ]
          },
          "metadata": {
            "tags": []
          },
          "execution_count": 228
        }
      ]
    },
    {
      "cell_type": "markdown",
      "metadata": {
        "id": "qY7YVa_vAKMh",
        "colab_type": "text"
      },
      "source": [
        "**Expandi a tabela turmas para que cada aluno seja uma linha do dataframe**"
      ]
    },
    {
      "cell_type": "code",
      "metadata": {
        "id": "XeYh8StTIoWs",
        "colab_type": "code",
        "outputId": "a93fc2e5-608c-4116-aef8-c2d1f7c69629",
        "colab": {
          "base_uri": "https://localhost:8080/",
          "height": 187
        }
      },
      "source": [
        "colunas    = [\"idTurma\",\"ano\",\"descricaoTurma\",\"matricula\"]\n",
        "turmasNovo = pd.DataFrame(columns=colunas)\n",
        "for i in range(tabTurmas.shape[0]):\n",
        "  idTurma        = tabTurmas[\"_id\"].iloc[i]\n",
        "  ano            = tabTurmas[\"anoPeriodoString\"].iloc[i]\n",
        "  descricaoTurma = tabTurmas[\"descricaoTurma\"].iloc[i]\n",
        "  m              = tabTurmas[\"matricula\"].iloc[i]\n",
        "  for a in range(30):\n",
        "    matricula  = m[a]\n",
        "    dic        = {\"idTurma\": idTurma ,\"ano\": ano ,\"descricaoTurma\":descricaoTurma,\"matricula\":matricula}\n",
        "    turmasNovo = pd.concat([turmasNovo, pd.DataFrame(dic, index=[0])],  ignore_index=True, sort = False )\n",
        "    \n",
        "print(turmasNovo.shape)\n",
        "turmasNovo.info()"
      ],
      "execution_count": 0,
      "outputs": [
        {
          "output_type": "stream",
          "text": [
            "(1440, 4)\n",
            "<class 'pandas.core.frame.DataFrame'>\n",
            "RangeIndex: 1440 entries, 0 to 1439\n",
            "Data columns (total 4 columns):\n",
            "idTurma           1440 non-null object\n",
            "ano               1440 non-null float64\n",
            "descricaoTurma    1440 non-null object\n",
            "matricula         1072 non-null object\n",
            "dtypes: float64(1), object(3)\n",
            "memory usage: 45.1+ KB\n"
          ],
          "name": "stdout"
        }
      ]
    },
    {
      "cell_type": "markdown",
      "metadata": {
        "id": "i2lr8ckEmeGq",
        "colab_type": "text"
      },
      "source": [
        "**Apagar os registros onde o campo da coluna Matricula é nulo**"
      ]
    },
    {
      "cell_type": "code",
      "metadata": {
        "id": "ERu1FnXNmdve",
        "colab_type": "code",
        "outputId": "b35f9726-d1f0-43b3-b29f-1e29df5af742",
        "colab": {
          "base_uri": "https://localhost:8080/",
          "height": 187
        }
      },
      "source": [
        "turmasNovo = turmasNovo.dropna(axis=0, how='any')\n",
        "print(turmasNovo.shape)\n",
        "turmasNovo.info()"
      ],
      "execution_count": 0,
      "outputs": [
        {
          "output_type": "stream",
          "text": [
            "(1072, 4)\n",
            "<class 'pandas.core.frame.DataFrame'>\n",
            "Int64Index: 1072 entries, 0 to 1420\n",
            "Data columns (total 4 columns):\n",
            "idTurma           1072 non-null object\n",
            "ano               1072 non-null float64\n",
            "descricaoTurma    1072 non-null object\n",
            "matricula         1072 non-null object\n",
            "dtypes: float64(1), object(3)\n",
            "memory usage: 41.9+ KB\n"
          ],
          "name": "stdout"
        }
      ]
    },
    {
      "cell_type": "markdown",
      "metadata": {
        "id": "WpkOMzzEnRTl",
        "colab_type": "text"
      },
      "source": [
        "**Transformar os dados da tabela Turmas**"
      ]
    },
    {
      "cell_type": "code",
      "metadata": {
        "id": "s7ugdXsFnMlb",
        "colab_type": "code",
        "outputId": "a29939d4-bdbe-4792-8dba-1952d60a1899",
        "colab": {
          "base_uri": "https://localhost:8080/",
          "height": 323
        }
      },
      "source": [
        "#Retirando o .0 da coluna matricula\n",
        "turmasNovo[\"matricula\"] = turmasNovo[\"matricula\"].astype(str)\n",
        "turmasNovo[\"matricula\"] = turmasNovo[\"matricula\"].str.replace(\".0\",\"\",regex=False)\n",
        "\n",
        "print(turmasNovo.info())\n",
        "print(turmasNovo.head()) "
      ],
      "execution_count": 0,
      "outputs": [
        {
          "output_type": "stream",
          "text": [
            "<class 'pandas.core.frame.DataFrame'>\n",
            "Int64Index: 1072 entries, 0 to 1420\n",
            "Data columns (total 4 columns):\n",
            "idTurma           1072 non-null object\n",
            "ano               1072 non-null float64\n",
            "descricaoTurma    1072 non-null object\n",
            "matricula         1072 non-null object\n",
            "dtypes: float64(1), object(3)\n",
            "memory usage: 41.9+ KB\n",
            "None\n",
            "                    idTurma  ...    matricula\n",
            "0  598e15296d8650eb27d52e3d  ...  20170106538\n",
            "1  598e15296d8650eb27d52e3d  ...  20170039453\n",
            "2  598e15296d8650eb27d52e3d  ...  20170044776\n",
            "3  598e15296d8650eb27d52e3d  ...  20170031473\n",
            "4  598e15296d8650eb27d52e3d  ...  20170032274\n",
            "\n",
            "[5 rows x 4 columns]\n"
          ],
          "name": "stdout"
        }
      ]
    },
    {
      "cell_type": "markdown",
      "metadata": {
        "id": "9JaP_RccBmOM",
        "colab_type": "text"
      },
      "source": [
        "**TESTE : Tem matriculas em mais de uma turma**"
      ]
    },
    {
      "cell_type": "code",
      "metadata": {
        "id": "8v0yHpts_EUw",
        "colab_type": "code",
        "outputId": "49d064e8-a9bd-413c-8492-37855acef19b",
        "colab": {
          "base_uri": "https://localhost:8080/",
          "height": 1088
        }
      },
      "source": [
        "#total de matriculas únicas \n",
        "print(\"Total de matriculas únicas: \",  turmasNovo[\"matricula\"].unique().shape)\n",
        "resultado = turmasNovo.groupby([\"matricula\"]).count()\n",
        "resultado = resultado.reset_index()\n",
        "print(resultado.loc[resultado[\"idTurma\"]==2,\"matricula\"])\n",
        "# tem 917 matriculas em estão em apenas 1 turma \n",
        "# tem 80 matriculas que estão em 2 turmas cadastradas\n",
        "# tem 14 matriculas que estão em 3 turmas cadastradas\n",
        "\n"
      ],
      "execution_count": 0,
      "outputs": [
        {
          "output_type": "stream",
          "text": [
            "Total de matriculas únicas:  (952,)\n",
            "7       2014084928\n",
            "9       2014085219\n",
            "23     20150121152\n",
            "26     20150126130\n",
            "27     20150126140\n",
            "32     20150131810\n",
            "43      2015092890\n",
            "48     20160002781\n",
            "50     20160100853\n",
            "56     20160107148\n",
            "60     20160107881\n",
            "67     20160109062\n",
            "82     20160141810\n",
            "88     20160142290\n",
            "90     20160142497\n",
            "96     20160143369\n",
            "103    20160146191\n",
            "105    20160146290\n",
            "115    20160158020\n",
            "126     2016018995\n",
            "137     2016053573\n",
            "138     2016090183\n",
            "140     2016090666\n",
            "143     2016094923\n",
            "147     2016097620\n",
            "149     2016098440\n",
            "150     2016098708\n",
            "172    20170030959\n",
            "174    20170030995\n",
            "194    20170032013\n",
            "          ...     \n",
            "486    20170118421\n",
            "491    20170118619\n",
            "493    20170132467\n",
            "495    20170133811\n",
            "502    20170137795\n",
            "505    20170137875\n",
            "512    20170137991\n",
            "515    20170138068\n",
            "522    20170138291\n",
            "532    20170138550\n",
            "534    20170138620\n",
            "535    20170138630\n",
            "541    20170139440\n",
            "551    20170147399\n",
            "597    20180030335\n",
            "624    20180031332\n",
            "626    20180031412\n",
            "634    20180031691\n",
            "675    20180033776\n",
            "684    20180034497\n",
            "686    20180034595\n",
            "688    20180034639\n",
            "692    20180034970\n",
            "727    20180037695\n",
            "753    20180039715\n",
            "754    20180039733\n",
            "776    20180042597\n",
            "794    20180087650\n",
            "841    20180108142\n",
            "868    20180128029\n",
            "Name: matricula, Length: 87, dtype: object\n"
          ],
          "name": "stdout"
        }
      ]
    },
    {
      "cell_type": "markdown",
      "metadata": {
        "id": "Z4XsPWbVP0s7",
        "colab_type": "text"
      },
      "source": [
        "**TESTE : Montar uma turma por ano e descrição**"
      ]
    },
    {
      "cell_type": "code",
      "metadata": {
        "id": "IjdbNngucif0",
        "colab_type": "code",
        "outputId": "23f822a0-ab7c-4bed-dc04-abb07b4fd15e",
        "colab": {
          "base_uri": "https://localhost:8080/",
          "height": 238
        }
      },
      "source": [
        "turmasNovoAno=turmasNovo.loc[turmasNovo[\"ano\"] == 2019.1, [\"matricula\",\"descricaoTurma\",\"ano\"]] \n",
        "turmaDescricao = turmasNovoAno.loc[turmasNovoAno[\"descricaoTurma\"].str.contains('Turma 03D', regex=False), [\"matricula\",\"descricaoTurma\",\"ano\"]]\n",
        "print(turmaDescricao.sort_values(by=['matricula']))\n",
        "print(\"Quantidade de alunos \", turmaDescricao.shape)"
      ],
      "execution_count": 0,
      "outputs": [
        {
          "output_type": "stream",
          "text": [
            "        matricula                     descricaoTurma     ano\n",
            "1419  20150126140  LÓGICA DE PROGRAMAÇÃO - Turma 03D  2019.1\n",
            "1418  20170138916  LÓGICA DE PROGRAMAÇÃO - Turma 03D  2019.1\n",
            "1415  20180032572  LÓGICA DE PROGRAMAÇÃO - Turma 03D  2019.1\n",
            "1413  20180034595  LÓGICA DE PROGRAMAÇÃO - Turma 03D  2019.1\n",
            "1411  20180035959  LÓGICA DE PROGRAMAÇÃO - Turma 03D  2019.1\n",
            "1414  20180038333  LÓGICA DE PROGRAMAÇÃO - Turma 03D  2019.1\n",
            "1412  20180042013  LÓGICA DE PROGRAMAÇÃO - Turma 03D  2019.1\n",
            "1420  20180042274  LÓGICA DE PROGRAMAÇÃO - Turma 03D  2019.1\n",
            "1417  20180107468  LÓGICA DE PROGRAMAÇÃO - Turma 03D  2019.1\n",
            "1410  20180135776  LÓGICA DE PROGRAMAÇÃO - Turma 03D  2019.1\n",
            "1416  20180156613  LÓGICA DE PROGRAMAÇÃO - Turma 03D  2019.1\n",
            "Quantidade de alunos  (11, 3)\n"
          ],
          "name": "stdout"
        }
      ]
    },
    {
      "cell_type": "markdown",
      "metadata": {
        "id": "vJQwFhPKAdsk",
        "colab_type": "text"
      },
      "source": [
        "**Concatenar a tabela usuarios com a tabela turmas pela coluna matricula**"
      ]
    },
    {
      "cell_type": "code",
      "metadata": {
        "id": "m42Dn8vrjMT3",
        "colab_type": "code",
        "outputId": "ca83afd5-701b-4809-c57b-a04eaed492ce",
        "colab": {
          "base_uri": "https://localhost:8080/",
          "height": 204
        }
      },
      "source": [
        "mergeUserTurmas = pd.merge(right = tabUser, left = turmasNovo, on='matricula', how=\"outer\")\n",
        "mergeUserTurmas.info()"
      ],
      "execution_count": 0,
      "outputs": [
        {
          "output_type": "stream",
          "text": [
            "<class 'pandas.core.frame.DataFrame'>\n",
            "Int64Index: 1277 entries, 0 to 1276\n",
            "Data columns (total 6 columns):\n",
            "idTurma           1072 non-null object\n",
            "ano               1072 non-null float64\n",
            "descricaoTurma    1072 non-null object\n",
            "matricula         1276 non-null object\n",
            "idAluno           1180 non-null object\n",
            "nome              1180 non-null object\n",
            "dtypes: float64(1), object(5)\n",
            "memory usage: 69.8+ KB\n"
          ],
          "name": "stdout"
        }
      ]
    },
    {
      "cell_type": "markdown",
      "metadata": {
        "id": "hLiAUvkSgKoC",
        "colab_type": "text"
      },
      "source": [
        "**TESTE: alunos que não estão cadastrados no sistema e que estão matriculados na disciplina**"
      ]
    },
    {
      "cell_type": "code",
      "metadata": {
        "id": "1FrziQypgWXl",
        "colab_type": "code",
        "outputId": "9ed8275a-a0ef-4d53-e795-2690b4ea55e6",
        "colab": {
          "base_uri": "https://localhost:8080/",
          "height": 1156
        }
      },
      "source": [
        "print(\"Quantidade de matriculas em user \"                                  ,tabUser[\"matricula\"].shape )\n",
        "print(\"Quantidade de matriculas em turmasNovo \"                            ,turmasNovo[\"matricula\"].shape )\n",
        "print(\"Quantidade de matriculas depois de juntar as tabelas user e turmas \",mergeUserTurmas[\"matricula\"].shape )\n",
        "\n",
        "\n",
        "# TESTE \n",
        "# Existem matriculas na tabela turmas que não se cadastraram no sistema? SIM\n",
        "# Existem 93 matriculas que não tem registro no sistema\n",
        "print(mergeUserTurmas.loc[mergeUserTurmas[\"idAluno\"].isna(), [\"idAluno\",\"matricula\", \"descricaoTurma\", \"ano\"]].sort_values(by=['matricula']))"
      ],
      "execution_count": 0,
      "outputs": [
        {
          "output_type": "stream",
          "text": [
            "Quantidade de matriculas em user  (1067,)\n",
            "Quantidade de matriculas em turmasNovo  (1072,)\n",
            "Quantidade de matriculas depois de juntar as tabelas user e turmas  (1277,)\n",
            "     idAluno    matricula                     descricaoTurma     ano\n",
            "279      NaN   2012927879  LÓGICA DE PROGRAMAÇÃO - Turma 03A  2017.2\n",
            "215      NaN   2014047915  LÓGICA DE PROGRAMAÇÃO - Turma 02C  2017.2\n",
            "401      NaN   2014074420  LÓGICA DE PROGRAMAÇÃO - Turma 01D  2018.1\n",
            "355      NaN   2014084786  LÓGICA DE PROGRAMAÇÃO - Turma 03D  2017.2\n",
            "608      NaN   2014089272  LÓGICA DE PROGRAMAÇÃO - Turma 03B  2018.1\n",
            "27       NaN   2014096268  LÓGICA DE PROGRAMAÇÃO - Turma 01B  2017.2\n",
            "477      NaN   2015011775  LÓGICA DE PROGRAMAÇÃO - Turma 01A  2018.1\n",
            "74       NaN  20150125447  LÓGICA DE PROGRAMAÇÃO - Turma 01C  2017.2\n",
            "741      NaN  20150126140  LÓGICA DE PROGRAMAÇÃO - Turma 03D  2019.1\n",
            "740      NaN  20150126140  LÓGICA DE PROGRAMAÇÃO - Turma 01A  2018.2\n",
            "83       NaN  20150127067  LÓGICA DE PROGRAMAÇÃO - Turma 01C  2017.2\n",
            "856      NaN  20150127700  LÓGICA DE PROGRAMAÇÃO - Turma 01D  2018.2\n",
            "31       NaN   2015014276  LÓGICA DE PROGRAMAÇÃO - Turma 01B  2017.2\n",
            "334      NaN   2015017410  LÓGICA DE PROGRAMAÇÃO - Turma 03C  2017.2\n",
            "839      NaN   2015017714  LÓGICA DE PROGRAMAÇÃO - Turma 01C  2018.2\n",
            "251      NaN   2015017797  LÓGICA DE PROGRAMAÇÃO - Turma 02D  2017.2\n",
            "453      NaN   2015018515  LÓGICA DE PROGRAMAÇÃO - Turma 01B  2018.1\n",
            "158      NaN   2015092110  LÓGICA DE PROGRAMAÇÃO - Turma 02B  2017.2\n",
            "73       NaN   2015092352  LÓGICA DE PROGRAMAÇÃO - Turma 01C  2017.2\n",
            "297      NaN   2015093879  LÓGICA DE PROGRAMAÇÃO - Turma 03B  2017.2\n",
            "254      NaN   2015096431  LÓGICA DE PROGRAMAÇÃO - Turma 03A  2017.2\n",
            "190      NaN  20160002932  LÓGICA DE PROGRAMAÇÃO - Turma 02C  2017.2\n",
            "819      NaN  20160107685  LÓGICA DE PROGRAMAÇÃO - Turma 02D  2018.2\n",
            "118      NaN  20160108889  LÓGICA DE PROGRAMAÇÃO - Turma 01D  2017.2\n",
            "617      NaN   2016011850  LÓGICA DE PROGRAMAÇÃO - Turma 03B  2018.1\n",
            "79       NaN   2016012454  LÓGICA DE PROGRAMAÇÃO - Turma 01C  2017.2\n",
            "874      NaN   2016013578  LÓGICA DE PROGRAMAÇÃO - Turma 02A  2019.1\n",
            "277      NaN  20160141874  LÓGICA DE PROGRAMAÇÃO - Turma 03A  2017.2\n",
            "596      NaN  20160142521  LÓGICA DE PROGRAMAÇÃO - Turma 03A  2018.1\n",
            "880      NaN  20160143681  LÓGICA DE PROGRAMAÇÃO - Turma 02B  2019.1\n",
            "...      ...          ...                                ...     ...\n",
            "946      NaN  20170118440  LÓGICA DE PROGRAMAÇÃO - Turma 01A  2019.1\n",
            "700      NaN  20170118520  LÓGICA DE PROGRAMAÇÃO - Turma 03C  2018.2\n",
            "780      NaN  20170133651  LÓGICA DE PROGRAMAÇÃO - Turma 02B  2018.2\n",
            "898      NaN  20170137703  LÓGICA DE PROGRAMAÇÃO - Turma 02C  2019.1\n",
            "524      NaN  20170137768  LÓGICA DE PROGRAMAÇÃO - Turma 02D  2018.1\n",
            "682      NaN  20170137955  LÓGICA DE PROGRAMAÇÃO - Turma 03C  2018.2\n",
            "485      NaN  20170138658  LÓGICA DE PROGRAMAÇÃO - Turma 02B  2018.1\n",
            "840      NaN  20170139163  LÓGICA DE PROGRAMAÇÃO - Turma 01C  2018.2\n",
            "468      NaN  20170147325  LÓGICA DE PROGRAMAÇÃO - Turma 01A  2018.1\n",
            "389      NaN  20170147380  LÓGICA DE PROGRAMAÇÃO - Turma 01D  2018.1\n",
            "392      NaN  20170147414  LÓGICA DE PROGRAMAÇÃO - Turma 01D  2018.1\n",
            "413      NaN  20170183072  LÓGICA DE PROGRAMAÇÃO - Turma 01C  2018.1\n",
            "563      NaN  20170183143  LÓGICA DE PROGRAMAÇÃO - Turma 03C  2018.1\n",
            "789      NaN  20180029890  LÓGICA DE PROGRAMAÇÃO - Turma 02C  2018.2\n",
            "785      NaN  20180030012  LÓGICA DE PROGRAMAÇÃO - Turma 02B  2018.2\n",
            "712      NaN  20180030335  LÓGICA DE PROGRAMAÇÃO - Turma 03B  2019.1\n",
            "711      NaN  20180030335  LÓGICA DE PROGRAMAÇÃO - Turma 03D  2018.2\n",
            "1038     NaN  20180030415  LÓGICA DE PROGRAMAÇÃO - Turma 03A  2019.1\n",
            "1056     NaN  20180033032  LÓGICA DE PROGRAMAÇÃO - Turma 03C  2019.1\n",
            "791      NaN  20180033936  LÓGICA DE PROGRAMAÇÃO - Turma 02C  2018.2\n",
            "879      NaN  20180033954  LÓGICA DE PROGRAMAÇÃO - Turma 02B  2019.1\n",
            "889      NaN  20180037677  LÓGICA DE PROGRAMAÇÃO - Turma 02C  2019.1\n",
            "673      NaN  20180041894  LÓGICA DE PROGRAMAÇÃO - Turma 03B  2018.2\n",
            "847      NaN  20180093470  LÓGICA DE PROGRAMAÇÃO - Turma 01D  2018.2\n",
            "872      NaN  20180107047  LÓGICA DE PROGRAMAÇÃO - Turma 02A  2019.1\n",
            "947      NaN  20180134975  LÓGICA DE PROGRAMAÇÃO - Turma 01A  2019.1\n",
            "992      NaN  20180135696  LÓGICA DE PROGRAMAÇÃO - Turma 01B  2019.1\n",
            "894      NaN  20180136399  LÓGICA DE PROGRAMAÇÃO - Turma 02C  2019.1\n",
            "868      NaN  20190073111  LÓGICA DE PROGRAMAÇÃO - Turma 02A  2019.1\n",
            "434      NaN      2081982  LÓGICA DE PROGRAMAÇÃO - Turma 01C  2018.1\n",
            "\n",
            "[97 rows x 4 columns]\n"
          ],
          "name": "stdout"
        }
      ]
    },
    {
      "cell_type": "markdown",
      "metadata": {
        "id": "VbJai7V0t9IZ",
        "colab_type": "text"
      },
      "source": [
        "**TESTE : Montar a turma pelo ano e pela descrição da turma**"
      ]
    },
    {
      "cell_type": "code",
      "metadata": {
        "id": "XiH9tJ4ui200",
        "colab_type": "code",
        "outputId": "a8575a63-dadf-4874-a4d7-f151c407d1e6",
        "colab": {
          "base_uri": "https://localhost:8080/",
          "height": 153
        }
      },
      "source": [
        "turmaAno       = mergeUserTurmas.loc[mergeUserTurmas.loc[:,\"ano\"] == 2018.2, [\"matricula\",'nome',\"descricaoTurma\",\"ano\", \"idAluno\", \"descricaoHorario\",\"idTurma\"]].copy() \n",
        "turmaDescricao = turmaAno.loc[turmaAno.loc[:,\"descricaoTurma\"].str.contains('Turma 03A', regex=False), [\"matricula\",'nome',\"descricaoTurma\",\"ano\",\"idAluno\",\"descricaoHorario\",\"idTurma\"]].copy()\n",
        "turmaDescricao.shape\n"
      ],
      "execution_count": 0,
      "outputs": [
        {
          "output_type": "stream",
          "text": [
            "/usr/local/lib/python3.6/dist-packages/pandas/core/indexing.py:1494: FutureWarning: \n",
            "Passing list-likes to .loc or [] with any missing label will raise\n",
            "KeyError in the future, you can use .reindex() as an alternative.\n",
            "\n",
            "See the documentation here:\n",
            "https://pandas.pydata.org/pandas-docs/stable/indexing.html#deprecate-loc-reindex-listlike\n",
            "  return self._getitem_tuple(key)\n"
          ],
          "name": "stderr"
        },
        {
          "output_type": "execute_result",
          "data": {
            "text/plain": [
              "(30, 7)"
            ]
          },
          "metadata": {
            "tags": []
          },
          "execution_count": 13
        }
      ]
    },
    {
      "cell_type": "markdown",
      "metadata": {
        "id": "q_9sRf3oeIfj",
        "colab_type": "text"
      },
      "source": [
        "**Criar um arquivo CSV com as informações das turmas do Sigaa e as informações de cadastro do LOP**"
      ]
    },
    {
      "cell_type": "code",
      "metadata": {
        "id": "KonWJ0t1eSkI",
        "colab_type": "code",
        "colab": {}
      },
      "source": [
        "#mergeUserTurmasT= mergeUserTurmas.drop('nome',axis=1)\n",
        "mergeUserTurmas.to_csv(r'lopUsuarioTurma.csv')"
      ],
      "execution_count": 0,
      "outputs": []
    },
    {
      "cell_type": "markdown",
      "metadata": {
        "id": "5rorxQRgxbBu",
        "colab_type": "text"
      },
      "source": [
        "**Expandir a tabela listas para que cada questão seja uma linha da tabela**"
      ]
    },
    {
      "cell_type": "code",
      "metadata": {
        "id": "svlyhJWyxKVn",
        "colab_type": "code",
        "outputId": "02559cc6-e414-4d4f-b34a-0ab205d533d4",
        "colab": {
          "base_uri": "https://localhost:8080/",
          "height": 170
        }
      },
      "source": [
        "colunas = [\"idLista\",\"questao\",\"titulo\"]\n",
        "listaNovo = pd.DataFrame(columns=colunas)\n",
        "for i in range(len(tabListas)):\n",
        "  idLista=tabListas[\"_id\"].iloc[i]\n",
        "  titulo=tabListas[\"titulo\"].iloc[i]\n",
        "  j=tabListas[\"questao\"].iloc[i]\n",
        "  for a in range(18):\n",
        "      questao=j[a]\n",
        "      dic = {\"idLista\": idLista ,\"titulo\":titulo, \"questao\": questao }\n",
        "      listaNovo = pd.concat([listaNovo, pd.DataFrame(dic, index=[0])],  ignore_index=True, sort=False )\n",
        "    \n",
        "print(listaNovo.shape)\n",
        "listaNovo.info()"
      ],
      "execution_count": 0,
      "outputs": [
        {
          "output_type": "stream",
          "text": [
            "(414, 3)\n",
            "<class 'pandas.core.frame.DataFrame'>\n",
            "RangeIndex: 414 entries, 0 to 413\n",
            "Data columns (total 3 columns):\n",
            "idLista    414 non-null object\n",
            "questao    173 non-null object\n",
            "titulo     414 non-null object\n",
            "dtypes: object(3)\n",
            "memory usage: 9.8+ KB\n"
          ],
          "name": "stdout"
        }
      ]
    },
    {
      "cell_type": "markdown",
      "metadata": {
        "id": "-N5umquF0hUZ",
        "colab_type": "text"
      },
      "source": [
        "**Apagar os registros onde o campo da coluna questao é nulo**\n",
        "\n",
        "\n"
      ]
    },
    {
      "cell_type": "code",
      "metadata": {
        "id": "tkwlznQQ0gUG",
        "colab_type": "code",
        "outputId": "50c384ca-49cc-4b98-8754-4012e2f60b10",
        "colab": {
          "base_uri": "https://localhost:8080/",
          "height": 34
        }
      },
      "source": [
        "listaNovo = listaNovo.dropna(axis=0, how='any')\n",
        "print(listaNovo.shape)\n",
        "\n"
      ],
      "execution_count": 0,
      "outputs": [
        {
          "output_type": "stream",
          "text": [
            "(173, 3)\n"
          ],
          "name": "stdout"
        }
      ]
    },
    {
      "cell_type": "markdown",
      "metadata": {
        "id": "k0dBYtBB6uZE",
        "colab_type": "text"
      },
      "source": [
        "**Criar um novo campo na tabela ListaNovo com a quantidade de questões por lista**"
      ]
    },
    {
      "cell_type": "code",
      "metadata": {
        "id": "zXCDuMZj4t7V",
        "colab_type": "code",
        "outputId": "5a4d639e-897a-46be-e9f5-e90bde1879fd",
        "colab": {
          "base_uri": "https://localhost:8080/",
          "height": 374
        }
      },
      "source": [
        "listaNovo.columns\n",
        "quantidade=listaNovo.groupby(\"idLista\").count()\n",
        "quantidade = quantidade.reset_index()\n",
        "quantidade = quantidade.drop('titulo',axis=1)\n",
        "quantidade.rename(columns={\"questao\":\"quantidade\"}, inplace=True)\n",
        "listaNovo= pd.merge(left = listaNovo, right = quantidade, on='idLista', how=\"right\")\n",
        "print(listaNovo.info())\n",
        "listaNovo.head()"
      ],
      "execution_count": 0,
      "outputs": [
        {
          "output_type": "stream",
          "text": [
            "<class 'pandas.core.frame.DataFrame'>\n",
            "Int64Index: 173 entries, 0 to 172\n",
            "Data columns (total 4 columns):\n",
            "idLista       173 non-null object\n",
            "questao       173 non-null object\n",
            "titulo        173 non-null object\n",
            "quantidade    173 non-null int64\n",
            "dtypes: int64(1), object(3)\n",
            "memory usage: 6.8+ KB\n",
            "None\n"
          ],
          "name": "stdout"
        },
        {
          "output_type": "execute_result",
          "data": {
            "text/html": [
              "<div>\n",
              "<style scoped>\n",
              "    .dataframe tbody tr th:only-of-type {\n",
              "        vertical-align: middle;\n",
              "    }\n",
              "\n",
              "    .dataframe tbody tr th {\n",
              "        vertical-align: top;\n",
              "    }\n",
              "\n",
              "    .dataframe thead th {\n",
              "        text-align: right;\n",
              "    }\n",
              "</style>\n",
              "<table border=\"1\" class=\"dataframe\">\n",
              "  <thead>\n",
              "    <tr style=\"text-align: right;\">\n",
              "      <th></th>\n",
              "      <th>idLista</th>\n",
              "      <th>questao</th>\n",
              "      <th>titulo</th>\n",
              "      <th>quantidade</th>\n",
              "    </tr>\n",
              "  </thead>\n",
              "  <tbody>\n",
              "    <tr>\n",
              "      <th>0</th>\n",
              "      <td>598cd57a3bc48946977dcf67</td>\n",
              "      <td>59885f8d684f4a3f78163c00</td>\n",
              "      <td>Lista de Laboratório 1 - Expressões Aritmética...</td>\n",
              "      <td>5</td>\n",
              "    </tr>\n",
              "    <tr>\n",
              "      <th>1</th>\n",
              "      <td>598cd57a3bc48946977dcf67</td>\n",
              "      <td>59887121d7c3703f96fda00c</td>\n",
              "      <td>Lista de Laboratório 1 - Expressões Aritmética...</td>\n",
              "      <td>5</td>\n",
              "    </tr>\n",
              "    <tr>\n",
              "      <th>2</th>\n",
              "      <td>598cd57a3bc48946977dcf67</td>\n",
              "      <td>59887c83684f4a3f78163c02</td>\n",
              "      <td>Lista de Laboratório 1 - Expressões Aritmética...</td>\n",
              "      <td>5</td>\n",
              "    </tr>\n",
              "    <tr>\n",
              "      <th>3</th>\n",
              "      <td>598cd57a3bc48946977dcf67</td>\n",
              "      <td>59888cb2d2f43b3f548ef054</td>\n",
              "      <td>Lista de Laboratório 1 - Expressões Aritmética...</td>\n",
              "      <td>5</td>\n",
              "    </tr>\n",
              "    <tr>\n",
              "      <th>4</th>\n",
              "      <td>598cd57a3bc48946977dcf67</td>\n",
              "      <td>59888ea5d2f43b3f548ef057</td>\n",
              "      <td>Lista de Laboratório 1 - Expressões Aritmética...</td>\n",
              "      <td>5</td>\n",
              "    </tr>\n",
              "  </tbody>\n",
              "</table>\n",
              "</div>"
            ],
            "text/plain": [
              "                    idLista  ... quantidade\n",
              "0  598cd57a3bc48946977dcf67  ...          5\n",
              "1  598cd57a3bc48946977dcf67  ...          5\n",
              "2  598cd57a3bc48946977dcf67  ...          5\n",
              "3  598cd57a3bc48946977dcf67  ...          5\n",
              "4  598cd57a3bc48946977dcf67  ...          5\n",
              "\n",
              "[5 rows x 4 columns]"
            ]
          },
          "metadata": {
            "tags": []
          },
          "execution_count": 17
        }
      ]
    },
    {
      "cell_type": "code",
      "metadata": {
        "id": "ltuaOcOXI-hy",
        "colab_type": "code",
        "outputId": "a1e8b14c-54fc-463f-905f-56166aa011f4",
        "colab": {
          "base_uri": "https://localhost:8080/",
          "height": 204
        }
      },
      "source": [
        "listaNovo.head()"
      ],
      "execution_count": 0,
      "outputs": [
        {
          "output_type": "execute_result",
          "data": {
            "text/html": [
              "<div>\n",
              "<style scoped>\n",
              "    .dataframe tbody tr th:only-of-type {\n",
              "        vertical-align: middle;\n",
              "    }\n",
              "\n",
              "    .dataframe tbody tr th {\n",
              "        vertical-align: top;\n",
              "    }\n",
              "\n",
              "    .dataframe thead th {\n",
              "        text-align: right;\n",
              "    }\n",
              "</style>\n",
              "<table border=\"1\" class=\"dataframe\">\n",
              "  <thead>\n",
              "    <tr style=\"text-align: right;\">\n",
              "      <th></th>\n",
              "      <th>idLista</th>\n",
              "      <th>questao</th>\n",
              "      <th>titulo</th>\n",
              "      <th>quantidade</th>\n",
              "    </tr>\n",
              "  </thead>\n",
              "  <tbody>\n",
              "    <tr>\n",
              "      <th>0</th>\n",
              "      <td>598cd57a3bc48946977dcf67</td>\n",
              "      <td>59885f8d684f4a3f78163c00</td>\n",
              "      <td>Lista de Laboratório 1 - Expressões Aritmética...</td>\n",
              "      <td>5</td>\n",
              "    </tr>\n",
              "    <tr>\n",
              "      <th>1</th>\n",
              "      <td>598cd57a3bc48946977dcf67</td>\n",
              "      <td>59887121d7c3703f96fda00c</td>\n",
              "      <td>Lista de Laboratório 1 - Expressões Aritmética...</td>\n",
              "      <td>5</td>\n",
              "    </tr>\n",
              "    <tr>\n",
              "      <th>2</th>\n",
              "      <td>598cd57a3bc48946977dcf67</td>\n",
              "      <td>59887c83684f4a3f78163c02</td>\n",
              "      <td>Lista de Laboratório 1 - Expressões Aritmética...</td>\n",
              "      <td>5</td>\n",
              "    </tr>\n",
              "    <tr>\n",
              "      <th>3</th>\n",
              "      <td>598cd57a3bc48946977dcf67</td>\n",
              "      <td>59888cb2d2f43b3f548ef054</td>\n",
              "      <td>Lista de Laboratório 1 - Expressões Aritmética...</td>\n",
              "      <td>5</td>\n",
              "    </tr>\n",
              "    <tr>\n",
              "      <th>4</th>\n",
              "      <td>598cd57a3bc48946977dcf67</td>\n",
              "      <td>59888ea5d2f43b3f548ef057</td>\n",
              "      <td>Lista de Laboratório 1 - Expressões Aritmética...</td>\n",
              "      <td>5</td>\n",
              "    </tr>\n",
              "  </tbody>\n",
              "</table>\n",
              "</div>"
            ],
            "text/plain": [
              "                    idLista  ... quantidade\n",
              "0  598cd57a3bc48946977dcf67  ...          5\n",
              "1  598cd57a3bc48946977dcf67  ...          5\n",
              "2  598cd57a3bc48946977dcf67  ...          5\n",
              "3  598cd57a3bc48946977dcf67  ...          5\n",
              "4  598cd57a3bc48946977dcf67  ...          5\n",
              "\n",
              "[5 rows x 4 columns]"
            ]
          },
          "metadata": {
            "tags": []
          },
          "execution_count": 18
        }
      ]
    },
    {
      "cell_type": "markdown",
      "metadata": {
        "id": "jWVpyBVz1zoV",
        "colab_type": "text"
      },
      "source": [
        "**Concatenar a tabela lista com a tabela submissoes pela coluna questao**"
      ]
    },
    {
      "cell_type": "code",
      "metadata": {
        "id": "Mwcqkdp91_e8",
        "colab_type": "code",
        "outputId": "8a29944e-0dd6-4995-e28b-42a5a521f55d",
        "colab": {
          "base_uri": "https://localhost:8080/",
          "height": 289
        }
      },
      "source": [
        "mergeSubLista = pd.merge(right= tabSub, left = listaNovo, on='questao', how=\"inner\")\n",
        "print(mergeSubLista.shape)\n",
        "\n",
        "# A Quantidade de submissoes aumentou muito . Esta correto\n",
        "#pode existe questão que foi submetida que não esta em nenhuma lista? simmmm\n",
        "print(mergeSubLista.info())\n",
        "\n",
        "#quantidade correta, pois ha questoes sem lista\n",
        "print(listaNovo[\"titulo\"].unique().shape)\n",
        "print(mergeSubLista[\"titulo\"].unique().shape)\n"
      ],
      "execution_count": 0,
      "outputs": [
        {
          "output_type": "stream",
          "text": [
            "(49277, 7)\n",
            "<class 'pandas.core.frame.DataFrame'>\n",
            "Int64Index: 49277 entries, 0 to 49276\n",
            "Data columns (total 7 columns):\n",
            "idLista              49277 non-null object\n",
            "questao              49277 non-null object\n",
            "titulo               49277 non-null object\n",
            "quantidade           49277 non-null int64\n",
            "data                 49277 non-null datetime64[ns, UTC]\n",
            "porcentagemAcerto    49277 non-null int64\n",
            "user                 49277 non-null object\n",
            "dtypes: datetime64[ns, UTC](1), int64(2), object(4)\n",
            "memory usage: 3.0+ MB\n",
            "None\n",
            "(23,)\n",
            "(23,)\n"
          ],
          "name": "stdout"
        }
      ]
    },
    {
      "cell_type": "markdown",
      "metadata": {
        "id": "zsEn3JzDyUw6",
        "colab_type": "text"
      },
      "source": [
        "**TESTE: Montar uma lista de questoes pelo nome da lista**"
      ]
    },
    {
      "cell_type": "code",
      "metadata": {
        "id": "ks_JMp473W8s",
        "colab_type": "code",
        "outputId": "ae6c1889-0cb9-40f0-cf5a-29ef4e622877",
        "colab": {
          "base_uri": "https://localhost:8080/",
          "height": 68
        }
      },
      "source": [
        "mergeSubLista.loc[mergeSubLista[\"titulo\"].str.contains('Lista de Laboratório 3', regex=False), \"questao\"].unique()"
      ],
      "execution_count": 0,
      "outputs": [
        {
          "output_type": "execute_result",
          "data": {
            "text/plain": [
              "array(['59a081c9161d04649b5e3de5', '59a0867f9a2ef364c5e13462',\n",
              "       '59a089795e65ea64a07f26c5', '59a09e045e65ea64a07f26d0',\n",
              "       '59a6fddad2c16c0ce095bb96'], dtype=object)"
            ]
          },
          "metadata": {
            "tags": []
          },
          "execution_count": 20
        }
      ]
    },
    {
      "cell_type": "markdown",
      "metadata": {
        "id": "di--YmUWjadl",
        "colab_type": "text"
      },
      "source": [
        "**Criar um arquivo CSV com as informações das submissões e as informações da lista com titulo e quantidade**"
      ]
    },
    {
      "cell_type": "code",
      "metadata": {
        "id": "lGAjwirij4Af",
        "colab_type": "code",
        "colab": {}
      },
      "source": [
        "mergeSubLista.to_csv(r'lopSubLista.csv')"
      ],
      "execution_count": 0,
      "outputs": []
    },
    {
      "cell_type": "markdown",
      "metadata": {
        "id": "-NhFncER8Hhr",
        "colab_type": "text"
      },
      "source": [
        "**Concatenar as tabelas merge_user_turmas e merge_sub_lista**\n",
        "\n",
        "\n"
      ]
    },
    {
      "cell_type": "code",
      "metadata": {
        "id": "_FezmCphFaZK",
        "colab_type": "code",
        "outputId": "b8e27575-c367-492f-9d75-228b8b51ca8c",
        "colab": {
          "base_uri": "https://localhost:8080/",
          "height": 253
        }
      },
      "source": [
        "mergeSubLista.rename(columns={\"user\":\"idAluno\"}, inplace=True)\n",
        "mergeUseTurmasSubLista = pd.merge(right= mergeUserTurmas, left = mergeSubLista, on='idAluno', how=\"outer\")\n",
        "print (mergeUseTurmasSubLista.shape)\n",
        "print(mergeUseTurmasSubLista.columns)\n",
        "mergeUseTurmasSubLista.head(1)"
      ],
      "execution_count": 0,
      "outputs": [
        {
          "output_type": "stream",
          "text": [
            "(55744, 12)\n",
            "Index(['idLista', 'questao', 'titulo', 'quantidade', 'data',\n",
            "       'porcentagemAcerto', 'idAluno', 'idTurma', 'ano', 'descricaoTurma',\n",
            "       'matricula', 'nome'],\n",
            "      dtype='object')\n"
          ],
          "name": "stdout"
        },
        {
          "output_type": "execute_result",
          "data": {
            "text/html": [
              "<div>\n",
              "<style scoped>\n",
              "    .dataframe tbody tr th:only-of-type {\n",
              "        vertical-align: middle;\n",
              "    }\n",
              "\n",
              "    .dataframe tbody tr th {\n",
              "        vertical-align: top;\n",
              "    }\n",
              "\n",
              "    .dataframe thead th {\n",
              "        text-align: right;\n",
              "    }\n",
              "</style>\n",
              "<table border=\"1\" class=\"dataframe\">\n",
              "  <thead>\n",
              "    <tr style=\"text-align: right;\">\n",
              "      <th></th>\n",
              "      <th>idLista</th>\n",
              "      <th>questao</th>\n",
              "      <th>titulo</th>\n",
              "      <th>quantidade</th>\n",
              "      <th>data</th>\n",
              "      <th>porcentagemAcerto</th>\n",
              "      <th>idAluno</th>\n",
              "      <th>idTurma</th>\n",
              "      <th>ano</th>\n",
              "      <th>descricaoTurma</th>\n",
              "      <th>matricula</th>\n",
              "      <th>nome</th>\n",
              "    </tr>\n",
              "  </thead>\n",
              "  <tbody>\n",
              "    <tr>\n",
              "      <th>0</th>\n",
              "      <td>598cd57a3bc48946977dcf67</td>\n",
              "      <td>59885f8d684f4a3f78163c00</td>\n",
              "      <td>Lista de Laboratório 1 - Expressões Aritmética...</td>\n",
              "      <td>5.0</td>\n",
              "      <td>2017-08-14 16:19:03.629000+00:00</td>\n",
              "      <td>0.0</td>\n",
              "      <td>5991cd63b3c8b42f3d5da402</td>\n",
              "      <td>598e15296d8650eb27d52e3d</td>\n",
              "      <td>2017.2</td>\n",
              "      <td>LÓGICA DE PROGRAMAÇÃO - Turma 01A</td>\n",
              "      <td>20170096736</td>\n",
              "      <td>Lucas Dantas</td>\n",
              "    </tr>\n",
              "  </tbody>\n",
              "</table>\n",
              "</div>"
            ],
            "text/plain": [
              "                    idLista  ...          nome\n",
              "0  598cd57a3bc48946977dcf67  ...  Lucas Dantas\n",
              "\n",
              "[1 rows x 12 columns]"
            ]
          },
          "metadata": {
            "tags": []
          },
          "execution_count": 22
        }
      ]
    },
    {
      "cell_type": "markdown",
      "metadata": {
        "id": "F3WsmpC-s7kS",
        "colab_type": "text"
      },
      "source": [
        "**Criar um arquivo CSV com as informações dos usuarios, turmas, submissões e as informações da lista**"
      ]
    },
    {
      "cell_type": "code",
      "metadata": {
        "id": "VNJ0GcPIuBt8",
        "colab_type": "code",
        "colab": {}
      },
      "source": [
        "mergeUseTurmasSubLista.to_csv(r'lopUseTurmasSubLista.csv')"
      ],
      "execution_count": 0,
      "outputs": []
    },
    {
      "cell_type": "markdown",
      "metadata": {
        "id": "zSCt_wn0u2bR",
        "colab_type": "text"
      },
      "source": [
        "**Montar um arquivo CSV com as notas de cada aluno por lista**"
      ]
    },
    {
      "cell_type": "code",
      "metadata": {
        "id": "HYDs4CUmvFvI",
        "colab_type": "code",
        "colab": {}
      },
      "source": [
        "#Remover todas as linhas que tem dados faltantes\n",
        "mergeUseTurmasSubListaM = mergeUseTurmasSubLista.dropna(axis=0, how='any')\n"
      ],
      "execution_count": 0,
      "outputs": []
    },
    {
      "cell_type": "markdown",
      "metadata": {
        "id": "3Gwz3X_KSnxV",
        "colab_type": "text"
      },
      "source": [
        "**Porcentagem Máxima por aluno em cada questão da lista**"
      ]
    },
    {
      "cell_type": "code",
      "metadata": {
        "id": "Ae0uZnOdOhYc",
        "colab_type": "code",
        "outputId": "8a62b7fe-b2c9-4b0d-f222-0f415febc659",
        "colab": {
          "base_uri": "https://localhost:8080/",
          "height": 236
        }
      },
      "source": [
        "NotaMaxQuestao = mergeUseTurmasSubListaM.groupby([\"idLista\",\"idAluno\",\"questao\"]).max()\n",
        "NotaMaxQuestao.rename(columns={\"porcentagemAcerto\":\"porcentagemMaxima\"}, inplace=True)\n",
        "NotaMaxQuestao = NotaMaxQuestao.reset_index()\n",
        "print(NotaMaxQuestao.columns)\n",
        "NotaMaxQuestao.head(1)"
      ],
      "execution_count": 0,
      "outputs": [
        {
          "output_type": "stream",
          "text": [
            "Index(['idLista', 'idAluno', 'questao', 'titulo', 'quantidade', 'data',\n",
            "       'porcentagemMaxima', 'idTurma', 'ano', 'descricaoTurma', 'matricula',\n",
            "       'nome'],\n",
            "      dtype='object')\n"
          ],
          "name": "stdout"
        },
        {
          "output_type": "execute_result",
          "data": {
            "text/html": [
              "<div>\n",
              "<style scoped>\n",
              "    .dataframe tbody tr th:only-of-type {\n",
              "        vertical-align: middle;\n",
              "    }\n",
              "\n",
              "    .dataframe tbody tr th {\n",
              "        vertical-align: top;\n",
              "    }\n",
              "\n",
              "    .dataframe thead th {\n",
              "        text-align: right;\n",
              "    }\n",
              "</style>\n",
              "<table border=\"1\" class=\"dataframe\">\n",
              "  <thead>\n",
              "    <tr style=\"text-align: right;\">\n",
              "      <th></th>\n",
              "      <th>idLista</th>\n",
              "      <th>idAluno</th>\n",
              "      <th>questao</th>\n",
              "      <th>titulo</th>\n",
              "      <th>quantidade</th>\n",
              "      <th>data</th>\n",
              "      <th>porcentagemMaxima</th>\n",
              "      <th>idTurma</th>\n",
              "      <th>ano</th>\n",
              "      <th>descricaoTurma</th>\n",
              "      <th>matricula</th>\n",
              "      <th>nome</th>\n",
              "    </tr>\n",
              "  </thead>\n",
              "  <tbody>\n",
              "    <tr>\n",
              "      <th>0</th>\n",
              "      <td>598cd57a3bc48946977dcf67</td>\n",
              "      <td>5991cb910be9d42f2f68b906</td>\n",
              "      <td>59885f8d684f4a3f78163c00</td>\n",
              "      <td>Lista de Laboratório 1 - Expressões Aritmética...</td>\n",
              "      <td>5.0</td>\n",
              "      <td>2017-08-14 16:29:10.522000+00:00</td>\n",
              "      <td>100.0</td>\n",
              "      <td>598e15296d8650eb27d52e3d</td>\n",
              "      <td>2017.2</td>\n",
              "      <td>LÓGICA DE PROGRAMAÇÃO - Turma 01A</td>\n",
              "      <td>20170039453</td>\n",
              "      <td>Amanda</td>\n",
              "    </tr>\n",
              "  </tbody>\n",
              "</table>\n",
              "</div>"
            ],
            "text/plain": [
              "                    idLista                   idAluno  ...    matricula    nome\n",
              "0  598cd57a3bc48946977dcf67  5991cb910be9d42f2f68b906  ...  20170039453  Amanda\n",
              "\n",
              "[1 rows x 12 columns]"
            ]
          },
          "metadata": {
            "tags": []
          },
          "execution_count": 25
        }
      ]
    },
    {
      "cell_type": "markdown",
      "metadata": {
        "id": "vgm8Oox_ZcP7",
        "colab_type": "text"
      },
      "source": [
        "**Quantidade de questoes feitas por aluno em cada lista**"
      ]
    },
    {
      "cell_type": "code",
      "metadata": {
        "id": "PPKZhnBSVfg1",
        "colab_type": "code",
        "outputId": "c3672ca0-7f72-4c7c-baff-e00cec3cb725",
        "colab": {
          "base_uri": "https://localhost:8080/",
          "height": 97
        }
      },
      "source": [
        "quantidade = NotaMaxQuestao.groupby([\"titulo\",\"idAluno\"]).count()\n",
        "quantidade.rename(columns={\"quantidade\":\"questoesFeitas\"}, inplace=True)\n",
        "quantidade= quantidade.reset_index()\n",
        "quantidade= quantidade[[\"titulo\",\"idAluno\",\"questoesFeitas\"]]\n",
        "print(quantidade.columns)\n",
        "quantidade.head(1)\n"
      ],
      "execution_count": 0,
      "outputs": [
        {
          "output_type": "stream",
          "text": [
            "Index(['titulo', 'idAluno', 'questoesFeitas'], dtype='object')\n"
          ],
          "name": "stdout"
        },
        {
          "output_type": "execute_result",
          "data": {
            "text/html": [
              "<div>\n",
              "<style scoped>\n",
              "    .dataframe tbody tr th:only-of-type {\n",
              "        vertical-align: middle;\n",
              "    }\n",
              "\n",
              "    .dataframe tbody tr th {\n",
              "        vertical-align: top;\n",
              "    }\n",
              "\n",
              "    .dataframe thead th {\n",
              "        text-align: right;\n",
              "    }\n",
              "</style>\n",
              "<table border=\"1\" class=\"dataframe\">\n",
              "  <thead>\n",
              "    <tr style=\"text-align: right;\">\n",
              "      <th></th>\n",
              "      <th>titulo</th>\n",
              "      <th>idAluno</th>\n",
              "      <th>questoesFeitas</th>\n",
              "    </tr>\n",
              "  </thead>\n",
              "  <tbody>\n",
              "    <tr>\n",
              "      <th>0</th>\n",
              "      <td>Lista de Exercícios 1 - Expressões e variáveis</td>\n",
              "      <td>5991cb910be9d42f2f68b906</td>\n",
              "      <td>11</td>\n",
              "    </tr>\n",
              "  </tbody>\n",
              "</table>\n",
              "</div>"
            ],
            "text/plain": [
              "                                           titulo  ... questoesFeitas\n",
              "0  Lista de Exercícios 1 - Expressões e variáveis  ...             11\n",
              "\n",
              "[1 rows x 3 columns]"
            ]
          },
          "metadata": {
            "tags": []
          },
          "execution_count": 26
        }
      ]
    },
    {
      "cell_type": "markdown",
      "metadata": {
        "id": "aEJHPj8P8VLb",
        "colab_type": "text"
      },
      "source": [
        "**Nota final dos alunos por lista**"
      ]
    },
    {
      "cell_type": "code",
      "metadata": {
        "id": "LIOUjOfsS2TA",
        "colab_type": "code",
        "outputId": "fcc08402-1aca-495e-baf4-09394fd8e4a3",
        "colab": {
          "base_uri": "https://localhost:8080/",
          "height": 97
        }
      },
      "source": [
        "NotaLista = NotaMaxQuestao.groupby([\"titulo\",\"idAluno\"]).sum()\n",
        "NotaLista.rename(columns={\"porcentagemMaxima\":\"SomaLista\", \"quantidade\":\"questoesFeitas\"}, inplace=True)\n",
        "NotaLista = NotaLista.drop('ano',axis=1)\n",
        "NotaLista = NotaLista.reset_index()\n",
        "NotaLista = NotaLista[[\"titulo\",'idAluno','SomaLista']]\n",
        "print(NotaLista.columns)\n",
        "NotaLista.head(1)\n"
      ],
      "execution_count": 0,
      "outputs": [
        {
          "output_type": "stream",
          "text": [
            "Index(['titulo', 'idAluno', 'SomaLista'], dtype='object')\n"
          ],
          "name": "stdout"
        },
        {
          "output_type": "execute_result",
          "data": {
            "text/html": [
              "<div>\n",
              "<style scoped>\n",
              "    .dataframe tbody tr th:only-of-type {\n",
              "        vertical-align: middle;\n",
              "    }\n",
              "\n",
              "    .dataframe tbody tr th {\n",
              "        vertical-align: top;\n",
              "    }\n",
              "\n",
              "    .dataframe thead th {\n",
              "        text-align: right;\n",
              "    }\n",
              "</style>\n",
              "<table border=\"1\" class=\"dataframe\">\n",
              "  <thead>\n",
              "    <tr style=\"text-align: right;\">\n",
              "      <th></th>\n",
              "      <th>titulo</th>\n",
              "      <th>idAluno</th>\n",
              "      <th>SomaLista</th>\n",
              "    </tr>\n",
              "  </thead>\n",
              "  <tbody>\n",
              "    <tr>\n",
              "      <th>0</th>\n",
              "      <td>Lista de Exercícios 1 - Expressões e variáveis</td>\n",
              "      <td>5991cb910be9d42f2f68b906</td>\n",
              "      <td>1100.0</td>\n",
              "    </tr>\n",
              "  </tbody>\n",
              "</table>\n",
              "</div>"
            ],
            "text/plain": [
              "                                           titulo  ... SomaLista\n",
              "0  Lista de Exercícios 1 - Expressões e variáveis  ...    1100.0\n",
              "\n",
              "[1 rows x 3 columns]"
            ]
          },
          "metadata": {
            "tags": []
          },
          "execution_count": 27
        }
      ]
    },
    {
      "cell_type": "code",
      "metadata": {
        "id": "xrkgbDhyZtc5",
        "colab_type": "code",
        "outputId": "be4f33b8-f36c-425d-846d-f9d830a9071a",
        "colab": {
          "base_uri": "https://localhost:8080/",
          "height": 114
        }
      },
      "source": [
        "mergeQuanNotaLista =  pd.merge(right= quantidade, left = NotaLista, on=['idAluno','titulo'], how=\"inner\")\n",
        "print(mergeQuanNotaLista.columns)\n",
        "print(mergeQuanNotaLista.shape)\n",
        "mergeQuanNotaLista.head(1)"
      ],
      "execution_count": 0,
      "outputs": [
        {
          "output_type": "stream",
          "text": [
            "Index(['titulo', 'idAluno', 'SomaLista', 'questoesFeitas'], dtype='object')\n",
            "(7055, 4)\n"
          ],
          "name": "stdout"
        },
        {
          "output_type": "execute_result",
          "data": {
            "text/html": [
              "<div>\n",
              "<style scoped>\n",
              "    .dataframe tbody tr th:only-of-type {\n",
              "        vertical-align: middle;\n",
              "    }\n",
              "\n",
              "    .dataframe tbody tr th {\n",
              "        vertical-align: top;\n",
              "    }\n",
              "\n",
              "    .dataframe thead th {\n",
              "        text-align: right;\n",
              "    }\n",
              "</style>\n",
              "<table border=\"1\" class=\"dataframe\">\n",
              "  <thead>\n",
              "    <tr style=\"text-align: right;\">\n",
              "      <th></th>\n",
              "      <th>titulo</th>\n",
              "      <th>idAluno</th>\n",
              "      <th>SomaLista</th>\n",
              "      <th>questoesFeitas</th>\n",
              "    </tr>\n",
              "  </thead>\n",
              "  <tbody>\n",
              "    <tr>\n",
              "      <th>0</th>\n",
              "      <td>Lista de Exercícios 1 - Expressões e variáveis</td>\n",
              "      <td>5991cb910be9d42f2f68b906</td>\n",
              "      <td>1100.0</td>\n",
              "      <td>11</td>\n",
              "    </tr>\n",
              "  </tbody>\n",
              "</table>\n",
              "</div>"
            ],
            "text/plain": [
              "                                           titulo  ... questoesFeitas\n",
              "0  Lista de Exercícios 1 - Expressões e variáveis  ...             11\n",
              "\n",
              "[1 rows x 4 columns]"
            ]
          },
          "metadata": {
            "tags": []
          },
          "execution_count": 28
        }
      ]
    },
    {
      "cell_type": "markdown",
      "metadata": {
        "id": "tVAYs1f6jAEj",
        "colab_type": "text"
      },
      "source": [
        "**Quantidade de questoes por lista**"
      ]
    },
    {
      "cell_type": "code",
      "metadata": {
        "id": "aW34ME3nfdlH",
        "colab_type": "code",
        "outputId": "64e80071-6a64-433b-c907-8ed773eb6bed",
        "colab": {
          "base_uri": "https://localhost:8080/",
          "height": 221
        }
      },
      "source": [
        "quantQuesList = listaNovo[['quantidade','titulo']]\n",
        "quantQuesList =quantQuesList.drop_duplicates()\n",
        "print(quantQuesList.shape)\n",
        "quantQuesList.head()\n",
        "\n"
      ],
      "execution_count": 0,
      "outputs": [
        {
          "output_type": "stream",
          "text": [
            "(23, 2)\n"
          ],
          "name": "stdout"
        },
        {
          "output_type": "execute_result",
          "data": {
            "text/html": [
              "<div>\n",
              "<style scoped>\n",
              "    .dataframe tbody tr th:only-of-type {\n",
              "        vertical-align: middle;\n",
              "    }\n",
              "\n",
              "    .dataframe tbody tr th {\n",
              "        vertical-align: top;\n",
              "    }\n",
              "\n",
              "    .dataframe thead th {\n",
              "        text-align: right;\n",
              "    }\n",
              "</style>\n",
              "<table border=\"1\" class=\"dataframe\">\n",
              "  <thead>\n",
              "    <tr style=\"text-align: right;\">\n",
              "      <th></th>\n",
              "      <th>quantidade</th>\n",
              "      <th>titulo</th>\n",
              "    </tr>\n",
              "  </thead>\n",
              "  <tbody>\n",
              "    <tr>\n",
              "      <th>0</th>\n",
              "      <td>5</td>\n",
              "      <td>Lista de Laboratório 1 - Expressões Aritmética...</td>\n",
              "    </tr>\n",
              "    <tr>\n",
              "      <th>5</th>\n",
              "      <td>5</td>\n",
              "      <td>Lista de Laboratório 2 - Expressões Lógicas e ...</td>\n",
              "    </tr>\n",
              "    <tr>\n",
              "      <th>10</th>\n",
              "      <td>18</td>\n",
              "      <td>Lista de Exercícios 2 - Estruturas Condicionais</td>\n",
              "    </tr>\n",
              "    <tr>\n",
              "      <th>28</th>\n",
              "      <td>15</td>\n",
              "      <td>Lista de Exercícios 3 - Laço Condicional</td>\n",
              "    </tr>\n",
              "    <tr>\n",
              "      <th>43</th>\n",
              "      <td>5</td>\n",
              "      <td>Lista de Laboratório 3 -  Estruturas de Repeti...</td>\n",
              "    </tr>\n",
              "  </tbody>\n",
              "</table>\n",
              "</div>"
            ],
            "text/plain": [
              "    quantidade                                             titulo\n",
              "0            5  Lista de Laboratório 1 - Expressões Aritmética...\n",
              "5            5  Lista de Laboratório 2 - Expressões Lógicas e ...\n",
              "10          18    Lista de Exercícios 2 - Estruturas Condicionais\n",
              "28          15           Lista de Exercícios 3 - Laço Condicional\n",
              "43           5  Lista de Laboratório 3 -  Estruturas de Repeti..."
            ]
          },
          "metadata": {
            "tags": []
          },
          "execution_count": 29
        }
      ]
    },
    {
      "cell_type": "markdown",
      "metadata": {
        "id": "-CZxcN9-xTwh",
        "colab_type": "text"
      },
      "source": [
        "**Concatenando as informações das tabelas mergeQuanNotaLista e quantidade para calcular o nota final de cada lista**"
      ]
    },
    {
      "cell_type": "code",
      "metadata": {
        "id": "wi0x_t8MjWnp",
        "colab_type": "code",
        "outputId": "8a384838-83e7-4bf5-d4bc-8e797b20d0ec",
        "colab": {
          "base_uri": "https://localhost:8080/",
          "height": 210
        }
      },
      "source": [
        "mergeQuanNotaListaQuanQ = mergeQuanNotaLista.join(quantQuesList.set_index('titulo'), on='titulo')\n",
        "mergeQuanNotaListaQuanQ[\"NotaLista\"]= mergeQuanNotaListaQuanQ[\"SomaLista\"] /mergeQuanNotaListaQuanQ['quantidade']\n",
        "print(mergeQuanNotaListaQuanQ.columns)\n",
        "print(mergeQuanNotaListaQuanQ.shape)\n",
        "mergeQuanNotaListaQuanQ.head(3)"
      ],
      "execution_count": 0,
      "outputs": [
        {
          "output_type": "stream",
          "text": [
            "Index(['titulo', 'idAluno', 'SomaLista', 'questoesFeitas', 'quantidade',\n",
            "       'NotaLista'],\n",
            "      dtype='object')\n",
            "(7055, 6)\n"
          ],
          "name": "stdout"
        },
        {
          "output_type": "execute_result",
          "data": {
            "text/html": [
              "<div>\n",
              "<style scoped>\n",
              "    .dataframe tbody tr th:only-of-type {\n",
              "        vertical-align: middle;\n",
              "    }\n",
              "\n",
              "    .dataframe tbody tr th {\n",
              "        vertical-align: top;\n",
              "    }\n",
              "\n",
              "    .dataframe thead th {\n",
              "        text-align: right;\n",
              "    }\n",
              "</style>\n",
              "<table border=\"1\" class=\"dataframe\">\n",
              "  <thead>\n",
              "    <tr style=\"text-align: right;\">\n",
              "      <th></th>\n",
              "      <th>titulo</th>\n",
              "      <th>idAluno</th>\n",
              "      <th>SomaLista</th>\n",
              "      <th>questoesFeitas</th>\n",
              "      <th>quantidade</th>\n",
              "      <th>NotaLista</th>\n",
              "    </tr>\n",
              "  </thead>\n",
              "  <tbody>\n",
              "    <tr>\n",
              "      <th>0</th>\n",
              "      <td>Lista de Exercícios 1 - Expressões e variáveis</td>\n",
              "      <td>5991cb910be9d42f2f68b906</td>\n",
              "      <td>1100.0</td>\n",
              "      <td>11</td>\n",
              "      <td>15</td>\n",
              "      <td>73.333333</td>\n",
              "    </tr>\n",
              "    <tr>\n",
              "      <th>1</th>\n",
              "      <td>Lista de Exercícios 1 - Expressões e variáveis</td>\n",
              "      <td>5991cd1a8907ca2f441cd313</td>\n",
              "      <td>500.0</td>\n",
              "      <td>5</td>\n",
              "      <td>15</td>\n",
              "      <td>33.333333</td>\n",
              "    </tr>\n",
              "    <tr>\n",
              "      <th>2</th>\n",
              "      <td>Lista de Exercícios 1 - Expressões e variáveis</td>\n",
              "      <td>5991cd34b3c8b42f3d5da3fd</td>\n",
              "      <td>600.0</td>\n",
              "      <td>6</td>\n",
              "      <td>15</td>\n",
              "      <td>40.000000</td>\n",
              "    </tr>\n",
              "  </tbody>\n",
              "</table>\n",
              "</div>"
            ],
            "text/plain": [
              "                                           titulo  ...  NotaLista\n",
              "0  Lista de Exercícios 1 - Expressões e variáveis  ...  73.333333\n",
              "1  Lista de Exercícios 1 - Expressões e variáveis  ...  33.333333\n",
              "2  Lista de Exercícios 1 - Expressões e variáveis  ...  40.000000\n",
              "\n",
              "[3 rows x 6 columns]"
            ]
          },
          "metadata": {
            "tags": []
          },
          "execution_count": 30
        }
      ]
    },
    {
      "cell_type": "code",
      "metadata": {
        "id": "D0JrxotjcpnM",
        "colab_type": "code",
        "outputId": "a86d101d-e967-4db1-938f-626dd35f007c",
        "colab": {
          "base_uri": "https://localhost:8080/",
          "height": 168
        }
      },
      "source": [
        "mergeUseTurmasSubLista.head(1)"
      ],
      "execution_count": 0,
      "outputs": [
        {
          "output_type": "execute_result",
          "data": {
            "text/html": [
              "<div>\n",
              "<style scoped>\n",
              "    .dataframe tbody tr th:only-of-type {\n",
              "        vertical-align: middle;\n",
              "    }\n",
              "\n",
              "    .dataframe tbody tr th {\n",
              "        vertical-align: top;\n",
              "    }\n",
              "\n",
              "    .dataframe thead th {\n",
              "        text-align: right;\n",
              "    }\n",
              "</style>\n",
              "<table border=\"1\" class=\"dataframe\">\n",
              "  <thead>\n",
              "    <tr style=\"text-align: right;\">\n",
              "      <th></th>\n",
              "      <th>idLista</th>\n",
              "      <th>questao</th>\n",
              "      <th>titulo</th>\n",
              "      <th>quantidade</th>\n",
              "      <th>data</th>\n",
              "      <th>porcentagemAcerto</th>\n",
              "      <th>idAluno</th>\n",
              "      <th>idTurma</th>\n",
              "      <th>ano</th>\n",
              "      <th>descricaoTurma</th>\n",
              "      <th>matricula</th>\n",
              "      <th>nome</th>\n",
              "    </tr>\n",
              "  </thead>\n",
              "  <tbody>\n",
              "    <tr>\n",
              "      <th>0</th>\n",
              "      <td>598cd57a3bc48946977dcf67</td>\n",
              "      <td>59885f8d684f4a3f78163c00</td>\n",
              "      <td>Lista de Laboratório 1 - Expressões Aritmética...</td>\n",
              "      <td>5.0</td>\n",
              "      <td>2017-08-14 16:19:03.629000+00:00</td>\n",
              "      <td>0.0</td>\n",
              "      <td>5991cd63b3c8b42f3d5da402</td>\n",
              "      <td>598e15296d8650eb27d52e3d</td>\n",
              "      <td>2017.2</td>\n",
              "      <td>LÓGICA DE PROGRAMAÇÃO - Turma 01A</td>\n",
              "      <td>20170096736</td>\n",
              "      <td>Lucas Dantas</td>\n",
              "    </tr>\n",
              "  </tbody>\n",
              "</table>\n",
              "</div>"
            ],
            "text/plain": [
              "                    idLista  ...          nome\n",
              "0  598cd57a3bc48946977dcf67  ...  Lucas Dantas\n",
              "\n",
              "[1 rows x 12 columns]"
            ]
          },
          "metadata": {
            "tags": []
          },
          "execution_count": 31
        }
      ]
    },
    {
      "cell_type": "code",
      "metadata": {
        "id": "eNChk5lbdY1K",
        "colab_type": "code",
        "outputId": "f35edfaa-ef89-4456-b20d-9789d39b442c",
        "colab": {
          "base_uri": "https://localhost:8080/",
          "height": 80
        }
      },
      "source": [
        "mergeQuanNotaListaQuanQ.head(1)"
      ],
      "execution_count": 0,
      "outputs": [
        {
          "output_type": "execute_result",
          "data": {
            "text/html": [
              "<div>\n",
              "<style scoped>\n",
              "    .dataframe tbody tr th:only-of-type {\n",
              "        vertical-align: middle;\n",
              "    }\n",
              "\n",
              "    .dataframe tbody tr th {\n",
              "        vertical-align: top;\n",
              "    }\n",
              "\n",
              "    .dataframe thead th {\n",
              "        text-align: right;\n",
              "    }\n",
              "</style>\n",
              "<table border=\"1\" class=\"dataframe\">\n",
              "  <thead>\n",
              "    <tr style=\"text-align: right;\">\n",
              "      <th></th>\n",
              "      <th>titulo</th>\n",
              "      <th>idAluno</th>\n",
              "      <th>SomaLista</th>\n",
              "      <th>questoesFeitas</th>\n",
              "      <th>quantidade</th>\n",
              "      <th>NotaLista</th>\n",
              "    </tr>\n",
              "  </thead>\n",
              "  <tbody>\n",
              "    <tr>\n",
              "      <th>0</th>\n",
              "      <td>Lista de Exercícios 1 - Expressões e variáveis</td>\n",
              "      <td>5991cb910be9d42f2f68b906</td>\n",
              "      <td>1100.0</td>\n",
              "      <td>11</td>\n",
              "      <td>15</td>\n",
              "      <td>73.333333</td>\n",
              "    </tr>\n",
              "  </tbody>\n",
              "</table>\n",
              "</div>"
            ],
            "text/plain": [
              "                                           titulo  ...  NotaLista\n",
              "0  Lista de Exercícios 1 - Expressões e variáveis  ...  73.333333\n",
              "\n",
              "[1 rows x 6 columns]"
            ]
          },
          "metadata": {
            "tags": []
          },
          "execution_count": 32
        }
      ]
    },
    {
      "cell_type": "markdown",
      "metadata": {
        "id": "RdCzRBxtbI0F",
        "colab_type": "text"
      },
      "source": [
        "**Tabela final com todas as informações do aluno das listas**"
      ]
    },
    {
      "cell_type": "code",
      "metadata": {
        "id": "fOZU6sHYbJ6p",
        "colab_type": "code",
        "colab": {}
      },
      "source": [
        "mergeUseTurmasSubLista.rename(columns={'titulo':\"tituloLista\",\"quantidade\":\"quantidadeLista\"}, inplace=True)\n",
        "mergeUseTurmasSubListaM = mergeUseTurmasSubLista[[\"tituloLista\",'idAluno', 'ano', 'descricaoTurma', 'idTurma','matricula','nome']]\n",
        "\n",
        "#Renomear as colunas da tabela Listas\n",
        "mergeQuanNotaListaQuanQ.rename(columns={'titulo':\"tituloLista\",\"questoesFeitas\":\"questoesFeitasLista\",\"quantidade\":\"quantidadeLista\"}, inplace=True)\n",
        "mergeQuanNotaListaQuanM = mergeQuanNotaListaQuanQ[['tituloLista', 'idAluno','questoesFeitasLista', 'quantidadeLista','NotaLista']]\n",
        "\n",
        "tabelaFinalListas= mergeQuanNotaListaQuanM.join(mergeUseTurmasSubListaM.set_index(['tituloLista','idAluno']), on=['tituloLista','idAluno'])\n",
        "#remover as linhas duplicadas\n",
        "tabelaFinalListas = tabelaFinalListas.drop_duplicates()\n"
      ],
      "execution_count": 0,
      "outputs": []
    },
    {
      "cell_type": "code",
      "metadata": {
        "id": "Vl8D3KDVdO9j",
        "colab_type": "code",
        "outputId": "6a661def-bdec-4210-e091-fbb752ff30ed",
        "colab": {
          "base_uri": "https://localhost:8080/",
          "height": 391
        }
      },
      "source": [
        "tabelaFinalListas.head()"
      ],
      "execution_count": 0,
      "outputs": [
        {
          "output_type": "execute_result",
          "data": {
            "text/html": [
              "<div>\n",
              "<style scoped>\n",
              "    .dataframe tbody tr th:only-of-type {\n",
              "        vertical-align: middle;\n",
              "    }\n",
              "\n",
              "    .dataframe tbody tr th {\n",
              "        vertical-align: top;\n",
              "    }\n",
              "\n",
              "    .dataframe thead th {\n",
              "        text-align: right;\n",
              "    }\n",
              "</style>\n",
              "<table border=\"1\" class=\"dataframe\">\n",
              "  <thead>\n",
              "    <tr style=\"text-align: right;\">\n",
              "      <th></th>\n",
              "      <th>tituloLista</th>\n",
              "      <th>idAluno</th>\n",
              "      <th>questoesFeitasLista</th>\n",
              "      <th>quantidadeLista</th>\n",
              "      <th>NotaLista</th>\n",
              "      <th>ano</th>\n",
              "      <th>descricaoTurma</th>\n",
              "      <th>idTurma</th>\n",
              "      <th>matricula</th>\n",
              "      <th>nome</th>\n",
              "    </tr>\n",
              "  </thead>\n",
              "  <tbody>\n",
              "    <tr>\n",
              "      <th>0</th>\n",
              "      <td>Lista de Exercícios 1 - Expressões e variáveis</td>\n",
              "      <td>5991cb910be9d42f2f68b906</td>\n",
              "      <td>11</td>\n",
              "      <td>15</td>\n",
              "      <td>73.333333</td>\n",
              "      <td>2017.2</td>\n",
              "      <td>LÓGICA DE PROGRAMAÇÃO - Turma 01A</td>\n",
              "      <td>598e15296d8650eb27d52e3d</td>\n",
              "      <td>20170039453</td>\n",
              "      <td>Amanda</td>\n",
              "    </tr>\n",
              "    <tr>\n",
              "      <th>1</th>\n",
              "      <td>Lista de Exercícios 1 - Expressões e variáveis</td>\n",
              "      <td>5991cd1a8907ca2f441cd313</td>\n",
              "      <td>5</td>\n",
              "      <td>15</td>\n",
              "      <td>33.333333</td>\n",
              "      <td>2017.2</td>\n",
              "      <td>LÓGICA DE PROGRAMAÇÃO - Turma 01B</td>\n",
              "      <td>598e15296d8650eb27d52e5f</td>\n",
              "      <td>20170038394</td>\n",
              "      <td>Emanuel Fernandes P. da Rocha</td>\n",
              "    </tr>\n",
              "    <tr>\n",
              "      <th>2</th>\n",
              "      <td>Lista de Exercícios 1 - Expressões e variáveis</td>\n",
              "      <td>5991cd34b3c8b42f3d5da3fd</td>\n",
              "      <td>6</td>\n",
              "      <td>15</td>\n",
              "      <td>40.000000</td>\n",
              "      <td>2017.2</td>\n",
              "      <td>LÓGICA DE PROGRAMAÇÃO - Turma 01B</td>\n",
              "      <td>598e15296d8650eb27d52e5f</td>\n",
              "      <td>20170001812</td>\n",
              "      <td>Andrey Costa</td>\n",
              "    </tr>\n",
              "    <tr>\n",
              "      <th>3</th>\n",
              "      <td>Lista de Exercícios 1 - Expressões e variáveis</td>\n",
              "      <td>5991cd37b3c8b42f3d5da3fe</td>\n",
              "      <td>4</td>\n",
              "      <td>15</td>\n",
              "      <td>26.666667</td>\n",
              "      <td>2017.2</td>\n",
              "      <td>LÓGICA DE PROGRAMAÇÃO - Turma 01B</td>\n",
              "      <td>598e15296d8650eb27d52e5f</td>\n",
              "      <td>20170102735</td>\n",
              "      <td>Fernanda</td>\n",
              "    </tr>\n",
              "    <tr>\n",
              "      <th>4</th>\n",
              "      <td>Lista de Exercícios 1 - Expressões e variáveis</td>\n",
              "      <td>5991cd39b3c8b42f3d5da3ff</td>\n",
              "      <td>2</td>\n",
              "      <td>15</td>\n",
              "      <td>13.333333</td>\n",
              "      <td>2017.2</td>\n",
              "      <td>LÓGICA DE PROGRAMAÇÃO - Turma 01B</td>\n",
              "      <td>598e15296d8650eb27d52e5f</td>\n",
              "      <td>20170043590</td>\n",
              "      <td>Jayedson Brito</td>\n",
              "    </tr>\n",
              "  </tbody>\n",
              "</table>\n",
              "</div>"
            ],
            "text/plain": [
              "                                      tituloLista  ...                           nome\n",
              "0  Lista de Exercícios 1 - Expressões e variáveis  ...                         Amanda\n",
              "1  Lista de Exercícios 1 - Expressões e variáveis  ...  Emanuel Fernandes P. da Rocha\n",
              "2  Lista de Exercícios 1 - Expressões e variáveis  ...                   Andrey Costa\n",
              "3  Lista de Exercícios 1 - Expressões e variáveis  ...                       Fernanda\n",
              "4  Lista de Exercícios 1 - Expressões e variáveis  ...                 Jayedson Brito\n",
              "\n",
              "[5 rows x 10 columns]"
            ]
          },
          "metadata": {
            "tags": []
          },
          "execution_count": 34
        }
      ]
    },
    {
      "cell_type": "markdown",
      "metadata": {
        "id": "INaZBI7BbUNP",
        "colab_type": "text"
      },
      "source": [
        "**Exportando o dataframe para um arquivo CSV**"
      ]
    },
    {
      "cell_type": "code",
      "metadata": {
        "id": "2CM1YgZtbTn3",
        "colab_type": "code",
        "colab": {}
      },
      "source": [
        "#tabelaFinalT= tabelaFinal.drop('nome',axis=1)\n",
        "tabelaFinalListas.to_csv(r'lopUsuarioNotaLista.csv')"
      ],
      "execution_count": 0,
      "outputs": []
    },
    {
      "cell_type": "markdown",
      "metadata": {
        "id": "WRH6k0Xz3ugd",
        "colab_type": "text"
      },
      "source": [
        "**#Expandir a tabela de provas para que cada questão das provas seja uma linha da tabela**"
      ]
    },
    {
      "cell_type": "code",
      "metadata": {
        "id": "6Yb1MB1s3r_N",
        "colab_type": "code",
        "colab": {}
      },
      "source": [
        "colunas   = [\"idProva\",\"idQuestao\",\"titulo\", \"finalizou\", \"iniciou\", 'idTurma']\n",
        "provaNovo = pd.DataFrame(columns=colunas)\n",
        "for i in range(len(tabProvas)):\n",
        "  idProva   = tabProvas[\"_id\"].iloc[i]\n",
        "  titulo    = tabProvas[\"titulo\"].iloc[i]\n",
        "  finalizou = tabProvas[\"finalizou\"].iloc[i]\n",
        "  iniciou   = tabProvas[\"iniciou\"].iloc[i] \n",
        "  turma     = tabProvas[\"turma\"].iloc[i]\n",
        "  q         = tabProvas[\"questao\"].iloc[i]\n",
        "  for a in range(8):\n",
        "    questao = q[a]\n",
        "    dic = {\"idProva\": idProva ,\"titulo\":titulo, \"idQuestao\": questao, \"finalizou\": finalizou,\"iniciou\":iniciou, \"idTurma\":turma}\n",
        "    provaNovo = pd.concat([provaNovo, pd.DataFrame(dic)],  ignore_index=True, sort=False )\n"
      ],
      "execution_count": 0,
      "outputs": []
    },
    {
      "cell_type": "markdown",
      "metadata": {
        "id": "3iraaQLC33ii",
        "colab_type": "text"
      },
      "source": [
        "**Deletar as linhas que estão com NaN**"
      ]
    },
    {
      "cell_type": "code",
      "metadata": {
        "id": "9t2m53KV31Y4",
        "colab_type": "code",
        "outputId": "122b681b-cb5e-4fbe-e2d0-ca4fa15d97b7",
        "colab": {
          "base_uri": "https://localhost:8080/",
          "height": 221
        }
      },
      "source": [
        "provaNovo = provaNovo.dropna(axis=0, how='any')\n",
        "print(provaNovo.shape)\n",
        "provaNovo.info()"
      ],
      "execution_count": 0,
      "outputs": [
        {
          "output_type": "stream",
          "text": [
            "(698, 6)\n",
            "<class 'pandas.core.frame.DataFrame'>\n",
            "Int64Index: 698 entries, 0 to 4322\n",
            "Data columns (total 6 columns):\n",
            "idProva      698 non-null object\n",
            "idQuestao    698 non-null object\n",
            "titulo       698 non-null object\n",
            "finalizou    698 non-null object\n",
            "iniciou      698 non-null object\n",
            "idTurma      698 non-null object\n",
            "dtypes: object(6)\n",
            "memory usage: 38.2+ KB\n"
          ],
          "name": "stdout"
        }
      ]
    },
    {
      "cell_type": "markdown",
      "metadata": {
        "id": "mxZiuYbv8yVw",
        "colab_type": "text"
      },
      "source": [
        "**Criar o campo quantidade de questoes por prova**"
      ]
    },
    {
      "cell_type": "code",
      "metadata": {
        "id": "g2OTrIvu3eDn",
        "colab_type": "code",
        "colab": {}
      },
      "source": [
        "quantidadeProva = provaNovo.groupby([\"idProva\",\"idQuestao\"]).count()\n",
        "quantidadeProva = quantidadeProva.reset_index()\n",
        "quantidadeProva = quantidadeProva.drop([\"titulo\",\"finalizou\",\"iniciou\",\"idTurma\"] , axis=1)\n",
        "quantidadeProva = quantidadeProva.groupby([\"idProva\"]).count()\n",
        "quantidadeProva.rename(columns={\"idQuestao\":\"quantidade\"}, inplace=True)\n",
        "quantidadeProva = quantidadeProva.reset_index()\n",
        "provaNovo= pd.merge(left = provaNovo, right = quantidadeProva, on='idProva', how=\"right\")\n",
        "provaNovo"
      ],
      "execution_count": 0,
      "outputs": []
    },
    {
      "cell_type": "markdown",
      "metadata": {
        "id": "kKd-dg3a4EMu",
        "colab_type": "text"
      },
      "source": [
        "**Concatenar as tabelas provas e submissao provas**"
      ]
    },
    {
      "cell_type": "code",
      "metadata": {
        "id": "-htifwfe3_ey",
        "colab_type": "code",
        "outputId": "2b680735-3dd3-4b1e-9c85-049fef64a641",
        "colab": {
          "base_uri": "https://localhost:8080/",
          "height": 34
        }
      },
      "source": [
        "mergeSubProvas= pd.merge(left = provaNovo, right = tabSubProvas, on=['idProva',\"idQuestao\"], how=\"inner\")\n",
        "print(mergeSubProvas.shape)"
      ],
      "execution_count": 0,
      "outputs": [
        {
          "output_type": "stream",
          "text": [
            "(20276, 11)\n"
          ],
          "name": "stdout"
        }
      ]
    },
    {
      "cell_type": "code",
      "metadata": {
        "id": "JclGvBovBwkH",
        "colab_type": "code",
        "colab": {
          "base_uri": "https://localhost:8080/",
          "height": 889
        },
        "outputId": "b15081a0-3615-4108-ec43-5828c80d7910"
      },
      "source": [
        "mergeSubProvas.loc[mergeSubProvas[\"idAluno\"]=='5b6b74ad9513a60408ac24a8']"
      ],
      "execution_count": 230,
      "outputs": [
        {
          "output_type": "execute_result",
          "data": {
            "text/html": [
              "<div>\n",
              "<style scoped>\n",
              "    .dataframe tbody tr th:only-of-type {\n",
              "        vertical-align: middle;\n",
              "    }\n",
              "\n",
              "    .dataframe tbody tr th {\n",
              "        vertical-align: top;\n",
              "    }\n",
              "\n",
              "    .dataframe thead th {\n",
              "        text-align: right;\n",
              "    }\n",
              "</style>\n",
              "<table border=\"1\" class=\"dataframe\">\n",
              "  <thead>\n",
              "    <tr style=\"text-align: right;\">\n",
              "      <th></th>\n",
              "      <th>idProva</th>\n",
              "      <th>idQuestao</th>\n",
              "      <th>titulo</th>\n",
              "      <th>finalizou</th>\n",
              "      <th>iniciou</th>\n",
              "      <th>idTurma</th>\n",
              "      <th>quantidade</th>\n",
              "      <th>idSubmissao</th>\n",
              "      <th>data</th>\n",
              "      <th>porcentagemAcerto</th>\n",
              "      <th>idAluno</th>\n",
              "    </tr>\n",
              "  </thead>\n",
              "  <tbody>\n",
              "    <tr>\n",
              "      <th>15557</th>\n",
              "      <td>5bb7bea34698a230b8c03161</td>\n",
              "      <td>5bb3ecf34698a230b8c02e6d</td>\n",
              "      <td>Prova 1 - Turma 3B - 2018.2</td>\n",
              "      <td>2018-10-10T19:37:28.653Z</td>\n",
              "      <td>2018-10-10T17:57:28.653Z</td>\n",
              "      <td>5b7b00efb50b33674989816a</td>\n",
              "      <td>4</td>\n",
              "      <td>5bbe53a0a2b8b504032f79eb</td>\n",
              "      <td>2018-10-10 19:31:44.761000+00:00</td>\n",
              "      <td>33</td>\n",
              "      <td>5b6b74ad9513a60408ac24a8</td>\n",
              "    </tr>\n",
              "    <tr>\n",
              "      <th>15577</th>\n",
              "      <td>5bb7bea34698a230b8c03161</td>\n",
              "      <td>5bb7868a4698a230b8c030aa</td>\n",
              "      <td>Prova 1 - Turma 3B - 2018.2</td>\n",
              "      <td>2018-10-10T19:37:28.653Z</td>\n",
              "      <td>2018-10-10T17:57:28.653Z</td>\n",
              "      <td>5b7b00efb50b33674989816a</td>\n",
              "      <td>4</td>\n",
              "      <td>5bbe5089a2b8b504032f795c</td>\n",
              "      <td>2018-10-10 19:18:33.886000+00:00</td>\n",
              "      <td>25</td>\n",
              "      <td>5b6b74ad9513a60408ac24a8</td>\n",
              "    </tr>\n",
              "    <tr>\n",
              "      <th>18763</th>\n",
              "      <td>5ca5730e5fdecb040bb855f7</td>\n",
              "      <td>5a27321384fb1d476d4850a0</td>\n",
              "      <td>Prova de Laboratório 1 : Turma 2A : 2019.1</td>\n",
              "      <td>2019-04-04T13:37:39.126Z</td>\n",
              "      <td>2019-04-04T12:12:39.126Z</td>\n",
              "      <td>5ca4b75db50b333d9c9163d9</td>\n",
              "      <td>3</td>\n",
              "      <td>5ca605b05fdecb040bb8574b</td>\n",
              "      <td>2019-04-04 13:25:04.276000+00:00</td>\n",
              "      <td>100</td>\n",
              "      <td>5b6b74ad9513a60408ac24a8</td>\n",
              "    </tr>\n",
              "    <tr>\n",
              "      <th>18777</th>\n",
              "      <td>5ca5730e5fdecb040bb855f7</td>\n",
              "      <td>5a27321384fb1d476d4850a0</td>\n",
              "      <td>Prova de Laboratório 1 : Turma 2A : 2019.1</td>\n",
              "      <td>2019-04-04T13:37:39.126Z</td>\n",
              "      <td>2019-04-04T12:12:39.126Z</td>\n",
              "      <td>5ca4b90cb50b333d9c9163de</td>\n",
              "      <td>3</td>\n",
              "      <td>5ca605b05fdecb040bb8574b</td>\n",
              "      <td>2019-04-04 13:25:04.276000+00:00</td>\n",
              "      <td>100</td>\n",
              "      <td>5b6b74ad9513a60408ac24a8</td>\n",
              "    </tr>\n",
              "    <tr>\n",
              "      <th>18782</th>\n",
              "      <td>5ca5730e5fdecb040bb855f7</td>\n",
              "      <td>5bb3ecf34698a230b8c02e6d</td>\n",
              "      <td>Prova de Laboratório 1 : Turma 2A : 2019.1</td>\n",
              "      <td>2019-04-04T13:37:39.126Z</td>\n",
              "      <td>2019-04-04T12:12:39.126Z</td>\n",
              "      <td>5ca4b75db50b333d9c9163d9</td>\n",
              "      <td>3</td>\n",
              "      <td>5ca5f8895fdecb040bb85688</td>\n",
              "      <td>2019-04-04 12:28:57.647000+00:00</td>\n",
              "      <td>100</td>\n",
              "      <td>5b6b74ad9513a60408ac24a8</td>\n",
              "    </tr>\n",
              "    <tr>\n",
              "      <th>18804</th>\n",
              "      <td>5ca5730e5fdecb040bb855f7</td>\n",
              "      <td>5bb3ecf34698a230b8c02e6d</td>\n",
              "      <td>Prova de Laboratório 1 : Turma 2A : 2019.1</td>\n",
              "      <td>2019-04-04T13:37:39.126Z</td>\n",
              "      <td>2019-04-04T12:12:39.126Z</td>\n",
              "      <td>5ca4b90cb50b333d9c9163de</td>\n",
              "      <td>3</td>\n",
              "      <td>5ca5f8895fdecb040bb85688</td>\n",
              "      <td>2019-04-04 12:28:57.647000+00:00</td>\n",
              "      <td>100</td>\n",
              "      <td>5b6b74ad9513a60408ac24a8</td>\n",
              "    </tr>\n",
              "    <tr>\n",
              "      <th>18826</th>\n",
              "      <td>5ca5730e5fdecb040bb855f7</td>\n",
              "      <td>5bb7bbd34698a230b8c0312c</td>\n",
              "      <td>Prova de Laboratório 1 : Turma 2A : 2019.1</td>\n",
              "      <td>2019-04-04T13:37:39.126Z</td>\n",
              "      <td>2019-04-04T12:12:39.126Z</td>\n",
              "      <td>5ca4b75db50b333d9c9163d9</td>\n",
              "      <td>3</td>\n",
              "      <td>5ca5f95b5fdecb040bb85697</td>\n",
              "      <td>2019-04-04 12:32:27.195000+00:00</td>\n",
              "      <td>100</td>\n",
              "      <td>5b6b74ad9513a60408ac24a8</td>\n",
              "    </tr>\n",
              "    <tr>\n",
              "      <th>18849</th>\n",
              "      <td>5ca5730e5fdecb040bb855f7</td>\n",
              "      <td>5bb7bbd34698a230b8c0312c</td>\n",
              "      <td>Prova de Laboratório 1 : Turma 2A : 2019.1</td>\n",
              "      <td>2019-04-04T13:37:39.126Z</td>\n",
              "      <td>2019-04-04T12:12:39.126Z</td>\n",
              "      <td>5ca4b90cb50b333d9c9163de</td>\n",
              "      <td>3</td>\n",
              "      <td>5ca5f95b5fdecb040bb85697</td>\n",
              "      <td>2019-04-04 12:32:27.195000+00:00</td>\n",
              "      <td>100</td>\n",
              "      <td>5b6b74ad9513a60408ac24a8</td>\n",
              "    </tr>\n",
              "    <tr>\n",
              "      <th>18871</th>\n",
              "      <td>5ca5f24a5fdecb040bb8565f</td>\n",
              "      <td>5ae00573241ada0408e6c6df</td>\n",
              "      <td>teste</td>\n",
              "      <td>2019-04-04T14:02:37.162Z</td>\n",
              "      <td>2019-04-04T12:02:37.162Z</td>\n",
              "      <td>5ca4b75db50b333d9c9163d9</td>\n",
              "      <td>1</td>\n",
              "      <td>5ca5f32c5fdecb040bb85661</td>\n",
              "      <td>2019-04-04 12:06:04.742000+00:00</td>\n",
              "      <td>100</td>\n",
              "      <td>5b6b74ad9513a60408ac24a8</td>\n",
              "    </tr>\n",
              "    <tr>\n",
              "      <th>18873</th>\n",
              "      <td>5ca5f24a5fdecb040bb8565f</td>\n",
              "      <td>5ae00573241ada0408e6c6df</td>\n",
              "      <td>teste</td>\n",
              "      <td>2019-04-04T14:02:37.162Z</td>\n",
              "      <td>2019-04-04T12:02:37.162Z</td>\n",
              "      <td>5ca4b90cb50b333d9c9163de</td>\n",
              "      <td>1</td>\n",
              "      <td>5ca5f32c5fdecb040bb85661</td>\n",
              "      <td>2019-04-04 12:06:04.742000+00:00</td>\n",
              "      <td>100</td>\n",
              "      <td>5b6b74ad9513a60408ac24a8</td>\n",
              "    </tr>\n",
              "  </tbody>\n",
              "</table>\n",
              "</div>"
            ],
            "text/plain": [
              "                        idProva  ...                   idAluno\n",
              "15557  5bb7bea34698a230b8c03161  ...  5b6b74ad9513a60408ac24a8\n",
              "15577  5bb7bea34698a230b8c03161  ...  5b6b74ad9513a60408ac24a8\n",
              "18763  5ca5730e5fdecb040bb855f7  ...  5b6b74ad9513a60408ac24a8\n",
              "18777  5ca5730e5fdecb040bb855f7  ...  5b6b74ad9513a60408ac24a8\n",
              "18782  5ca5730e5fdecb040bb855f7  ...  5b6b74ad9513a60408ac24a8\n",
              "18804  5ca5730e5fdecb040bb855f7  ...  5b6b74ad9513a60408ac24a8\n",
              "18826  5ca5730e5fdecb040bb855f7  ...  5b6b74ad9513a60408ac24a8\n",
              "18849  5ca5730e5fdecb040bb855f7  ...  5b6b74ad9513a60408ac24a8\n",
              "18871  5ca5f24a5fdecb040bb8565f  ...  5b6b74ad9513a60408ac24a8\n",
              "18873  5ca5f24a5fdecb040bb8565f  ...  5b6b74ad9513a60408ac24a8\n",
              "\n",
              "[10 rows x 11 columns]"
            ]
          },
          "metadata": {
            "tags": []
          },
          "execution_count": 230
        }
      ]
    },
    {
      "cell_type": "markdown",
      "metadata": {
        "id": "-YxXKD2E4Tw2",
        "colab_type": "text"
      },
      "source": [
        "**#Criar o arquivo CSV com as informações das provas e das submissoes**"
      ]
    },
    {
      "cell_type": "code",
      "metadata": {
        "id": "NqXLHEBs4R6C",
        "colab_type": "code",
        "colab": {}
      },
      "source": [
        "mergeSubProvas.to_csv(r'lopSubProva.csv')"
      ],
      "execution_count": 0,
      "outputs": []
    },
    {
      "cell_type": "markdown",
      "metadata": {
        "id": "QVTbal2q4mVO",
        "colab_type": "text"
      },
      "source": [
        "**Montar um arquivo CSV com as notas de cada aluno por prova**"
      ]
    },
    {
      "cell_type": "code",
      "metadata": {
        "id": "b4f1etZd4sOG",
        "colab_type": "code",
        "colab": {}
      },
      "source": [
        "#Remover todas as linhas que tem dados faltantes\n",
        "mergeSubProvasM = mergeSubProvas.dropna(axis=0, how='any')"
      ],
      "execution_count": 0,
      "outputs": []
    },
    {
      "cell_type": "markdown",
      "metadata": {
        "id": "zh_EthYa49S2",
        "colab_type": "text"
      },
      "source": [
        "**Porcentagem Máxima por aluno em cada questão da prova**"
      ]
    },
    {
      "cell_type": "code",
      "metadata": {
        "id": "IJEVj02x5F-T",
        "colab_type": "code",
        "outputId": "74913696-80f2-48aa-936e-679bfe22e88f",
        "colab": {
          "base_uri": "https://localhost:8080/",
          "height": 202
        }
      },
      "source": [
        "NotaMaxQuestaoProva = mergeSubProvasM.groupby([\"idProva\",\"idAluno\",\"idQuestao\"]).max()\n",
        "NotaMaxQuestaoProva.rename(columns={\"porcentagemAcerto\":\"porcentagemMaxima\"}, inplace=True)\n",
        "NotaMaxQuestaoProva = NotaMaxQuestaoProva.reset_index()\n",
        "print(NotaMaxQuestaoProva.columns)\n",
        "NotaMaxQuestaoProva.head(1)"
      ],
      "execution_count": 0,
      "outputs": [
        {
          "output_type": "stream",
          "text": [
            "Index(['idProva', 'idAluno', 'idQuestao', 'titulo', 'finalizou', 'iniciou',\n",
            "       'idTurma', 'quantidade', 'idSubmissao', 'data', 'porcentagemMaxima'],\n",
            "      dtype='object')\n"
          ],
          "name": "stdout"
        },
        {
          "output_type": "execute_result",
          "data": {
            "text/html": [
              "<div>\n",
              "<style scoped>\n",
              "    .dataframe tbody tr th:only-of-type {\n",
              "        vertical-align: middle;\n",
              "    }\n",
              "\n",
              "    .dataframe tbody tr th {\n",
              "        vertical-align: top;\n",
              "    }\n",
              "\n",
              "    .dataframe thead th {\n",
              "        text-align: right;\n",
              "    }\n",
              "</style>\n",
              "<table border=\"1\" class=\"dataframe\">\n",
              "  <thead>\n",
              "    <tr style=\"text-align: right;\">\n",
              "      <th></th>\n",
              "      <th>idProva</th>\n",
              "      <th>idAluno</th>\n",
              "      <th>idQuestao</th>\n",
              "      <th>titulo</th>\n",
              "      <th>finalizou</th>\n",
              "      <th>iniciou</th>\n",
              "      <th>idTurma</th>\n",
              "      <th>quantidade</th>\n",
              "      <th>idSubmissao</th>\n",
              "      <th>data</th>\n",
              "      <th>porcentagemMaxima</th>\n",
              "    </tr>\n",
              "  </thead>\n",
              "  <tbody>\n",
              "    <tr>\n",
              "      <th>0</th>\n",
              "      <td>59b90fdb164b97408dc0a1c3</td>\n",
              "      <td>5991e7253c13e92f349ee4fe</td>\n",
              "      <td>59b8512ba5e6fd53e89dde9a</td>\n",
              "      <td>Questão 2, Prova 1 - Prof. Rummenigge</td>\n",
              "      <td>2017-09-13T11:53:00.888Z</td>\n",
              "      <td>2017-09-13T11:01:00.888Z</td>\n",
              "      <td>59a3ff30e1cd2047bee7da7b</td>\n",
              "      <td>1</td>\n",
              "      <td>59b918dee6bd835d150553ac</td>\n",
              "      <td>2017-09-13 11:39:10.344000+00:00</td>\n",
              "      <td>100</td>\n",
              "    </tr>\n",
              "  </tbody>\n",
              "</table>\n",
              "</div>"
            ],
            "text/plain": [
              "                    idProva  ... porcentagemMaxima\n",
              "0  59b90fdb164b97408dc0a1c3  ...               100\n",
              "\n",
              "[1 rows x 11 columns]"
            ]
          },
          "metadata": {
            "tags": []
          },
          "execution_count": 205
        }
      ]
    },
    {
      "cell_type": "code",
      "metadata": {
        "id": "Fph7Y968_xTI",
        "colab_type": "code",
        "colab": {
          "base_uri": "https://localhost:8080/",
          "height": 544
        },
        "outputId": "17cb9ae8-f900-4283-f8ef-416cfd49471f"
      },
      "source": [
        "NotaMaxQuestaoProva.loc[NotaMaxQuestaoProva[\"idAluno\"]==\"5b6b74ad9513a60408ac24a8\"]"
      ],
      "execution_count": 249,
      "outputs": [
        {
          "output_type": "execute_result",
          "data": {
            "text/html": [
              "<div>\n",
              "<style scoped>\n",
              "    .dataframe tbody tr th:only-of-type {\n",
              "        vertical-align: middle;\n",
              "    }\n",
              "\n",
              "    .dataframe tbody tr th {\n",
              "        vertical-align: top;\n",
              "    }\n",
              "\n",
              "    .dataframe thead th {\n",
              "        text-align: right;\n",
              "    }\n",
              "</style>\n",
              "<table border=\"1\" class=\"dataframe\">\n",
              "  <thead>\n",
              "    <tr style=\"text-align: right;\">\n",
              "      <th></th>\n",
              "      <th>idProva</th>\n",
              "      <th>idAluno</th>\n",
              "      <th>idQuestao</th>\n",
              "      <th>titulo</th>\n",
              "      <th>finalizou</th>\n",
              "      <th>iniciou</th>\n",
              "      <th>idTurma</th>\n",
              "      <th>quantidade</th>\n",
              "      <th>idSubmissao</th>\n",
              "      <th>data</th>\n",
              "      <th>porcentagemMaxima</th>\n",
              "    </tr>\n",
              "  </thead>\n",
              "  <tbody>\n",
              "    <tr>\n",
              "      <th>3464</th>\n",
              "      <td>5bb7bea34698a230b8c03161</td>\n",
              "      <td>5b6b74ad9513a60408ac24a8</td>\n",
              "      <td>5bb3ecf34698a230b8c02e6d</td>\n",
              "      <td>Prova 1 - Turma 3B - 2018.2</td>\n",
              "      <td>2018-10-10T19:37:28.653Z</td>\n",
              "      <td>2018-10-10T17:57:28.653Z</td>\n",
              "      <td>5b7b00efb50b33674989816a</td>\n",
              "      <td>4</td>\n",
              "      <td>5bbe53a0a2b8b504032f79eb</td>\n",
              "      <td>2018-10-10 19:31:44.761000+00:00</td>\n",
              "      <td>33</td>\n",
              "    </tr>\n",
              "    <tr>\n",
              "      <th>3465</th>\n",
              "      <td>5bb7bea34698a230b8c03161</td>\n",
              "      <td>5b6b74ad9513a60408ac24a8</td>\n",
              "      <td>5bb7868a4698a230b8c030aa</td>\n",
              "      <td>Prova 1 - Turma 3B - 2018.2</td>\n",
              "      <td>2018-10-10T19:37:28.653Z</td>\n",
              "      <td>2018-10-10T17:57:28.653Z</td>\n",
              "      <td>5b7b00efb50b33674989816a</td>\n",
              "      <td>4</td>\n",
              "      <td>5bbe5089a2b8b504032f795c</td>\n",
              "      <td>2018-10-10 19:18:33.886000+00:00</td>\n",
              "      <td>25</td>\n",
              "    </tr>\n",
              "    <tr>\n",
              "      <th>4567</th>\n",
              "      <td>5ca5730e5fdecb040bb855f7</td>\n",
              "      <td>5b6b74ad9513a60408ac24a8</td>\n",
              "      <td>5a27321384fb1d476d4850a0</td>\n",
              "      <td>Prova de Laboratório 1 : Turma 2A : 2019.1</td>\n",
              "      <td>2019-04-04T13:37:39.126Z</td>\n",
              "      <td>2019-04-04T12:12:39.126Z</td>\n",
              "      <td>5ca4b90cb50b333d9c9163de</td>\n",
              "      <td>3</td>\n",
              "      <td>5ca605b05fdecb040bb8574b</td>\n",
              "      <td>2019-04-04 13:25:04.276000+00:00</td>\n",
              "      <td>100</td>\n",
              "    </tr>\n",
              "    <tr>\n",
              "      <th>4568</th>\n",
              "      <td>5ca5730e5fdecb040bb855f7</td>\n",
              "      <td>5b6b74ad9513a60408ac24a8</td>\n",
              "      <td>5bb3ecf34698a230b8c02e6d</td>\n",
              "      <td>Prova de Laboratório 1 : Turma 2A : 2019.1</td>\n",
              "      <td>2019-04-04T13:37:39.126Z</td>\n",
              "      <td>2019-04-04T12:12:39.126Z</td>\n",
              "      <td>5ca4b90cb50b333d9c9163de</td>\n",
              "      <td>3</td>\n",
              "      <td>5ca5f8895fdecb040bb85688</td>\n",
              "      <td>2019-04-04 12:28:57.647000+00:00</td>\n",
              "      <td>100</td>\n",
              "    </tr>\n",
              "    <tr>\n",
              "      <th>4569</th>\n",
              "      <td>5ca5730e5fdecb040bb855f7</td>\n",
              "      <td>5b6b74ad9513a60408ac24a8</td>\n",
              "      <td>5bb7bbd34698a230b8c0312c</td>\n",
              "      <td>Prova de Laboratório 1 : Turma 2A : 2019.1</td>\n",
              "      <td>2019-04-04T13:37:39.126Z</td>\n",
              "      <td>2019-04-04T12:12:39.126Z</td>\n",
              "      <td>5ca4b90cb50b333d9c9163de</td>\n",
              "      <td>3</td>\n",
              "      <td>5ca5f95b5fdecb040bb85697</td>\n",
              "      <td>2019-04-04 12:32:27.195000+00:00</td>\n",
              "      <td>100</td>\n",
              "    </tr>\n",
              "    <tr>\n",
              "      <th>4598</th>\n",
              "      <td>5ca5f24a5fdecb040bb8565f</td>\n",
              "      <td>5b6b74ad9513a60408ac24a8</td>\n",
              "      <td>5ae00573241ada0408e6c6df</td>\n",
              "      <td>teste</td>\n",
              "      <td>2019-04-04T14:02:37.162Z</td>\n",
              "      <td>2019-04-04T12:02:37.162Z</td>\n",
              "      <td>5ca4b90cb50b333d9c9163de</td>\n",
              "      <td>1</td>\n",
              "      <td>5ca5f32c5fdecb040bb85661</td>\n",
              "      <td>2019-04-04 12:06:04.742000+00:00</td>\n",
              "      <td>100</td>\n",
              "    </tr>\n",
              "  </tbody>\n",
              "</table>\n",
              "</div>"
            ],
            "text/plain": [
              "                       idProva  ... porcentagemMaxima\n",
              "3464  5bb7bea34698a230b8c03161  ...                33\n",
              "3465  5bb7bea34698a230b8c03161  ...                25\n",
              "4567  5ca5730e5fdecb040bb855f7  ...               100\n",
              "4568  5ca5730e5fdecb040bb855f7  ...               100\n",
              "4569  5ca5730e5fdecb040bb855f7  ...               100\n",
              "4598  5ca5f24a5fdecb040bb8565f  ...               100\n",
              "\n",
              "[6 rows x 11 columns]"
            ]
          },
          "metadata": {
            "tags": []
          },
          "execution_count": 249
        }
      ]
    },
    {
      "cell_type": "markdown",
      "metadata": {
        "id": "rr_66XsU5olh",
        "colab_type": "text"
      },
      "source": [
        "**Quantidade de questoes feitas por aluno em cada prova**"
      ]
    },
    {
      "cell_type": "code",
      "metadata": {
        "id": "vK1h219s5q2U",
        "colab_type": "code",
        "outputId": "5fbfb8af-6cdc-4d23-8e17-a8178b005210",
        "colab": {
          "base_uri": "https://localhost:8080/",
          "height": 97
        }
      },
      "source": [
        "quantidadeProva = NotaMaxQuestaoProva.groupby([\"titulo\",\"idAluno\"]).count()\n",
        "quantidadeProva.rename(columns={\"quantidade\":\"questoesFeitas\"}, inplace=True)\n",
        "quantidadeProva = quantidadeProva.reset_index()\n",
        "quantidadeProva= quantidadeProva[[\"titulo\",\"idAluno\",\"questoesFeitas\"]]\n",
        "print(quantidadeProva.columns)\n",
        "quantidadeProva.head(1)"
      ],
      "execution_count": 250,
      "outputs": [
        {
          "output_type": "stream",
          "text": [
            "Index(['titulo', 'idAluno', 'questoesFeitas'], dtype='object')\n"
          ],
          "name": "stdout"
        },
        {
          "output_type": "execute_result",
          "data": {
            "text/html": [
              "<div>\n",
              "<style scoped>\n",
              "    .dataframe tbody tr th:only-of-type {\n",
              "        vertical-align: middle;\n",
              "    }\n",
              "\n",
              "    .dataframe tbody tr th {\n",
              "        vertical-align: top;\n",
              "    }\n",
              "\n",
              "    .dataframe thead th {\n",
              "        text-align: right;\n",
              "    }\n",
              "</style>\n",
              "<table border=\"1\" class=\"dataframe\">\n",
              "  <thead>\n",
              "    <tr style=\"text-align: right;\">\n",
              "      <th></th>\n",
              "      <th>titulo</th>\n",
              "      <th>idAluno</th>\n",
              "      <th>questoesFeitas</th>\n",
              "    </tr>\n",
              "  </thead>\n",
              "  <tbody>\n",
              "    <tr>\n",
              "      <th>0</th>\n",
              "      <td>Prova 02 - Turmas 3A e 3B - 2018.1</td>\n",
              "      <td>59bf9b47e228af38d3ff3b6b</td>\n",
              "      <td>5</td>\n",
              "    </tr>\n",
              "  </tbody>\n",
              "</table>\n",
              "</div>"
            ],
            "text/plain": [
              "                               titulo                   idAluno  questoesFeitas\n",
              "0  Prova 02 - Turmas 3A e 3B - 2018.1  59bf9b47e228af38d3ff3b6b               5"
            ]
          },
          "metadata": {
            "tags": []
          },
          "execution_count": 250
        }
      ]
    },
    {
      "cell_type": "code",
      "metadata": {
        "id": "oIeQWIH__LPb",
        "colab_type": "code",
        "colab": {
          "base_uri": "https://localhost:8080/",
          "height": 142
        },
        "outputId": "80721390-a91d-4e3d-8028-ea763a47736b"
      },
      "source": [
        "quantidadeProva.loc[quantidadeProva[\"idAluno\"] == \"5b6b74ad9513a60408ac24a8\" ,[\"titulo\",\"questoesFeitas\"]]"
      ],
      "execution_count": 251,
      "outputs": [
        {
          "output_type": "execute_result",
          "data": {
            "text/html": [
              "<div>\n",
              "<style scoped>\n",
              "    .dataframe tbody tr th:only-of-type {\n",
              "        vertical-align: middle;\n",
              "    }\n",
              "\n",
              "    .dataframe tbody tr th {\n",
              "        vertical-align: top;\n",
              "    }\n",
              "\n",
              "    .dataframe thead th {\n",
              "        text-align: right;\n",
              "    }\n",
              "</style>\n",
              "<table border=\"1\" class=\"dataframe\">\n",
              "  <thead>\n",
              "    <tr style=\"text-align: right;\">\n",
              "      <th></th>\n",
              "      <th>titulo</th>\n",
              "      <th>questoesFeitas</th>\n",
              "    </tr>\n",
              "  </thead>\n",
              "  <tbody>\n",
              "    <tr>\n",
              "      <th>464</th>\n",
              "      <td>Prova 1 - Turma 3B - 2018.2</td>\n",
              "      <td>2</td>\n",
              "    </tr>\n",
              "    <tr>\n",
              "      <th>1202</th>\n",
              "      <td>Prova de Laboratório 1 : Turma 2A : 2019.1</td>\n",
              "      <td>3</td>\n",
              "    </tr>\n",
              "    <tr>\n",
              "      <th>1475</th>\n",
              "      <td>teste</td>\n",
              "      <td>1</td>\n",
              "    </tr>\n",
              "  </tbody>\n",
              "</table>\n",
              "</div>"
            ],
            "text/plain": [
              "                                          titulo  questoesFeitas\n",
              "464                  Prova 1 - Turma 3B - 2018.2               2\n",
              "1202  Prova de Laboratório 1 : Turma 2A : 2019.1               3\n",
              "1475                                       teste               1"
            ]
          },
          "metadata": {
            "tags": []
          },
          "execution_count": 251
        }
      ]
    },
    {
      "cell_type": "markdown",
      "metadata": {
        "id": "osBaz9iEAfjW",
        "colab_type": "text"
      },
      "source": [
        "**Nota final dos alunos por prova**"
      ]
    },
    {
      "cell_type": "code",
      "metadata": {
        "id": "M0B04UpNAerG",
        "colab_type": "code",
        "outputId": "5f4e0750-67e0-4fab-e8be-2887d7837541",
        "colab": {
          "base_uri": "https://localhost:8080/",
          "height": 97
        }
      },
      "source": [
        "NotaProva = NotaMaxQuestaoProva.groupby([\"titulo\",\"idAluno\",\"idTurma\"]).sum()\n",
        "NotaProva.rename(columns={\"porcentagemMaxima\":\"SomaProva\", \"quantidade\":\"questoesFeitas\"}, inplace=True)\n",
        "NotaProva = NotaProva.reset_index()\n",
        "NotaProva = NotaProva[[\"titulo\",'idAluno','SomaProva',\"idTurma\"]]\n",
        "print(NotaProva.columns)\n",
        "NotaProva.head(1)"
      ],
      "execution_count": 266,
      "outputs": [
        {
          "output_type": "stream",
          "text": [
            "Index(['titulo', 'idAluno', 'SomaProva', 'idTurma'], dtype='object')\n"
          ],
          "name": "stdout"
        },
        {
          "output_type": "execute_result",
          "data": {
            "text/html": [
              "<div>\n",
              "<style scoped>\n",
              "    .dataframe tbody tr th:only-of-type {\n",
              "        vertical-align: middle;\n",
              "    }\n",
              "\n",
              "    .dataframe tbody tr th {\n",
              "        vertical-align: top;\n",
              "    }\n",
              "\n",
              "    .dataframe thead th {\n",
              "        text-align: right;\n",
              "    }\n",
              "</style>\n",
              "<table border=\"1\" class=\"dataframe\">\n",
              "  <thead>\n",
              "    <tr style=\"text-align: right;\">\n",
              "      <th></th>\n",
              "      <th>titulo</th>\n",
              "      <th>idAluno</th>\n",
              "      <th>SomaProva</th>\n",
              "      <th>idTurma</th>\n",
              "    </tr>\n",
              "  </thead>\n",
              "  <tbody>\n",
              "    <tr>\n",
              "      <th>0</th>\n",
              "      <td>Prova 02 - Turmas 3A e 3B - 2018.1</td>\n",
              "      <td>59bf9b47e228af38d3ff3b6b</td>\n",
              "      <td>500</td>\n",
              "      <td>5ae079cd5c7ccb1a0c9f6043</td>\n",
              "    </tr>\n",
              "  </tbody>\n",
              "</table>\n",
              "</div>"
            ],
            "text/plain": [
              "                               titulo  ...                   idTurma\n",
              "0  Prova 02 - Turmas 3A e 3B - 2018.1  ...  5ae079cd5c7ccb1a0c9f6043\n",
              "\n",
              "[1 rows x 4 columns]"
            ]
          },
          "metadata": {
            "tags": []
          },
          "execution_count": 266
        }
      ]
    },
    {
      "cell_type": "code",
      "metadata": {
        "id": "fTWf5ZeVHqAl",
        "colab_type": "code",
        "colab": {
          "base_uri": "https://localhost:8080/",
          "height": 142
        },
        "outputId": "7f9ffa43-0bb4-4a92-d7fe-b1b8189b1b7b"
      },
      "source": [
        "NotaProva.loc[NotaProva[\"idAluno\"] == \"5b6b74ad9513a60408ac24a8\" ,[\"titulo\",\"SomaProva\"]]"
      ],
      "execution_count": 267,
      "outputs": [
        {
          "output_type": "execute_result",
          "data": {
            "text/html": [
              "<div>\n",
              "<style scoped>\n",
              "    .dataframe tbody tr th:only-of-type {\n",
              "        vertical-align: middle;\n",
              "    }\n",
              "\n",
              "    .dataframe tbody tr th {\n",
              "        vertical-align: top;\n",
              "    }\n",
              "\n",
              "    .dataframe thead th {\n",
              "        text-align: right;\n",
              "    }\n",
              "</style>\n",
              "<table border=\"1\" class=\"dataframe\">\n",
              "  <thead>\n",
              "    <tr style=\"text-align: right;\">\n",
              "      <th></th>\n",
              "      <th>titulo</th>\n",
              "      <th>SomaProva</th>\n",
              "    </tr>\n",
              "  </thead>\n",
              "  <tbody>\n",
              "    <tr>\n",
              "      <th>464</th>\n",
              "      <td>Prova 1 - Turma 3B - 2018.2</td>\n",
              "      <td>58</td>\n",
              "    </tr>\n",
              "    <tr>\n",
              "      <th>1202</th>\n",
              "      <td>Prova de Laboratório 1 : Turma 2A : 2019.1</td>\n",
              "      <td>300</td>\n",
              "    </tr>\n",
              "    <tr>\n",
              "      <th>1475</th>\n",
              "      <td>teste</td>\n",
              "      <td>100</td>\n",
              "    </tr>\n",
              "  </tbody>\n",
              "</table>\n",
              "</div>"
            ],
            "text/plain": [
              "                                          titulo  SomaProva\n",
              "464                  Prova 1 - Turma 3B - 2018.2         58\n",
              "1202  Prova de Laboratório 1 : Turma 2A : 2019.1        300\n",
              "1475                                       teste        100"
            ]
          },
          "metadata": {
            "tags": []
          },
          "execution_count": 267
        }
      ]
    },
    {
      "cell_type": "code",
      "metadata": {
        "id": "mIQ2VuefXS-8",
        "colab_type": "code",
        "outputId": "7e65decc-ddb5-4b26-a1b1-97ba503dc2f4",
        "colab": {
          "base_uri": "https://localhost:8080/",
          "height": 114
        }
      },
      "source": [
        "mergeQuanNotaProva =  pd.merge(right= quantidadeProva, left = NotaProva, on=['idAluno','titulo'], how=\"inner\")\n",
        "print(mergeQuanNotaProva.columns)\n",
        "print(mergeQuanNotaProva.shape)\n",
        "mergeQuanNotaProva.head(1)"
      ],
      "execution_count": 268,
      "outputs": [
        {
          "output_type": "stream",
          "text": [
            "Index(['titulo', 'idAluno', 'SomaProva', 'idTurma', 'questoesFeitas'], dtype='object')\n",
            "(1478, 5)\n"
          ],
          "name": "stdout"
        },
        {
          "output_type": "execute_result",
          "data": {
            "text/html": [
              "<div>\n",
              "<style scoped>\n",
              "    .dataframe tbody tr th:only-of-type {\n",
              "        vertical-align: middle;\n",
              "    }\n",
              "\n",
              "    .dataframe tbody tr th {\n",
              "        vertical-align: top;\n",
              "    }\n",
              "\n",
              "    .dataframe thead th {\n",
              "        text-align: right;\n",
              "    }\n",
              "</style>\n",
              "<table border=\"1\" class=\"dataframe\">\n",
              "  <thead>\n",
              "    <tr style=\"text-align: right;\">\n",
              "      <th></th>\n",
              "      <th>titulo</th>\n",
              "      <th>idAluno</th>\n",
              "      <th>SomaProva</th>\n",
              "      <th>idTurma</th>\n",
              "      <th>questoesFeitas</th>\n",
              "    </tr>\n",
              "  </thead>\n",
              "  <tbody>\n",
              "    <tr>\n",
              "      <th>0</th>\n",
              "      <td>Prova 02 - Turmas 3A e 3B - 2018.1</td>\n",
              "      <td>59bf9b47e228af38d3ff3b6b</td>\n",
              "      <td>500</td>\n",
              "      <td>5ae079cd5c7ccb1a0c9f6043</td>\n",
              "      <td>5</td>\n",
              "    </tr>\n",
              "  </tbody>\n",
              "</table>\n",
              "</div>"
            ],
            "text/plain": [
              "                               titulo  ... questoesFeitas\n",
              "0  Prova 02 - Turmas 3A e 3B - 2018.1  ...              5\n",
              "\n",
              "[1 rows x 5 columns]"
            ]
          },
          "metadata": {
            "tags": []
          },
          "execution_count": 268
        }
      ]
    },
    {
      "cell_type": "code",
      "metadata": {
        "id": "o5xtQ5_WH6is",
        "colab_type": "code",
        "colab": {
          "base_uri": "https://localhost:8080/",
          "height": 142
        },
        "outputId": "efa88640-219b-4238-e516-ac5971807d35"
      },
      "source": [
        "mergeQuanNotaProva.loc[mergeQuanNotaProva[\"idAluno\"] == \"5b6b74ad9513a60408ac24a8\" ,[\"titulo\",\"SomaProva\",\"questoesFeitas\"]]"
      ],
      "execution_count": 269,
      "outputs": [
        {
          "output_type": "execute_result",
          "data": {
            "text/html": [
              "<div>\n",
              "<style scoped>\n",
              "    .dataframe tbody tr th:only-of-type {\n",
              "        vertical-align: middle;\n",
              "    }\n",
              "\n",
              "    .dataframe tbody tr th {\n",
              "        vertical-align: top;\n",
              "    }\n",
              "\n",
              "    .dataframe thead th {\n",
              "        text-align: right;\n",
              "    }\n",
              "</style>\n",
              "<table border=\"1\" class=\"dataframe\">\n",
              "  <thead>\n",
              "    <tr style=\"text-align: right;\">\n",
              "      <th></th>\n",
              "      <th>titulo</th>\n",
              "      <th>SomaProva</th>\n",
              "      <th>questoesFeitas</th>\n",
              "    </tr>\n",
              "  </thead>\n",
              "  <tbody>\n",
              "    <tr>\n",
              "      <th>464</th>\n",
              "      <td>Prova 1 - Turma 3B - 2018.2</td>\n",
              "      <td>58</td>\n",
              "      <td>2</td>\n",
              "    </tr>\n",
              "    <tr>\n",
              "      <th>1202</th>\n",
              "      <td>Prova de Laboratório 1 : Turma 2A : 2019.1</td>\n",
              "      <td>300</td>\n",
              "      <td>3</td>\n",
              "    </tr>\n",
              "    <tr>\n",
              "      <th>1475</th>\n",
              "      <td>teste</td>\n",
              "      <td>100</td>\n",
              "      <td>1</td>\n",
              "    </tr>\n",
              "  </tbody>\n",
              "</table>\n",
              "</div>"
            ],
            "text/plain": [
              "                                          titulo  SomaProva  questoesFeitas\n",
              "464                  Prova 1 - Turma 3B - 2018.2         58               2\n",
              "1202  Prova de Laboratório 1 : Turma 2A : 2019.1        300               3\n",
              "1475                                       teste        100               1"
            ]
          },
          "metadata": {
            "tags": []
          },
          "execution_count": 269
        }
      ]
    },
    {
      "cell_type": "markdown",
      "metadata": {
        "id": "C_s8IVgAXF6t",
        "colab_type": "text"
      },
      "source": [
        "**Quantidade de questoes por prova**"
      ]
    },
    {
      "cell_type": "code",
      "metadata": {
        "id": "OPusXK7TXCpL",
        "colab_type": "code",
        "outputId": "45377843-a527-456a-d6ae-b4c62e823da4",
        "colab": {
          "base_uri": "https://localhost:8080/",
          "height": 221
        }
      },
      "source": [
        "quantQuesProva = provaNovo[['quantidade','titulo']]\n",
        "quantQuesProva = quantQuesProva.drop_duplicates()\n",
        "print(quantQuesProva.shape)\n",
        "quantQuesProva.head()"
      ],
      "execution_count": 0,
      "outputs": [
        {
          "output_type": "stream",
          "text": [
            "(65, 2)\n"
          ],
          "name": "stdout"
        },
        {
          "output_type": "execute_result",
          "data": {
            "text/html": [
              "<div>\n",
              "<style scoped>\n",
              "    .dataframe tbody tr th:only-of-type {\n",
              "        vertical-align: middle;\n",
              "    }\n",
              "\n",
              "    .dataframe tbody tr th {\n",
              "        vertical-align: top;\n",
              "    }\n",
              "\n",
              "    .dataframe thead th {\n",
              "        text-align: right;\n",
              "    }\n",
              "</style>\n",
              "<table border=\"1\" class=\"dataframe\">\n",
              "  <thead>\n",
              "    <tr style=\"text-align: right;\">\n",
              "      <th></th>\n",
              "      <th>quantidade</th>\n",
              "      <th>titulo</th>\n",
              "    </tr>\n",
              "  </thead>\n",
              "  <tbody>\n",
              "    <tr>\n",
              "      <th>0</th>\n",
              "      <td>1</td>\n",
              "      <td>Questão 2, Prova 1 - Prof. Rummenigge</td>\n",
              "    </tr>\n",
              "    <tr>\n",
              "      <th>4</th>\n",
              "      <td>5</td>\n",
              "      <td>Prova 1 - Turma 01 - 2017.2</td>\n",
              "    </tr>\n",
              "    <tr>\n",
              "      <th>24</th>\n",
              "      <td>5</td>\n",
              "      <td>Prova 1 - Turma 03 - 2017.2</td>\n",
              "    </tr>\n",
              "    <tr>\n",
              "      <th>34</th>\n",
              "      <td>5</td>\n",
              "      <td>Prova 2 - Turma 03 - 2017.2</td>\n",
              "    </tr>\n",
              "    <tr>\n",
              "      <th>44</th>\n",
              "      <td>6</td>\n",
              "      <td>Prova 1 Vídeos - Turma 01 - 2017.2</td>\n",
              "    </tr>\n",
              "  </tbody>\n",
              "</table>\n",
              "</div>"
            ],
            "text/plain": [
              "    quantidade                                 titulo\n",
              "0            1  Questão 2, Prova 1 - Prof. Rummenigge\n",
              "4            5            Prova 1 - Turma 01 - 2017.2\n",
              "24           5            Prova 1 - Turma 03 - 2017.2\n",
              "34           5            Prova 2 - Turma 03 - 2017.2\n",
              "44           6     Prova 1 Vídeos - Turma 01 - 2017.2"
            ]
          },
          "metadata": {
            "tags": []
          },
          "execution_count": 209
        }
      ]
    },
    {
      "cell_type": "code",
      "metadata": {
        "id": "ff-e4AJPJETV",
        "colab_type": "code",
        "colab": {
          "base_uri": "https://localhost:8080/",
          "height": 204
        },
        "outputId": "0ef52a47-274f-4796-f9bd-0e63c9ad10bc"
      },
      "source": [
        "mergeQuanNotaProvaQuanQ.info()"
      ],
      "execution_count": 273,
      "outputs": [
        {
          "output_type": "stream",
          "text": [
            "<class 'pandas.core.frame.DataFrame'>\n",
            "Int64Index: 1478 entries, 0 to 1477\n",
            "Data columns (total 6 columns):\n",
            "tituloProva            1478 non-null object\n",
            "idAluno                1478 non-null object\n",
            "SomaProva              1478 non-null int64\n",
            "questoesFeitasProva    1478 non-null int64\n",
            "quantidadeProva        1478 non-null int64\n",
            "NotaProva              1478 non-null float64\n",
            "dtypes: float64(1), int64(3), object(2)\n",
            "memory usage: 80.8+ KB\n"
          ],
          "name": "stdout"
        }
      ]
    },
    {
      "cell_type": "code",
      "metadata": {
        "id": "YGarqL02UYOw",
        "colab_type": "code",
        "outputId": "620f8f7c-1b81-414b-8802-3544e067b3ef",
        "colab": {
          "base_uri": "https://localhost:8080/",
          "height": 210
        }
      },
      "source": [
        "mergeQuanNotaProvaQuanQ = mergeQuanNotaProva.join(quantQuesProva.set_index('titulo'), on='titulo')\n",
        "mergeQuanNotaProvaQuanQ[\"NotaProva\"]= mergeQuanNotaProvaQuanQ[\"SomaProva\"] /mergeQuanNotaProvaQuanQ['quantidade']\n",
        "print(mergeQuanNotaProvaQuanQ.columns)\n",
        "print(mergeQuanNotaProvaQuanQ.shape)\n",
        "mergeQuanNotaProvaQuanQ.head(3)"
      ],
      "execution_count": 278,
      "outputs": [
        {
          "output_type": "stream",
          "text": [
            "Index(['titulo', 'idAluno', 'SomaProva', 'idTurma', 'questoesFeitas',\n",
            "       'quantidade', 'NotaProva'],\n",
            "      dtype='object')\n",
            "(1478, 7)\n"
          ],
          "name": "stdout"
        },
        {
          "output_type": "execute_result",
          "data": {
            "text/html": [
              "<div>\n",
              "<style scoped>\n",
              "    .dataframe tbody tr th:only-of-type {\n",
              "        vertical-align: middle;\n",
              "    }\n",
              "\n",
              "    .dataframe tbody tr th {\n",
              "        vertical-align: top;\n",
              "    }\n",
              "\n",
              "    .dataframe thead th {\n",
              "        text-align: right;\n",
              "    }\n",
              "</style>\n",
              "<table border=\"1\" class=\"dataframe\">\n",
              "  <thead>\n",
              "    <tr style=\"text-align: right;\">\n",
              "      <th></th>\n",
              "      <th>titulo</th>\n",
              "      <th>idAluno</th>\n",
              "      <th>SomaProva</th>\n",
              "      <th>idTurma</th>\n",
              "      <th>questoesFeitas</th>\n",
              "      <th>quantidade</th>\n",
              "      <th>NotaProva</th>\n",
              "    </tr>\n",
              "  </thead>\n",
              "  <tbody>\n",
              "    <tr>\n",
              "      <th>0</th>\n",
              "      <td>Prova 02 - Turmas 3A e 3B - 2018.1</td>\n",
              "      <td>59bf9b47e228af38d3ff3b6b</td>\n",
              "      <td>500</td>\n",
              "      <td>5ae079cd5c7ccb1a0c9f6043</td>\n",
              "      <td>5</td>\n",
              "      <td>5</td>\n",
              "      <td>100.0</td>\n",
              "    </tr>\n",
              "    <tr>\n",
              "      <th>1</th>\n",
              "      <td>Prova 02 - Turmas 3A e 3B - 2018.1</td>\n",
              "      <td>59c96f42db4d4443c4f01484</td>\n",
              "      <td>233</td>\n",
              "      <td>5ae079cd5c7ccb1a0c9f6043</td>\n",
              "      <td>4</td>\n",
              "      <td>5</td>\n",
              "      <td>46.6</td>\n",
              "    </tr>\n",
              "    <tr>\n",
              "      <th>2</th>\n",
              "      <td>Prova 02 - Turmas 3A e 3B - 2018.1</td>\n",
              "      <td>5a9ff63c6e994c04109f0401</td>\n",
              "      <td>200</td>\n",
              "      <td>5ae079cd5c7ccb1a0c9f6043</td>\n",
              "      <td>4</td>\n",
              "      <td>5</td>\n",
              "      <td>40.0</td>\n",
              "    </tr>\n",
              "  </tbody>\n",
              "</table>\n",
              "</div>"
            ],
            "text/plain": [
              "                               titulo  ... NotaProva\n",
              "0  Prova 02 - Turmas 3A e 3B - 2018.1  ...     100.0\n",
              "1  Prova 02 - Turmas 3A e 3B - 2018.1  ...      46.6\n",
              "2  Prova 02 - Turmas 3A e 3B - 2018.1  ...      40.0\n",
              "\n",
              "[3 rows x 7 columns]"
            ]
          },
          "metadata": {
            "tags": []
          },
          "execution_count": 278
        }
      ]
    },
    {
      "cell_type": "code",
      "metadata": {
        "id": "w1PMNxUSIXOo",
        "colab_type": "code",
        "colab": {
          "base_uri": "https://localhost:8080/",
          "height": 142
        },
        "outputId": "6d6d919d-d33b-4aec-c8a7-5e482935f493"
      },
      "source": [
        "mergeQuanNotaProvaQuanQ.loc[mergeQuanNotaProvaQuanQ[\"idAluno\"] == \"5b6b74ad9513a60408ac24a8\" ,[\"titulo\",\"SomaProva\",\"questoesFeitas\"]]"
      ],
      "execution_count": 281,
      "outputs": [
        {
          "output_type": "execute_result",
          "data": {
            "text/html": [
              "<div>\n",
              "<style scoped>\n",
              "    .dataframe tbody tr th:only-of-type {\n",
              "        vertical-align: middle;\n",
              "    }\n",
              "\n",
              "    .dataframe tbody tr th {\n",
              "        vertical-align: top;\n",
              "    }\n",
              "\n",
              "    .dataframe thead th {\n",
              "        text-align: right;\n",
              "    }\n",
              "</style>\n",
              "<table border=\"1\" class=\"dataframe\">\n",
              "  <thead>\n",
              "    <tr style=\"text-align: right;\">\n",
              "      <th></th>\n",
              "      <th>titulo</th>\n",
              "      <th>SomaProva</th>\n",
              "      <th>questoesFeitas</th>\n",
              "    </tr>\n",
              "  </thead>\n",
              "  <tbody>\n",
              "    <tr>\n",
              "      <th>464</th>\n",
              "      <td>Prova 1 - Turma 3B - 2018.2</td>\n",
              "      <td>58</td>\n",
              "      <td>2</td>\n",
              "    </tr>\n",
              "    <tr>\n",
              "      <th>1202</th>\n",
              "      <td>Prova de Laboratório 1 : Turma 2A : 2019.1</td>\n",
              "      <td>300</td>\n",
              "      <td>3</td>\n",
              "    </tr>\n",
              "    <tr>\n",
              "      <th>1475</th>\n",
              "      <td>teste</td>\n",
              "      <td>100</td>\n",
              "      <td>1</td>\n",
              "    </tr>\n",
              "  </tbody>\n",
              "</table>\n",
              "</div>"
            ],
            "text/plain": [
              "                                          titulo  SomaProva  questoesFeitas\n",
              "464                  Prova 1 - Turma 3B - 2018.2         58               2\n",
              "1202  Prova de Laboratório 1 : Turma 2A : 2019.1        300               3\n",
              "1475                                       teste        100               1"
            ]
          },
          "metadata": {
            "tags": []
          },
          "execution_count": 281
        }
      ]
    },
    {
      "cell_type": "markdown",
      "metadata": {
        "id": "HnBMV0STttB0",
        "colab_type": "text"
      },
      "source": [
        "**tabela final dos alunos por nota das provas**"
      ]
    },
    {
      "cell_type": "code",
      "metadata": {
        "id": "MfyRkUhitxQM",
        "colab_type": "code",
        "colab": {}
      },
      "source": [
        "mergeUseTurmasSubProvaM = mergeUseTurmasSubLista[['idAluno', 'ano', 'descricaoTurma', 'idTurma','matricula','nome']]\n",
        "\n",
        "#Renomear as colunas da tabela provas \n",
        "mergeQuanNotaProvaQuanQ.rename(columns={\"titulo\":\"tituloProva\",\"questoesFeitas\":\"questoesFeitasProva\",\"quantidade\":\"quantidadeProva\"}, inplace=True)\n",
        "mergeQuanNotaProvaQuanQM = mergeQuanNotaProvaQuanQ [[\"tituloProva\",\"idAluno\",\"questoesFeitasProva\", \"quantidadeProva\",\"NotaProva\",\"idTurma\"]]\n",
        "\n",
        "tabelaFinalProva= mergeQuanNotaProvaQuanQM.join(mergeUseTurmasSubProvaM.set_index(['idTurma','idAluno']), on=['idTurma','idAluno'])\n",
        "#remover as linhas duplicadas\n",
        "tabelaFinalProva = tabelaFinalProva.drop_duplicates()\n",
        "tabelaFinalProva"
      ],
      "execution_count": 0,
      "outputs": []
    },
    {
      "cell_type": "code",
      "metadata": {
        "id": "GHh3XX4lMj47",
        "colab_type": "code",
        "colab": {
          "base_uri": "https://localhost:8080/",
          "height": 68
        },
        "outputId": "fe42a370-09a6-44d7-8c3b-fc30ecf0bd00"
      },
      "source": [
        "tabelaFinalProva.columns"
      ],
      "execution_count": 284,
      "outputs": [
        {
          "output_type": "execute_result",
          "data": {
            "text/plain": [
              "Index(['tituloProva', 'idAluno', 'questoesFeitasProva', 'quantidadeProva',\n",
              "       'NotaProva', 'idTurma', 'ano', 'descricaoTurma', 'matricula', 'nome'],\n",
              "      dtype='object')"
            ]
          },
          "metadata": {
            "tags": []
          },
          "execution_count": 284
        }
      ]
    },
    {
      "cell_type": "code",
      "metadata": {
        "id": "h0rx1ZSOMeZM",
        "colab_type": "code",
        "colab": {
          "base_uri": "https://localhost:8080/",
          "height": 142
        },
        "outputId": "11af562d-e0f0-4171-f333-b3a22bc4c036"
      },
      "source": [
        "tabelaFinalProva.loc[tabelaFinalProva[\"idAluno\"] == \"5b6b74ad9513a60408ac24a8\" ,[\"tituloProva\",\"NotaProva\",\"questoesFeitasProva\"]]"
      ],
      "execution_count": 285,
      "outputs": [
        {
          "output_type": "execute_result",
          "data": {
            "text/html": [
              "<div>\n",
              "<style scoped>\n",
              "    .dataframe tbody tr th:only-of-type {\n",
              "        vertical-align: middle;\n",
              "    }\n",
              "\n",
              "    .dataframe tbody tr th {\n",
              "        vertical-align: top;\n",
              "    }\n",
              "\n",
              "    .dataframe thead th {\n",
              "        text-align: right;\n",
              "    }\n",
              "</style>\n",
              "<table border=\"1\" class=\"dataframe\">\n",
              "  <thead>\n",
              "    <tr style=\"text-align: right;\">\n",
              "      <th></th>\n",
              "      <th>tituloProva</th>\n",
              "      <th>NotaProva</th>\n",
              "      <th>questoesFeitasProva</th>\n",
              "    </tr>\n",
              "  </thead>\n",
              "  <tbody>\n",
              "    <tr>\n",
              "      <th>464</th>\n",
              "      <td>Prova 1 - Turma 3B - 2018.2</td>\n",
              "      <td>14.5</td>\n",
              "      <td>2</td>\n",
              "    </tr>\n",
              "    <tr>\n",
              "      <th>1202</th>\n",
              "      <td>Prova de Laboratório 1 : Turma 2A : 2019.1</td>\n",
              "      <td>100.0</td>\n",
              "      <td>3</td>\n",
              "    </tr>\n",
              "    <tr>\n",
              "      <th>1475</th>\n",
              "      <td>teste</td>\n",
              "      <td>100.0</td>\n",
              "      <td>1</td>\n",
              "    </tr>\n",
              "  </tbody>\n",
              "</table>\n",
              "</div>"
            ],
            "text/plain": [
              "                                     tituloProva  ...  questoesFeitasProva\n",
              "464                  Prova 1 - Turma 3B - 2018.2  ...                    2\n",
              "1202  Prova de Laboratório 1 : Turma 2A : 2019.1  ...                    3\n",
              "1475                                       teste  ...                    1\n",
              "\n",
              "[3 rows x 3 columns]"
            ]
          },
          "metadata": {
            "tags": []
          },
          "execution_count": 285
        }
      ]
    },
    {
      "cell_type": "code",
      "metadata": {
        "id": "8r5DsShdRC_v",
        "colab_type": "code",
        "colab": {}
      },
      "source": [
        "tabelaFinalProva[\"descricaoTurma\"].unique()"
      ],
      "execution_count": 0,
      "outputs": []
    },
    {
      "cell_type": "markdown",
      "metadata": {
        "id": "l12SJEbdxw07",
        "colab_type": "text"
      },
      "source": [
        "**Exportar o dataFrame para o arquivo CSV de Provas**"
      ]
    },
    {
      "cell_type": "code",
      "metadata": {
        "id": "m2q3UDLWx4BM",
        "colab_type": "code",
        "colab": {}
      },
      "source": [
        "#tabelaFinalT= tabelaFinal.drop('nome',axis=1)\n",
        "tabelaFinalProva.to_csv(r'lopUsuarioNotaProva.csv')"
      ],
      "execution_count": 0,
      "outputs": []
    },
    {
      "cell_type": "markdown",
      "metadata": {
        "id": "MZDaCnhQYoUk",
        "colab_type": "text"
      },
      "source": [
        "Codigo de gerar numero de questoes <100"
      ]
    },
    {
      "cell_type": "code",
      "metadata": {
        "id": "BANjPmyxYsOY",
        "colab_type": "code",
        "outputId": "5d414b85-e2c7-4315-eb1a-229a6ce6450e",
        "colab": {
          "base_uri": "https://localhost:8080/",
          "height": 204
        }
      },
      "source": [
        "table = pd.read_csv(\"https://github.com/repitta/CienciaDeDadosEducacionais/raw/master/arquivosCSV/lopUseTurmasSubLista.csv\")\n",
        "a= table.loc[table[\"porcentagemAcerto\"]<100,\"porcentagemAcerto\"]\n",
        "table[\"nQres\"]=a\n",
        "b = table.groupby(\"questao\")[\"nQres\"].sum().to_frame().reset_index().sort_values(by=\"nQres\")\n",
        "b.head()\n"
      ],
      "execution_count": 0,
      "outputs": [
        {
          "output_type": "execute_result",
          "data": {
            "text/html": [
              "<div>\n",
              "<style scoped>\n",
              "    .dataframe tbody tr th:only-of-type {\n",
              "        vertical-align: middle;\n",
              "    }\n",
              "\n",
              "    .dataframe tbody tr th {\n",
              "        vertical-align: top;\n",
              "    }\n",
              "\n",
              "    .dataframe thead th {\n",
              "        text-align: right;\n",
              "    }\n",
              "</style>\n",
              "<table border=\"1\" class=\"dataframe\">\n",
              "  <thead>\n",
              "    <tr style=\"text-align: right;\">\n",
              "      <th></th>\n",
              "      <th>questao</th>\n",
              "      <th>nQres</th>\n",
              "    </tr>\n",
              "  </thead>\n",
              "  <tbody>\n",
              "    <tr>\n",
              "      <th>128</th>\n",
              "      <td>5bc47b18a2b8b504032f7e11</td>\n",
              "      <td>0.0</td>\n",
              "    </tr>\n",
              "    <tr>\n",
              "      <th>103</th>\n",
              "      <td>5add7924241ada0408e6b8ee</td>\n",
              "      <td>0.0</td>\n",
              "    </tr>\n",
              "    <tr>\n",
              "      <th>101</th>\n",
              "      <td>5add757a241ada0408e6b8da</td>\n",
              "      <td>0.0</td>\n",
              "    </tr>\n",
              "    <tr>\n",
              "      <th>92</th>\n",
              "      <td>5a1ddf9a84fb1d476d484ee7</td>\n",
              "      <td>0.0</td>\n",
              "    </tr>\n",
              "    <tr>\n",
              "      <th>87</th>\n",
              "      <td>59d288ddf1bbc9444e336fec</td>\n",
              "      <td>0.0</td>\n",
              "    </tr>\n",
              "  </tbody>\n",
              "</table>\n",
              "</div>"
            ],
            "text/plain": [
              "                      questao  nQres\n",
              "128  5bc47b18a2b8b504032f7e11    0.0\n",
              "103  5add7924241ada0408e6b8ee    0.0\n",
              "101  5add757a241ada0408e6b8da    0.0\n",
              "92   5a1ddf9a84fb1d476d484ee7    0.0\n",
              "87   59d288ddf1bbc9444e336fec    0.0"
            ]
          },
          "metadata": {
            "tags": []
          },
          "execution_count": 51
        }
      ]
    },
    {
      "cell_type": "markdown",
      "metadata": {
        "id": "vWs9HB_9Y7yt",
        "colab_type": "text"
      },
      "source": [
        "Numero de questoes submetidas por aluno "
      ]
    },
    {
      "cell_type": "code",
      "metadata": {
        "id": "b-ZRVWS7ZAbb",
        "colab_type": "code",
        "outputId": "a6dc5e53-4d92-47d2-cb78-264545b6cc37",
        "colab": {
          "base_uri": "https://localhost:8080/",
          "height": 204
        }
      },
      "source": [
        "table = pd.read_csv(\"https://github.com/repitta/CienciaDeDadosEducacionais/raw/master/arquivosCSV/lopUseTurmasSubLista.csv\")\n",
        "nQuestoes = table.groupby([\"idAluno\",\"idLista\",\"questao\"]).count()\n",
        "nQuestoes.rename(columns={\"quantidade\":\"nQuestoes\"},inplace=True)\n",
        "nQuestoes=nQuestoes.reset_index()\n",
        "nQuestoes=nQuestoes[[\"idAluno\",\"idLista\",\"questao\",\"nQuestoes\"]]\n",
        "nQuestoes.head()"
      ],
      "execution_count": 0,
      "outputs": [
        {
          "output_type": "execute_result",
          "data": {
            "text/html": [
              "<div>\n",
              "<style scoped>\n",
              "    .dataframe tbody tr th:only-of-type {\n",
              "        vertical-align: middle;\n",
              "    }\n",
              "\n",
              "    .dataframe tbody tr th {\n",
              "        vertical-align: top;\n",
              "    }\n",
              "\n",
              "    .dataframe thead th {\n",
              "        text-align: right;\n",
              "    }\n",
              "</style>\n",
              "<table border=\"1\" class=\"dataframe\">\n",
              "  <thead>\n",
              "    <tr style=\"text-align: right;\">\n",
              "      <th></th>\n",
              "      <th>idAluno</th>\n",
              "      <th>idLista</th>\n",
              "      <th>questao</th>\n",
              "      <th>nQuestoes</th>\n",
              "    </tr>\n",
              "  </thead>\n",
              "  <tbody>\n",
              "    <tr>\n",
              "      <th>0</th>\n",
              "      <td>598cd5453bc48946977dcf66</td>\n",
              "      <td>598cd57a3bc48946977dcf67</td>\n",
              "      <td>59885f8d684f4a3f78163c00</td>\n",
              "      <td>5</td>\n",
              "    </tr>\n",
              "    <tr>\n",
              "      <th>1</th>\n",
              "      <td>598cd5453bc48946977dcf66</td>\n",
              "      <td>598cd57a3bc48946977dcf67</td>\n",
              "      <td>59887c83684f4a3f78163c02</td>\n",
              "      <td>1</td>\n",
              "    </tr>\n",
              "    <tr>\n",
              "      <th>2</th>\n",
              "      <td>598cd5453bc48946977dcf66</td>\n",
              "      <td>598cd57a3bc48946977dcf67</td>\n",
              "      <td>59888ea5d2f43b3f548ef057</td>\n",
              "      <td>1</td>\n",
              "    </tr>\n",
              "    <tr>\n",
              "      <th>3</th>\n",
              "      <td>598cd5453bc48946977dcf66</td>\n",
              "      <td>599ae0e1872c0a078b68b13e</td>\n",
              "      <td>599a32d6d9b4c2079007acb4</td>\n",
              "      <td>1</td>\n",
              "    </tr>\n",
              "    <tr>\n",
              "      <th>4</th>\n",
              "      <td>598cd5453bc48946977dcf66</td>\n",
              "      <td>599ae0e1872c0a078b68b13e</td>\n",
              "      <td>599adae4d9b4c2079007acc3</td>\n",
              "      <td>1</td>\n",
              "    </tr>\n",
              "  </tbody>\n",
              "</table>\n",
              "</div>"
            ],
            "text/plain": [
              "                    idAluno  ... nQuestoes\n",
              "0  598cd5453bc48946977dcf66  ...         5\n",
              "1  598cd5453bc48946977dcf66  ...         1\n",
              "2  598cd5453bc48946977dcf66  ...         1\n",
              "3  598cd5453bc48946977dcf66  ...         1\n",
              "4  598cd5453bc48946977dcf66  ...         1\n",
              "\n",
              "[5 rows x 4 columns]"
            ]
          },
          "metadata": {
            "tags": []
          },
          "execution_count": 52
        }
      ]
    }
  ]
}