{
  "nbformat": 4,
  "nbformat_minor": 0,
  "metadata": {
    "colab": {
      "name": "LOP.ipynb",
      "version": "0.3.2",
      "provenance": [],
      "collapsed_sections": [],
      "include_colab_link": true
    },
    "kernelspec": {
      "name": "python3",
      "display_name": "Python 3"
    }
  },
  "cells": [
    {
      "cell_type": "markdown",
      "metadata": {
        "id": "view-in-github",
        "colab_type": "text"
      },
      "source": [
        "<a href=\"https://colab.research.google.com/github/repitta/CienciaDeDadosEducacionais/blob/master/LOP.ipynb\" target=\"_parent\"><img src=\"https://colab.research.google.com/assets/colab-badge.svg\" alt=\"Open In Colab\"/></a>"
      ]
    },
    {
      "cell_type": "markdown",
      "metadata": {
        "id": "hwx4W4sEMVk9",
        "colab_type": "text"
      },
      "source": [
        "#<h1>Exploração dos dados do sistema LOP"
      ]
    },
    {
      "cell_type": "markdown",
      "metadata": {
        "id": "rJE6lkdSMliM",
        "colab_type": "text"
      },
      "source": [
        "Nesse projeto iremos fazer a análise exploratória de dados e suas representações visuais, que  engloba um conjunto de estatísticas quantitativas e gráficas que nos mostram as tendências, detectam comportamentos, testam a validade de hipóteses e fazem vários outros estudos.\n",
        "\n",
        "Para esta análise, vamos utilizar os dados fornecidos pelo sistema LOP - Plataforma de gerenciamento de exercícios de programação da Escola de Ciência e Tecnolgia da  Universidade Federal do Rio Grande do Norte (UFRN) e investigar os fatores que influenciam o desempenho dos alunos do Bacharelado em Ciência e Tecnologia.\n",
        "\n",
        "Assim, algumas questões que serão uma base para o nosso estudo podem ser levantadas:\n",
        "\n",
        "1. Como o sucesso dos alunos tem sido ao longo dos anos?\n",
        "2.  Uma configuração (tamanho, horário) da classe influencia  nesse desempenho?\n",
        "3. Quais habilidades são aprendidas pelos alunos? (Perseverança,  Raciocínio Lógico, Atenção aos detalhes, Pensamento Abstrato )\n",
        "4. Qual o perfil dos alunos?\n",
        "5. Quais os estilos de aprendizagem?\n",
        "6. E finalmente, qual a influência da  autorregulação da aprendizagem do aluno no seu redimento?\n",
        "\n",
        "\n",
        "\n",
        "\n",
        "E tendo respondido a essas perguntas que, ao longo deste trabalho, geraremos gráficos e tabelas que relacionam a média dos alunos e o número de alunos aprovados e reprovados desde 2017.2  a 2019.1 com elementos como:\n",
        "\n",
        "* O número de alunos por turma;\n",
        "* O turno de aula;\n",
        "* A quantidade de exercícios repondidos;\n",
        "*A frequência que o aluno responde as atividades;\n",
        "* E a quantidade de ausências de estudantes.\n",
        "*Quantidade de linhas do código? \n",
        "*número de acessos a uma determinada tarefa?\n",
        "*Sequência de acesso do conteúdo oferecido\n",
        "*Data e hora de acesso às atividades\n",
        "*notas do aluno;\n",
        "\n",
        "Tais dados serão compilados e assim gerar informações como atividades que os alunos mais atrasam, atividades em que os alunos possuem desempenho menor e conteúdos que são mais visualizados ou menos acessados."
      ]
    },
    {
      "cell_type": "markdown",
      "metadata": {
        "id": "_ucU21OZ2Xfl",
        "colab_type": "text"
      },
      "source": [
        "# <h1>Análise dos dados dos usuários do sistema LOP\n",
        "  \n",
        "O sistema LOP - Plataforma de gerenciamento de exercícios de programação da Escola de Ciência e Tecnolgia da Universidade Federal do Rio Grande do Norte (UFRN) disponibiliza o recurso **lop.user.csv**, uma base de dados com registro dos usuários cadastrados no sistema LOP desde o ano 2017.2.\n",
        "\n",
        "Para cada usuário há informações de _id, email, grupos.0, hash, listasFavoritas, matricula, nome, questoesFavoritas, salt e sigaa.turmas\n",
        "\n",
        "1. A variável  **_id indica**  o número único data indentificação do usuário no sistema.\n",
        "\n",
        "2. A variável  **email** armazena o endereço eletrônico informado pelo usuário\n",
        "\n",
        "3. A variável  **grupos.0** indica o papel o usuário no sistema. Porém essa coluna está com o mesmo valor para todos . USUARIO\n",
        "\n",
        "4. A variável  **hash** ...\n",
        "\n",
        "5. A variável **listasFavoritas** indica .... está coluna está em branco para todos os campos\n",
        "\n",
        "6. A variável  **matricula** indica o número de matricula informado pelo usuário\n",
        "\n",
        "7. A variável **nome** armazena os nomes dos usuários\n",
        "\n",
        "8. A variável **questoesFavoritas** indica quais as questões o usuário classificou como favorita\n",
        "\n",
        "9. A variável **salt** ...\n",
        "\n",
        "10. A variável **sigaa.turmas** ...\n",
        "\n",
        "O nosso dataset tem 49 colunas e 1067 linhas\n",
        "\n",
        "\n"
      ]
    },
    {
      "cell_type": "markdown",
      "metadata": {
        "id": "HApR0AZE7yyA",
        "colab_type": "text"
      },
      "source": [
        "#Análise dos dados das turmas do sistema LOP\n",
        "\n",
        "O sistema LOP - Plataforma de gerenciamento de exercícios de programação da Escola de Ciência e Tecnolgia da Universidade Federal do Rio Grande do Norte (UFRN) disponibiliza o recurso **lop.turmas.csv**, uma base de dados com registro das turmas cadastradas no sistema LOP desde o ano 2017.2.\n",
        "\n",
        "Para cada turma há informações 355 colunas . Muitas dessas informações foram exportadas do SIGAA e não são releventes para a pesquisa. Vamos descrever as variáveis que serão utilizadas no estudo.\n",
        "\n",
        "1. A variável **_id armazena** o número único para identificar cada turma cadastrada\n",
        "2. A variável **anoPeriodoString** armazena o ano e o respectivo período: .1 para o primeiro sementre .2 para o segundo sementre\n",
        "3. A variável **descricaoTurma** armazena o nome da disciplina e o nome da turma\n",
        "4. A variável **qtdMatriculados** armazena a quantidade de alunos matriculados em cada turma, tem muitos obejtos faltantes , não foi utilizado no estudo\n",
        "5. A variável **horariosTurma.0.descricaoTurno** armazena o período que a turma foi oferdada : Manhã, Tarde ou Noite, tem muito objetos faltantes, não foi utilizadono estudo.\n",
        "6. A variável **matrícula** armazena a matricula do usuário\n",
        "\n",
        "O nosso dataset tem 355 colunas e 48 linhas"
      ]
    },
    {
      "cell_type": "markdown",
      "metadata": {
        "id": "62BdGAvqEcb7",
        "colab_type": "text"
      },
      "source": [
        "# Análise dos dados das listas de questões do sistema Lop\n",
        "\n",
        "O sistema LOP - Plataforma de gerenciamento de exercícios de programação da Escola de Ciência e Tecnolgia da Universidade Federal do Rio Grande do Norte (UFRN) disponibiliza o recurso **lop.listasExercicios.csv**, uma base de dados com registro das listas de exercícios cadastradas no sistema LOP desde o ano 2017.2.\n",
        "\n",
        "Para cada lista de questões há informações  _id, likes, questoes, titulo.\n",
        "\n",
        "1. A variável **_id** é um número único que idenfifica cada lista de questões\n",
        "2. A variável **likes** ... está coluna está toda zerada\n",
        "3.A variável  **questões** armazena o número único para cada questão cadastrada\n",
        "4. a variável **titulo** armazena o titulo de cada questão\n",
        "\n",
        "O nosso dataset tem 23 colunas e 23 linhas"
      ]
    },
    {
      "cell_type": "markdown",
      "metadata": {
        "id": "OEkqnhzK45BH",
        "colab_type": "text"
      },
      "source": [
        "#Análise dos dados das submissões das questões do sistema Lop\n",
        "\n",
        "O sistema LOP - Plataforma de gerenciamento de exercícios de programação da Escola de Ciência e Tecnolgia da Universidade Federal do Rio Grande do Norte (UFRN) disponibiliza o recurso **lop.submissoes.csv**, uma base de dados com registro das listas de exercícios cadastradas no sistema LOP desde o ano 2017.2.\n",
        "\n",
        "Para cada submissão há informações _id, codigo, data, porcentagemAcerto, questao.\n",
        "\n",
        "1. A variável **_id**  armazena um número único da submissão de uma questão por aluno\n",
        "2. A variável **codigo** armazena o código que foi feito pelo aluno\n",
        "3. A variável **data** armazena data e hora de cada submissão\n",
        "4. A variável **porcentagemAcerto** armazena o valor da porcentagem de acerto de cada questão submetida\n",
        "5. A variável **questao** armazena o id da questão que foi submetida\n",
        "\n",
        "O nosso dataset tem 55  colunas e 33421 linhas"
      ]
    },
    {
      "cell_type": "markdown",
      "metadata": {
        "id": "f9DznxXXZeo-",
        "colab_type": "text"
      },
      "source": [
        "**Importa as bibliotecas**"
      ]
    },
    {
      "cell_type": "code",
      "metadata": {
        "id": "HLNKmDjRZYW-",
        "colab_type": "code",
        "colab": {}
      },
      "source": [
        "import pandas as pd\n",
        "from csv import reader\n",
        "import numpy as np"
      ],
      "execution_count": 0,
      "outputs": []
    },
    {
      "cell_type": "markdown",
      "metadata": {
        "id": "hUpgEIjtZzeR",
        "colab_type": "text"
      },
      "source": [
        "**Lendo os arquivos CSV do Lop e definindo os tipos de cada coluna**"
      ]
    },
    {
      "cell_type": "code",
      "metadata": {
        "id": "UEVdkG942Q2o",
        "colab_type": "code",
        "outputId": "41156311-e165-47b1-8ce7-f8e3244dcc3c",
        "colab": {
          "base_uri": "https://localhost:8080/",
          "height": 51
        }
      },
      "source": [
        "#Tipos de dados em cada coluna\n",
        "typeUser   = {\"_id\":str, \"matricula\":str, \"nome\":str}\n",
        "typeTurmas = {\"_id\":str, 'anoPeriodoString':np.float, 'descricaoTurma':str}\n",
        "typeLista  = {\"_id\":str,\"titulo\":str,\"questao\":str}\n",
        "typeSub    = {\"porcentagemAcerto\":np.int,\"user\":str} \n",
        "         \n",
        "# Ler os arquivos CSV que foram gerados a partir do banco de dados do sistema LOP\n",
        "lopUsers     = pd.read_csv(\"https://github.com/repitta/CienciaDeDadosEducacionais/raw/master/arquivosCSV/lop.users.csv\",dtype=typeUser)\n",
        "lopTurmas    = pd.read_csv(\"https://raw.githubusercontent.com/repitta/CienciaDeDadosEducacionais/master/arquivosCSV/lop.turmas.csv\",dtype=typeTurmas)\n",
        "lopListas    = pd.read_csv(\"https://raw.githubusercontent.com/repitta/CienciaDeDadosEducacionais/master/arquivosCSV/lop.listasExercicios.csv\",dtype=typeLista) \n",
        "lopSub       = pd.read_csv(\"https://github.com/repitta/CienciaDeDadosEducacionais/raw/master/arquivosCSV/lop.submissoes.csv\",dtype=typeSub)\n",
        "lopProvas    = pd.read_csv(\"https://raw.githubusercontent.com/repitta/CienciaDeDadosEducacionais/master/arquivosCSV/lop.provas.csv\")\n",
        "lopSubProvas = pd.read_csv(\"https://github.com/repitta/CienciaDeDadosEducacionais/raw/master/arquivosCSV/lop.submissoesProva.csv\")\n",
        "\n",
        "\n",
        "#definindo a coluna data as tabelas para o formato datetime do pandas\n",
        "lopSub[\"data\"]       = pd.to_datetime(lopSub[\"data\"], format = \"%Y/%m/%dT%H:%M:%S\")\n",
        "lopSubProvas[\"data\"] = pd.to_datetime(lopSubProvas[\"data\"], format = \"%Y/%m/%dT%H:%M:%S\")\n",
        "\n",
        "#Transformando data em variável do tipo datetime\n",
        "#tabSub[\"data\"] = tabSub[\"data\"].astype(str)\n",
        "#a = tabSub[\"data\"].str.split(\".\",  n=1, expand=True).loc[:,0].str.split(\"T\",  n=1, expand=True) \n",
        "#tabSub[\"data\"] = pd.to_datetime(a[0], format = \"%Y/%m/%d\")\n",
        "#tabSub[\"hora\"] = pd.to_datetime(a[1], format = \"%H:%M:%S\")\n",
        "#tabSub[[\"data\",\"hora\"]].head()"
      ],
      "execution_count": 2,
      "outputs": [
        {
          "output_type": "stream",
          "text": [
            "/usr/local/lib/python3.6/dist-packages/IPython/core/interactiveshell.py:2718: DtypeWarning: Columns (51) have mixed types. Specify dtype option on import or set low_memory=False.\n",
            "  interactivity=interactivity, compiler=compiler, result=result)\n"
          ],
          "name": "stderr"
        }
      ]
    },
    {
      "cell_type": "markdown",
      "metadata": {
        "id": "_S6RZEUATWZ1",
        "colab_type": "text"
      },
      "source": [
        "**Selecionar as colunas com os dados que serão utilizados no estudo**"
      ]
    },
    {
      "cell_type": "code",
      "metadata": {
        "id": "kB7_XugX8I1s",
        "colab_type": "code",
        "colab": {}
      },
      "source": [
        "#Tabela Usuários - tab_user armazena as colunas \"_id\", \"matricula\", \"nome\" \n",
        "tabUser = lopUsers.loc[:,[\"_id\", \"matricula\", \"nome\"]].copy()\n",
        "\n",
        "#Tabela Turmas - tab_turmas armazena as colunas \"_id\", \"anoPeriodoString\",\"descricaoTurma\", \"matricula\"\n",
        "tabTurmas = lopTurmas.loc[:,[\"_id\", \"anoPeriodoString\",\"descricaoTurma\"]].copy()\n",
        "matricula = []\n",
        "turno     = []\n",
        "for j in range(len(tabTurmas)):\n",
        "  idMatriculat = []\n",
        "  for i in range(30):\n",
        "    idMatriculat.append(lopTurmas.loc[:,\"dicentes.\"+str(i)+\".matricula\"][j])\n",
        "  matricula.append(idMatriculat)                     \n",
        "tabTurmas.loc[:,\"matricula\"] = pd.Series(matricula)\n",
        "\n",
        "#Tabela Listas - tab_listas armazena as colunas \"id\",\"questoes, titulo\"\n",
        "tabListas = lopListas.loc[:,[\"_id\",\"titulo\"]].copy()\n",
        "idLista   = []\n",
        "for j in range(len(tabListas)):\n",
        "  idQuestoes =[]\n",
        "  for i in range(19):\n",
        "    idQuestoes.append(lopListas.loc[:,\"questoes.\"+str(i)][j])\n",
        "  idLista.append(idQuestoes)\n",
        "tabListas.loc[:,\"questao\"] = pd.Series(idLista)\n",
        "\n",
        "#Tabela SubmissoesLista - taSub armazena as colunas \"data\",\"porcentagemAcerto\",\"questao\", \"user\"\n",
        "tabSub = lopSub.loc[:,[\"data\",\"porcentagemAcerto\",\"questao\", \"user\"]].copy()\n",
        "\n",
        "#Tabela Provas - lopProvas armazena as colunas \"_id\",\"questao\",\"titulo\", \"finalizou\", \"iniciou\"\n",
        "tabProvas = lopProvas.loc[:,[\"_id\", \"titulo\"]].copy()\n",
        "questao   = []\n",
        "turma     = []\n",
        "for j in range(len(tabProvas)):\n",
        "  idQuestaot = []\n",
        "  idTurmat  = []\n",
        "  for i in range(8):\n",
        "    idQuestaot.append(lopProvas.loc[:,\"questoes.\"+str(i)][j])\n",
        "    if i <=7 :\n",
        "      idTurmat.append(lopProvas.loc[:,\"turmas.\"+str(i)][j])\n",
        "  questao.append(idQuestaot)\n",
        "  turma.append(idTurmat)\n",
        "tabProvas.loc[:,\"questao\"] = pd.Series(questao)\n",
        "tabProvas.loc[:,\"turma\"]   = pd.Series(turma)\n",
        "\n",
        "#Tabela SubmissoesProva - tabSubProvas armazena as colunas \n",
        "tabSubProvas = lopSubProvas.loc[:,[\"_id\", \"data\", \"porcentagemAcerto\", \"prova\", \"questao\",\"user\"]].copy()\n",
        "#renomear as colunas de tabSubProvas\n",
        "tabSubProvas.rename(columns={\"_id\":\"idSubmissao\",\"prova\":\"idProva\",\"questao\":\"idQuestao\",\"user\":\"idAluno\"}, inplace=True)\n"
      ],
      "execution_count": 0,
      "outputs": []
    },
    {
      "cell_type": "markdown",
      "metadata": {
        "id": "QaM3VVsfbXve",
        "colab_type": "text"
      },
      "source": [
        "**Estrutura da cada dataframe após a seleção dos dados**"
      ]
    },
    {
      "cell_type": "code",
      "metadata": {
        "id": "Kp3c-G-NbWjb",
        "colab_type": "code",
        "colab": {}
      },
      "source": [
        "print(\"Tabelas de Usuários Colunas        \\n\",tabUser.columns,      tabUser.shape)\n",
        "print(\"Tabelas de Turmas Colunas          \\n\",tabTurmas.columns,    tabTurmas.shape)\n",
        "print(\"Tabelas de Listas Colunas          \\n\",tabListas.columns,    tabListas.shape)\n",
        "print(\"Tabelas de SubmissoesLista Colunas \\n\",tabSub.columns,       tabSub.shape)\n",
        "print(\"Tabelas de Provas Colunas          \\n\",tabProvas.columns,    tabListas.shape)\n",
        "print(\"Tabelas de SubmissoesProvas Colunas\\n\",tabSubProvas.columns, tabSubProvas.shape)"
      ],
      "execution_count": 0,
      "outputs": []
    },
    {
      "cell_type": "markdown",
      "metadata": {
        "id": "eDnUAuV9QQk_",
        "colab_type": "text"
      },
      "source": [
        "**Transformar os dados da tabela User**"
      ]
    },
    {
      "cell_type": "code",
      "metadata": {
        "id": "sJXKBef0QirB",
        "colab_type": "code",
        "colab": {}
      },
      "source": [
        "#renomeando a coluna _id para idAluno\n",
        "tabUser.rename(columns={\"_id\":\"idAluno\"}, inplace=True)\n",
        "\n",
        "#Limpando a coluna matricula, onde tem .0 no final da matricula foi retirado, tive q fazer uma gambiarra pq ele estva entendendo .0 como uma expressao regular\n",
        "tabUser.loc[:,\"matricula\"] = tabUser.loc[:,\"matricula\"].str.replace(\".0\",\"\",regex=False).copy()\n",
        "#tabUser.loc[:,\"matricula\"] = tabUser.loc[:,\"matricula\"].str.replace(\"r0\",\"\").copy()\n",
        "\n",
        "\n",
        "#imprimir os dados da tabela User\n",
        "print(tabUser.info())\n",
        "print(tabUser.head())"
      ],
      "execution_count": 0,
      "outputs": []
    },
    {
      "cell_type": "markdown",
      "metadata": {
        "id": "qY7YVa_vAKMh",
        "colab_type": "text"
      },
      "source": [
        "**Expandi a tabela turmas para que cada aluno seja uma linha do dataframe**"
      ]
    },
    {
      "cell_type": "code",
      "metadata": {
        "id": "XeYh8StTIoWs",
        "colab_type": "code",
        "colab": {}
      },
      "source": [
        "colunas    = [\"idTurma\",\"ano\",\"descricaoTurma\",\"matricula\"]\n",
        "turmasNovo = pd.DataFrame(columns=colunas)\n",
        "for i in range(tabTurmas.shape[0]):\n",
        "  idTurma        = tabTurmas[\"_id\"].iloc[i]\n",
        "  ano            = tabTurmas[\"anoPeriodoString\"].iloc[i]\n",
        "  descricaoTurma = tabTurmas[\"descricaoTurma\"].iloc[i]\n",
        "  m              = tabTurmas[\"matricula\"].iloc[i]\n",
        "  for a in range(30):\n",
        "    matricula  = m[a]\n",
        "    dic        = {\"idTurma\": idTurma ,\"ano\": ano ,\"descricaoTurma\":descricaoTurma,\"matricula\":matricula}\n",
        "    turmasNovo = pd.concat([turmasNovo, pd.DataFrame(dic, index=[0])],  ignore_index=True, sort = False )\n",
        "    \n",
        "print(turmasNovo.shape)\n",
        "turmasNovo.info()"
      ],
      "execution_count": 0,
      "outputs": []
    },
    {
      "cell_type": "markdown",
      "metadata": {
        "id": "i2lr8ckEmeGq",
        "colab_type": "text"
      },
      "source": [
        "**Apagar os registros onde o campo da coluna Matricula é nulo**"
      ]
    },
    {
      "cell_type": "code",
      "metadata": {
        "id": "ERu1FnXNmdve",
        "colab_type": "code",
        "colab": {}
      },
      "source": [
        "turmasNovo = turmasNovo.dropna(axis=0, how='any')\n",
        "print(turmasNovo.shape)\n",
        "turmasNovo.info()"
      ],
      "execution_count": 0,
      "outputs": []
    },
    {
      "cell_type": "markdown",
      "metadata": {
        "id": "WpkOMzzEnRTl",
        "colab_type": "text"
      },
      "source": [
        "**Transformar os dados da tabela Turmas**"
      ]
    },
    {
      "cell_type": "code",
      "metadata": {
        "id": "s7ugdXsFnMlb",
        "colab_type": "code",
        "colab": {}
      },
      "source": [
        "#Retirando o .0 da coluna matricula\n",
        "turmasNovo[\"matricula\"] = turmasNovo[\"matricula\"].astype(str)\n",
        "turmasNovo[\"matricula\"] = turmasNovo[\"matricula\"].str.replace(\".0\",\"\",regex=False)\n",
        "\n",
        "print(turmasNovo.info())\n",
        "print(turmasNovo.head()) "
      ],
      "execution_count": 0,
      "outputs": []
    },
    {
      "cell_type": "markdown",
      "metadata": {
        "id": "9JaP_RccBmOM",
        "colab_type": "text"
      },
      "source": [
        "**TESTE : Tem matriculas em mais de uma turma**"
      ]
    },
    {
      "cell_type": "code",
      "metadata": {
        "id": "8v0yHpts_EUw",
        "colab_type": "code",
        "colab": {}
      },
      "source": [
        "#total de matriculas únicas \n",
        "print(\"Total de matriculas únicas: \",  turmasNovo[\"matricula\"].unique().shape)\n",
        "resultado = turmasNovo.groupby([\"matricula\"]).count()\n",
        "resultado = resultado.reset_index()\n",
        "print(resultado.loc[resultado[\"idTurma\"]==2,\"matricula\"])\n",
        "# tem 917 matriculas em estão em apenas 1 turma \n",
        "# tem 80 matriculas que estão em 2 turmas cadastradas\n",
        "# tem 14 matriculas que estão em 3 turmas cadastradas\n",
        "\n"
      ],
      "execution_count": 0,
      "outputs": []
    },
    {
      "cell_type": "markdown",
      "metadata": {
        "id": "Z4XsPWbVP0s7",
        "colab_type": "text"
      },
      "source": [
        "**TESTE : Montar uma turma por ano e descrição**"
      ]
    },
    {
      "cell_type": "code",
      "metadata": {
        "id": "IjdbNngucif0",
        "colab_type": "code",
        "colab": {}
      },
      "source": [
        "turmasNovoAno=turmasNovo.loc[turmasNovo[\"ano\"] == 2019.1, [\"matricula\",\"descricaoTurma\",\"ano\"]] \n",
        "turmaDescricao = turmasNovoAno.loc[turmasNovoAno[\"descricaoTurma\"].str.contains('Turma 03D', regex=False), [\"matricula\",\"descricaoTurma\",\"ano\"]]\n",
        "print(turmaDescricao.sort_values(by=['matricula']))\n",
        "print(\"Quantidade de alunos \", turmaDescricao.shape)"
      ],
      "execution_count": 0,
      "outputs": []
    },
    {
      "cell_type": "markdown",
      "metadata": {
        "id": "vJQwFhPKAdsk",
        "colab_type": "text"
      },
      "source": [
        "**Concatenar a tabela usuarios com a tabela turmas pela coluna matricula**"
      ]
    },
    {
      "cell_type": "code",
      "metadata": {
        "id": "m42Dn8vrjMT3",
        "colab_type": "code",
        "colab": {}
      },
      "source": [
        "mergeUserTurmas = pd.merge(right = tabUser, left = turmasNovo, on='matricula', how=\"outer\")\n",
        "mergeUserTurmas.info()"
      ],
      "execution_count": 0,
      "outputs": []
    },
    {
      "cell_type": "markdown",
      "metadata": {
        "id": "hLiAUvkSgKoC",
        "colab_type": "text"
      },
      "source": [
        "**TESTE: alunos que não estão cadastrados no sistema e que estão matriculados na disciplina**"
      ]
    },
    {
      "cell_type": "code",
      "metadata": {
        "id": "1FrziQypgWXl",
        "colab_type": "code",
        "colab": {}
      },
      "source": [
        "print(\"Quantidade de matriculas em user \"                                  ,tabUser[\"matricula\"].shape )\n",
        "print(\"Quantidade de matriculas em turmasNovo \"                            ,turmasNovo[\"matricula\"].shape )\n",
        "print(\"Quantidade de matriculas depois de juntar as tabelas user e turmas \",mergeUserTurmas[\"matricula\"].shape )\n",
        "\n",
        "\n",
        "# TESTE \n",
        "# Existem matriculas na tabela turmas que não se cadastraram no sistema? SIM\n",
        "# Existem 93 matriculas que não tem registro no sistema\n",
        "print(mergeUserTurmas.loc[mergeUserTurmas[\"idAluno\"].isna(), [\"idAluno\",\"matricula\", \"descricaoTurma\", \"ano\"]].sort_values(by=['matricula']))"
      ],
      "execution_count": 0,
      "outputs": []
    },
    {
      "cell_type": "markdown",
      "metadata": {
        "id": "VbJai7V0t9IZ",
        "colab_type": "text"
      },
      "source": [
        "**TESTE : Montar a turma pelo ano e pela descrição da turma**"
      ]
    },
    {
      "cell_type": "code",
      "metadata": {
        "id": "XiH9tJ4ui200",
        "colab_type": "code",
        "colab": {}
      },
      "source": [
        "turmaAno       = mergeUserTurmas.loc[mergeUserTurmas.loc[:,\"ano\"] == 2018.2, [\"matricula\",'nome',\"descricaoTurma\",\"ano\", \"idAluno\", \"descricaoHorario\",\"idTurma\"]].copy() \n",
        "turmaDescricao = turmaAno.loc[turmaAno.loc[:,\"descricaoTurma\"].str.contains('Turma 03A', regex=False), [\"matricula\",'nome',\"descricaoTurma\",\"ano\",\"idAluno\",\"descricaoHorario\",\"idTurma\"]].copy()\n",
        "turmaDescricao.shape\n"
      ],
      "execution_count": 0,
      "outputs": []
    },
    {
      "cell_type": "markdown",
      "metadata": {
        "id": "q_9sRf3oeIfj",
        "colab_type": "text"
      },
      "source": [
        "**Criar um arquivo CSV com as informações das turmas do Sigaa e as informações de cadastro do LOP**"
      ]
    },
    {
      "cell_type": "code",
      "metadata": {
        "id": "KonWJ0t1eSkI",
        "colab_type": "code",
        "colab": {}
      },
      "source": [
        "#mergeUserTurmasT= mergeUserTurmas.drop('nome',axis=1)\n",
        "mergeUserTurmas.to_csv(r'lopUsuarioTurma.csv')"
      ],
      "execution_count": 0,
      "outputs": []
    },
    {
      "cell_type": "markdown",
      "metadata": {
        "id": "5rorxQRgxbBu",
        "colab_type": "text"
      },
      "source": [
        "**Expandir a tabela listas para que cada questão seja uma linha da tabela**"
      ]
    },
    {
      "cell_type": "code",
      "metadata": {
        "id": "svlyhJWyxKVn",
        "colab_type": "code",
        "colab": {}
      },
      "source": [
        "colunas = [\"idLista\",\"questao\",\"titulo\"]\n",
        "listaNovo = pd.DataFrame(columns=colunas)\n",
        "for i in range(len(tabListas)):\n",
        "  idLista=tabListas[\"_id\"].iloc[i]\n",
        "  titulo=tabListas[\"titulo\"].iloc[i]\n",
        "  j=tabListas[\"questao\"].iloc[i]\n",
        "  for a in range(18):\n",
        "      questao=j[a]\n",
        "      dic = {\"idLista\": idLista ,\"titulo\":titulo, \"questao\": questao }\n",
        "      listaNovo = pd.concat([listaNovo, pd.DataFrame(dic, index=[0])],  ignore_index=True, sort=False )\n",
        "    \n",
        "print(listaNovo.shape)\n",
        "listaNovo.info()"
      ],
      "execution_count": 0,
      "outputs": []
    },
    {
      "cell_type": "markdown",
      "metadata": {
        "id": "-N5umquF0hUZ",
        "colab_type": "text"
      },
      "source": [
        "**Apagar os registros onde o campo da coluna questao é nulo**\n",
        "\n",
        "\n"
      ]
    },
    {
      "cell_type": "code",
      "metadata": {
        "id": "tkwlznQQ0gUG",
        "colab_type": "code",
        "colab": {}
      },
      "source": [
        "listaNovo = listaNovo.dropna(axis=0, how='any')\n",
        "print(listaNovo.shape)\n",
        "\n"
      ],
      "execution_count": 0,
      "outputs": []
    },
    {
      "cell_type": "markdown",
      "metadata": {
        "id": "k0dBYtBB6uZE",
        "colab_type": "text"
      },
      "source": [
        "**Criar um novo campo na tabela ListaNovo com a quantidade de questões por lista**"
      ]
    },
    {
      "cell_type": "code",
      "metadata": {
        "id": "zXCDuMZj4t7V",
        "colab_type": "code",
        "colab": {}
      },
      "source": [
        "quantidade=listaNovo.groupby(\"idLista\").count()\n",
        "quantidade = quantidade.reset_index()\n",
        "quantidade = quantidade.drop('titulo',axis=1)\n",
        "quantidade.rename(columns={\"questao\":\"quantidade\"}, inplace=True)\n",
        "listaNovo= pd.merge(left = listaNovo, right = quantidade, on='idLista', how=\"right\")\n",
        "print(listaNovo.info())\n",
        "listaNovo.head()"
      ],
      "execution_count": 0,
      "outputs": []
    },
    {
      "cell_type": "markdown",
      "metadata": {
        "id": "jWVpyBVz1zoV",
        "colab_type": "text"
      },
      "source": [
        "**Concatenar a tabela lista com a tabela submissoes pela coluna questao**"
      ]
    },
    {
      "cell_type": "code",
      "metadata": {
        "id": "Mwcqkdp91_e8",
        "colab_type": "code",
        "colab": {}
      },
      "source": [
        "mergeSubLista = pd.merge(right= tabSub, left = listaNovo, on='questao', how=\"inner\")\n",
        "print(mergeSubLista.shape)\n",
        "\n",
        "# A Quantidade de submissoes aumentou muito . Esta correto\n",
        "#pode existe questão que foi submetida que não esta em nenhuma lista? simmmm\n",
        "print(mergeSubLista.info())\n",
        "\n",
        "#quantidade correta, pois ha questoes sem lista\n",
        "print(listaNovo[\"titulo\"].unique().shape)\n",
        "print(mergeSubLista[\"titulo\"].unique().shape)\n"
      ],
      "execution_count": 0,
      "outputs": []
    },
    {
      "cell_type": "markdown",
      "metadata": {
        "id": "zsEn3JzDyUw6",
        "colab_type": "text"
      },
      "source": [
        "**TESTE: Montar uma lista de questoes pelo nome da lista**"
      ]
    },
    {
      "cell_type": "code",
      "metadata": {
        "id": "ks_JMp473W8s",
        "colab_type": "code",
        "colab": {}
      },
      "source": [
        "mergeSubLista.loc[mergeSubLista[\"titulo\"].str.contains('Lista de Laboratório 3', regex=False), \"questao\"].unique()"
      ],
      "execution_count": 0,
      "outputs": []
    },
    {
      "cell_type": "markdown",
      "metadata": {
        "id": "di--YmUWjadl",
        "colab_type": "text"
      },
      "source": [
        "**Criar um arquivo CSV com as informações das submissões e as informações da lista com titulo e quantidade**"
      ]
    },
    {
      "cell_type": "code",
      "metadata": {
        "id": "lGAjwirij4Af",
        "colab_type": "code",
        "colab": {}
      },
      "source": [
        "mergeSubLista.to_csv(r'lopSubLista.csv')"
      ],
      "execution_count": 0,
      "outputs": []
    },
    {
      "cell_type": "markdown",
      "metadata": {
        "id": "-NhFncER8Hhr",
        "colab_type": "text"
      },
      "source": [
        "**Concatenar as tabelas merge_user_turmas e merge_sub_lista**\n",
        "\n",
        "\n"
      ]
    },
    {
      "cell_type": "code",
      "metadata": {
        "id": "_FezmCphFaZK",
        "colab_type": "code",
        "colab": {}
      },
      "source": [
        "mergeSubLista.rename(columns={\"user\":\"idAluno\"}, inplace=True)\n",
        "mergeUseTurmasSubLista = pd.merge(right= mergeUserTurmas, left = mergeSubLista, on='idAluno', how=\"outer\")\n",
        "print (mergeUseTurmasSubLista.shape)\n",
        "print(mergeUseTurmasSubLista.columns)\n",
        "mergeUseTurmasSubLista.head(1)"
      ],
      "execution_count": 0,
      "outputs": []
    },
    {
      "cell_type": "markdown",
      "metadata": {
        "id": "F3WsmpC-s7kS",
        "colab_type": "text"
      },
      "source": [
        "**Criar um arquivo CSV com as informações dos usuarios, turmas, submissões e as informações da lista**"
      ]
    },
    {
      "cell_type": "code",
      "metadata": {
        "id": "VNJ0GcPIuBt8",
        "colab_type": "code",
        "colab": {}
      },
      "source": [
        "mergeUseTurmasSubLista.to_csv(r'lopUseTurmasSubLista.csv')"
      ],
      "execution_count": 0,
      "outputs": []
    },
    {
      "cell_type": "markdown",
      "metadata": {
        "id": "zSCt_wn0u2bR",
        "colab_type": "text"
      },
      "source": [
        "**Montar um arquivo CSV com as notas de cada aluno por lista**"
      ]
    },
    {
      "cell_type": "code",
      "metadata": {
        "id": "HYDs4CUmvFvI",
        "colab_type": "code",
        "colab": {}
      },
      "source": [
        "#Remover todas as linhas que tem dados faltantes\n",
        "mergeUseTurmasSubListaM = mergeUseTurmasSubLista.dropna(axis=0, how='any')\n"
      ],
      "execution_count": 0,
      "outputs": []
    },
    {
      "cell_type": "markdown",
      "metadata": {
        "id": "3Gwz3X_KSnxV",
        "colab_type": "text"
      },
      "source": [
        "**Porcentagem Máxima por aluno em cada questão da lista**"
      ]
    },
    {
      "cell_type": "code",
      "metadata": {
        "id": "Ae0uZnOdOhYc",
        "colab_type": "code",
        "colab": {}
      },
      "source": [
        "NotaMaxQuestao = mergeUseTurmasSubListaM.groupby([\"idLista\",\"idAluno\",\"questao\"]).max()\n",
        "NotaMaxQuestao.rename(columns={\"porcentagemAcerto\":\"porcentagemMaxima\"}, inplace=True)\n",
        "NotaMaxQuestao = NotaMaxQuestao.reset_index()\n",
        "print(NotaMaxQuestao.columns)\n",
        "NotaMaxQuestao.head(1)"
      ],
      "execution_count": 0,
      "outputs": []
    },
    {
      "cell_type": "markdown",
      "metadata": {
        "id": "vgm8Oox_ZcP7",
        "colab_type": "text"
      },
      "source": [
        "**Quantidade de questoes feitas por aluno em cada lista**"
      ]
    },
    {
      "cell_type": "code",
      "metadata": {
        "id": "PPKZhnBSVfg1",
        "colab_type": "code",
        "colab": {}
      },
      "source": [
        "quantidade = NotaMaxQuestao.groupby([\"titulo\",\"idAluno\"]).count()\n",
        "quantidade.rename(columns={\"quantidade\":\"questoesFeitas\"}, inplace=True)\n",
        "quantidade= quantidade.reset_index()\n",
        "quantidade= quantidade[[\"titulo\",\"idAluno\",\"questoesFeitas\"]]\n",
        "print(quantidade.columns)\n",
        "quantidade.head(1)"
      ],
      "execution_count": 0,
      "outputs": []
    },
    {
      "cell_type": "markdown",
      "metadata": {
        "id": "aEJHPj8P8VLb",
        "colab_type": "text"
      },
      "source": [
        "**Nota final dos alunos por lista**"
      ]
    },
    {
      "cell_type": "code",
      "metadata": {
        "id": "LIOUjOfsS2TA",
        "colab_type": "code",
        "colab": {}
      },
      "source": [
        "NotaLista = NotaMaxQuestao.groupby([\"titulo\",\"idAluno\"]).sum()\n",
        "NotaLista.rename(columns={\"porcentagemMaxima\":\"SomaLista\", \"quantidade\":\"questoesFeitas\"}, inplace=True)\n",
        "NotaLista = NotaLista.drop('ano',axis=1)\n",
        "NotaLista = NotaLista.reset_index()\n",
        "NotaLista = NotaLista[[\"titulo\",'idAluno','SomaLista']]\n",
        "print(NotaLista.columns)\n",
        "NotaLista.head(1)"
      ],
      "execution_count": 0,
      "outputs": []
    },
    {
      "cell_type": "code",
      "metadata": {
        "id": "xrkgbDhyZtc5",
        "colab_type": "code",
        "colab": {}
      },
      "source": [
        "mergeQuanNotaLista =  pd.merge(right= quantidade, left = NotaLista, on=['idAluno','titulo'], how=\"inner\")\n",
        "print(mergeQuanNotaLista.columns)\n",
        "print(mergeQuanNotaLista.shape)\n",
        "mergeQuanNotaLista.head(1)"
      ],
      "execution_count": 0,
      "outputs": []
    },
    {
      "cell_type": "markdown",
      "metadata": {
        "id": "tVAYs1f6jAEj",
        "colab_type": "text"
      },
      "source": [
        "**Quantidade de questoes por lista**"
      ]
    },
    {
      "cell_type": "code",
      "metadata": {
        "id": "aW34ME3nfdlH",
        "colab_type": "code",
        "colab": {}
      },
      "source": [
        "quantQuesList = listaNovo[['quantidade','titulo']]\n",
        "quantQuesList =quantQuesList.drop_duplicates()\n",
        "print(quantQuesList.shape)\n",
        "quantQuesList.head()"
      ],
      "execution_count": 0,
      "outputs": []
    },
    {
      "cell_type": "markdown",
      "metadata": {
        "id": "-CZxcN9-xTwh",
        "colab_type": "text"
      },
      "source": [
        "**Concatenando as informações das tabelas mergeQuanNotaLista e quantidade para calcular o nota final de cada lista**"
      ]
    },
    {
      "cell_type": "code",
      "metadata": {
        "id": "wi0x_t8MjWnp",
        "colab_type": "code",
        "colab": {}
      },
      "source": [
        "mergeQuanNotaListaQuanQ = mergeQuanNotaLista.join(quantQuesList.set_index('titulo'), on='titulo')\n",
        "mergeQuanNotaListaQuanQ[\"NotaLista\"]= mergeQuanNotaListaQuanQ[\"SomaLista\"] /mergeQuanNotaListaQuanQ['quantidade']\n",
        "print(mergeQuanNotaListaQuanQ.columns)\n",
        "print(mergeQuanNotaListaQuanQ.shape)\n",
        "mergeQuanNotaListaQuanQ.head(3)"
      ],
      "execution_count": 0,
      "outputs": []
    },
    {
      "cell_type": "markdown",
      "metadata": {
        "id": "RdCzRBxtbI0F",
        "colab_type": "text"
      },
      "source": [
        "**Tabela final com todas as informações do aluno das listas**"
      ]
    },
    {
      "cell_type": "code",
      "metadata": {
        "id": "fOZU6sHYbJ6p",
        "colab_type": "code",
        "colab": {}
      },
      "source": [
        "mergeUseTurmasSubLista.rename(columns={'titulo':\"tituloLista\",\"quantidade\":\"quantidadeLista\"}, inplace=True)\n",
        "mergeUseTurmasSubListaM = mergeUseTurmasSubLista[[\"tituloLista\",'idAluno', 'ano', 'descricaoTurma', 'idTurma','matricula','nome']]\n",
        "\n",
        "#Renomear as colunas da tabela Listas\n",
        "mergeQuanNotaListaQuanQ.rename(columns={'titulo':\"tituloLista\",\"questoesFeitas\":\"questoesFeitasLista\",\"quantidade\":\"quantidadeLista\"}, inplace=True)\n",
        "mergeQuanNotaListaQuanM = mergeQuanNotaListaQuanQ[['tituloLista', 'idAluno','questoesFeitasLista', 'quantidadeLista','NotaLista']]\n",
        "\n",
        "tabelaFinalListas= mergeQuanNotaListaQuanM.join(mergeUseTurmasSubListaM.set_index(['tituloLista','idAluno']), on=['tituloLista','idAluno'])\n",
        "#remover as linhas duplicadas\n",
        "tabelaFinalListas = tabelaFinalListas.drop_duplicates()\n",
        "tabelaFinalListas.head()\n"
      ],
      "execution_count": 0,
      "outputs": []
    },
    {
      "cell_type": "markdown",
      "metadata": {
        "id": "INaZBI7BbUNP",
        "colab_type": "text"
      },
      "source": [
        "**Exportando o dataframe para um arquivo CSV**"
      ]
    },
    {
      "cell_type": "code",
      "metadata": {
        "id": "2CM1YgZtbTn3",
        "colab_type": "code",
        "colab": {}
      },
      "source": [
        "#tabelaFinalT= tabelaFinal.drop('nome',axis=1)\n",
        "tabelaFinalListas.to_csv(r'lopUsuarioNotaLista.csv')"
      ],
      "execution_count": 0,
      "outputs": []
    },
    {
      "cell_type": "markdown",
      "metadata": {
        "id": "WRH6k0Xz3ugd",
        "colab_type": "text"
      },
      "source": [
        "**#Expandir a tabela de provas para que cada questão das provas seja uma linha da tabela**"
      ]
    },
    {
      "cell_type": "code",
      "metadata": {
        "id": "6Yb1MB1s3r_N",
        "colab_type": "code",
        "colab": {}
      },
      "source": [
        "colunas   = [\"idProva\",\"idQuestao\",\"titulo\"]#,'idTurma']\n",
        "provaNovo = pd.DataFrame(columns=colunas)\n",
        "for i in range(len(tabProvas)):\n",
        "  idProva   = tabProvas[\"_id\"].iloc[i]\n",
        "  titulo    = tabProvas[\"titulo\"].iloc[i]\n",
        " # turma     = tabProvas[\"turma\"].iloc[i]\n",
        "  q         = tabProvas[\"questao\"].iloc[i]\n",
        "  for a in range(8):\n",
        "    questao = q[a]\n",
        "    dic = {\"idProva\": idProva ,\"titulo\":titulo, \"idQuestao\": questao}# ,\"idTurma\":turma}\n",
        "    provaNovo = pd.concat([provaNovo, pd.DataFrame(dic, index=[0])],  ignore_index=True, sort=False )\n"
      ],
      "execution_count": 0,
      "outputs": []
    },
    {
      "cell_type": "markdown",
      "metadata": {
        "id": "3iraaQLC33ii",
        "colab_type": "text"
      },
      "source": [
        "**Deletar as linhas que estão com NaN**"
      ]
    },
    {
      "cell_type": "code",
      "metadata": {
        "id": "9t2m53KV31Y4",
        "colab_type": "code",
        "colab": {}
      },
      "source": [
        "provaNovo = provaNovo.dropna(axis=0, how='any')\n",
        "print(provaNovo.shape)\n",
        "provaNovo.info()"
      ],
      "execution_count": 0,
      "outputs": []
    },
    {
      "cell_type": "markdown",
      "metadata": {
        "id": "mxZiuYbv8yVw",
        "colab_type": "text"
      },
      "source": [
        "**Criar o campo quantidade de questoes por prova**"
      ]
    },
    {
      "cell_type": "code",
      "metadata": {
        "id": "g2OTrIvu3eDn",
        "colab_type": "code",
        "colab": {}
      },
      "source": [
        "quantidade = provaNovo.groupby(\"idProva\").count()\n",
        "quantidade = quantidade.reset_index()\n",
        "quantidade = quantidade.drop('titulo',axis=1)\n",
        "quantidade.rename(columns={\"idQuestao\":\"quantidade\"}, inplace=True)\n",
        "provaNovo = pd.merge(left = provaNovo, right = quantidade, on='idProva', how=\"right\")\n",
        "print(provaNovo.info())\n"
      ],
      "execution_count": 0,
      "outputs": []
    },
    {
      "cell_type": "markdown",
      "metadata": {
        "id": "kKd-dg3a4EMu",
        "colab_type": "text"
      },
      "source": [
        "**Concatenar as tabelas provas e submissao provas**"
      ]
    },
    {
      "cell_type": "code",
      "metadata": {
        "id": "-htifwfe3_ey",
        "colab_type": "code",
        "colab": {}
      },
      "source": [
        "mergeSubProvas = pd.merge(right= tabSubProvas, left = provaNovo, on=['idQuestao'], how=\"right\")\n",
        "#Só ficar com os registros das provas que o professor criou\n",
        "mergeSubProvas = mergeSubProvas.loc[mergeSubProvas[\"idProva_x\"] == mergeSubProvas[\"idProva_y\"],:]\n",
        "mergeSubProvas = mergeSubProvas.drop(\"idProva_y\", axis=1)\n",
        "mergeSubProvas.rename(columns={\"idProva_x\":\"idProva\"}, inplace=True)\n",
        "mergeSubProvas.info()"
      ],
      "execution_count": 0,
      "outputs": []
    },
    {
      "cell_type": "markdown",
      "metadata": {
        "id": "-YxXKD2E4Tw2",
        "colab_type": "text"
      },
      "source": [
        "**#Criar o arquivo CSV com as informações das provas e das submissoes**"
      ]
    },
    {
      "cell_type": "code",
      "metadata": {
        "id": "NqXLHEBs4R6C",
        "colab_type": "code",
        "colab": {}
      },
      "source": [
        "mergeSubProvas.to_csv(r'lopSubProva.csv')"
      ],
      "execution_count": 0,
      "outputs": []
    },
    {
      "cell_type": "markdown",
      "metadata": {
        "id": "veoUZvHadu_r",
        "colab_type": "text"
      },
      "source": [
        "**Concatenar a tabela mergeUserTurmas e mergeSubProvas**"
      ]
    },
    {
      "cell_type": "code",
      "metadata": {
        "id": "7uH8x7IrduVr",
        "colab_type": "code",
        "colab": {}
      },
      "source": [
        "mergeSubProvas.rename(columns={\"user\":\"idAluno\"}, inplace=True)\n",
        "mergeUseTurmasSubProva = pd.merge(right= mergeUserTurmas, left = mergeSubProvas, on='idAluno', how=\"outer\")\n",
        "print (mergeUseTurmasSubProva.shape)\n",
        "print(mergeUseTurmasSubProva.columns)\n",
        "mergeUseTurmasSubProva.head(1)"
      ],
      "execution_count": 0,
      "outputs": []
    },
    {
      "cell_type": "markdown",
      "metadata": {
        "id": "In4P83Ize-d8",
        "colab_type": "text"
      },
      "source": [
        "**Criar um arquivo CSV com as informações dos usuarios, turmas, submissões e as informações da lista**"
      ]
    },
    {
      "cell_type": "code",
      "metadata": {
        "id": "LCl_25pmfBem",
        "colab_type": "code",
        "colab": {}
      },
      "source": [
        "mergeUseTurmasSubProva.to_csv(r'lopUseTurmasSubProva.csv')"
      ],
      "execution_count": 0,
      "outputs": []
    },
    {
      "cell_type": "markdown",
      "metadata": {
        "id": "tnWyRBqifGNj",
        "colab_type": "text"
      },
      "source": [
        "**Montar um arquivo CSV com as notas de cada aluno por lista**"
      ]
    },
    {
      "cell_type": "code",
      "metadata": {
        "id": "CPZyl5N4eW-A",
        "colab_type": "code",
        "colab": {}
      },
      "source": [
        "#Remover todas as linhas que tem dados faltantes\n",
        "mergeUseTurmasSubProvaM = mergeUseTurmasSubProva.dropna(axis=0, how='any')\n"
      ],
      "execution_count": 0,
      "outputs": []
    },
    {
      "cell_type": "markdown",
      "metadata": {
        "id": "zh_EthYa49S2",
        "colab_type": "text"
      },
      "source": [
        "**Montar um arquivo CSV com as notas de cada aluno por prova** \\\\\n",
        "**Porcentagem Máxima por aluno em cada questão da prova**"
      ]
    },
    {
      "cell_type": "code",
      "metadata": {
        "id": "IJEVj02x5F-T",
        "colab_type": "code",
        "colab": {}
      },
      "source": [
        "NotaMaxQuestaoProva = mergeUseTurmasSubProvaM.groupby([\"idProva\",\"idAluno\",\"idQuestao\"]).max()\n",
        "NotaMaxQuestaoProva.rename(columns={\"porcentagemAcerto\":\"porcentagemMaxima\"}, inplace=True)\n",
        "NotaMaxQuestaoProva = NotaMaxQuestaoProva.reset_index()\n",
        "print(NotaMaxQuestaoProva.columns)\n",
        "NotaMaxQuestaoProva.head(1)"
      ],
      "execution_count": 0,
      "outputs": []
    },
    {
      "cell_type": "markdown",
      "metadata": {
        "id": "rr_66XsU5olh",
        "colab_type": "text"
      },
      "source": [
        "**Quantidade de questoes feitas por aluno em cada prova**"
      ]
    },
    {
      "cell_type": "code",
      "metadata": {
        "id": "vK1h219s5q2U",
        "colab_type": "code",
        "colab": {}
      },
      "source": [
        "quantidadeProva = NotaMaxQuestaoProva.groupby([\"titulo\",\"idAluno\"]).count()\n",
        "quantidadeProva.rename(columns={\"quantidade\":\"questoesFeitas\"}, inplace=True)\n",
        "quantidadeProva = quantidadeProva.reset_index()\n",
        "quantidadeProva = quantidadeProva[[\"titulo\",\"idAluno\",\"questoesFeitas\"]]\n",
        "print(quantidadeProva.columns)\n",
        "quantidadeProva.head(1)"
      ],
      "execution_count": 0,
      "outputs": []
    },
    {
      "cell_type": "markdown",
      "metadata": {
        "id": "osBaz9iEAfjW",
        "colab_type": "text"
      },
      "source": [
        "**Nota final dos alunos por prova**"
      ]
    },
    {
      "cell_type": "code",
      "metadata": {
        "id": "M0B04UpNAerG",
        "colab_type": "code",
        "colab": {}
      },
      "source": [
        "NotaProva = NotaMaxQuestaoProva.groupby([\"titulo\",\"idAluno\"]).sum()\n",
        "NotaProva.rename(columns={\"porcentagemMaxima\":\"SomaProva\", \"quantidade\":\"questoesFeitas\"}, inplace=True)\n",
        "NotaProva = NotaProva.drop('ano',axis=1)\n",
        "NotaProva = NotaProva.reset_index()\n",
        "NotaProva = NotaProva[[\"titulo\",'idAluno','SomaProva']]\n",
        "print(NotaProva.columns)\n",
        "NotaProva.head(1)"
      ],
      "execution_count": 0,
      "outputs": []
    },
    {
      "cell_type": "code",
      "metadata": {
        "id": "Twd0004AqVov",
        "colab_type": "code",
        "colab": {
          "base_uri": "https://localhost:8080/",
          "height": 114
        },
        "outputId": "e687f4d3-0932-4036-e009-efd3df4e2595"
      },
      "source": [
        "mergeQuanNotaProva =  pd.merge(right= quantidadeProva, left = NotaProva, on=['idAluno','titulo'], how=\"inner\")\n",
        "print(mergeQuanNotaProva.columns)\n",
        "print(mergeQuanNotaProva.shape)\n",
        "mergeQuanNotaProva.head(1)\n"
      ],
      "execution_count": 100,
      "outputs": [
        {
          "output_type": "stream",
          "text": [
            "Index(['titulo', 'idAluno', 'SomaProva', 'questoesFeitas'], dtype='object')\n",
            "(1474, 4)\n"
          ],
          "name": "stdout"
        },
        {
          "output_type": "execute_result",
          "data": {
            "text/html": [
              "<div>\n",
              "<style scoped>\n",
              "    .dataframe tbody tr th:only-of-type {\n",
              "        vertical-align: middle;\n",
              "    }\n",
              "\n",
              "    .dataframe tbody tr th {\n",
              "        vertical-align: top;\n",
              "    }\n",
              "\n",
              "    .dataframe thead th {\n",
              "        text-align: right;\n",
              "    }\n",
              "</style>\n",
              "<table border=\"1\" class=\"dataframe\">\n",
              "  <thead>\n",
              "    <tr style=\"text-align: right;\">\n",
              "      <th></th>\n",
              "      <th>titulo</th>\n",
              "      <th>idAluno</th>\n",
              "      <th>SomaProva</th>\n",
              "      <th>questoesFeitas</th>\n",
              "    </tr>\n",
              "  </thead>\n",
              "  <tbody>\n",
              "    <tr>\n",
              "      <th>0</th>\n",
              "      <td>Prova 02 - Turmas 3A e 3B - 2018.1</td>\n",
              "      <td>59bf9b47e228af38d3ff3b6b</td>\n",
              "      <td>500.0</td>\n",
              "      <td>5</td>\n",
              "    </tr>\n",
              "  </tbody>\n",
              "</table>\n",
              "</div>"
            ],
            "text/plain": [
              "                               titulo  ... questoesFeitas\n",
              "0  Prova 02 - Turmas 3A e 3B - 2018.1  ...              5\n",
              "\n",
              "[1 rows x 4 columns]"
            ]
          },
          "metadata": {
            "tags": []
          },
          "execution_count": 100
        }
      ]
    },
    {
      "cell_type": "markdown",
      "metadata": {
        "id": "C_s8IVgAXF6t",
        "colab_type": "text"
      },
      "source": [
        "**Quantidade de questoes por prova**"
      ]
    },
    {
      "cell_type": "code",
      "metadata": {
        "id": "OPusXK7TXCpL",
        "colab_type": "code",
        "outputId": "2bfbb6af-839b-4993-d67e-09a9d66dea19",
        "colab": {
          "base_uri": "https://localhost:8080/",
          "height": 221
        }
      },
      "source": [
        "quantQuesProva = provaNovo[['quantidade',\"titulo\"]]\n",
        "quantQuesProva = quantQuesProva.drop_duplicates()\n",
        "print(quantQuesProva.shape)\n",
        "quantQuesProva.head()"
      ],
      "execution_count": 101,
      "outputs": [
        {
          "output_type": "stream",
          "text": [
            "(68, 2)\n"
          ],
          "name": "stdout"
        },
        {
          "output_type": "execute_result",
          "data": {
            "text/html": [
              "<div>\n",
              "<style scoped>\n",
              "    .dataframe tbody tr th:only-of-type {\n",
              "        vertical-align: middle;\n",
              "    }\n",
              "\n",
              "    .dataframe tbody tr th {\n",
              "        vertical-align: top;\n",
              "    }\n",
              "\n",
              "    .dataframe thead th {\n",
              "        text-align: right;\n",
              "    }\n",
              "</style>\n",
              "<table border=\"1\" class=\"dataframe\">\n",
              "  <thead>\n",
              "    <tr style=\"text-align: right;\">\n",
              "      <th></th>\n",
              "      <th>quantidade</th>\n",
              "      <th>titulo</th>\n",
              "    </tr>\n",
              "  </thead>\n",
              "  <tbody>\n",
              "    <tr>\n",
              "      <th>0</th>\n",
              "      <td>1</td>\n",
              "      <td>Questão 2, Prova 1 - Prof. Rummenigge</td>\n",
              "    </tr>\n",
              "    <tr>\n",
              "      <th>1</th>\n",
              "      <td>5</td>\n",
              "      <td>Prova 1 - Turma 01 - 2017.2</td>\n",
              "    </tr>\n",
              "    <tr>\n",
              "      <th>6</th>\n",
              "      <td>5</td>\n",
              "      <td>Prova 1 - Turma 03 - 2017.2</td>\n",
              "    </tr>\n",
              "    <tr>\n",
              "      <th>11</th>\n",
              "      <td>5</td>\n",
              "      <td>Prova 2 - Turma 03 - 2017.2</td>\n",
              "    </tr>\n",
              "    <tr>\n",
              "      <th>16</th>\n",
              "      <td>6</td>\n",
              "      <td>Prova 1 Vídeos - Turma 01 - 2017.2</td>\n",
              "    </tr>\n",
              "  </tbody>\n",
              "</table>\n",
              "</div>"
            ],
            "text/plain": [
              "    quantidade                                 titulo\n",
              "0            1  Questão 2, Prova 1 - Prof. Rummenigge\n",
              "1            5            Prova 1 - Turma 01 - 2017.2\n",
              "6            5            Prova 1 - Turma 03 - 2017.2\n",
              "11           5            Prova 2 - Turma 03 - 2017.2\n",
              "16           6     Prova 1 Vídeos - Turma 01 - 2017.2"
            ]
          },
          "metadata": {
            "tags": []
          },
          "execution_count": 101
        }
      ]
    },
    {
      "cell_type": "markdown",
      "metadata": {
        "id": "_u6TILExrpDz",
        "colab_type": "text"
      },
      "source": [
        "**Concatenando as informações das tabelas mergeQuanNotaProva e quantidade para calcular o nota final de cada prova**"
      ]
    },
    {
      "cell_type": "code",
      "metadata": {
        "id": "YGarqL02UYOw",
        "colab_type": "code",
        "colab": {}
      },
      "source": [
        "mergeQuanNotaProvaQuanQ = mergeQuanNotaProva.join(quantQuesProva.set_index('titulo'), on='titulo')\n",
        "mergeQuanNotaProvaQuanQ[\"notaProva\"]= mergeQuanNotaProvaQuanQ[\"SomaProva\"] /mergeQuanNotaProvaQuanQ['quantidade']\n",
        "print(mergeQuanNotaProvaQuanQ.columns)\n",
        "print(mergeQuanNotaProvaQuanQ.shape)\n",
        "mergeQuanNotaProvaQuanQ.head(3)"
      ],
      "execution_count": 0,
      "outputs": []
    },
    {
      "cell_type": "code",
      "metadata": {
        "id": "SDhhkIceuDAJ",
        "colab_type": "code",
        "colab": {
          "base_uri": "https://localhost:8080/",
          "height": 68
        },
        "outputId": "90b4f4fd-a5c5-4517-d372-16be2d3b53e2"
      },
      "source": [
        "mergeUseTurmasSubProvaM.columns "
      ],
      "execution_count": 108,
      "outputs": [
        {
          "output_type": "execute_result",
          "data": {
            "text/plain": [
              "Index(['tituloProva', 'idAluno', 'ano', 'descricaoTurma', 'idTurma',\n",
              "       'matricula', 'nome'],\n",
              "      dtype='object')"
            ]
          },
          "metadata": {
            "tags": []
          },
          "execution_count": 108
        }
      ]
    },
    {
      "cell_type": "code",
      "metadata": {
        "id": "xYJAvVXTuHyC",
        "colab_type": "code",
        "colab": {
          "base_uri": "https://localhost:8080/",
          "height": 68
        },
        "outputId": "3b60f702-81b8-4145-9338-35abbc494cf4"
      },
      "source": [
        "mergeQuanNotaProvaQuanM.columns"
      ],
      "execution_count": 109,
      "outputs": [
        {
          "output_type": "execute_result",
          "data": {
            "text/plain": [
              "Index(['tituloProva', 'idAluno', 'questoesFeitasProva', 'quantidadeProva',\n",
              "       'notaProva'],\n",
              "      dtype='object')"
            ]
          },
          "metadata": {
            "tags": []
          },
          "execution_count": 109
        }
      ]
    },
    {
      "cell_type": "markdown",
      "metadata": {
        "id": "HnBMV0STttB0",
        "colab_type": "text"
      },
      "source": [
        "**tabela final dos alunos por nota das provas**"
      ]
    },
    {
      "cell_type": "code",
      "metadata": {
        "id": "MfyRkUhitxQM",
        "colab_type": "code",
        "colab": {
          "base_uri": "https://localhost:8080/",
          "height": 374
        },
        "outputId": "5c6417a1-6c6c-4616-9408-bfa8e7ecee5a"
      },
      "source": [
        "mergeUseTurmasSubProva.rename(columns={'titulo':\"tituloProva\",\"quantidade\":\"quantidadeProva\"}, inplace=True)\n",
        "mergeUseTurmasSubProvaM = mergeUseTurmasSubProva[[\"tituloProva\",'idAluno', 'ano', 'descricaoTurma', 'idTurma','matricula','nome']]\n",
        "\n",
        "#Renomear as colunas da tabela Listas\n",
        "mergeQuanNotaProvaQuanQ.rename(columns={'titulo':\"tituloProva\",\"questoesFeitas\":\"questoesFeitasProva\",\"quantidade\":\"quantidadeProva\"}, inplace=True)\n",
        "mergeQuanNotaProvaQuanM = mergeQuanNotaProvaQuanQ[['tituloProva', 'idAluno','questoesFeitasProva', 'quantidadeProva','notaProva']]\n",
        "\n",
        "tabelaFinalProvas= mergeQuanNotaProvaQuanM.join(mergeUseTurmasSubProvaM.set_index(['tituloProva','idAluno']), on=['tituloProva','idAluno'])\n",
        "#remover as linhas duplicadas\n",
        "tabelaFinalProvas = tabelaFinalProvas.drop_duplicates()\n",
        "tabelaFinalProvas.head()"
      ],
      "execution_count": 107,
      "outputs": [
        {
          "output_type": "execute_result",
          "data": {
            "text/html": [
              "<div>\n",
              "<style scoped>\n",
              "    .dataframe tbody tr th:only-of-type {\n",
              "        vertical-align: middle;\n",
              "    }\n",
              "\n",
              "    .dataframe tbody tr th {\n",
              "        vertical-align: top;\n",
              "    }\n",
              "\n",
              "    .dataframe thead th {\n",
              "        text-align: right;\n",
              "    }\n",
              "</style>\n",
              "<table border=\"1\" class=\"dataframe\">\n",
              "  <thead>\n",
              "    <tr style=\"text-align: right;\">\n",
              "      <th></th>\n",
              "      <th>tituloProva</th>\n",
              "      <th>idAluno</th>\n",
              "      <th>questoesFeitasProva</th>\n",
              "      <th>quantidadeProva</th>\n",
              "      <th>notaProva</th>\n",
              "      <th>ano</th>\n",
              "      <th>descricaoTurma</th>\n",
              "      <th>idTurma</th>\n",
              "      <th>matricula</th>\n",
              "      <th>nome</th>\n",
              "    </tr>\n",
              "  </thead>\n",
              "  <tbody>\n",
              "    <tr>\n",
              "      <th>0</th>\n",
              "      <td>Prova 02 - Turmas 3A e 3B - 2018.1</td>\n",
              "      <td>59bf9b47e228af38d3ff3b6b</td>\n",
              "      <td>5</td>\n",
              "      <td>5</td>\n",
              "      <td>100.0</td>\n",
              "      <td>2017.2</td>\n",
              "      <td>LÓGICA DE PROGRAMAÇÃO - Turma 01C</td>\n",
              "      <td>598e15296d8650eb27d52e83</td>\n",
              "      <td>20170038590</td>\n",
              "      <td>emerson</td>\n",
              "    </tr>\n",
              "    <tr>\n",
              "      <th>0</th>\n",
              "      <td>Prova 02 - Turmas 3A e 3B - 2018.1</td>\n",
              "      <td>59bf9b47e228af38d3ff3b6b</td>\n",
              "      <td>5</td>\n",
              "      <td>5</td>\n",
              "      <td>100.0</td>\n",
              "      <td>2018.1</td>\n",
              "      <td>LÓGICA DE PROGRAMAÇÃO - Turma 03B</td>\n",
              "      <td>5ae079cd5c7ccb1a0c9f6043</td>\n",
              "      <td>20170038590</td>\n",
              "      <td>emerson</td>\n",
              "    </tr>\n",
              "    <tr>\n",
              "      <th>1</th>\n",
              "      <td>Prova 02 - Turmas 3A e 3B - 2018.1</td>\n",
              "      <td>59c96f42db4d4443c4f01484</td>\n",
              "      <td>4</td>\n",
              "      <td>5</td>\n",
              "      <td>46.6</td>\n",
              "      <td>2017.2</td>\n",
              "      <td>LÓGICA DE PROGRAMAÇÃO - Turma 03B</td>\n",
              "      <td>59c7cd0a2a9f7f114be24474</td>\n",
              "      <td>20170038732</td>\n",
              "      <td>Ana Carolina Augusto Pinheiro</td>\n",
              "    </tr>\n",
              "    <tr>\n",
              "      <th>1</th>\n",
              "      <td>Prova 02 - Turmas 3A e 3B - 2018.1</td>\n",
              "      <td>59c96f42db4d4443c4f01484</td>\n",
              "      <td>4</td>\n",
              "      <td>5</td>\n",
              "      <td>46.6</td>\n",
              "      <td>2018.1</td>\n",
              "      <td>LÓGICA DE PROGRAMAÇÃO - Turma 03A</td>\n",
              "      <td>5ae078b65c7ccb1a0c9f6042</td>\n",
              "      <td>20170038732</td>\n",
              "      <td>Ana Carolina Augusto Pinheiro</td>\n",
              "    </tr>\n",
              "    <tr>\n",
              "      <th>2</th>\n",
              "      <td>Prova 02 - Turmas 3A e 3B - 2018.1</td>\n",
              "      <td>5a9ff63c6e994c04109f0401</td>\n",
              "      <td>4</td>\n",
              "      <td>5</td>\n",
              "      <td>40.0</td>\n",
              "      <td>2018.1</td>\n",
              "      <td>LÓGICA DE PROGRAMAÇÃO - Turma 03A</td>\n",
              "      <td>5ae078b65c7ccb1a0c9f6042</td>\n",
              "      <td>20170115081</td>\n",
              "      <td>João Victor Fernandes Lopes</td>\n",
              "    </tr>\n",
              "  </tbody>\n",
              "</table>\n",
              "</div>"
            ],
            "text/plain": [
              "                          tituloProva  ...                           nome\n",
              "0  Prova 02 - Turmas 3A e 3B - 2018.1  ...                        emerson\n",
              "0  Prova 02 - Turmas 3A e 3B - 2018.1  ...                        emerson\n",
              "1  Prova 02 - Turmas 3A e 3B - 2018.1  ...  Ana Carolina Augusto Pinheiro\n",
              "1  Prova 02 - Turmas 3A e 3B - 2018.1  ...  Ana Carolina Augusto Pinheiro\n",
              "2  Prova 02 - Turmas 3A e 3B - 2018.1  ...    João Victor Fernandes Lopes\n",
              "\n",
              "[5 rows x 10 columns]"
            ]
          },
          "metadata": {
            "tags": []
          },
          "execution_count": 107
        }
      ]
    },
    {
      "cell_type": "code",
      "metadata": {
        "id": "IgIj52ScFnjp",
        "colab_type": "code",
        "colab": {}
      },
      "source": [
        "#def tabelaNotasProva(ano,turma):\n",
        "  #return renata\n",
        "  \n",
        "#tabelaProvas = tabelaNotasProva(2019.1,\"Turma 02A\")\n",
        "#tabelaProvas\n",
        "ano = 2019.1\n",
        "turma = \"02C\"\n",
        "titulo = \"Prova de Laboratório 1 : Turma 2B : 2019.1\"\n",
        "res = tabelaFinalProvas.loc[(tabelaFinalProvas[\"ano\"] == ano)  & (tabelaFinalProvas[\"descricaoTurma\"].str.contains(turma, regex=False)) & (tabelaFinalProvas[\"tituloProva\"].str.contains(titulo, regex=False)),\n",
        "                            #[\"tituloProva\",\"matricula\", \"nome\",\"notaProva\", \"quantidadeProva\", \"questoesFeitasProva\",\"descricaoTurma\",\"ano\", \"idAluno\",\t\"idTurma\"]]\n",
        "                            [\"matricula\", \"nome\",\"notaProva\", \"quantidadeProva\", \"questoesFeitasProva\"]]\n",
        "res.sort_values(\"nome\")"
      ],
      "execution_count": 0,
      "outputs": []
    },
    {
      "cell_type": "code",
      "metadata": {
        "id": "tpl9rfuIvr1b",
        "colab_type": "code",
        "colab": {
          "base_uri": "https://localhost:8080/",
          "height": 102
        },
        "outputId": "0629bab1-49ce-4090-cb12-c1f1bfafd3f7"
      },
      "source": [
        "res[\"tituloProva\"].unique()"
      ],
      "execution_count": 116,
      "outputs": [
        {
          "output_type": "execute_result",
          "data": {
            "text/plain": [
              "array(['Prova 1 - Turma 1 CD', 'Prova 1 - Turma 3B - 2018.2',\n",
              "       'Prova 1 - Turmas 3A e 3B', 'Prova 3 2018-2',\n",
              "       'Prova de Laboratório 1 : Turma 2A : 2019.1',\n",
              "       'Prova de Laboratório 1 : Turma 2B : 2019.1', 'teste'],\n",
              "      dtype=object)"
            ]
          },
          "metadata": {
            "tags": []
          },
          "execution_count": 116
        }
      ]
    },
    {
      "cell_type": "markdown",
      "metadata": {
        "id": "l12SJEbdxw07",
        "colab_type": "text"
      },
      "source": [
        "**Exportar o dataFrame para o arquivo CSV de Provas**"
      ]
    },
    {
      "cell_type": "code",
      "metadata": {
        "id": "m2q3UDLWx4BM",
        "colab_type": "code",
        "colab": {}
      },
      "source": [
        "#tabelaFinalT= tabelaFinal.drop('nome',axis=1)\n",
        "tabelaFinalProva.to_csv(r'lopUsuarioNotaProva.csv')"
      ],
      "execution_count": 0,
      "outputs": []
    },
    {
      "cell_type": "markdown",
      "metadata": {
        "id": "MZDaCnhQYoUk",
        "colab_type": "text"
      },
      "source": [
        "Codigo de gerar numero de questoes <100"
      ]
    },
    {
      "cell_type": "code",
      "metadata": {
        "id": "BANjPmyxYsOY",
        "colab_type": "code",
        "colab": {}
      },
      "source": [
        "table = pd.read_csv(\"https://github.com/repitta/CienciaDeDadosEducacionais/raw/master/arquivosCSV/lopUseTurmasSubLista.csv\")\n",
        "a= table.loc[table[\"porcentagemAcerto\"]<100,\"porcentagemAcerto\"]\n",
        "table[\"nQres\"]=a\n",
        "b = table.groupby(\"questao\")[\"nQres\"].sum().to_frame().reset_index().sort_values(by=\"nQres\")\n",
        "b.head()\n"
      ],
      "execution_count": 0,
      "outputs": []
    },
    {
      "cell_type": "markdown",
      "metadata": {
        "id": "vWs9HB_9Y7yt",
        "colab_type": "text"
      },
      "source": [
        "Numero de questoes submetidas por aluno "
      ]
    },
    {
      "cell_type": "code",
      "metadata": {
        "id": "b-ZRVWS7ZAbb",
        "colab_type": "code",
        "colab": {}
      },
      "source": [
        "table = pd.read_csv(\"https://github.com/repitta/CienciaDeDadosEducacionais/raw/master/arquivosCSV/lopUseTurmasSubLista.csv\")\n",
        "nQuestoes = table.groupby([\"idAluno\",\"idLista\",\"questao\"]).count()\n",
        "nQuestoes.rename(columns={\"quantidade\":\"nQuestoes\"},inplace=True)\n",
        "nQuestoes=nQuestoes.reset_index()\n",
        "nQuestoes=nQuestoes[[\"idAluno\",\"idLista\",\"questao\",\"nQuestoes\"]]\n",
        "nQuestoes.head()"
      ],
      "execution_count": 0,
      "outputs": []
    }
  ]
}