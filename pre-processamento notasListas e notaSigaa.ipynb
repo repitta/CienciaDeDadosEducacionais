{
  "nbformat": 4,
  "nbformat_minor": 0,
  "metadata": {
    "colab": {
      "name": "Análise LopUsuarioNota.ipynb",
      "provenance": [],
      "include_colab_link": true
    },
    "kernelspec": {
      "name": "python3",
      "display_name": "Python 3"
    }
  },
  "cells": [
    {
      "cell_type": "markdown",
      "metadata": {
        "id": "view-in-github",
        "colab_type": "text"
      },
      "source": [
        "<a href=\"https://colab.research.google.com/github/repitta/CienciaDeDadosEducacionais/blob/master/pre-processamento%20notasListas%20e%20notaSigaa.ipynb\" target=\"_parent\"><img src=\"https://colab.research.google.com/assets/colab-badge.svg\" alt=\"Open In Colab\"/></a>"
      ]
    },
    {
      "cell_type": "markdown",
      "metadata": {
        "id": "XGQpFL6A4nbc",
        "colab_type": "text"
      },
      "source": [
        "**Importando as Bibliotecas**"
      ]
    },
    {
      "cell_type": "code",
      "metadata": {
        "id": "Wt7tFqyv4XGZ",
        "colab_type": "code",
        "colab": {}
      },
      "source": [
        "import pandas as pd"
      ],
      "execution_count": 0,
      "outputs": []
    },
    {
      "cell_type": "markdown",
      "metadata": {
        "id": "epxJHQYb4s4x",
        "colab_type": "text"
      },
      "source": [
        "**Lendo o arquivo CSV lopUsuarioNota**"
      ]
    },
    {
      "cell_type": "code",
      "metadata": {
        "id": "-wG5f2GB41Ht",
        "colab_type": "code",
        "colab": {}
      },
      "source": [
        "# Ler o arquivo CSV \n",
        "lopNotasLista  = pd.read_csv(\"https://github.com/repitta/CienciaDeDadosEducacionais/raw/master/arquivosCSV/notasListas.csv\")"
      ],
      "execution_count": 0,
      "outputs": []
    },
    {
      "cell_type": "markdown",
      "metadata": {
        "id": "93JMoac55L4g",
        "colab_type": "text"
      },
      "source": [
        "**Estrutura do aquivo**"
      ]
    },
    {
      "cell_type": "code",
      "metadata": {
        "id": "QDs57tAs5O6S",
        "colab_type": "code",
        "outputId": "0adbbe74-42f1-435c-89b9-7fe1b16dce47",
        "colab": {
          "base_uri": "https://localhost:8080/",
          "height": 399
        }
      },
      "source": [
        "print(lopNotasLista.info())\n"
      ],
      "execution_count": 3,
      "outputs": [
        {
          "output_type": "stream",
          "text": [
            "<class 'pandas.core.frame.DataFrame'>\n",
            "RangeIndex: 7495 entries, 0 to 7494\n",
            "Data columns (total 15 columns):\n",
            "Unnamed: 0              7495 non-null int64\n",
            "titulo                  7495 non-null object\n",
            "idAluno                 7495 non-null object\n",
            "anoSubmissao            7495 non-null float64\n",
            "SomaLista               7495 non-null float64\n",
            "questoesFeitas          7495 non-null int64\n",
            "quantidadeTotalLista    7495 non-null float64\n",
            "NotaLista               7438 non-null float64\n",
            "anoLop                  7495 non-null float64\n",
            "turma                   7495 non-null object\n",
            "matricula               7495 non-null int64\n",
            "nome                    7495 non-null object\n",
            "notaSigaa               7495 non-null object\n",
            "situacao                7495 non-null object\n",
            "anoSigaa                7495 non-null float64\n",
            "dtypes: float64(6), int64(3), object(6)\n",
            "memory usage: 878.4+ KB\n",
            "None\n"
          ],
          "name": "stdout"
        }
      ]
    },
    {
      "cell_type": "markdown",
      "metadata": {
        "id": "Hw6g0Ygy5iCH",
        "colab_type": "text"
      },
      "source": [
        "**Pré-processamento**"
      ]
    },
    {
      "cell_type": "code",
      "metadata": {
        "id": "o2cYshi75tKA",
        "colab_type": "code",
        "colab": {}
      },
      "source": [
        "##Tabela lopNotasLista\n",
        "#excluir a coluna Unnamed\n",
        "lopNotasLista = lopNotasLista.drop(\"Unnamed: 0\", axis=1)\n",
        "#dividir a coluna NotasLista por 10 , pq elas estão em porcentagem\n",
        "lopNotasLista[\"NotaLista\"] = lopNotasLista[\"NotaLista\"] /10\n",
        "#colocar letra maiuscula na coluna nome\n",
        "lopNotasLista[\"nome\"] = lopNotasLista[\"nome\"].str.upper()\n",
        "lopNotasLista = lopNotasLista.loc[~lopNotasLista[\"titulo\"].str.contains(r\"^0\"),:]"
      ],
      "execution_count": 0,
      "outputs": []
    },
    {
      "cell_type": "code",
      "metadata": {
        "id": "Sy66hVYACg00",
        "colab_type": "code",
        "colab": {
          "base_uri": "https://localhost:8080/",
          "height": 381
        },
        "outputId": "c7618833-d0b4-4f6d-d881-73cfd6f53ba1"
      },
      "source": [
        "lopNotasLista[\"titulo\"].unique()"
      ],
      "execution_count": 5,
      "outputs": [
        {
          "output_type": "execute_result",
          "data": {
            "text/plain": [
              "array(['Lista 1.0 - Expressões aritméticas',\n",
              "       'Lista 1.2 - Funções aritméticas',\n",
              "       'Lista de Exercícios 1 - Expressões e variáveis',\n",
              "       'Lista de Exercícios 2 - Estruturas Condicionais',\n",
              "       'Lista de Exercícios 3 - Laço Condicional',\n",
              "       'Lista de Exercícios 4 - Laço contado',\n",
              "       'Lista de Exercícios 4.1 - Problemas tradicionais com repetição contada',\n",
              "       'Lista de Exercícios 5 - Vetores',\n",
              "       'Lista de Laboratório 1 - Expressões Aritméticas e Variáveis',\n",
              "       'Lista de Laboratório 2 - Expressões Lógicas e Estruturas de Seleção',\n",
              "       'Lista de Laboratório 3 -  Estruturas de Repetição Condicional',\n",
              "       'Lista de Laboratório 4 - Repetição Contada',\n",
              "       'Lista de Laboratório 5 - Vetores', 'Lista de Revisão Unidade 1',\n",
              "       'Prova 1 - Turma 09 - 2017.1', 'Prova 1 - Turma 3A - 2018.2',\n",
              "       'Prova 1 - Turma 3B - 2018.2', 'Prova 1 - Turma 3C - 2018.2',\n",
              "       'Prova 1 - Turma 3D - 2018.2', 'Prova 1 - Turmas 2A e 2B - 2018.1',\n",
              "       'Prova 1 - Turmas 2C e 2D - 2018.1',\n",
              "       'Prova 1 - Turmas 3C e 3D - 2018.1',\n",
              "       'Prova 2 - Turmas 2A e 2B - 2018.1',\n",
              "       'Prova 2 - Turmas 2C e 2D - 2018.1'], dtype=object)"
            ]
          },
          "metadata": {
            "tags": []
          },
          "execution_count": 5
        }
      ]
    },
    {
      "cell_type": "markdown",
      "metadata": {
        "id": "HBnpxu7ELfXr",
        "colab_type": "text"
      },
      "source": [
        "**Funcao para formar a tabela de notas de todas as listas de exercicios  por ano e por turma**"
      ]
    },
    {
      "cell_type": "code",
      "metadata": {
        "id": "yflcDtDzC16E",
        "colab_type": "code",
        "colab": {}
      },
      "source": [
        "def tabelaNotasListaAnoTurma(ano,turma):\n",
        "  colunas    = [\"matricula\",\"nome\"]\n",
        "  tabelaListas = pd.DataFrame(columns=colunas)\n",
        "  listas = [\"Exercícios 5\", \"Exercícios 4.1\", \"Exercícios 4 - \", \"Exercícios 3\", \"Exercícios 2\",\"Exercícios 1\",\n",
        "            \"Laboratório 5\",\"Laboratório 4\", \"Laboratório 3\", \"Laboratório 2\",\"Laboratório 1\"\n",
        "           ]\n",
        "  for l in listas:\n",
        "    notasTurma = lopNotasLista.loc[(lopNotasLista[\"anoSigaa\"] == ano) & (lopNotasLista[\"turma\"].str.contains(turma, regex=False)) &\n",
        "                 (lopNotasLista[\"titulo\"].str.contains(l, regex=False)),[\"matricula\",\"nome\",\"NotaLista\",\"questoesFeitas\"]]\n",
        "    notasTurma = notasTurma.sort_values(\"nome\")\n",
        "    tabelaListas = pd.merge(notasTurma,tabelaListas,on=['matricula','nome'], how=\"outer\") \n",
        "    \n",
        "  tabelaListas.columns = ['matricula', 'nome',\"lab1\",\"qLab1\", \"lab2\",\"qLab2\",\"lab3\",\"qLab3\",\"lab4\",\"qLab4\",\"lab5\",\"qLab5\",\"exe1\",\"qexe1\",\"exe2\",\"qexe2\",\n",
        "  \"exe3\",\"qexe3\",\"exe4\",\"qexe4\",\"exe4.1\",\"qexe4.1\",\"exe5\",\"qexe5\"]\n",
        "  tabelaListas = tabelaListas.drop_duplicates()\n",
        "  tabelaListas = tabelaListas.sort_values('nome')\n",
        "  return tabelaListas"
      ],
      "execution_count": 0,
      "outputs": []
    },
    {
      "cell_type": "code",
      "metadata": {
        "id": "-z1UASwmCt1L",
        "colab_type": "code",
        "colab": {}
      },
      "source": [
        "#retirar o semestre de 2019.2 pq os alunos não terminaram todas as listas\n",
        "lopNotasLista = lopNotasLista.loc[lopNotasLista[\"anoSigaa\"]!= 2019.2,:]"
      ],
      "execution_count": 0,
      "outputs": []
    },
    {
      "cell_type": "markdown",
      "metadata": {
        "id": "Shw6HmO8cRVR",
        "colab_type": "text"
      },
      "source": [
        "***Criar um arquivo csv com as notas das listas por turma***"
      ]
    },
    {
      "cell_type": "code",
      "metadata": {
        "id": "DW3NZNMWcN8b",
        "colab_type": "code",
        "colab": {}
      },
      "source": [
        "anos = lopNotasLista[\"anoSigaa\"].unique()\n",
        "turmas = lopNotasLista[\"turma\"].unique()\n",
        "tabelaTotal = pd.DataFrame()\n",
        "for a in anos:\n",
        "  for t in turmas:\n",
        "    tabelaLista = tabelaNotasListaAnoTurma(a,t)\n",
        "    tabelaTotal = pd.concat([tabelaTotal,tabelaLista], ignore_index =True)\n",
        "tabelaTotal"
      ],
      "execution_count": 0,
      "outputs": []
    },
    {
      "cell_type": "code",
      "metadata": {
        "id": "eKZj-IqQuFqT",
        "colab_type": "code",
        "colab": {}
      },
      "source": [
        "#juntas as tabelas com ficar as notas das listas e a nota final no sigaa\n",
        "notaSigaa = lopNotasLista[[\"anoSigaa\",\"matricula\",\"nome\",\"turma\", \"notaSigaa\",\"situacao\"]]\n",
        "mergeListasNotaSigaa = pd.merge(notaSigaa,tabelaTotal,on=['matricula','nome'], how=\"outer\") \n",
        "mergeListasNotaSigaa = mergeListasNotaSigaa.drop_duplicates()\n",
        "mergeListasNotaSigaa = mergeListasNotaSigaa.sort_values(by=[\"anoSigaa\",\"turma\",\"nome\"])"
      ],
      "execution_count": 0,
      "outputs": []
    },
    {
      "cell_type": "code",
      "metadata": {
        "id": "sF_WvV9DEfDL",
        "colab_type": "code",
        "colab": {}
      },
      "source": [
        "#Exportar o arquivo csv\n",
        "mergeListasNotaSigaa.to_csv(r\"ListasNotaSigaa.csv\")\n"
      ],
      "execution_count": 0,
      "outputs": []
    }
  ]
}