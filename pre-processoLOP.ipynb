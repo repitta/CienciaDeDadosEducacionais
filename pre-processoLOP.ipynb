{
  "nbformat": 4,
  "nbformat_minor": 0,
  "metadata": {
    "colab": {
      "name": "LOP.ipynb",
      "provenance": [],
      "collapsed_sections": [],
      "toc_visible": true,
      "include_colab_link": true
    },
    "kernelspec": {
      "name": "python3",
      "display_name": "Python 3"
    }
  },
  "cells": [
    {
      "cell_type": "markdown",
      "metadata": {
        "id": "view-in-github",
        "colab_type": "text"
      },
      "source": [
        "<a href=\"https://colab.research.google.com/github/repitta/CienciaDeDadosEducacionais/blob/master/pre-processoLOP.ipynb\" target=\"_parent\"><img src=\"https://colab.research.google.com/assets/colab-badge.svg\" alt=\"Open In Colab\"/></a>"
      ]
    },
    {
      "cell_type": "markdown",
      "metadata": {
        "id": "hwx4W4sEMVk9",
        "colab_type": "text"
      },
      "source": [
        "#<h1>Exploração dos dados do sistema LOP"
      ]
    },
    {
      "cell_type": "markdown",
      "metadata": {
        "id": "rJE6lkdSMliM",
        "colab_type": "text"
      },
      "source": [
        "Nesse projeto iremos fazer a análise exploratória de dados e suas representações visuais, que  engloba um conjunto de estatísticas quantitativas e gráficas que nos mostram as tendências, detectam comportamentos, testam a validade de hipóteses e fazem vários outros estudos.\n",
        "\n",
        "Para esta análise, vamos utilizar os dados fornecidos pelo sistema LOP - Plataforma de gerenciamento de exercícios de programação da Escola de Ciência e Tecnolgia da  Universidade Federal do Rio Grande do Norte (UFRN) e investigar os fatores que influenciam o desempenho dos alunos do Bacharelado em Ciência e Tecnologia.\n",
        "\n",
        "Assim, algumas questões que serão uma base para o nosso estudo podem ser levantadas:\n",
        "\n",
        "1. Como o sucesso dos alunos tem sido ao longo dos anos?\n",
        "2.  Uma configuração (tamanho, horário) da classe influencia  nesse desempenho?\n",
        "3. Quais habilidades são aprendidas pelos alunos? (Perseverança,  Raciocínio Lógico, Atenção aos detalhes, Pensamento Abstrato )\n",
        "4. Qual o perfil dos alunos?\n",
        "5. Quais os estilos de aprendizagem?\n",
        "6. E finalmente, qual a influência da  autorregulação da aprendizagem do aluno no seu redimento?\n",
        "\n",
        "\n",
        "\n",
        "\n",
        "E tendo respondido a essas perguntas que, ao longo deste trabalho, geraremos gráficos e tabelas que relacionam a média dos alunos e o número de alunos aprovados e reprovados desde 2017.2  a 2019.1 com elementos como:\n",
        "\n",
        "* O número de alunos por turma;\n",
        "* O turno de aula;\n",
        "* A quantidade de exercícios repondidos;\n",
        "*A frequência que o aluno responde as atividades;\n",
        "* E a quantidade de ausências de estudantes.\n",
        "*Quantidade de linhas do código? \n",
        "*número de acessos a uma determinada tarefa?\n",
        "*Sequência de acesso do conteúdo oferecido\n",
        "*Data e hora de acesso às atividades\n",
        "*notas do aluno;\n",
        "\n",
        "Tais dados serão compilados e assim gerar informações como atividades que os alunos mais atrasam, atividades em que os alunos possuem desempenho menor e conteúdos que são mais visualizados ou menos acessados."
      ]
    },
    {
      "cell_type": "markdown",
      "metadata": {
        "id": "OK6l92cNXhWO",
        "colab_type": "text"
      },
      "source": [
        "# Análise dos dados dos usuários do sistema LOP"
      ]
    },
    {
      "cell_type": "markdown",
      "metadata": {
        "id": "_ucU21OZ2Xfl",
        "colab_type": "text"
      },
      "source": [
        "O sistema LOP - Plataforma de gerenciamento de exercícios de programação da Escola de Ciência e Tecnolgia da Universidade Federal do Rio Grande do Norte (UFRN) disponibiliza o recurso **lop.user.csv**, uma base de dados com registro dos usuários cadastrados no sistema LOP desde o ano 2017.2.\n",
        "\n",
        "Para cada usuário há informações de _id, email, grupos.0, hash, listasFavoritas, matricula, nome, questoesFavoritas, salt e sigaa.turmas\n",
        "\n",
        "1. A variável  **_id indica**  o número único data indentificação do usuário no sistema.\n",
        "\n",
        "2. A variável  **email** armazena o endereço eletrônico informado pelo usuário\n",
        "\n",
        "3. A variável  **grupos.0** indica o papel o usuário no sistema. Porém essa coluna está com o mesmo valor para todos . USUARIO\n",
        "\n",
        "4. A variável  **hash** ...\n",
        "\n",
        "5. A variável **listasFavoritas** indica .... está coluna está em branco para todos os campos\n",
        "\n",
        "6. A variável  **matricula** indica o número de matricula informado pelo usuário\n",
        "\n",
        "7. A variável **nome** armazena os nomes dos usuários\n",
        "\n",
        "8. A variável **questoesFavoritas** indica quais as questões o usuário classificou como favorita\n",
        "\n",
        "9. A variável **salt** ...\n",
        "\n",
        "10. A variável **sigaa.turmas** ...\n",
        "\n",
        "O nosso dataset tem 49 colunas e 1067 linhas\n",
        "\n",
        "\n"
      ]
    },
    {
      "cell_type": "markdown",
      "metadata": {
        "id": "vJhnFyTsXsi6",
        "colab_type": "text"
      },
      "source": [
        "#Análise dos dados das turmas do sistema LOP"
      ]
    },
    {
      "cell_type": "markdown",
      "metadata": {
        "id": "HApR0AZE7yyA",
        "colab_type": "text"
      },
      "source": [
        "O sistema LOP - Plataforma de gerenciamento de exercícios de programação da Escola de Ciência e Tecnolgia da Universidade Federal do Rio Grande do Norte (UFRN) disponibiliza o recurso **lop.turmas.csv**, uma base de dados com registro das turmas cadastradas no sistema LOP desde o ano 2017.2.\n",
        "\n",
        "Para cada turma há informações 355 colunas . Muitas dessas informações foram exportadas do SIGAA e não são releventes para a pesquisa. Vamos descrever as variáveis que serão utilizadas no estudo.\n",
        "\n",
        "1. A variável **_id armazena** o número único para identificar cada turma cadastrada\n",
        "2. A variável **anoPeriodoString** armazena o ano e o respectivo período: .1 para o primeiro sementre .2 para o segundo sementre\n",
        "3. A variável **descricaoTurma** armazena o nome da disciplina e o nome da turma\n",
        "4. A variável **qtdMatriculados** armazena a quantidade de alunos matriculados em cada turma, tem muitos obejtos faltantes , não foi utilizado no estudo\n",
        "5. A variável **horariosTurma.0.descricaoTurno** armazena o período que a turma foi oferdada : Manhã, Tarde ou Noite, tem muito objetos faltantes, não foi utilizadono estudo.\n",
        "6. A variável **matrícula** armazena a matricula do usuário\n",
        "\n",
        "O nosso dataset tem 355 colunas e 48 linhas"
      ]
    },
    {
      "cell_type": "markdown",
      "metadata": {
        "id": "JoiuIwBEXxbz",
        "colab_type": "text"
      },
      "source": [
        "# Análise dos dados das listas de questões do sistema Lop"
      ]
    },
    {
      "cell_type": "markdown",
      "metadata": {
        "id": "62BdGAvqEcb7",
        "colab_type": "text"
      },
      "source": [
        "\n",
        "\n",
        "O sistema LOP - Plataforma de gerenciamento de exercícios de programação da Escola de Ciência e Tecnolgia da Universidade Federal do Rio Grande do Norte (UFRN) disponibiliza o recurso **lop.listasExercicios.csv**, uma base de dados com registro das listas de exercícios cadastradas no sistema LOP desde o ano 2017.2.\n",
        "\n",
        "Para cada lista de questões há informações  _id, likes, questoes, titulo.\n",
        "\n",
        "1. A variável **_id** é um número único que idenfifica cada lista de questões\n",
        "2. A variável **likes** ... está coluna está toda zerada\n",
        "3.A variável  **questões** armazena o número único para cada questão cadastrada\n",
        "4. a variável **titulo** armazena o titulo de cada questão\n",
        "\n",
        "O nosso dataset tem 23 colunas e 23 linhas"
      ]
    },
    {
      "cell_type": "markdown",
      "metadata": {
        "id": "MSxoUSh9X2Wf",
        "colab_type": "text"
      },
      "source": [
        "#Análise dos dados das submissões das questões do sistema Lop"
      ]
    },
    {
      "cell_type": "markdown",
      "metadata": {
        "id": "OEkqnhzK45BH",
        "colab_type": "text"
      },
      "source": [
        "\n",
        "\n",
        "O sistema LOP - Plataforma de gerenciamento de exercícios de programação da Escola de Ciência e Tecnolgia da Universidade Federal do Rio Grande do Norte (UFRN) disponibiliza o recurso **lop.submissoes.csv**, uma base de dados com registro das listas de exercícios cadastradas no sistema LOP desde o ano 2017.2.\n",
        "\n",
        "Para cada submissão há informações _id, codigo, data, porcentagemAcerto, questao.\n",
        "\n",
        "1. A variável **_id**  armazena um número único da submissão de uma questão por aluno\n",
        "2. A variável **codigo** armazena o código que foi feito pelo aluno\n",
        "3. A variável **data** armazena data e hora de cada submissão\n",
        "4. A variável **porcentagemAcerto** armazena o valor da porcentagem de acerto de cada questão submetida\n",
        "5. A variável **questao** armazena o id da questão que foi submetida\n",
        "\n",
        "O nosso dataset tem 55  colunas e 33421 linhas"
      ]
    },
    {
      "cell_type": "markdown",
      "metadata": {
        "id": "Nv4Lapt4X6Mb",
        "colab_type": "text"
      },
      "source": [
        "# Modelando os dados"
      ]
    },
    {
      "cell_type": "markdown",
      "metadata": {
        "id": "f9DznxXXZeo-",
        "colab_type": "text"
      },
      "source": [
        "**Importa as bibliotecas**"
      ]
    },
    {
      "cell_type": "code",
      "metadata": {
        "id": "HLNKmDjRZYW-",
        "colab_type": "code",
        "colab": {}
      },
      "source": [
        "import pandas as pd\n",
        "from csv import reader\n",
        "import numpy as np"
      ],
      "execution_count": 0,
      "outputs": []
    },
    {
      "cell_type": "markdown",
      "metadata": {
        "id": "hUpgEIjtZzeR",
        "colab_type": "text"
      },
      "source": [
        "**Lendo os arquivos CSV do Lop e definindo os tipos de cada coluna**"
      ]
    },
    {
      "cell_type": "code",
      "metadata": {
        "id": "UEVdkG942Q2o",
        "colab_type": "code",
        "outputId": "9d56db16-4849-42c1-c998-47daf9c507f7",
        "colab": {
          "base_uri": "https://localhost:8080/",
          "height": 71
        }
      },
      "source": [
        "#Tipos de dados em cada coluna\n",
        "typeUser   = {\"_id\":str, \"matricula\":str, \"nome\":str}\n",
        "typeTurmas = {\"_id\":str, 'anoPeriodoString':np.float, 'descricaoTurma':str}\n",
        "typeLista  = {\"_id\":str,\"titulo\":str,\"questao\":str}\n",
        "typeSub    = {\"porcentagemAcerto\":np.int,\"user\":str} \n",
        "         \n",
        "# Ler os arquivos CSV que foram gerados a partir do banco de dados do sistema LOP\n",
        "lopUsers     = pd.read_csv(\"https://github.com/repitta/CienciaDeDadosEducacionais/raw/master/arquivosCSV/lop_db_2019_09_csv/lop.users.csv\",dtype=typeUser)\n",
        "lopTurmas    = pd.read_csv(\"https://raw.githubusercontent.com/repitta/CienciaDeDadosEducacionais/master/arquivosCSV/lop_db_2019_09_csv/lop.turmas.csv\",dtype=typeTurmas)\n",
        "lopListas    = pd.read_csv(\"https://raw.githubusercontent.com/repitta/CienciaDeDadosEducacionais/master/arquivosCSV/lop_db_2019_09_csv/lop.listasExercicios.csv\",dtype=typeLista) \n",
        "#Arquivo muito grande !! não tem como colocar no git\n",
        "#lopSub      = pd.read_csv(\"https://github.com/repitta/CienciaDeDadosEducacionais/raw/master/arquivosCSV/lop.submissoes.csv\",dtype=typeSub)\n",
        "lopSub       = pd.read_csv(\"lop.submissoes.csv\",dtype=typeSub)\n",
        "#lopProvas    = pd.read_csv(\"https://raw.githubusercontent.com/repitta/CienciaDeDadosEducacionais/master/arquivosCSV/lop.provas.csv\")\n",
        "#lopSubProvas = pd.read_csv(\"https://github.com/repitta/CienciaDeDadosEducacionais/raw/master/arquivosCSV/lop.submissoesProva.csv\")\n",
        "\n",
        "\n",
        "#definindo a coluna data as tabelas para o formato datetime do pandas\n",
        "lopSub[\"data\"]       = pd.to_datetime(lopSub[\"data\"], format = \"%Y/%m/%dT%H:%M:%S\")\n",
        "#lopSubProvas[\"data\"] = pd.to_datetime(lopSubProvas[\"data\"], format = \"%Y/%m/%dT%H:%M:%S\")"
      ],
      "execution_count": 47,
      "outputs": [
        {
          "output_type": "stream",
          "text": [
            "/usr/local/lib/python3.6/dist-packages/IPython/core/interactiveshell.py:2718: DtypeWarning: Columns (51,55,59) have mixed types. Specify dtype option on import or set low_memory=False.\n",
            "  interactivity=interactivity, compiler=compiler, result=result)\n"
          ],
          "name": "stderr"
        }
      ]
    },
    {
      "cell_type": "markdown",
      "metadata": {
        "id": "_S6RZEUATWZ1",
        "colab_type": "text"
      },
      "source": [
        "**Selecionar as colunas com os dados que serão utilizados no estudo**"
      ]
    },
    {
      "cell_type": "code",
      "metadata": {
        "id": "kB7_XugX8I1s",
        "colab_type": "code",
        "outputId": "a09f75b3-5a98-4ab5-edbb-b5e869921f3a",
        "colab": {
          "base_uri": "https://localhost:8080/",
          "height": 54
        }
      },
      "source": [
        "#Tabela Usuários - tab_user armazena as colunas \"_id\", \"matricula\", \"nome\" \n",
        "tabUser = lopUsers.loc[:,[\"_id\", \"matricula\", \"nome\"]].copy()\n",
        "\n",
        "#Tabela Turmas - tab_turmas armazena as colunas \"_id\", \"anoPeriodoString\",\"descricaoTurma\", \"matricula\"\n",
        "tabTurmas = lopTurmas.loc[:,[\"_id\", \"anoPeriodoString\",\"descricaoTurma\"]].copy()\n",
        "matricula = []\n",
        "turno     = []\n",
        "for j in range(len(tabTurmas)):\n",
        "  idMatriculat = []\n",
        "  for i in range(30):\n",
        "    idMatriculat.append(lopTurmas.loc[:,\"dicentes.\"+str(i)+\".matricula\"][j])\n",
        "  matricula.append(idMatriculat)                     \n",
        "tabTurmas.loc[:,\"matricula\"] = pd.Series(matricula)\n",
        "\n",
        "#Tabela Listas - tab_listas armazena as colunas \"id\",\"questoes, titulo\"\n",
        "tabListas = lopListas.loc[:,[\"_id\",\"titulo\"]].copy()\n",
        "idLista   = []\n",
        "for j in range(len(tabListas)):\n",
        "  idQuestoes =[]\n",
        "  for i in range(16):\n",
        "    idQuestoes.append(lopListas.loc[:,\"questoes.\"+str(i)][j])\n",
        "  idLista.append(idQuestoes)\n",
        "tabListas.loc[:,\"questao\"] = pd.Series(idLista)\n",
        "\n",
        "#Tabela SubmissoesLista - taSub armazena as colunas \"data\",\"porcentagemAcerto\",\"questao\", \"user\"\n",
        "tabSub = lopSub.loc[:,[\"data\",\"porcentagemAcerto\",\"questao\", \"user\"]].copy()\n",
        "tabSub.rename(columns={\"user\":\"idAluno\"}, inplace=True)\n",
        "\n",
        "'''\n",
        "#Tabela Provas - lopProvas armazena as colunas \"_id\",\"questao\",\"titulo\",\"iniciou\n",
        "tabProvas = lopProvas.loc[:,[\"_id\", \"titulo\",\"iniciou\"]].copy()\n",
        "questao   = []\n",
        "turma     = []\n",
        "for j in range(len(tabProvas)):\n",
        "  idQuestaot = []\n",
        "  idTurmat  = []\n",
        "  for i in range(8):\n",
        "    idTurmat.append(lopProvas.loc[:,\"turmas.\"+str(i)][j])\n",
        "    if i <=5 :\n",
        "      idQuestaot.append(lopProvas.loc[:,\"questoes.\"+str(i)][j]) \n",
        "  questao.append(idQuestaot)\n",
        "  turma.append(idTurmat)\n",
        "tabProvas.loc[:,\"questao\"] = pd.Series(questao)\n",
        "tabProvas.loc[:,\"turma\"]   = pd.Series(turma)\n",
        "\n",
        "#Tabela SubmissoesProva - tabSubProvas armazena as colunas \n",
        "tabSubProvas = lopSubProvas.loc[:,[\"_id\", \"data\", \"porcentagemAcerto\", \"prova\", \"questao\",\"user\"]].copy()\n",
        "#renomear as colunas de tabSubProvas\n",
        "tabSubProvas.rename(columns={\"_id\":\"idSubmissao\",\"prova\":\"idProva\",\"questao\":\"idQuestao\",\"user\":\"idAluno\"}, inplace=True)\n",
        "'''"
      ],
      "execution_count": 48,
      "outputs": [
        {
          "output_type": "execute_result",
          "data": {
            "text/plain": [
              "'\\n#Tabela Provas - lopProvas armazena as colunas \"_id\",\"questao\",\"titulo\",\"iniciou\\ntabProvas = lopProvas.loc[:,[\"_id\", \"titulo\",\"iniciou\"]].copy()\\nquestao   = []\\nturma     = []\\nfor j in range(len(tabProvas)):\\n  idQuestaot = []\\n  idTurmat  = []\\n  for i in range(8):\\n    idTurmat.append(lopProvas.loc[:,\"turmas.\"+str(i)][j])\\n    if i <=5 :\\n      idQuestaot.append(lopProvas.loc[:,\"questoes.\"+str(i)][j]) \\n  questao.append(idQuestaot)\\n  turma.append(idTurmat)\\ntabProvas.loc[:,\"questao\"] = pd.Series(questao)\\ntabProvas.loc[:,\"turma\"]   = pd.Series(turma)\\n\\n#Tabela SubmissoesProva - tabSubProvas armazena as colunas \\ntabSubProvas = lopSubProvas.loc[:,[\"_id\", \"data\", \"porcentagemAcerto\", \"prova\", \"questao\",\"user\"]].copy()\\n#renomear as colunas de tabSubProvas\\ntabSubProvas.rename(columns={\"_id\":\"idSubmissao\",\"prova\":\"idProva\",\"questao\":\"idQuestao\",\"user\":\"idAluno\"}, inplace=True)\\n'"
            ]
          },
          "metadata": {
            "tags": []
          },
          "execution_count": 48
        }
      ]
    },
    {
      "cell_type": "markdown",
      "metadata": {
        "id": "QaM3VVsfbXve",
        "colab_type": "text"
      },
      "source": [
        "**Estrutura da cada dataframe após a seleção dos dados**"
      ]
    },
    {
      "cell_type": "code",
      "metadata": {
        "id": "Kp3c-G-NbWjb",
        "colab_type": "code",
        "outputId": "05750d79-401c-4ffb-b533-ff9ea2e7fbfa",
        "colab": {
          "base_uri": "https://localhost:8080/",
          "height": 153
        }
      },
      "source": [
        "print(\"Tabelas de Usuários Colunas        \\n\",tabUser.columns,      tabUser.shape)\n",
        "print(\"Tabelas de Turmas Colunas          \\n\",tabTurmas.columns,    tabTurmas.shape)\n",
        "print(\"Tabelas de Listas Colunas          \\n\",tabListas.columns,    tabListas.shape)\n",
        "print(\"Tabelas de SubmissoesLista Colunas \\n\",tabSub.columns,       tabSub.shape)\n",
        "#print(\"Tabelas de Provas Colunas          \\n\",tabProvas.columns,    tabProvas.shape)\n",
        "#print(\"Tabelas de SubmissoesProvas Colunas\\n\",tabSubProvas.columns, tabSubProvas.shape)"
      ],
      "execution_count": 49,
      "outputs": [
        {
          "output_type": "stream",
          "text": [
            "Tabelas de Usuários Colunas        \n",
            " Index(['_id', 'matricula', 'nome'], dtype='object') (1422, 3)\n",
            "Tabelas de Turmas Colunas          \n",
            " Index(['_id', 'anoPeriodoString', 'descricaoTurma', 'matricula'], dtype='object') (60, 4)\n",
            "Tabelas de Listas Colunas          \n",
            " Index(['_id', 'titulo', 'questao'], dtype='object') (25, 3)\n",
            "Tabelas de SubmissoesLista Colunas \n",
            " Index(['data', 'porcentagemAcerto', 'questao', 'idAluno'], dtype='object') (49293, 4)\n"
          ],
          "name": "stdout"
        }
      ]
    },
    {
      "cell_type": "markdown",
      "metadata": {
        "id": "eDnUAuV9QQk_",
        "colab_type": "text"
      },
      "source": [
        "**Transformar os dados da tabela User**"
      ]
    },
    {
      "cell_type": "code",
      "metadata": {
        "id": "sJXKBef0QirB",
        "colab_type": "code",
        "outputId": "c631006b-c0c8-420f-ce36-96c29a9c8e6c",
        "colab": {
          "base_uri": "https://localhost:8080/",
          "height": 272
        }
      },
      "source": [
        "#renomeando a coluna _id para idAluno\n",
        "tabUser.rename(columns={\"_id\":\"idAluno\"}, inplace=True)\n",
        "\n",
        "#Limpando a coluna matricula, onde tem .0 no final da matricula foi retirado\n",
        "tabUser.loc[:,\"matricula\"] = tabUser.loc[:,\"matricula\"].str.replace(\".0\",\"\",regex=False).copy()\n",
        "\n",
        "#imprimir os dados da tabela User\n",
        "print(tabUser.info())\n",
        "print(tabUser.head())"
      ],
      "execution_count": 50,
      "outputs": [
        {
          "output_type": "stream",
          "text": [
            "<class 'pandas.core.frame.DataFrame'>\n",
            "RangeIndex: 1422 entries, 0 to 1421\n",
            "Data columns (total 3 columns):\n",
            "idAluno      1422 non-null object\n",
            "matricula    1421 non-null object\n",
            "nome         1422 non-null object\n",
            "dtypes: object(3)\n",
            "memory usage: 33.4+ KB\n",
            "None\n",
            "                    idAluno    matricula                           nome\n",
            "0  598cd5453bc48946977dcf66   2013023070               Gabriel Tibúrcio\n",
            "1  598cd8b823daeb4b50a4b254      1943220                       Orivaldo\n",
            "2  599155ebb3333c31b7a01e5b     12345678                 Professor João\n",
            "3  5991cb910be9d42f2f68b906  20170039453                         Amanda\n",
            "4  5991cd1a8907ca2f441cd313  20170038394  Emanuel Fernandes P. da Rocha\n"
          ],
          "name": "stdout"
        }
      ]
    },
    {
      "cell_type": "markdown",
      "metadata": {
        "id": "qY7YVa_vAKMh",
        "colab_type": "text"
      },
      "source": [
        "**Expandi a tabela turmas para que cada aluno seja uma linha do dataframe**"
      ]
    },
    {
      "cell_type": "code",
      "metadata": {
        "id": "XeYh8StTIoWs",
        "colab_type": "code",
        "outputId": "252fd8a9-27f5-4a36-9f21-8cdd1666dd30",
        "colab": {
          "base_uri": "https://localhost:8080/",
          "height": 187
        }
      },
      "source": [
        "colunas    = [\"idTurma\",\"ano\",\"descricaoTurma\",\"matricula\"]\n",
        "turmasNovo = pd.DataFrame(columns=colunas)\n",
        "for i in range(tabTurmas.shape[0]):\n",
        "  idTurma        = tabTurmas[\"_id\"].iloc[i]\n",
        "  ano            = tabTurmas[\"anoPeriodoString\"].iloc[i]\n",
        "  descricaoTurma = tabTurmas[\"descricaoTurma\"].iloc[i]\n",
        "  m              = tabTurmas[\"matricula\"].iloc[i]\n",
        "  for a in range(30):\n",
        "    matricula  = m[a]\n",
        "    dic        = {\"idTurma\": idTurma ,\"ano\": ano ,\"descricaoTurma\":descricaoTurma,\"matricula\":matricula}\n",
        "    turmasNovo = pd.concat([turmasNovo, pd.DataFrame(dic, index=[0])],  ignore_index=True, sort = False )\n",
        "    \n",
        "print(turmasNovo.shape)\n",
        "turmasNovo.info()"
      ],
      "execution_count": 51,
      "outputs": [
        {
          "output_type": "stream",
          "text": [
            "(1800, 4)\n",
            "<class 'pandas.core.frame.DataFrame'>\n",
            "RangeIndex: 1800 entries, 0 to 1799\n",
            "Data columns (total 4 columns):\n",
            "idTurma           1800 non-null object\n",
            "ano               1800 non-null float64\n",
            "descricaoTurma    1800 non-null object\n",
            "matricula         1354 non-null object\n",
            "dtypes: float64(1), object(3)\n",
            "memory usage: 56.3+ KB\n"
          ],
          "name": "stdout"
        }
      ]
    },
    {
      "cell_type": "markdown",
      "metadata": {
        "id": "i2lr8ckEmeGq",
        "colab_type": "text"
      },
      "source": [
        "**Apagar os registros onde o campo da coluna Matricula é nulo**"
      ]
    },
    {
      "cell_type": "code",
      "metadata": {
        "id": "ERu1FnXNmdve",
        "colab_type": "code",
        "outputId": "e1e55a0b-cab0-4516-fe38-4a252390b635",
        "colab": {
          "base_uri": "https://localhost:8080/",
          "height": 187
        }
      },
      "source": [
        "turmasNovo = turmasNovo.dropna(axis=0, how='any')\n",
        "print(turmasNovo.shape)\n",
        "turmasNovo.info()"
      ],
      "execution_count": 52,
      "outputs": [
        {
          "output_type": "stream",
          "text": [
            "(1354, 4)\n",
            "<class 'pandas.core.frame.DataFrame'>\n",
            "Int64Index: 1354 entries, 0 to 1779\n",
            "Data columns (total 4 columns):\n",
            "idTurma           1354 non-null object\n",
            "ano               1354 non-null float64\n",
            "descricaoTurma    1354 non-null object\n",
            "matricula         1354 non-null object\n",
            "dtypes: float64(1), object(3)\n",
            "memory usage: 52.9+ KB\n"
          ],
          "name": "stdout"
        }
      ]
    },
    {
      "cell_type": "markdown",
      "metadata": {
        "id": "WpkOMzzEnRTl",
        "colab_type": "text"
      },
      "source": [
        "**Transformar os dados da tabela Turmas**"
      ]
    },
    {
      "cell_type": "code",
      "metadata": {
        "id": "s7ugdXsFnMlb",
        "colab_type": "code",
        "outputId": "11b78ed9-3b1d-43c1-ca95-26b7117762dd",
        "colab": {
          "base_uri": "https://localhost:8080/",
          "height": 323
        }
      },
      "source": [
        "#Retirando o .0 da coluna matricula\n",
        "turmasNovo[\"matricula\"] = turmasNovo[\"matricula\"].astype(str)\n",
        "turmasNovo[\"matricula\"] = turmasNovo[\"matricula\"].str.replace(\".0\",\"\",regex=False)\n",
        "\n",
        "print(turmasNovo.info())\n",
        "print(turmasNovo.head()) "
      ],
      "execution_count": 53,
      "outputs": [
        {
          "output_type": "stream",
          "text": [
            "<class 'pandas.core.frame.DataFrame'>\n",
            "Int64Index: 1354 entries, 0 to 1779\n",
            "Data columns (total 4 columns):\n",
            "idTurma           1354 non-null object\n",
            "ano               1354 non-null float64\n",
            "descricaoTurma    1354 non-null object\n",
            "matricula         1354 non-null object\n",
            "dtypes: float64(1), object(3)\n",
            "memory usage: 52.9+ KB\n",
            "None\n",
            "                    idTurma  ...    matricula\n",
            "0  598e15296d8650eb27d52e3d  ...  20170106538\n",
            "1  598e15296d8650eb27d52e3d  ...  20170039453\n",
            "2  598e15296d8650eb27d52e3d  ...  20170044776\n",
            "3  598e15296d8650eb27d52e3d  ...  20170031473\n",
            "4  598e15296d8650eb27d52e3d  ...  20170032274\n",
            "\n",
            "[5 rows x 4 columns]\n"
          ],
          "name": "stdout"
        }
      ]
    },
    {
      "cell_type": "markdown",
      "metadata": {
        "id": "9JaP_RccBmOM",
        "colab_type": "text"
      },
      "source": [
        "**TESTE : Tem matriculas em mais de uma turma**"
      ]
    },
    {
      "cell_type": "code",
      "metadata": {
        "id": "8v0yHpts_EUw",
        "colab_type": "code",
        "outputId": "89c2d0d5-d57f-4ecf-c537-3e00cd94428f",
        "colab": {
          "base_uri": "https://localhost:8080/",
          "height": 1000
        }
      },
      "source": [
        "#total de matriculas únicas \n",
        "print(\"Total de matriculas únicas: \",  turmasNovo[\"matricula\"].unique().shape)\n",
        "resultado = turmasNovo.groupby([\"matricula\"]).count()\n",
        "resultado = resultado.reset_index()\n",
        "print(resultado.loc[resultado[\"idTurma\"]==2,\"matricula\"])\n",
        "# tem 917 matriculas em estão em apenas 1 turma \n",
        "# tem 80 matriculas que estão em 2 turmas cadastradas\n",
        "# tem 14 matriculas que estão em 3 turmas cadastradas\n",
        "\n"
      ],
      "execution_count": 54,
      "outputs": [
        {
          "output_type": "stream",
          "text": [
            "Total de matriculas únicas:  (1205,)\n",
            "7       2014084928\n",
            "9       2014085219\n",
            "23     20150121152\n",
            "26     20150126130\n",
            "27     20150126140\n",
            "32     20150131810\n",
            "43      2015092890\n",
            "48     20160002781\n",
            "50     20160100853\n",
            "56     20160107148\n",
            "60     20160107881\n",
            "68     20160109062\n",
            "83     20160141810\n",
            "90     20160142290\n",
            "92     20160142497\n",
            "98     20160143369\n",
            "105    20160146191\n",
            "107    20160146290\n",
            "117    20160158020\n",
            "128     2016018995\n",
            "139     2016053573\n",
            "140     2016090183\n",
            "142     2016090666\n",
            "145     2016094923\n",
            "149     2016097620\n",
            "151     2016098440\n",
            "152     2016098708\n",
            "174    20170030959\n",
            "176    20170030995\n",
            "196    20170032013\n",
            "          ...     \n",
            "629    20180031412\n",
            "637    20180031691\n",
            "646    20180032115\n",
            "678    20180033776\n",
            "681    20180033954\n",
            "687    20180034497\n",
            "691    20180034639\n",
            "695    20180034970\n",
            "698    20180035313\n",
            "730    20180037695\n",
            "761    20180039715\n",
            "762    20180039733\n",
            "791    20180042597\n",
            "812    20180044170\n",
            "813    20180087650\n",
            "848    20180106845\n",
            "852    20180107065\n",
            "865    20180108142\n",
            "894    20180110866\n",
            "897    20180128029\n",
            "909    20180134723\n",
            "912    20180134812\n",
            "924    20180135097\n",
            "930    20180135195\n",
            "933    20180135257\n",
            "955    20180135696\n",
            "965    20180136399\n",
            "968    20180146205\n",
            "970    20180146250\n",
            "988    20180156613\n",
            "Name: matricula, Length: 109, dtype: object\n"
          ],
          "name": "stdout"
        }
      ]
    },
    {
      "cell_type": "markdown",
      "metadata": {
        "id": "Z4XsPWbVP0s7",
        "colab_type": "text"
      },
      "source": [
        "**TESTE : Montar uma turma por ano e descrição**"
      ]
    },
    {
      "cell_type": "code",
      "metadata": {
        "id": "IjdbNngucif0",
        "colab_type": "code",
        "outputId": "4386759b-7640-4ddc-b86d-d7bf35b61ac0",
        "colab": {
          "base_uri": "https://localhost:8080/",
          "height": 238
        }
      },
      "source": [
        "turmasNovoAno=turmasNovo.loc[turmasNovo[\"ano\"] == 2019.1, [\"matricula\",\"descricaoTurma\",\"ano\"]] \n",
        "turmaDescricao = turmasNovoAno.loc[turmasNovoAno[\"descricaoTurma\"].str.contains('Turma 03D', regex=False), [\"matricula\",\"descricaoTurma\",\"ano\"]]\n",
        "print(turmaDescricao.sort_values(by=['matricula']))\n",
        "print(\"Quantidade de alunos \", turmaDescricao.shape)"
      ],
      "execution_count": 55,
      "outputs": [
        {
          "output_type": "stream",
          "text": [
            "        matricula                     descricaoTurma     ano\n",
            "1419  20150126140  LÓGICA DE PROGRAMAÇÃO - Turma 03D  2019.1\n",
            "1418  20170138916  LÓGICA DE PROGRAMAÇÃO - Turma 03D  2019.1\n",
            "1415  20180032572  LÓGICA DE PROGRAMAÇÃO - Turma 03D  2019.1\n",
            "1413  20180034595  LÓGICA DE PROGRAMAÇÃO - Turma 03D  2019.1\n",
            "1411  20180035959  LÓGICA DE PROGRAMAÇÃO - Turma 03D  2019.1\n",
            "1414  20180038333  LÓGICA DE PROGRAMAÇÃO - Turma 03D  2019.1\n",
            "1412  20180042013  LÓGICA DE PROGRAMAÇÃO - Turma 03D  2019.1\n",
            "1420  20180042274  LÓGICA DE PROGRAMAÇÃO - Turma 03D  2019.1\n",
            "1417  20180107468  LÓGICA DE PROGRAMAÇÃO - Turma 03D  2019.1\n",
            "1410  20180135776  LÓGICA DE PROGRAMAÇÃO - Turma 03D  2019.1\n",
            "1416  20180156613  LÓGICA DE PROGRAMAÇÃO - Turma 03D  2019.1\n",
            "Quantidade de alunos  (11, 3)\n"
          ],
          "name": "stdout"
        }
      ]
    },
    {
      "cell_type": "markdown",
      "metadata": {
        "id": "vJQwFhPKAdsk",
        "colab_type": "text"
      },
      "source": [
        "**Concatenar a tabela usuarios com a tabela turmas pela coluna matricula**"
      ]
    },
    {
      "cell_type": "code",
      "metadata": {
        "id": "m42Dn8vrjMT3",
        "colab_type": "code",
        "outputId": "a39cc1e1-867f-41db-bc76-5d183f2a889c",
        "colab": {
          "base_uri": "https://localhost:8080/",
          "height": 204
        }
      },
      "source": [
        "mergeUserTurmas = pd.merge(right = tabUser, left = turmasNovo, on='matricula', how=\"outer\")\n",
        "mergeUserTurmas.info()"
      ],
      "execution_count": 56,
      "outputs": [
        {
          "output_type": "stream",
          "text": [
            "<class 'pandas.core.frame.DataFrame'>\n",
            "Int64Index: 1678 entries, 0 to 1677\n",
            "Data columns (total 6 columns):\n",
            "idTurma           1354 non-null object\n",
            "ano               1354 non-null float64\n",
            "descricaoTurma    1354 non-null object\n",
            "matricula         1677 non-null object\n",
            "idAluno           1561 non-null object\n",
            "nome              1561 non-null object\n",
            "dtypes: float64(1), object(5)\n",
            "memory usage: 91.8+ KB\n"
          ],
          "name": "stdout"
        }
      ]
    },
    {
      "cell_type": "markdown",
      "metadata": {
        "id": "hLiAUvkSgKoC",
        "colab_type": "text"
      },
      "source": [
        "**TESTE: alunos que não estão cadastrados no sistema e que estão matriculados na disciplina**"
      ]
    },
    {
      "cell_type": "code",
      "metadata": {
        "id": "1FrziQypgWXl",
        "colab_type": "code",
        "outputId": "cff1518c-e1b8-40d1-88ba-208935e2a9ba",
        "colab": {
          "base_uri": "https://localhost:8080/",
          "height": 1000
        }
      },
      "source": [
        "print(\"Quantidade de matriculas em user \"                                  ,tabUser[\"matricula\"].shape )\n",
        "print(\"Quantidade de matriculas em turmasNovo \"                            ,turmasNovo[\"matricula\"].shape )\n",
        "print(\"Quantidade de matriculas depois de juntar as tabelas user e turmas \",mergeUserTurmas[\"matricula\"].shape )\n",
        "\n",
        "\n",
        "# TESTE \n",
        "# Existem matriculas na tabela turmas que não se cadastraram no sistema? SIM\n",
        "# Existem 93 matriculas que não tem registro no sistema\n",
        "print(mergeUserTurmas.loc[mergeUserTurmas[\"idAluno\"].isna(), [\"idAluno\",\"matricula\", \"descricaoTurma\", \"ano\"]].sort_values(by=['matricula']))"
      ],
      "execution_count": 57,
      "outputs": [
        {
          "output_type": "stream",
          "text": [
            "Quantidade de matriculas em user  (1422,)\n",
            "Quantidade de matriculas em turmasNovo  (1354,)\n",
            "Quantidade de matriculas depois de juntar as tabelas user e turmas  (1678,)\n",
            "     idAluno    matricula                     descricaoTurma     ano\n",
            "280      NaN   2012927879  LÓGICA DE PROGRAMAÇÃO - Turma 03A  2017.2\n",
            "216      NaN   2014047915  LÓGICA DE PROGRAMAÇÃO - Turma 02C  2017.2\n",
            "403      NaN   2014074420  LÓGICA DE PROGRAMAÇÃO - Turma 01D  2018.1\n",
            "356      NaN   2014084786  LÓGICA DE PROGRAMAÇÃO - Turma 03D  2017.2\n",
            "611      NaN   2014089272  LÓGICA DE PROGRAMAÇÃO - Turma 03B  2018.1\n",
            "27       NaN   2014096268  LÓGICA DE PROGRAMAÇÃO - Turma 01B  2017.2\n",
            "480      NaN   2015011775  LÓGICA DE PROGRAMAÇÃO - Turma 01A  2018.1\n",
            "74       NaN  20150125447  LÓGICA DE PROGRAMAÇÃO - Turma 01C  2017.2\n",
            "745      NaN  20150126140  LÓGICA DE PROGRAMAÇÃO - Turma 03D  2019.1\n",
            "744      NaN  20150126140  LÓGICA DE PROGRAMAÇÃO - Turma 01A  2018.2\n",
            "83       NaN  20150127067  LÓGICA DE PROGRAMAÇÃO - Turma 01C  2017.2\n",
            "863      NaN  20150127700  LÓGICA DE PROGRAMAÇÃO - Turma 01D  2018.2\n",
            "31       NaN   2015014276  LÓGICA DE PROGRAMAÇÃO - Turma 01B  2017.2\n",
            "335      NaN   2015017410  LÓGICA DE PROGRAMAÇÃO - Turma 03C  2017.2\n",
            "845      NaN   2015017714  LÓGICA DE PROGRAMAÇÃO - Turma 01C  2018.2\n",
            "252      NaN   2015017797  LÓGICA DE PROGRAMAÇÃO - Turma 02D  2017.2\n",
            "456      NaN   2015018515  LÓGICA DE PROGRAMAÇÃO - Turma 01B  2018.1\n",
            "158      NaN   2015092110  LÓGICA DE PROGRAMAÇÃO - Turma 02B  2017.2\n",
            "73       NaN   2015092352  LÓGICA DE PROGRAMAÇÃO - Turma 01C  2017.2\n",
            "298      NaN   2015093879  LÓGICA DE PROGRAMAÇÃO - Turma 03B  2017.2\n",
            "255      NaN   2015096431  LÓGICA DE PROGRAMAÇÃO - Turma 03A  2017.2\n",
            "191      NaN  20160002932  LÓGICA DE PROGRAMAÇÃO - Turma 02C  2017.2\n",
            "825      NaN  20160107685  LÓGICA DE PROGRAMAÇÃO - Turma 02D  2018.2\n",
            "118      NaN  20160108889  LÓGICA DE PROGRAMAÇÃO - Turma 01D  2017.2\n",
            "620      NaN   2016011850  LÓGICA DE PROGRAMAÇÃO - Turma 03B  2018.1\n",
            "79       NaN   2016012454  LÓGICA DE PROGRAMAÇÃO - Turma 01C  2017.2\n",
            "882      NaN   2016013578  LÓGICA DE PROGRAMAÇÃO - Turma 02A  2019.1\n",
            "278      NaN  20160141874  LÓGICA DE PROGRAMAÇÃO - Turma 03A  2017.2\n",
            "1236     NaN  20160142156  LÓGICA DE PROGRAMAÇÃO - Turma 01B  2019.1\n",
            "599      NaN  20160142521  LÓGICA DE PROGRAMAÇÃO - Turma 03A  2018.1\n",
            "...      ...          ...                                ...     ...\n",
            "888      NaN  20180033954  LÓGICA DE PROGRAMAÇÃO - Turma 02C  2019.2\n",
            "898      NaN  20180037677  LÓGICA DE PROGRAMAÇÃO - Turma 02C  2019.1\n",
            "1334     NaN  20180039072  LÓGICA DE PROGRAMAÇÃO - Turma 02B  2019.2\n",
            "1322     NaN  20180040313  LÓGICA DE PROGRAMAÇÃO - Turma 02B  2019.2\n",
            "1151     NaN  20180041295  LÓGICA DE PROGRAMAÇÃO - Turma 03B  2019.2\n",
            "676      NaN  20180041894  LÓGICA DE PROGRAMAÇÃO - Turma 03B  2018.2\n",
            "1183     NaN  20180042659  LÓGICA DE PROGRAMAÇÃO - Turma 03D  2019.2\n",
            "853      NaN  20180093470  LÓGICA DE PROGRAMAÇÃO - Turma 01D  2018.2\n",
            "1161     NaN  20180093550  LÓGICA DE PROGRAMAÇÃO - Turma 03C  2019.2\n",
            "880      NaN  20180107047  LÓGICA DE PROGRAMAÇÃO - Turma 02A  2019.1\n",
            "1341     NaN  20180109589  LÓGICA DE PROGRAMAÇÃO - Turma 02C  2019.2\n",
            "1214     NaN  20180127943  LÓGICA DE PROGRAMAÇÃO - Turma 01A  2019.1\n",
            "964      NaN  20180134975  LÓGICA DE PROGRAMAÇÃO - Turma 01A  2019.1\n",
            "1244     NaN  20180135275  LÓGICA DE PROGRAMAÇÃO - Turma 01B  2019.1\n",
            "1323     NaN  20180135444  LÓGICA DE PROGRAMAÇÃO - Turma 02B  2019.2\n",
            "904      NaN  20180136399  LÓGICA DE PROGRAMAÇÃO - Turma 02B  2019.2\n",
            "903      NaN  20180136399  LÓGICA DE PROGRAMAÇÃO - Turma 02C  2019.1\n",
            "1202     NaN  20180136684  LÓGICA DE PROGRAMAÇÃO - Turma 03D  2019.2\n",
            "1293     NaN  20190070352  LÓGICA DE PROGRAMAÇÃO - Turma 02A  2019.2\n",
            "1271     NaN  20190073318  LÓGICA DE PROGRAMAÇÃO - Turma 01D  2019.2\n",
            "1259     NaN  20190074790  LÓGICA DE PROGRAMAÇÃO - Turma 01B  2019.1\n",
            "1321     NaN  20190074914  LÓGICA DE PROGRAMAÇÃO - Turma 02B  2019.2\n",
            "1320     NaN  20190075831  LÓGICA DE PROGRAMAÇÃO - Turma 02B  2019.2\n",
            "1329     NaN  20190078154  LÓGICA DE PROGRAMAÇÃO - Turma 02B  2019.2\n",
            "1303     NaN  20190078978  LÓGICA DE PROGRAMAÇÃO - Turma 02A  2019.2\n",
            "1327     NaN  20190079699  LÓGICA DE PROGRAMAÇÃO - Turma 02B  2019.2\n",
            "1261     NaN  20190080715  LÓGICA DE PROGRAMAÇÃO - Turma 01B  2019.1\n",
            "1299     NaN  20190080930  LÓGICA DE PROGRAMAÇÃO - Turma 02A  2019.2\n",
            "1215     NaN  20190107668  LÓGICA DE PROGRAMAÇÃO - Turma 01A  2019.1\n",
            "437      NaN      2081982  LÓGICA DE PROGRAMAÇÃO - Turma 01C  2018.1\n",
            "\n",
            "[117 rows x 4 columns]\n"
          ],
          "name": "stdout"
        }
      ]
    },
    {
      "cell_type": "markdown",
      "metadata": {
        "id": "VbJai7V0t9IZ",
        "colab_type": "text"
      },
      "source": [
        "**TESTE : Montar a turma pelo ano e pela descrição da turma**"
      ]
    },
    {
      "cell_type": "code",
      "metadata": {
        "id": "XiH9tJ4ui200",
        "colab_type": "code",
        "outputId": "2b216d0e-931a-49a1-e4a3-66e9aa1c14f6",
        "colab": {
          "base_uri": "https://localhost:8080/",
          "height": 153
        }
      },
      "source": [
        "turmaAno       = mergeUserTurmas.loc[mergeUserTurmas.loc[:,\"ano\"] == 2018.2, [\"matricula\",'nome',\"descricaoTurma\",\"ano\", \"idAluno\", \"descricaoHorario\",\"idTurma\"]].copy() \n",
        "turmaDescricao = turmaAno.loc[turmaAno.loc[:,\"descricaoTurma\"].str.contains('Turma 03A', regex=False), [\"matricula\",'nome',\"descricaoTurma\",\"ano\",\"idAluno\",\"descricaoHorario\",\"idTurma\"]].copy()\n",
        "turmaDescricao.shape\n"
      ],
      "execution_count": 58,
      "outputs": [
        {
          "output_type": "stream",
          "text": [
            "/usr/local/lib/python3.6/dist-packages/pandas/core/indexing.py:1494: FutureWarning: \n",
            "Passing list-likes to .loc or [] with any missing label will raise\n",
            "KeyError in the future, you can use .reindex() as an alternative.\n",
            "\n",
            "See the documentation here:\n",
            "https://pandas.pydata.org/pandas-docs/stable/indexing.html#deprecate-loc-reindex-listlike\n",
            "  return self._getitem_tuple(key)\n"
          ],
          "name": "stderr"
        },
        {
          "output_type": "execute_result",
          "data": {
            "text/plain": [
              "(30, 7)"
            ]
          },
          "metadata": {
            "tags": []
          },
          "execution_count": 58
        }
      ]
    },
    {
      "cell_type": "markdown",
      "metadata": {
        "id": "q_9sRf3oeIfj",
        "colab_type": "text"
      },
      "source": [
        "**Criar um arquivo CSV com as informações das turmas do Sigaa e as informações de cadastro do LOP**"
      ]
    },
    {
      "cell_type": "code",
      "metadata": {
        "id": "KonWJ0t1eSkI",
        "colab_type": "code",
        "colab": {}
      },
      "source": [
        "#mergeUserTurmasT= mergeUserTurmas.drop('nome',axis=1)\n",
        "mergeUserTurmas.to_csv(r'lopUsuarioTurma.csv')"
      ],
      "execution_count": 0,
      "outputs": []
    },
    {
      "cell_type": "markdown",
      "metadata": {
        "id": "5rorxQRgxbBu",
        "colab_type": "text"
      },
      "source": [
        "**Expandir a tabela listas para que cada questão seja uma linha da tabela**"
      ]
    },
    {
      "cell_type": "code",
      "metadata": {
        "id": "svlyhJWyxKVn",
        "colab_type": "code",
        "outputId": "6951978f-ebcd-4b69-973e-3e3f9033dc70",
        "colab": {
          "base_uri": "https://localhost:8080/",
          "height": 170
        }
      },
      "source": [
        "colunas = [\"idLista\",\"questao\",\"titulo\"]\n",
        "listaNovo = pd.DataFrame(columns=colunas)\n",
        "for i in range(len(tabListas)):\n",
        "  idLista=tabListas[\"_id\"].iloc[i]\n",
        "  titulo=tabListas[\"titulo\"].iloc[i]\n",
        "  j=tabListas[\"questao\"].iloc[i]\n",
        "  for a in range(16):\n",
        "      questao=j[a]\n",
        "      dic = {\"idLista\": idLista ,\"titulo\":titulo, \"questao\": questao }\n",
        "      listaNovo = pd.concat([listaNovo, pd.DataFrame(dic, index=[0])],  ignore_index=True, sort=False )\n",
        "    \n",
        "print(listaNovo.shape)\n",
        "listaNovo.info()"
      ],
      "execution_count": 59,
      "outputs": [
        {
          "output_type": "stream",
          "text": [
            "(400, 3)\n",
            "<class 'pandas.core.frame.DataFrame'>\n",
            "RangeIndex: 400 entries, 0 to 399\n",
            "Data columns (total 3 columns):\n",
            "idLista    400 non-null object\n",
            "questao    191 non-null object\n",
            "titulo     400 non-null object\n",
            "dtypes: object(3)\n",
            "memory usage: 9.5+ KB\n"
          ],
          "name": "stdout"
        }
      ]
    },
    {
      "cell_type": "markdown",
      "metadata": {
        "id": "-N5umquF0hUZ",
        "colab_type": "text"
      },
      "source": [
        "**Apagar os registros onde o campo da coluna questao é nulo**\n",
        "\n",
        "\n"
      ]
    },
    {
      "cell_type": "code",
      "metadata": {
        "id": "tkwlznQQ0gUG",
        "colab_type": "code",
        "outputId": "6177478a-428e-449f-9f16-f34a6b4777c4",
        "colab": {
          "base_uri": "https://localhost:8080/",
          "height": 34
        }
      },
      "source": [
        "listaNovo = listaNovo.dropna(axis=0, how='any')\n",
        "print(listaNovo.shape)\n",
        "\n"
      ],
      "execution_count": 60,
      "outputs": [
        {
          "output_type": "stream",
          "text": [
            "(191, 3)\n"
          ],
          "name": "stdout"
        }
      ]
    },
    {
      "cell_type": "code",
      "metadata": {
        "id": "g4lmEfd_0ELQ",
        "colab_type": "code",
        "colab": {
          "base_uri": "https://localhost:8080/",
          "height": 391
        },
        "outputId": "729420b5-1632-45c5-c983-066b1042b975"
      },
      "source": [
        "listaNovo[\"titulo\"].unique()"
      ],
      "execution_count": 61,
      "outputs": [
        {
          "output_type": "execute_result",
          "data": {
            "text/plain": [
              "array(['Lista de Laboratório 1 - Expressões Aritméticas e Variáveis',\n",
              "       'Lista de Laboratório 2 - Expressões Lógicas e Estruturas de Seleção',\n",
              "       'Lista de Exercícios 2 - Estruturas Condicionais',\n",
              "       'Lista de Exercícios 3 - Laço Condicional',\n",
              "       'Lista de Laboratório 3 -  Estruturas de Repetição Condicional',\n",
              "       'Lista de Exercícios 4 - Laço contado',\n",
              "       'Prova 1 - Turma 09 - 2017.1',\n",
              "       'Lista de Exercícios 4.1 - Problemas tradicionais com repetição contada',\n",
              "       'Lista de Exercícios 1 - Expressões e variáveis',\n",
              "       'Lista de Laboratório 5 - Vetores',\n",
              "       'Lista de Laboratório 4 - Repetição Contada',\n",
              "       'Lista de Exercícios 5 - Vetores', 'Lista de Revisão Unidade 1',\n",
              "       'Prova 1 - Turmas 2A e 2B - 2018.1',\n",
              "       'Prova 1 - Turmas 2C e 2D - 2018.1',\n",
              "       'Prova 1 - Turmas 3C e 3D - 2018.1',\n",
              "       'Prova 1 - Turmas 3A e 3B - 2018.1',\n",
              "       'Prova 2 - Turmas 2A e 2B - 2018.1',\n",
              "       'Prova 2 - Turmas 2C e 2D - 2018.1', 'Prova 1 - Turma 3A - 2018.2',\n",
              "       'Prova 1 - Turma 3B - 2018.2', 'Prova 1 - Turma 3C - 2018.2',\n",
              "       'Prova 1 - Turma 3D - 2018.2',\n",
              "       'Lista 1.0 - Expressões aritméticas',\n",
              "       'Lista 1.2 - Funções aritméticas'], dtype=object)"
            ]
          },
          "metadata": {
            "tags": []
          },
          "execution_count": 61
        }
      ]
    },
    {
      "cell_type": "markdown",
      "metadata": {
        "id": "k0dBYtBB6uZE",
        "colab_type": "text"
      },
      "source": [
        "**Criar um novo campo na tabela ListaNovo com a quantidade de questões por lista**"
      ]
    },
    {
      "cell_type": "code",
      "metadata": {
        "id": "zXCDuMZj4t7V",
        "colab_type": "code",
        "outputId": "74f03ece-7503-41cd-84aa-600046943dfe",
        "colab": {
          "base_uri": "https://localhost:8080/",
          "height": 374
        }
      },
      "source": [
        "#Apagar as ocorrências em que a mesma questão está em várias listas, só mantendo a primeira lista que ela foi cadastrada\n",
        "listaNovo = listaNovo.sort_values(by=\"titulo\")\n",
        "#listaNovo.drop_duplicates( subset=\"questao\", keep='last', inplace=True)\n",
        "quantidade=listaNovo.groupby(\"idLista\").count()\n",
        "quantidade = quantidade.reset_index()\n",
        "quantidade = quantidade.drop('titulo',axis=1)\n",
        "quantidade.rename(columns={\"questao\":\"quantidade\"}, inplace=True)\n",
        "listaNovo= pd.merge(left = listaNovo, right = quantidade, on='idLista', how=\"right\")\n",
        "print(listaNovo.info())\n",
        "listaNovo.head()"
      ],
      "execution_count": 62,
      "outputs": [
        {
          "output_type": "stream",
          "text": [
            "<class 'pandas.core.frame.DataFrame'>\n",
            "Int64Index: 191 entries, 0 to 190\n",
            "Data columns (total 4 columns):\n",
            "idLista       191 non-null object\n",
            "questao       191 non-null object\n",
            "titulo        191 non-null object\n",
            "quantidade    191 non-null int64\n",
            "dtypes: int64(1), object(3)\n",
            "memory usage: 7.5+ KB\n",
            "None\n"
          ],
          "name": "stdout"
        },
        {
          "output_type": "execute_result",
          "data": {
            "text/html": [
              "<div>\n",
              "<style scoped>\n",
              "    .dataframe tbody tr th:only-of-type {\n",
              "        vertical-align: middle;\n",
              "    }\n",
              "\n",
              "    .dataframe tbody tr th {\n",
              "        vertical-align: top;\n",
              "    }\n",
              "\n",
              "    .dataframe thead th {\n",
              "        text-align: right;\n",
              "    }\n",
              "</style>\n",
              "<table border=\"1\" class=\"dataframe\">\n",
              "  <thead>\n",
              "    <tr style=\"text-align: right;\">\n",
              "      <th></th>\n",
              "      <th>idLista</th>\n",
              "      <th>questao</th>\n",
              "      <th>titulo</th>\n",
              "      <th>quantidade</th>\n",
              "    </tr>\n",
              "  </thead>\n",
              "  <tbody>\n",
              "    <tr>\n",
              "      <th>0</th>\n",
              "      <td>5d40eb1e6dcf7a54f8456c3d</td>\n",
              "      <td>5d40dcc43d8c5054d6bc8d7a</td>\n",
              "      <td>Lista 1.0 - Expressões aritméticas</td>\n",
              "      <td>10</td>\n",
              "    </tr>\n",
              "    <tr>\n",
              "      <th>1</th>\n",
              "      <td>5d40eb1e6dcf7a54f8456c3d</td>\n",
              "      <td>5d40cd7c3d8c5054d6bc8d78</td>\n",
              "      <td>Lista 1.0 - Expressões aritméticas</td>\n",
              "      <td>10</td>\n",
              "    </tr>\n",
              "    <tr>\n",
              "      <th>2</th>\n",
              "      <td>5d40eb1e6dcf7a54f8456c3d</td>\n",
              "      <td>5d40caf5191d475502d334a9</td>\n",
              "      <td>Lista 1.0 - Expressões aritméticas</td>\n",
              "      <td>10</td>\n",
              "    </tr>\n",
              "    <tr>\n",
              "      <th>3</th>\n",
              "      <td>5d40eb1e6dcf7a54f8456c3d</td>\n",
              "      <td>5d40c7800544a954e8dada40</td>\n",
              "      <td>Lista 1.0 - Expressões aritméticas</td>\n",
              "      <td>10</td>\n",
              "    </tr>\n",
              "    <tr>\n",
              "      <th>4</th>\n",
              "      <td>5d40eb1e6dcf7a54f8456c3d</td>\n",
              "      <td>5d40c3590544a954e8dada3f</td>\n",
              "      <td>Lista 1.0 - Expressões aritméticas</td>\n",
              "      <td>10</td>\n",
              "    </tr>\n",
              "  </tbody>\n",
              "</table>\n",
              "</div>"
            ],
            "text/plain": [
              "                    idLista  ... quantidade\n",
              "0  5d40eb1e6dcf7a54f8456c3d  ...         10\n",
              "1  5d40eb1e6dcf7a54f8456c3d  ...         10\n",
              "2  5d40eb1e6dcf7a54f8456c3d  ...         10\n",
              "3  5d40eb1e6dcf7a54f8456c3d  ...         10\n",
              "4  5d40eb1e6dcf7a54f8456c3d  ...         10\n",
              "\n",
              "[5 rows x 4 columns]"
            ]
          },
          "metadata": {
            "tags": []
          },
          "execution_count": 62
        }
      ]
    },
    {
      "cell_type": "code",
      "metadata": {
        "id": "VxTKED7ed2lb",
        "colab_type": "code",
        "outputId": "1212f948-a39b-47ec-fe19-9ccfe9f5de0a",
        "colab": {
          "base_uri": "https://localhost:8080/",
          "height": 1000
        }
      },
      "source": [
        "listaNovo[[\"titulo\",\"quantidade\",\"questao\"]].sort_values(by=\"questao\")\n"
      ],
      "execution_count": 63,
      "outputs": [
        {
          "output_type": "execute_result",
          "data": {
            "text/html": [
              "<div>\n",
              "<style scoped>\n",
              "    .dataframe tbody tr th:only-of-type {\n",
              "        vertical-align: middle;\n",
              "    }\n",
              "\n",
              "    .dataframe tbody tr th {\n",
              "        vertical-align: top;\n",
              "    }\n",
              "\n",
              "    .dataframe thead th {\n",
              "        text-align: right;\n",
              "    }\n",
              "</style>\n",
              "<table border=\"1\" class=\"dataframe\">\n",
              "  <thead>\n",
              "    <tr style=\"text-align: right;\">\n",
              "      <th></th>\n",
              "      <th>titulo</th>\n",
              "      <th>quantidade</th>\n",
              "      <th>questao</th>\n",
              "    </tr>\n",
              "  </thead>\n",
              "  <tbody>\n",
              "    <tr>\n",
              "      <th>104</th>\n",
              "      <td>Lista de Laboratório 1 - Expressões Aritmética...</td>\n",
              "      <td>5</td>\n",
              "      <td>59885f8d684f4a3f78163c00</td>\n",
              "    </tr>\n",
              "    <tr>\n",
              "      <th>20</th>\n",
              "      <td>Lista de Exercícios 1 - Expressões e variáveis</td>\n",
              "      <td>15</td>\n",
              "      <td>59885f8d684f4a3f78163c00</td>\n",
              "    </tr>\n",
              "    <tr>\n",
              "      <th>105</th>\n",
              "      <td>Lista de Laboratório 1 - Expressões Aritmética...</td>\n",
              "      <td>5</td>\n",
              "      <td>59887121d7c3703f96fda00c</td>\n",
              "    </tr>\n",
              "    <tr>\n",
              "      <th>32</th>\n",
              "      <td>Lista de Exercícios 1 - Expressões e variáveis</td>\n",
              "      <td>15</td>\n",
              "      <td>59887121d7c3703f96fda00c</td>\n",
              "    </tr>\n",
              "    <tr>\n",
              "      <th>106</th>\n",
              "      <td>Lista de Laboratório 1 - Expressões Aritmética...</td>\n",
              "      <td>5</td>\n",
              "      <td>59887c83684f4a3f78163c02</td>\n",
              "    </tr>\n",
              "    <tr>\n",
              "      <th>33</th>\n",
              "      <td>Lista de Exercícios 1 - Expressões e variáveis</td>\n",
              "      <td>15</td>\n",
              "      <td>59887c83684f4a3f78163c02</td>\n",
              "    </tr>\n",
              "    <tr>\n",
              "      <th>140</th>\n",
              "      <td>Lista de Revisão Unidade 1</td>\n",
              "      <td>9</td>\n",
              "      <td>59888cb2d2f43b3f548ef054</td>\n",
              "    </tr>\n",
              "    <tr>\n",
              "      <th>19</th>\n",
              "      <td>Lista de Exercícios 1 - Expressões e variáveis</td>\n",
              "      <td>15</td>\n",
              "      <td>59888cb2d2f43b3f548ef054</td>\n",
              "    </tr>\n",
              "    <tr>\n",
              "      <th>107</th>\n",
              "      <td>Lista de Laboratório 1 - Expressões Aritmética...</td>\n",
              "      <td>5</td>\n",
              "      <td>59888cb2d2f43b3f548ef054</td>\n",
              "    </tr>\n",
              "    <tr>\n",
              "      <th>108</th>\n",
              "      <td>Lista de Laboratório 1 - Expressões Aritmética...</td>\n",
              "      <td>5</td>\n",
              "      <td>59888ea5d2f43b3f548ef057</td>\n",
              "    </tr>\n",
              "    <tr>\n",
              "      <th>29</th>\n",
              "      <td>Lista de Exercícios 1 - Expressões e variáveis</td>\n",
              "      <td>15</td>\n",
              "      <td>59888ea5d2f43b3f548ef057</td>\n",
              "    </tr>\n",
              "    <tr>\n",
              "      <th>28</th>\n",
              "      <td>Lista de Exercícios 1 - Expressões e variáveis</td>\n",
              "      <td>15</td>\n",
              "      <td>5994434aa76e28186bdf5672</td>\n",
              "    </tr>\n",
              "    <tr>\n",
              "      <th>31</th>\n",
              "      <td>Lista de Exercícios 1 - Expressões e variáveis</td>\n",
              "      <td>15</td>\n",
              "      <td>5994485a487ae0183f7dbffa</td>\n",
              "    </tr>\n",
              "    <tr>\n",
              "      <th>27</th>\n",
              "      <td>Lista de Exercícios 1 - Expressões e variáveis</td>\n",
              "      <td>15</td>\n",
              "      <td>5994498d0875c31866aa6922</td>\n",
              "    </tr>\n",
              "    <tr>\n",
              "      <th>35</th>\n",
              "      <td>Lista de Exercícios 2 - Estruturas Condicionais</td>\n",
              "      <td>15</td>\n",
              "      <td>59986ee1aa6c19020665d5ec</td>\n",
              "    </tr>\n",
              "    <tr>\n",
              "      <th>36</th>\n",
              "      <td>Lista de Exercícios 2 - Estruturas Condicionais</td>\n",
              "      <td>15</td>\n",
              "      <td>599871e1a9ad3601f087502a</td>\n",
              "    </tr>\n",
              "    <tr>\n",
              "      <th>111</th>\n",
              "      <td>Lista de Laboratório 2 - Expressões Lógicas e ...</td>\n",
              "      <td>7</td>\n",
              "      <td>5998737a54b78701f54e9666</td>\n",
              "    </tr>\n",
              "    <tr>\n",
              "      <th>37</th>\n",
              "      <td>Lista de Exercícios 2 - Estruturas Condicionais</td>\n",
              "      <td>15</td>\n",
              "      <td>5998793aaa6c19020665d5f2</td>\n",
              "    </tr>\n",
              "    <tr>\n",
              "      <th>38</th>\n",
              "      <td>Lista de Exercícios 2 - Estruturas Condicionais</td>\n",
              "      <td>15</td>\n",
              "      <td>59987b6ba9ad3601f0875030</td>\n",
              "    </tr>\n",
              "    <tr>\n",
              "      <th>39</th>\n",
              "      <td>Lista de Exercícios 2 - Estruturas Condicionais</td>\n",
              "      <td>15</td>\n",
              "      <td>59987cdfa9ad3601f0875034</td>\n",
              "    </tr>\n",
              "    <tr>\n",
              "      <th>141</th>\n",
              "      <td>Lista de Revisão Unidade 1</td>\n",
              "      <td>9</td>\n",
              "      <td>59987cdfa9ad3601f0875034</td>\n",
              "    </tr>\n",
              "    <tr>\n",
              "      <th>114</th>\n",
              "      <td>Lista de Laboratório 2 - Expressões Lógicas e ...</td>\n",
              "      <td>7</td>\n",
              "      <td>599a32d6d9b4c2079007acb4</td>\n",
              "    </tr>\n",
              "    <tr>\n",
              "      <th>115</th>\n",
              "      <td>Lista de Laboratório 2 - Expressões Lógicas e ...</td>\n",
              "      <td>7</td>\n",
              "      <td>599ad39ed9b4c2079007acb8</td>\n",
              "    </tr>\n",
              "    <tr>\n",
              "      <th>40</th>\n",
              "      <td>Lista de Exercícios 2 - Estruturas Condicionais</td>\n",
              "      <td>15</td>\n",
              "      <td>599ad39ed9b4c2079007acb8</td>\n",
              "    </tr>\n",
              "    <tr>\n",
              "      <th>41</th>\n",
              "      <td>Lista de Exercícios 2 - Estruturas Condicionais</td>\n",
              "      <td>15</td>\n",
              "      <td>599ad893d9b4c2079007acbd</td>\n",
              "    </tr>\n",
              "    <tr>\n",
              "      <th>113</th>\n",
              "      <td>Lista de Laboratório 2 - Expressões Lógicas e ...</td>\n",
              "      <td>7</td>\n",
              "      <td>599adae4d9b4c2079007acc3</td>\n",
              "    </tr>\n",
              "    <tr>\n",
              "      <th>109</th>\n",
              "      <td>Lista de Laboratório 2 - Expressões Lógicas e ...</td>\n",
              "      <td>7</td>\n",
              "      <td>599ae054495fac076a06d3ef</td>\n",
              "    </tr>\n",
              "    <tr>\n",
              "      <th>42</th>\n",
              "      <td>Lista de Exercícios 2 - Estruturas Condicionais</td>\n",
              "      <td>15</td>\n",
              "      <td>599c7401f3b5c20e93bcb46c</td>\n",
              "    </tr>\n",
              "    <tr>\n",
              "      <th>43</th>\n",
              "      <td>Lista de Exercícios 2 - Estruturas Condicionais</td>\n",
              "      <td>15</td>\n",
              "      <td>599c75a6a5ed530eb597c822</td>\n",
              "    </tr>\n",
              "    <tr>\n",
              "      <th>44</th>\n",
              "      <td>Lista de Exercícios 2 - Estruturas Condicionais</td>\n",
              "      <td>15</td>\n",
              "      <td>599c782ff3b5c20e93bcb471</td>\n",
              "    </tr>\n",
              "    <tr>\n",
              "      <th>...</th>\n",
              "      <td>...</td>\n",
              "      <td>...</td>\n",
              "      <td>...</td>\n",
              "    </tr>\n",
              "    <tr>\n",
              "      <th>158</th>\n",
              "      <td>Prova 1 - Turma 3C - 2018.2</td>\n",
              "      <td>4</td>\n",
              "      <td>5bc47607a2b8b504032f7dcb</td>\n",
              "    </tr>\n",
              "    <tr>\n",
              "      <th>157</th>\n",
              "      <td>Prova 1 - Turma 3C - 2018.2</td>\n",
              "      <td>4</td>\n",
              "      <td>5bc476baa2b8b504032f7dd1</td>\n",
              "    </tr>\n",
              "    <tr>\n",
              "      <th>156</th>\n",
              "      <td>Prova 1 - Turma 3C - 2018.2</td>\n",
              "      <td>4</td>\n",
              "      <td>5bc47765a2b8b504032f7dd8</td>\n",
              "    </tr>\n",
              "    <tr>\n",
              "      <th>155</th>\n",
              "      <td>Prova 1 - Turma 3C - 2018.2</td>\n",
              "      <td>4</td>\n",
              "      <td>5bc477f4a2b8b504032f7de2</td>\n",
              "    </tr>\n",
              "    <tr>\n",
              "      <th>162</th>\n",
              "      <td>Prova 1 - Turma 3D - 2018.2</td>\n",
              "      <td>4</td>\n",
              "      <td>5bc47a23a2b8b504032f7dfd</td>\n",
              "    </tr>\n",
              "    <tr>\n",
              "      <th>160</th>\n",
              "      <td>Prova 1 - Turma 3D - 2018.2</td>\n",
              "      <td>4</td>\n",
              "      <td>5bc47ab2a2b8b504032f7e07</td>\n",
              "    </tr>\n",
              "    <tr>\n",
              "      <th>161</th>\n",
              "      <td>Prova 1 - Turma 3D - 2018.2</td>\n",
              "      <td>4</td>\n",
              "      <td>5bc47b18a2b8b504032f7e11</td>\n",
              "    </tr>\n",
              "    <tr>\n",
              "      <th>4</th>\n",
              "      <td>Lista 1.0 - Expressões aritméticas</td>\n",
              "      <td>10</td>\n",
              "      <td>5d40c3590544a954e8dada3f</td>\n",
              "    </tr>\n",
              "    <tr>\n",
              "      <th>3</th>\n",
              "      <td>Lista 1.0 - Expressões aritméticas</td>\n",
              "      <td>10</td>\n",
              "      <td>5d40c7800544a954e8dada40</td>\n",
              "    </tr>\n",
              "    <tr>\n",
              "      <th>2</th>\n",
              "      <td>Lista 1.0 - Expressões aritméticas</td>\n",
              "      <td>10</td>\n",
              "      <td>5d40caf5191d475502d334a9</td>\n",
              "    </tr>\n",
              "    <tr>\n",
              "      <th>1</th>\n",
              "      <td>Lista 1.0 - Expressões aritméticas</td>\n",
              "      <td>10</td>\n",
              "      <td>5d40cd7c3d8c5054d6bc8d78</td>\n",
              "    </tr>\n",
              "    <tr>\n",
              "      <th>5</th>\n",
              "      <td>Lista 1.0 - Expressões aritméticas</td>\n",
              "      <td>10</td>\n",
              "      <td>5d40ce533d8c5054d6bc8d79</td>\n",
              "    </tr>\n",
              "    <tr>\n",
              "      <th>0</th>\n",
              "      <td>Lista 1.0 - Expressões aritméticas</td>\n",
              "      <td>10</td>\n",
              "      <td>5d40dcc43d8c5054d6bc8d7a</td>\n",
              "    </tr>\n",
              "    <tr>\n",
              "      <th>6</th>\n",
              "      <td>Lista 1.0 - Expressões aritméticas</td>\n",
              "      <td>10</td>\n",
              "      <td>5d40e18f191d475502d334ac</td>\n",
              "    </tr>\n",
              "    <tr>\n",
              "      <th>9</th>\n",
              "      <td>Lista 1.0 - Expressões aritméticas</td>\n",
              "      <td>10</td>\n",
              "      <td>5d40e31c191d475502d334ae</td>\n",
              "    </tr>\n",
              "    <tr>\n",
              "      <th>8</th>\n",
              "      <td>Lista 1.0 - Expressões aritméticas</td>\n",
              "      <td>10</td>\n",
              "      <td>5d40e4e60544a954e8dada44</td>\n",
              "    </tr>\n",
              "    <tr>\n",
              "      <th>7</th>\n",
              "      <td>Lista 1.0 - Expressões aritméticas</td>\n",
              "      <td>10</td>\n",
              "      <td>5d40e9d1c1853254c20af941</td>\n",
              "    </tr>\n",
              "    <tr>\n",
              "      <th>18</th>\n",
              "      <td>Lista 1.2 - Funções aritméticas</td>\n",
              "      <td>9</td>\n",
              "      <td>5d49ba491f052854e06a58ba</td>\n",
              "    </tr>\n",
              "    <tr>\n",
              "      <th>14</th>\n",
              "      <td>Lista 1.2 - Funções aritméticas</td>\n",
              "      <td>9</td>\n",
              "      <td>5d49bca9c1853254c20afb1c</td>\n",
              "    </tr>\n",
              "    <tr>\n",
              "      <th>17</th>\n",
              "      <td>Lista 1.2 - Funções aritméticas</td>\n",
              "      <td>9</td>\n",
              "      <td>5d49be0c1f052854e06a58bc</td>\n",
              "    </tr>\n",
              "    <tr>\n",
              "      <th>16</th>\n",
              "      <td>Lista 1.2 - Funções aritméticas</td>\n",
              "      <td>9</td>\n",
              "      <td>5d49bfacac500a550c20d92d</td>\n",
              "    </tr>\n",
              "    <tr>\n",
              "      <th>15</th>\n",
              "      <td>Lista 1.2 - Funções aritméticas</td>\n",
              "      <td>9</td>\n",
              "      <td>5d4b09c07d2d2c54ccde9a87</td>\n",
              "    </tr>\n",
              "    <tr>\n",
              "      <th>13</th>\n",
              "      <td>Lista 1.2 - Funções aritméticas</td>\n",
              "      <td>9</td>\n",
              "      <td>5d4b0acdc1853254c20afba9</td>\n",
              "    </tr>\n",
              "    <tr>\n",
              "      <th>12</th>\n",
              "      <td>Lista 1.2 - Funções aritméticas</td>\n",
              "      <td>9</td>\n",
              "      <td>5d4b0ca70544a954e8dadc96</td>\n",
              "    </tr>\n",
              "    <tr>\n",
              "      <th>10</th>\n",
              "      <td>Lista 1.2 - Funções aritméticas</td>\n",
              "      <td>9</td>\n",
              "      <td>5d4b0dd7ac500a550c20d9c4</td>\n",
              "    </tr>\n",
              "    <tr>\n",
              "      <th>11</th>\n",
              "      <td>Lista 1.2 - Funções aritméticas</td>\n",
              "      <td>9</td>\n",
              "      <td>5d516848191d475502d33915</td>\n",
              "    </tr>\n",
              "    <tr>\n",
              "      <th>112</th>\n",
              "      <td>Lista de Laboratório 2 - Expressões Lógicas e ...</td>\n",
              "      <td>7</td>\n",
              "      <td>5d531e7e6dcf7a54f8457218</td>\n",
              "    </tr>\n",
              "    <tr>\n",
              "      <th>118</th>\n",
              "      <td>Lista de Laboratório 3 -  Estruturas de Repeti...</td>\n",
              "      <td>7</td>\n",
              "      <td>5d66aa9502e0b4043f8e16d3</td>\n",
              "    </tr>\n",
              "    <tr>\n",
              "      <th>116</th>\n",
              "      <td>Lista de Laboratório 3 -  Estruturas de Repeti...</td>\n",
              "      <td>7</td>\n",
              "      <td>5d66ae10f416c204124bf40f</td>\n",
              "    </tr>\n",
              "    <tr>\n",
              "      <th>117</th>\n",
              "      <td>Lista de Laboratório 3 -  Estruturas de Repeti...</td>\n",
              "      <td>7</td>\n",
              "      <td>5d66be7291f9730436da2345</td>\n",
              "    </tr>\n",
              "  </tbody>\n",
              "</table>\n",
              "<p>191 rows × 3 columns</p>\n",
              "</div>"
            ],
            "text/plain": [
              "                                                titulo  ...                   questao\n",
              "104  Lista de Laboratório 1 - Expressões Aritmética...  ...  59885f8d684f4a3f78163c00\n",
              "20      Lista de Exercícios 1 - Expressões e variáveis  ...  59885f8d684f4a3f78163c00\n",
              "105  Lista de Laboratório 1 - Expressões Aritmética...  ...  59887121d7c3703f96fda00c\n",
              "32      Lista de Exercícios 1 - Expressões e variáveis  ...  59887121d7c3703f96fda00c\n",
              "106  Lista de Laboratório 1 - Expressões Aritmética...  ...  59887c83684f4a3f78163c02\n",
              "33      Lista de Exercícios 1 - Expressões e variáveis  ...  59887c83684f4a3f78163c02\n",
              "140                         Lista de Revisão Unidade 1  ...  59888cb2d2f43b3f548ef054\n",
              "19      Lista de Exercícios 1 - Expressões e variáveis  ...  59888cb2d2f43b3f548ef054\n",
              "107  Lista de Laboratório 1 - Expressões Aritmética...  ...  59888cb2d2f43b3f548ef054\n",
              "108  Lista de Laboratório 1 - Expressões Aritmética...  ...  59888ea5d2f43b3f548ef057\n",
              "29      Lista de Exercícios 1 - Expressões e variáveis  ...  59888ea5d2f43b3f548ef057\n",
              "28      Lista de Exercícios 1 - Expressões e variáveis  ...  5994434aa76e28186bdf5672\n",
              "31      Lista de Exercícios 1 - Expressões e variáveis  ...  5994485a487ae0183f7dbffa\n",
              "27      Lista de Exercícios 1 - Expressões e variáveis  ...  5994498d0875c31866aa6922\n",
              "35     Lista de Exercícios 2 - Estruturas Condicionais  ...  59986ee1aa6c19020665d5ec\n",
              "36     Lista de Exercícios 2 - Estruturas Condicionais  ...  599871e1a9ad3601f087502a\n",
              "111  Lista de Laboratório 2 - Expressões Lógicas e ...  ...  5998737a54b78701f54e9666\n",
              "37     Lista de Exercícios 2 - Estruturas Condicionais  ...  5998793aaa6c19020665d5f2\n",
              "38     Lista de Exercícios 2 - Estruturas Condicionais  ...  59987b6ba9ad3601f0875030\n",
              "39     Lista de Exercícios 2 - Estruturas Condicionais  ...  59987cdfa9ad3601f0875034\n",
              "141                         Lista de Revisão Unidade 1  ...  59987cdfa9ad3601f0875034\n",
              "114  Lista de Laboratório 2 - Expressões Lógicas e ...  ...  599a32d6d9b4c2079007acb4\n",
              "115  Lista de Laboratório 2 - Expressões Lógicas e ...  ...  599ad39ed9b4c2079007acb8\n",
              "40     Lista de Exercícios 2 - Estruturas Condicionais  ...  599ad39ed9b4c2079007acb8\n",
              "41     Lista de Exercícios 2 - Estruturas Condicionais  ...  599ad893d9b4c2079007acbd\n",
              "113  Lista de Laboratório 2 - Expressões Lógicas e ...  ...  599adae4d9b4c2079007acc3\n",
              "109  Lista de Laboratório 2 - Expressões Lógicas e ...  ...  599ae054495fac076a06d3ef\n",
              "42     Lista de Exercícios 2 - Estruturas Condicionais  ...  599c7401f3b5c20e93bcb46c\n",
              "43     Lista de Exercícios 2 - Estruturas Condicionais  ...  599c75a6a5ed530eb597c822\n",
              "44     Lista de Exercícios 2 - Estruturas Condicionais  ...  599c782ff3b5c20e93bcb471\n",
              "..                                                 ...  ...                       ...\n",
              "158                        Prova 1 - Turma 3C - 2018.2  ...  5bc47607a2b8b504032f7dcb\n",
              "157                        Prova 1 - Turma 3C - 2018.2  ...  5bc476baa2b8b504032f7dd1\n",
              "156                        Prova 1 - Turma 3C - 2018.2  ...  5bc47765a2b8b504032f7dd8\n",
              "155                        Prova 1 - Turma 3C - 2018.2  ...  5bc477f4a2b8b504032f7de2\n",
              "162                        Prova 1 - Turma 3D - 2018.2  ...  5bc47a23a2b8b504032f7dfd\n",
              "160                        Prova 1 - Turma 3D - 2018.2  ...  5bc47ab2a2b8b504032f7e07\n",
              "161                        Prova 1 - Turma 3D - 2018.2  ...  5bc47b18a2b8b504032f7e11\n",
              "4                   Lista 1.0 - Expressões aritméticas  ...  5d40c3590544a954e8dada3f\n",
              "3                   Lista 1.0 - Expressões aritméticas  ...  5d40c7800544a954e8dada40\n",
              "2                   Lista 1.0 - Expressões aritméticas  ...  5d40caf5191d475502d334a9\n",
              "1                   Lista 1.0 - Expressões aritméticas  ...  5d40cd7c3d8c5054d6bc8d78\n",
              "5                   Lista 1.0 - Expressões aritméticas  ...  5d40ce533d8c5054d6bc8d79\n",
              "0                   Lista 1.0 - Expressões aritméticas  ...  5d40dcc43d8c5054d6bc8d7a\n",
              "6                   Lista 1.0 - Expressões aritméticas  ...  5d40e18f191d475502d334ac\n",
              "9                   Lista 1.0 - Expressões aritméticas  ...  5d40e31c191d475502d334ae\n",
              "8                   Lista 1.0 - Expressões aritméticas  ...  5d40e4e60544a954e8dada44\n",
              "7                   Lista 1.0 - Expressões aritméticas  ...  5d40e9d1c1853254c20af941\n",
              "18                     Lista 1.2 - Funções aritméticas  ...  5d49ba491f052854e06a58ba\n",
              "14                     Lista 1.2 - Funções aritméticas  ...  5d49bca9c1853254c20afb1c\n",
              "17                     Lista 1.2 - Funções aritméticas  ...  5d49be0c1f052854e06a58bc\n",
              "16                     Lista 1.2 - Funções aritméticas  ...  5d49bfacac500a550c20d92d\n",
              "15                     Lista 1.2 - Funções aritméticas  ...  5d4b09c07d2d2c54ccde9a87\n",
              "13                     Lista 1.2 - Funções aritméticas  ...  5d4b0acdc1853254c20afba9\n",
              "12                     Lista 1.2 - Funções aritméticas  ...  5d4b0ca70544a954e8dadc96\n",
              "10                     Lista 1.2 - Funções aritméticas  ...  5d4b0dd7ac500a550c20d9c4\n",
              "11                     Lista 1.2 - Funções aritméticas  ...  5d516848191d475502d33915\n",
              "112  Lista de Laboratório 2 - Expressões Lógicas e ...  ...  5d531e7e6dcf7a54f8457218\n",
              "118  Lista de Laboratório 3 -  Estruturas de Repeti...  ...  5d66aa9502e0b4043f8e16d3\n",
              "116  Lista de Laboratório 3 -  Estruturas de Repeti...  ...  5d66ae10f416c204124bf40f\n",
              "117  Lista de Laboratório 3 -  Estruturas de Repeti...  ...  5d66be7291f9730436da2345\n",
              "\n",
              "[191 rows x 3 columns]"
            ]
          },
          "metadata": {
            "tags": []
          },
          "execution_count": 63
        }
      ]
    },
    {
      "cell_type": "markdown",
      "metadata": {
        "id": "R2jL99oWWQrA",
        "colab_type": "text"
      },
      "source": [
        "**Concatenar a tabela lista com a tabela submissoes pela coluna questao**"
      ]
    },
    {
      "cell_type": "code",
      "metadata": {
        "id": "rPOSLTgbWKXV",
        "colab_type": "code",
        "outputId": "1d4f84d6-3685-4d85-9a1b-2a97eb9c129c",
        "colab": {
          "base_uri": "https://localhost:8080/",
          "height": 34
        }
      },
      "source": [
        "mergeSubLista = pd.merge(right= tabSub, left = listaNovo, on='questao', how=\"outer\")\n",
        "print(mergeSubLista.shape)"
      ],
      "execution_count": 67,
      "outputs": [
        {
          "output_type": "stream",
          "text": [
            "(66929, 7)\n"
          ],
          "name": "stdout"
        }
      ]
    },
    {
      "cell_type": "markdown",
      "metadata": {
        "id": "1Kv0u_HO9UwJ",
        "colab_type": "text"
      },
      "source": [
        "**Retirar o ruído da tabela de submissões das litas de exercícios**\n",
        "<p>\n",
        "Submissão da mesma questão, com o mesmo valor de porcentagem de acerto, no mesmo dia e apenas a diferença de 3 segundos entre elas .. serão excluídas"
      ]
    },
    {
      "cell_type": "code",
      "metadata": {
        "id": "UWpmUwn9tNH9",
        "colab_type": "code",
        "colab": {
          "base_uri": "https://localhost:8080/",
          "height": 578
        },
        "outputId": "0b14fbd2-e5e0-4b6a-b190-a3616ff84999"
      },
      "source": [
        "mergeSubLista = mergeSubLista.reset_index()\n",
        "mergeSubLista = mergeSubLista.sort_values(by=[\"idAluno\",\"data\"])\n",
        "mergeSubLista.replace(np.nan, 0, inplace=True)\n",
        "t = pd.Timedelta(\"3 seconds\")\n",
        "\n",
        "for i in mergeSubLista.index:\n",
        "  if (i < len(mergeSubLista) ):\n",
        "    if(mergeSubLista[\"idAluno\"].iloc[i] == mergeSubLista[\"idAluno\"].iloc[i+1]):\n",
        "      if(mergeSubLista[\"questao\"].iloc[i] == mergeSubLista[\"questao\"].iloc[i+1]):\n",
        "        if((mergeSubLista[\"data\"].iloc[i+1] - mergeSubLista[\"data\"].iloc[i]) < t):\n",
        "          if(mergeSubLista[\"porcentagemAcerto\"].iloc[i] == mergeSubLista[\"porcentagemAcerto\"].iloc[i+1]):\n",
        "             mergeSubLista =mergeSubLista.drop(mergeSubLista.index[[i]])\n",
        "         \n"
      ],
      "execution_count": 69,
      "outputs": [
        {
          "output_type": "error",
          "ename": "TypeError",
          "evalue": "ignored",
          "traceback": [
            "\u001b[0;31m---------------------------------------------------------------------------\u001b[0m",
            "\u001b[0;31mTypeError\u001b[0m                                 Traceback (most recent call last)",
            "\u001b[0;32m/usr/local/lib/python3.6/dist-packages/pandas/core/algorithms.py\u001b[0m in \u001b[0;36mfactorize\u001b[0;34m(values, sort, order, na_sentinel, size_hint)\u001b[0m\n\u001b[1;32m    619\u001b[0m             \u001b[0;32mtry\u001b[0m\u001b[0;34m:\u001b[0m\u001b[0;34m\u001b[0m\u001b[0;34m\u001b[0m\u001b[0m\n\u001b[0;32m--> 620\u001b[0;31m                 \u001b[0morder\u001b[0m \u001b[0;34m=\u001b[0m \u001b[0muniques\u001b[0m\u001b[0;34m.\u001b[0m\u001b[0margsort\u001b[0m\u001b[0;34m(\u001b[0m\u001b[0;34m)\u001b[0m\u001b[0;34m\u001b[0m\u001b[0;34m\u001b[0m\u001b[0m\n\u001b[0m\u001b[1;32m    621\u001b[0m                 \u001b[0morder2\u001b[0m \u001b[0;34m=\u001b[0m \u001b[0morder\u001b[0m\u001b[0;34m.\u001b[0m\u001b[0margsort\u001b[0m\u001b[0;34m(\u001b[0m\u001b[0;34m)\u001b[0m\u001b[0;34m\u001b[0m\u001b[0;34m\u001b[0m\u001b[0m\n",
            "\u001b[0;32mpandas/_libs/tslibs/timestamps.pyx\u001b[0m in \u001b[0;36mpandas._libs.tslibs.timestamps._Timestamp.__richcmp__\u001b[0;34m()\u001b[0m\n",
            "\u001b[0;31mTypeError\u001b[0m: Cannot compare type 'Timestamp' with type 'int'",
            "\nDuring handling of the above exception, another exception occurred:\n",
            "\u001b[0;31mTypeError\u001b[0m                                 Traceback (most recent call last)",
            "\u001b[0;32m/usr/local/lib/python3.6/dist-packages/pandas/core/arrays/categorical.py\u001b[0m in \u001b[0;36m__init__\u001b[0;34m(self, values, categories, ordered, dtype, fastpath)\u001b[0m\n\u001b[1;32m    357\u001b[0m             \u001b[0;32mtry\u001b[0m\u001b[0;34m:\u001b[0m\u001b[0;34m\u001b[0m\u001b[0;34m\u001b[0m\u001b[0m\n\u001b[0;32m--> 358\u001b[0;31m                 \u001b[0mcodes\u001b[0m\u001b[0;34m,\u001b[0m \u001b[0mcategories\u001b[0m \u001b[0;34m=\u001b[0m \u001b[0mfactorize\u001b[0m\u001b[0;34m(\u001b[0m\u001b[0mvalues\u001b[0m\u001b[0;34m,\u001b[0m \u001b[0msort\u001b[0m\u001b[0;34m=\u001b[0m\u001b[0;32mTrue\u001b[0m\u001b[0;34m)\u001b[0m\u001b[0;34m\u001b[0m\u001b[0;34m\u001b[0m\u001b[0m\n\u001b[0m\u001b[1;32m    359\u001b[0m             \u001b[0;32mexcept\u001b[0m \u001b[0mTypeError\u001b[0m\u001b[0;34m:\u001b[0m\u001b[0;34m\u001b[0m\u001b[0;34m\u001b[0m\u001b[0m\n",
            "\u001b[0;32m/usr/local/lib/python3.6/dist-packages/pandas/util/_decorators.py\u001b[0m in \u001b[0;36mwrapper\u001b[0;34m(*args, **kwargs)\u001b[0m\n\u001b[1;32m    187\u001b[0m                     \u001b[0mkwargs\u001b[0m\u001b[0;34m[\u001b[0m\u001b[0mnew_arg_name\u001b[0m\u001b[0;34m]\u001b[0m \u001b[0;34m=\u001b[0m \u001b[0mnew_arg_value\u001b[0m\u001b[0;34m\u001b[0m\u001b[0;34m\u001b[0m\u001b[0m\n\u001b[0;32m--> 188\u001b[0;31m             \u001b[0;32mreturn\u001b[0m \u001b[0mfunc\u001b[0m\u001b[0;34m(\u001b[0m\u001b[0;34m*\u001b[0m\u001b[0margs\u001b[0m\u001b[0;34m,\u001b[0m \u001b[0;34m**\u001b[0m\u001b[0mkwargs\u001b[0m\u001b[0;34m)\u001b[0m\u001b[0;34m\u001b[0m\u001b[0;34m\u001b[0m\u001b[0m\n\u001b[0m\u001b[1;32m    189\u001b[0m         \u001b[0;32mreturn\u001b[0m \u001b[0mwrapper\u001b[0m\u001b[0;34m\u001b[0m\u001b[0;34m\u001b[0m\u001b[0m\n",
            "\u001b[0;32m/usr/local/lib/python3.6/dist-packages/pandas/core/algorithms.py\u001b[0m in \u001b[0;36mfactorize\u001b[0;34m(values, sort, order, na_sentinel, size_hint)\u001b[0m\n\u001b[1;32m    627\u001b[0m                                             \u001b[0mna_sentinel\u001b[0m\u001b[0;34m=\u001b[0m\u001b[0mna_sentinel\u001b[0m\u001b[0;34m,\u001b[0m\u001b[0;34m\u001b[0m\u001b[0;34m\u001b[0m\u001b[0m\n\u001b[0;32m--> 628\u001b[0;31m                                             assume_unique=True)\n\u001b[0m\u001b[1;32m    629\u001b[0m         \u001b[0;32melse\u001b[0m\u001b[0;34m:\u001b[0m\u001b[0;34m\u001b[0m\u001b[0;34m\u001b[0m\u001b[0m\n",
            "\u001b[0;32m/usr/local/lib/python3.6/dist-packages/pandas/core/sorting.py\u001b[0m in \u001b[0;36msafe_sort\u001b[0;34m(values, labels, na_sentinel, assume_unique)\u001b[0m\n\u001b[1;32m    465\u001b[0m         \u001b[0;31m# unorderable in py3 if mixed str/int\u001b[0m\u001b[0;34m\u001b[0m\u001b[0;34m\u001b[0m\u001b[0;34m\u001b[0m\u001b[0m\n\u001b[0;32m--> 466\u001b[0;31m         \u001b[0mordered\u001b[0m \u001b[0;34m=\u001b[0m \u001b[0msort_mixed\u001b[0m\u001b[0;34m(\u001b[0m\u001b[0mvalues\u001b[0m\u001b[0;34m)\u001b[0m\u001b[0;34m\u001b[0m\u001b[0;34m\u001b[0m\u001b[0m\n\u001b[0m\u001b[1;32m    467\u001b[0m     \u001b[0;32melse\u001b[0m\u001b[0;34m:\u001b[0m\u001b[0;34m\u001b[0m\u001b[0;34m\u001b[0m\u001b[0m\n",
            "\u001b[0;32m/usr/local/lib/python3.6/dist-packages/pandas/core/sorting.py\u001b[0m in \u001b[0;36msort_mixed\u001b[0;34m(values)\u001b[0m\n\u001b[1;32m    458\u001b[0m                            dtype=bool)\n\u001b[0;32m--> 459\u001b[0;31m         \u001b[0mnums\u001b[0m \u001b[0;34m=\u001b[0m \u001b[0mnp\u001b[0m\u001b[0;34m.\u001b[0m\u001b[0msort\u001b[0m\u001b[0;34m(\u001b[0m\u001b[0mvalues\u001b[0m\u001b[0;34m[\u001b[0m\u001b[0;34m~\u001b[0m\u001b[0mstr_pos\u001b[0m\u001b[0;34m]\u001b[0m\u001b[0;34m)\u001b[0m\u001b[0;34m\u001b[0m\u001b[0;34m\u001b[0m\u001b[0m\n\u001b[0m\u001b[1;32m    460\u001b[0m         \u001b[0mstrs\u001b[0m \u001b[0;34m=\u001b[0m \u001b[0mnp\u001b[0m\u001b[0;34m.\u001b[0m\u001b[0msort\u001b[0m\u001b[0;34m(\u001b[0m\u001b[0mvalues\u001b[0m\u001b[0;34m[\u001b[0m\u001b[0mstr_pos\u001b[0m\u001b[0;34m]\u001b[0m\u001b[0;34m)\u001b[0m\u001b[0;34m\u001b[0m\u001b[0;34m\u001b[0m\u001b[0m\n",
            "\u001b[0;32m/usr/local/lib/python3.6/dist-packages/numpy/core/fromnumeric.py\u001b[0m in \u001b[0;36msort\u001b[0;34m(a, axis, kind, order)\u001b[0m\n\u001b[1;32m    933\u001b[0m         \u001b[0ma\u001b[0m \u001b[0;34m=\u001b[0m \u001b[0masanyarray\u001b[0m\u001b[0;34m(\u001b[0m\u001b[0ma\u001b[0m\u001b[0;34m)\u001b[0m\u001b[0;34m.\u001b[0m\u001b[0mcopy\u001b[0m\u001b[0;34m(\u001b[0m\u001b[0morder\u001b[0m\u001b[0;34m=\u001b[0m\u001b[0;34m\"K\"\u001b[0m\u001b[0;34m)\u001b[0m\u001b[0;34m\u001b[0m\u001b[0;34m\u001b[0m\u001b[0m\n\u001b[0;32m--> 934\u001b[0;31m     \u001b[0ma\u001b[0m\u001b[0;34m.\u001b[0m\u001b[0msort\u001b[0m\u001b[0;34m(\u001b[0m\u001b[0maxis\u001b[0m\u001b[0;34m=\u001b[0m\u001b[0maxis\u001b[0m\u001b[0;34m,\u001b[0m \u001b[0mkind\u001b[0m\u001b[0;34m=\u001b[0m\u001b[0mkind\u001b[0m\u001b[0;34m,\u001b[0m \u001b[0morder\u001b[0m\u001b[0;34m=\u001b[0m\u001b[0morder\u001b[0m\u001b[0;34m)\u001b[0m\u001b[0;34m\u001b[0m\u001b[0;34m\u001b[0m\u001b[0m\n\u001b[0m\u001b[1;32m    935\u001b[0m     \u001b[0;32mreturn\u001b[0m \u001b[0ma\u001b[0m\u001b[0;34m\u001b[0m\u001b[0;34m\u001b[0m\u001b[0m\n",
            "\u001b[0;32mpandas/_libs/tslibs/timestamps.pyx\u001b[0m in \u001b[0;36mpandas._libs.tslibs.timestamps._Timestamp.__richcmp__\u001b[0;34m()\u001b[0m\n",
            "\u001b[0;31mTypeError\u001b[0m: Cannot compare type 'Timestamp' with type 'int'",
            "\nDuring handling of the above exception, another exception occurred:\n",
            "\u001b[0;31mTypeError\u001b[0m                                 Traceback (most recent call last)",
            "\u001b[0;32m<ipython-input-69-05e203d82adc>\u001b[0m in \u001b[0;36m<module>\u001b[0;34m()\u001b[0m\n\u001b[1;32m      1\u001b[0m \u001b[0mmergeSubLista\u001b[0m \u001b[0;34m=\u001b[0m \u001b[0mmergeSubLista\u001b[0m\u001b[0;34m.\u001b[0m\u001b[0mreset_index\u001b[0m\u001b[0;34m(\u001b[0m\u001b[0;34m)\u001b[0m\u001b[0;34m\u001b[0m\u001b[0;34m\u001b[0m\u001b[0m\n\u001b[0;32m----> 2\u001b[0;31m \u001b[0mmergeSubLista\u001b[0m \u001b[0;34m=\u001b[0m \u001b[0mmergeSubLista\u001b[0m\u001b[0;34m.\u001b[0m\u001b[0msort_values\u001b[0m\u001b[0;34m(\u001b[0m\u001b[0mby\u001b[0m\u001b[0;34m=\u001b[0m\u001b[0;34m[\u001b[0m\u001b[0;34m\"idAluno\"\u001b[0m\u001b[0;34m,\u001b[0m\u001b[0;34m\"data\"\u001b[0m\u001b[0;34m]\u001b[0m\u001b[0;34m)\u001b[0m\u001b[0;34m\u001b[0m\u001b[0;34m\u001b[0m\u001b[0m\n\u001b[0m\u001b[1;32m      3\u001b[0m \u001b[0mmergeSubLista\u001b[0m\u001b[0;34m.\u001b[0m\u001b[0mreplace\u001b[0m\u001b[0;34m(\u001b[0m\u001b[0mnp\u001b[0m\u001b[0;34m.\u001b[0m\u001b[0mnan\u001b[0m\u001b[0;34m,\u001b[0m \u001b[0;36m0\u001b[0m\u001b[0;34m,\u001b[0m \u001b[0minplace\u001b[0m\u001b[0;34m=\u001b[0m\u001b[0;32mTrue\u001b[0m\u001b[0;34m)\u001b[0m\u001b[0;34m\u001b[0m\u001b[0;34m\u001b[0m\u001b[0m\n\u001b[1;32m      4\u001b[0m \u001b[0mt\u001b[0m \u001b[0;34m=\u001b[0m \u001b[0mpd\u001b[0m\u001b[0;34m.\u001b[0m\u001b[0mTimedelta\u001b[0m\u001b[0;34m(\u001b[0m\u001b[0;34m\"3 seconds\"\u001b[0m\u001b[0;34m)\u001b[0m\u001b[0;34m\u001b[0m\u001b[0;34m\u001b[0m\u001b[0m\n\u001b[1;32m      5\u001b[0m \u001b[0;34m\u001b[0m\u001b[0m\n",
            "\u001b[0;32m/usr/local/lib/python3.6/dist-packages/pandas/core/frame.py\u001b[0m in \u001b[0;36msort_values\u001b[0;34m(self, by, axis, ascending, inplace, kind, na_position)\u001b[0m\n\u001b[1;32m   4711\u001b[0m                     for x in by]\n\u001b[1;32m   4712\u001b[0m             indexer = lexsort_indexer(keys, orders=ascending,\n\u001b[0;32m-> 4713\u001b[0;31m                                       na_position=na_position)\n\u001b[0m\u001b[1;32m   4714\u001b[0m             \u001b[0mindexer\u001b[0m \u001b[0;34m=\u001b[0m \u001b[0mensure_platform_int\u001b[0m\u001b[0;34m(\u001b[0m\u001b[0mindexer\u001b[0m\u001b[0;34m)\u001b[0m\u001b[0;34m\u001b[0m\u001b[0;34m\u001b[0m\u001b[0m\n\u001b[1;32m   4715\u001b[0m         \u001b[0;32melse\u001b[0m\u001b[0;34m:\u001b[0m\u001b[0;34m\u001b[0m\u001b[0;34m\u001b[0m\u001b[0m\n",
            "\u001b[0;32m/usr/local/lib/python3.6/dist-packages/pandas/core/sorting.py\u001b[0m in \u001b[0;36mlexsort_indexer\u001b[0;34m(keys, orders, na_position)\u001b[0m\n\u001b[1;32m    205\u001b[0m         \u001b[0;31m# create the Categorical\u001b[0m\u001b[0;34m\u001b[0m\u001b[0;34m\u001b[0m\u001b[0;34m\u001b[0m\u001b[0m\n\u001b[1;32m    206\u001b[0m         \u001b[0;32melse\u001b[0m\u001b[0;34m:\u001b[0m\u001b[0;34m\u001b[0m\u001b[0;34m\u001b[0m\u001b[0m\n\u001b[0;32m--> 207\u001b[0;31m             \u001b[0mc\u001b[0m \u001b[0;34m=\u001b[0m \u001b[0mCategorical\u001b[0m\u001b[0;34m(\u001b[0m\u001b[0mkey\u001b[0m\u001b[0;34m,\u001b[0m \u001b[0mordered\u001b[0m\u001b[0;34m=\u001b[0m\u001b[0;32mTrue\u001b[0m\u001b[0;34m)\u001b[0m\u001b[0;34m\u001b[0m\u001b[0;34m\u001b[0m\u001b[0m\n\u001b[0m\u001b[1;32m    208\u001b[0m \u001b[0;34m\u001b[0m\u001b[0m\n\u001b[1;32m    209\u001b[0m         \u001b[0;32mif\u001b[0m \u001b[0mna_position\u001b[0m \u001b[0;32mnot\u001b[0m \u001b[0;32min\u001b[0m \u001b[0;34m[\u001b[0m\u001b[0;34m'last'\u001b[0m\u001b[0;34m,\u001b[0m \u001b[0;34m'first'\u001b[0m\u001b[0;34m]\u001b[0m\u001b[0;34m:\u001b[0m\u001b[0;34m\u001b[0m\u001b[0;34m\u001b[0m\u001b[0m\n",
            "\u001b[0;32m/usr/local/lib/python3.6/dist-packages/pandas/core/arrays/categorical.py\u001b[0m in \u001b[0;36m__init__\u001b[0;34m(self, values, categories, ordered, dtype, fastpath)\u001b[0m\n\u001b[1;32m    362\u001b[0m                     \u001b[0;31m# raise, as we don't have a sortable data structure and so\u001b[0m\u001b[0;34m\u001b[0m\u001b[0;34m\u001b[0m\u001b[0;34m\u001b[0m\u001b[0m\n\u001b[1;32m    363\u001b[0m                     \u001b[0;31m# the user should give us one by specifying categories\u001b[0m\u001b[0;34m\u001b[0m\u001b[0;34m\u001b[0m\u001b[0;34m\u001b[0m\u001b[0m\n\u001b[0;32m--> 364\u001b[0;31m                     raise TypeError(\"'values' is not ordered, please \"\n\u001b[0m\u001b[1;32m    365\u001b[0m                                     \u001b[0;34m\"explicitly specify the categories order \"\u001b[0m\u001b[0;34m\u001b[0m\u001b[0;34m\u001b[0m\u001b[0m\n\u001b[1;32m    366\u001b[0m                                     \"by passing in a categories argument.\")\n",
            "\u001b[0;31mTypeError\u001b[0m: 'values' is not ordered, please explicitly specify the categories order by passing in a categories argument."
          ]
        }
      ]
    },
    {
      "cell_type": "code",
      "metadata": {
        "id": "_diKO1rJIy-v",
        "colab_type": "code",
        "colab": {}
      },
      "source": [
        "from google.colab import drive\n",
        "drive.mount('/content/drive')"
      ],
      "execution_count": 0,
      "outputs": []
    },
    {
      "cell_type": "code",
      "metadata": {
        "id": "3bSgTHzy930j",
        "colab_type": "code",
        "outputId": "a18257f2-34db-40a4-93fe-47ced6af0e21",
        "colab": {
          "base_uri": "https://localhost:8080/",
          "height": 238
        }
      },
      "source": [
        "mergeSubLista.info()"
      ],
      "execution_count": 0,
      "outputs": [
        {
          "output_type": "stream",
          "text": [
            "<class 'pandas.core.frame.DataFrame'>\n",
            "Int64Index: 48614 entries, 27383 to 48359\n",
            "Data columns (total 8 columns):\n",
            "index                48614 non-null int64\n",
            "idLista              48614 non-null object\n",
            "questao              48614 non-null object\n",
            "titulo               48614 non-null object\n",
            "quantidade           48614 non-null float64\n",
            "data                 48614 non-null object\n",
            "porcentagemAcerto    48614 non-null float64\n",
            "idAluno              48614 non-null object\n",
            "dtypes: float64(2), int64(1), object(5)\n",
            "memory usage: 3.3+ MB\n"
          ],
          "name": "stdout"
        }
      ]
    },
    {
      "cell_type": "markdown",
      "metadata": {
        "colab_type": "text",
        "id": "NE1G3460Y8Bo"
      },
      "source": [
        "**Criar um arquivo CSV com as informações das submissões e as informações da lista com titulo e quantidade**"
      ]
    },
    {
      "cell_type": "code",
      "metadata": {
        "id": "lGAjwirij4Af",
        "colab_type": "code",
        "colab": {}
      },
      "source": [
        "mergeSubLista.to_csv(r'lopSubLista.csv')"
      ],
      "execution_count": 0,
      "outputs": []
    }
  ]
}