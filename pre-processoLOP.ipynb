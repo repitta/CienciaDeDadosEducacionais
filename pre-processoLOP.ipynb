{
  "nbformat": 4,
  "nbformat_minor": 0,
  "metadata": {
    "colab": {
      "name": "LOP.ipynb",
      "provenance": [],
      "collapsed_sections": [],
      "include_colab_link": true
    },
    "kernelspec": {
      "name": "python3",
      "display_name": "Python 3"
    }
  },
  "cells": [
    {
      "cell_type": "markdown",
      "metadata": {
        "id": "view-in-github",
        "colab_type": "text"
      },
      "source": [
        "<a href=\"https://colab.research.google.com/github/repitta/CienciaDeDadosEducacionais/blob/master/pre-processoLOP.ipynb\" target=\"_parent\"><img src=\"https://colab.research.google.com/assets/colab-badge.svg\" alt=\"Open In Colab\"/></a>"
      ]
    },
    {
      "cell_type": "markdown",
      "metadata": {
        "id": "hwx4W4sEMVk9",
        "colab_type": "text"
      },
      "source": [
        "#<h1>Exploração dos dados do sistema LOP"
      ]
    },
    {
      "cell_type": "markdown",
      "metadata": {
        "id": "rJE6lkdSMliM",
        "colab_type": "text"
      },
      "source": [
        "Nesse projeto iremos fazer a análise exploratória de dados e suas representações visuais, que  engloba um conjunto de estatísticas quantitativas e gráficas que nos mostram as tendências, detectam comportamentos, testam a validade de hipóteses e fazem vários outros estudos.\n",
        "\n",
        "Para esta análise, vamos utilizar os dados fornecidos pelo sistema LOP - Plataforma de gerenciamento de exercícios de programação da Escola de Ciência e Tecnolgia da  Universidade Federal do Rio Grande do Norte (UFRN) e investigar os fatores que influenciam o desempenho dos alunos do Bacharelado em Ciência e Tecnologia.\n",
        "\n",
        "Assim, algumas questões que serão uma base para o nosso estudo podem ser levantadas:\n",
        "\n",
        "1. Como o sucesso dos alunos tem sido ao longo dos anos?\n",
        "2.  Uma configuração (tamanho, horário) da classe influencia  nesse desempenho?\n",
        "3. Quais habilidades são aprendidas pelos alunos? (Perseverança,  Raciocínio Lógico, Atenção aos detalhes, Pensamento Abstrato )\n",
        "4. Qual o perfil dos alunos?\n",
        "5. Quais os estilos de aprendizagem?\n",
        "6. E finalmente, qual a influência da  autorregulação da aprendizagem do aluno no seu redimento?\n",
        "\n",
        "\n",
        "\n",
        "\n",
        "E tendo respondido a essas perguntas que, ao longo deste trabalho, geraremos gráficos e tabelas que relacionam a média dos alunos e o número de alunos aprovados e reprovados desde 2017.2  a 2019.1 com elementos como:\n",
        "\n",
        "* O número de alunos por turma;\n",
        "* O turno de aula;\n",
        "* A quantidade de exercícios repondidos;\n",
        "*A frequência que o aluno responde as atividades;\n",
        "* E a quantidade de ausências de estudantes.\n",
        "*Quantidade de linhas do código? \n",
        "*número de acessos a uma determinada tarefa?\n",
        "*Sequência de acesso do conteúdo oferecido\n",
        "*Data e hora de acesso às atividades\n",
        "*notas do aluno;\n",
        "\n",
        "Tais dados serão compilados e assim gerar informações como atividades que os alunos mais atrasam, atividades em que os alunos possuem desempenho menor e conteúdos que são mais visualizados ou menos acessados."
      ]
    },
    {
      "cell_type": "markdown",
      "metadata": {
        "id": "OK6l92cNXhWO",
        "colab_type": "text"
      },
      "source": [
        "# Análise dos dados dos usuários do sistema LOP"
      ]
    },
    {
      "cell_type": "markdown",
      "metadata": {
        "id": "_ucU21OZ2Xfl",
        "colab_type": "text"
      },
      "source": [
        "O sistema LOP - Plataforma de gerenciamento de exercícios de programação da Escola de Ciência e Tecnolgia da Universidade Federal do Rio Grande do Norte (UFRN) disponibiliza o recurso **lop.user.csv**, uma base de dados com registro dos usuários cadastrados no sistema LOP desde o ano 2017.2.\n",
        "\n",
        "Para cada usuário há informações de _id, email, grupos.0, hash, listasFavoritas, matricula, nome, questoesFavoritas, salt e sigaa.turmas\n",
        "\n",
        "1. A variável  **_id indica**  o número único data indentificação do usuário no sistema.\n",
        "\n",
        "2. A variável  **email** armazena o endereço eletrônico informado pelo usuário\n",
        "\n",
        "3. A variável  **grupos.0** indica o papel o usuário no sistema. Porém essa coluna está com o mesmo valor para todos . USUARIO\n",
        "\n",
        "4. A variável  **hash** ...\n",
        "\n",
        "5. A variável **listasFavoritas** indica .... está coluna está em branco para todos os campos\n",
        "\n",
        "6. A variável  **matricula** indica o número de matricula informado pelo usuário\n",
        "\n",
        "7. A variável **nome** armazena os nomes dos usuários\n",
        "\n",
        "8. A variável **questoesFavoritas** indica quais as questões o usuário classificou como favorita\n",
        "\n",
        "9. A variável **salt** ...\n",
        "\n",
        "10. A variável **sigaa.turmas** ...\n",
        "\n",
        "O nosso dataset tem 49 colunas e 1067 linhas\n",
        "\n",
        "\n"
      ]
    },
    {
      "cell_type": "markdown",
      "metadata": {
        "id": "vJhnFyTsXsi6",
        "colab_type": "text"
      },
      "source": [
        "#Análise dos dados das turmas do sistema LOP"
      ]
    },
    {
      "cell_type": "markdown",
      "metadata": {
        "id": "HApR0AZE7yyA",
        "colab_type": "text"
      },
      "source": [
        "O sistema LOP - Plataforma de gerenciamento de exercícios de programação da Escola de Ciência e Tecnolgia da Universidade Federal do Rio Grande do Norte (UFRN) disponibiliza o recurso **lop.turmas.csv**, uma base de dados com registro das turmas cadastradas no sistema LOP desde o ano 2017.2.\n",
        "\n",
        "Para cada turma há informações 355 colunas . Muitas dessas informações foram exportadas do SIGAA e não são releventes para a pesquisa. Vamos descrever as variáveis que serão utilizadas no estudo.\n",
        "\n",
        "1. A variável **_id armazena** o número único para identificar cada turma cadastrada\n",
        "2. A variável **anoPeriodoString** armazena o ano e o respectivo período: .1 para o primeiro sementre .2 para o segundo sementre\n",
        "3. A variável **descricaoTurma** armazena o nome da disciplina e o nome da turma\n",
        "4. A variável **qtdMatriculados** armazena a quantidade de alunos matriculados em cada turma, tem muitos obejtos faltantes , não foi utilizado no estudo\n",
        "5. A variável **horariosTurma.0.descricaoTurno** armazena o período que a turma foi oferdada : Manhã, Tarde ou Noite, tem muito objetos faltantes, não foi utilizadono estudo.\n",
        "6. A variável **matrícula** armazena a matricula do usuário\n",
        "\n",
        "O nosso dataset tem 355 colunas e 48 linhas"
      ]
    },
    {
      "cell_type": "markdown",
      "metadata": {
        "id": "JoiuIwBEXxbz",
        "colab_type": "text"
      },
      "source": [
        "# Análise dos dados das listas de questões do sistema Lop"
      ]
    },
    {
      "cell_type": "markdown",
      "metadata": {
        "id": "62BdGAvqEcb7",
        "colab_type": "text"
      },
      "source": [
        "\n",
        "\n",
        "O sistema LOP - Plataforma de gerenciamento de exercícios de programação da Escola de Ciência e Tecnolgia da Universidade Federal do Rio Grande do Norte (UFRN) disponibiliza o recurso **lop.listasExercicios.csv**, uma base de dados com registro das listas de exercícios cadastradas no sistema LOP desde o ano 2017.2.\n",
        "\n",
        "Para cada lista de questões há informações  _id, likes, questoes, titulo.\n",
        "\n",
        "1. A variável **_id** é um número único que idenfifica cada lista de questões\n",
        "2. A variável **likes** ... está coluna está toda zerada\n",
        "3.A variável  **questões** armazena o número único para cada questão cadastrada\n",
        "4. a variável **titulo** armazena o titulo de cada questão\n",
        "\n",
        "O nosso dataset tem 23 colunas e 23 linhas"
      ]
    },
    {
      "cell_type": "markdown",
      "metadata": {
        "id": "MSxoUSh9X2Wf",
        "colab_type": "text"
      },
      "source": [
        "#Análise dos dados das submissões das questões do sistema Lop"
      ]
    },
    {
      "cell_type": "markdown",
      "metadata": {
        "id": "OEkqnhzK45BH",
        "colab_type": "text"
      },
      "source": [
        "\n",
        "\n",
        "O sistema LOP - Plataforma de gerenciamento de exercícios de programação da Escola de Ciência e Tecnolgia da Universidade Federal do Rio Grande do Norte (UFRN) disponibiliza o recurso **lop.submissoes.csv**, uma base de dados com registro das listas de exercícios cadastradas no sistema LOP desde o ano 2017.2.\n",
        "\n",
        "Para cada submissão há informações _id, codigo, data, porcentagemAcerto, questao.\n",
        "\n",
        "1. A variável **_id**  armazena um número único da submissão de uma questão por aluno\n",
        "2. A variável **codigo** armazena o código que foi feito pelo aluno\n",
        "3. A variável **data** armazena data e hora de cada submissão\n",
        "4. A variável **porcentagemAcerto** armazena o valor da porcentagem de acerto de cada questão submetida\n",
        "5. A variável **questao** armazena o id da questão que foi submetida\n",
        "\n",
        "O nosso dataset tem 55  colunas e 33421 linhas"
      ]
    },
    {
      "cell_type": "markdown",
      "metadata": {
        "id": "Nv4Lapt4X6Mb",
        "colab_type": "text"
      },
      "source": [
        "# Modelando os dados"
      ]
    },
    {
      "cell_type": "markdown",
      "metadata": {
        "id": "f9DznxXXZeo-",
        "colab_type": "text"
      },
      "source": [
        "**Importa as bibliotecas**"
      ]
    },
    {
      "cell_type": "code",
      "metadata": {
        "id": "HLNKmDjRZYW-",
        "colab_type": "code",
        "colab": {}
      },
      "source": [
        "import pandas as pd\n",
        "from csv import reader\n",
        "import numpy as np"
      ],
      "execution_count": 0,
      "outputs": []
    },
    {
      "cell_type": "markdown",
      "metadata": {
        "id": "hUpgEIjtZzeR",
        "colab_type": "text"
      },
      "source": [
        "**Lendo os arquivos CSV do Lop e definindo os tipos de cada coluna**"
      ]
    },
    {
      "cell_type": "code",
      "metadata": {
        "id": "UEVdkG942Q2o",
        "colab_type": "code",
        "outputId": "db6460e5-37f6-4f7f-bfa9-9432ef1cc6c2",
        "colab": {
          "base_uri": "https://localhost:8080/",
          "height": 51
        }
      },
      "source": [
        "#Tipos de dados em cada coluna\n",
        "typeUser   = {\"_id\":str, \"matricula\":str, \"nome\":str}\n",
        "typeTurmas = {\"_id\":str, 'anoPeriodoString':np.float, 'descricaoTurma':str}\n",
        "typeLista  = {\"_id\":str,\"titulo\":str,\"questao\":str}\n",
        "typeSub    = {\"porcentagemAcerto\":np.int,\"user\":str} \n",
        "         \n",
        "# Ler os arquivos CSV que foram gerados a partir do banco de dados do sistema LOP\n",
        "lopUsers     = pd.read_csv(\"https://github.com/repitta/CienciaDeDadosEducacionais/raw/master/arquivosCSV/lop_db_2019_09_csv/lop.users.csv\",dtype=typeUser)\n",
        "lopTurmas    = pd.read_csv(\"https://raw.githubusercontent.com/repitta/CienciaDeDadosEducacionais/master/arquivosCSV/lop_db_2019_09_csv/lop.turmas.csv\",dtype=typeTurmas)\n",
        "lopListas    = pd.read_csv(\"https://raw.githubusercontent.com/repitta/CienciaDeDadosEducacionais/master/arquivosCSV/lop_db_2019_09_csv/lop.listasExercicios.csv\",dtype=typeLista) \n",
        "#Arquivo muito grande !! não tem como colocar no git\n",
        "#lopSub      = pd.read_csv(\"https://github.com/repitta/CienciaDeDadosEducacionais/raw/master/arquivosCSV/lop.submissoes.csv\",dtype=typeSub)\n",
        "lopSub       = pd.read_csv(\"lop.submissoes.csv\",dtype=typeSub)\n",
        "#lopProvas    = pd.read_csv(\"https://raw.githubusercontent.com/repitta/CienciaDeDadosEducacionais/master/arquivosCSV/lop.provas.csv\")\n",
        "#lopSubProvas = pd.read_csv(\"https://github.com/repitta/CienciaDeDadosEducacionais/raw/master/arquivosCSV/lop.submissoesProva.csv\")\n",
        "\n",
        "\n",
        "#definindo a coluna data as tabelas para o formato datetime do pandas\n",
        "lopSub[\"data\"]       = pd.to_datetime(lopSub[\"data\"], format = \"%Y/%m/%dT%H:%M:%S\")\n",
        "#lopSubProvas[\"data\"] = pd.to_datetime(lopSubProvas[\"data\"], format = \"%Y/%m/%dT%H:%M:%S\")"
      ],
      "execution_count": 2,
      "outputs": [
        {
          "output_type": "stream",
          "text": [
            "/usr/local/lib/python3.6/dist-packages/IPython/core/interactiveshell.py:2718: DtypeWarning: Columns (51,55,59) have mixed types. Specify dtype option on import or set low_memory=False.\n",
            "  interactivity=interactivity, compiler=compiler, result=result)\n"
          ],
          "name": "stderr"
        }
      ]
    },
    {
      "cell_type": "markdown",
      "metadata": {
        "id": "_S6RZEUATWZ1",
        "colab_type": "text"
      },
      "source": [
        "**Selecionar as colunas com os dados que serão utilizados no estudo**"
      ]
    },
    {
      "cell_type": "code",
      "metadata": {
        "id": "kB7_XugX8I1s",
        "colab_type": "code",
        "outputId": "59214a01-20f5-47ca-87d1-e8182b27c8b5",
        "colab": {
          "base_uri": "https://localhost:8080/",
          "height": 54
        }
      },
      "source": [
        "#Tabela Usuários - tab_user armazena as colunas \"_id\", \"matricula\", \"nome\" \n",
        "tabUser = lopUsers.loc[:,[\"_id\", \"matricula\", \"nome\"]].copy()\n",
        "\n",
        "#Tabela Turmas - tab_turmas armazena as colunas \"_id\", \"anoPeriodoString\",\"descricaoTurma\", \"matricula\"\n",
        "tabTurmas = lopTurmas.loc[:,[\"_id\", \"anoPeriodoString\",\"descricaoTurma\"]].copy()\n",
        "matricula = []\n",
        "turno     = []\n",
        "for j in range(len(tabTurmas)):\n",
        "  idMatriculat = []\n",
        "  for i in range(30):\n",
        "    idMatriculat.append(lopTurmas.loc[:,\"dicentes.\"+str(i)+\".matricula\"][j])\n",
        "  matricula.append(idMatriculat)                     \n",
        "tabTurmas.loc[:,\"matricula\"] = pd.Series(matricula)\n",
        "\n",
        "#Tabela Listas - tab_listas armazena as colunas \"id\",\"questoes, titulo\"\n",
        "tabListas = lopListas.loc[:,[\"_id\",\"titulo\"]].copy()\n",
        "idLista   = []\n",
        "for j in range(len(tabListas)):\n",
        "  idQuestoes =[]\n",
        "  for i in range(16):\n",
        "    idQuestoes.append(lopListas.loc[:,\"questoes.\"+str(i)][j])\n",
        "  idLista.append(idQuestoes)\n",
        "tabListas.loc[:,\"questao\"] = pd.Series(idLista)\n",
        "\n",
        "#Tabela SubmissoesLista - taSub armazena as colunas \"data\",\"porcentagemAcerto\",\"questao\", \"user\"\n",
        "tabSub = lopSub.loc[:,[\"data\",\"porcentagemAcerto\",\"questao\", \"user\"]].copy()\n",
        "tabSub.rename(columns={\"user\":\"idAluno\"}, inplace=True)\n",
        "\n",
        "'''\n",
        "#Tabela Provas - lopProvas armazena as colunas \"_id\",\"questao\",\"titulo\",\"iniciou\n",
        "tabProvas = lopProvas.loc[:,[\"_id\", \"titulo\",\"iniciou\"]].copy()\n",
        "questao   = []\n",
        "turma     = []\n",
        "for j in range(len(tabProvas)):\n",
        "  idQuestaot = []\n",
        "  idTurmat  = []\n",
        "  for i in range(8):\n",
        "    idTurmat.append(lopProvas.loc[:,\"turmas.\"+str(i)][j])\n",
        "    if i <=5 :\n",
        "      idQuestaot.append(lopProvas.loc[:,\"questoes.\"+str(i)][j]) \n",
        "  questao.append(idQuestaot)\n",
        "  turma.append(idTurmat)\n",
        "tabProvas.loc[:,\"questao\"] = pd.Series(questao)\n",
        "tabProvas.loc[:,\"turma\"]   = pd.Series(turma)\n",
        "\n",
        "#Tabela SubmissoesProva - tabSubProvas armazena as colunas \n",
        "tabSubProvas = lopSubProvas.loc[:,[\"_id\", \"data\", \"porcentagemAcerto\", \"prova\", \"questao\",\"user\"]].copy()\n",
        "#renomear as colunas de tabSubProvas\n",
        "tabSubProvas.rename(columns={\"_id\":\"idSubmissao\",\"prova\":\"idProva\",\"questao\":\"idQuestao\",\"user\":\"idAluno\"}, inplace=True)\n",
        "'''"
      ],
      "execution_count": 3,
      "outputs": [
        {
          "output_type": "execute_result",
          "data": {
            "text/plain": [
              "'\\n#Tabela Provas - lopProvas armazena as colunas \"_id\",\"questao\",\"titulo\",\"iniciou\\ntabProvas = lopProvas.loc[:,[\"_id\", \"titulo\",\"iniciou\"]].copy()\\nquestao   = []\\nturma     = []\\nfor j in range(len(tabProvas)):\\n  idQuestaot = []\\n  idTurmat  = []\\n  for i in range(8):\\n    idTurmat.append(lopProvas.loc[:,\"turmas.\"+str(i)][j])\\n    if i <=5 :\\n      idQuestaot.append(lopProvas.loc[:,\"questoes.\"+str(i)][j]) \\n  questao.append(idQuestaot)\\n  turma.append(idTurmat)\\ntabProvas.loc[:,\"questao\"] = pd.Series(questao)\\ntabProvas.loc[:,\"turma\"]   = pd.Series(turma)\\n\\n#Tabela SubmissoesProva - tabSubProvas armazena as colunas \\ntabSubProvas = lopSubProvas.loc[:,[\"_id\", \"data\", \"porcentagemAcerto\", \"prova\", \"questao\",\"user\"]].copy()\\n#renomear as colunas de tabSubProvas\\ntabSubProvas.rename(columns={\"_id\":\"idSubmissao\",\"prova\":\"idProva\",\"questao\":\"idQuestao\",\"user\":\"idAluno\"}, inplace=True)\\n'"
            ]
          },
          "metadata": {
            "tags": []
          },
          "execution_count": 3
        }
      ]
    },
    {
      "cell_type": "markdown",
      "metadata": {
        "id": "QaM3VVsfbXve",
        "colab_type": "text"
      },
      "source": [
        "**Estrutura da cada dataframe após a seleção dos dados**"
      ]
    },
    {
      "cell_type": "code",
      "metadata": {
        "id": "Kp3c-G-NbWjb",
        "colab_type": "code",
        "outputId": "c0ab90d1-2cac-4e55-82b0-06e0188fa131",
        "colab": {
          "base_uri": "https://localhost:8080/",
          "height": 153
        }
      },
      "source": [
        "print(\"Tabelas de Usuários Colunas        \\n\",tabUser.columns,      tabUser.shape)\n",
        "print(\"Tabelas de Turmas Colunas          \\n\",tabTurmas.columns,    tabTurmas.shape)\n",
        "print(\"Tabelas de Listas Colunas          \\n\",tabListas.columns,    tabListas.shape)\n",
        "print(\"Tabelas de SubmissoesLista Colunas \\n\",tabSub.columns,       tabSub.shape)\n",
        "#print(\"Tabelas de Provas Colunas          \\n\",tabProvas.columns,    tabProvas.shape)\n",
        "#print(\"Tabelas de SubmissoesProvas Colunas\\n\",tabSubProvas.columns, tabSubProvas.shape)"
      ],
      "execution_count": 4,
      "outputs": [
        {
          "output_type": "stream",
          "text": [
            "Tabelas de Usuários Colunas        \n",
            " Index(['_id', 'matricula', 'nome'], dtype='object') (1422, 3)\n",
            "Tabelas de Turmas Colunas          \n",
            " Index(['_id', 'anoPeriodoString', 'descricaoTurma', 'matricula'], dtype='object') (60, 4)\n",
            "Tabelas de Listas Colunas          \n",
            " Index(['_id', 'titulo', 'questao'], dtype='object') (25, 3)\n",
            "Tabelas de SubmissoesLista Colunas \n",
            " Index(['data', 'porcentagemAcerto', 'questao', 'idAluno'], dtype='object') (49293, 4)\n"
          ],
          "name": "stdout"
        }
      ]
    },
    {
      "cell_type": "markdown",
      "metadata": {
        "id": "eDnUAuV9QQk_",
        "colab_type": "text"
      },
      "source": [
        "**Transformar os dados da tabela User**"
      ]
    },
    {
      "cell_type": "code",
      "metadata": {
        "id": "sJXKBef0QirB",
        "colab_type": "code",
        "outputId": "1a4b60ee-9e7a-41ff-b914-f2d49d69c300",
        "colab": {
          "base_uri": "https://localhost:8080/",
          "height": 272
        }
      },
      "source": [
        "#renomeando a coluna _id para idAluno\n",
        "tabUser.rename(columns={\"_id\":\"idAluno\"}, inplace=True)\n",
        "\n",
        "#Limpando a coluna matricula, onde tem .0 no final da matricula foi retirado\n",
        "tabUser.loc[:,\"matricula\"] = tabUser.loc[:,\"matricula\"].str.replace(\".0\",\"\",regex=False).copy()\n",
        "\n",
        "#imprimir os dados da tabela User\n",
        "print(tabUser.info())\n",
        "print(tabUser.head())"
      ],
      "execution_count": 5,
      "outputs": [
        {
          "output_type": "stream",
          "text": [
            "<class 'pandas.core.frame.DataFrame'>\n",
            "RangeIndex: 1422 entries, 0 to 1421\n",
            "Data columns (total 3 columns):\n",
            "idAluno      1422 non-null object\n",
            "matricula    1421 non-null object\n",
            "nome         1422 non-null object\n",
            "dtypes: object(3)\n",
            "memory usage: 33.4+ KB\n",
            "None\n",
            "                    idAluno    matricula                           nome\n",
            "0  598cd5453bc48946977dcf66   2013023070               Gabriel Tibúrcio\n",
            "1  598cd8b823daeb4b50a4b254      1943220                       Orivaldo\n",
            "2  599155ebb3333c31b7a01e5b     12345678                 Professor João\n",
            "3  5991cb910be9d42f2f68b906  20170039453                         Amanda\n",
            "4  5991cd1a8907ca2f441cd313  20170038394  Emanuel Fernandes P. da Rocha\n"
          ],
          "name": "stdout"
        }
      ]
    },
    {
      "cell_type": "markdown",
      "metadata": {
        "id": "qY7YVa_vAKMh",
        "colab_type": "text"
      },
      "source": [
        "**Expandi a tabela turmas para que cada aluno seja uma linha do dataframe**"
      ]
    },
    {
      "cell_type": "code",
      "metadata": {
        "id": "XeYh8StTIoWs",
        "colab_type": "code",
        "outputId": "237a581d-f274-49b4-8ec1-b4bb734a6399",
        "colab": {
          "base_uri": "https://localhost:8080/",
          "height": 187
        }
      },
      "source": [
        "colunas    = [\"idTurma\",\"ano\",\"descricaoTurma\",\"matricula\"]\n",
        "turmasNovo = pd.DataFrame(columns=colunas)\n",
        "for i in range(tabTurmas.shape[0]):\n",
        "  idTurma        = tabTurmas[\"_id\"].iloc[i]\n",
        "  ano            = tabTurmas[\"anoPeriodoString\"].iloc[i]\n",
        "  descricaoTurma = tabTurmas[\"descricaoTurma\"].iloc[i]\n",
        "  m              = tabTurmas[\"matricula\"].iloc[i]\n",
        "  for a in range(30):\n",
        "    matricula  = m[a]\n",
        "    dic        = {\"idTurma\": idTurma ,\"ano\": ano ,\"descricaoTurma\":descricaoTurma,\"matricula\":matricula}\n",
        "    turmasNovo = pd.concat([turmasNovo, pd.DataFrame(dic, index=[0])],  ignore_index=True, sort = False )\n",
        "    \n",
        "print(turmasNovo.shape)\n",
        "turmasNovo.info()"
      ],
      "execution_count": 6,
      "outputs": [
        {
          "output_type": "stream",
          "text": [
            "(1800, 4)\n",
            "<class 'pandas.core.frame.DataFrame'>\n",
            "RangeIndex: 1800 entries, 0 to 1799\n",
            "Data columns (total 4 columns):\n",
            "idTurma           1800 non-null object\n",
            "ano               1800 non-null float64\n",
            "descricaoTurma    1800 non-null object\n",
            "matricula         1354 non-null object\n",
            "dtypes: float64(1), object(3)\n",
            "memory usage: 56.3+ KB\n"
          ],
          "name": "stdout"
        }
      ]
    },
    {
      "cell_type": "markdown",
      "metadata": {
        "id": "i2lr8ckEmeGq",
        "colab_type": "text"
      },
      "source": [
        "**Apagar os registros onde o campo da coluna Matricula é nulo**"
      ]
    },
    {
      "cell_type": "code",
      "metadata": {
        "id": "ERu1FnXNmdve",
        "colab_type": "code",
        "outputId": "61db00b3-0fbb-4406-c2da-825486ca5d09",
        "colab": {
          "base_uri": "https://localhost:8080/",
          "height": 187
        }
      },
      "source": [
        "turmasNovo = turmasNovo.dropna(axis=0, how='any')\n",
        "print(turmasNovo.shape)\n",
        "turmasNovo.info()"
      ],
      "execution_count": 7,
      "outputs": [
        {
          "output_type": "stream",
          "text": [
            "(1354, 4)\n",
            "<class 'pandas.core.frame.DataFrame'>\n",
            "Int64Index: 1354 entries, 0 to 1779\n",
            "Data columns (total 4 columns):\n",
            "idTurma           1354 non-null object\n",
            "ano               1354 non-null float64\n",
            "descricaoTurma    1354 non-null object\n",
            "matricula         1354 non-null object\n",
            "dtypes: float64(1), object(3)\n",
            "memory usage: 52.9+ KB\n"
          ],
          "name": "stdout"
        }
      ]
    },
    {
      "cell_type": "markdown",
      "metadata": {
        "id": "WpkOMzzEnRTl",
        "colab_type": "text"
      },
      "source": [
        "**Transformar os dados da tabela Turmas**"
      ]
    },
    {
      "cell_type": "code",
      "metadata": {
        "id": "s7ugdXsFnMlb",
        "colab_type": "code",
        "outputId": "490313dc-a266-4af2-a5a9-9aeaf61d7448",
        "colab": {
          "base_uri": "https://localhost:8080/",
          "height": 323
        }
      },
      "source": [
        "#Retirando o .0 da coluna matricula\n",
        "turmasNovo[\"matricula\"] = turmasNovo[\"matricula\"].astype(str)\n",
        "turmasNovo[\"matricula\"] = turmasNovo[\"matricula\"].str.replace(\".0\",\"\",regex=False)\n",
        "\n",
        "print(turmasNovo.info())\n",
        "print(turmasNovo.head()) "
      ],
      "execution_count": 8,
      "outputs": [
        {
          "output_type": "stream",
          "text": [
            "<class 'pandas.core.frame.DataFrame'>\n",
            "Int64Index: 1354 entries, 0 to 1779\n",
            "Data columns (total 4 columns):\n",
            "idTurma           1354 non-null object\n",
            "ano               1354 non-null float64\n",
            "descricaoTurma    1354 non-null object\n",
            "matricula         1354 non-null object\n",
            "dtypes: float64(1), object(3)\n",
            "memory usage: 52.9+ KB\n",
            "None\n",
            "                    idTurma  ...    matricula\n",
            "0  598e15296d8650eb27d52e3d  ...  20170106538\n",
            "1  598e15296d8650eb27d52e3d  ...  20170039453\n",
            "2  598e15296d8650eb27d52e3d  ...  20170044776\n",
            "3  598e15296d8650eb27d52e3d  ...  20170031473\n",
            "4  598e15296d8650eb27d52e3d  ...  20170032274\n",
            "\n",
            "[5 rows x 4 columns]\n"
          ],
          "name": "stdout"
        }
      ]
    },
    {
      "cell_type": "markdown",
      "metadata": {
        "id": "9JaP_RccBmOM",
        "colab_type": "text"
      },
      "source": [
        "**TESTE : Tem matriculas em mais de uma turma**"
      ]
    },
    {
      "cell_type": "code",
      "metadata": {
        "id": "8v0yHpts_EUw",
        "colab_type": "code",
        "outputId": "adf4fc66-c213-480a-9628-eae1eea91e76",
        "colab": {
          "base_uri": "https://localhost:8080/",
          "height": 1000
        }
      },
      "source": [
        "#total de matriculas únicas \n",
        "print(\"Total de matriculas únicas: \",  turmasNovo[\"matricula\"].unique().shape)\n",
        "resultado = turmasNovo.groupby([\"matricula\"]).count()\n",
        "resultado = resultado.reset_index()\n",
        "print(resultado.loc[resultado[\"idTurma\"]==2,\"matricula\"])\n",
        "# tem 917 matriculas em estão em apenas 1 turma \n",
        "# tem 80 matriculas que estão em 2 turmas cadastradas\n",
        "# tem 14 matriculas que estão em 3 turmas cadastradas\n",
        "\n"
      ],
      "execution_count": 9,
      "outputs": [
        {
          "output_type": "stream",
          "text": [
            "Total de matriculas únicas:  (1205,)\n",
            "7       2014084928\n",
            "9       2014085219\n",
            "23     20150121152\n",
            "26     20150126130\n",
            "27     20150126140\n",
            "32     20150131810\n",
            "43      2015092890\n",
            "48     20160002781\n",
            "50     20160100853\n",
            "56     20160107148\n",
            "60     20160107881\n",
            "68     20160109062\n",
            "83     20160141810\n",
            "90     20160142290\n",
            "92     20160142497\n",
            "98     20160143369\n",
            "105    20160146191\n",
            "107    20160146290\n",
            "117    20160158020\n",
            "128     2016018995\n",
            "139     2016053573\n",
            "140     2016090183\n",
            "142     2016090666\n",
            "145     2016094923\n",
            "149     2016097620\n",
            "151     2016098440\n",
            "152     2016098708\n",
            "174    20170030959\n",
            "176    20170030995\n",
            "196    20170032013\n",
            "          ...     \n",
            "629    20180031412\n",
            "637    20180031691\n",
            "646    20180032115\n",
            "678    20180033776\n",
            "681    20180033954\n",
            "687    20180034497\n",
            "691    20180034639\n",
            "695    20180034970\n",
            "698    20180035313\n",
            "730    20180037695\n",
            "761    20180039715\n",
            "762    20180039733\n",
            "791    20180042597\n",
            "812    20180044170\n",
            "813    20180087650\n",
            "848    20180106845\n",
            "852    20180107065\n",
            "865    20180108142\n",
            "894    20180110866\n",
            "897    20180128029\n",
            "909    20180134723\n",
            "912    20180134812\n",
            "924    20180135097\n",
            "930    20180135195\n",
            "933    20180135257\n",
            "955    20180135696\n",
            "965    20180136399\n",
            "968    20180146205\n",
            "970    20180146250\n",
            "988    20180156613\n",
            "Name: matricula, Length: 109, dtype: object\n"
          ],
          "name": "stdout"
        }
      ]
    },
    {
      "cell_type": "markdown",
      "metadata": {
        "id": "Z4XsPWbVP0s7",
        "colab_type": "text"
      },
      "source": [
        "**TESTE : Montar uma turma por ano e descrição**"
      ]
    },
    {
      "cell_type": "code",
      "metadata": {
        "id": "IjdbNngucif0",
        "colab_type": "code",
        "outputId": "7330b870-025d-4681-af2a-34e495a1e8ef",
        "colab": {
          "base_uri": "https://localhost:8080/",
          "height": 238
        }
      },
      "source": [
        "turmasNovoAno=turmasNovo.loc[turmasNovo[\"ano\"] == 2019.1, [\"matricula\",\"descricaoTurma\",\"ano\"]] \n",
        "turmaDescricao = turmasNovoAno.loc[turmasNovoAno[\"descricaoTurma\"].str.contains('Turma 03D', regex=False), [\"matricula\",\"descricaoTurma\",\"ano\"]]\n",
        "print(turmaDescricao.sort_values(by=['matricula']))\n",
        "print(\"Quantidade de alunos \", turmaDescricao.shape)"
      ],
      "execution_count": 10,
      "outputs": [
        {
          "output_type": "stream",
          "text": [
            "        matricula                     descricaoTurma     ano\n",
            "1419  20150126140  LÓGICA DE PROGRAMAÇÃO - Turma 03D  2019.1\n",
            "1418  20170138916  LÓGICA DE PROGRAMAÇÃO - Turma 03D  2019.1\n",
            "1415  20180032572  LÓGICA DE PROGRAMAÇÃO - Turma 03D  2019.1\n",
            "1413  20180034595  LÓGICA DE PROGRAMAÇÃO - Turma 03D  2019.1\n",
            "1411  20180035959  LÓGICA DE PROGRAMAÇÃO - Turma 03D  2019.1\n",
            "1414  20180038333  LÓGICA DE PROGRAMAÇÃO - Turma 03D  2019.1\n",
            "1412  20180042013  LÓGICA DE PROGRAMAÇÃO - Turma 03D  2019.1\n",
            "1420  20180042274  LÓGICA DE PROGRAMAÇÃO - Turma 03D  2019.1\n",
            "1417  20180107468  LÓGICA DE PROGRAMAÇÃO - Turma 03D  2019.1\n",
            "1410  20180135776  LÓGICA DE PROGRAMAÇÃO - Turma 03D  2019.1\n",
            "1416  20180156613  LÓGICA DE PROGRAMAÇÃO - Turma 03D  2019.1\n",
            "Quantidade de alunos  (11, 3)\n"
          ],
          "name": "stdout"
        }
      ]
    },
    {
      "cell_type": "markdown",
      "metadata": {
        "id": "vJQwFhPKAdsk",
        "colab_type": "text"
      },
      "source": [
        "**Concatenar a tabela usuarios com a tabela turmas pela coluna matricula**"
      ]
    },
    {
      "cell_type": "code",
      "metadata": {
        "id": "m42Dn8vrjMT3",
        "colab_type": "code",
        "outputId": "f74be416-acca-4097-c0df-6f3f62f83b25",
        "colab": {
          "base_uri": "https://localhost:8080/",
          "height": 204
        }
      },
      "source": [
        "mergeUserTurmas = pd.merge(right = tabUser, left = turmasNovo, on='matricula', how=\"outer\")\n",
        "mergeUserTurmas.info()"
      ],
      "execution_count": 11,
      "outputs": [
        {
          "output_type": "stream",
          "text": [
            "<class 'pandas.core.frame.DataFrame'>\n",
            "Int64Index: 1678 entries, 0 to 1677\n",
            "Data columns (total 6 columns):\n",
            "idTurma           1354 non-null object\n",
            "ano               1354 non-null float64\n",
            "descricaoTurma    1354 non-null object\n",
            "matricula         1677 non-null object\n",
            "idAluno           1561 non-null object\n",
            "nome              1561 non-null object\n",
            "dtypes: float64(1), object(5)\n",
            "memory usage: 91.8+ KB\n"
          ],
          "name": "stdout"
        }
      ]
    },
    {
      "cell_type": "markdown",
      "metadata": {
        "id": "hLiAUvkSgKoC",
        "colab_type": "text"
      },
      "source": [
        "**TESTE: alunos que não estão cadastrados no sistema e que estão matriculados na disciplina**"
      ]
    },
    {
      "cell_type": "code",
      "metadata": {
        "id": "1FrziQypgWXl",
        "colab_type": "code",
        "outputId": "93fd9f42-58e6-4704-8f54-5c45dcf4ff7f",
        "colab": {
          "base_uri": "https://localhost:8080/",
          "height": 1000
        }
      },
      "source": [
        "print(\"Quantidade de matriculas em user \"                                  ,tabUser[\"matricula\"].shape )\n",
        "print(\"Quantidade de matriculas em turmasNovo \"                            ,turmasNovo[\"matricula\"].shape )\n",
        "print(\"Quantidade de matriculas depois de juntar as tabelas user e turmas \",mergeUserTurmas[\"matricula\"].shape )\n",
        "\n",
        "\n",
        "# TESTE \n",
        "# Existem matriculas na tabela turmas que não se cadastraram no sistema? SIM\n",
        "# Existem 93 matriculas que não tem registro no sistema\n",
        "print(mergeUserTurmas.loc[mergeUserTurmas[\"idAluno\"].isna(), [\"idAluno\",\"matricula\", \"descricaoTurma\", \"ano\"]].sort_values(by=['matricula']))"
      ],
      "execution_count": 12,
      "outputs": [
        {
          "output_type": "stream",
          "text": [
            "Quantidade de matriculas em user  (1422,)\n",
            "Quantidade de matriculas em turmasNovo  (1354,)\n",
            "Quantidade de matriculas depois de juntar as tabelas user e turmas  (1678,)\n",
            "     idAluno    matricula                     descricaoTurma     ano\n",
            "280      NaN   2012927879  LÓGICA DE PROGRAMAÇÃO - Turma 03A  2017.2\n",
            "216      NaN   2014047915  LÓGICA DE PROGRAMAÇÃO - Turma 02C  2017.2\n",
            "403      NaN   2014074420  LÓGICA DE PROGRAMAÇÃO - Turma 01D  2018.1\n",
            "356      NaN   2014084786  LÓGICA DE PROGRAMAÇÃO - Turma 03D  2017.2\n",
            "611      NaN   2014089272  LÓGICA DE PROGRAMAÇÃO - Turma 03B  2018.1\n",
            "27       NaN   2014096268  LÓGICA DE PROGRAMAÇÃO - Turma 01B  2017.2\n",
            "480      NaN   2015011775  LÓGICA DE PROGRAMAÇÃO - Turma 01A  2018.1\n",
            "74       NaN  20150125447  LÓGICA DE PROGRAMAÇÃO - Turma 01C  2017.2\n",
            "745      NaN  20150126140  LÓGICA DE PROGRAMAÇÃO - Turma 03D  2019.1\n",
            "744      NaN  20150126140  LÓGICA DE PROGRAMAÇÃO - Turma 01A  2018.2\n",
            "83       NaN  20150127067  LÓGICA DE PROGRAMAÇÃO - Turma 01C  2017.2\n",
            "863      NaN  20150127700  LÓGICA DE PROGRAMAÇÃO - Turma 01D  2018.2\n",
            "31       NaN   2015014276  LÓGICA DE PROGRAMAÇÃO - Turma 01B  2017.2\n",
            "335      NaN   2015017410  LÓGICA DE PROGRAMAÇÃO - Turma 03C  2017.2\n",
            "845      NaN   2015017714  LÓGICA DE PROGRAMAÇÃO - Turma 01C  2018.2\n",
            "252      NaN   2015017797  LÓGICA DE PROGRAMAÇÃO - Turma 02D  2017.2\n",
            "456      NaN   2015018515  LÓGICA DE PROGRAMAÇÃO - Turma 01B  2018.1\n",
            "158      NaN   2015092110  LÓGICA DE PROGRAMAÇÃO - Turma 02B  2017.2\n",
            "73       NaN   2015092352  LÓGICA DE PROGRAMAÇÃO - Turma 01C  2017.2\n",
            "298      NaN   2015093879  LÓGICA DE PROGRAMAÇÃO - Turma 03B  2017.2\n",
            "255      NaN   2015096431  LÓGICA DE PROGRAMAÇÃO - Turma 03A  2017.2\n",
            "191      NaN  20160002932  LÓGICA DE PROGRAMAÇÃO - Turma 02C  2017.2\n",
            "825      NaN  20160107685  LÓGICA DE PROGRAMAÇÃO - Turma 02D  2018.2\n",
            "118      NaN  20160108889  LÓGICA DE PROGRAMAÇÃO - Turma 01D  2017.2\n",
            "620      NaN   2016011850  LÓGICA DE PROGRAMAÇÃO - Turma 03B  2018.1\n",
            "79       NaN   2016012454  LÓGICA DE PROGRAMAÇÃO - Turma 01C  2017.2\n",
            "882      NaN   2016013578  LÓGICA DE PROGRAMAÇÃO - Turma 02A  2019.1\n",
            "278      NaN  20160141874  LÓGICA DE PROGRAMAÇÃO - Turma 03A  2017.2\n",
            "1236     NaN  20160142156  LÓGICA DE PROGRAMAÇÃO - Turma 01B  2019.1\n",
            "599      NaN  20160142521  LÓGICA DE PROGRAMAÇÃO - Turma 03A  2018.1\n",
            "...      ...          ...                                ...     ...\n",
            "888      NaN  20180033954  LÓGICA DE PROGRAMAÇÃO - Turma 02C  2019.2\n",
            "898      NaN  20180037677  LÓGICA DE PROGRAMAÇÃO - Turma 02C  2019.1\n",
            "1334     NaN  20180039072  LÓGICA DE PROGRAMAÇÃO - Turma 02B  2019.2\n",
            "1322     NaN  20180040313  LÓGICA DE PROGRAMAÇÃO - Turma 02B  2019.2\n",
            "1151     NaN  20180041295  LÓGICA DE PROGRAMAÇÃO - Turma 03B  2019.2\n",
            "676      NaN  20180041894  LÓGICA DE PROGRAMAÇÃO - Turma 03B  2018.2\n",
            "1183     NaN  20180042659  LÓGICA DE PROGRAMAÇÃO - Turma 03D  2019.2\n",
            "853      NaN  20180093470  LÓGICA DE PROGRAMAÇÃO - Turma 01D  2018.2\n",
            "1161     NaN  20180093550  LÓGICA DE PROGRAMAÇÃO - Turma 03C  2019.2\n",
            "880      NaN  20180107047  LÓGICA DE PROGRAMAÇÃO - Turma 02A  2019.1\n",
            "1341     NaN  20180109589  LÓGICA DE PROGRAMAÇÃO - Turma 02C  2019.2\n",
            "1214     NaN  20180127943  LÓGICA DE PROGRAMAÇÃO - Turma 01A  2019.1\n",
            "964      NaN  20180134975  LÓGICA DE PROGRAMAÇÃO - Turma 01A  2019.1\n",
            "1244     NaN  20180135275  LÓGICA DE PROGRAMAÇÃO - Turma 01B  2019.1\n",
            "1323     NaN  20180135444  LÓGICA DE PROGRAMAÇÃO - Turma 02B  2019.2\n",
            "904      NaN  20180136399  LÓGICA DE PROGRAMAÇÃO - Turma 02B  2019.2\n",
            "903      NaN  20180136399  LÓGICA DE PROGRAMAÇÃO - Turma 02C  2019.1\n",
            "1202     NaN  20180136684  LÓGICA DE PROGRAMAÇÃO - Turma 03D  2019.2\n",
            "1293     NaN  20190070352  LÓGICA DE PROGRAMAÇÃO - Turma 02A  2019.2\n",
            "1271     NaN  20190073318  LÓGICA DE PROGRAMAÇÃO - Turma 01D  2019.2\n",
            "1259     NaN  20190074790  LÓGICA DE PROGRAMAÇÃO - Turma 01B  2019.1\n",
            "1321     NaN  20190074914  LÓGICA DE PROGRAMAÇÃO - Turma 02B  2019.2\n",
            "1320     NaN  20190075831  LÓGICA DE PROGRAMAÇÃO - Turma 02B  2019.2\n",
            "1329     NaN  20190078154  LÓGICA DE PROGRAMAÇÃO - Turma 02B  2019.2\n",
            "1303     NaN  20190078978  LÓGICA DE PROGRAMAÇÃO - Turma 02A  2019.2\n",
            "1327     NaN  20190079699  LÓGICA DE PROGRAMAÇÃO - Turma 02B  2019.2\n",
            "1261     NaN  20190080715  LÓGICA DE PROGRAMAÇÃO - Turma 01B  2019.1\n",
            "1299     NaN  20190080930  LÓGICA DE PROGRAMAÇÃO - Turma 02A  2019.2\n",
            "1215     NaN  20190107668  LÓGICA DE PROGRAMAÇÃO - Turma 01A  2019.1\n",
            "437      NaN      2081982  LÓGICA DE PROGRAMAÇÃO - Turma 01C  2018.1\n",
            "\n",
            "[117 rows x 4 columns]\n"
          ],
          "name": "stdout"
        }
      ]
    },
    {
      "cell_type": "markdown",
      "metadata": {
        "id": "VbJai7V0t9IZ",
        "colab_type": "text"
      },
      "source": [
        "**TESTE : Montar a turma pelo ano e pela descrição da turma**"
      ]
    },
    {
      "cell_type": "code",
      "metadata": {
        "id": "XiH9tJ4ui200",
        "colab_type": "code",
        "outputId": "43ac07e7-7680-4595-b114-39b5eb297407",
        "colab": {
          "base_uri": "https://localhost:8080/",
          "height": 153
        }
      },
      "source": [
        "turmaAno       = mergeUserTurmas.loc[mergeUserTurmas.loc[:,\"ano\"] == 2018.2, [\"matricula\",'nome',\"descricaoTurma\",\"ano\", \"idAluno\", \"descricaoHorario\",\"idTurma\"]].copy() \n",
        "turmaDescricao = turmaAno.loc[turmaAno.loc[:,\"descricaoTurma\"].str.contains('Turma 03A', regex=False), [\"matricula\",'nome',\"descricaoTurma\",\"ano\",\"idAluno\",\"descricaoHorario\",\"idTurma\"]].copy()\n",
        "turmaDescricao.shape\n"
      ],
      "execution_count": 13,
      "outputs": [
        {
          "output_type": "stream",
          "text": [
            "/usr/local/lib/python3.6/dist-packages/pandas/core/indexing.py:1494: FutureWarning: \n",
            "Passing list-likes to .loc or [] with any missing label will raise\n",
            "KeyError in the future, you can use .reindex() as an alternative.\n",
            "\n",
            "See the documentation here:\n",
            "https://pandas.pydata.org/pandas-docs/stable/indexing.html#deprecate-loc-reindex-listlike\n",
            "  return self._getitem_tuple(key)\n"
          ],
          "name": "stderr"
        },
        {
          "output_type": "execute_result",
          "data": {
            "text/plain": [
              "(30, 7)"
            ]
          },
          "metadata": {
            "tags": []
          },
          "execution_count": 13
        }
      ]
    },
    {
      "cell_type": "markdown",
      "metadata": {
        "id": "q_9sRf3oeIfj",
        "colab_type": "text"
      },
      "source": [
        "**Criar um arquivo CSV com as informações das turmas do Sigaa e as informações de cadastro do LOP**"
      ]
    },
    {
      "cell_type": "code",
      "metadata": {
        "id": "KonWJ0t1eSkI",
        "colab_type": "code",
        "colab": {}
      },
      "source": [
        "#mergeUserTurmasT= mergeUserTurmas.drop('nome',axis=1)\n",
        "mergeUserTurmas.to_csv(r'lopUsuarioTurma.csv')"
      ],
      "execution_count": 0,
      "outputs": []
    },
    {
      "cell_type": "markdown",
      "metadata": {
        "id": "5rorxQRgxbBu",
        "colab_type": "text"
      },
      "source": [
        "**Expandir a tabela listas para que cada questão seja uma linha da tabela**"
      ]
    },
    {
      "cell_type": "code",
      "metadata": {
        "id": "svlyhJWyxKVn",
        "colab_type": "code",
        "outputId": "9c9641b1-0eb8-4708-a7c9-33db871384c0",
        "colab": {
          "base_uri": "https://localhost:8080/",
          "height": 170
        }
      },
      "source": [
        "colunas = [\"idLista\",\"questao\",\"titulo\"]\n",
        "listaNovo = pd.DataFrame(columns=colunas)\n",
        "for i in range(len(tabListas)):\n",
        "  idLista=tabListas[\"_id\"].iloc[i]\n",
        "  titulo=tabListas[\"titulo\"].iloc[i]\n",
        "  j=tabListas[\"questao\"].iloc[i]\n",
        "  for a in range(16):\n",
        "      questao=j[a]\n",
        "      dic = {\"idLista\": idLista ,\"titulo\":titulo, \"questao\": questao }\n",
        "      listaNovo = pd.concat([listaNovo, pd.DataFrame(dic, index=[0])],  ignore_index=True, sort=False )\n",
        "    \n",
        "print(listaNovo.shape)\n",
        "listaNovo.info()"
      ],
      "execution_count": 30,
      "outputs": [
        {
          "output_type": "stream",
          "text": [
            "(400, 3)\n",
            "<class 'pandas.core.frame.DataFrame'>\n",
            "RangeIndex: 400 entries, 0 to 399\n",
            "Data columns (total 3 columns):\n",
            "idLista    400 non-null object\n",
            "questao    191 non-null object\n",
            "titulo     400 non-null object\n",
            "dtypes: object(3)\n",
            "memory usage: 9.5+ KB\n"
          ],
          "name": "stdout"
        }
      ]
    },
    {
      "cell_type": "markdown",
      "metadata": {
        "id": "-N5umquF0hUZ",
        "colab_type": "text"
      },
      "source": [
        "**Apagar os registros onde o campo da coluna questao é nulo**\n",
        "\n",
        "\n"
      ]
    },
    {
      "cell_type": "code",
      "metadata": {
        "id": "tkwlznQQ0gUG",
        "colab_type": "code",
        "outputId": "e75c46c6-4f4f-473b-b24f-c7b49bc58041",
        "colab": {
          "base_uri": "https://localhost:8080/",
          "height": 34
        }
      },
      "source": [
        "listaNovo = listaNovo.dropna(axis=0, how='any')\n",
        "print(listaNovo.shape)\n",
        "\n"
      ],
      "execution_count": 31,
      "outputs": [
        {
          "output_type": "stream",
          "text": [
            "(191, 3)\n"
          ],
          "name": "stdout"
        }
      ]
    },
    {
      "cell_type": "markdown",
      "metadata": {
        "id": "k0dBYtBB6uZE",
        "colab_type": "text"
      },
      "source": [
        "**Criar um novo campo na tabela ListaNovo com a quantidade de questões por lista**"
      ]
    },
    {
      "cell_type": "code",
      "metadata": {
        "id": "zXCDuMZj4t7V",
        "colab_type": "code",
        "outputId": "db3fd9ed-473d-4754-8608-113571dd82d1",
        "colab": {
          "base_uri": "https://localhost:8080/",
          "height": 374
        }
      },
      "source": [
        "#Apagar as ocorrências em que a mesma questão está em várias listas, só mantendo a primeira lista que ela foi cadastrada\n",
        "listaNovo.drop_duplicates( subset=\"questao\", keep='first', inplace=True)\n",
        "quantidade=listaNovo.groupby(\"idLista\").count()\n",
        "quantidade = quantidade.reset_index()\n",
        "quantidade = quantidade.drop('titulo',axis=1)\n",
        "quantidade.rename(columns={\"questao\":\"quantidade\"}, inplace=True)\n",
        "listaNovo= pd.merge(left = listaNovo, right = quantidade, on='idLista', how=\"right\")\n",
        "print(listaNovo.info())\n",
        "listaNovo.head()"
      ],
      "execution_count": 32,
      "outputs": [
        {
          "output_type": "stream",
          "text": [
            "<class 'pandas.core.frame.DataFrame'>\n",
            "Int64Index: 160 entries, 0 to 159\n",
            "Data columns (total 4 columns):\n",
            "idLista       160 non-null object\n",
            "questao       160 non-null object\n",
            "titulo        160 non-null object\n",
            "quantidade    160 non-null int64\n",
            "dtypes: int64(1), object(3)\n",
            "memory usage: 6.2+ KB\n",
            "None\n"
          ],
          "name": "stdout"
        },
        {
          "output_type": "execute_result",
          "data": {
            "text/html": [
              "<div>\n",
              "<style scoped>\n",
              "    .dataframe tbody tr th:only-of-type {\n",
              "        vertical-align: middle;\n",
              "    }\n",
              "\n",
              "    .dataframe tbody tr th {\n",
              "        vertical-align: top;\n",
              "    }\n",
              "\n",
              "    .dataframe thead th {\n",
              "        text-align: right;\n",
              "    }\n",
              "</style>\n",
              "<table border=\"1\" class=\"dataframe\">\n",
              "  <thead>\n",
              "    <tr style=\"text-align: right;\">\n",
              "      <th></th>\n",
              "      <th>idLista</th>\n",
              "      <th>questao</th>\n",
              "      <th>titulo</th>\n",
              "      <th>quantidade</th>\n",
              "    </tr>\n",
              "  </thead>\n",
              "  <tbody>\n",
              "    <tr>\n",
              "      <th>0</th>\n",
              "      <td>598cd57a3bc48946977dcf67</td>\n",
              "      <td>59885f8d684f4a3f78163c00</td>\n",
              "      <td>Lista de Laboratório 1 - Expressões Aritmética...</td>\n",
              "      <td>5</td>\n",
              "    </tr>\n",
              "    <tr>\n",
              "      <th>1</th>\n",
              "      <td>598cd57a3bc48946977dcf67</td>\n",
              "      <td>59887121d7c3703f96fda00c</td>\n",
              "      <td>Lista de Laboratório 1 - Expressões Aritmética...</td>\n",
              "      <td>5</td>\n",
              "    </tr>\n",
              "    <tr>\n",
              "      <th>2</th>\n",
              "      <td>598cd57a3bc48946977dcf67</td>\n",
              "      <td>59887c83684f4a3f78163c02</td>\n",
              "      <td>Lista de Laboratório 1 - Expressões Aritmética...</td>\n",
              "      <td>5</td>\n",
              "    </tr>\n",
              "    <tr>\n",
              "      <th>3</th>\n",
              "      <td>598cd57a3bc48946977dcf67</td>\n",
              "      <td>59888cb2d2f43b3f548ef054</td>\n",
              "      <td>Lista de Laboratório 1 - Expressões Aritmética...</td>\n",
              "      <td>5</td>\n",
              "    </tr>\n",
              "    <tr>\n",
              "      <th>4</th>\n",
              "      <td>598cd57a3bc48946977dcf67</td>\n",
              "      <td>59888ea5d2f43b3f548ef057</td>\n",
              "      <td>Lista de Laboratório 1 - Expressões Aritmética...</td>\n",
              "      <td>5</td>\n",
              "    </tr>\n",
              "  </tbody>\n",
              "</table>\n",
              "</div>"
            ],
            "text/plain": [
              "                    idLista  ... quantidade\n",
              "0  598cd57a3bc48946977dcf67  ...          5\n",
              "1  598cd57a3bc48946977dcf67  ...          5\n",
              "2  598cd57a3bc48946977dcf67  ...          5\n",
              "3  598cd57a3bc48946977dcf67  ...          5\n",
              "4  598cd57a3bc48946977dcf67  ...          5\n",
              "\n",
              "[5 rows x 4 columns]"
            ]
          },
          "metadata": {
            "tags": []
          },
          "execution_count": 32
        }
      ]
    },
    {
      "cell_type": "code",
      "metadata": {
        "id": "VxTKED7ed2lb",
        "colab_type": "code",
        "colab": {}
      },
      "source": [
        "tabSub.shape\n"
      ],
      "execution_count": 0,
      "outputs": []
    },
    {
      "cell_type": "markdown",
      "metadata": {
        "id": "R2jL99oWWQrA",
        "colab_type": "text"
      },
      "source": [
        "**Concatenar a tabela lista com a tabela submissoes pela coluna questao**"
      ]
    },
    {
      "cell_type": "code",
      "metadata": {
        "id": "rPOSLTgbWKXV",
        "colab_type": "code",
        "outputId": "698c5317-59fd-458a-905f-254db537c815",
        "colab": {
          "base_uri": "https://localhost:8080/",
          "height": 34
        }
      },
      "source": [
        "mergeSubLista = pd.merge(right= tabSub, left = listaNovo, on='questao', how=\"inner\")\n",
        "print(mergeSubLista.shape)"
      ],
      "execution_count": 33,
      "outputs": [
        {
          "output_type": "stream",
          "text": [
            "(48728, 7)\n"
          ],
          "name": "stdout"
        }
      ]
    },
    {
      "cell_type": "markdown",
      "metadata": {
        "id": "J8O0eASxGH5B",
        "colab_type": "text"
      },
      "source": [
        "**Retirar o ruído da tabela de submissões das litas de exercícios**\n",
        "<p>\n",
        "Submissão da mesma questão, com o mesmo valor de porcentagem de acerto, no mesmo dia e apenas a diferença de 3 segundos entre elas .. serão excluídas"
      ]
    },
    {
      "cell_type": "code",
      "metadata": {
        "id": "54Yz7UAVG5_G",
        "colab_type": "code",
        "outputId": "fa4cc75f-548e-4bc4-a0f9-1894cc752e6a",
        "colab": {
          "base_uri": "https://localhost:8080/",
          "height": 153
        }
      },
      "source": [
        "#apagar os registros com NAN\n",
        "mergeSubLista.dropna(inplace=True)\n",
        "\n",
        "#retirar as linhas duplicadas\n",
        "mergeSubLista = mergeSubLista.drop_duplicates()\n",
        "\n",
        "#ordenar por aluno e por data para saber qual a próxima submissão do aluno\n",
        "mergeSubLista.sort_values(by=[\"idAluno\",\"data\",\"questao\"], inplace=True)\n",
        "\n",
        "#Substituir os NAN por zero\n",
        "mergeSubLista.replace(np.nan, 0, inplace=True)\n",
        "\n",
        "#Reordenar os indices da tabela\n",
        "mergeSubLista.reset_index()\n",
        "\n",
        "#Tirar o problema de fuso horário\n",
        "mergeSubLista[\"data\"] = mergeSubLista[\"data\"].dt.tz_localize(None)\n",
        "\n",
        "#Criar um novo dataframe com os dados limpos\n",
        "newdf = pd.DataFrame()\n",
        "\n",
        "#\n",
        "prev=mergeSubLista.iloc[0]\n",
        "\n",
        "for index, row in mergeSubLista.iterrows():\n",
        "  if index == 0 or pd.isnull(row['data']) or pd.isnull(prev['data']):\n",
        "    continue # skip first row and rows with null data\n",
        "  a=prev[\"data\"]\n",
        "  b=row[\"data\"]\n",
        "  if prev[\"idAluno\"] != row[\"idAluno\"]:\n",
        "    newdf = newdf.append(prev)\n",
        "  elif (b-a).days > 0:\n",
        "    newdf = newdf.append(prev)\n",
        "  elif (b-a).total_seconds() >= 3:\n",
        "    newdf = newdf.append(prev)\n",
        "  prev = row\n",
        "print(newdf.count())\n",
        "\n"
      ],
      "execution_count": 19,
      "outputs": [
        {
          "output_type": "stream",
          "text": [
            "data                 47639\n",
            "idAluno              47639\n",
            "idLista              47639\n",
            "porcentagemAcerto    47639\n",
            "quantidade           47639\n",
            "questao              47639\n",
            "titulo               47639\n",
            "dtype: int64\n"
          ],
          "name": "stdout"
        }
      ]
    },
    {
      "cell_type": "markdown",
      "metadata": {
        "colab_type": "text",
        "id": "NE1G3460Y8Bo"
      },
      "source": [
        "**Criar um arquivo CSV com as informações das submissões e as informações da lista com titulo e quantidade**"
      ]
    },
    {
      "cell_type": "code",
      "metadata": {
        "id": "lGAjwirij4Af",
        "colab_type": "code",
        "colab": {}
      },
      "source": [
        "newdf.to_csv(r'lopSubLista.csv')"
      ],
      "execution_count": 0,
      "outputs": []
    }
  ]
}