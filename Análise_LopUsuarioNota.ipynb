{
  "nbformat": 4,
  "nbformat_minor": 0,
  "metadata": {
    "colab": {
      "name": "Análise LopUsuarioNota.ipynb",
      "version": "0.3.2",
      "provenance": [],
      "include_colab_link": true
    },
    "kernelspec": {
      "name": "python3",
      "display_name": "Python 3"
    }
  },
  "cells": [
    {
      "cell_type": "markdown",
      "metadata": {
        "id": "view-in-github",
        "colab_type": "text"
      },
      "source": [
        "<a href=\"https://colab.research.google.com/github/repitta/CienciaDeDadosEducacionais/blob/master/An%C3%A1lise_LopUsuarioNota.ipynb\" target=\"_parent\"><img src=\"https://colab.research.google.com/assets/colab-badge.svg\" alt=\"Open In Colab\"/></a>"
      ]
    },
    {
      "cell_type": "markdown",
      "metadata": {
        "id": "XGQpFL6A4nbc",
        "colab_type": "text"
      },
      "source": [
        "**Importando as Bibliotecas**"
      ]
    },
    {
      "cell_type": "code",
      "metadata": {
        "id": "Wt7tFqyv4XGZ",
        "colab_type": "code",
        "colab": {}
      },
      "source": [
        "import pandas as pd\n",
        "from csv import reader\n",
        "import matplotlib.pyplot as plt\n",
        "import seaborn as sns\n",
        "import numpy as np"
      ],
      "execution_count": 0,
      "outputs": []
    },
    {
      "cell_type": "markdown",
      "metadata": {
        "id": "epxJHQYb4s4x",
        "colab_type": "text"
      },
      "source": [
        "**Lendo o arquivo CSV lopUsuarioNota**"
      ]
    },
    {
      "cell_type": "code",
      "metadata": {
        "id": "-wG5f2GB41Ht",
        "colab_type": "code",
        "colab": {}
      },
      "source": [
        "# Ler o arquivo CSV \n",
        "lopNotasLista  = pd.read_csv(\"https://github.com/repitta/CienciaDeDadosEducacionais/raw/master/arquivosCSV/lopUsuarioNota.csv\")\n",
        "lopNotasProva  = pd.read_csv(\"https://raw.githubusercontent.com/repitta/CienciaDeDadosEducacionais/master/arquivosCSV/lopUsuarioNotaProva.csv\")"
      ],
      "execution_count": 0,
      "outputs": []
    },
    {
      "cell_type": "markdown",
      "metadata": {
        "id": "93JMoac55L4g",
        "colab_type": "text"
      },
      "source": [
        "**Estrutura do aquivo**"
      ]
    },
    {
      "cell_type": "code",
      "metadata": {
        "id": "QDs57tAs5O6S",
        "colab_type": "code",
        "colab": {}
      },
      "source": [
        "print(lopNotasLista.info())\n",
        "print(lopNotasLista.head())\n",
        "print(lopNotasProva.info())\n",
        "print(lopNotasProva.head())\n"
      ],
      "execution_count": 0,
      "outputs": []
    },
    {
      "cell_type": "markdown",
      "metadata": {
        "id": "Hw6g0Ygy5iCH",
        "colab_type": "text"
      },
      "source": [
        "**Pré-processamento**"
      ]
    },
    {
      "cell_type": "code",
      "metadata": {
        "id": "o2cYshi75tKA",
        "colab_type": "code",
        "colab": {}
      },
      "source": [
        "##Tabela lopNotasLista\n",
        "#excluir a coluna Unnamed\n",
        "lopNotasLista = lopNotasLista[['titulo', 'idAluno', 'questoesFeitas', 'quantidade','NotaLista', 'ano', 'descricaoTurma', 'idTurma', 'matricula',\"nome\"]]\n",
        "#dividir a coluna NotasLista por 10 , pq elas estão em porcentagem\n",
        "lopNotasLista[\"NotaLista\"] = lopNotasLista[\"NotaLista\"] /10\n",
        "#colocar letra maiuscula na coluna nome\n",
        "lopNotasLista[\"nome\"] = lopNotasLista[\"nome\"].str.upper()\n",
        "\n",
        "##Tabela lopNotasProva\n",
        "#lopNotasProva = lopNotasProva.dropna(axis=1, how='all') \n",
        "lopNotasProva = lopNotasProva[['tituloProva', 'idAluno', 'questoesFeitasProva', 'quantidadeProva','notaProva', 'ano', 'descricaoTurma', 'idTurma', 'matricula',\"nome\"]]\n",
        "#dividir a coluna NotasLista por 10 , pq elas estão em porcentagem\n",
        "lopNotasProva[\"notaProva\"] = lopNotasProva[\"notaProva\"] /10\n",
        "#colocar letra maiuscula na coluna nome\n",
        "lopNotasProva[\"nome\"] = lopNotasProva[\"nome\"].str.upper()"
      ],
      "execution_count": 0,
      "outputs": []
    },
    {
      "cell_type": "markdown",
      "metadata": {
        "id": "HBnpxu7ELfXr",
        "colab_type": "text"
      },
      "source": [
        "**Funcao para formar a tabela de notas de todas as listas de exercicios**"
      ]
    },
    {
      "cell_type": "code",
      "metadata": {
        "id": "yflcDtDzC16E",
        "colab_type": "code",
        "colab": {}
      },
      "source": [
        "def tabelaNotasLista(ano,turma):\n",
        "  colunas    = [\"matricula\",\"nome\"]\n",
        "  tabelaListas = pd.DataFrame(columns=colunas)\n",
        "  listas = [\"Exercícios 5\", \"Exercícios 4.1\", \"Exercícios 4\", \"Exercícios 3\", \"Exercícios 2\",\"Exercícios 1\",\n",
        "            \"Laboratório 5\",\"Laboratório 4\", \"Laboratório 3\", \"Laboratório 2\",\"Laboratório 1\"]\n",
        "  for l in listas:\n",
        "    notasTurma = lopNotasLista.loc[(lopNotasLista[\"ano\"] == ano) & (lopNotasLista[\"descricaoTurma\"].str.contains(turma, regex=False)) &\n",
        "                 (lopNotasLista[\"titulo\"].str.contains(l, regex=False)),[\"matricula\",\"nome\",\"NotaLista\",\"questoesFeitas\"]]\n",
        "    notasTurma = notasTurma.sort_values(\"nome\")\n",
        "    tabelaListas = pd.merge(notasTurma,tabelaListas,on=['matricula','nome'], how=\"outer\") \n",
        "    \n",
        "  tabelaListas.columns = ['matricula', 'nome',\"lab1\",\"qLab1\",\"lab2\",\"qLab2\",\"lab3\",\"qLab3\",\"lab4\",\"qLab4\",\"lab5\",\"qLab5\",\"exe1\",\"qexe1\",\"exe2\",\"qexe2\",\n",
        "  \"exe3\",\"qexe3\",\"exe4\",\"qexe4\",\"exe4.1\",\"qexe4.1\",\"exe5\",\"qexe5\"]\n",
        "  tabelaListas = tabelaListas.drop_duplicates()\n",
        "  tabelaListas = tabelaListas.sort_values('nome')\n",
        "  return tabelaListas\n",
        "  \n",
        "tabelaLista = tabelaNotasLista(2019.1,\"Turma 02D\")\n",
        "tabelaLista.to_excel(r'tabelaNotas2019Turma02D.xls')\n"
      ],
      "execution_count": 0,
      "outputs": []
    },
    {
      "cell_type": "markdown",
      "metadata": {
        "id": "HMpIBYKl7NmP",
        "colab_type": "text"
      },
      "source": [
        "**Função para formar a tabela das notas de todas as provas**"
      ]
    },
    {
      "cell_type": "code",
      "metadata": {
        "id": "5PkSsyQ17Uhd",
        "colab_type": "code",
        "colab": {}
      },
      "source": [
        "colunas    = [\"matricula\",\"nome\"]\n",
        "tabelaProvas = pd.DataFrame(columns=colunas)\n",
        "ano = 2019.1\n",
        "turma = \"01D\"\n",
        "titulo = lopNotasProva.loc[(lopNotasProva[\"ano\"] == ano)  & (lopNotasProva[\"descricaoTurma\"].str.contains(turma, regex=False)),\"tituloProva\"].unique()\n",
        "for l in titulo:\n",
        "  notasProva =lopNotasProva.loc[(lopNotasProva[\"ano\"] == ano)  & (lopNotasProva[\"descricaoTurma\"].str.contains(turma, regex=False)) & (lopNotasProva[\"tituloProva\"].str.contains(l, regex=False)),\n",
        "                           [\"matricula\", \"nome\",\"notaProva\",\"tituloProva\", \"quantidadeProva\", \"questoesFeitasProva\"]]\n",
        "  tabelaProvas = pd.concat([notasProva,tabelaProvas], ignore_index=True, axis = 0, sort=True)\n",
        "tabelaProvas = tabelaProvas.sort_values(\"nome\")\n",
        "tabelaProvas.to_excel(r'tabelaNotasProva2019Turma01D.xls')"
      ],
      "execution_count": 0,
      "outputs": []
    },
    {
      "cell_type": "markdown",
      "metadata": {
        "id": "iFU35o2_H7Sz",
        "colab_type": "text"
      },
      "source": [
        "**Tabela de notas e quantidade de questões feitas por aluno por turma por lista**"
      ]
    },
    {
      "cell_type": "code",
      "metadata": {
        "id": "wVe7xdltIAO-",
        "colab_type": "code",
        "colab": {}
      },
      "source": [
        "notasTurma = lopNotas.loc[(lopNotas[\"ano\"] == 2019.1) & (lopNotas[\"descricaoTurma\"].str.contains(\"Turma 01A\", regex=False)) &\n",
        "                          (lopNotas[\"titulo\"].str.contains(\"Lista de Exercícios 4\", regex=False)),[\"nome\",\"NotaLista\",\"questoesFeitas\"]]\n",
        "notasTurma = notasTurma.sort_values(\"nome\")\n",
        "print(\"Quantidade de alunos que fizeram a lista:\", notasTurma.shape[0])\n",
        "print(notasTurma)\n"
      ],
      "execution_count": 0,
      "outputs": []
    },
    {
      "cell_type": "code",
      "metadata": {
        "id": "BEq2xAPShPP4",
        "colab_type": "code",
        "colab": {}
      },
      "source": [
        "quanListAluno.loc[quanListAluno[\"titulo\"].str.contains(\"Lista de Exercícios 1\", regex=False),[\"ano\",\"idAluno\",\"totalAlunos\"]]"
      ],
      "execution_count": 0,
      "outputs": []
    },
    {
      "cell_type": "code",
      "metadata": {
        "id": "OYz6dc9NOkui",
        "colab_type": "code",
        "colab": {}
      },
      "source": [
        "quanListAluno.head()"
      ],
      "execution_count": 0,
      "outputs": []
    },
    {
      "cell_type": "markdown",
      "metadata": {
        "id": "lndCAAs_7kOV",
        "colab_type": "text"
      },
      "source": [
        "**Gráfico para mostrar a quantidade de alunos que enviaram as listas ao longo dos anos**"
      ]
    },
    {
      "cell_type": "code",
      "metadata": {
        "id": "XUwNMwoO7CPk",
        "colab_type": "code",
        "colab": {}
      },
      "source": [
        "#Contar quantos alunos submeteram cada lista ao longo do tempo\n",
        "quanLista = lopNotas.groupby(['titulo','ano']).count()\n",
        "quanLista = quanLista.reset_index()\n",
        "#print(quanLista.head())\n",
        "\n",
        "#contar quantos alunos estão cadastrados ao longo do tempo\n",
        "c = lopNotas.groupby('ano')[\"idAluno\"].unique()\n",
        "c = c.reset_index()\n",
        "alunoAno ={}\n",
        "dtAlunoAno = pd.DataFrame()\n",
        "for i in c[\"ano\"].unique():\n",
        "  q = c.loc[c[\"ano\"] == i ,\"idAluno\"]\n",
        "  alunoAno[i] = len(q.iloc[0])\n",
        "dtAlunoAno[\"ano\"] = alunoAno.keys()\n",
        "dtAlunoAno[\"totalAlunos\"] = alunoAno.values()\n",
        "#dtAlunoAno\n",
        "\n",
        "quanListAluno = pd.merge(dtAlunoAno,quanLista,on=['ano'], how=\"outer\")\n",
        "quanListAluno = quanListAluno.reset_index()\n",
        "\n",
        "# Creating graphics with Seaborn\n",
        "gQuandLista = sns.FacetGrid(quanListAluno, col = \"titulo\", col_wrap =2, height=3, aspect=2, sharex=False)\n",
        "bp=gQuandLista.map(sns.barplot,\"ano\",\"idAluno\" ,palette=sns.color_palette(['red','green']))\n",
        "\n",
        "bp.add_legend()\n",
        "bp.set_titles(\"{col_name}\")\n",
        "bp.set_ylabels(\"quantidade\")\n",
        "bp.set_xlabels(\"ano\")\n",
        "plt.show()\n"
      ],
      "execution_count": 0,
      "outputs": []
    },
    {
      "cell_type": "code",
      "metadata": {
        "id": "rjUq6lslae8c",
        "colab_type": "code",
        "colab": {}
      },
      "source": [
        "data=pd.DataFrame({'A':['X','X','Y','Y','X','X','Y','Y'],\n",
        "               'B':[0,1,2,3,4,5,6,7],\n",
        "               'C':[1,1,1,1,2,2,2,2],\n",
        "               'type':['ctrl','cond1','ctrl','cond1','ctrl','cond1','ctrl','cond1']})\n",
        "print(data.head(2))\n",
        "print(quanListAluno.head(2))"
      ],
      "execution_count": 0,
      "outputs": []
    },
    {
      "cell_type": "markdown",
      "metadata": {
        "id": "s02qkU2DFCGx",
        "colab_type": "text"
      },
      "source": [
        "**Gráfico para mostrar as médias das notas das listas ao longo do tempo**"
      ]
    },
    {
      "cell_type": "code",
      "metadata": {
        "id": "eUH1K_qHFPPT",
        "colab_type": "code",
        "colab": {}
      },
      "source": [
        "mediaNota = lopNotas.groupby(['titulo','ano'])[\"NotaLista\"].mean()\n",
        "mediaNota = mediaNota.reset_index()\n",
        "#print(mediaNota[[\"titulo\",'NotaLista',\"ano\"]])\n",
        "\n",
        "# Creating graphics with Seaborn\n",
        "gMediaNota = sns.FacetGrid(mediaNota, col = \"titulo\", col_wrap=2, height=3, aspect=2, sharex=False)\n",
        "gMediaNota.map(sns.barplot,\"ano\", \"NotaLista\")\n",
        "plt.show()"
      ],
      "execution_count": 0,
      "outputs": []
    }
  ]
}