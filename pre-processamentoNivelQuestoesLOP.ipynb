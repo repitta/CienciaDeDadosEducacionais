{
  "nbformat": 4,
  "nbformat_minor": 0,
  "metadata": {
    "colab": {
      "name": "pre-processamentoNivelQuestoesLOP.ipynb",
      "provenance": [],
      "include_colab_link": true
    },
    "kernelspec": {
      "name": "python3",
      "display_name": "Python 3"
    }
  },
  "cells": [
    {
      "cell_type": "markdown",
      "metadata": {
        "id": "view-in-github",
        "colab_type": "text"
      },
      "source": [
        "<a href=\"https://colab.research.google.com/github/repitta/CienciaDeDadosEducacionais/blob/master/pre-processamentoNivelQuestoesLOP.ipynb\" target=\"_parent\"><img src=\"https://colab.research.google.com/assets/colab-badge.svg\" alt=\"Open In Colab\"/></a>"
      ]
    },
    {
      "cell_type": "code",
      "metadata": {
        "id": "0aJEIsaXM5fi",
        "colab_type": "code",
        "colab": {}
      },
      "source": [
        "#importar as bibliotecas\n",
        "import pandas as pd"
      ],
      "execution_count": 0,
      "outputs": []
    },
    {
      "cell_type": "code",
      "metadata": {
        "id": "zV62t2VMMRfN",
        "colab_type": "code",
        "colab": {}
      },
      "source": [
        "#ler o arquivo das questoes\n",
        "lop_questoes = pd.read_csv(\"https://github.com/repitta/CienciaDeDadosEducacionais/raw/master/arquivosCSV/lop_db_2019_09_csv/lop.questoes.csv\")"
      ],
      "execution_count": 0,
      "outputs": []
    },
    {
      "cell_type": "code",
      "metadata": {
        "id": "_0Dhd7HJNMUW",
        "colab_type": "code",
        "colab": {
          "base_uri": "https://localhost:8080/",
          "height": 198
        },
        "outputId": "f8b9cf91-1915-4cb6-8caf-839eef1c89fc"
      },
      "source": [
        "lop_questoes = lop_questoes[[\"_id\",\"dificuldade\",\"enunciado\"]]\n",
        "lop_questoes.head()"
      ],
      "execution_count": 7,
      "outputs": [
        {
          "output_type": "execute_result",
          "data": {
            "text/html": [
              "<div>\n",
              "<style scoped>\n",
              "    .dataframe tbody tr th:only-of-type {\n",
              "        vertical-align: middle;\n",
              "    }\n",
              "\n",
              "    .dataframe tbody tr th {\n",
              "        vertical-align: top;\n",
              "    }\n",
              "\n",
              "    .dataframe thead th {\n",
              "        text-align: right;\n",
              "    }\n",
              "</style>\n",
              "<table border=\"1\" class=\"dataframe\">\n",
              "  <thead>\n",
              "    <tr style=\"text-align: right;\">\n",
              "      <th></th>\n",
              "      <th>_id</th>\n",
              "      <th>dificuldade</th>\n",
              "      <th>enunciado</th>\n",
              "    </tr>\n",
              "  </thead>\n",
              "  <tbody>\n",
              "    <tr>\n",
              "      <th>0</th>\n",
              "      <td>59885f8d684f4a3f78163c00</td>\n",
              "      <td>Fácil</td>\n",
              "      <td>[L1-Q5] Escreva um programa que recebe a massa...</td>\n",
              "    </tr>\n",
              "    <tr>\n",
              "      <th>1</th>\n",
              "      <td>59887121d7c3703f96fda00c</td>\n",
              "      <td>Médio</td>\n",
              "      <td>[L1-Q9] Implemente um programa que calcula o v...</td>\n",
              "    </tr>\n",
              "    <tr>\n",
              "      <th>2</th>\n",
              "      <td>59887c83684f4a3f78163c02</td>\n",
              "      <td>Médio</td>\n",
              "      <td>[L1-Q12] Implemente um programa que recebe um ...</td>\n",
              "    </tr>\n",
              "    <tr>\n",
              "      <th>3</th>\n",
              "      <td>59888cb2d2f43b3f548ef054</td>\n",
              "      <td>Muito fácil</td>\n",
              "      <td>[L1-Q10] Faça um programa que recebe 2 valores...</td>\n",
              "    </tr>\n",
              "    <tr>\n",
              "      <th>4</th>\n",
              "      <td>59888ea5d2f43b3f548ef057</td>\n",
              "      <td>Muito fácil</td>\n",
              "      <td>[L1-Q11] Escreva um programa que recebe um núm...</td>\n",
              "    </tr>\n",
              "  </tbody>\n",
              "</table>\n",
              "</div>"
            ],
            "text/plain": [
              "                        _id  ...                                          enunciado\n",
              "0  59885f8d684f4a3f78163c00  ...  [L1-Q5] Escreva um programa que recebe a massa...\n",
              "1  59887121d7c3703f96fda00c  ...  [L1-Q9] Implemente um programa que calcula o v...\n",
              "2  59887c83684f4a3f78163c02  ...  [L1-Q12] Implemente um programa que recebe um ...\n",
              "3  59888cb2d2f43b3f548ef054  ...  [L1-Q10] Faça um programa que recebe 2 valores...\n",
              "4  59888ea5d2f43b3f548ef057  ...  [L1-Q11] Escreva um programa que recebe um núm...\n",
              "\n",
              "[5 rows x 3 columns]"
            ]
          },
          "metadata": {
            "tags": []
          },
          "execution_count": 7
        }
      ]
    },
    {
      "cell_type": "code",
      "metadata": {
        "id": "OC1O0c2yOZqF",
        "colab_type": "code",
        "colab": {
          "base_uri": "https://localhost:8080/",
          "height": 618
        },
        "outputId": "a812d976-d84d-43b0-d9db-b8fbddc6fc4b"
      },
      "source": [
        "a = lop_questoes.loc[lop_questoes[\"enunciado\"].str.contains(r\"L1-\"),:]\n",
        "a"
      ],
      "execution_count": 13,
      "outputs": [
        {
          "output_type": "execute_result",
          "data": {
            "text/html": [
              "<div>\n",
              "<style scoped>\n",
              "    .dataframe tbody tr th:only-of-type {\n",
              "        vertical-align: middle;\n",
              "    }\n",
              "\n",
              "    .dataframe tbody tr th {\n",
              "        vertical-align: top;\n",
              "    }\n",
              "\n",
              "    .dataframe thead th {\n",
              "        text-align: right;\n",
              "    }\n",
              "</style>\n",
              "<table border=\"1\" class=\"dataframe\">\n",
              "  <thead>\n",
              "    <tr style=\"text-align: right;\">\n",
              "      <th></th>\n",
              "      <th>_id</th>\n",
              "      <th>dificuldade</th>\n",
              "      <th>enunciado</th>\n",
              "    </tr>\n",
              "  </thead>\n",
              "  <tbody>\n",
              "    <tr>\n",
              "      <th>0</th>\n",
              "      <td>59885f8d684f4a3f78163c00</td>\n",
              "      <td>Fácil</td>\n",
              "      <td>[L1-Q5] Escreva um programa que recebe a massa...</td>\n",
              "    </tr>\n",
              "    <tr>\n",
              "      <th>1</th>\n",
              "      <td>59887121d7c3703f96fda00c</td>\n",
              "      <td>Médio</td>\n",
              "      <td>[L1-Q9] Implemente um programa que calcula o v...</td>\n",
              "    </tr>\n",
              "    <tr>\n",
              "      <th>2</th>\n",
              "      <td>59887c83684f4a3f78163c02</td>\n",
              "      <td>Médio</td>\n",
              "      <td>[L1-Q12] Implemente um programa que recebe um ...</td>\n",
              "    </tr>\n",
              "    <tr>\n",
              "      <th>3</th>\n",
              "      <td>59888cb2d2f43b3f548ef054</td>\n",
              "      <td>Muito fácil</td>\n",
              "      <td>[L1-Q10] Faça um programa que recebe 2 valores...</td>\n",
              "    </tr>\n",
              "    <tr>\n",
              "      <th>4</th>\n",
              "      <td>59888ea5d2f43b3f548ef057</td>\n",
              "      <td>Muito fácil</td>\n",
              "      <td>[L1-Q11] Escreva um programa que recebe um núm...</td>\n",
              "    </tr>\n",
              "    <tr>\n",
              "      <th>6</th>\n",
              "      <td>59943356a76e28186bdf566e</td>\n",
              "      <td>Muito fácil</td>\n",
              "      <td>[L1-Q1] Escreva um programa que exibe a seguin...</td>\n",
              "    </tr>\n",
              "    <tr>\n",
              "      <th>7</th>\n",
              "      <td>5994434aa76e28186bdf5672</td>\n",
              "      <td>Fácil</td>\n",
              "      <td>[L1-Q4] Escreva um programa que recebe um núme...</td>\n",
              "    </tr>\n",
              "    <tr>\n",
              "      <th>8</th>\n",
              "      <td>5994485a487ae0183f7dbffa</td>\n",
              "      <td>Muito fácil</td>\n",
              "      <td>[L1-Q6] Implemente um programa que recebe um v...</td>\n",
              "    </tr>\n",
              "    <tr>\n",
              "      <th>9</th>\n",
              "      <td>5994498d0875c31866aa6922</td>\n",
              "      <td>Muito fácil</td>\n",
              "      <td>[L1-Q7] Escreva um programa que, dado o valor ...</td>\n",
              "    </tr>\n",
              "    <tr>\n",
              "      <th>83</th>\n",
              "      <td>59c6dd3e1ad5f80f70aa69a2</td>\n",
              "      <td>Muito fácil</td>\n",
              "      <td>[L1-Q1] Escreva um programa para exibir a mens...</td>\n",
              "    </tr>\n",
              "    <tr>\n",
              "      <th>84</th>\n",
              "      <td>59c6e61b1ad5f80f70aa69a8</td>\n",
              "      <td>Muito fácil</td>\n",
              "      <td>[L1-Q3] Escreva um programa que recebe um núme...</td>\n",
              "    </tr>\n",
              "    <tr>\n",
              "      <th>85</th>\n",
              "      <td>59c6e8d83793210f935e48c7</td>\n",
              "      <td>Fácil</td>\n",
              "      <td>[L1-Q4]Escreva um programa que recebe um númer...</td>\n",
              "    </tr>\n",
              "    <tr>\n",
              "      <th>86</th>\n",
              "      <td>59c6ead1989d8a0f982aa3cf</td>\n",
              "      <td>Muito fácil</td>\n",
              "      <td>[L1-Q8] - Escreva um programa que recebe a alt...</td>\n",
              "    </tr>\n",
              "    <tr>\n",
              "      <th>88</th>\n",
              "      <td>59c6ee083793210f935e48d3</td>\n",
              "      <td>Fácil</td>\n",
              "      <td>[L1-Q7]Escreva um programa que, dado o valor d...</td>\n",
              "    </tr>\n",
              "    <tr>\n",
              "      <th>89</th>\n",
              "      <td>59c6f36b1ad5f80f70aa69b2</td>\n",
              "      <td>Muito fácil</td>\n",
              "      <td>[L1-Q2]Considerando os seguintes valores para ...</td>\n",
              "    </tr>\n",
              "    <tr>\n",
              "      <th>154</th>\n",
              "      <td>5ac22eade1b024040e6831bc</td>\n",
              "      <td>Muito fácil</td>\n",
              "      <td>[L1-Q17] Faça um programa que recebe um valor ...</td>\n",
              "    </tr>\n",
              "    <tr>\n",
              "      <th>157</th>\n",
              "      <td>5ad7cabc241ada0408e6aa1f</td>\n",
              "      <td>Muito fácil</td>\n",
              "      <td>[L1-13] - O custo ao consumidor de um carro no...</td>\n",
              "    </tr>\n",
              "    <tr>\n",
              "      <th>158</th>\n",
              "      <td>5ad7ce49241ada0408e6aa22</td>\n",
              "      <td>Muito fácil</td>\n",
              "      <td>[L1-Q14] - Implemente um programa que recebe s...</td>\n",
              "    </tr>\n",
              "    <tr>\n",
              "      <th>182</th>\n",
              "      <td>5b715cc49513a60408ac24ae</td>\n",
              "      <td>Muito fácil</td>\n",
              "      <td>[L1-Q16] Implemente um programa que lê um núme...</td>\n",
              "    </tr>\n",
              "  </tbody>\n",
              "</table>\n",
              "</div>"
            ],
            "text/plain": [
              "                          _id  ...                                          enunciado\n",
              "0    59885f8d684f4a3f78163c00  ...  [L1-Q5] Escreva um programa que recebe a massa...\n",
              "1    59887121d7c3703f96fda00c  ...  [L1-Q9] Implemente um programa que calcula o v...\n",
              "2    59887c83684f4a3f78163c02  ...  [L1-Q12] Implemente um programa que recebe um ...\n",
              "3    59888cb2d2f43b3f548ef054  ...  [L1-Q10] Faça um programa que recebe 2 valores...\n",
              "4    59888ea5d2f43b3f548ef057  ...  [L1-Q11] Escreva um programa que recebe um núm...\n",
              "6    59943356a76e28186bdf566e  ...  [L1-Q1] Escreva um programa que exibe a seguin...\n",
              "7    5994434aa76e28186bdf5672  ...  [L1-Q4] Escreva um programa que recebe um núme...\n",
              "8    5994485a487ae0183f7dbffa  ...  [L1-Q6] Implemente um programa que recebe um v...\n",
              "9    5994498d0875c31866aa6922  ...  [L1-Q7] Escreva um programa que, dado o valor ...\n",
              "83   59c6dd3e1ad5f80f70aa69a2  ...  [L1-Q1] Escreva um programa para exibir a mens...\n",
              "84   59c6e61b1ad5f80f70aa69a8  ...  [L1-Q3] Escreva um programa que recebe um núme...\n",
              "85   59c6e8d83793210f935e48c7  ...  [L1-Q4]Escreva um programa que recebe um númer...\n",
              "86   59c6ead1989d8a0f982aa3cf  ...  [L1-Q8] - Escreva um programa que recebe a alt...\n",
              "88   59c6ee083793210f935e48d3  ...  [L1-Q7]Escreva um programa que, dado o valor d...\n",
              "89   59c6f36b1ad5f80f70aa69b2  ...  [L1-Q2]Considerando os seguintes valores para ...\n",
              "154  5ac22eade1b024040e6831bc  ...  [L1-Q17] Faça um programa que recebe um valor ...\n",
              "157  5ad7cabc241ada0408e6aa1f  ...  [L1-13] - O custo ao consumidor de um carro no...\n",
              "158  5ad7ce49241ada0408e6aa22  ...  [L1-Q14] - Implemente um programa que recebe s...\n",
              "182  5b715cc49513a60408ac24ae  ...  [L1-Q16] Implemente um programa que lê um núme...\n",
              "\n",
              "[19 rows x 3 columns]"
            ]
          },
          "metadata": {
            "tags": []
          },
          "execution_count": 13
        }
      ]
    }
  ]
}